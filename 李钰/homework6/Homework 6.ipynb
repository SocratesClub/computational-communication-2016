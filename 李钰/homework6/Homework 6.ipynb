{
 "cells": [
  {
   "cell_type": "code",
   "execution_count": null,
   "metadata": {
    "collapsed": true
   },
   "outputs": [],
   "source": [
    "import csv\n",
    "\n",
    "lines = csv.reader((line.replace('\\x00','') for line in chunk[1:]), delimiter=',', quotechar='\"')\n",
    "tweet_user_data = [(i[1], i[8]) for i in lines]\n",
    "for tweet,user in tweet_user_data:\n",
    "    rt_user = extract_rt_user(tweet)\n",
    "    if rt_user:\n",
    "        print rt_user, ',', user"
   ]
  }
 ],
 "metadata": {
  "kernelspec": {
   "display_name": "Python 2",
   "language": "python",
   "name": "python2"
  },
  "language_info": {
   "codemirror_mode": {
    "name": "ipython",
    "version": 2
   },
   "file_extension": ".py",
   "mimetype": "text/x-python",
   "name": "python",
   "nbconvert_exporter": "python",
   "pygments_lexer": "ipython2",
   "version": "2.7.11"
  }
 },
 "nbformat": 4,
 "nbformat_minor": 0
}
