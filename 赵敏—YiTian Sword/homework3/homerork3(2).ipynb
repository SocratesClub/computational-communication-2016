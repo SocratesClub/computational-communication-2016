{
 "cells": [
  {
   "cell_type": "code",
   "execution_count": 2,
   "metadata": {
    "collapsed": true
   },
   "outputs": [],
   "source": [
    "import urllib2\n",
    "from bs4 import BeautifulSoup\n",
    "url=\"http://mp.weixin.qq.com/s?__biz=MjM5MTA4MjE5OA==&mid=412633719&idx=1&sn=2fe14efcc39b1520967f10a898daa8ba&scene=0#wechat_redirect\"\n",
    "content=urllib2.urlopen(url).read()"
   ]
  },
  {
   "cell_type": "code",
   "execution_count": 6,
   "metadata": {
    "collapsed": false
   },
   "outputs": [],
   "source": [
    "soup=BeautifulSoup(content,'html.parser')"
   ]
  },
  {
   "cell_type": "code",
   "execution_count": 7,
   "metadata": {
    "collapsed": false
   },
   "outputs": [
    {
     "name": "stdout",
     "output_type": "stream",
     "text": [
      "科比中国演讲:作为一个球员，我与生俱来的激情就是想要赢\n"
     ]
    }
   ],
   "source": [
    "print soup.title.text"
   ]
  },
  {
   "cell_type": "code",
   "execution_count": 10,
   "metadata": {
    "collapsed": false
   },
   "outputs": [
    {
     "name": "stdout",
     "output_type": "stream",
     "text": [
      "2016-04-14\n"
     ]
    }
   ],
   "source": [
    "print soup.find('div',{'class','rich_media_meta_list'}).find(id='post-date').text"
   ]
  },
  {
   "cell_type": "code",
   "execution_count": 11,
   "metadata": {
    "collapsed": false
   },
   "outputs": [
    {
     "name": "stdout",
     "output_type": "stream",
     "text": [
      "\n",
      "回复“晚安”，送你每日一言要抓住一切机会，向所有人证明你自己。向那些说“你永远不可能成功，你一定会失败”的人证明，你能够迎接挑战。——麦子导读科比2013年在央视《开讲啦》的演说 5’59”演讲全文大家好！黑曼巴是世界上一种拥有致命剧毒的蛇，为什么我取这个名字呢？是因为我一旦进入赛场，我就是致命的，就像黑曼巴一样。所以在场下我可以开玩笑什么的，但我一旦进入赛场，我马上会像换了一个人一样，在球场上全神贯注。我现在35岁了，算是快走到了职业生涯的尾巴。像这样的一些受伤的情况也会发生在我身上了，一旦受伤，就会觉得一切都要完了。这不是膝盖受伤、肩膀受伤的问题，而是许多人因此终止了整个职业生涯。有些人因此一蹶不振，甚至无法再返回赛场。这个时刻我会看着镜子中的自己说：科比你要怎么办？我见到很多人受伤后回不到赛场上来。我看着镜子中的自己喃喃自语说，也许是时候退出了？是不是应该停止打球 了？我不知道还能否返回赛场。我现在坐在这里告诉你，我要完全康复回到球场。但我不敢打包票，因为很多时候我也有疑问。但是我觉得，这才是迎接挑战的意义所在。要抓住一切机会，向所有人证明你自己，证明你能够迎接挑战。向那些说“你永远不可能成功，你一定会失败”的人证明，这就是我的看法。如果有人说你这次受伤，要一蹶不振了，可能别人受了这种伤会退出，但是科比不能这样。别人说这下你不行了，我会说，“如果是你这样你才会退出吧，而我不会。”所以我必须要证明给他们看，尤其是给那些支持我、热爱我的粉丝们，我一定要赢了自己，要赢了伤痛，能够重返赛场。这样才能让那些怀疑我的人重新思考，什么叫将不可能的变成可能。这些伤疤的重要性就体现在这里，这些伤疤就是我成长转变的体现。作为一个球员，我与生俱来的激情就是想要成功，想要赢。同时也是人生最难却最重要的事情。作为一个球员，要到球场上去迎接最大的挑战，我觉得最大的挑战就是要把全队的人变成像一个人那样，要不断地、不断地取得胜利，这就是团队竞技比赛的最大挑战，这也正是我的激情所在。对我个人来说，最重要的事是不断地迎接挑战，而且永不畏惧挑战。要对事物保持不断的好奇心，比如说怎么样打得更好、怎么样提高技巧、怎么样从别人身上学到什么。其实我从小到现在一直从各个方面寻找激励我的因素，不仅仅从迈克尔·乔丹身上，从魔术师埃尔文·约翰逊身上，还从迈克尔·杰克逊、贝多芬、达芬奇、李小龙身上，这些伟大的人给了我激励、让我前进，而这就是黑曼巴的精神。并不是说你要不断进攻别人，而是要永不停歇你前进的脚步。人生是学无止境的，于是不断学习就显得极为重要。你要不断地学习学习再学习，和别人交谈、了解，而不是觉得你自己什么都懂。只有这样，你才能成为一个更好的人，你的技巧才能进一步提高。最后才会有一个副产品，成为冠军，成为更好的自己。对我来说这就是黑曼巴的精神，我的精神源头所在。所以如果我能够把这种精神传递给在座的各位，不管你想要做什么：成为一个篮球运动员，一个作家或者是主持人……不管你的梦想是什么，你们一定要坚持梦想，从成功的前人身上汲取经验和知识。各行各业的成功人士，他们身上都有一些共性使得他们脱颖而出、取得成功，这就是我今天想要传递给各位的正能量。— THE END —推荐阅读关注「麦子熟了」，回复数字 102，查看本月8篇热门阅读集结1 《老娘有钱，关你屁事》2 《我25岁就把自己杀了，只是到75岁才入土》3 《男朋友不给你彩礼，能嫁给他吗》4 《我发朋友圈又不是为了取悦你》5 《你还在靠一份工资过活吗》6 《关键时刻意见不合，高情商的人会怎么做》7 《闪婚四年：婚姻不是两个人的相处，而是一个人的修炼》8 《深度思考比勤奋更重要》| 麦 子 熟 了 |文章百里挑一，不鸡汤不励志，遇见即改变投稿邮箱：maizi8090@qq.com麦子熟了正在有奖征集新Logo！即刻投稿，百万读者等着给你的设计作品投票！点击底部“阅读原文”了解征稿详情。\n",
      "\n"
     ]
    }
   ],
   "source": [
    "print soup.find('div',{'class','rich_media_content'}).get_text()"
   ]
  }
 ],
 "metadata": {
  "kernelspec": {
   "display_name": "Python 2",
   "language": "python",
   "name": "python2"
  },
  "language_info": {
   "codemirror_mode": {
    "name": "ipython",
    "version": 2
   },
   "file_extension": ".py",
   "mimetype": "text/x-python",
   "name": "python",
   "nbconvert_exporter": "python",
   "pygments_lexer": "ipython2",
   "version": "2.7.10"
  }
 },
 "nbformat": 4,
 "nbformat_minor": 0
}
