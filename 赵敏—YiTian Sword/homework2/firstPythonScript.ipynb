{
 "cells": [
  {
   "cell_type": "code",
   "execution_count": 2,
   "metadata": {
    "collapsed": false
   },
   "outputs": [
    {
     "name": "stdout",
     "output_type": "stream",
     "text": [
      "hello word\n"
     ]
    }
   ],
   "source": [
    "print'hello word'"
   ]
  },
  {
   "cell_type": "code",
   "execution_count": 1,
   "metadata": {
    "collapsed": false
   },
   "outputs": [
    {
     "name": "stdout",
     "output_type": "stream",
     "text": [
      "my name\n"
     ]
    }
   ],
   "source": [
    "print'my name'"
   ]
  },
  {
   "cell_type": "code",
   "execution_count": 4,
   "metadata": {
    "collapsed": false
   },
   "outputs": [
    {
     "name": "stdout",
     "output_type": "stream",
     "text": [
      "赵敏\n"
     ]
    }
   ],
   "source": [
    "print'赵敏'"
   ]
  },
  {
   "cell_type": "code",
   "execution_count": 11,
   "metadata": {
    "collapsed": false
   },
   "outputs": [
    {
     "name": "stdout",
     "output_type": "stream",
     "text": [
      "Annie\n"
     ]
    }
   ],
   "source": [
    "print'Annie'"
   ]
  },
  {
   "cell_type": "code",
   "execution_count": 12,
   "metadata": {
    "collapsed": true
   },
   "outputs": [],
   "source": [
    "a=10"
   ]
  },
  {
   "cell_type": "code",
   "execution_count": 14,
   "metadata": {
    "collapsed": false
   },
   "outputs": [
    {
     "name": "stdout",
     "output_type": "stream",
     "text": [
      "10\n"
     ]
    }
   ],
   "source": [
    "print(a)"
   ]
  },
  {
   "cell_type": "code",
   "execution_count": 15,
   "metadata": {
    "collapsed": true
   },
   "outputs": [],
   "source": [
    "import time\n",
    "time.sleep(10)"
   ]
  },
  {
   "cell_type": "code",
   "execution_count": 16,
   "metadata": {
    "collapsed": false
   },
   "outputs": [
    {
     "data": {
      "text/plain": [
       "u'C:\\\\Users\\\\Administrator'"
      ]
     },
     "execution_count": 16,
     "metadata": {},
     "output_type": "execute_result"
    }
   ],
   "source": [
    "pwd"
   ]
  },
  {
   "cell_type": "code",
   "execution_count": 24,
   "metadata": {
    "collapsed": false
   },
   "outputs": [
    {
     "name": "stdout",
     "output_type": "stream",
     "text": [
      " 驱动器 C 中的卷没有标签。\n",
      " 卷的序列号是 A666-1EF6\n",
      "\n",
      " C:\\Users\\Administrator 的目录\n",
      "\n",
      "2016/03/26  23:04    <DIR>          .\n",
      "2016/03/26  23:04    <DIR>          ..\n",
      "2014/11/01  12:50    <DIR>          .android\n",
      "2015/10/30  10:24             2,880 .gitconfig\n",
      "2016/03/26  22:18    <DIR>          .ipynb_checkpoints\n",
      "2015/11/12  09:16    <DIR>          .ipython\n",
      "2015/11/25  09:44    <DIR>          .jupyter\n",
      "2016/03/23  20:02    <DIR>          .matplotlib\n",
      "2015/12/21  10:23    <DIR>          .spss\n",
      "2016/03/23  20:03    <DIR>          .spyder2\n",
      "2015/09/17  08:35    <DIR>          .ssh\n",
      "2015/11/12  08:43    <DIR>          Anaconda2\n",
      "2015/09/22  08:18    <DIR>          AppData\n",
      "2016/03/11  12:13    <DIR>          Contacts\n",
      "2016/03/26  16:30    <DIR>          Desktop\n",
      "2015/10/30  10:07    <DIR>          Documents\n",
      "2015/09/22  19:04    <DIR>          Downloads\n",
      "2016/03/26  23:04             5,959 firstPythonScript.ipynb\n",
      "2016/03/11  12:13    <DIR>          Links\n",
      "2015/09/22  19:04    <DIR>          Music\n",
      "2016/03/07  22:15    <DIR>          OneDrive\n",
      "2015/09/22  19:04    <DIR>          Pictures\n",
      "2016/03/11  12:13    <DIR>          Saved Games\n",
      "2016/03/11  12:13    <DIR>          Searches\n",
      "2015/11/25  09:45                72 Untitled.ipynb\n",
      "2015/11/25  23:53            60,587 Untitled1.ipynb\n",
      "2015/11/26  00:03            60,443 Untitled2.ipynb\n",
      "2016/03/23  20:05               582 Untitled3.ipynb\n",
      "2016/03/23  20:10               818 Untitled4.ipynb\n",
      "2016/03/23  20:12               857 Untitled5.ipynb\n",
      "2016/03/23  20:19                72 Untitled6.ipynb\n",
      "2016/03/23  20:22               747 Untitled7.ipynb\n",
      "2015/09/22  19:04    <DIR>          Videos\n",
      "2015/11/26  09:48           138,891 xiaohuangren .ipynb\n",
      "2015/10/29  22:03    <DIR>          新建文件夹\n",
      "2014/10/21  23:08    <DIR>          作品信息统计表\n",
      "              11 个文件        271,908 字节\n",
      "              25 个目录 22,279,626,752 可用字节\n"
     ]
    }
   ],
   "source": [
    "ls"
   ]
  },
  {
   "cell_type": "code",
   "execution_count": 25,
   "metadata": {
    "collapsed": true
   },
   "outputs": [],
   "source": [
    "import numpy as np\n",
    "import sys"
   ]
  },
  {
   "cell_type": "code",
   "execution_count": 26,
   "metadata": {
    "collapsed": false
   },
   "outputs": [
    {
     "data": {
      "text/plain": [
       "array([ 0.47640233,  0.38798556,  0.15296763,  0.71116519,  0.58170534,\n",
       "        0.72775758,  0.53684123,  0.8067991 ,  0.30544864,  0.66127703])"
      ]
     },
     "execution_count": 26,
     "metadata": {},
     "output_type": "execute_result"
    }
   ],
   "source": [
    "np.random.rand(10)"
   ]
  },
  {
   "cell_type": "code",
   "execution_count": 27,
   "metadata": {
    "collapsed": false
   },
   "outputs": [
    {
     "data": {
      "text/plain": [
       "array([ 0.45858508,  0.37832447,  0.15237178,  0.65271696,  0.54944959,\n",
       "        0.66519697,  0.51142413,  0.72207645,  0.30072108,  0.61412519])"
      ]
     },
     "execution_count": 27,
     "metadata": {},
     "output_type": "execute_result"
    }
   ],
   "source": [
    "np.sin(_)"
   ]
  },
  {
   "cell_type": "code",
   "execution_count": 28,
   "metadata": {
    "collapsed": false
   },
   "outputs": [
    {
     "name": "stdout",
     "output_type": "stream",
     "text": [
      "hi,stdout\n"
     ]
    }
   ],
   "source": [
    "print(\"hi,stdout\")"
   ]
  },
  {
   "cell_type": "code",
   "execution_count": 35,
   "metadata": {
    "collapsed": false
   },
   "outputs": [
    {
     "name": "stderr",
     "output_type": "stream",
     "text": [
      "hi, stderr\n"
     ]
    }
   ],
   "source": [
    "from __future__ import print_function\n",
    "print('hi, stderr', file=sys.stderr)"
   ]
  },
  {
   "cell_type": "code",
   "execution_count": 36,
   "metadata": {
    "collapsed": false
   },
   "outputs": [
    {
     "name": "stdout",
     "output_type": "stream",
     "text": [
      "0\n",
      "1\n",
      "2\n",
      "3\n",
      "4\n",
      "5\n",
      "6\n",
      "7\n",
      "8\n",
      "9\n",
      "10\n",
      "11\n",
      "12\n",
      "13\n",
      "14\n",
      "15\n",
      "16\n",
      "17\n",
      "18\n",
      "19\n",
      "20\n",
      "21\n",
      "22\n",
      "23\n",
      "24\n",
      "25\n",
      "26\n",
      "27\n",
      "28\n",
      "29\n",
      "30\n",
      "31\n",
      "32\n",
      "33\n",
      "34\n",
      "35\n",
      "36\n",
      "37\n",
      "38\n",
      "39\n",
      "40\n",
      "41\n",
      "42\n",
      "43\n",
      "44\n",
      "45\n",
      "46\n",
      "47\n",
      "48\n",
      "49\n"
     ]
    }
   ],
   "source": [
    "for i in range(50):\n",
    "    print (i)"
   ]
  },
  {
   "cell_type": "code",
   "execution_count": 37,
   "metadata": {
    "collapsed": false
   },
   "outputs": [
    {
     "name": "stdout",
     "output_type": "stream",
     "text": [
      "0\n",
      "1\n",
      "2\n",
      "3\n"
     ]
    }
   ],
   "source": [
    "import time,sys\n",
    "for i in range(4):\n",
    "    print (i)\n",
    "    time.sleep(0.5)"
   ]
  },
  {
   "cell_type": "code",
   "execution_count": 38,
   "metadata": {
    "collapsed": false
   },
   "outputs": [
    {
     "name": "stdout",
     "output_type": "stream",
     "text": [
      "1\n",
      "2\n",
      "5\n",
      "10\n",
      "17\n",
      "26\n",
      "37\n",
      "50\n",
      "65\n",
      "82\n",
      "101\n",
      "122\n",
      "145\n",
      "170\n",
      "197\n",
      "226\n",
      "257\n",
      "290\n",
      "325\n",
      "362\n"
     ]
    }
   ],
   "source": [
    "for i in range(20):\n",
    "    print(i**2+1)\n"
   ]
  },
  {
   "cell_type": "code",
   "execution_count": null,
   "metadata": {
    "collapsed": true
   },
   "outputs": [],
   "source": []
  }
 ],
 "metadata": {
  "kernelspec": {
   "display_name": "Python 2",
   "language": "python",
   "name": "python2"
  },
  "language_info": {
   "codemirror_mode": {
    "name": "ipython",
    "version": 2
   },
   "file_extension": ".py",
   "mimetype": "text/x-python",
   "name": "python",
   "nbconvert_exporter": "python",
   "pygments_lexer": "ipython2",
   "version": "2.7.10"
  }
 },
 "nbformat": 4,
 "nbformat_minor": 0
}
