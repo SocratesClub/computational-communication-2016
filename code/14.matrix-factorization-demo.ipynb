{
 "cells": [
  {
   "cell_type": "code",
   "execution_count": 1,
   "metadata": {
    "collapsed": false
   },
   "outputs": [
    {
     "name": "stdout",
     "output_type": "stream",
     "text": [
      "This non-commercial license of GraphLab Create is assigned to wangchengjun@nju.edu.cn and will expire on July 31, 2016. For commercial licensing options, visit https://dato.com/buy/.\n"
     ]
    },
    {
     "name": "stderr",
     "output_type": "stream",
     "text": [
      "2016-04-14 01:35:40,341 [INFO] graphlab.cython.cy_server, 176: GraphLab Create v1.8.5 started. Logging: /tmp/graphlab_server_1460568932.log\n"
     ]
    }
   ],
   "source": [
    "import graphlab\n",
    "graphlab.canvas.set_target(\"ipynb\")\n",
    "rating_sf = graphlab.SFrame('ratings')\n",
    "users = graphlab.SFrame('users')\n",
    "items = graphlab.SFrame('items')"
   ]
  },
  {
   "cell_type": "code",
   "execution_count": 2,
   "metadata": {
    "collapsed": false
   },
   "outputs": [
    {
     "data": {
      "application/javascript": [
       "$(\"head\").append($(\"<link/>\").attr({\n",
       "  rel:  \"stylesheet\",\n",
       "  type: \"text/css\",\n",
       "  href: \"//cdnjs.cloudflare.com/ajax/libs/font-awesome/4.1.0/css/font-awesome.min.css\"\n",
       "}));\n",
       "$(\"head\").append($(\"<link/>\").attr({\n",
       "  rel:  \"stylesheet\",\n",
       "  type: \"text/css\",\n",
       "  href: \"//dato.com/files/canvas/1.8.5/css/canvas.css\"\n",
       "}));\n",
       "\n",
       "            (function(){\n",
       "\n",
       "                var e = null;\n",
       "                if (typeof element == 'undefined') {\n",
       "                    var scripts = document.getElementsByTagName('script');\n",
       "                    var thisScriptTag = scripts[scripts.length-1];\n",
       "                    var parentDiv = thisScriptTag.parentNode;\n",
       "                    e = document.createElement('div');\n",
       "                    parentDiv.appendChild(e);\n",
       "                } else {\n",
       "                    e = element[0];\n",
       "                }\n",
       "\n",
       "                if (typeof requirejs !== 'undefined') {\n",
       "                    // disable load timeout; ipython_app.js is large and can take a while to load.\n",
       "                    requirejs.config({waitSeconds: 0});\n",
       "                }\n",
       "\n",
       "                require(['//dato.com/files/canvas/1.8.5/js/ipython_app.js'], function(IPythonApp){\n",
       "                    var app = new IPythonApp();\n",
       "                    app.attachView('sframe','Summary', {\"ipython\": true, \"sketch\": {\"rating\": {\"std\": 1.1171012869389039, \"complete\": true, \"min\": 1.0, \"max\": 5.0, \"quantile\": [1.0, 1.0, 1.0, 1.0, 1.0, 1.0, 2.0, 2.0, 2.0, 2.0, 2.0, 2.0, 2.0, 2.0, 2.0, 2.0, 2.0, 3.0, 3.0, 3.0, 3.0, 3.0, 3.0, 3.0, 3.0, 3.0, 3.0, 3.0, 3.0, 3.0, 3.0, 3.0, 3.0, 3.0, 3.0, 3.0, 3.0, 3.0, 3.0, 3.0, 3.0, 3.0, 3.0, 4.0, 4.0, 4.0, 4.0, 4.0, 4.0, 4.0, 4.0, 4.0, 4.0, 4.0, 4.0, 4.0, 4.0, 4.0, 4.0, 4.0, 4.0, 4.0, 4.0, 4.0, 4.0, 4.0, 4.0, 4.0, 4.0, 4.0, 4.0, 4.0, 4.0, 4.0, 4.0, 4.0, 4.0, 4.0, 5.0, 5.0, 5.0, 5.0, 5.0, 5.0, 5.0, 5.0, 5.0, 5.0, 5.0, 5.0, 5.0, 5.0, 5.0, 5.0, 5.0, 5.0, 5.0, 5.0, 5.0, 5.0, 5.0], \"median\": 4.0, \"numeric\": true, \"num_unique\": 5, \"num_undefined\": 0, \"var\": 1.247915285280555, \"progress\": 1.0, \"size\": 1000209, \"frequent_items\": {\"1\": {\"frequency\": 56174, \"value\": 1}, \"2\": {\"frequency\": 107557, \"value\": 2}, \"3\": {\"frequency\": 261197, \"value\": 3}, \"4\": {\"frequency\": 348971, \"value\": 4}, \"5\": {\"frequency\": 226310, \"value\": 5}}, \"mean\": 3.581564453029312}, \"user_id\": {\"std\": 1728.4118308740312, \"complete\": true, \"min\": 1.0, \"max\": 6040.0, \"quantile\": [1.0, 70.0, 149.0, 204.0, 272.0, 331.0, 400.0, 464.0, 531.0, 588.0, 666.0, 721.0, 777.0, 840.0, 896.0, 963.0, 1019.0, 1080.0, 1127.0, 1181.0, 1234.0, 1285.0, 1329.0, 1391.0, 1449.0, 1507.0, 1591.0, 1635.0, 1680.0, 1733.0, 1778.0, 1856.0, 1891.0, 1941.0, 2010.0, 2050.0, 2105.0, 2165.0, 2223.0, 2290.0, 2383.0, 2458.0, 2537.0, 2611.0, 2685.0, 2774.0, 2840.0, 2898.0, 2944.0, 3013.0, 3072.0, 3140.0, 3209.0, 3272.0, 3320.0, 3391.0, 3449.0, 3503.0, 3550.0, 3600.0, 3652.0, 3698.0, 3756.0, 3808.0, 3848.0, 3917.0, 3975.0, 4024.0, 4064.0, 4121.0, 4183.0, 4258.0, 4312.0, 4371.0, 4425.0, 4477.0, 4517.0, 4590.0, 4655.0, 4728.0, 4797.0, 4856.0, 4932.0, 4993.0, 5046.0, 5107.0, 5170.0, 5255.0, 5317.0, 5371.0, 5443.0, 5509.0, 5559.0, 5623.0, 5682.0, 5749.0, 5788.0, 5847.0, 5916.0, 5978.0, 6040.0], \"median\": 3072.0, \"numeric\": true, \"num_unique\": 6018, \"num_undefined\": 0, \"var\": 2987407.4571053204, \"progress\": 1.0, \"size\": 1000209, \"frequent_items\": {\"1\": {\"frequency\": 53, \"value\": 1}, \"2\": {\"frequency\": 129, \"value\": 2}, \"3\": {\"frequency\": 51, \"value\": 3}, \"4\": {\"frequency\": 21, \"value\": 4}, \"5\": {\"frequency\": 198, \"value\": 5}, \"6\": {\"frequency\": 71, \"value\": 6}, \"7\": {\"frequency\": 31, \"value\": 7}, \"8\": {\"frequency\": 139, \"value\": 8}, \"9\": {\"frequency\": 106, \"value\": 9}, \"10\": {\"frequency\": 401, \"value\": 10}, \"11\": {\"frequency\": 137, \"value\": 11}, \"12\": {\"frequency\": 23, \"value\": 12}, \"13\": {\"frequency\": 108, \"value\": 13}, \"14\": {\"frequency\": 25, \"value\": 14}, \"15\": {\"frequency\": 201, \"value\": 15}, \"16\": {\"frequency\": 35, \"value\": 16}, \"17\": {\"frequency\": 211, \"value\": 17}, \"18\": {\"frequency\": 305, \"value\": 18}, \"19\": {\"frequency\": 255, \"value\": 19}, \"20\": {\"frequency\": 24, \"value\": 20}, \"21\": {\"frequency\": 22, \"value\": 21}, \"22\": {\"frequency\": 297, \"value\": 22}, \"23\": {\"frequency\": 304, \"value\": 23}, \"24\": {\"frequency\": 136, \"value\": 24}, \"25\": {\"frequency\": 85, \"value\": 25}, \"26\": {\"frequency\": 400, \"value\": 26}, \"27\": {\"frequency\": 70, \"value\": 27}, \"28\": {\"frequency\": 107, \"value\": 28}, \"29\": {\"frequency\": 108, \"value\": 29}, \"30\": {\"frequency\": 43, \"value\": 30}, \"31\": {\"frequency\": 119, \"value\": 31}, \"32\": {\"frequency\": 48, \"value\": 32}, \"33\": {\"frequency\": 391, \"value\": 33}, \"34\": {\"frequency\": 164, \"value\": 34}, \"35\": {\"frequency\": 198, \"value\": 35}, \"36\": {\"frequency\": 351, \"value\": 36}, \"37\": {\"frequency\": 53, \"value\": 37}, \"38\": {\"frequency\": 100, \"value\": 38}, \"39\": {\"frequency\": 62, \"value\": 39}, \"40\": {\"frequency\": 96, \"value\": 40}, \"41\": {\"frequency\": 25, \"value\": 41}, \"42\": {\"frequency\": 231, \"value\": 42}, \"43\": {\"frequency\": 24, \"value\": 43}, \"44\": {\"frequency\": 193, \"value\": 44}, \"45\": {\"frequency\": 297, \"value\": 45}, \"46\": {\"frequency\": 41, \"value\": 46}, \"47\": {\"frequency\": 22, \"value\": 47}, \"48\": {\"frequency\": 598, \"value\": 48}, \"49\": {\"frequency\": 108, \"value\": 49}, \"50\": {\"frequency\": 43, \"value\": 50}, \"51\": {\"frequency\": 40, \"value\": 51}, \"52\": {\"frequency\": 79, \"value\": 52}, \"53\": {\"frequency\": 684, \"value\": 53}, \"54\": {\"frequency\": 40, \"value\": 54}, \"55\": {\"frequency\": 25, \"value\": 55}, \"56\": {\"frequency\": 67, \"value\": 56}, \"57\": {\"frequency\": 64, \"value\": 57}, \"58\": {\"frequency\": 437, \"value\": 58}, \"59\": {\"frequency\": 213, \"value\": 59}, \"60\": {\"frequency\": 70, \"value\": 60}, \"61\": {\"frequency\": 36, \"value\": 61}, \"62\": {\"frequency\": 498, \"value\": 62}, \"63\": {\"frequency\": 98, \"value\": 63}, \"64\": {\"frequency\": 27, \"value\": 64}, \"65\": {\"frequency\": 121, \"value\": 65}, \"66\": {\"frequency\": 26, \"value\": 66}, \"67\": {\"frequency\": 64, \"value\": 67}, \"68\": {\"frequency\": 72, \"value\": 68}, \"69\": {\"frequency\": 65, \"value\": 69}, \"70\": {\"frequency\": 54, \"value\": 70}, \"71\": {\"frequency\": 29, \"value\": 71}, \"72\": {\"frequency\": 43, \"value\": 72}, \"73\": {\"frequency\": 255, \"value\": 73}, \"74\": {\"frequency\": 43, \"value\": 74}, \"75\": {\"frequency\": 175, \"value\": 75}, \"76\": {\"frequency\": 87, \"value\": 76}, \"77\": {\"frequency\": 39, \"value\": 77}, \"78\": {\"frequency\": 140, \"value\": 78}, \"79\": {\"frequency\": 31, \"value\": 79}, \"80\": {\"frequency\": 48, \"value\": 80}, \"81\": {\"frequency\": 86, \"value\": 81}, \"82\": {\"frequency\": 118, \"value\": 82}, \"83\": {\"frequency\": 99, \"value\": 83}, \"84\": {\"frequency\": 31, \"value\": 84}, \"85\": {\"frequency\": 39, \"value\": 85}, \"86\": {\"frequency\": 48, \"value\": 86}, \"87\": {\"frequency\": 59, \"value\": 87}, \"88\": {\"frequency\": 68, \"value\": 88}, \"89\": {\"frequency\": 21, \"value\": 89}, \"90\": {\"frequency\": 225, \"value\": 90}, \"91\": {\"frequency\": 44, \"value\": 91}, \"92\": {\"frequency\": 430, \"value\": 92}, \"93\": {\"frequency\": 220, \"value\": 93}, \"94\": {\"frequency\": 21, \"value\": 94}, \"95\": {\"frequency\": 99, \"value\": 95}, \"96\": {\"frequency\": 81, \"value\": 96}, \"97\": {\"frequency\": 154, \"value\": 97}, \"98\": {\"frequency\": 20, \"value\": 98}, \"99\": {\"frequency\": 107, \"value\": 99}, \"100\": {\"frequency\": 76, \"value\": 100}, \"101\": {\"frequency\": 106, \"value\": 101}, \"102\": {\"frequency\": 132, \"value\": 102}, \"103\": {\"frequency\": 115, \"value\": 103}, \"104\": {\"frequency\": 46, \"value\": 104}, \"105\": {\"frequency\": 61, \"value\": 105}, \"106\": {\"frequency\": 47, \"value\": 106}, \"107\": {\"frequency\": 121, \"value\": 107}, \"108\": {\"frequency\": 37, \"value\": 108}, \"109\": {\"frequency\": 81, \"value\": 109}, \"110\": {\"frequency\": 80, \"value\": 110}, \"111\": {\"frequency\": 92, \"value\": 111}, \"112\": {\"frequency\": 60, \"value\": 112}, \"113\": {\"frequency\": 68, \"value\": 113}, \"114\": {\"frequency\": 98, \"value\": 114}, \"115\": {\"frequency\": 38, \"value\": 115}, \"116\": {\"frequency\": 86, \"value\": 116}, \"117\": {\"frequency\": 505, \"value\": 117}, \"118\": {\"frequency\": 224, \"value\": 118}, \"119\": {\"frequency\": 105, \"value\": 119}, \"120\": {\"frequency\": 63, \"value\": 120}, \"121\": {\"frequency\": 72, \"value\": 121}, \"122\": {\"frequency\": 57, \"value\": 122}, \"123\": {\"frequency\": 608, \"value\": 123}, \"124\": {\"frequency\": 23, \"value\": 124}, \"125\": {\"frequency\": 71, \"value\": 125}, \"126\": {\"frequency\": 51, \"value\": 126}, \"127\": {\"frequency\": 174, \"value\": 127}, \"128\": {\"frequency\": 22, \"value\": 128}, \"129\": {\"frequency\": 158, \"value\": 129}, \"130\": {\"frequency\": 135, \"value\": 130}, \"131\": {\"frequency\": 295, \"value\": 131}, \"132\": {\"frequency\": 89, \"value\": 132}, \"133\": {\"frequency\": 170, \"value\": 133}, \"134\": {\"frequency\": 183, \"value\": 134}, \"135\": {\"frequency\": 70, \"value\": 135}, \"136\": {\"frequency\": 378, \"value\": 136}, \"137\": {\"frequency\": 201, \"value\": 137}, \"138\": {\"frequency\": 65, \"value\": 138}, \"139\": {\"frequency\": 245, \"value\": 139}, \"140\": {\"frequency\": 55, \"value\": 140}, \"141\": {\"frequency\": 23, \"value\": 141}, \"142\": {\"frequency\": 47, \"value\": 142}, \"143\": {\"frequency\": 68, \"value\": 143}, \"144\": {\"frequency\": 32, \"value\": 144}, \"145\": {\"frequency\": 39, \"value\": 145}, \"146\": {\"frequency\": 426, \"value\": 146}, \"147\": {\"frequency\": 187, \"value\": 147}, \"148\": {\"frequency\": 624, \"value\": 148}, \"149\": {\"frequency\": 592, \"value\": 149}, \"150\": {\"frequency\": 232, \"value\": 150}, \"151\": {\"frequency\": 471, \"value\": 151}, \"152\": {\"frequency\": 24, \"value\": 152}, \"153\": {\"frequency\": 26, \"value\": 153}, \"154\": {\"frequency\": 44, \"value\": 154}, \"155\": {\"frequency\": 96, \"value\": 155}, \"156\": {\"frequency\": 148, \"value\": 156}, \"157\": {\"frequency\": 427, \"value\": 157}, \"158\": {\"frequency\": 22, \"value\": 158}, \"159\": {\"frequency\": 36, \"value\": 159}, \"160\": {\"frequency\": 20, \"value\": 160}, \"161\": {\"frequency\": 297, \"value\": 161}, \"162\": {\"frequency\": 107, \"value\": 162}, \"163\": {\"frequency\": 514, \"value\": 163}, \"164\": {\"frequency\": 26, \"value\": 164}, \"165\": {\"frequency\": 110, \"value\": 165}, \"166\": {\"frequency\": 410, \"value\": 166}, \"167\": {\"frequency\": 58, \"value\": 167}, \"168\": {\"frequency\": 26, \"value\": 168}, \"169\": {\"frequency\": 552, \"value\": 169}, \"170\": {\"frequency\": 87, \"value\": 170}, \"171\": {\"frequency\": 24, \"value\": 171}, \"172\": {\"frequency\": 23, \"value\": 172}, \"173\": {\"frequency\": 561, \"value\": 173}, \"174\": {\"frequency\": 97, \"value\": 174}, \"175\": {\"frequency\": 317, \"value\": 175}, \"176\": {\"frequency\": 78, \"value\": 176}, \"177\": {\"frequency\": 44, \"value\": 177}, \"178\": {\"frequency\": 115, \"value\": 178}, \"179\": {\"frequency\": 110, \"value\": 179}, \"180\": {\"frequency\": 59, \"value\": 180}, \"181\": {\"frequency\": 301, \"value\": 181}, \"182\": {\"frequency\": 83, \"value\": 182}, \"183\": {\"frequency\": 101, \"value\": 183}, \"184\": {\"frequency\": 84, \"value\": 184}, \"185\": {\"frequency\": 51, \"value\": 185}, \"186\": {\"frequency\": 122, \"value\": 186}, \"187\": {\"frequency\": 417, \"value\": 187}, \"188\": {\"frequency\": 71, \"value\": 188}, \"189\": {\"frequency\": 31, \"value\": 189}, \"190\": {\"frequency\": 153, \"value\": 190}, \"191\": {\"frequency\": 30, \"value\": 191}, \"192\": {\"frequency\": 525, \"value\": 192}, \"193\": {\"frequency\": 242, \"value\": 193}, \"194\": {\"frequency\": 59, \"value\": 194}, \"195\": {\"frequency\": 822, \"value\": 195}, \"196\": {\"frequency\": 32, \"value\": 196}, \"197\": {\"frequency\": 22, \"value\": 197}, \"198\": {\"frequency\": 379, \"value\": 198}, \"199\": {\"frequency\": 402, \"value\": 199}, \"200\": {\"frequency\": 26, \"value\": 200}, \"201\": {\"frequency\": 87, \"value\": 201}, \"202\": {\"frequency\": 670, \"value\": 202}, \"203\": {\"frequency\": 127, \"value\": 203}, \"204\": {\"frequency\": 446, \"value\": 204}, \"205\": {\"frequency\": 153, \"value\": 205}, \"206\": {\"frequency\": 30, \"value\": 206}, \"207\": {\"frequency\": 23, \"value\": 207}, \"208\": {\"frequency\": 184, \"value\": 208}, \"209\": {\"frequency\": 25, \"value\": 209}, \"210\": {\"frequency\": 110, \"value\": 210}, \"211\": {\"frequency\": 35, \"value\": 211}, \"212\": {\"frequency\": 110, \"value\": 212}, \"213\": {\"frequency\": 22, \"value\": 213}, \"214\": {\"frequency\": 166, \"value\": 214}, \"215\": {\"frequency\": 34, \"value\": 215}, \"216\": {\"frequency\": 794, \"value\": 216}, \"217\": {\"frequency\": 20, \"value\": 217}, \"218\": {\"frequency\": 86, \"value\": 218}, \"219\": {\"frequency\": 36, \"value\": 219}, \"220\": {\"frequency\": 102, \"value\": 220}, \"221\": {\"frequency\": 29, \"value\": 221}, \"222\": {\"frequency\": 80, \"value\": 222}, \"223\": {\"frequency\": 256, \"value\": 223}, \"224\": {\"frequency\": 204, \"value\": 224}, \"225\": {\"frequency\": 508, \"value\": 225}, \"226\": {\"frequency\": 21, \"value\": 226}, \"227\": {\"frequency\": 28, \"value\": 227}, \"228\": {\"frequency\": 31, \"value\": 228}, \"229\": {\"frequency\": 212, \"value\": 229}, \"230\": {\"frequency\": 179, \"value\": 230}, \"231\": {\"frequency\": 97, \"value\": 231}, \"232\": {\"frequency\": 90, \"value\": 232}, \"233\": {\"frequency\": 53, \"value\": 233}, \"234\": {\"frequency\": 29, \"value\": 234}, \"235\": {\"frequency\": 440, \"value\": 235}, \"236\": {\"frequency\": 62, \"value\": 236}, \"237\": {\"frequency\": 166, \"value\": 237}, \"238\": {\"frequency\": 258, \"value\": 238}, \"239\": {\"frequency\": 71, \"value\": 239}, \"240\": {\"frequency\": 143, \"value\": 240}, \"241\": {\"frequency\": 57, \"value\": 241}, \"242\": {\"frequency\": 273, \"value\": 242}, \"243\": {\"frequency\": 33, \"value\": 243}, \"244\": {\"frequency\": 85, \"value\": 244}, \"245\": {\"frequency\": 764, \"value\": 245}, \"246\": {\"frequency\": 29, \"value\": 246}, \"247\": {\"frequency\": 31, \"value\": 247}, \"248\": {\"frequency\": 34, \"value\": 248}, \"249\": {\"frequency\": 110, \"value\": 249}, \"250\": {\"frequency\": 20, \"value\": 250}, \"251\": {\"frequency\": 73, \"value\": 251}, \"252\": {\"frequency\": 60, \"value\": 252}, \"253\": {\"frequency\": 53, \"value\": 253}, \"254\": {\"frequency\": 23, \"value\": 254}, \"255\": {\"frequency\": 244, \"value\": 255}, \"256\": {\"frequency\": 95, \"value\": 256}, \"257\": {\"frequency\": 53, \"value\": 257}, \"258\": {\"frequency\": 145, \"value\": 258}, \"259\": {\"frequency\": 139, \"value\": 259}, \"260\": {\"frequency\": 154, \"value\": 260}, \"261\": {\"frequency\": 354, \"value\": 261}, \"262\": {\"frequency\": 106, \"value\": 262}, \"263\": {\"frequency\": 92, \"value\": 263}, \"264\": {\"frequency\": 480, \"value\": 264}, \"265\": {\"frequency\": 98, \"value\": 265}, \"266\": {\"frequency\": 50, \"value\": 266}, \"267\": {\"frequency\": 131, \"value\": 267}, \"268\": {\"frequency\": 261, \"value\": 268}, \"269\": {\"frequency\": 30, \"value\": 269}, \"270\": {\"frequency\": 126, \"value\": 270}, \"271\": {\"frequency\": 312, \"value\": 271}, \"272\": {\"frequency\": 482, \"value\": 272}, \"273\": {\"frequency\": 187, \"value\": 273}, \"274\": {\"frequency\": 148, \"value\": 274}, \"275\": {\"frequency\": 89, \"value\": 275}, \"276\": {\"frequency\": 23, \"value\": 276}, \"277\": {\"frequency\": 22, \"value\": 277}, \"278\": {\"frequency\": 198, \"value\": 278}, \"279\": {\"frequency\": 47, \"value\": 279}, \"280\": {\"frequency\": 50, \"value\": 280}, \"281\": {\"frequency\": 111, \"value\": 281}, \"282\": {\"frequency\": 29, \"value\": 282}, \"283\": {\"frequency\": 27, \"value\": 283}, \"284\": {\"frequency\": 471, \"value\": 284}, \"285\": {\"frequency\": 139, \"value\": 285}, \"286\": {\"frequency\": 43, \"value\": 286}, \"287\": {\"frequency\": 103, \"value\": 287}, \"288\": {\"frequency\": 56, \"value\": 288}, \"289\": {\"frequency\": 74, \"value\": 289}, \"290\": {\"frequency\": 33, \"value\": 290}, \"291\": {\"frequency\": 102, \"value\": 291}, \"292\": {\"frequency\": 41, \"value\": 292}, \"293\": {\"frequency\": 317, \"value\": 293}, \"294\": {\"frequency\": 49, \"value\": 294}, \"295\": {\"frequency\": 191, \"value\": 295}, \"296\": {\"frequency\": 97, \"value\": 296}, \"297\": {\"frequency\": 89, \"value\": 297}, \"298\": {\"frequency\": 27, \"value\": 298}, \"299\": {\"frequency\": 104, \"value\": 299}, \"300\": {\"frequency\": 249, \"value\": 300}, \"301\": {\"frequency\": 357, \"value\": 301}, \"302\": {\"frequency\": 788, \"value\": 302}, \"303\": {\"frequency\": 209, \"value\": 303}, \"304\": {\"frequency\": 27, \"value\": 304}, \"305\": {\"frequency\": 157, \"value\": 305}, \"306\": {\"frequency\": 193, \"value\": 306}, \"307\": {\"frequency\": 182, \"value\": 307}, \"308\": {\"frequency\": 557, \"value\": 308}, \"309\": {\"frequency\": 123, \"value\": 309}, \"310\": {\"frequency\": 223, \"value\": 310}, \"311\": {\"frequency\": 20, \"value\": 311}, \"312\": {\"frequency\": 57, \"value\": 312}, \"313\": {\"frequency\": 26, \"value\": 313}, \"314\": {\"frequency\": 293, \"value\": 314}, \"315\": {\"frequency\": 22, \"value\": 315}, \"316\": {\"frequency\": 77, \"value\": 316}, \"317\": {\"frequency\": 21, \"value\": 317}, \"318\": {\"frequency\": 21, \"value\": 318}, \"319\": {\"frequency\": 721, \"value\": 319}, \"320\": {\"frequency\": 21, \"value\": 320}, \"321\": {\"frequency\": 222, \"value\": 321}, \"322\": {\"frequency\": 40, \"value\": 322}, \"323\": {\"frequency\": 118, \"value\": 323}, \"324\": {\"frequency\": 76, \"value\": 324}, \"325\": {\"frequency\": 43, \"value\": 325}, \"326\": {\"frequency\": 379, \"value\": 326}, \"327\": {\"frequency\": 236, \"value\": 327}, \"328\": {\"frequency\": 62, \"value\": 328}, \"329\": {\"frequency\": 764, \"value\": 329}, \"330\": {\"frequency\": 76, \"value\": 330}, \"331\": {\"frequency\": 584, \"value\": 331}, \"332\": {\"frequency\": 67, \"value\": 332}, \"333\": {\"frequency\": 227, \"value\": 333}, \"334\": {\"frequency\": 61, \"value\": 334}, \"335\": {\"frequency\": 148, \"value\": 335}, \"336\": {\"frequency\": 107, \"value\": 336}, \"337\": {\"frequency\": 198, \"value\": 337}, \"338\": {\"frequency\": 362, \"value\": 338}, \"339\": {\"frequency\": 124, \"value\": 339}, \"340\": {\"frequency\": 108, \"value\": 340}, \"341\": {\"frequency\": 20, \"value\": 341}, \"342\": {\"frequency\": 123, \"value\": 342}, \"343\": {\"frequency\": 297, \"value\": 343}, \"344\": {\"frequency\": 90, \"value\": 344}, \"345\": {\"frequency\": 25, \"value\": 345}, \"346\": {\"frequency\": 283, \"value\": 346}, \"347\": {\"frequency\": 99, \"value\": 347}, \"348\": {\"frequency\": 64, \"value\": 348}, \"349\": {\"frequency\": 268, \"value\": 349}, \"350\": {\"frequency\": 64, \"value\": 350}, \"351\": {\"frequency\": 103, \"value\": 351}, \"352\": {\"frequency\": 870, \"value\": 352}, \"353\": {\"frequency\": 24, \"value\": 353}, \"354\": {\"frequency\": 58, \"value\": 354}, \"355\": {\"frequency\": 419, \"value\": 355}, \"356\": {\"frequency\": 21, \"value\": 356}, \"357\": {\"frequency\": 58, \"value\": 357}, \"358\": {\"frequency\": 72, \"value\": 358}, \"359\": {\"frequency\": 49, \"value\": 359}, \"360\": {\"frequency\": 67, \"value\": 360}, \"361\": {\"frequency\": 26, \"value\": 361}, \"362\": {\"frequency\": 55, \"value\": 362}, \"363\": {\"frequency\": 43, \"value\": 363}, \"364\": {\"frequency\": 28, \"value\": 364}, \"365\": {\"frequency\": 47, \"value\": 365}, \"366\": {\"frequency\": 259, \"value\": 366}, \"367\": {\"frequency\": 28, \"value\": 367}, \"368\": {\"frequency\": 320, \"value\": 368}, \"369\": {\"frequency\": 87, \"value\": 369}, \"370\": {\"frequency\": 60, \"value\": 370}, \"371\": {\"frequency\": 78, \"value\": 371}, \"372\": {\"frequency\": 168, \"value\": 372}, \"373\": {\"frequency\": 27, \"value\": 373}, \"374\": {\"frequency\": 52, \"value\": 374}, \"375\": {\"frequency\": 51, \"value\": 375}, \"376\": {\"frequency\": 117, \"value\": 376}, \"377\": {\"frequency\": 136, \"value\": 377}, \"378\": {\"frequency\": 39, \"value\": 378}, \"379\": {\"frequency\": 64, \"value\": 379}, \"380\": {\"frequency\": 138, \"value\": 380}, \"381\": {\"frequency\": 35, \"value\": 381}, \"382\": {\"frequency\": 56, \"value\": 382}, \"383\": {\"frequency\": 21, \"value\": 383}, \"384\": {\"frequency\": 22, \"value\": 384}, \"385\": {\"frequency\": 137, \"value\": 385}, \"386\": {\"frequency\": 260, \"value\": 386}, \"387\": {\"frequency\": 68, \"value\": 387}, \"388\": {\"frequency\": 59, \"value\": 388}, \"389\": {\"frequency\": 73, \"value\": 389}, \"390\": {\"frequency\": 214, \"value\": 390}, \"391\": {\"frequency\": 81, \"value\": 391}, \"392\": {\"frequency\": 487, \"value\": 392}, \"393\": {\"frequency\": 74, \"value\": 393}, \"394\": {\"frequency\": 38, \"value\": 394}, \"395\": {\"frequency\": 23, \"value\": 395}, \"396\": {\"frequency\": 173, \"value\": 396}, \"397\": {\"frequency\": 34, \"value\": 397}, \"398\": {\"frequency\": 225, \"value\": 398}, \"399\": {\"frequency\": 32, \"value\": 399}, \"400\": {\"frequency\": 40, \"value\": 400}, \"401\": {\"frequency\": 78, \"value\": 401}, \"402\": {\"frequency\": 284, \"value\": 402}, \"403\": {\"frequency\": 280, \"value\": 403}, \"404\": {\"frequency\": 50, \"value\": 404}, \"405\": {\"frequency\": 49, \"value\": 405}, \"406\": {\"frequency\": 147, \"value\": 406}, \"407\": {\"frequency\": 32, \"value\": 407}, \"408\": {\"frequency\": 156, \"value\": 408}, \"409\": {\"frequency\": 297, \"value\": 409}, \"410\": {\"frequency\": 96, \"value\": 410}, \"411\": {\"frequency\": 635, \"value\": 411}, \"412\": {\"frequency\": 476, \"value\": 412}, \"413\": {\"frequency\": 99, \"value\": 413}, \"414\": {\"frequency\": 57, \"value\": 414}, \"415\": {\"frequency\": 271, \"value\": 415}, \"416\": {\"frequency\": 62, \"value\": 416}, \"417\": {\"frequency\": 22, \"value\": 417}, \"418\": {\"frequency\": 51, \"value\": 418}, \"419\": {\"frequency\": 108, \"value\": 419}, \"420\": {\"frequency\": 64, \"value\": 420}, \"421\": {\"frequency\": 20, \"value\": 421}, \"422\": {\"frequency\": 47, \"value\": 422}, \"423\": {\"frequency\": 64, \"value\": 423}, \"424\": {\"frequency\": 1226, \"value\": 424}, \"425\": {\"frequency\": 189, \"value\": 425}, \"426\": {\"frequency\": 239, \"value\": 426}, \"427\": {\"frequency\": 27, \"value\": 427}, \"428\": {\"frequency\": 50, \"value\": 428}, \"429\": {\"frequency\": 346, \"value\": 429}, \"430\": {\"frequency\": 63, \"value\": 430}, \"431\": {\"frequency\": 84, \"value\": 431}, \"432\": {\"frequency\": 73, \"value\": 432}, \"433\": {\"frequency\": 46, \"value\": 433}, \"434\": {\"frequency\": 43, \"value\": 434}, \"435\": {\"frequency\": 132, \"value\": 435}, \"436\": {\"frequency\": 133, \"value\": 436}, \"437\": {\"frequency\": 52, \"value\": 437}, \"438\": {\"frequency\": 602, \"value\": 438}, \"439\": {\"frequency\": 92, \"value\": 439}, \"440\": {\"frequency\": 29, \"value\": 440}, \"441\": {\"frequency\": 47, \"value\": 441}, \"442\": {\"frequency\": 423, \"value\": 442}, \"443\": {\"frequency\": 34, \"value\": 443}, \"444\": {\"frequency\": 120, \"value\": 444}, \"445\": {\"frequency\": 286, \"value\": 445}, \"446\": {\"frequency\": 51, \"value\": 446}, \"447\": {\"frequency\": 37, \"value\": 447}, \"448\": {\"frequency\": 23, \"value\": 448}, \"449\": {\"frequency\": 54, \"value\": 449}, \"450\": {\"frequency\": 51, \"value\": 450}, \"451\": {\"frequency\": 209, \"value\": 451}, \"452\": {\"frequency\": 132, \"value\": 452}, \"453\": {\"frequency\": 394, \"value\": 453}, \"454\": {\"frequency\": 266, \"value\": 454}, \"455\": {\"frequency\": 25, \"value\": 455}, \"456\": {\"frequency\": 157, \"value\": 456}, \"457\": {\"frequency\": 237, \"value\": 457}, \"458\": {\"frequency\": 43, \"value\": 458}, \"459\": {\"frequency\": 32, \"value\": 459}, \"460\": {\"frequency\": 47, \"value\": 460}, \"461\": {\"frequency\": 512, \"value\": 461}, \"462\": {\"frequency\": 177, \"value\": 462}, \"463\": {\"frequency\": 123, \"value\": 463}, \"464\": {\"frequency\": 82, \"value\": 464}, \"465\": {\"frequency\": 37, \"value\": 465}, \"466\": {\"frequency\": 199, \"value\": 466}, \"467\": {\"frequency\": 69, \"value\": 467}, \"468\": {\"frequency\": 26, \"value\": 468}, \"469\": {\"frequency\": 49, \"value\": 469}, \"470\": {\"frequency\": 68, \"value\": 470}, \"471\": {\"frequency\": 105, \"value\": 471}, \"472\": {\"frequency\": 45, \"value\": 472}, \"473\": {\"frequency\": 49, \"value\": 473}, \"474\": {\"frequency\": 318, \"value\": 474}, \"475\": {\"frequency\": 247, \"value\": 475}, \"476\": {\"frequency\": 431, \"value\": 476}, \"477\": {\"frequency\": 211, \"value\": 477}, \"478\": {\"frequency\": 46, \"value\": 478}, \"479\": {\"frequency\": 93, \"value\": 479}, \"480\": {\"frequency\": 107, \"value\": 480}, \"481\": {\"frequency\": 198, \"value\": 481}, \"482\": {\"frequency\": 825, \"value\": 482}, \"483\": {\"frequency\": 29, \"value\": 483}, \"484\": {\"frequency\": 34, \"value\": 484}, \"485\": {\"frequency\": 45, \"value\": 485}, \"486\": {\"frequency\": 39, \"value\": 486}, \"487\": {\"frequency\": 50, \"value\": 487}, \"488\": {\"frequency\": 25, \"value\": 488}, \"489\": {\"frequency\": 24, \"value\": 489}, \"490\": {\"frequency\": 77, \"value\": 490}, \"491\": {\"frequency\": 25, \"value\": 491}, \"492\": {\"frequency\": 32, \"value\": 492}, \"493\": {\"frequency\": 158, \"value\": 493}, \"494\": {\"frequency\": 191, \"value\": 494}, \"495\": {\"frequency\": 44, \"value\": 495}, \"496\": {\"frequency\": 119, \"value\": 496}, \"497\": {\"frequency\": 24, \"value\": 497}, \"498\": {\"frequency\": 172, \"value\": 498}, \"499\": {\"frequency\": 199, \"value\": 499}, \"500\": {\"frequency\": 101, \"value\": 500}, \"501\": {\"frequency\": 67, \"value\": 501}, \"502\": {\"frequency\": 24, \"value\": 502}, \"503\": {\"frequency\": 29, \"value\": 503}, \"504\": {\"frequency\": 108, \"value\": 504}, \"505\": {\"frequency\": 115, \"value\": 505}, \"506\": {\"frequency\": 90, \"value\": 506}, \"507\": {\"frequency\": 42, \"value\": 507}, \"508\": {\"frequency\": 149, \"value\": 508}, \"509\": {\"frequency\": 723, \"value\": 509}, \"510\": {\"frequency\": 99, \"value\": 510}, \"511\": {\"frequency\": 27, \"value\": 511}, \"512\": {\"frequency\": 37, \"value\": 512}, \"513\": {\"frequency\": 156, \"value\": 513}, \"514\": {\"frequency\": 79, \"value\": 514}, \"515\": {\"frequency\": 162, \"value\": 515}, \"516\": {\"frequency\": 294, \"value\": 516}, \"517\": {\"frequency\": 166, \"value\": 517}, \"518\": {\"frequency\": 253, \"value\": 518}, \"519\": {\"frequency\": 45, \"value\": 519}, \"520\": {\"frequency\": 314, \"value\": 520}, \"521\": {\"frequency\": 41, \"value\": 521}, \"522\": {\"frequency\": 58, \"value\": 522}, \"523\": {\"frequency\": 100, \"value\": 523}, \"524\": {\"frequency\": 1016, \"value\": 524}, \"525\": {\"frequency\": 40, \"value\": 525}, \"526\": {\"frequency\": 58, \"value\": 526}, \"527\": {\"frequency\": 25, \"value\": 527}, \"528\": {\"frequency\": 580, \"value\": 528}, \"529\": {\"frequency\": 122, \"value\": 529}, \"530\": {\"frequency\": 105, \"value\": 530}, \"531\": {\"frequency\": 867, \"value\": 531}, \"532\": {\"frequency\": 43, \"value\": 532}, \"533\": {\"frequency\": 591, \"value\": 533}, \"534\": {\"frequency\": 103, \"value\": 534}, \"535\": {\"frequency\": 21, \"value\": 535}, \"536\": {\"frequency\": 210, \"value\": 536}, \"537\": {\"frequency\": 98, \"value\": 537}, \"538\": {\"frequency\": 48, \"value\": 538}, \"539\": {\"frequency\": 132, \"value\": 539}, \"540\": {\"frequency\": 39, \"value\": 540}, \"541\": {\"frequency\": 190, \"value\": 541}, \"542\": {\"frequency\": 34, \"value\": 542}, \"543\": {\"frequency\": 671, \"value\": 543}, \"544\": {\"frequency\": 81, \"value\": 544}, \"545\": {\"frequency\": 29, \"value\": 545}, \"546\": {\"frequency\": 220, \"value\": 546}, \"547\": {\"frequency\": 78, \"value\": 547}, \"548\": {\"frequency\": 118, \"value\": 548}, \"549\": {\"frequency\": 1152, \"value\": 549}, \"550\": {\"frequency\": 967, \"value\": 550}, \"551\": {\"frequency\": 228, \"value\": 551}, \"552\": {\"frequency\": 97, \"value\": 552}, \"553\": {\"frequency\": 64, \"value\": 553}, \"554\": {\"frequency\": 43, \"value\": 554}, \"555\": {\"frequency\": 38, \"value\": 555}, \"556\": {\"frequency\": 232, \"value\": 556}, \"557\": {\"frequency\": 58, \"value\": 557}, \"558\": {\"frequency\": 291, \"value\": 558}, \"559\": {\"frequency\": 21, \"value\": 559}, \"560\": {\"frequency\": 137, \"value\": 560}, \"561\": {\"frequency\": 36, \"value\": 561}, \"562\": {\"frequency\": 37, \"value\": 562}, \"563\": {\"frequency\": 346, \"value\": 563}, \"564\": {\"frequency\": 50, \"value\": 564}, \"565\": {\"frequency\": 25, \"value\": 565}, \"566\": {\"frequency\": 534, \"value\": 566}, \"567\": {\"frequency\": 72, \"value\": 567}, \"568\": {\"frequency\": 25, \"value\": 568}, \"569\": {\"frequency\": 125, \"value\": 569}, \"570\": {\"frequency\": 237, \"value\": 570}, \"571\": {\"frequency\": 146, \"value\": 571}, \"572\": {\"frequency\": 20, \"value\": 572}, \"573\": {\"frequency\": 36, \"value\": 573}, \"574\": {\"frequency\": 21, \"value\": 574}, \"575\": {\"frequency\": 163, \"value\": 575}, \"576\": {\"frequency\": 57, \"value\": 576}, \"577\": {\"frequency\": 158, \"value\": 577}, \"578\": {\"frequency\": 28, \"value\": 578}, \"579\": {\"frequency\": 69, \"value\": 579}, \"580\": {\"frequency\": 46, \"value\": 580}, \"581\": {\"frequency\": 48, \"value\": 581}, \"582\": {\"frequency\": 78, \"value\": 582}, \"583\": {\"frequency\": 174, \"value\": 583}, \"584\": {\"frequency\": 38, \"value\": 584}, \"585\": {\"frequency\": 148, \"value\": 585}, \"586\": {\"frequency\": 35, \"value\": 586}, \"587\": {\"frequency\": 385, \"value\": 587}, \"588\": {\"frequency\": 453, \"value\": 588}, \"589\": {\"frequency\": 27, \"value\": 589}, \"590\": {\"frequency\": 166, \"value\": 590}, \"591\": {\"frequency\": 242, \"value\": 591}, \"592\": {\"frequency\": 23, \"value\": 592}, \"593\": {\"frequency\": 106, \"value\": 593}, \"594\": {\"frequency\": 159, \"value\": 594}, \"595\": {\"frequency\": 100, \"value\": 595}, \"596\": {\"frequency\": 42, \"value\": 596}, \"597\": {\"frequency\": 57, \"value\": 597}, \"598\": {\"frequency\": 38, \"value\": 598}, \"599\": {\"frequency\": 27, \"value\": 599}, \"600\": {\"frequency\": 23, \"value\": 600}, \"601\": {\"frequency\": 373, \"value\": 601}, \"602\": {\"frequency\": 154, \"value\": 602}, \"603\": {\"frequency\": 63, \"value\": 603}, \"604\": {\"frequency\": 287, \"value\": 604}, \"605\": {\"frequency\": 122, \"value\": 605}, \"606\": {\"frequency\": 33, \"value\": 606}, \"607\": {\"frequency\": 25, \"value\": 607}, \"608\": {\"frequency\": 170, \"value\": 608}, \"609\": {\"frequency\": 52, \"value\": 609}, \"610\": {\"frequency\": 126, \"value\": 610}, \"611\": {\"frequency\": 132, \"value\": 611}, \"612\": {\"frequency\": 50, \"value\": 612}, \"613\": {\"frequency\": 106, \"value\": 613}, \"614\": {\"frequency\": 54, \"value\": 614}, \"615\": {\"frequency\": 94, \"value\": 615}, \"616\": {\"frequency\": 44, \"value\": 616}, \"617\": {\"frequency\": 23, \"value\": 617}, \"618\": {\"frequency\": 45, \"value\": 618}, \"619\": {\"frequency\": 22, \"value\": 619}, \"620\": {\"frequency\": 179, \"value\": 620}, \"621\": {\"frequency\": 240, \"value\": 621}, \"622\": {\"frequency\": 57, \"value\": 622}, \"623\": {\"frequency\": 172, \"value\": 623}, \"624\": {\"frequency\": 372, \"value\": 624}, \"625\": {\"frequency\": 45, \"value\": 625}, \"626\": {\"frequency\": 72, \"value\": 626}, \"627\": {\"frequency\": 32, \"value\": 627}, \"628\": {\"frequency\": 52, \"value\": 628}, \"629\": {\"frequency\": 237, \"value\": 629}, \"630\": {\"frequency\": 118, \"value\": 630}, \"631\": {\"frequency\": 312, \"value\": 631}, \"632\": {\"frequency\": 34, \"value\": 632}, \"633\": {\"frequency\": 43, \"value\": 633}, \"634\": {\"frequency\": 67, \"value\": 634}, \"635\": {\"frequency\": 177, \"value\": 635}, \"636\": {\"frequency\": 86, \"value\": 636}, \"637\": {\"frequency\": 377, \"value\": 637}, \"638\": {\"frequency\": 114, \"value\": 638}, \"639\": {\"frequency\": 400, \"value\": 639}, \"640\": {\"frequency\": 21, \"value\": 640}, \"641\": {\"frequency\": 121, \"value\": 641}, \"642\": {\"frequency\": 27, \"value\": 642}, \"643\": {\"frequency\": 70, \"value\": 643}, \"644\": {\"frequency\": 108, \"value\": 644}, \"645\": {\"frequency\": 44, \"value\": 645}, \"646\": {\"frequency\": 254, \"value\": 646}, \"647\": {\"frequency\": 231, \"value\": 647}, \"648\": {\"frequency\": 177, \"value\": 648}, \"649\": {\"frequency\": 71, \"value\": 649}, \"650\": {\"frequency\": 38, \"value\": 650}, \"651\": {\"frequency\": 478, \"value\": 651}, \"652\": {\"frequency\": 132, \"value\": 652}, \"653\": {\"frequency\": 21, \"value\": 653}, \"654\": {\"frequency\": 185, \"value\": 654}, \"655\": {\"frequency\": 412, \"value\": 655}, \"656\": {\"frequency\": 177, \"value\": 656}, \"657\": {\"frequency\": 59, \"value\": 657}, \"658\": {\"frequency\": 93, \"value\": 658}, \"659\": {\"frequency\": 110, \"value\": 659}, \"660\": {\"frequency\": 703, \"value\": 660}, \"661\": {\"frequency\": 71, \"value\": 661}, \"662\": {\"frequency\": 127, \"value\": 662}, \"663\": {\"frequency\": 112, \"value\": 663}, \"664\": {\"frequency\": 158, \"value\": 664}, \"665\": {\"frequency\": 20, \"value\": 665}, \"666\": {\"frequency\": 103, \"value\": 666}, \"667\": {\"frequency\": 171, \"value\": 667}, \"668\": {\"frequency\": 36, \"value\": 668}, \"669\": {\"frequency\": 419, \"value\": 669}, \"670\": {\"frequency\": 90, \"value\": 670}, \"671\": {\"frequency\": 135, \"value\": 671}, \"672\": {\"frequency\": 47, \"value\": 672}, \"673\": {\"frequency\": 403, \"value\": 673}, \"674\": {\"frequency\": 79, \"value\": 674}, \"675\": {\"frequency\": 42, \"value\": 675}, \"676\": {\"frequency\": 390, \"value\": 676}, \"677\": {\"frequency\": 205, \"value\": 677}, \"678\": {\"frequency\": 999, \"value\": 678}, \"679\": {\"frequency\": 82, \"value\": 679}, \"680\": {\"frequency\": 35, \"value\": 680}, \"681\": {\"frequency\": 38, \"value\": 681}, \"682\": {\"frequency\": 75, \"value\": 682}, \"683\": {\"frequency\": 29, \"value\": 683}, \"684\": {\"frequency\": 38, \"value\": 684}, \"685\": {\"frequency\": 140, \"value\": 685}, \"686\": {\"frequency\": 27, \"value\": 686}, \"687\": {\"frequency\": 316, \"value\": 687}, \"688\": {\"frequency\": 36, \"value\": 688}, \"689\": {\"frequency\": 135, \"value\": 689}, \"690\": {\"frequency\": 180, \"value\": 690}, \"691\": {\"frequency\": 103, \"value\": 691}, \"692\": {\"frequency\": 631, \"value\": 692}, \"693\": {\"frequency\": 70, \"value\": 693}, \"694\": {\"frequency\": 40, \"value\": 694}, \"695\": {\"frequency\": 191, \"value\": 695}, \"696\": {\"frequency\": 401, \"value\": 696}, \"697\": {\"frequency\": 125, \"value\": 697}, \"698\": {\"frequency\": 270, \"value\": 698}, \"699\": {\"frequency\": 674, \"value\": 699}, \"700\": {\"frequency\": 32, \"value\": 700}, \"701\": {\"frequency\": 82, \"value\": 701}, \"702\": {\"frequency\": 479, \"value\": 702}, \"703\": {\"frequency\": 20, \"value\": 703}, \"704\": {\"frequency\": 74, \"value\": 704}, \"705\": {\"frequency\": 132, \"value\": 705}, \"706\": {\"frequency\": 151, \"value\": 706}, \"707\": {\"frequency\": 52, \"value\": 707}, \"708\": {\"frequency\": 20, \"value\": 708}, \"709\": {\"frequency\": 82, \"value\": 709}, \"710\": {\"frequency\": 885, \"value\": 710}, \"711\": {\"frequency\": 143, \"value\": 711}, \"712\": {\"frequency\": 282, \"value\": 712}, \"713\": {\"frequency\": 242, \"value\": 713}, \"714\": {\"frequency\": 422, \"value\": 714}, \"715\": {\"frequency\": 98, \"value\": 715}, \"716\": {\"frequency\": 392, \"value\": 716}, \"717\": {\"frequency\": 39, \"value\": 717}, \"718\": {\"frequency\": 169, \"value\": 718}, \"719\": {\"frequency\": 28, \"value\": 719}, \"720\": {\"frequency\": 233, \"value\": 720}, \"721\": {\"frequency\": 666, \"value\": 721}, \"722\": {\"frequency\": 55, \"value\": 722}, \"723\": {\"frequency\": 24, \"value\": 723}, \"724\": {\"frequency\": 157, \"value\": 724}, \"725\": {\"frequency\": 81, \"value\": 725}, \"726\": {\"frequency\": 73, \"value\": 726}, \"727\": {\"frequency\": 249, \"value\": 727}, \"728\": {\"frequency\": 167, \"value\": 728}, \"729\": {\"frequency\": 146, \"value\": 729}, \"730\": {\"frequency\": 53, \"value\": 730}, \"731\": {\"frequency\": 642, \"value\": 731}, \"732\": {\"frequency\": 175, \"value\": 732}, \"733\": {\"frequency\": 117, \"value\": 733}, \"734\": {\"frequency\": 44, \"value\": 734}, \"735\": {\"frequency\": 393, \"value\": 735}, \"736\": {\"frequency\": 114, \"value\": 736}, \"737\": {\"frequency\": 217, \"value\": 737}, \"738\": {\"frequency\": 33, \"value\": 738}, \"739\": {\"frequency\": 127, \"value\": 739}, \"740\": {\"frequency\": 37, \"value\": 740}, \"741\": {\"frequency\": 77, \"value\": 741}, \"742\": {\"frequency\": 42, \"value\": 742}, \"743\": {\"frequency\": 149, \"value\": 743}, \"744\": {\"frequency\": 297, \"value\": 744}, \"745\": {\"frequency\": 25, \"value\": 745}, \"746\": {\"frequency\": 424, \"value\": 746}, \"747\": {\"frequency\": 32, \"value\": 747}, \"748\": {\"frequency\": 81, \"value\": 748}, \"749\": {\"frequency\": 459, \"value\": 749}, \"750\": {\"frequency\": 56, \"value\": 750}, \"751\": {\"frequency\": 25, \"value\": 751}, \"752\": {\"frequency\": 1024, \"value\": 752}, \"753\": {\"frequency\": 218, \"value\": 753}, \"754\": {\"frequency\": 157, \"value\": 754}, \"755\": {\"frequency\": 126, \"value\": 755}, \"756\": {\"frequency\": 35, \"value\": 756}, \"757\": {\"frequency\": 465, \"value\": 757}, \"758\": {\"frequency\": 29, \"value\": 758}, \"759\": {\"frequency\": 97, \"value\": 759}, \"760\": {\"frequency\": 64, \"value\": 760}, \"761\": {\"frequency\": 20, \"value\": 761}, \"762\": {\"frequency\": 46, \"value\": 762}, \"763\": {\"frequency\": 26, \"value\": 763}, \"764\": {\"frequency\": 139, \"value\": 764}, \"765\": {\"frequency\": 402, \"value\": 765}, \"766\": {\"frequency\": 47, \"value\": 766}, \"767\": {\"frequency\": 170, \"value\": 767}, \"768\": {\"frequency\": 48, \"value\": 768}, \"769\": {\"frequency\": 67, \"value\": 769}, \"770\": {\"frequency\": 759, \"value\": 770}, \"771\": {\"frequency\": 26, \"value\": 771}, \"772\": {\"frequency\": 98, \"value\": 772}, \"773\": {\"frequency\": 49, \"value\": 773}, \"774\": {\"frequency\": 224, \"value\": 774}, \"775\": {\"frequency\": 23, \"value\": 775}, \"776\": {\"frequency\": 103, \"value\": 776}, \"777\": {\"frequency\": 502, \"value\": 777}, \"778\": {\"frequency\": 163, \"value\": 778}, \"779\": {\"frequency\": 48, \"value\": 779}, \"780\": {\"frequency\": 512, \"value\": 780}, \"781\": {\"frequency\": 234, \"value\": 781}, \"782\": {\"frequency\": 23, \"value\": 782}, \"783\": {\"frequency\": 119, \"value\": 783}, \"784\": {\"frequency\": 30, \"value\": 784}, \"785\": {\"frequency\": 106, \"value\": 785}, \"786\": {\"frequency\": 63, \"value\": 786}, \"787\": {\"frequency\": 117, \"value\": 787}, \"788\": {\"frequency\": 196, \"value\": 788}, \"789\": {\"frequency\": 115, \"value\": 789}, \"790\": {\"frequency\": 23, \"value\": 790}, \"791\": {\"frequency\": 328, \"value\": 791}, \"792\": {\"frequency\": 87, \"value\": 792}, \"793\": {\"frequency\": 150, \"value\": 793}, \"794\": {\"frequency\": 43, \"value\": 794}, \"795\": {\"frequency\": 149, \"value\": 795}, \"796\": {\"frequency\": 460, \"value\": 796}, \"797\": {\"frequency\": 83, \"value\": 797}, \"798\": {\"frequency\": 327, \"value\": 798}, \"799\": {\"frequency\": 40, \"value\": 799}, \"800\": {\"frequency\": 266, \"value\": 800}, \"801\": {\"frequency\": 285, \"value\": 801}, \"802\": {\"frequency\": 506, \"value\": 802}, \"803\": {\"frequency\": 52, \"value\": 803}, \"804\": {\"frequency\": 44, \"value\": 804}, \"805\": {\"frequency\": 73, \"value\": 805}, \"806\": {\"frequency\": 66, \"value\": 806}, \"807\": {\"frequency\": 33, \"value\": 807}, \"808\": {\"frequency\": 275, \"value\": 808}, \"809\": {\"frequency\": 94, \"value\": 809}, \"810\": {\"frequency\": 126, \"value\": 810}, \"811\": {\"frequency\": 65, \"value\": 811}, \"812\": {\"frequency\": 92, \"value\": 812}, \"813\": {\"frequency\": 67, \"value\": 813}, \"814\": {\"frequency\": 36, \"value\": 814}, \"815\": {\"frequency\": 29, \"value\": 815}, \"816\": {\"frequency\": 195, \"value\": 816}, \"817\": {\"frequency\": 398, \"value\": 817}, \"818\": {\"frequency\": 171, \"value\": 818}, \"819\": {\"frequency\": 62, \"value\": 819}, \"820\": {\"frequency\": 104, \"value\": 820}, \"821\": {\"frequency\": 21, \"value\": 821}, \"822\": {\"frequency\": 292, \"value\": 822}, \"823\": {\"frequency\": 121, \"value\": 823}, \"824\": {\"frequency\": 308, \"value\": 824}, \"825\": {\"frequency\": 42, \"value\": 825}, \"826\": {\"frequency\": 35, \"value\": 826}, \"827\": {\"frequency\": 22, \"value\": 827}, \"828\": {\"frequency\": 115, \"value\": 828}, \"829\": {\"frequency\": 138, \"value\": 829}, \"830\": {\"frequency\": 174, \"value\": 830}, \"831\": {\"frequency\": 57, \"value\": 831}, \"832\": {\"frequency\": 172, \"value\": 832}, \"833\": {\"frequency\": 21, \"value\": 833}, \"834\": {\"frequency\": 50, \"value\": 834}, \"835\": {\"frequency\": 28, \"value\": 835}, \"836\": {\"frequency\": 70, \"value\": 836}, \"837\": {\"frequency\": 69, \"value\": 837}, \"838\": {\"frequency\": 176, \"value\": 838}, \"839\": {\"frequency\": 774, \"value\": 839}, \"840\": {\"frequency\": 251, \"value\": 840}, \"841\": {\"frequency\": 26, \"value\": 841}, \"842\": {\"frequency\": 37, \"value\": 842}, \"843\": {\"frequency\": 126, \"value\": 843}, \"844\": {\"frequency\": 84, \"value\": 844}, \"845\": {\"frequency\": 52, \"value\": 845}, \"846\": {\"frequency\": 253, \"value\": 846}, \"847\": {\"frequency\": 62, \"value\": 847}, \"848\": {\"frequency\": 56, \"value\": 848}, \"849\": {\"frequency\": 117, \"value\": 849}, \"850\": {\"frequency\": 554, \"value\": 850}, \"851\": {\"frequency\": 76, \"value\": 851}, \"852\": {\"frequency\": 34, \"value\": 852}, \"853\": {\"frequency\": 110, \"value\": 853}, \"854\": {\"frequency\": 506, \"value\": 854}, \"855\": {\"frequency\": 630, \"value\": 855}, \"856\": {\"frequency\": 53, \"value\": 856}, \"857\": {\"frequency\": 70, \"value\": 857}, \"858\": {\"frequency\": 190, \"value\": 858}, \"859\": {\"frequency\": 153, \"value\": 859}, \"860\": {\"frequency\": 42, \"value\": 860}, \"861\": {\"frequency\": 80, \"value\": 861}, \"862\": {\"frequency\": 116, \"value\": 862}, \"863\": {\"frequency\": 62, \"value\": 863}, \"864\": {\"frequency\": 138, \"value\": 864}, \"865\": {\"frequency\": 42, \"value\": 865}, \"866\": {\"frequency\": 36, \"value\": 866}, \"867\": {\"frequency\": 44, \"value\": 867}, \"868\": {\"frequency\": 75, \"value\": 868}, \"869\": {\"frequency\": 842, \"value\": 869}, \"870\": {\"frequency\": 36, \"value\": 870}, \"871\": {\"frequency\": 43, \"value\": 871}, \"872\": {\"frequency\": 107, \"value\": 872}, \"873\": {\"frequency\": 172, \"value\": 873}, \"874\": {\"frequency\": 28, \"value\": 874}, \"875\": {\"frequency\": 84, \"value\": 875}, \"876\": {\"frequency\": 111, \"value\": 876}, \"877\": {\"frequency\": 633, \"value\": 877}, \"878\": {\"frequency\": 49, \"value\": 878}, \"879\": {\"frequency\": 40, \"value\": 879}, \"880\": {\"frequency\": 115, \"value\": 880}, \"881\": {\"frequency\": 914, \"value\": 881}, \"882\": {\"frequency\": 79, \"value\": 882}, \"883\": {\"frequency\": 36, \"value\": 883}, \"884\": {\"frequency\": 99, \"value\": 884}, \"885\": {\"frequency\": 64, \"value\": 885}, \"886\": {\"frequency\": 35, \"value\": 886}, \"887\": {\"frequency\": 96, \"value\": 887}, \"888\": {\"frequency\": 72, \"value\": 888}, \"889\": {\"frequency\": 1518, \"value\": 889}, \"890\": {\"frequency\": 228, \"value\": 890}, \"891\": {\"frequency\": 223, \"value\": 891}, \"892\": {\"frequency\": 34, \"value\": 892}, \"893\": {\"frequency\": 110, \"value\": 893}, \"894\": {\"frequency\": 70, \"value\": 894}, \"895\": {\"frequency\": 64, \"value\": 895}, \"896\": {\"frequency\": 64, \"value\": 896}, \"897\": {\"frequency\": 203, \"value\": 897}, \"898\": {\"frequency\": 24, \"value\": 898}, \"899\": {\"frequency\": 323, \"value\": 899}, \"900\": {\"frequency\": 26, \"value\": 900}, \"901\": {\"frequency\": 33, \"value\": 901}, \"902\": {\"frequency\": 25, \"value\": 902}, \"903\": {\"frequency\": 74, \"value\": 903}, \"904\": {\"frequency\": 246, \"value\": 904}, \"905\": {\"frequency\": 123, \"value\": 905}, \"906\": {\"frequency\": 21, \"value\": 906}, \"907\": {\"frequency\": 21, \"value\": 907}, \"908\": {\"frequency\": 39, \"value\": 908}, \"909\": {\"frequency\": 71, \"value\": 909}, \"910\": {\"frequency\": 163, \"value\": 910}, \"911\": {\"frequency\": 525, \"value\": 911}, \"912\": {\"frequency\": 43, \"value\": 912}, \"913\": {\"frequency\": 45, \"value\": 913}, \"914\": {\"frequency\": 61, \"value\": 914}, \"915\": {\"frequency\": 95, \"value\": 915}, \"916\": {\"frequency\": 55, \"value\": 916}, \"917\": {\"frequency\": 29, \"value\": 917}, \"918\": {\"frequency\": 144, \"value\": 918}, \"919\": {\"frequency\": 326, \"value\": 919}, \"920\": {\"frequency\": 78, \"value\": 920}, \"921\": {\"frequency\": 158, \"value\": 921}, \"922\": {\"frequency\": 343, \"value\": 922}, \"923\": {\"frequency\": 46, \"value\": 923}, \"924\": {\"frequency\": 199, \"value\": 924}, \"925\": {\"frequency\": 68, \"value\": 925}, \"926\": {\"frequency\": 105, \"value\": 926}, \"927\": {\"frequency\": 191, \"value\": 927}, \"928\": {\"frequency\": 212, \"value\": 928}, \"929\": {\"frequency\": 355, \"value\": 929}, \"930\": {\"frequency\": 98, \"value\": 930}, \"931\": {\"frequency\": 157, \"value\": 931}, \"932\": {\"frequency\": 20, \"value\": 932}, \"933\": {\"frequency\": 62, \"value\": 933}, \"934\": {\"frequency\": 498, \"value\": 934}, \"935\": {\"frequency\": 388, \"value\": 935}, \"936\": {\"frequency\": 88, \"value\": 936}, \"937\": {\"frequency\": 348, \"value\": 937}, \"938\": {\"frequency\": 31, \"value\": 938}, \"939\": {\"frequency\": 165, \"value\": 939}, \"940\": {\"frequency\": 130, \"value\": 940}, \"941\": {\"frequency\": 28, \"value\": 941}, \"942\": {\"frequency\": 25, \"value\": 942}, \"943\": {\"frequency\": 81, \"value\": 943}, \"944\": {\"frequency\": 45, \"value\": 944}, \"945\": {\"frequency\": 163, \"value\": 945}, \"946\": {\"frequency\": 33, \"value\": 946}, \"947\": {\"frequency\": 20, \"value\": 947}, \"948\": {\"frequency\": 517, \"value\": 948}, \"949\": {\"frequency\": 369, \"value\": 949}, \"950\": {\"frequency\": 55, \"value\": 950}, \"951\": {\"frequency\": 21, \"value\": 951}, \"952\": {\"frequency\": 157, \"value\": 952}, \"953\": {\"frequency\": 189, \"value\": 953}, \"954\": {\"frequency\": 126, \"value\": 954}, \"955\": {\"frequency\": 338, \"value\": 955}, \"956\": {\"frequency\": 108, \"value\": 956}, \"957\": {\"frequency\": 328, \"value\": 957}, \"958\": {\"frequency\": 158, \"value\": 958}, \"959\": {\"frequency\": 96, \"value\": 959}, \"960\": {\"frequency\": 128, \"value\": 960}, \"961\": {\"frequency\": 50, \"value\": 961}, \"962\": {\"frequency\": 51, \"value\": 962}, \"963\": {\"frequency\": 424, \"value\": 963}, \"964\": {\"frequency\": 78, \"value\": 964}, \"965\": {\"frequency\": 77, \"value\": 965}, \"966\": {\"frequency\": 165, \"value\": 966}, \"967\": {\"frequency\": 91, \"value\": 967}, \"968\": {\"frequency\": 16, \"value\": 968}, \"969\": {\"frequency\": 26, \"value\": 969}, \"970\": {\"frequency\": 549, \"value\": 970}, \"971\": {\"frequency\": 223, \"value\": 971}, \"972\": {\"frequency\": 35, \"value\": 972}, \"973\": {\"frequency\": 217, \"value\": 973}, \"974\": {\"frequency\": 60, \"value\": 974}, \"975\": {\"frequency\": 404, \"value\": 975}, \"976\": {\"frequency\": 55, \"value\": 976}, \"977\": {\"frequency\": 240, \"value\": 977}, \"978\": {\"frequency\": 44, \"value\": 978}, \"979\": {\"frequency\": 74, \"value\": 979}, \"980\": {\"frequency\": 135, \"value\": 980}, \"981\": {\"frequency\": 227, \"value\": 981}, \"982\": {\"frequency\": 51, \"value\": 982}, \"983\": {\"frequency\": 78, \"value\": 983}, \"984\": {\"frequency\": 694, \"value\": 984}, \"985\": {\"frequency\": 146, \"value\": 985}, \"986\": {\"frequency\": 22, \"value\": 986}, \"987\": {\"frequency\": 176, \"value\": 987}, \"988\": {\"frequency\": 73, \"value\": 988}, \"989\": {\"frequency\": 44, \"value\": 989}, \"990\": {\"frequency\": 102, \"value\": 990}, \"991\": {\"frequency\": 60, \"value\": 991}, \"992\": {\"frequency\": 31, \"value\": 992}, \"993\": {\"frequency\": 58, \"value\": 993}, \"994\": {\"frequency\": 39, \"value\": 994}, \"995\": {\"frequency\": 49, \"value\": 995}, \"996\": {\"frequency\": 296, \"value\": 996}, \"997\": {\"frequency\": 30, \"value\": 997}, \"998\": {\"frequency\": 135, \"value\": 998}, \"999\": {\"frequency\": 412, \"value\": 999}, \"1000\": {\"frequency\": 84, \"value\": 1000}, \"1001\": {\"frequency\": 377, \"value\": 1001}, \"1002\": {\"frequency\": 66, \"value\": 1002}, \"1003\": {\"frequency\": 29, \"value\": 1003}, \"1004\": {\"frequency\": 481, \"value\": 1004}, \"1005\": {\"frequency\": 92, \"value\": 1005}, \"1006\": {\"frequency\": 44, \"value\": 1006}, \"1007\": {\"frequency\": 32, \"value\": 1007}, \"1008\": {\"frequency\": 50, \"value\": 1008}, \"1009\": {\"frequency\": 52, \"value\": 1009}, \"1010\": {\"frequency\": 1004, \"value\": 1010}, \"1011\": {\"frequency\": 37, \"value\": 1011}, \"1012\": {\"frequency\": 55, \"value\": 1012}, \"1013\": {\"frequency\": 46, \"value\": 1013}, \"1014\": {\"frequency\": 39, \"value\": 1014}, \"1015\": {\"frequency\": 1286, \"value\": 1015}, \"1016\": {\"frequency\": 151, \"value\": 1016}, \"1017\": {\"frequency\": 521, \"value\": 1017}, \"1018\": {\"frequency\": 122, \"value\": 1018}, \"1019\": {\"frequency\": 928, \"value\": 1019}, \"1020\": {\"frequency\": 88, \"value\": 1020}, \"1021\": {\"frequency\": 131, \"value\": 1021}, \"1022\": {\"frequency\": 146, \"value\": 1022}, \"1023\": {\"frequency\": 41, \"value\": 1023}, \"1024\": {\"frequency\": 43, \"value\": 1024}, \"1025\": {\"frequency\": 33, \"value\": 1025}, \"1026\": {\"frequency\": 44, \"value\": 1026}, \"1027\": {\"frequency\": 46, \"value\": 1027}, \"1028\": {\"frequency\": 61, \"value\": 1028}, \"1029\": {\"frequency\": 256, \"value\": 1029}, \"1030\": {\"frequency\": 171, \"value\": 1030}, \"1031\": {\"frequency\": 155, \"value\": 1031}, \"1032\": {\"frequency\": 103, \"value\": 1032}, \"1033\": {\"frequency\": 194, \"value\": 1033}, \"1034\": {\"frequency\": 337, \"value\": 1034}, \"1035\": {\"frequency\": 91, \"value\": 1035}, \"1036\": {\"frequency\": 50, \"value\": 1036}, \"1037\": {\"frequency\": 38, \"value\": 1037}, \"1038\": {\"frequency\": 148, \"value\": 1038}, \"1039\": {\"frequency\": 28, \"value\": 1039}, \"1040\": {\"frequency\": 259, \"value\": 1040}, \"1041\": {\"frequency\": 85, \"value\": 1041}, \"1042\": {\"frequency\": 45, \"value\": 1042}, \"1043\": {\"frequency\": 36, \"value\": 1043}, \"1044\": {\"frequency\": 144, \"value\": 1044}, \"1045\": {\"frequency\": 37, \"value\": 1045}, \"1046\": {\"frequency\": 26, \"value\": 1046}, \"1047\": {\"frequency\": 76, \"value\": 1047}, \"1048\": {\"frequency\": 41, \"value\": 1048}, \"1049\": {\"frequency\": 36, \"value\": 1049}, \"1050\": {\"frequency\": 564, \"value\": 1050}, \"1051\": {\"frequency\": 862, \"value\": 1051}, \"1052\": {\"frequency\": 67, \"value\": 1052}, \"1053\": {\"frequency\": 335, \"value\": 1053}, \"1054\": {\"frequency\": 127, \"value\": 1054}, \"1055\": {\"frequency\": 78, \"value\": 1055}, \"1056\": {\"frequency\": 76, \"value\": 1056}, \"1057\": {\"frequency\": 179, \"value\": 1057}, \"1058\": {\"frequency\": 357, \"value\": 1058}, \"1059\": {\"frequency\": 513, \"value\": 1059}, \"1060\": {\"frequency\": 80, \"value\": 1060}, \"1061\": {\"frequency\": 51, \"value\": 1061}, \"1062\": {\"frequency\": 194, \"value\": 1062}, \"1063\": {\"frequency\": 100, \"value\": 1063}, \"1064\": {\"frequency\": 103, \"value\": 1064}, \"1065\": {\"frequency\": 88, \"value\": 1065}, \"1066\": {\"frequency\": 122, \"value\": 1066}, \"1067\": {\"frequency\": 96, \"value\": 1067}, \"1068\": {\"frequency\": 597, \"value\": 1068}, \"1069\": {\"frequency\": 609, \"value\": 1069}, \"1070\": {\"frequency\": 21, \"value\": 1070}, \"1071\": {\"frequency\": 143, \"value\": 1071}, \"1072\": {\"frequency\": 105, \"value\": 1072}, \"1073\": {\"frequency\": 116, \"value\": 1073}, \"1074\": {\"frequency\": 192, \"value\": 1074}, \"1075\": {\"frequency\": 41, \"value\": 1075}, \"1076\": {\"frequency\": 41, \"value\": 1076}, \"1077\": {\"frequency\": 309, \"value\": 1077}, \"1078\": {\"frequency\": 127, \"value\": 1078}, \"1079\": {\"frequency\": 121, \"value\": 1079}, \"1080\": {\"frequency\": 54, \"value\": 1080}, \"1081\": {\"frequency\": 34, \"value\": 1081}, \"1082\": {\"frequency\": 57, \"value\": 1082}, \"1083\": {\"frequency\": 26, \"value\": 1083}, \"1084\": {\"frequency\": 180, \"value\": 1084}, \"1085\": {\"frequency\": 35, \"value\": 1085}, \"1086\": {\"frequency\": 312, \"value\": 1086}, \"1087\": {\"frequency\": 392, \"value\": 1087}, \"1088\": {\"frequency\": 1176, \"value\": 1088}, \"1089\": {\"frequency\": 72, \"value\": 1089}, \"1090\": {\"frequency\": 73, \"value\": 1090}, \"1091\": {\"frequency\": 33, \"value\": 1091}, \"1092\": {\"frequency\": 51, \"value\": 1092}, \"1093\": {\"frequency\": 70, \"value\": 1093}, \"1094\": {\"frequency\": 164, \"value\": 1094}, \"1095\": {\"frequency\": 36, \"value\": 1095}, \"1096\": {\"frequency\": 268, \"value\": 1096}, \"1097\": {\"frequency\": 168, \"value\": 1097}, \"1098\": {\"frequency\": 32, \"value\": 1098}, \"1099\": {\"frequency\": 188, \"value\": 1099}, \"1100\": {\"frequency\": 508, \"value\": 1100}, \"1101\": {\"frequency\": 518, \"value\": 1101}, \"1102\": {\"frequency\": 27, \"value\": 1102}, \"1103\": {\"frequency\": 60, \"value\": 1103}, \"1104\": {\"frequency\": 54, \"value\": 1104}, \"1105\": {\"frequency\": 161, \"value\": 1105}, \"1106\": {\"frequency\": 64, \"value\": 1106}, \"1107\": {\"frequency\": 78, \"value\": 1107}, \"1108\": {\"frequency\": 44, \"value\": 1108}, \"1109\": {\"frequency\": 205, \"value\": 1109}, \"1110\": {\"frequency\": 49, \"value\": 1110}, \"1111\": {\"frequency\": 33, \"value\": 1111}, \"1112\": {\"frequency\": 679, \"value\": 1112}, \"1113\": {\"frequency\": 319, \"value\": 1113}, \"1114\": {\"frequency\": 134, \"value\": 1114}, \"1115\": {\"frequency\": 109, \"value\": 1115}, \"1116\": {\"frequency\": 142, \"value\": 1116}, \"1117\": {\"frequency\": 754, \"value\": 1117}, \"1118\": {\"frequency\": 30, \"value\": 1118}, \"1119\": {\"frequency\": 395, \"value\": 1119}, \"1120\": {\"frequency\": 735, \"value\": 1120}, \"1121\": {\"frequency\": 289, \"value\": 1121}, \"1122\": {\"frequency\": 114, \"value\": 1122}, \"1123\": {\"frequency\": 30, \"value\": 1123}, \"1124\": {\"frequency\": 389, \"value\": 1124}, \"1125\": {\"frequency\": 580, \"value\": 1125}, \"1126\": {\"frequency\": 21, \"value\": 1126}, \"1127\": {\"frequency\": 131, \"value\": 1127}, \"1128\": {\"frequency\": 498, \"value\": 1128}, \"1129\": {\"frequency\": 103, \"value\": 1129}, \"1130\": {\"frequency\": 279, \"value\": 1130}, \"1131\": {\"frequency\": 103, \"value\": 1131}, \"1132\": {\"frequency\": 163, \"value\": 1132}, \"1133\": {\"frequency\": 168, \"value\": 1133}, \"1134\": {\"frequency\": 150, \"value\": 1134}, \"1135\": {\"frequency\": 172, \"value\": 1135}, \"1136\": {\"frequency\": 56, \"value\": 1136}, \"1137\": {\"frequency\": 564, \"value\": 1137}, \"1138\": {\"frequency\": 89, \"value\": 1138}, \"1139\": {\"frequency\": 182, \"value\": 1139}, \"1140\": {\"frequency\": 374, \"value\": 1140}, \"1141\": {\"frequency\": 466, \"value\": 1141}, \"1142\": {\"frequency\": 263, \"value\": 1142}, \"1143\": {\"frequency\": 53, \"value\": 1143}, \"1144\": {\"frequency\": 22, \"value\": 1144}, \"1145\": {\"frequency\": 57, \"value\": 1145}, \"1146\": {\"frequency\": 378, \"value\": 1146}, \"1147\": {\"frequency\": 333, \"value\": 1147}, \"1148\": {\"frequency\": 59, \"value\": 1148}, \"1149\": {\"frequency\": 89, \"value\": 1149}, \"1150\": {\"frequency\": 1302, \"value\": 1150}, \"1151\": {\"frequency\": 308, \"value\": 1151}, \"1152\": {\"frequency\": 149, \"value\": 1152}, \"1153\": {\"frequency\": 76, \"value\": 1153}, \"1154\": {\"frequency\": 24, \"value\": 1154}, \"1155\": {\"frequency\": 182, \"value\": 1155}, \"1156\": {\"frequency\": 72, \"value\": 1156}, \"1157\": {\"frequency\": 22, \"value\": 1157}, \"1158\": {\"frequency\": 64, \"value\": 1158}, \"1159\": {\"frequency\": 121, \"value\": 1159}, \"1160\": {\"frequency\": 107, \"value\": 1160}, \"1161\": {\"frequency\": 95, \"value\": 1161}, \"1162\": {\"frequency\": 156, \"value\": 1162}, \"1163\": {\"frequency\": 64, \"value\": 1163}, \"1164\": {\"frequency\": 458, \"value\": 1164}, \"1165\": {\"frequency\": 141, \"value\": 1165}, \"1166\": {\"frequency\": 26, \"value\": 1166}, \"1167\": {\"frequency\": 70, \"value\": 1167}, \"1168\": {\"frequency\": 233, \"value\": 1168}, \"1169\": {\"frequency\": 118, \"value\": 1169}, \"1170\": {\"frequency\": 258, \"value\": 1170}, \"1171\": {\"frequency\": 28, \"value\": 1171}, \"1172\": {\"frequency\": 443, \"value\": 1172}, \"1173\": {\"frequency\": 361, \"value\": 1173}, \"1174\": {\"frequency\": 24, \"value\": 1174}, \"1175\": {\"frequency\": 72, \"value\": 1175}, \"1176\": {\"frequency\": 126, \"value\": 1176}, \"1177\": {\"frequency\": 79, \"value\": 1177}, \"1178\": {\"frequency\": 36, \"value\": 1178}, \"1179\": {\"frequency\": 234, \"value\": 1179}, \"1180\": {\"frequency\": 37, \"value\": 1180}, \"1181\": {\"frequency\": 1521, \"value\": 1181}, \"1182\": {\"frequency\": 364, \"value\": 1182}, \"1183\": {\"frequency\": 186, \"value\": 1183}, \"1184\": {\"frequency\": 278, \"value\": 1184}, \"1185\": {\"frequency\": 90, \"value\": 1185}, \"1186\": {\"frequency\": 206, \"value\": 1186}, \"1187\": {\"frequency\": 31, \"value\": 1187}, \"1188\": {\"frequency\": 31, \"value\": 1188}, \"1189\": {\"frequency\": 25, \"value\": 1189}, \"1190\": {\"frequency\": 27, \"value\": 1190}, \"1191\": {\"frequency\": 105, \"value\": 1191}, \"1192\": {\"frequency\": 29, \"value\": 1192}, \"1193\": {\"frequency\": 276, \"value\": 1193}, \"1194\": {\"frequency\": 649, \"value\": 1194}, \"1195\": {\"frequency\": 96, \"value\": 1195}, \"1196\": {\"frequency\": 112, \"value\": 1196}, \"1197\": {\"frequency\": 24, \"value\": 1197}, \"1198\": {\"frequency\": 102, \"value\": 1198}, \"1199\": {\"frequency\": 179, \"value\": 1199}, \"1200\": {\"frequency\": 39, \"value\": 1200}, \"1201\": {\"frequency\": 66, \"value\": 1201}, \"1202\": {\"frequency\": 520, \"value\": 1202}, \"1203\": {\"frequency\": 741, \"value\": 1203}, \"1204\": {\"frequency\": 136, \"value\": 1204}, \"1205\": {\"frequency\": 85, \"value\": 1205}, \"1206\": {\"frequency\": 141, \"value\": 1206}, \"1207\": {\"frequency\": 618, \"value\": 1207}, \"1208\": {\"frequency\": 48, \"value\": 1208}, \"1209\": {\"frequency\": 221, \"value\": 1209}, \"1210\": {\"frequency\": 39, \"value\": 1210}, \"1211\": {\"frequency\": 397, \"value\": 1211}, \"1212\": {\"frequency\": 69, \"value\": 1212}, \"1213\": {\"frequency\": 24, \"value\": 1213}, \"1214\": {\"frequency\": 46, \"value\": 1214}, \"1215\": {\"frequency\": 115, \"value\": 1215}, \"1216\": {\"frequency\": 213, \"value\": 1216}, \"1217\": {\"frequency\": 51, \"value\": 1217}, \"1218\": {\"frequency\": 235, \"value\": 1218}, \"1219\": {\"frequency\": 224, \"value\": 1219}, \"1220\": {\"frequency\": 195, \"value\": 1220}, \"1221\": {\"frequency\": 221, \"value\": 1221}, \"1222\": {\"frequency\": 68, \"value\": 1222}, \"1223\": {\"frequency\": 146, \"value\": 1223}, \"1224\": {\"frequency\": 578, \"value\": 1224}, \"1225\": {\"frequency\": 28, \"value\": 1225}, \"1226\": {\"frequency\": 21, \"value\": 1226}, \"1227\": {\"frequency\": 154, \"value\": 1227}, \"1228\": {\"frequency\": 251, \"value\": 1228}, \"1229\": {\"frequency\": 30, \"value\": 1229}, \"1230\": {\"frequency\": 253, \"value\": 1230}, \"1231\": {\"frequency\": 110, \"value\": 1231}, \"1232\": {\"frequency\": 135, \"value\": 1232}, \"1233\": {\"frequency\": 61, \"value\": 1233}, \"1234\": {\"frequency\": 24, \"value\": 1234}, \"1235\": {\"frequency\": 50, \"value\": 1235}, \"1236\": {\"frequency\": 24, \"value\": 1236}, \"1237\": {\"frequency\": 30, \"value\": 1237}, \"1238\": {\"frequency\": 45, \"value\": 1238}, \"1239\": {\"frequency\": 88, \"value\": 1239}, \"1240\": {\"frequency\": 30, \"value\": 1240}, \"1241\": {\"frequency\": 194, \"value\": 1241}, \"1242\": {\"frequency\": 616, \"value\": 1242}, \"1243\": {\"frequency\": 368, \"value\": 1243}, \"1244\": {\"frequency\": 543, \"value\": 1244}, \"1245\": {\"frequency\": 36, \"value\": 1245}, \"1246\": {\"frequency\": 572, \"value\": 1246}, \"1247\": {\"frequency\": 36, \"value\": 1247}, \"1248\": {\"frequency\": 94, \"value\": 1248}, \"1249\": {\"frequency\": 25, \"value\": 1249}, \"1250\": {\"frequency\": 21, \"value\": 1250}, \"1251\": {\"frequency\": 45, \"value\": 1251}, \"1252\": {\"frequency\": 118, \"value\": 1252}, \"1253\": {\"frequency\": 74, \"value\": 1253}, \"1254\": {\"frequency\": 110, \"value\": 1254}, \"1255\": {\"frequency\": 235, \"value\": 1255}, \"1256\": {\"frequency\": 32, \"value\": 1256}, \"1257\": {\"frequency\": 49, \"value\": 1257}, \"1259\": {\"frequency\": 60, \"value\": 1259}, \"1260\": {\"frequency\": 509, \"value\": 1260}, \"1261\": {\"frequency\": 195, \"value\": 1261}, \"1262\": {\"frequency\": 158, \"value\": 1262}, \"1263\": {\"frequency\": 279, \"value\": 1263}, \"1264\": {\"frequency\": 711, \"value\": 1264}, \"1265\": {\"frequency\": 343, \"value\": 1265}, \"1266\": {\"frequency\": 726, \"value\": 1266}, \"1267\": {\"frequency\": 170, \"value\": 1267}, \"1268\": {\"frequency\": 202, \"value\": 1268}, \"1269\": {\"frequency\": 32, \"value\": 1269}, \"1270\": {\"frequency\": 29, \"value\": 1270}, \"1271\": {\"frequency\": 170, \"value\": 1271}, \"1272\": {\"frequency\": 284, \"value\": 1272}, \"1273\": {\"frequency\": 334, \"value\": 1273}, \"1274\": {\"frequency\": 591, \"value\": 1274}, \"1275\": {\"frequency\": 30, \"value\": 1275}, \"1276\": {\"frequency\": 77, \"value\": 1276}, \"1277\": {\"frequency\": 37, \"value\": 1277}, \"1278\": {\"frequency\": 67, \"value\": 1278}, \"1279\": {\"frequency\": 361, \"value\": 1279}, \"1280\": {\"frequency\": 50, \"value\": 1280}, \"1281\": {\"frequency\": 144, \"value\": 1281}, \"1282\": {\"frequency\": 21, \"value\": 1282}, \"1283\": {\"frequency\": 46, \"value\": 1283}, \"1284\": {\"frequency\": 507, \"value\": 1284}, \"1285\": {\"frequency\": 1144, \"value\": 1285}, \"1286\": {\"frequency\": 68, \"value\": 1286}, \"1287\": {\"frequency\": 94, \"value\": 1287}, \"1288\": {\"frequency\": 129, \"value\": 1288}, \"1289\": {\"frequency\": 39, \"value\": 1289}, \"1290\": {\"frequency\": 55, \"value\": 1290}, \"1291\": {\"frequency\": 283, \"value\": 1291}, \"1292\": {\"frequency\": 48, \"value\": 1292}, \"1293\": {\"frequency\": 68, \"value\": 1293}, \"1294\": {\"frequency\": 261, \"value\": 1294}, \"1295\": {\"frequency\": 40, \"value\": 1295}, \"1296\": {\"frequency\": 48, \"value\": 1296}, \"1297\": {\"frequency\": 487, \"value\": 1297}, \"1298\": {\"frequency\": 614, \"value\": 1298}, \"1299\": {\"frequency\": 234, \"value\": 1299}, \"1300\": {\"frequency\": 166, \"value\": 1300}, \"1301\": {\"frequency\": 297, \"value\": 1301}, \"1302\": {\"frequency\": 60, \"value\": 1302}, \"1303\": {\"frequency\": 677, \"value\": 1303}, \"1304\": {\"frequency\": 84, \"value\": 1304}, \"1305\": {\"frequency\": 21, \"value\": 1305}, \"1306\": {\"frequency\": 461, \"value\": 1306}, \"1307\": {\"frequency\": 21, \"value\": 1307}, \"1308\": {\"frequency\": 89, \"value\": 1308}, \"1309\": {\"frequency\": 24, \"value\": 1309}, \"1310\": {\"frequency\": 24, \"value\": 1310}, \"1311\": {\"frequency\": 188, \"value\": 1311}, \"1312\": {\"frequency\": 155, \"value\": 1312}, \"1313\": {\"frequency\": 29, \"value\": 1313}, \"1314\": {\"frequency\": 228, \"value\": 1314}, \"1315\": {\"frequency\": 93, \"value\": 1315}, \"1316\": {\"frequency\": 38, \"value\": 1316}, \"1317\": {\"frequency\": 799, \"value\": 1317}, \"1318\": {\"frequency\": 21, \"value\": 1318}, \"1319\": {\"frequency\": 28, \"value\": 1319}, \"1320\": {\"frequency\": 117, \"value\": 1320}, \"1321\": {\"frequency\": 171, \"value\": 1321}, \"1322\": {\"frequency\": 384, \"value\": 1322}, \"1323\": {\"frequency\": 148, \"value\": 1323}, \"1324\": {\"frequency\": 108, \"value\": 1324}, \"1325\": {\"frequency\": 282, \"value\": 1325}, \"1326\": {\"frequency\": 37, \"value\": 1326}, \"1327\": {\"frequency\": 71, \"value\": 1327}, \"1328\": {\"frequency\": 125, \"value\": 1328}, \"1329\": {\"frequency\": 410, \"value\": 1329}, \"1330\": {\"frequency\": 46, \"value\": 1330}, \"1331\": {\"frequency\": 150, \"value\": 1331}, \"1332\": {\"frequency\": 32, \"value\": 1332}, \"1333\": {\"frequency\": 557, \"value\": 1333}, \"1334\": {\"frequency\": 59, \"value\": 1334}, \"1335\": {\"frequency\": 307, \"value\": 1335}, \"1336\": {\"frequency\": 23, \"value\": 1336}, \"1337\": {\"frequency\": 65, \"value\": 1337}, \"1338\": {\"frequency\": 132, \"value\": 1338}, \"1339\": {\"frequency\": 213, \"value\": 1339}, \"1340\": {\"frequency\": 805, \"value\": 1340}, \"1341\": {\"frequency\": 87, \"value\": 1341}, \"1342\": {\"frequency\": 92, \"value\": 1342}, \"1343\": {\"frequency\": 279, \"value\": 1343}, \"1344\": {\"frequency\": 75, \"value\": 1344}, \"1345\": {\"frequency\": 189, \"value\": 1345}, \"1346\": {\"frequency\": 28, \"value\": 1346}, \"1347\": {\"frequency\": 158, \"value\": 1347}, \"1348\": {\"frequency\": 139, \"value\": 1348}, \"1349\": {\"frequency\": 43, \"value\": 1349}, \"1350\": {\"frequency\": 112, \"value\": 1350}, \"1351\": {\"frequency\": 20, \"value\": 1351}, \"1352\": {\"frequency\": 158, \"value\": 1352}, \"1353\": {\"frequency\": 63, \"value\": 1353}, \"1354\": {\"frequency\": 684, \"value\": 1354}, \"1355\": {\"frequency\": 53, \"value\": 1355}, \"1356\": {\"frequency\": 461, \"value\": 1356}, \"1357\": {\"frequency\": 177, \"value\": 1357}, \"1358\": {\"frequency\": 231, \"value\": 1358}, \"1359\": {\"frequency\": 96, \"value\": 1359}, \"1360\": {\"frequency\": 103, \"value\": 1360}, \"1361\": {\"frequency\": 133, \"value\": 1361}, \"1362\": {\"frequency\": 219, \"value\": 1362}, \"1363\": {\"frequency\": 21, \"value\": 1363}, \"1364\": {\"frequency\": 55, \"value\": 1364}, \"1365\": {\"frequency\": 67, \"value\": 1365}, \"1366\": {\"frequency\": 143, \"value\": 1366}, \"1367\": {\"frequency\": 211, \"value\": 1367}, \"1368\": {\"frequency\": 44, \"value\": 1368}, \"1369\": {\"frequency\": 404, \"value\": 1369}, \"1370\": {\"frequency\": 148, \"value\": 1370}, \"1371\": {\"frequency\": 44, \"value\": 1371}, \"1372\": {\"frequency\": 53, \"value\": 1372}, \"1373\": {\"frequency\": 74, \"value\": 1373}, \"1374\": {\"frequency\": 103, \"value\": 1374}, \"1375\": {\"frequency\": 60, \"value\": 1375}, \"1376\": {\"frequency\": 94, \"value\": 1376}, \"1377\": {\"frequency\": 521, \"value\": 1377}, \"1378\": {\"frequency\": 58, \"value\": 1378}, \"1379\": {\"frequency\": 32, \"value\": 1379}, \"1380\": {\"frequency\": 253, \"value\": 1380}, \"1381\": {\"frequency\": 69, \"value\": 1381}, \"1382\": {\"frequency\": 36, \"value\": 1382}, \"1383\": {\"frequency\": 822, \"value\": 1383}, \"1384\": {\"frequency\": 22, \"value\": 1384}, \"1385\": {\"frequency\": 22, \"value\": 1385}, \"1386\": {\"frequency\": 82, \"value\": 1386}, \"1387\": {\"frequency\": 223, \"value\": 1387}, \"1388\": {\"frequency\": 53, \"value\": 1388}, \"1389\": {\"frequency\": 411, \"value\": 1389}, \"1390\": {\"frequency\": 309, \"value\": 1390}, \"1391\": {\"frequency\": 209, \"value\": 1391}, \"1392\": {\"frequency\": 243, \"value\": 1392}, \"1393\": {\"frequency\": 109, \"value\": 1393}, \"1394\": {\"frequency\": 27, \"value\": 1394}, \"1395\": {\"frequency\": 312, \"value\": 1395}, \"1396\": {\"frequency\": 186, \"value\": 1396}, \"1397\": {\"frequency\": 53, \"value\": 1397}, \"1398\": {\"frequency\": 38, \"value\": 1398}, \"1399\": {\"frequency\": 288, \"value\": 1399}, \"1400\": {\"frequency\": 58, \"value\": 1400}, \"1401\": {\"frequency\": 56, \"value\": 1401}, \"1402\": {\"frequency\": 49, \"value\": 1402}, \"1403\": {\"frequency\": 65, \"value\": 1403}, \"1404\": {\"frequency\": 332, \"value\": 1404}, \"1405\": {\"frequency\": 45, \"value\": 1405}, \"1406\": {\"frequency\": 20, \"value\": 1406}, \"1407\": {\"frequency\": 182, \"value\": 1407}, \"1408\": {\"frequency\": 136, \"value\": 1408}, \"1409\": {\"frequency\": 84, \"value\": 1409}, \"1410\": {\"frequency\": 78, \"value\": 1410}, \"1411\": {\"frequency\": 60, \"value\": 1411}, \"1412\": {\"frequency\": 24, \"value\": 1412}, \"1413\": {\"frequency\": 185, \"value\": 1413}, \"1414\": {\"frequency\": 74, \"value\": 1414}, \"1415\": {\"frequency\": 179, \"value\": 1415}, \"1416\": {\"frequency\": 22, \"value\": 1416}, \"1417\": {\"frequency\": 29, \"value\": 1417}, \"1418\": {\"frequency\": 286, \"value\": 1418}, \"1419\": {\"frequency\": 51, \"value\": 1419}, \"1420\": {\"frequency\": 279, \"value\": 1420}, \"1421\": {\"frequency\": 195, \"value\": 1421}, \"1422\": {\"frequency\": 728, \"value\": 1422}, \"1423\": {\"frequency\": 80, \"value\": 1423}, \"1424\": {\"frequency\": 44, \"value\": 1424}, \"1425\": {\"frequency\": 778, \"value\": 1425}, \"1426\": {\"frequency\": 382, \"value\": 1426}, \"1427\": {\"frequency\": 153, \"value\": 1427}, \"1428\": {\"frequency\": 52, \"value\": 1428}, \"1429\": {\"frequency\": 24, \"value\": 1429}, \"1430\": {\"frequency\": 116, \"value\": 1430}, \"1431\": {\"frequency\": 21, \"value\": 1431}, \"1432\": {\"frequency\": 35, \"value\": 1432}, \"1433\": {\"frequency\": 89, \"value\": 1433}, \"1434\": {\"frequency\": 279, \"value\": 1434}, \"1435\": {\"frequency\": 35, \"value\": 1435}, \"1436\": {\"frequency\": 66, \"value\": 1436}, \"1437\": {\"frequency\": 155, \"value\": 1437}, \"1438\": {\"frequency\": 44, \"value\": 1438}, \"1439\": {\"frequency\": 30, \"value\": 1439}, \"1440\": {\"frequency\": 136, \"value\": 1440}, \"1441\": {\"frequency\": 102, \"value\": 1441}, \"1442\": {\"frequency\": 160, \"value\": 1442}, \"1443\": {\"frequency\": 40, \"value\": 1443}, \"1444\": {\"frequency\": 29, \"value\": 1444}, \"1445\": {\"frequency\": 31, \"value\": 1445}, \"1446\": {\"frequency\": 97, \"value\": 1446}, \"1447\": {\"frequency\": 990, \"value\": 1447}, \"1448\": {\"frequency\": 1038, \"value\": 1448}, \"1449\": {\"frequency\": 1243, \"value\": 1449}, \"1450\": {\"frequency\": 109, \"value\": 1450}, \"1451\": {\"frequency\": 751, \"value\": 1451}, \"1452\": {\"frequency\": 20, \"value\": 1452}, \"1453\": {\"frequency\": 28, \"value\": 1453}, \"1454\": {\"frequency\": 22, \"value\": 1454}, \"1455\": {\"frequency\": 61, \"value\": 1455}, \"1456\": {\"frequency\": 22, \"value\": 1456}, \"1457\": {\"frequency\": 307, \"value\": 1457}, \"1458\": {\"frequency\": 97, \"value\": 1458}, \"1459\": {\"frequency\": 21, \"value\": 1459}, \"1460\": {\"frequency\": 28, \"value\": 1460}, \"1461\": {\"frequency\": 50, \"value\": 1461}, \"1462\": {\"frequency\": 38, \"value\": 1462}, \"1463\": {\"frequency\": 116, \"value\": 1463}, \"1464\": {\"frequency\": 108, \"value\": 1464}, \"1465\": {\"frequency\": 611, \"value\": 1465}, \"1466\": {\"frequency\": 252, \"value\": 1466}, \"1467\": {\"frequency\": 88, \"value\": 1467}, \"1468\": {\"frequency\": 102, \"value\": 1468}, \"1469\": {\"frequency\": 32, \"value\": 1469}, \"1470\": {\"frequency\": 710, \"value\": 1470}, \"1471\": {\"frequency\": 27, \"value\": 1471}, \"1472\": {\"frequency\": 233, \"value\": 1472}, \"1473\": {\"frequency\": 240, \"value\": 1473}, \"1474\": {\"frequency\": 130, \"value\": 1474}, \"1475\": {\"frequency\": 79, \"value\": 1475}, \"1476\": {\"frequency\": 70, \"value\": 1476}, \"1477\": {\"frequency\": 33, \"value\": 1477}, \"1478\": {\"frequency\": 32, \"value\": 1478}, \"1479\": {\"frequency\": 29, \"value\": 1479}, \"1480\": {\"frequency\": 43, \"value\": 1480}, \"1481\": {\"frequency\": 100, \"value\": 1481}, \"1482\": {\"frequency\": 61, \"value\": 1482}, \"1483\": {\"frequency\": 258, \"value\": 1483}, \"1484\": {\"frequency\": 314, \"value\": 1484}, \"1485\": {\"frequency\": 23, \"value\": 1485}, \"1486\": {\"frequency\": 48, \"value\": 1486}, \"1487\": {\"frequency\": 41, \"value\": 1487}, \"1488\": {\"frequency\": 21, \"value\": 1488}, \"1489\": {\"frequency\": 489, \"value\": 1489}, \"1490\": {\"frequency\": 180, \"value\": 1490}, \"1491\": {\"frequency\": 253, \"value\": 1491}, \"1492\": {\"frequency\": 107, \"value\": 1492}, \"1493\": {\"frequency\": 20, \"value\": 1493}, \"1494\": {\"frequency\": 98, \"value\": 1494}, \"1495\": {\"frequency\": 182, \"value\": 1495}, \"1496\": {\"frequency\": 597, \"value\": 1496}, \"1497\": {\"frequency\": 199, \"value\": 1497}, \"1498\": {\"frequency\": 116, \"value\": 1498}, \"1499\": {\"frequency\": 130, \"value\": 1499}, \"1500\": {\"frequency\": 115, \"value\": 1500}, \"1501\": {\"frequency\": 542, \"value\": 1501}, \"1502\": {\"frequency\": 273, \"value\": 1502}, \"1503\": {\"frequency\": 272, \"value\": 1503}, \"1504\": {\"frequency\": 42, \"value\": 1504}, \"1505\": {\"frequency\": 318, \"value\": 1505}, \"1506\": {\"frequency\": 105, \"value\": 1506}, \"1507\": {\"frequency\": 108, \"value\": 1507}, \"1508\": {\"frequency\": 29, \"value\": 1508}, \"1509\": {\"frequency\": 297, \"value\": 1509}, \"1510\": {\"frequency\": 33, \"value\": 1510}, \"1511\": {\"frequency\": 91, \"value\": 1511}, \"1512\": {\"frequency\": 34, \"value\": 1512}, \"1513\": {\"frequency\": 143, \"value\": 1513}, \"1514\": {\"frequency\": 127, \"value\": 1514}, \"1515\": {\"frequency\": 24, \"value\": 1515}, \"1516\": {\"frequency\": 292, \"value\": 1516}, \"1517\": {\"frequency\": 64, \"value\": 1517}, \"1518\": {\"frequency\": 25, \"value\": 1518}, \"1519\": {\"frequency\": 87, \"value\": 1519}, \"1520\": {\"frequency\": 23, \"value\": 1520}, \"1521\": {\"frequency\": 72, \"value\": 1521}, \"1522\": {\"frequency\": 78, \"value\": 1522}, \"1523\": {\"frequency\": 92, \"value\": 1523}, \"1524\": {\"frequency\": 253, \"value\": 1524}, \"1525\": {\"frequency\": 101, \"value\": 1525}, \"1526\": {\"frequency\": 32, \"value\": 1526}, \"1527\": {\"frequency\": 104, \"value\": 1527}, \"1528\": {\"frequency\": 69, \"value\": 1528}, \"1529\": {\"frequency\": 30, \"value\": 1529}, \"1530\": {\"frequency\": 404, \"value\": 1530}, \"1531\": {\"frequency\": 39, \"value\": 1531}, \"1532\": {\"frequency\": 126, \"value\": 1532}, \"1533\": {\"frequency\": 75, \"value\": 1533}, \"1534\": {\"frequency\": 21, \"value\": 1534}, \"1535\": {\"frequency\": 29, \"value\": 1535}, \"1536\": {\"frequency\": 36, \"value\": 1536}, \"1537\": {\"frequency\": 38, \"value\": 1537}, \"1538\": {\"frequency\": 93, \"value\": 1538}, \"1539\": {\"frequency\": 27, \"value\": 1539}, \"1540\": {\"frequency\": 118, \"value\": 1540}, \"1541\": {\"frequency\": 26, \"value\": 1541}, \"1542\": {\"frequency\": 293, \"value\": 1542}, \"1543\": {\"frequency\": 173, \"value\": 1543}, \"1544\": {\"frequency\": 165, \"value\": 1544}, \"1545\": {\"frequency\": 217, \"value\": 1545}, \"1546\": {\"frequency\": 342, \"value\": 1546}, \"1547\": {\"frequency\": 134, \"value\": 1547}, \"1548\": {\"frequency\": 48, \"value\": 1548}, \"1549\": {\"frequency\": 21, \"value\": 1549}, \"1550\": {\"frequency\": 29, \"value\": 1550}, \"1551\": {\"frequency\": 166, \"value\": 1551}, \"1552\": {\"frequency\": 255, \"value\": 1552}, \"1553\": {\"frequency\": 43, \"value\": 1553}, \"1554\": {\"frequency\": 31, \"value\": 1554}, \"1555\": {\"frequency\": 79, \"value\": 1555}, \"1556\": {\"frequency\": 345, \"value\": 1556}, \"1557\": {\"frequency\": 57, \"value\": 1557}, \"1558\": {\"frequency\": 26, \"value\": 1558}, \"1559\": {\"frequency\": 51, \"value\": 1559}, \"1560\": {\"frequency\": 164, \"value\": 1560}, \"1561\": {\"frequency\": 161, \"value\": 1561}, \"1562\": {\"frequency\": 38, \"value\": 1562}, \"1563\": {\"frequency\": 84, \"value\": 1563}, \"1564\": {\"frequency\": 124, \"value\": 1564}, \"1565\": {\"frequency\": 47, \"value\": 1565}, \"1566\": {\"frequency\": 24, \"value\": 1566}, \"1567\": {\"frequency\": 100, \"value\": 1567}, \"1568\": {\"frequency\": 28, \"value\": 1568}, \"1569\": {\"frequency\": 90, \"value\": 1569}, \"1570\": {\"frequency\": 66, \"value\": 1570}, \"1571\": {\"frequency\": 153, \"value\": 1571}, \"1572\": {\"frequency\": 45, \"value\": 1572}, \"1573\": {\"frequency\": 29, \"value\": 1573}, \"1574\": {\"frequency\": 52, \"value\": 1574}, \"1575\": {\"frequency\": 54, \"value\": 1575}, \"1576\": {\"frequency\": 48, \"value\": 1576}, \"1577\": {\"frequency\": 125, \"value\": 1577}, \"1578\": {\"frequency\": 31, \"value\": 1578}, \"1579\": {\"frequency\": 765, \"value\": 1579}, \"1580\": {\"frequency\": 37, \"value\": 1580}, \"1581\": {\"frequency\": 41, \"value\": 1581}, \"1582\": {\"frequency\": 22, \"value\": 1582}, \"1583\": {\"frequency\": 52, \"value\": 1583}, \"1584\": {\"frequency\": 461, \"value\": 1584}, \"1585\": {\"frequency\": 112, \"value\": 1585}, \"1586\": {\"frequency\": 415, \"value\": 1586}, \"1587\": {\"frequency\": 554, \"value\": 1587}, \"1588\": {\"frequency\": 47, \"value\": 1588}, \"1589\": {\"frequency\": 99, \"value\": 1589}, \"1590\": {\"frequency\": 40, \"value\": 1590}, \"1591\": {\"frequency\": 314, \"value\": 1591}, \"1592\": {\"frequency\": 306, \"value\": 1592}, \"1593\": {\"frequency\": 206, \"value\": 1593}, \"1594\": {\"frequency\": 147, \"value\": 1594}, \"1595\": {\"frequency\": 133, \"value\": 1595}, \"1596\": {\"frequency\": 23, \"value\": 1596}, \"1597\": {\"frequency\": 230, \"value\": 1597}, \"1598\": {\"frequency\": 184, \"value\": 1598}, \"1599\": {\"frequency\": 550, \"value\": 1599}, \"1600\": {\"frequency\": 394, \"value\": 1600}, \"1601\": {\"frequency\": 205, \"value\": 1601}, \"1602\": {\"frequency\": 120, \"value\": 1602}, \"1603\": {\"frequency\": 70, \"value\": 1603}, \"1604\": {\"frequency\": 24, \"value\": 1604}, \"1605\": {\"frequency\": 964, \"value\": 1605}, \"1606\": {\"frequency\": 206, \"value\": 1606}, \"1607\": {\"frequency\": 276, \"value\": 1607}, \"1608\": {\"frequency\": 144, \"value\": 1608}, \"1609\": {\"frequency\": 359, \"value\": 1609}, \"1610\": {\"frequency\": 28, \"value\": 1610}, \"1611\": {\"frequency\": 556, \"value\": 1611}, \"1612\": {\"frequency\": 23, \"value\": 1612}, \"1613\": {\"frequency\": 795, \"value\": 1613}, \"1614\": {\"frequency\": 61, \"value\": 1614}, \"1615\": {\"frequency\": 21, \"value\": 1615}, \"1616\": {\"frequency\": 254, \"value\": 1616}, \"1617\": {\"frequency\": 228, \"value\": 1617}, \"1618\": {\"frequency\": 91, \"value\": 1618}, \"1619\": {\"frequency\": 33, \"value\": 1619}, \"1620\": {\"frequency\": 36, \"value\": 1620}, \"1621\": {\"frequency\": 22, \"value\": 1621}, \"1622\": {\"frequency\": 26, \"value\": 1622}, \"1623\": {\"frequency\": 70, \"value\": 1623}, \"1624\": {\"frequency\": 350, \"value\": 1624}, \"1625\": {\"frequency\": 45, \"value\": 1625}, \"1626\": {\"frequency\": 271, \"value\": 1626}, \"1627\": {\"frequency\": 48, \"value\": 1627}, \"1628\": {\"frequency\": 451, \"value\": 1628}, \"1629\": {\"frequency\": 65, \"value\": 1629}, \"1630\": {\"frequency\": 117, \"value\": 1630}, \"1631\": {\"frequency\": 260, \"value\": 1631}, \"1632\": {\"frequency\": 768, \"value\": 1632}, \"1633\": {\"frequency\": 34, \"value\": 1633}, \"1634\": {\"frequency\": 106, \"value\": 1634}, \"1635\": {\"frequency\": 793, \"value\": 1635}, \"1636\": {\"frequency\": 170, \"value\": 1636}, \"1637\": {\"frequency\": 85, \"value\": 1637}, \"1638\": {\"frequency\": 39, \"value\": 1638}, \"1639\": {\"frequency\": 551, \"value\": 1639}, \"1640\": {\"frequency\": 161, \"value\": 1640}, \"1641\": {\"frequency\": 232, \"value\": 1641}, \"1642\": {\"frequency\": 74, \"value\": 1642}, \"1643\": {\"frequency\": 233, \"value\": 1643}, \"1644\": {\"frequency\": 48, \"value\": 1644}, \"1645\": {\"frequency\": 522, \"value\": 1645}, \"1646\": {\"frequency\": 62, \"value\": 1646}, \"1647\": {\"frequency\": 882, \"value\": 1647}, \"1648\": {\"frequency\": 149, \"value\": 1648}, \"1649\": {\"frequency\": 57, \"value\": 1649}, \"1650\": {\"frequency\": 213, \"value\": 1650}, \"1651\": {\"frequency\": 35, \"value\": 1651}, \"1652\": {\"frequency\": 27, \"value\": 1652}, \"1653\": {\"frequency\": 25, \"value\": 1653}, \"1654\": {\"frequency\": 47, \"value\": 1654}, \"1655\": {\"frequency\": 175, \"value\": 1655}, \"1656\": {\"frequency\": 25, \"value\": 1656}, \"1657\": {\"frequency\": 45, \"value\": 1657}, \"1658\": {\"frequency\": 398, \"value\": 1658}, \"1659\": {\"frequency\": 57, \"value\": 1659}, \"1660\": {\"frequency\": 62, \"value\": 1660}, \"1661\": {\"frequency\": 37, \"value\": 1661}, \"1662\": {\"frequency\": 25, \"value\": 1662}, \"1663\": {\"frequency\": 46, \"value\": 1663}, \"1664\": {\"frequency\": 20, \"value\": 1664}, \"1665\": {\"frequency\": 63, \"value\": 1665}, \"1666\": {\"frequency\": 397, \"value\": 1666}, \"1667\": {\"frequency\": 499, \"value\": 1667}, \"1668\": {\"frequency\": 29, \"value\": 1668}, \"1669\": {\"frequency\": 30, \"value\": 1669}, \"1670\": {\"frequency\": 56, \"value\": 1670}, \"1671\": {\"frequency\": 638, \"value\": 1671}, \"1672\": {\"frequency\": 39, \"value\": 1672}, \"1673\": {\"frequency\": 81, \"value\": 1673}, \"1674\": {\"frequency\": 22, \"value\": 1674}, \"1675\": {\"frequency\": 565, \"value\": 1675}, \"1676\": {\"frequency\": 865, \"value\": 1676}, \"1677\": {\"frequency\": 43, \"value\": 1677}, \"1678\": {\"frequency\": 122, \"value\": 1678}, \"1679\": {\"frequency\": 82, \"value\": 1679}, \"1680\": {\"frequency\": 1850, \"value\": 1680}, \"1681\": {\"frequency\": 121, \"value\": 1681}, \"1682\": {\"frequency\": 27, \"value\": 1682}, \"1683\": {\"frequency\": 175, \"value\": 1683}, \"1684\": {\"frequency\": 62, \"value\": 1684}, \"1685\": {\"frequency\": 430, \"value\": 1685}, \"1686\": {\"frequency\": 28, \"value\": 1686}, \"1687\": {\"frequency\": 393, \"value\": 1687}, \"1688\": {\"frequency\": 132, \"value\": 1688}, \"1689\": {\"frequency\": 128, \"value\": 1689}, \"1690\": {\"frequency\": 149, \"value\": 1690}, \"1691\": {\"frequency\": 50, \"value\": 1691}, \"1692\": {\"frequency\": 207, \"value\": 1692}, \"1693\": {\"frequency\": 310, \"value\": 1693}, \"1694\": {\"frequency\": 398, \"value\": 1694}, \"1695\": {\"frequency\": 196, \"value\": 1695}, \"1696\": {\"frequency\": 314, \"value\": 1696}, \"1697\": {\"frequency\": 354, \"value\": 1697}, \"1698\": {\"frequency\": 957, \"value\": 1698}, \"1699\": {\"frequency\": 348, \"value\": 1699}, \"1700\": {\"frequency\": 45, \"value\": 1700}, \"1701\": {\"frequency\": 552, \"value\": 1701}, \"1702\": {\"frequency\": 80, \"value\": 1702}, \"1703\": {\"frequency\": 26, \"value\": 1703}, \"1704\": {\"frequency\": 36, \"value\": 1704}, \"1705\": {\"frequency\": 85, \"value\": 1705}, \"1706\": {\"frequency\": 210, \"value\": 1706}, \"1707\": {\"frequency\": 88, \"value\": 1707}, \"1708\": {\"frequency\": 22, \"value\": 1708}, \"1709\": {\"frequency\": 210, \"value\": 1709}, \"1710\": {\"frequency\": 79, \"value\": 1710}, \"1711\": {\"frequency\": 29, \"value\": 1711}, \"1712\": {\"frequency\": 511, \"value\": 1712}, \"1713\": {\"frequency\": 21, \"value\": 1713}, \"1714\": {\"frequency\": 274, \"value\": 1714}, \"1715\": {\"frequency\": 46, \"value\": 1715}, \"1716\": {\"frequency\": 195, \"value\": 1716}, \"1717\": {\"frequency\": 424, \"value\": 1717}, \"1718\": {\"frequency\": 32, \"value\": 1718}, \"1719\": {\"frequency\": 26, \"value\": 1719}, \"1720\": {\"frequency\": 46, \"value\": 1720}, \"1721\": {\"frequency\": 115, \"value\": 1721}, \"1722\": {\"frequency\": 206, \"value\": 1722}, \"1723\": {\"frequency\": 146, \"value\": 1723}, \"1724\": {\"frequency\": 159, \"value\": 1724}, \"1725\": {\"frequency\": 36, \"value\": 1725}, \"1726\": {\"frequency\": 382, \"value\": 1726}, \"1727\": {\"frequency\": 514, \"value\": 1727}, \"1728\": {\"frequency\": 47, \"value\": 1728}, \"1729\": {\"frequency\": 58, \"value\": 1729}, \"1730\": {\"frequency\": 24, \"value\": 1730}, \"1731\": {\"frequency\": 68, \"value\": 1731}, \"1732\": {\"frequency\": 34, \"value\": 1732}, \"1733\": {\"frequency\": 839, \"value\": 1733}, \"1734\": {\"frequency\": 74, \"value\": 1734}, \"1735\": {\"frequency\": 77, \"value\": 1735}, \"1736\": {\"frequency\": 195, \"value\": 1736}, \"1737\": {\"frequency\": 775, \"value\": 1737}, \"1738\": {\"frequency\": 67, \"value\": 1738}, \"1739\": {\"frequency\": 78, \"value\": 1739}, \"1740\": {\"frequency\": 66, \"value\": 1740}, \"1741\": {\"frequency\": 660, \"value\": 1741}, \"1742\": {\"frequency\": 47, \"value\": 1742}, \"1743\": {\"frequency\": 95, \"value\": 1743}, \"1744\": {\"frequency\": 140, \"value\": 1744}, \"1745\": {\"frequency\": 70, \"value\": 1745}, \"1746\": {\"frequency\": 326, \"value\": 1746}, \"1747\": {\"frequency\": 108, \"value\": 1747}, \"1748\": {\"frequency\": 589, \"value\": 1748}, \"1749\": {\"frequency\": 562, \"value\": 1749}, \"1750\": {\"frequency\": 73, \"value\": 1750}, \"1751\": {\"frequency\": 21, \"value\": 1751}, \"1752\": {\"frequency\": 434, \"value\": 1752}, \"1753\": {\"frequency\": 284, \"value\": 1753}, \"1754\": {\"frequency\": 29, \"value\": 1754}, \"1755\": {\"frequency\": 368, \"value\": 1755}, \"1756\": {\"frequency\": 49, \"value\": 1756}, \"1757\": {\"frequency\": 385, \"value\": 1757}, \"1758\": {\"frequency\": 430, \"value\": 1758}, \"1759\": {\"frequency\": 254, \"value\": 1759}, \"1760\": {\"frequency\": 66, \"value\": 1760}, \"1761\": {\"frequency\": 113, \"value\": 1761}, \"1762\": {\"frequency\": 74, \"value\": 1762}, \"1763\": {\"frequency\": 26, \"value\": 1763}, \"1764\": {\"frequency\": 613, \"value\": 1764}, \"1765\": {\"frequency\": 106, \"value\": 1765}, \"1766\": {\"frequency\": 26, \"value\": 1766}, \"1767\": {\"frequency\": 306, \"value\": 1767}, \"1768\": {\"frequency\": 142, \"value\": 1768}, \"1769\": {\"frequency\": 73, \"value\": 1769}, \"1770\": {\"frequency\": 89, \"value\": 1770}, \"1771\": {\"frequency\": 24, \"value\": 1771}, \"1772\": {\"frequency\": 34, \"value\": 1772}, \"1773\": {\"frequency\": 61, \"value\": 1773}, \"1774\": {\"frequency\": 40, \"value\": 1774}, \"1775\": {\"frequency\": 155, \"value\": 1775}, \"1776\": {\"frequency\": 422, \"value\": 1776}, \"1777\": {\"frequency\": 55, \"value\": 1777}, \"1778\": {\"frequency\": 546, \"value\": 1778}, \"1779\": {\"frequency\": 149, \"value\": 1779}, \"1780\": {\"frequency\": 616, \"value\": 1780}, \"1781\": {\"frequency\": 106, \"value\": 1781}, \"1782\": {\"frequency\": 38, \"value\": 1782}, \"1783\": {\"frequency\": 21, \"value\": 1783}, \"1784\": {\"frequency\": 52, \"value\": 1784}, \"1785\": {\"frequency\": 54, \"value\": 1785}, \"1786\": {\"frequency\": 53, \"value\": 1786}, \"1787\": {\"frequency\": 28, \"value\": 1787}, \"1788\": {\"frequency\": 32, \"value\": 1788}, \"1789\": {\"frequency\": 58, \"value\": 1789}, \"1790\": {\"frequency\": 339, \"value\": 1790}, \"1791\": {\"frequency\": 145, \"value\": 1791}, \"1792\": {\"frequency\": 39, \"value\": 1792}, \"1793\": {\"frequency\": 287, \"value\": 1793}, \"1794\": {\"frequency\": 453, \"value\": 1794}, \"1795\": {\"frequency\": 25, \"value\": 1795}, \"1796\": {\"frequency\": 176, \"value\": 1796}, \"1797\": {\"frequency\": 175, \"value\": 1797}, \"1798\": {\"frequency\": 67, \"value\": 1798}, \"1799\": {\"frequency\": 91, \"value\": 1799}, \"1800\": {\"frequency\": 252, \"value\": 1800}, \"1801\": {\"frequency\": 21, \"value\": 1801}, \"1802\": {\"frequency\": 211, \"value\": 1802}, \"1803\": {\"frequency\": 284, \"value\": 1803}, \"1804\": {\"frequency\": 116, \"value\": 1804}, \"1805\": {\"frequency\": 174, \"value\": 1805}, \"1806\": {\"frequency\": 214, \"value\": 1806}, \"1807\": {\"frequency\": 202, \"value\": 1807}, \"1808\": {\"frequency\": 31, \"value\": 1808}, \"1809\": {\"frequency\": 56, \"value\": 1809}, \"1810\": {\"frequency\": 40, \"value\": 1810}, \"1811\": {\"frequency\": 30, \"value\": 1811}, \"1812\": {\"frequency\": 698, \"value\": 1812}, \"1813\": {\"frequency\": 22, \"value\": 1813}, \"1814\": {\"frequency\": 49, \"value\": 1814}, \"1815\": {\"frequency\": 39, \"value\": 1815}, \"1816\": {\"frequency\": 62, \"value\": 1816}, \"1817\": {\"frequency\": 123, \"value\": 1817}, \"1818\": {\"frequency\": 43, \"value\": 1818}, \"1819\": {\"frequency\": 116, \"value\": 1819}, \"1820\": {\"frequency\": 317, \"value\": 1820}, \"1821\": {\"frequency\": 27, \"value\": 1821}, \"1822\": {\"frequency\": 67, \"value\": 1822}, \"1823\": {\"frequency\": 28, \"value\": 1823}, \"1824\": {\"frequency\": 159, \"value\": 1824}, \"1825\": {\"frequency\": 151, \"value\": 1825}, \"1826\": {\"frequency\": 57, \"value\": 1826}, \"1827\": {\"frequency\": 49, \"value\": 1827}, \"1828\": {\"frequency\": 143, \"value\": 1828}, \"1829\": {\"frequency\": 30, \"value\": 1829}, \"1830\": {\"frequency\": 30, \"value\": 1830}, \"1831\": {\"frequency\": 111, \"value\": 1831}, \"1832\": {\"frequency\": 44, \"value\": 1832}, \"1833\": {\"frequency\": 100, \"value\": 1833}, \"1834\": {\"frequency\": 65, \"value\": 1834}, \"1835\": {\"frequency\": 770, \"value\": 1835}, \"1836\": {\"frequency\": 416, \"value\": 1836}, \"1837\": {\"frequency\": 782, \"value\": 1837}, \"1838\": {\"frequency\": 27, \"value\": 1838}, \"1839\": {\"frequency\": 87, \"value\": 1839}, \"1840\": {\"frequency\": 24, \"value\": 1840}, \"1841\": {\"frequency\": 227, \"value\": 1841}, \"1842\": {\"frequency\": 465, \"value\": 1842}, \"1843\": {\"frequency\": 119, \"value\": 1843}, \"1844\": {\"frequency\": 20, \"value\": 1844}, \"1845\": {\"frequency\": 220, \"value\": 1845}, \"1846\": {\"frequency\": 61, \"value\": 1846}, \"1847\": {\"frequency\": 41, \"value\": 1847}, \"1848\": {\"frequency\": 22, \"value\": 1848}, \"1849\": {\"frequency\": 24, \"value\": 1849}, \"1850\": {\"frequency\": 77, \"value\": 1850}, \"1851\": {\"frequency\": 504, \"value\": 1851}, \"1852\": {\"frequency\": 54, \"value\": 1852}, \"1853\": {\"frequency\": 157, \"value\": 1853}, \"1854\": {\"frequency\": 246, \"value\": 1854}, \"1855\": {\"frequency\": 83, \"value\": 1855}, \"1856\": {\"frequency\": 134, \"value\": 1856}, \"1857\": {\"frequency\": 41, \"value\": 1857}, \"1858\": {\"frequency\": 98, \"value\": 1858}, \"1859\": {\"frequency\": 46, \"value\": 1859}, \"1860\": {\"frequency\": 293, \"value\": 1860}, \"1861\": {\"frequency\": 460, \"value\": 1861}, \"1862\": {\"frequency\": 35, \"value\": 1862}, \"1863\": {\"frequency\": 104, \"value\": 1863}, \"1864\": {\"frequency\": 23, \"value\": 1864}, \"1865\": {\"frequency\": 334, \"value\": 1865}, \"1866\": {\"frequency\": 139, \"value\": 1866}, \"1867\": {\"frequency\": 54, \"value\": 1867}, \"1868\": {\"frequency\": 54, \"value\": 1868}, \"1869\": {\"frequency\": 48, \"value\": 1869}, \"1870\": {\"frequency\": 158, \"value\": 1870}, \"1871\": {\"frequency\": 117, \"value\": 1871}, \"1872\": {\"frequency\": 33, \"value\": 1872}, \"1873\": {\"frequency\": 198, \"value\": 1873}, \"1874\": {\"frequency\": 64, \"value\": 1874}, \"1875\": {\"frequency\": 338, \"value\": 1875}, \"1876\": {\"frequency\": 33, \"value\": 1876}, \"1877\": {\"frequency\": 147, \"value\": 1877}, \"1878\": {\"frequency\": 83, \"value\": 1878}, \"1879\": {\"frequency\": 263, \"value\": 1879}, \"1880\": {\"frequency\": 955, \"value\": 1880}, \"1881\": {\"frequency\": 57, \"value\": 1881}, \"1882\": {\"frequency\": 223, \"value\": 1882}, \"1883\": {\"frequency\": 435, \"value\": 1883}, \"1884\": {\"frequency\": 707, \"value\": 1884}, \"1885\": {\"frequency\": 57, \"value\": 1885}, \"1886\": {\"frequency\": 26, \"value\": 1886}, \"1887\": {\"frequency\": 125, \"value\": 1887}, \"1888\": {\"frequency\": 34, \"value\": 1888}, \"1889\": {\"frequency\": 624, \"value\": 1889}, \"1890\": {\"frequency\": 202, \"value\": 1890}, \"1891\": {\"frequency\": 279, \"value\": 1891}, \"1892\": {\"frequency\": 22, \"value\": 1892}, \"1893\": {\"frequency\": 28, \"value\": 1893}, \"1894\": {\"frequency\": 172, \"value\": 1894}, \"1895\": {\"frequency\": 86, \"value\": 1895}, \"1896\": {\"frequency\": 207, \"value\": 1896}, \"1897\": {\"frequency\": 657, \"value\": 1897}, \"1898\": {\"frequency\": 26, \"value\": 1898}, \"1899\": {\"frequency\": 756, \"value\": 1899}, \"1900\": {\"frequency\": 40, \"value\": 1900}, \"1901\": {\"frequency\": 150, \"value\": 1901}, \"1902\": {\"frequency\": 258, \"value\": 1902}, \"1903\": {\"frequency\": 197, \"value\": 1903}, \"1904\": {\"frequency\": 352, \"value\": 1904}, \"1905\": {\"frequency\": 47, \"value\": 1905}, \"1906\": {\"frequency\": 26, \"value\": 1906}, \"1907\": {\"frequency\": 24, \"value\": 1907}, \"1908\": {\"frequency\": 208, \"value\": 1908}, \"1909\": {\"frequency\": 57, \"value\": 1909}, \"1910\": {\"frequency\": 53, \"value\": 1910}, \"1911\": {\"frequency\": 31, \"value\": 1911}, \"1912\": {\"frequency\": 947, \"value\": 1912}, \"1913\": {\"frequency\": 44, \"value\": 1913}, \"1914\": {\"frequency\": 23, \"value\": 1914}, \"1915\": {\"frequency\": 38, \"value\": 1915}, \"1916\": {\"frequency\": 391, \"value\": 1916}, \"1917\": {\"frequency\": 97, \"value\": 1917}, \"1918\": {\"frequency\": 23, \"value\": 1918}, \"1919\": {\"frequency\": 55, \"value\": 1919}, \"1920\": {\"frequency\": 601, \"value\": 1920}, \"1921\": {\"frequency\": 85, \"value\": 1921}, \"1922\": {\"frequency\": 429, \"value\": 1922}, \"1923\": {\"frequency\": 58, \"value\": 1923}, \"1924\": {\"frequency\": 86, \"value\": 1924}, \"1925\": {\"frequency\": 305, \"value\": 1925}, \"1926\": {\"frequency\": 585, \"value\": 1926}, \"1927\": {\"frequency\": 22, \"value\": 1927}, \"1928\": {\"frequency\": 212, \"value\": 1928}, \"1929\": {\"frequency\": 27, \"value\": 1929}, \"1930\": {\"frequency\": 324, \"value\": 1930}, \"1931\": {\"frequency\": 86, \"value\": 1931}, \"1932\": {\"frequency\": 78, \"value\": 1932}, \"1933\": {\"frequency\": 30, \"value\": 1933}, \"1934\": {\"frequency\": 59, \"value\": 1934}, \"1935\": {\"frequency\": 58, \"value\": 1935}, \"1936\": {\"frequency\": 28, \"value\": 1936}, \"1937\": {\"frequency\": 295, \"value\": 1937}, \"1938\": {\"frequency\": 175, \"value\": 1938}, \"1939\": {\"frequency\": 221, \"value\": 1939}, \"1940\": {\"frequency\": 64, \"value\": 1940}, \"1941\": {\"frequency\": 1595, \"value\": 1941}, \"1942\": {\"frequency\": 59, \"value\": 1942}, \"1943\": {\"frequency\": 680, \"value\": 1943}, \"1944\": {\"frequency\": 68, \"value\": 1944}, \"1945\": {\"frequency\": 73, \"value\": 1945}, \"1946\": {\"frequency\": 78, \"value\": 1946}, \"1947\": {\"frequency\": 147, \"value\": 1947}, \"1948\": {\"frequency\": 174, \"value\": 1948}, \"1949\": {\"frequency\": 102, \"value\": 1949}, \"1950\": {\"frequency\": 137, \"value\": 1950}, \"1951\": {\"frequency\": 128, \"value\": 1951}, \"1952\": {\"frequency\": 251, \"value\": 1952}, \"1953\": {\"frequency\": 34, \"value\": 1953}, \"1954\": {\"frequency\": 151, \"value\": 1954}, \"1955\": {\"frequency\": 40, \"value\": 1955}, \"1956\": {\"frequency\": 65, \"value\": 1956}, \"1957\": {\"frequency\": 50, \"value\": 1957}, \"1958\": {\"frequency\": 852, \"value\": 1958}, \"1959\": {\"frequency\": 61, \"value\": 1959}, \"1960\": {\"frequency\": 215, \"value\": 1960}, \"1961\": {\"frequency\": 89, \"value\": 1961}, \"1962\": {\"frequency\": 533, \"value\": 1962}, \"1963\": {\"frequency\": 83, \"value\": 1963}, \"1964\": {\"frequency\": 22, \"value\": 1964}, \"1965\": {\"frequency\": 64, \"value\": 1965}, \"1966\": {\"frequency\": 44, \"value\": 1966}, \"1967\": {\"frequency\": 24, \"value\": 1967}, \"1968\": {\"frequency\": 444, \"value\": 1968}, \"1969\": {\"frequency\": 517, \"value\": 1969}, \"1970\": {\"frequency\": 52, \"value\": 1970}, \"1971\": {\"frequency\": 33, \"value\": 1971}, \"1972\": {\"frequency\": 83, \"value\": 1972}, \"1973\": {\"frequency\": 38, \"value\": 1973}, \"1974\": {\"frequency\": 518, \"value\": 1974}, \"1975\": {\"frequency\": 49, \"value\": 1975}, \"1976\": {\"frequency\": 123, \"value\": 1976}, \"1977\": {\"frequency\": 67, \"value\": 1977}, \"1978\": {\"frequency\": 154, \"value\": 1978}, \"1979\": {\"frequency\": 35, \"value\": 1979}, \"1980\": {\"frequency\": 1260, \"value\": 1980}, \"1981\": {\"frequency\": 67, \"value\": 1981}, \"1982\": {\"frequency\": 155, \"value\": 1982}, \"1983\": {\"frequency\": 546, \"value\": 1983}, \"1984\": {\"frequency\": 283, \"value\": 1984}, \"1985\": {\"frequency\": 160, \"value\": 1985}, \"1986\": {\"frequency\": 22, \"value\": 1986}, \"1987\": {\"frequency\": 47, \"value\": 1987}, \"1988\": {\"frequency\": 629, \"value\": 1988}, \"1989\": {\"frequency\": 27, \"value\": 1989}, \"1990\": {\"frequency\": 35, \"value\": 1990}, \"1991\": {\"frequency\": 24, \"value\": 1991}, \"1992\": {\"frequency\": 92, \"value\": 1992}, \"1993\": {\"frequency\": 20, \"value\": 1993}, \"1994\": {\"frequency\": 29, \"value\": 1994}, \"1995\": {\"frequency\": 86, \"value\": 1995}, \"1996\": {\"frequency\": 177, \"value\": 1996}, \"1997\": {\"frequency\": 40, \"value\": 1997}, \"1998\": {\"frequency\": 356, \"value\": 1998}, \"1999\": {\"frequency\": 87, \"value\": 1999}, \"2000\": {\"frequency\": 98, \"value\": 2000}, \"2001\": {\"frequency\": 49, \"value\": 2001}, \"2002\": {\"frequency\": 167, \"value\": 2002}, \"2003\": {\"frequency\": 61, \"value\": 2003}, \"2004\": {\"frequency\": 109, \"value\": 2004}, \"2005\": {\"frequency\": 90, \"value\": 2005}, \"2006\": {\"frequency\": 41, \"value\": 2006}, \"2007\": {\"frequency\": 40, \"value\": 2007}, \"2008\": {\"frequency\": 177, \"value\": 2008}, \"2009\": {\"frequency\": 54, \"value\": 2009}, \"2010\": {\"frequency\": 733, \"value\": 2010}, \"2011\": {\"frequency\": 247, \"value\": 2011}, \"2012\": {\"frequency\": 611, \"value\": 2012}, \"2013\": {\"frequency\": 80, \"value\": 2013}, \"2014\": {\"frequency\": 54, \"value\": 2014}, \"2015\": {\"frequency\": 903, \"value\": 2015}, \"2016\": {\"frequency\": 333, \"value\": 2016}, \"2017\": {\"frequency\": 119, \"value\": 2017}, \"2018\": {\"frequency\": 447, \"value\": 2018}, \"2019\": {\"frequency\": 34, \"value\": 2019}, \"2020\": {\"frequency\": 471, \"value\": 2020}, \"2021\": {\"frequency\": 149, \"value\": 2021}, \"2022\": {\"frequency\": 194, \"value\": 2022}, \"2023\": {\"frequency\": 286, \"value\": 2023}, \"2024\": {\"frequency\": 256, \"value\": 2024}, \"2025\": {\"frequency\": 119, \"value\": 2025}, \"2026\": {\"frequency\": 218, \"value\": 2026}, \"2027\": {\"frequency\": 105, \"value\": 2027}, \"2028\": {\"frequency\": 27, \"value\": 2028}, \"2029\": {\"frequency\": 227, \"value\": 2029}, \"2030\": {\"frequency\": 582, \"value\": 2030}, \"2031\": {\"frequency\": 225, \"value\": 2031}, \"2032\": {\"frequency\": 63, \"value\": 2032}, \"2033\": {\"frequency\": 56, \"value\": 2033}, \"2034\": {\"frequency\": 37, \"value\": 2034}, \"2035\": {\"frequency\": 171, \"value\": 2035}, \"2036\": {\"frequency\": 65, \"value\": 2036}, \"2037\": {\"frequency\": 20, \"value\": 2037}, \"2038\": {\"frequency\": 440, \"value\": 2038}, \"2039\": {\"frequency\": 121, \"value\": 2039}, \"2040\": {\"frequency\": 46, \"value\": 2040}, \"2041\": {\"frequency\": 556, \"value\": 2041}, \"2042\": {\"frequency\": 265, \"value\": 2042}, \"2043\": {\"frequency\": 91, \"value\": 2043}, \"2044\": {\"frequency\": 25, \"value\": 2044}, \"2045\": {\"frequency\": 25, \"value\": 2045}, \"2046\": {\"frequency\": 83, \"value\": 2046}, \"2047\": {\"frequency\": 289, \"value\": 2047}, \"2048\": {\"frequency\": 35, \"value\": 2048}, \"2049\": {\"frequency\": 35, \"value\": 2049}, \"2050\": {\"frequency\": 260, \"value\": 2050}, \"2051\": {\"frequency\": 229, \"value\": 2051}, \"2052\": {\"frequency\": 30, \"value\": 2052}, \"2053\": {\"frequency\": 25, \"value\": 2053}, \"2054\": {\"frequency\": 335, \"value\": 2054}, \"2055\": {\"frequency\": 138, \"value\": 2055}, \"2056\": {\"frequency\": 256, \"value\": 2056}, \"2057\": {\"frequency\": 65, \"value\": 2057}, \"2058\": {\"frequency\": 94, \"value\": 2058}, \"2059\": {\"frequency\": 253, \"value\": 2059}, \"2060\": {\"frequency\": 261, \"value\": 2060}, \"2061\": {\"frequency\": 20, \"value\": 2061}, \"2062\": {\"frequency\": 88, \"value\": 2062}, \"2063\": {\"frequency\": 1323, \"value\": 2063}, \"2064\": {\"frequency\": 247, \"value\": 2064}, \"2065\": {\"frequency\": 31, \"value\": 2065}, \"2066\": {\"frequency\": 29, \"value\": 2066}, \"2067\": {\"frequency\": 199, \"value\": 2067}, \"2068\": {\"frequency\": 125, \"value\": 2068}, \"2069\": {\"frequency\": 75, \"value\": 2069}, \"2070\": {\"frequency\": 104, \"value\": 2070}, \"2071\": {\"frequency\": 238, \"value\": 2071}, \"2072\": {\"frequency\": 205, \"value\": 2072}, \"2073\": {\"frequency\": 645, \"value\": 2073}, \"2074\": {\"frequency\": 36, \"value\": 2074}, \"2075\": {\"frequency\": 43, \"value\": 2075}, \"2076\": {\"frequency\": 83, \"value\": 2076}, \"2077\": {\"frequency\": 684, \"value\": 2077}, \"2078\": {\"frequency\": 102, \"value\": 2078}, \"2079\": {\"frequency\": 96, \"value\": 2079}, \"2080\": {\"frequency\": 32, \"value\": 2080}, \"2081\": {\"frequency\": 49, \"value\": 2081}, \"2082\": {\"frequency\": 71, \"value\": 2082}, \"2083\": {\"frequency\": 40, \"value\": 2083}, \"2084\": {\"frequency\": 155, \"value\": 2084}, \"2085\": {\"frequency\": 272, \"value\": 2085}, \"2086\": {\"frequency\": 30, \"value\": 2086}, \"2087\": {\"frequency\": 53, \"value\": 2087}, \"2088\": {\"frequency\": 441, \"value\": 2088}, \"2089\": {\"frequency\": 95, \"value\": 2089}, \"2090\": {\"frequency\": 229, \"value\": 2090}, \"2091\": {\"frequency\": 147, \"value\": 2091}, \"2092\": {\"frequency\": 729, \"value\": 2092}, \"2093\": {\"frequency\": 56, \"value\": 2093}, \"2094\": {\"frequency\": 71, \"value\": 2094}, \"2095\": {\"frequency\": 75, \"value\": 2095}, \"2096\": {\"frequency\": 121, \"value\": 2096}, \"2097\": {\"frequency\": 174, \"value\": 2097}, \"2098\": {\"frequency\": 373, \"value\": 2098}, \"2099\": {\"frequency\": 36, \"value\": 2099}, \"2100\": {\"frequency\": 308, \"value\": 2100}, \"2101\": {\"frequency\": 105, \"value\": 2101}, \"2102\": {\"frequency\": 530, \"value\": 2102}, \"2103\": {\"frequency\": 89, \"value\": 2103}, \"2104\": {\"frequency\": 53, \"value\": 2104}, \"2105\": {\"frequency\": 517, \"value\": 2105}, \"2106\": {\"frequency\": 900, \"value\": 2106}, \"2107\": {\"frequency\": 29, \"value\": 2107}, \"2108\": {\"frequency\": 22, \"value\": 2108}, \"2109\": {\"frequency\": 749, \"value\": 2109}, \"2110\": {\"frequency\": 221, \"value\": 2110}, \"2111\": {\"frequency\": 20, \"value\": 2111}, \"2112\": {\"frequency\": 50, \"value\": 2112}, \"2113\": {\"frequency\": 46, \"value\": 2113}, \"2114\": {\"frequency\": 150, \"value\": 2114}, \"2115\": {\"frequency\": 58, \"value\": 2115}, \"2116\": {\"frequency\": 971, \"value\": 2116}, \"2117\": {\"frequency\": 46, \"value\": 2117}, \"2118\": {\"frequency\": 87, \"value\": 2118}, \"2119\": {\"frequency\": 178, \"value\": 2119}, \"2120\": {\"frequency\": 164, \"value\": 2120}, \"2121\": {\"frequency\": 191, \"value\": 2121}, \"2122\": {\"frequency\": 208, \"value\": 2122}, \"2123\": {\"frequency\": 35, \"value\": 2123}, \"2124\": {\"frequency\": 628, \"value\": 2124}, \"2125\": {\"frequency\": 229, \"value\": 2125}, \"2126\": {\"frequency\": 90, \"value\": 2126}, \"2127\": {\"frequency\": 168, \"value\": 2127}, \"2128\": {\"frequency\": 20, \"value\": 2128}, \"2129\": {\"frequency\": 357, \"value\": 2129}, \"2130\": {\"frequency\": 67, \"value\": 2130}, \"2131\": {\"frequency\": 321, \"value\": 2131}, \"2132\": {\"frequency\": 69, \"value\": 2132}, \"2133\": {\"frequency\": 20, \"value\": 2133}, \"2134\": {\"frequency\": 59, \"value\": 2134}, \"2135\": {\"frequency\": 26, \"value\": 2135}, \"2136\": {\"frequency\": 160, \"value\": 2136}, \"2137\": {\"frequency\": 69, \"value\": 2137}, \"2138\": {\"frequency\": 60, \"value\": 2138}, \"2139\": {\"frequency\": 53, \"value\": 2139}, \"2140\": {\"frequency\": 206, \"value\": 2140}, \"2141\": {\"frequency\": 25, \"value\": 2141}, \"2142\": {\"frequency\": 77, \"value\": 2142}, \"2143\": {\"frequency\": 112, \"value\": 2143}, \"2144\": {\"frequency\": 101, \"value\": 2144}, \"2145\": {\"frequency\": 219, \"value\": 2145}, \"2146\": {\"frequency\": 102, \"value\": 2146}, \"2147\": {\"frequency\": 96, \"value\": 2147}, \"2148\": {\"frequency\": 255, \"value\": 2148}, \"2149\": {\"frequency\": 53, \"value\": 2149}, \"2150\": {\"frequency\": 34, \"value\": 2150}, \"2151\": {\"frequency\": 38, \"value\": 2151}, \"2152\": {\"frequency\": 23, \"value\": 2152}, \"2153\": {\"frequency\": 353, \"value\": 2153}, \"2154\": {\"frequency\": 45, \"value\": 2154}, \"2155\": {\"frequency\": 71, \"value\": 2155}, \"2156\": {\"frequency\": 315, \"value\": 2156}, \"2157\": {\"frequency\": 148, \"value\": 2157}, \"2158\": {\"frequency\": 113, \"value\": 2158}, \"2159\": {\"frequency\": 34, \"value\": 2159}, \"2160\": {\"frequency\": 20, \"value\": 2160}, \"2161\": {\"frequency\": 120, \"value\": 2161}, \"2162\": {\"frequency\": 182, \"value\": 2162}, \"2163\": {\"frequency\": 96, \"value\": 2163}, \"2164\": {\"frequency\": 471, \"value\": 2164}, \"2165\": {\"frequency\": 225, \"value\": 2165}, \"2166\": {\"frequency\": 213, \"value\": 2166}, \"2167\": {\"frequency\": 222, \"value\": 2167}, \"2168\": {\"frequency\": 365, \"value\": 2168}, \"2169\": {\"frequency\": 37, \"value\": 2169}, \"2170\": {\"frequency\": 126, \"value\": 2170}, \"2171\": {\"frequency\": 101, \"value\": 2171}, \"2172\": {\"frequency\": 451, \"value\": 2172}, \"2173\": {\"frequency\": 297, \"value\": 2173}, \"2174\": {\"frequency\": 178, \"value\": 2174}, \"2175\": {\"frequency\": 169, \"value\": 2175}, \"2176\": {\"frequency\": 179, \"value\": 2176}, \"2177\": {\"frequency\": 141, \"value\": 2177}, \"2178\": {\"frequency\": 174, \"value\": 2178}, \"2179\": {\"frequency\": 146, \"value\": 2179}, \"2180\": {\"frequency\": 409, \"value\": 2180}, \"2181\": {\"frequency\": 915, \"value\": 2181}, \"2182\": {\"frequency\": 24, \"value\": 2182}, \"2183\": {\"frequency\": 35, \"value\": 2183}, \"2184\": {\"frequency\": 30, \"value\": 2184}, \"2185\": {\"frequency\": 293, \"value\": 2185}, \"2186\": {\"frequency\": 292, \"value\": 2186}, \"2187\": {\"frequency\": 137, \"value\": 2187}, \"2188\": {\"frequency\": 405, \"value\": 2188}, \"2189\": {\"frequency\": 35, \"value\": 2189}, \"2190\": {\"frequency\": 130, \"value\": 2190}, \"2191\": {\"frequency\": 38, \"value\": 2191}, \"2192\": {\"frequency\": 121, \"value\": 2192}, \"2193\": {\"frequency\": 27, \"value\": 2193}, \"2194\": {\"frequency\": 107, \"value\": 2194}, \"2195\": {\"frequency\": 258, \"value\": 2195}, \"2196\": {\"frequency\": 36, \"value\": 2196}, \"2197\": {\"frequency\": 56, \"value\": 2197}, \"2198\": {\"frequency\": 67, \"value\": 2198}, \"2199\": {\"frequency\": 129, \"value\": 2199}, \"2200\": {\"frequency\": 76, \"value\": 2200}, \"2201\": {\"frequency\": 65, \"value\": 2201}, \"2202\": {\"frequency\": 71, \"value\": 2202}, \"2203\": {\"frequency\": 539, \"value\": 2203}, \"2204\": {\"frequency\": 33, \"value\": 2204}, \"2205\": {\"frequency\": 509, \"value\": 2205}, \"2206\": {\"frequency\": 156, \"value\": 2206}, \"2207\": {\"frequency\": 21, \"value\": 2207}, \"2208\": {\"frequency\": 265, \"value\": 2208}, \"2209\": {\"frequency\": 23, \"value\": 2209}, \"2210\": {\"frequency\": 29, \"value\": 2210}, \"2211\": {\"frequency\": 298, \"value\": 2211}, \"2212\": {\"frequency\": 100, \"value\": 2212}, \"2213\": {\"frequency\": 39, \"value\": 2213}, \"2214\": {\"frequency\": 81, \"value\": 2214}, \"2215\": {\"frequency\": 187, \"value\": 2215}, \"2216\": {\"frequency\": 52, \"value\": 2216}, \"2217\": {\"frequency\": 40, \"value\": 2217}, \"2218\": {\"frequency\": 34, \"value\": 2218}, \"2219\": {\"frequency\": 210, \"value\": 2219}, \"2220\": {\"frequency\": 29, \"value\": 2220}, \"2221\": {\"frequency\": 162, \"value\": 2221}, \"2222\": {\"frequency\": 219, \"value\": 2222}, \"2223\": {\"frequency\": 528, \"value\": 2223}, \"2224\": {\"frequency\": 38, \"value\": 2224}, \"2225\": {\"frequency\": 399, \"value\": 2225}, \"2226\": {\"frequency\": 52, \"value\": 2226}, \"2227\": {\"frequency\": 48, \"value\": 2227}, \"2228\": {\"frequency\": 61, \"value\": 2228}, \"2229\": {\"frequency\": 39, \"value\": 2229}, \"2230\": {\"frequency\": 233, \"value\": 2230}, \"2231\": {\"frequency\": 436, \"value\": 2231}, \"2232\": {\"frequency\": 318, \"value\": 2232}, \"2233\": {\"frequency\": 207, \"value\": 2233}, \"2234\": {\"frequency\": 21, \"value\": 2234}, \"2235\": {\"frequency\": 142, \"value\": 2235}, \"2236\": {\"frequency\": 95, \"value\": 2236}, \"2237\": {\"frequency\": 442, \"value\": 2237}, \"2238\": {\"frequency\": 88, \"value\": 2238}, \"2239\": {\"frequency\": 119, \"value\": 2239}, \"2240\": {\"frequency\": 99, \"value\": 2240}, \"2241\": {\"frequency\": 128, \"value\": 2241}, \"2242\": {\"frequency\": 332, \"value\": 2242}, \"2243\": {\"frequency\": 60, \"value\": 2243}, \"2244\": {\"frequency\": 429, \"value\": 2244}, \"2245\": {\"frequency\": 51, \"value\": 2245}, \"2246\": {\"frequency\": 172, \"value\": 2246}, \"2247\": {\"frequency\": 257, \"value\": 2247}, \"2248\": {\"frequency\": 107, \"value\": 2248}, \"2249\": {\"frequency\": 70, \"value\": 2249}, \"2250\": {\"frequency\": 67, \"value\": 2250}, \"2251\": {\"frequency\": 413, \"value\": 2251}, \"2252\": {\"frequency\": 23, \"value\": 2252}, \"2253\": {\"frequency\": 31, \"value\": 2253}, \"2254\": {\"frequency\": 84, \"value\": 2254}, \"2255\": {\"frequency\": 175, \"value\": 2255}, \"2256\": {\"frequency\": 68, \"value\": 2256}, \"2257\": {\"frequency\": 35, \"value\": 2257}, \"2258\": {\"frequency\": 358, \"value\": 2258}, \"2259\": {\"frequency\": 229, \"value\": 2259}, \"2260\": {\"frequency\": 25, \"value\": 2260}, \"2261\": {\"frequency\": 242, \"value\": 2261}, \"2262\": {\"frequency\": 133, \"value\": 2262}, \"2263\": {\"frequency\": 236, \"value\": 2263}, \"2264\": {\"frequency\": 300, \"value\": 2264}, \"2265\": {\"frequency\": 232, \"value\": 2265}, \"2266\": {\"frequency\": 101, \"value\": 2266}, \"2267\": {\"frequency\": 53, \"value\": 2267}, \"2268\": {\"frequency\": 23, \"value\": 2268}, \"2269\": {\"frequency\": 25, \"value\": 2269}, \"2270\": {\"frequency\": 103, \"value\": 2270}, \"2271\": {\"frequency\": 329, \"value\": 2271}, \"2272\": {\"frequency\": 127, \"value\": 2272}, \"2273\": {\"frequency\": 71, \"value\": 2273}, \"2274\": {\"frequency\": 40, \"value\": 2274}, \"2275\": {\"frequency\": 37, \"value\": 2275}, \"2276\": {\"frequency\": 108, \"value\": 2276}, \"2277\": {\"frequency\": 28, \"value\": 2277}, \"2278\": {\"frequency\": 67, \"value\": 2278}, \"2279\": {\"frequency\": 420, \"value\": 2279}, \"2280\": {\"frequency\": 76, \"value\": 2280}, \"2281\": {\"frequency\": 77, \"value\": 2281}, \"2282\": {\"frequency\": 188, \"value\": 2282}, \"2283\": {\"frequency\": 43, \"value\": 2283}, \"2284\": {\"frequency\": 52, \"value\": 2284}, \"2285\": {\"frequency\": 52, \"value\": 2285}, \"2286\": {\"frequency\": 45, \"value\": 2286}, \"2287\": {\"frequency\": 27, \"value\": 2287}, \"2288\": {\"frequency\": 535, \"value\": 2288}, \"2289\": {\"frequency\": 37, \"value\": 2289}, \"2290\": {\"frequency\": 165, \"value\": 2290}, \"2291\": {\"frequency\": 41, \"value\": 2291}, \"2292\": {\"frequency\": 20, \"value\": 2292}, \"2293\": {\"frequency\": 283, \"value\": 2293}, \"2294\": {\"frequency\": 62, \"value\": 2294}, \"2295\": {\"frequency\": 22, \"value\": 2295}, \"2296\": {\"frequency\": 28, \"value\": 2296}, \"2297\": {\"frequency\": 42, \"value\": 2297}, \"2298\": {\"frequency\": 120, \"value\": 2298}, \"2299\": {\"frequency\": 75, \"value\": 2299}, \"2300\": {\"frequency\": 52, \"value\": 2300}, \"2301\": {\"frequency\": 52, \"value\": 2301}, \"2302\": {\"frequency\": 199, \"value\": 2302}, \"2303\": {\"frequency\": 308, \"value\": 2303}, \"2304\": {\"frequency\": 873, \"value\": 2304}, \"2305\": {\"frequency\": 77, \"value\": 2305}, \"2306\": {\"frequency\": 71, \"value\": 2306}, \"2307\": {\"frequency\": 145, \"value\": 2307}, \"2308\": {\"frequency\": 63, \"value\": 2308}, \"2309\": {\"frequency\": 173, \"value\": 2309}, \"2310\": {\"frequency\": 101, \"value\": 2310}, \"2311\": {\"frequency\": 23, \"value\": 2311}, \"2312\": {\"frequency\": 35, \"value\": 2312}, \"2313\": {\"frequency\": 43, \"value\": 2313}, \"2314\": {\"frequency\": 35, \"value\": 2314}, \"2315\": {\"frequency\": 44, \"value\": 2315}, \"2316\": {\"frequency\": 153, \"value\": 2316}, \"2317\": {\"frequency\": 61, \"value\": 2317}, \"2318\": {\"frequency\": 69, \"value\": 2318}, \"2319\": {\"frequency\": 62, \"value\": 2319}, \"2320\": {\"frequency\": 100, \"value\": 2320}, \"2321\": {\"frequency\": 111, \"value\": 2321}, \"2322\": {\"frequency\": 66, \"value\": 2322}, \"2323\": {\"frequency\": 269, \"value\": 2323}, \"2324\": {\"frequency\": 89, \"value\": 2324}, \"2325\": {\"frequency\": 28, \"value\": 2325}, \"2326\": {\"frequency\": 56, \"value\": 2326}, \"2327\": {\"frequency\": 59, \"value\": 2327}, \"2328\": {\"frequency\": 41, \"value\": 2328}, \"2329\": {\"frequency\": 40, \"value\": 2329}, \"2330\": {\"frequency\": 120, \"value\": 2330}, \"2331\": {\"frequency\": 70, \"value\": 2331}, \"2332\": {\"frequency\": 46, \"value\": 2332}, \"2333\": {\"frequency\": 62, \"value\": 2333}, \"2334\": {\"frequency\": 333, \"value\": 2334}, \"2335\": {\"frequency\": 96, \"value\": 2335}, \"2336\": {\"frequency\": 21, \"value\": 2336}, \"2337\": {\"frequency\": 55, \"value\": 2337}, \"2338\": {\"frequency\": 187, \"value\": 2338}, \"2339\": {\"frequency\": 23, \"value\": 2339}, \"2340\": {\"frequency\": 399, \"value\": 2340}, \"2341\": {\"frequency\": 57, \"value\": 2341}, \"2342\": {\"frequency\": 77, \"value\": 2342}, \"2343\": {\"frequency\": 36, \"value\": 2343}, \"2344\": {\"frequency\": 188, \"value\": 2344}, \"2345\": {\"frequency\": 23, \"value\": 2345}, \"2346\": {\"frequency\": 69, \"value\": 2346}, \"2347\": {\"frequency\": 23, \"value\": 2347}, \"2348\": {\"frequency\": 206, \"value\": 2348}, \"2349\": {\"frequency\": 117, \"value\": 2349}, \"2350\": {\"frequency\": 116, \"value\": 2350}, \"2351\": {\"frequency\": 143, \"value\": 2351}, \"2352\": {\"frequency\": 119, \"value\": 2352}, \"2353\": {\"frequency\": 197, \"value\": 2353}, \"2354\": {\"frequency\": 65, \"value\": 2354}, \"2355\": {\"frequency\": 141, \"value\": 2355}, \"2356\": {\"frequency\": 24, \"value\": 2356}, \"2357\": {\"frequency\": 29, \"value\": 2357}, \"2358\": {\"frequency\": 35, \"value\": 2358}, \"2359\": {\"frequency\": 59, \"value\": 2359}, \"2360\": {\"frequency\": 37, \"value\": 2360}, \"2361\": {\"frequency\": 49, \"value\": 2361}, \"2362\": {\"frequency\": 49, \"value\": 2362}, \"2363\": {\"frequency\": 31, \"value\": 2363}, \"2364\": {\"frequency\": 29, \"value\": 2364}, \"2365\": {\"frequency\": 47, \"value\": 2365}, \"2366\": {\"frequency\": 41, \"value\": 2366}, \"2367\": {\"frequency\": 53, \"value\": 2367}, \"2368\": {\"frequency\": 232, \"value\": 2368}, \"2369\": {\"frequency\": 29, \"value\": 2369}, \"2370\": {\"frequency\": 76, \"value\": 2370}, \"2371\": {\"frequency\": 81, \"value\": 2371}, \"2372\": {\"frequency\": 71, \"value\": 2372}, \"2373\": {\"frequency\": 21, \"value\": 2373}, \"2374\": {\"frequency\": 159, \"value\": 2374}, \"2375\": {\"frequency\": 27, \"value\": 2375}, \"2376\": {\"frequency\": 494, \"value\": 2376}, \"2377\": {\"frequency\": 36, \"value\": 2377}, \"2378\": {\"frequency\": 261, \"value\": 2378}, \"2379\": {\"frequency\": 26, \"value\": 2379}, \"2380\": {\"frequency\": 406, \"value\": 2380}, \"2381\": {\"frequency\": 20, \"value\": 2381}, \"2382\": {\"frequency\": 61, \"value\": 2382}, \"2383\": {\"frequency\": 456, \"value\": 2383}, \"2384\": {\"frequency\": 31, \"value\": 2384}, \"2385\": {\"frequency\": 23, \"value\": 2385}, \"2386\": {\"frequency\": 71, \"value\": 2386}, \"2387\": {\"frequency\": 62, \"value\": 2387}, \"2388\": {\"frequency\": 22, \"value\": 2388}, \"2389\": {\"frequency\": 299, \"value\": 2389}, \"2390\": {\"frequency\": 76, \"value\": 2390}, \"2391\": {\"frequency\": 71, \"value\": 2391}, \"2392\": {\"frequency\": 43, \"value\": 2392}, \"2393\": {\"frequency\": 145, \"value\": 2393}, \"2394\": {\"frequency\": 71, \"value\": 2394}, \"2395\": {\"frequency\": 224, \"value\": 2395}, \"2396\": {\"frequency\": 36, \"value\": 2396}, \"2397\": {\"frequency\": 60, \"value\": 2397}, \"2398\": {\"frequency\": 116, \"value\": 2398}, \"2399\": {\"frequency\": 22, \"value\": 2399}, \"2400\": {\"frequency\": 53, \"value\": 2400}, \"2401\": {\"frequency\": 50, \"value\": 2401}, \"2402\": {\"frequency\": 529, \"value\": 2402}, \"2403\": {\"frequency\": 180, \"value\": 2403}, \"2404\": {\"frequency\": 95, \"value\": 2404}, \"2405\": {\"frequency\": 59, \"value\": 2405}, \"2406\": {\"frequency\": 100, \"value\": 2406}, \"2407\": {\"frequency\": 152, \"value\": 2407}, \"2408\": {\"frequency\": 69, \"value\": 2408}, \"2409\": {\"frequency\": 134, \"value\": 2409}, \"2410\": {\"frequency\": 114, \"value\": 2410}, \"2411\": {\"frequency\": 326, \"value\": 2411}, \"2412\": {\"frequency\": 30, \"value\": 2412}, \"2413\": {\"frequency\": 27, \"value\": 2413}, \"2414\": {\"frequency\": 232, \"value\": 2414}, \"2415\": {\"frequency\": 36, \"value\": 2415}, \"2416\": {\"frequency\": 47, \"value\": 2416}, \"2417\": {\"frequency\": 29, \"value\": 2417}, \"2418\": {\"frequency\": 57, \"value\": 2418}, \"2419\": {\"frequency\": 528, \"value\": 2419}, \"2420\": {\"frequency\": 47, \"value\": 2420}, \"2421\": {\"frequency\": 61, \"value\": 2421}, \"2422\": {\"frequency\": 21, \"value\": 2422}, \"2423\": {\"frequency\": 75, \"value\": 2423}, \"2424\": {\"frequency\": 147, \"value\": 2424}, \"2425\": {\"frequency\": 58, \"value\": 2425}, \"2426\": {\"frequency\": 36, \"value\": 2426}, \"2427\": {\"frequency\": 121, \"value\": 2427}, \"2428\": {\"frequency\": 83, \"value\": 2428}, \"2429\": {\"frequency\": 125, \"value\": 2429}, \"2430\": {\"frequency\": 42, \"value\": 2430}, \"2431\": {\"frequency\": 26, \"value\": 2431}, \"2432\": {\"frequency\": 35, \"value\": 2432}, \"2433\": {\"frequency\": 34, \"value\": 2433}, \"2434\": {\"frequency\": 24, \"value\": 2434}, \"2435\": {\"frequency\": 117, \"value\": 2435}, \"2436\": {\"frequency\": 427, \"value\": 2436}, \"2437\": {\"frequency\": 42, \"value\": 2437}, \"2438\": {\"frequency\": 200, \"value\": 2438}, \"2439\": {\"frequency\": 90, \"value\": 2439}, \"2440\": {\"frequency\": 23, \"value\": 2440}, \"2441\": {\"frequency\": 27, \"value\": 2441}, \"2442\": {\"frequency\": 29, \"value\": 2442}, \"2443\": {\"frequency\": 26, \"value\": 2443}, \"2444\": {\"frequency\": 105, \"value\": 2444}, \"2445\": {\"frequency\": 244, \"value\": 2445}, \"2446\": {\"frequency\": 421, \"value\": 2446}, \"2447\": {\"frequency\": 57, \"value\": 2447}, \"2448\": {\"frequency\": 73, \"value\": 2448}, \"2449\": {\"frequency\": 26, \"value\": 2449}, \"2450\": {\"frequency\": 27, \"value\": 2450}, \"2451\": {\"frequency\": 159, \"value\": 2451}, \"2452\": {\"frequency\": 52, \"value\": 2452}, \"2453\": {\"frequency\": 629, \"value\": 2453}, \"2454\": {\"frequency\": 301, \"value\": 2454}, \"2455\": {\"frequency\": 192, \"value\": 2455}, \"2456\": {\"frequency\": 366, \"value\": 2456}, \"2457\": {\"frequency\": 499, \"value\": 2457}, \"2458\": {\"frequency\": 165, \"value\": 2458}, \"2459\": {\"frequency\": 123, \"value\": 2459}, \"2460\": {\"frequency\": 51, \"value\": 2460}, \"2461\": {\"frequency\": 104, \"value\": 2461}, \"2462\": {\"frequency\": 254, \"value\": 2462}, \"2463\": {\"frequency\": 105, \"value\": 2463}, \"2464\": {\"frequency\": 35, \"value\": 2464}, \"2465\": {\"frequency\": 235, \"value\": 2465}, \"2466\": {\"frequency\": 203, \"value\": 2466}, \"2467\": {\"frequency\": 22, \"value\": 2467}, \"2468\": {\"frequency\": 125, \"value\": 2468}, \"2469\": {\"frequency\": 58, \"value\": 2469}, \"2470\": {\"frequency\": 23, \"value\": 2470}, \"2471\": {\"frequency\": 37, \"value\": 2471}, \"2472\": {\"frequency\": 290, \"value\": 2472}, \"2473\": {\"frequency\": 38, \"value\": 2473}, \"2474\": {\"frequency\": 32, \"value\": 2474}, \"2475\": {\"frequency\": 37, \"value\": 2475}, \"2476\": {\"frequency\": 61, \"value\": 2476}, \"2477\": {\"frequency\": 61, \"value\": 2477}, \"2478\": {\"frequency\": 287, \"value\": 2478}, \"2479\": {\"frequency\": 33, \"value\": 2479}, \"2480\": {\"frequency\": 45, \"value\": 2480}, \"2481\": {\"frequency\": 132, \"value\": 2481}, \"2482\": {\"frequency\": 38, \"value\": 2482}, \"2483\": {\"frequency\": 70, \"value\": 2483}, \"2484\": {\"frequency\": 547, \"value\": 2484}, \"2485\": {\"frequency\": 246, \"value\": 2485}, \"2486\": {\"frequency\": 154, \"value\": 2486}, \"2487\": {\"frequency\": 37, \"value\": 2487}, \"2488\": {\"frequency\": 20, \"value\": 2488}, \"2489\": {\"frequency\": 397, \"value\": 2489}, \"2490\": {\"frequency\": 22, \"value\": 2490}, \"2491\": {\"frequency\": 114, \"value\": 2491}, \"2492\": {\"frequency\": 89, \"value\": 2492}, \"2493\": {\"frequency\": 86, \"value\": 2493}, \"2494\": {\"frequency\": 38, \"value\": 2494}, \"2495\": {\"frequency\": 39, \"value\": 2495}, \"2496\": {\"frequency\": 511, \"value\": 2496}, \"2497\": {\"frequency\": 121, \"value\": 2497}, \"2498\": {\"frequency\": 154, \"value\": 2498}, \"2499\": {\"frequency\": 47, \"value\": 2499}, \"2500\": {\"frequency\": 140, \"value\": 2500}, \"2501\": {\"frequency\": 85, \"value\": 2501}, \"2502\": {\"frequency\": 21, \"value\": 2502}, \"2503\": {\"frequency\": 200, \"value\": 2503}, \"2504\": {\"frequency\": 301, \"value\": 2504}, \"2505\": {\"frequency\": 32, \"value\": 2505}, \"2506\": {\"frequency\": 251, \"value\": 2506}, \"2507\": {\"frequency\": 859, \"value\": 2507}, \"2508\": {\"frequency\": 60, \"value\": 2508}, \"2509\": {\"frequency\": 41, \"value\": 2509}, \"2510\": {\"frequency\": 43, \"value\": 2510}, \"2511\": {\"frequency\": 29, \"value\": 2511}, \"2512\": {\"frequency\": 31, \"value\": 2512}, \"2513\": {\"frequency\": 66, \"value\": 2513}, \"2514\": {\"frequency\": 31, \"value\": 2514}, \"2515\": {\"frequency\": 51, \"value\": 2515}, \"2516\": {\"frequency\": 22, \"value\": 2516}, \"2517\": {\"frequency\": 50, \"value\": 2517}, \"2518\": {\"frequency\": 42, \"value\": 2518}, \"2519\": {\"frequency\": 47, \"value\": 2519}, \"2520\": {\"frequency\": 48, \"value\": 2520}, \"2521\": {\"frequency\": 54, \"value\": 2521}, \"2522\": {\"frequency\": 74, \"value\": 2522}, \"2523\": {\"frequency\": 130, \"value\": 2523}, \"2524\": {\"frequency\": 26, \"value\": 2524}, \"2525\": {\"frequency\": 59, \"value\": 2525}, \"2526\": {\"frequency\": 263, \"value\": 2526}, \"2527\": {\"frequency\": 21, \"value\": 2527}, \"2528\": {\"frequency\": 62, \"value\": 2528}, \"2529\": {\"frequency\": 812, \"value\": 2529}, \"2530\": {\"frequency\": 20, \"value\": 2530}, \"2531\": {\"frequency\": 31, \"value\": 2531}, \"2532\": {\"frequency\": 31, \"value\": 2532}, \"2533\": {\"frequency\": 131, \"value\": 2533}, \"2534\": {\"frequency\": 38, \"value\": 2534}, \"2535\": {\"frequency\": 66, \"value\": 2535}, \"2536\": {\"frequency\": 57, \"value\": 2536}, \"2537\": {\"frequency\": 554, \"value\": 2537}, \"2538\": {\"frequency\": 25, \"value\": 2538}, \"2539\": {\"frequency\": 41, \"value\": 2539}, \"2540\": {\"frequency\": 223, \"value\": 2540}, \"2541\": {\"frequency\": 256, \"value\": 2541}, \"2542\": {\"frequency\": 25, \"value\": 2542}, \"2543\": {\"frequency\": 24, \"value\": 2543}, \"2544\": {\"frequency\": 729, \"value\": 2544}, \"2545\": {\"frequency\": 51, \"value\": 2545}, \"2546\": {\"frequency\": 118, \"value\": 2546}, \"2547\": {\"frequency\": 139, \"value\": 2547}, \"2548\": {\"frequency\": 43, \"value\": 2548}, \"2549\": {\"frequency\": 23, \"value\": 2549}, \"2550\": {\"frequency\": 94, \"value\": 2550}, \"2551\": {\"frequency\": 76, \"value\": 2551}, \"2552\": {\"frequency\": 80, \"value\": 2552}, \"2553\": {\"frequency\": 23, \"value\": 2553}, \"2554\": {\"frequency\": 42, \"value\": 2554}, \"2555\": {\"frequency\": 158, \"value\": 2555}, \"2556\": {\"frequency\": 47, \"value\": 2556}, \"2557\": {\"frequency\": 74, \"value\": 2557}, \"2558\": {\"frequency\": 48, \"value\": 2558}, \"2559\": {\"frequency\": 195, \"value\": 2559}, \"2560\": {\"frequency\": 40, \"value\": 2560}, \"2561\": {\"frequency\": 77, \"value\": 2561}, \"2562\": {\"frequency\": 171, \"value\": 2562}, \"2563\": {\"frequency\": 27, \"value\": 2563}, \"2564\": {\"frequency\": 120, \"value\": 2564}, \"2565\": {\"frequency\": 300, \"value\": 2565}, \"2566\": {\"frequency\": 264, \"value\": 2566}, \"2567\": {\"frequency\": 336, \"value\": 2567}, \"2568\": {\"frequency\": 33, \"value\": 2568}, \"2569\": {\"frequency\": 46, \"value\": 2569}, \"2570\": {\"frequency\": 80, \"value\": 2570}, \"2571\": {\"frequency\": 68, \"value\": 2571}, \"2572\": {\"frequency\": 151, \"value\": 2572}, \"2573\": {\"frequency\": 97, \"value\": 2573}, \"2574\": {\"frequency\": 33, \"value\": 2574}, \"2575\": {\"frequency\": 169, \"value\": 2575}, \"2576\": {\"frequency\": 276, \"value\": 2576}, \"2577\": {\"frequency\": 52, \"value\": 2577}, \"2578\": {\"frequency\": 35, \"value\": 2578}, \"2579\": {\"frequency\": 68, \"value\": 2579}, \"2580\": {\"frequency\": 74, \"value\": 2580}, \"2581\": {\"frequency\": 403, \"value\": 2581}, \"2582\": {\"frequency\": 22, \"value\": 2582}, \"2583\": {\"frequency\": 331, \"value\": 2583}, \"2584\": {\"frequency\": 20, \"value\": 2584}, \"2585\": {\"frequency\": 109, \"value\": 2585}, \"2586\": {\"frequency\": 49, \"value\": 2586}, \"2587\": {\"frequency\": 31, \"value\": 2587}, \"2588\": {\"frequency\": 41, \"value\": 2588}, \"2589\": {\"frequency\": 212, \"value\": 2589}, \"2590\": {\"frequency\": 357, \"value\": 2590}, \"2591\": {\"frequency\": 41, \"value\": 2591}, \"2592\": {\"frequency\": 442, \"value\": 2592}, \"2593\": {\"frequency\": 136, \"value\": 2593}, \"2594\": {\"frequency\": 94, \"value\": 2594}, \"2595\": {\"frequency\": 159, \"value\": 2595}, \"2596\": {\"frequency\": 41, \"value\": 2596}, \"2597\": {\"frequency\": 65, \"value\": 2597}, \"2598\": {\"frequency\": 27, \"value\": 2598}, \"2599\": {\"frequency\": 229, \"value\": 2599}, \"2600\": {\"frequency\": 91, \"value\": 2600}, \"2601\": {\"frequency\": 29, \"value\": 2601}, \"2602\": {\"frequency\": 29, \"value\": 2602}, \"2603\": {\"frequency\": 43, \"value\": 2603}, \"2604\": {\"frequency\": 68, \"value\": 2604}, \"2605\": {\"frequency\": 188, \"value\": 2605}, \"2606\": {\"frequency\": 50, \"value\": 2606}, \"2607\": {\"frequency\": 62, \"value\": 2607}, \"2608\": {\"frequency\": 228, \"value\": 2608}, \"2609\": {\"frequency\": 202, \"value\": 2609}, \"2610\": {\"frequency\": 46, \"value\": 2610}, \"2611\": {\"frequency\": 429, \"value\": 2611}, \"2612\": {\"frequency\": 43, \"value\": 2612}, \"2613\": {\"frequency\": 22, \"value\": 2613}, \"2614\": {\"frequency\": 30, \"value\": 2614}, \"2615\": {\"frequency\": 61, \"value\": 2615}, \"2616\": {\"frequency\": 50, \"value\": 2616}, \"2617\": {\"frequency\": 82, \"value\": 2617}, \"2618\": {\"frequency\": 25, \"value\": 2618}, \"2619\": {\"frequency\": 93, \"value\": 2619}, \"2620\": {\"frequency\": 156, \"value\": 2620}, \"2621\": {\"frequency\": 315, \"value\": 2621}, \"2622\": {\"frequency\": 37, \"value\": 2622}, \"2623\": {\"frequency\": 54, \"value\": 2623}, \"2624\": {\"frequency\": 306, \"value\": 2624}, \"2625\": {\"frequency\": 142, \"value\": 2625}, \"2626\": {\"frequency\": 22, \"value\": 2626}, \"2627\": {\"frequency\": 485, \"value\": 2627}, \"2628\": {\"frequency\": 203, \"value\": 2628}, \"2629\": {\"frequency\": 272, \"value\": 2629}, \"2630\": {\"frequency\": 54, \"value\": 2630}, \"2631\": {\"frequency\": 89, \"value\": 2631}, \"2632\": {\"frequency\": 41, \"value\": 2632}, \"2633\": {\"frequency\": 37, \"value\": 2633}, \"2634\": {\"frequency\": 278, \"value\": 2634}, \"2635\": {\"frequency\": 59, \"value\": 2635}, \"2636\": {\"frequency\": 63, \"value\": 2636}, \"2637\": {\"frequency\": 56, \"value\": 2637}, \"2638\": {\"frequency\": 521, \"value\": 2638}, \"2639\": {\"frequency\": 33, \"value\": 2639}, \"2640\": {\"frequency\": 21, \"value\": 2640}, \"2641\": {\"frequency\": 318, \"value\": 2641}, \"2642\": {\"frequency\": 71, \"value\": 2642}, \"2643\": {\"frequency\": 454, \"value\": 2643}, \"2644\": {\"frequency\": 21, \"value\": 2644}, \"2645\": {\"frequency\": 282, \"value\": 2645}, \"2646\": {\"frequency\": 23, \"value\": 2646}, \"2647\": {\"frequency\": 24, \"value\": 2647}, \"2648\": {\"frequency\": 107, \"value\": 2648}, \"2649\": {\"frequency\": 215, \"value\": 2649}, \"2650\": {\"frequency\": 49, \"value\": 2650}, \"2651\": {\"frequency\": 116, \"value\": 2651}, \"2652\": {\"frequency\": 41, \"value\": 2652}, \"2653\": {\"frequency\": 29, \"value\": 2653}, \"2654\": {\"frequency\": 100, \"value\": 2654}, \"2655\": {\"frequency\": 76, \"value\": 2655}, \"2656\": {\"frequency\": 132, \"value\": 2656}, \"2657\": {\"frequency\": 22, \"value\": 2657}, \"2658\": {\"frequency\": 31, \"value\": 2658}, \"2659\": {\"frequency\": 161, \"value\": 2659}, \"2660\": {\"frequency\": 47, \"value\": 2660}, \"2661\": {\"frequency\": 98, \"value\": 2661}, \"2662\": {\"frequency\": 42, \"value\": 2662}, \"2663\": {\"frequency\": 156, \"value\": 2663}, \"2664\": {\"frequency\": 367, \"value\": 2664}, \"2665\": {\"frequency\": 828, \"value\": 2665}, \"2666\": {\"frequency\": 94, \"value\": 2666}, \"2667\": {\"frequency\": 32, \"value\": 2667}, \"2668\": {\"frequency\": 218, \"value\": 2668}, \"2669\": {\"frequency\": 115, \"value\": 2669}, \"2670\": {\"frequency\": 282, \"value\": 2670}, \"2671\": {\"frequency\": 23, \"value\": 2671}, \"2672\": {\"frequency\": 54, \"value\": 2672}, \"2673\": {\"frequency\": 20, \"value\": 2673}, \"2674\": {\"frequency\": 119, \"value\": 2674}, \"2675\": {\"frequency\": 44, \"value\": 2675}, \"2676\": {\"frequency\": 229, \"value\": 2676}, \"2677\": {\"frequency\": 38, \"value\": 2677}, \"2678\": {\"frequency\": 42, \"value\": 2678}, \"2679\": {\"frequency\": 342, \"value\": 2679}, \"2680\": {\"frequency\": 214, \"value\": 2680}, \"2681\": {\"frequency\": 223, \"value\": 2681}, \"2682\": {\"frequency\": 110, \"value\": 2682}, \"2683\": {\"frequency\": 257, \"value\": 2683}, \"2684\": {\"frequency\": 219, \"value\": 2684}, \"2685\": {\"frequency\": 196, \"value\": 2685}, \"2686\": {\"frequency\": 21, \"value\": 2686}, \"2687\": {\"frequency\": 23, \"value\": 2687}, \"2688\": {\"frequency\": 135, \"value\": 2688}, \"2689\": {\"frequency\": 101, \"value\": 2689}, \"2690\": {\"frequency\": 23, \"value\": 2690}, \"2691\": {\"frequency\": 241, \"value\": 2691}, \"2692\": {\"frequency\": 134, \"value\": 2692}, \"2693\": {\"frequency\": 136, \"value\": 2693}, \"2694\": {\"frequency\": 72, \"value\": 2694}, \"2695\": {\"frequency\": 63, \"value\": 2695}, \"2696\": {\"frequency\": 20, \"value\": 2696}, \"2697\": {\"frequency\": 34, \"value\": 2697}, \"2698\": {\"frequency\": 43, \"value\": 2698}, \"2699\": {\"frequency\": 100, \"value\": 2699}, \"2700\": {\"frequency\": 294, \"value\": 2700}, \"2701\": {\"frequency\": 114, \"value\": 2701}, \"2702\": {\"frequency\": 41, \"value\": 2702}, \"2703\": {\"frequency\": 92, \"value\": 2703}, \"2704\": {\"frequency\": 48, \"value\": 2704}, \"2705\": {\"frequency\": 22, \"value\": 2705}, \"2706\": {\"frequency\": 25, \"value\": 2706}, \"2707\": {\"frequency\": 23, \"value\": 2707}, \"2708\": {\"frequency\": 37, \"value\": 2708}, \"2709\": {\"frequency\": 32, \"value\": 2709}, \"2710\": {\"frequency\": 30, \"value\": 2710}, \"2711\": {\"frequency\": 38, \"value\": 2711}, \"2712\": {\"frequency\": 68, \"value\": 2712}, \"2713\": {\"frequency\": 25, \"value\": 2713}, \"2714\": {\"frequency\": 20, \"value\": 2714}, \"2715\": {\"frequency\": 78, \"value\": 2715}, \"2716\": {\"frequency\": 24, \"value\": 2716}, \"2717\": {\"frequency\": 25, \"value\": 2717}, \"2718\": {\"frequency\": 117, \"value\": 2718}, \"2719\": {\"frequency\": 117, \"value\": 2719}, \"2720\": {\"frequency\": 38, \"value\": 2720}, \"2721\": {\"frequency\": 34, \"value\": 2721}, \"2722\": {\"frequency\": 23, \"value\": 2722}, \"2723\": {\"frequency\": 84, \"value\": 2723}, \"2724\": {\"frequency\": 205, \"value\": 2724}, \"2725\": {\"frequency\": 35, \"value\": 2725}, \"2726\": {\"frequency\": 84, \"value\": 2726}, \"2727\": {\"frequency\": 88, \"value\": 2727}, \"2728\": {\"frequency\": 67, \"value\": 2728}, \"2729\": {\"frequency\": 23, \"value\": 2729}, \"2730\": {\"frequency\": 157, \"value\": 2730}, \"2731\": {\"frequency\": 280, \"value\": 2731}, \"2732\": {\"frequency\": 45, \"value\": 2732}, \"2733\": {\"frequency\": 99, \"value\": 2733}, \"2734\": {\"frequency\": 121, \"value\": 2734}, \"2735\": {\"frequency\": 24, \"value\": 2735}, \"2736\": {\"frequency\": 101, \"value\": 2736}, \"2737\": {\"frequency\": 399, \"value\": 2737}, \"2738\": {\"frequency\": 105, \"value\": 2738}, \"2739\": {\"frequency\": 32, \"value\": 2739}, \"2740\": {\"frequency\": 145, \"value\": 2740}, \"2741\": {\"frequency\": 35, \"value\": 2741}, \"2742\": {\"frequency\": 108, \"value\": 2742}, \"2743\": {\"frequency\": 439, \"value\": 2743}, \"2744\": {\"frequency\": 138, \"value\": 2744}, \"2745\": {\"frequency\": 197, \"value\": 2745}, \"2746\": {\"frequency\": 57, \"value\": 2746}, \"2747\": {\"frequency\": 139, \"value\": 2747}, \"2748\": {\"frequency\": 326, \"value\": 2748}, \"2749\": {\"frequency\": 90, \"value\": 2749}, \"2750\": {\"frequency\": 200, \"value\": 2750}, \"2751\": {\"frequency\": 178, \"value\": 2751}, \"2752\": {\"frequency\": 378, \"value\": 2752}, \"2753\": {\"frequency\": 505, \"value\": 2753}, \"2754\": {\"frequency\": 100, \"value\": 2754}, \"2755\": {\"frequency\": 23, \"value\": 2755}, \"2756\": {\"frequency\": 239, \"value\": 2756}, \"2757\": {\"frequency\": 129, \"value\": 2757}, \"2758\": {\"frequency\": 29, \"value\": 2758}, \"2759\": {\"frequency\": 20, \"value\": 2759}, \"2760\": {\"frequency\": 68, \"value\": 2760}, \"2761\": {\"frequency\": 483, \"value\": 2761}, \"2762\": {\"frequency\": 47, \"value\": 2762}, \"2763\": {\"frequency\": 25, \"value\": 2763}, \"2764\": {\"frequency\": 354, \"value\": 2764}, \"2765\": {\"frequency\": 211, \"value\": 2765}, \"2766\": {\"frequency\": 102, \"value\": 2766}, \"2767\": {\"frequency\": 26, \"value\": 2767}, \"2768\": {\"frequency\": 80, \"value\": 2768}, \"2769\": {\"frequency\": 146, \"value\": 2769}, \"2770\": {\"frequency\": 47, \"value\": 2770}, \"2771\": {\"frequency\": 287, \"value\": 2771}, \"2772\": {\"frequency\": 178, \"value\": 2772}, \"2773\": {\"frequency\": 83, \"value\": 2773}, \"2774\": {\"frequency\": 277, \"value\": 2774}, \"2775\": {\"frequency\": 29, \"value\": 2775}, \"2776\": {\"frequency\": 350, \"value\": 2776}, \"2777\": {\"frequency\": 875, \"value\": 2777}, \"2778\": {\"frequency\": 106, \"value\": 2778}, \"2779\": {\"frequency\": 171, \"value\": 2779}, \"2780\": {\"frequency\": 40, \"value\": 2780}, \"2781\": {\"frequency\": 284, \"value\": 2781}, \"2782\": {\"frequency\": 60, \"value\": 2782}, \"2783\": {\"frequency\": 54, \"value\": 2783}, \"2784\": {\"frequency\": 158, \"value\": 2784}, \"2785\": {\"frequency\": 163, \"value\": 2785}, \"2786\": {\"frequency\": 298, \"value\": 2786}, \"2787\": {\"frequency\": 138, \"value\": 2787}, \"2788\": {\"frequency\": 124, \"value\": 2788}, \"2789\": {\"frequency\": 94, \"value\": 2789}, \"2790\": {\"frequency\": 122, \"value\": 2790}, \"2791\": {\"frequency\": 48, \"value\": 2791}, \"2792\": {\"frequency\": 191, \"value\": 2792}, \"2793\": {\"frequency\": 789, \"value\": 2793}, \"2794\": {\"frequency\": 143, \"value\": 2794}, \"2795\": {\"frequency\": 100, \"value\": 2795}, \"2796\": {\"frequency\": 404, \"value\": 2796}, \"2797\": {\"frequency\": 48, \"value\": 2797}, \"2798\": {\"frequency\": 77, \"value\": 2798}, \"2799\": {\"frequency\": 23, \"value\": 2799}, \"2800\": {\"frequency\": 91, \"value\": 2800}, \"2801\": {\"frequency\": 101, \"value\": 2801}, \"2802\": {\"frequency\": 80, \"value\": 2802}, \"2803\": {\"frequency\": 111, \"value\": 2803}, \"2804\": {\"frequency\": 171, \"value\": 2804}, \"2805\": {\"frequency\": 88, \"value\": 2805}, \"2806\": {\"frequency\": 79, \"value\": 2806}, \"2807\": {\"frequency\": 335, \"value\": 2807}, \"2808\": {\"frequency\": 139, \"value\": 2808}, \"2809\": {\"frequency\": 109, \"value\": 2809}, \"2810\": {\"frequency\": 401, \"value\": 2810}, \"2811\": {\"frequency\": 81, \"value\": 2811}, \"2812\": {\"frequency\": 121, \"value\": 2812}, \"2813\": {\"frequency\": 23, \"value\": 2813}, \"2814\": {\"frequency\": 170, \"value\": 2814}, \"2815\": {\"frequency\": 55, \"value\": 2815}, \"2816\": {\"frequency\": 22, \"value\": 2816}, \"2817\": {\"frequency\": 82, \"value\": 2817}, \"2818\": {\"frequency\": 293, \"value\": 2818}, \"2819\": {\"frequency\": 20, \"value\": 2819}, \"2820\": {\"frequency\": 894, \"value\": 2820}, \"2821\": {\"frequency\": 30, \"value\": 2821}, \"2822\": {\"frequency\": 62, \"value\": 2822}, \"2823\": {\"frequency\": 47, \"value\": 2823}, \"2824\": {\"frequency\": 248, \"value\": 2824}, \"2825\": {\"frequency\": 221, \"value\": 2825}, \"2826\": {\"frequency\": 264, \"value\": 2826}, \"2827\": {\"frequency\": 33, \"value\": 2827}, \"2828\": {\"frequency\": 58, \"value\": 2828}, \"2829\": {\"frequency\": 38, \"value\": 2829}, \"2830\": {\"frequency\": 85, \"value\": 2830}, \"2831\": {\"frequency\": 36, \"value\": 2831}, \"2832\": {\"frequency\": 157, \"value\": 2832}, \"2833\": {\"frequency\": 53, \"value\": 2833}, \"2834\": {\"frequency\": 22, \"value\": 2834}, \"2835\": {\"frequency\": 38, \"value\": 2835}, \"2836\": {\"frequency\": 22, \"value\": 2836}, \"2837\": {\"frequency\": 235, \"value\": 2837}, \"2838\": {\"frequency\": 39, \"value\": 2838}, \"2839\": {\"frequency\": 35, \"value\": 2839}, \"2840\": {\"frequency\": 350, \"value\": 2840}, \"2841\": {\"frequency\": 445, \"value\": 2841}, \"2842\": {\"frequency\": 89, \"value\": 2842}, \"2843\": {\"frequency\": 39, \"value\": 2843}, \"2844\": {\"frequency\": 108, \"value\": 2844}, \"2845\": {\"frequency\": 54, \"value\": 2845}, \"2846\": {\"frequency\": 102, \"value\": 2846}, \"2847\": {\"frequency\": 396, \"value\": 2847}, \"2848\": {\"frequency\": 220, \"value\": 2848}, \"2849\": {\"frequency\": 155, \"value\": 2849}, \"2850\": {\"frequency\": 43, \"value\": 2850}, \"2851\": {\"frequency\": 33, \"value\": 2851}, \"2852\": {\"frequency\": 135, \"value\": 2852}, \"2853\": {\"frequency\": 89, \"value\": 2853}, \"2854\": {\"frequency\": 414, \"value\": 2854}, \"2855\": {\"frequency\": 73, \"value\": 2855}, \"2856\": {\"frequency\": 52, \"value\": 2856}, \"2857\": {\"frequency\": 795, \"value\": 2857}, \"2858\": {\"frequency\": 73, \"value\": 2858}, \"2859\": {\"frequency\": 133, \"value\": 2859}, \"2860\": {\"frequency\": 508, \"value\": 2860}, \"2861\": {\"frequency\": 46, \"value\": 2861}, \"2862\": {\"frequency\": 86, \"value\": 2862}, \"2863\": {\"frequency\": 117, \"value\": 2863}, \"2864\": {\"frequency\": 52, \"value\": 2864}, \"2865\": {\"frequency\": 92, \"value\": 2865}, \"2866\": {\"frequency\": 205, \"value\": 2866}, \"2867\": {\"frequency\": 28, \"value\": 2867}, \"2868\": {\"frequency\": 191, \"value\": 2868}, \"2869\": {\"frequency\": 33, \"value\": 2869}, \"2870\": {\"frequency\": 143, \"value\": 2870}, \"2871\": {\"frequency\": 28, \"value\": 2871}, \"2872\": {\"frequency\": 423, \"value\": 2872}, \"2873\": {\"frequency\": 233, \"value\": 2873}, \"2874\": {\"frequency\": 103, \"value\": 2874}, \"2875\": {\"frequency\": 35, \"value\": 2875}, \"2876\": {\"frequency\": 190, \"value\": 2876}, \"2877\": {\"frequency\": 46, \"value\": 2877}, \"2878\": {\"frequency\": 695, \"value\": 2878}, \"2879\": {\"frequency\": 25, \"value\": 2879}, \"2880\": {\"frequency\": 273, \"value\": 2880}, \"2881\": {\"frequency\": 87, \"value\": 2881}, \"2882\": {\"frequency\": 123, \"value\": 2882}, \"2883\": {\"frequency\": 149, \"value\": 2883}, \"2884\": {\"frequency\": 20, \"value\": 2884}, \"2885\": {\"frequency\": 192, \"value\": 2885}, \"2886\": {\"frequency\": 87, \"value\": 2886}, \"2887\": {\"frequency\": 592, \"value\": 2887}, \"2888\": {\"frequency\": 376, \"value\": 2888}, \"2889\": {\"frequency\": 195, \"value\": 2889}, \"2890\": {\"frequency\": 141, \"value\": 2890}, \"2891\": {\"frequency\": 58, \"value\": 2891}, \"2892\": {\"frequency\": 93, \"value\": 2892}, \"2893\": {\"frequency\": 21, \"value\": 2893}, \"2894\": {\"frequency\": 113, \"value\": 2894}, \"2895\": {\"frequency\": 513, \"value\": 2895}, \"2896\": {\"frequency\": 320, \"value\": 2896}, \"2897\": {\"frequency\": 117, \"value\": 2897}, \"2898\": {\"frequency\": 109, \"value\": 2898}, \"2899\": {\"frequency\": 425, \"value\": 2899}, \"2900\": {\"frequency\": 298, \"value\": 2900}, \"2901\": {\"frequency\": 249, \"value\": 2901}, \"2902\": {\"frequency\": 22, \"value\": 2902}, \"2903\": {\"frequency\": 146, \"value\": 2903}, \"2904\": {\"frequency\": 51, \"value\": 2904}, \"2905\": {\"frequency\": 126, \"value\": 2905}, \"2906\": {\"frequency\": 55, \"value\": 2906}, \"2907\": {\"frequency\": 849, \"value\": 2907}, \"2908\": {\"frequency\": 21, \"value\": 2908}, \"2909\": {\"frequency\": 1258, \"value\": 2909}, \"2910\": {\"frequency\": 143, \"value\": 2910}, \"2911\": {\"frequency\": 63, \"value\": 2911}, \"2912\": {\"frequency\": 44, \"value\": 2912}, \"2913\": {\"frequency\": 330, \"value\": 2913}, \"2914\": {\"frequency\": 72, \"value\": 2914}, \"2915\": {\"frequency\": 72, \"value\": 2915}, \"2916\": {\"frequency\": 233, \"value\": 2916}, \"2917\": {\"frequency\": 70, \"value\": 2917}, \"2918\": {\"frequency\": 387, \"value\": 2918}, \"2919\": {\"frequency\": 156, \"value\": 2919}, \"2920\": {\"frequency\": 24, \"value\": 2920}, \"2921\": {\"frequency\": 127, \"value\": 2921}, \"2922\": {\"frequency\": 71, \"value\": 2922}, \"2923\": {\"frequency\": 21, \"value\": 2923}, \"2924\": {\"frequency\": 46, \"value\": 2924}, \"2925\": {\"frequency\": 25, \"value\": 2925}, \"2926\": {\"frequency\": 342, \"value\": 2926}, \"2927\": {\"frequency\": 62, \"value\": 2927}, \"2928\": {\"frequency\": 420, \"value\": 2928}, \"2929\": {\"frequency\": 362, \"value\": 2929}, \"2930\": {\"frequency\": 20, \"value\": 2930}, \"2931\": {\"frequency\": 224, \"value\": 2931}, \"2932\": {\"frequency\": 28, \"value\": 2932}, \"2933\": {\"frequency\": 124, \"value\": 2933}, \"2934\": {\"frequency\": 622, \"value\": 2934}, \"2935\": {\"frequency\": 144, \"value\": 2935}, \"2936\": {\"frequency\": 55, \"value\": 2936}, \"2937\": {\"frequency\": 104, \"value\": 2937}, \"2938\": {\"frequency\": 201, \"value\": 2938}, \"2939\": {\"frequency\": 148, \"value\": 2939}, \"2940\": {\"frequency\": 31, \"value\": 2940}, \"2941\": {\"frequency\": 359, \"value\": 2941}, \"2942\": {\"frequency\": 129, \"value\": 2942}, \"2943\": {\"frequency\": 124, \"value\": 2943}, \"2944\": {\"frequency\": 174, \"value\": 2944}, \"2945\": {\"frequency\": 68, \"value\": 2945}, \"2946\": {\"frequency\": 461, \"value\": 2946}, \"2947\": {\"frequency\": 136, \"value\": 2947}, \"2948\": {\"frequency\": 53, \"value\": 2948}, \"2949\": {\"frequency\": 48, \"value\": 2949}, \"2950\": {\"frequency\": 67, \"value\": 2950}, \"2951\": {\"frequency\": 65, \"value\": 2951}, \"2952\": {\"frequency\": 168, \"value\": 2952}, \"2953\": {\"frequency\": 90, \"value\": 2953}, \"2954\": {\"frequency\": 36, \"value\": 2954}, \"2955\": {\"frequency\": 191, \"value\": 2955}, \"2956\": {\"frequency\": 27, \"value\": 2956}, \"2957\": {\"frequency\": 64, \"value\": 2957}, \"2958\": {\"frequency\": 43, \"value\": 2958}, \"2959\": {\"frequency\": 73, \"value\": 2959}, \"2960\": {\"frequency\": 31, \"value\": 2960}, \"2961\": {\"frequency\": 44, \"value\": 2961}, \"2962\": {\"frequency\": 625, \"value\": 2962}, \"2963\": {\"frequency\": 39, \"value\": 2963}, \"2964\": {\"frequency\": 48, \"value\": 2964}, \"2965\": {\"frequency\": 27, \"value\": 2965}, \"2966\": {\"frequency\": 208, \"value\": 2966}, \"2967\": {\"frequency\": 527, \"value\": 2967}, \"2968\": {\"frequency\": 170, \"value\": 2968}, \"2969\": {\"frequency\": 174, \"value\": 2969}, \"2970\": {\"frequency\": 48, \"value\": 2970}, \"2971\": {\"frequency\": 36, \"value\": 2971}, \"2972\": {\"frequency\": 169, \"value\": 2972}, \"2973\": {\"frequency\": 62, \"value\": 2973}, \"2974\": {\"frequency\": 124, \"value\": 2974}, \"2975\": {\"frequency\": 100, \"value\": 2975}, \"2976\": {\"frequency\": 143, \"value\": 2976}, \"2977\": {\"frequency\": 21, \"value\": 2977}, \"2978\": {\"frequency\": 173, \"value\": 2978}, \"2979\": {\"frequency\": 44, \"value\": 2979}, \"2980\": {\"frequency\": 136, \"value\": 2980}, \"2981\": {\"frequency\": 30, \"value\": 2981}, \"2982\": {\"frequency\": 22, \"value\": 2982}, \"2983\": {\"frequency\": 55, \"value\": 2983}, \"2984\": {\"frequency\": 24, \"value\": 2984}, \"2985\": {\"frequency\": 184, \"value\": 2985}, \"2986\": {\"frequency\": 720, \"value\": 2986}, \"2987\": {\"frequency\": 54, \"value\": 2987}, \"2988\": {\"frequency\": 63, \"value\": 2988}, \"2989\": {\"frequency\": 105, \"value\": 2989}, \"2990\": {\"frequency\": 261, \"value\": 2990}, \"2991\": {\"frequency\": 58, \"value\": 2991}, \"2992\": {\"frequency\": 43, \"value\": 2992}, \"2993\": {\"frequency\": 83, \"value\": 2993}, \"2994\": {\"frequency\": 377, \"value\": 2994}, \"2995\": {\"frequency\": 341, \"value\": 2995}, \"2996\": {\"frequency\": 477, \"value\": 2996}, \"2997\": {\"frequency\": 167, \"value\": 2997}, \"2998\": {\"frequency\": 54, \"value\": 2998}, \"2999\": {\"frequency\": 135, \"value\": 2999}, \"3000\": {\"frequency\": 106, \"value\": 3000}, \"3001\": {\"frequency\": 309, \"value\": 3001}, \"3002\": {\"frequency\": 147, \"value\": 3002}, \"3003\": {\"frequency\": 79, \"value\": 3003}, \"3004\": {\"frequency\": 120, \"value\": 3004}, \"3005\": {\"frequency\": 111, \"value\": 3005}, \"3006\": {\"frequency\": 52, \"value\": 3006}, \"3007\": {\"frequency\": 239, \"value\": 3007}, \"3008\": {\"frequency\": 34, \"value\": 3008}, \"3009\": {\"frequency\": 26, \"value\": 3009}, \"3010\": {\"frequency\": 105, \"value\": 3010}, \"3011\": {\"frequency\": 92, \"value\": 3011}, \"3012\": {\"frequency\": 322, \"value\": 3012}, \"3013\": {\"frequency\": 467, \"value\": 3013}, \"3014\": {\"frequency\": 170, \"value\": 3014}, \"3015\": {\"frequency\": 42, \"value\": 3015}, \"3016\": {\"frequency\": 41, \"value\": 3016}, \"3017\": {\"frequency\": 362, \"value\": 3017}, \"3018\": {\"frequency\": 610, \"value\": 3018}, \"3019\": {\"frequency\": 27, \"value\": 3019}, \"3020\": {\"frequency\": 170, \"value\": 3020}, \"3021\": {\"frequency\": 20, \"value\": 3021}, \"3022\": {\"frequency\": 150, \"value\": 3022}, \"3023\": {\"frequency\": 62, \"value\": 3023}, \"3024\": {\"frequency\": 218, \"value\": 3024}, \"3025\": {\"frequency\": 148, \"value\": 3025}, \"3026\": {\"frequency\": 357, \"value\": 3026}, \"3027\": {\"frequency\": 23, \"value\": 3027}, \"3028\": {\"frequency\": 113, \"value\": 3028}, \"3029\": {\"frequency\": 761, \"value\": 3029}, \"3030\": {\"frequency\": 26, \"value\": 3030}, \"3031\": {\"frequency\": 500, \"value\": 3031}, \"3032\": {\"frequency\": 1019, \"value\": 3032}, \"3033\": {\"frequency\": 133, \"value\": 3033}, \"3034\": {\"frequency\": 28, \"value\": 3034}, \"3035\": {\"frequency\": 80, \"value\": 3035}, \"3036\": {\"frequency\": 116, \"value\": 3036}, \"3037\": {\"frequency\": 64, \"value\": 3037}, \"3038\": {\"frequency\": 118, \"value\": 3038}, \"3039\": {\"frequency\": 61, \"value\": 3039}, \"3040\": {\"frequency\": 24, \"value\": 3040}, \"3041\": {\"frequency\": 106, \"value\": 3041}, \"3042\": {\"frequency\": 73, \"value\": 3042}, \"3043\": {\"frequency\": 27, \"value\": 3043}, \"3044\": {\"frequency\": 304, \"value\": 3044}, \"3045\": {\"frequency\": 148, \"value\": 3045}, \"3046\": {\"frequency\": 77, \"value\": 3046}, \"3047\": {\"frequency\": 70, \"value\": 3047}, \"3048\": {\"frequency\": 70, \"value\": 3048}, \"3049\": {\"frequency\": 71, \"value\": 3049}, \"3050\": {\"frequency\": 64, \"value\": 3050}, \"3051\": {\"frequency\": 408, \"value\": 3051}, \"3052\": {\"frequency\": 81, \"value\": 3052}, \"3053\": {\"frequency\": 184, \"value\": 3053}, \"3054\": {\"frequency\": 526, \"value\": 3054}, \"3055\": {\"frequency\": 287, \"value\": 3055}, \"3056\": {\"frequency\": 263, \"value\": 3056}, \"3057\": {\"frequency\": 161, \"value\": 3057}, \"3058\": {\"frequency\": 145, \"value\": 3058}, \"3059\": {\"frequency\": 44, \"value\": 3059}, \"3060\": {\"frequency\": 37, \"value\": 3060}, \"3061\": {\"frequency\": 32, \"value\": 3061}, \"3062\": {\"frequency\": 64, \"value\": 3062}, \"3063\": {\"frequency\": 64, \"value\": 3063}, \"3064\": {\"frequency\": 44, \"value\": 3064}, \"3065\": {\"frequency\": 282, \"value\": 3065}, \"3066\": {\"frequency\": 90, \"value\": 3066}, \"3067\": {\"frequency\": 826, \"value\": 3067}, \"3068\": {\"frequency\": 21, \"value\": 3068}, \"3069\": {\"frequency\": 215, \"value\": 3069}, \"3070\": {\"frequency\": 39, \"value\": 3070}, \"3071\": {\"frequency\": 26, \"value\": 3071}, \"3072\": {\"frequency\": 210, \"value\": 3072}, \"3073\": {\"frequency\": 57, \"value\": 3073}, \"3074\": {\"frequency\": 142, \"value\": 3074}, \"3075\": {\"frequency\": 265, \"value\": 3075}, \"3076\": {\"frequency\": 22, \"value\": 3076}, \"3077\": {\"frequency\": 78, \"value\": 3077}, \"3078\": {\"frequency\": 32, \"value\": 3078}, \"3079\": {\"frequency\": 86, \"value\": 3079}, \"3080\": {\"frequency\": 551, \"value\": 3080}, \"3081\": {\"frequency\": 384, \"value\": 3081}, \"3082\": {\"frequency\": 370, \"value\": 3082}, \"3083\": {\"frequency\": 99, \"value\": 3083}, \"3084\": {\"frequency\": 78, \"value\": 3084}, \"3085\": {\"frequency\": 123, \"value\": 3085}, \"3086\": {\"frequency\": 113, \"value\": 3086}, \"3087\": {\"frequency\": 297, \"value\": 3087}, \"3088\": {\"frequency\": 50, \"value\": 3088}, \"3089\": {\"frequency\": 53, \"value\": 3089}, \"3090\": {\"frequency\": 62, \"value\": 3090}, \"3091\": {\"frequency\": 64, \"value\": 3091}, \"3092\": {\"frequency\": 53, \"value\": 3092}, \"3093\": {\"frequency\": 179, \"value\": 3093}, \"3094\": {\"frequency\": 41, \"value\": 3094}, \"3095\": {\"frequency\": 174, \"value\": 3095}, \"3096\": {\"frequency\": 197, \"value\": 3096}, \"3097\": {\"frequency\": 63, \"value\": 3097}, \"3098\": {\"frequency\": 92, \"value\": 3098}, \"3099\": {\"frequency\": 159, \"value\": 3099}, \"3100\": {\"frequency\": 55, \"value\": 3100}, \"3101\": {\"frequency\": 270, \"value\": 3101}, \"3102\": {\"frequency\": 34, \"value\": 3102}, \"3103\": {\"frequency\": 39, \"value\": 3103}, \"3104\": {\"frequency\": 29, \"value\": 3104}, \"3105\": {\"frequency\": 120, \"value\": 3105}, \"3106\": {\"frequency\": 68, \"value\": 3106}, \"3107\": {\"frequency\": 72, \"value\": 3107}, \"3108\": {\"frequency\": 484, \"value\": 3108}, \"3109\": {\"frequency\": 57, \"value\": 3109}, \"3110\": {\"frequency\": 300, \"value\": 3110}, \"3111\": {\"frequency\": 124, \"value\": 3111}, \"3112\": {\"frequency\": 213, \"value\": 3112}, \"3113\": {\"frequency\": 50, \"value\": 3113}, \"3114\": {\"frequency\": 105, \"value\": 3114}, \"3115\": {\"frequency\": 36, \"value\": 3115}, \"3116\": {\"frequency\": 85, \"value\": 3116}, \"3117\": {\"frequency\": 37, \"value\": 3117}, \"3118\": {\"frequency\": 570, \"value\": 3118}, \"3119\": {\"frequency\": 90, \"value\": 3119}, \"3120\": {\"frequency\": 37, \"value\": 3120}, \"3121\": {\"frequency\": 271, \"value\": 3121}, \"3122\": {\"frequency\": 27, \"value\": 3122}, \"3123\": {\"frequency\": 155, \"value\": 3123}, \"3124\": {\"frequency\": 26, \"value\": 3124}, \"3125\": {\"frequency\": 354, \"value\": 3125}, \"3126\": {\"frequency\": 81, \"value\": 3126}, \"3127\": {\"frequency\": 41, \"value\": 3127}, \"3128\": {\"frequency\": 317, \"value\": 3128}, \"3129\": {\"frequency\": 503, \"value\": 3129}, \"3130\": {\"frequency\": 67, \"value\": 3130}, \"3131\": {\"frequency\": 77, \"value\": 3131}, \"3132\": {\"frequency\": 28, \"value\": 3132}, \"3133\": {\"frequency\": 21, \"value\": 3133}, \"3134\": {\"frequency\": 101, \"value\": 3134}, \"3135\": {\"frequency\": 123, \"value\": 3135}, \"3136\": {\"frequency\": 40, \"value\": 3136}, \"3137\": {\"frequency\": 51, \"value\": 3137}, \"3138\": {\"frequency\": 212, \"value\": 3138}, \"3139\": {\"frequency\": 59, \"value\": 3139}, \"3140\": {\"frequency\": 323, \"value\": 3140}, \"3141\": {\"frequency\": 61, \"value\": 3141}, \"3142\": {\"frequency\": 94, \"value\": 3142}, \"3143\": {\"frequency\": 212, \"value\": 3143}, \"3144\": {\"frequency\": 35, \"value\": 3144}, \"3145\": {\"frequency\": 111, \"value\": 3145}, \"3146\": {\"frequency\": 62, \"value\": 3146}, \"3147\": {\"frequency\": 211, \"value\": 3147}, \"3148\": {\"frequency\": 102, \"value\": 3148}, \"3149\": {\"frequency\": 27, \"value\": 3149}, \"3150\": {\"frequency\": 77, \"value\": 3150}, \"3151\": {\"frequency\": 172, \"value\": 3151}, \"3152\": {\"frequency\": 31, \"value\": 3152}, \"3153\": {\"frequency\": 44, \"value\": 3153}, \"3154\": {\"frequency\": 189, \"value\": 3154}, \"3155\": {\"frequency\": 85, \"value\": 3155}, \"3156\": {\"frequency\": 64, \"value\": 3156}, \"3157\": {\"frequency\": 159, \"value\": 3157}, \"3158\": {\"frequency\": 296, \"value\": 3158}, \"3159\": {\"frequency\": 238, \"value\": 3159}, \"3160\": {\"frequency\": 25, \"value\": 3160}, \"3161\": {\"frequency\": 71, \"value\": 3161}, \"3162\": {\"frequency\": 82, \"value\": 3162}, \"3163\": {\"frequency\": 858, \"value\": 3163}, \"3164\": {\"frequency\": 30, \"value\": 3164}, \"3165\": {\"frequency\": 30, \"value\": 3165}, \"3166\": {\"frequency\": 40, \"value\": 3166}, \"3167\": {\"frequency\": 220, \"value\": 3167}, \"3168\": {\"frequency\": 30, \"value\": 3168}, \"3169\": {\"frequency\": 129, \"value\": 3169}, \"3170\": {\"frequency\": 73, \"value\": 3170}, \"3171\": {\"frequency\": 132, \"value\": 3171}, \"3172\": {\"frequency\": 108, \"value\": 3172}, \"3173\": {\"frequency\": 95, \"value\": 3173}, \"3174\": {\"frequency\": 87, \"value\": 3174}, \"3175\": {\"frequency\": 87, \"value\": 3175}, \"3176\": {\"frequency\": 21, \"value\": 3176}, \"3177\": {\"frequency\": 61, \"value\": 3177}, \"3178\": {\"frequency\": 212, \"value\": 3178}, \"3179\": {\"frequency\": 25, \"value\": 3179}, \"3180\": {\"frequency\": 490, \"value\": 3180}, \"3181\": {\"frequency\": 25, \"value\": 3181}, \"3182\": {\"frequency\": 626, \"value\": 3182}, \"3183\": {\"frequency\": 111, \"value\": 3183}, \"3184\": {\"frequency\": 105, \"value\": 3184}, \"3185\": {\"frequency\": 90, \"value\": 3185}, \"3186\": {\"frequency\": 37, \"value\": 3186}, \"3187\": {\"frequency\": 27, \"value\": 3187}, \"3188\": {\"frequency\": 21, \"value\": 3188}, \"3189\": {\"frequency\": 525, \"value\": 3189}, \"3190\": {\"frequency\": 36, \"value\": 3190}, \"3191\": {\"frequency\": 406, \"value\": 3191}, \"3192\": {\"frequency\": 150, \"value\": 3192}, \"3193\": {\"frequency\": 190, \"value\": 3193}, \"3194\": {\"frequency\": 34, \"value\": 3194}, \"3195\": {\"frequency\": 192, \"value\": 3195}, \"3196\": {\"frequency\": 305, \"value\": 3196}, \"3197\": {\"frequency\": 136, \"value\": 3197}, \"3198\": {\"frequency\": 105, \"value\": 3198}, \"3199\": {\"frequency\": 100, \"value\": 3199}, \"3200\": {\"frequency\": 159, \"value\": 3200}, \"3201\": {\"frequency\": 446, \"value\": 3201}, \"3202\": {\"frequency\": 143, \"value\": 3202}, \"3203\": {\"frequency\": 162, \"value\": 3203}, \"3204\": {\"frequency\": 48, \"value\": 3204}, \"3205\": {\"frequency\": 305, \"value\": 3205}, \"3206\": {\"frequency\": 100, \"value\": 3206}, \"3207\": {\"frequency\": 99, \"value\": 3207}, \"3208\": {\"frequency\": 384, \"value\": 3208}, \"3209\": {\"frequency\": 230, \"value\": 3209}, \"3210\": {\"frequency\": 149, \"value\": 3210}, \"3211\": {\"frequency\": 97, \"value\": 3211}, \"3212\": {\"frequency\": 26, \"value\": 3212}, \"3213\": {\"frequency\": 137, \"value\": 3213}, \"3214\": {\"frequency\": 36, \"value\": 3214}, \"3215\": {\"frequency\": 36, \"value\": 3215}, \"3216\": {\"frequency\": 324, \"value\": 3216}, \"3217\": {\"frequency\": 350, \"value\": 3217}, \"3218\": {\"frequency\": 62, \"value\": 3218}, \"3219\": {\"frequency\": 142, \"value\": 3219}, \"3220\": {\"frequency\": 72, \"value\": 3220}, \"3221\": {\"frequency\": 41, \"value\": 3221}, \"3222\": {\"frequency\": 20, \"value\": 3222}, \"3223\": {\"frequency\": 61, \"value\": 3223}, \"3224\": {\"frequency\": 1115, \"value\": 3224}, \"3225\": {\"frequency\": 21, \"value\": 3225}, \"3226\": {\"frequency\": 124, \"value\": 3226}, \"3227\": {\"frequency\": 342, \"value\": 3227}, \"3228\": {\"frequency\": 156, \"value\": 3228}, \"3229\": {\"frequency\": 196, \"value\": 3229}, \"3230\": {\"frequency\": 149, \"value\": 3230}, \"3231\": {\"frequency\": 153, \"value\": 3231}, \"3232\": {\"frequency\": 64, \"value\": 3232}, \"3233\": {\"frequency\": 161, \"value\": 3233}, \"3234\": {\"frequency\": 21, \"value\": 3234}, \"3235\": {\"frequency\": 37, \"value\": 3235}, \"3236\": {\"frequency\": 23, \"value\": 3236}, \"3237\": {\"frequency\": 78, \"value\": 3237}, \"3238\": {\"frequency\": 32, \"value\": 3238}, \"3239\": {\"frequency\": 74, \"value\": 3239}, \"3240\": {\"frequency\": 154, \"value\": 3240}, \"3241\": {\"frequency\": 55, \"value\": 3241}, \"3242\": {\"frequency\": 210, \"value\": 3242}, \"3243\": {\"frequency\": 229, \"value\": 3243}, \"3244\": {\"frequency\": 24, \"value\": 3244}, \"3245\": {\"frequency\": 79, \"value\": 3245}, \"3246\": {\"frequency\": 232, \"value\": 3246}, \"3247\": {\"frequency\": 29, \"value\": 3247}, \"3248\": {\"frequency\": 84, \"value\": 3248}, \"3249\": {\"frequency\": 65, \"value\": 3249}, \"3250\": {\"frequency\": 124, \"value\": 3250}, \"3251\": {\"frequency\": 56, \"value\": 3251}, \"3252\": {\"frequency\": 35, \"value\": 3252}, \"3253\": {\"frequency\": 167, \"value\": 3253}, \"3254\": {\"frequency\": 23, \"value\": 3254}, \"3255\": {\"frequency\": 45, \"value\": 3255}, \"3256\": {\"frequency\": 58, \"value\": 3256}, \"3257\": {\"frequency\": 81, \"value\": 3257}, \"3258\": {\"frequency\": 40, \"value\": 3258}, \"3259\": {\"frequency\": 395, \"value\": 3259}, \"3260\": {\"frequency\": 228, \"value\": 3260}, \"3261\": {\"frequency\": 539, \"value\": 3261}, \"3262\": {\"frequency\": 91, \"value\": 3262}, \"3263\": {\"frequency\": 113, \"value\": 3263}, \"3264\": {\"frequency\": 28, \"value\": 3264}, \"3265\": {\"frequency\": 508, \"value\": 3265}, \"3266\": {\"frequency\": 151, \"value\": 3266}, \"3267\": {\"frequency\": 98, \"value\": 3267}, \"3268\": {\"frequency\": 67, \"value\": 3268}, \"3269\": {\"frequency\": 83, \"value\": 3269}, \"3270\": {\"frequency\": 122, \"value\": 3270}, \"3271\": {\"frequency\": 336, \"value\": 3271}, \"3272\": {\"frequency\": 836, \"value\": 3272}, \"3273\": {\"frequency\": 20, \"value\": 3273}, \"3274\": {\"frequency\": 198, \"value\": 3274}, \"3275\": {\"frequency\": 21, \"value\": 3275}, \"3276\": {\"frequency\": 29, \"value\": 3276}, \"3277\": {\"frequency\": 150, \"value\": 3277}, \"3278\": {\"frequency\": 46, \"value\": 3278}, \"3279\": {\"frequency\": 105, \"value\": 3279}, \"3280\": {\"frequency\": 649, \"value\": 3280}, \"3281\": {\"frequency\": 190, \"value\": 3281}, \"3282\": {\"frequency\": 24, \"value\": 3282}, \"3283\": {\"frequency\": 246, \"value\": 3283}, \"3284\": {\"frequency\": 41, \"value\": 3284}, \"3285\": {\"frequency\": 627, \"value\": 3285}, \"3286\": {\"frequency\": 28, \"value\": 3286}, \"3287\": {\"frequency\": 24, \"value\": 3287}, \"3288\": {\"frequency\": 26, \"value\": 3288}, \"3289\": {\"frequency\": 75, \"value\": 3289}, \"3290\": {\"frequency\": 176, \"value\": 3290}, \"3291\": {\"frequency\": 20, \"value\": 3291}, \"3292\": {\"frequency\": 939, \"value\": 3292}, \"3293\": {\"frequency\": 45, \"value\": 3293}, \"3294\": {\"frequency\": 97, \"value\": 3294}, \"3295\": {\"frequency\": 74, \"value\": 3295}, \"3296\": {\"frequency\": 72, \"value\": 3296}, \"3297\": {\"frequency\": 126, \"value\": 3297}, \"3298\": {\"frequency\": 32, \"value\": 3298}, \"3299\": {\"frequency\": 302, \"value\": 3299}, \"3300\": {\"frequency\": 362, \"value\": 3300}, \"3301\": {\"frequency\": 310, \"value\": 3301}, \"3302\": {\"frequency\": 86, \"value\": 3302}, \"3303\": {\"frequency\": 25, \"value\": 3303}, \"3304\": {\"frequency\": 170, \"value\": 3304}, \"3305\": {\"frequency\": 104, \"value\": 3305}, \"3306\": {\"frequency\": 51, \"value\": 3306}, \"3307\": {\"frequency\": 26, \"value\": 3307}, \"3308\": {\"frequency\": 708, \"value\": 3308}, \"3309\": {\"frequency\": 271, \"value\": 3309}, \"3310\": {\"frequency\": 66, \"value\": 3310}, \"3311\": {\"frequency\": 920, \"value\": 3311}, \"3312\": {\"frequency\": 665, \"value\": 3312}, \"3313\": {\"frequency\": 473, \"value\": 3313}, \"3314\": {\"frequency\": 334, \"value\": 3314}, \"3315\": {\"frequency\": 182, \"value\": 3315}, \"3316\": {\"frequency\": 42, \"value\": 3316}, \"3317\": {\"frequency\": 110, \"value\": 3317}, \"3318\": {\"frequency\": 70, \"value\": 3318}, \"3319\": {\"frequency\": 123, \"value\": 3319}, \"3320\": {\"frequency\": 559, \"value\": 3320}, \"3321\": {\"frequency\": 84, \"value\": 3321}, \"3322\": {\"frequency\": 48, \"value\": 3322}, \"3323\": {\"frequency\": 126, \"value\": 3323}, \"3324\": {\"frequency\": 21, \"value\": 3324}, \"3325\": {\"frequency\": 26, \"value\": 3325}, \"3326\": {\"frequency\": 38, \"value\": 3326}, \"3327\": {\"frequency\": 358, \"value\": 3327}, \"3328\": {\"frequency\": 273, \"value\": 3328}, \"3329\": {\"frequency\": 138, \"value\": 3329}, \"3330\": {\"frequency\": 24, \"value\": 3330}, \"3331\": {\"frequency\": 140, \"value\": 3331}, \"3332\": {\"frequency\": 102, \"value\": 3332}, \"3333\": {\"frequency\": 192, \"value\": 3333}, \"3334\": {\"frequency\": 100, \"value\": 3334}, \"3335\": {\"frequency\": 27, \"value\": 3335}, \"3336\": {\"frequency\": 667, \"value\": 3336}, \"3337\": {\"frequency\": 81, \"value\": 3337}, \"3338\": {\"frequency\": 40, \"value\": 3338}, \"3339\": {\"frequency\": 83, \"value\": 3339}, \"3340\": {\"frequency\": 119, \"value\": 3340}, \"3341\": {\"frequency\": 151, \"value\": 3341}, \"3342\": {\"frequency\": 58, \"value\": 3342}, \"3343\": {\"frequency\": 49, \"value\": 3343}, \"3344\": {\"frequency\": 56, \"value\": 3344}, \"3345\": {\"frequency\": 141, \"value\": 3345}, \"3346\": {\"frequency\": 229, \"value\": 3346}, \"3347\": {\"frequency\": 45, \"value\": 3347}, \"3348\": {\"frequency\": 48, \"value\": 3348}, \"3349\": {\"frequency\": 143, \"value\": 3349}, \"3350\": {\"frequency\": 46, \"value\": 3350}, \"3351\": {\"frequency\": 29, \"value\": 3351}, \"3352\": {\"frequency\": 96, \"value\": 3352}, \"3353\": {\"frequency\": 235, \"value\": 3353}, \"3354\": {\"frequency\": 33, \"value\": 3354}, \"3355\": {\"frequency\": 33, \"value\": 3355}, \"3356\": {\"frequency\": 239, \"value\": 3356}, \"3357\": {\"frequency\": 69, \"value\": 3357}, \"3358\": {\"frequency\": 232, \"value\": 3358}, \"3359\": {\"frequency\": 86, \"value\": 3359}, \"3360\": {\"frequency\": 58, \"value\": 3360}, \"3361\": {\"frequency\": 161, \"value\": 3361}, \"3362\": {\"frequency\": 77, \"value\": 3362}, \"3363\": {\"frequency\": 242, \"value\": 3363}, \"3364\": {\"frequency\": 112, \"value\": 3364}, \"3365\": {\"frequency\": 345, \"value\": 3365}, \"3366\": {\"frequency\": 27, \"value\": 3366}, \"3367\": {\"frequency\": 355, \"value\": 3367}, \"3368\": {\"frequency\": 97, \"value\": 3368}, \"3369\": {\"frequency\": 32, \"value\": 3369}, \"3370\": {\"frequency\": 198, \"value\": 3370}, \"3371\": {\"frequency\": 483, \"value\": 3371}, \"3372\": {\"frequency\": 31, \"value\": 3372}, \"3373\": {\"frequency\": 32, \"value\": 3373}, \"3374\": {\"frequency\": 104, \"value\": 3374}, \"3375\": {\"frequency\": 27, \"value\": 3375}, \"3376\": {\"frequency\": 20, \"value\": 3376}, \"3377\": {\"frequency\": 168, \"value\": 3377}, \"3378\": {\"frequency\": 235, \"value\": 3378}, \"3379\": {\"frequency\": 39, \"value\": 3379}, \"3380\": {\"frequency\": 453, \"value\": 3380}, \"3381\": {\"frequency\": 29, \"value\": 3381}, \"3382\": {\"frequency\": 56, \"value\": 3382}, \"3383\": {\"frequency\": 51, \"value\": 3383}, \"3384\": {\"frequency\": 126, \"value\": 3384}, \"3385\": {\"frequency\": 36, \"value\": 3385}, \"3386\": {\"frequency\": 148, \"value\": 3386}, \"3387\": {\"frequency\": 137, \"value\": 3387}, \"3388\": {\"frequency\": 21, \"value\": 3388}, \"3389\": {\"frequency\": 572, \"value\": 3389}, \"3390\": {\"frequency\": 203, \"value\": 3390}, \"3391\": {\"frequency\": 1216, \"value\": 3391}, \"3392\": {\"frequency\": 30, \"value\": 3392}, \"3393\": {\"frequency\": 267, \"value\": 3393}, \"3394\": {\"frequency\": 326, \"value\": 3394}, \"3395\": {\"frequency\": 56, \"value\": 3395}, \"3396\": {\"frequency\": 23, \"value\": 3396}, \"3397\": {\"frequency\": 29, \"value\": 3397}, \"3398\": {\"frequency\": 55, \"value\": 3398}, \"3399\": {\"frequency\": 154, \"value\": 3399}, \"3400\": {\"frequency\": 218, \"value\": 3400}, \"3401\": {\"frequency\": 837, \"value\": 3401}, \"3402\": {\"frequency\": 330, \"value\": 3402}, \"3403\": {\"frequency\": 205, \"value\": 3403}, \"3404\": {\"frequency\": 26, \"value\": 3404}, \"3405\": {\"frequency\": 41, \"value\": 3405}, \"3406\": {\"frequency\": 41, \"value\": 3406}, \"3407\": {\"frequency\": 20, \"value\": 3407}, \"3408\": {\"frequency\": 116, \"value\": 3408}, \"3409\": {\"frequency\": 44, \"value\": 3409}, \"3410\": {\"frequency\": 731, \"value\": 3410}, \"3411\": {\"frequency\": 351, \"value\": 3411}, \"3412\": {\"frequency\": 293, \"value\": 3412}, \"3413\": {\"frequency\": 127, \"value\": 3413}, \"3414\": {\"frequency\": 297, \"value\": 3414}, \"3415\": {\"frequency\": 166, \"value\": 3415}, \"3416\": {\"frequency\": 470, \"value\": 3416}, \"3417\": {\"frequency\": 92, \"value\": 3417}, \"3418\": {\"frequency\": 211, \"value\": 3418}, \"3419\": {\"frequency\": 120, \"value\": 3419}, \"3420\": {\"frequency\": 220, \"value\": 3420}, \"3421\": {\"frequency\": 24, \"value\": 3421}, \"3422\": {\"frequency\": 383, \"value\": 3422}, \"3423\": {\"frequency\": 317, \"value\": 3423}, \"3424\": {\"frequency\": 71, \"value\": 3424}, \"3425\": {\"frequency\": 492, \"value\": 3425}, \"3426\": {\"frequency\": 120, \"value\": 3426}, \"3427\": {\"frequency\": 38, \"value\": 3427}, \"3428\": {\"frequency\": 183, \"value\": 3428}, \"3429\": {\"frequency\": 35, \"value\": 3429}, \"3430\": {\"frequency\": 406, \"value\": 3430}, \"3431\": {\"frequency\": 62, \"value\": 3431}, \"3432\": {\"frequency\": 116, \"value\": 3432}, \"3433\": {\"frequency\": 88, \"value\": 3433}, \"3434\": {\"frequency\": 174, \"value\": 3434}, \"3435\": {\"frequency\": 126, \"value\": 3435}, \"3436\": {\"frequency\": 204, \"value\": 3436}, \"3437\": {\"frequency\": 50, \"value\": 3437}, \"3438\": {\"frequency\": 80, \"value\": 3438}, \"3439\": {\"frequency\": 89, \"value\": 3439}, \"3440\": {\"frequency\": 27, \"value\": 3440}, \"3441\": {\"frequency\": 320, \"value\": 3441}, \"3442\": {\"frequency\": 186, \"value\": 3442}, \"3443\": {\"frequency\": 25, \"value\": 3443}, \"3444\": {\"frequency\": 110, \"value\": 3444}, \"3445\": {\"frequency\": 144, \"value\": 3445}, \"3446\": {\"frequency\": 36, \"value\": 3446}, \"3447\": {\"frequency\": 85, \"value\": 3447}, \"3448\": {\"frequency\": 26, \"value\": 3448}, \"3449\": {\"frequency\": 64, \"value\": 3449}, \"3450\": {\"frequency\": 189, \"value\": 3450}, \"3451\": {\"frequency\": 62, \"value\": 3451}, \"3452\": {\"frequency\": 85, \"value\": 3452}, \"3453\": {\"frequency\": 299, \"value\": 3453}, \"3454\": {\"frequency\": 362, \"value\": 3454}, \"3455\": {\"frequency\": 23, \"value\": 3455}, \"3456\": {\"frequency\": 55, \"value\": 3456}, \"3457\": {\"frequency\": 160, \"value\": 3457}, \"3458\": {\"frequency\": 164, \"value\": 3458}, \"3459\": {\"frequency\": 29, \"value\": 3459}, \"3460\": {\"frequency\": 84, \"value\": 3460}, \"3461\": {\"frequency\": 37, \"value\": 3461}, \"3462\": {\"frequency\": 559, \"value\": 3462}, \"3463\": {\"frequency\": 37, \"value\": 3463}, \"3464\": {\"frequency\": 371, \"value\": 3464}, \"3465\": {\"frequency\": 59, \"value\": 3465}, \"3466\": {\"frequency\": 37, \"value\": 3466}, \"3467\": {\"frequency\": 59, \"value\": 3467}, \"3468\": {\"frequency\": 66, \"value\": 3468}, \"3469\": {\"frequency\": 459, \"value\": 3469}, \"3470\": {\"frequency\": 84, \"value\": 3470}, \"3471\": {\"frequency\": 824, \"value\": 3471}, \"3472\": {\"frequency\": 50, \"value\": 3472}, \"3473\": {\"frequency\": 159, \"value\": 3473}, \"3474\": {\"frequency\": 200, \"value\": 3474}, \"3475\": {\"frequency\": 622, \"value\": 3475}, \"3476\": {\"frequency\": 705, \"value\": 3476}, \"3477\": {\"frequency\": 138, \"value\": 3477}, \"3478\": {\"frequency\": 74, \"value\": 3478}, \"3479\": {\"frequency\": 90, \"value\": 3479}, \"3480\": {\"frequency\": 47, \"value\": 3480}, \"3481\": {\"frequency\": 140, \"value\": 3481}, \"3482\": {\"frequency\": 71, \"value\": 3482}, \"3483\": {\"frequency\": 661, \"value\": 3483}, \"3484\": {\"frequency\": 206, \"value\": 3484}, \"3485\": {\"frequency\": 48, \"value\": 3485}, \"3486\": {\"frequency\": 97, \"value\": 3486}, \"3487\": {\"frequency\": 318, \"value\": 3487}, \"3488\": {\"frequency\": 21, \"value\": 3488}, \"3489\": {\"frequency\": 105, \"value\": 3489}, \"3490\": {\"frequency\": 244, \"value\": 3490}, \"3491\": {\"frequency\": 727, \"value\": 3491}, \"3492\": {\"frequency\": 63, \"value\": 3492}, \"3493\": {\"frequency\": 163, \"value\": 3493}, \"3494\": {\"frequency\": 35, \"value\": 3494}, \"3495\": {\"frequency\": 21, \"value\": 3495}, \"3496\": {\"frequency\": 25, \"value\": 3496}, \"3497\": {\"frequency\": 92, \"value\": 3497}, \"3498\": {\"frequency\": 117, \"value\": 3498}, \"3499\": {\"frequency\": 437, \"value\": 3499}, \"3500\": {\"frequency\": 62, \"value\": 3500}, \"3501\": {\"frequency\": 197, \"value\": 3501}, \"3502\": {\"frequency\": 33, \"value\": 3502}, \"3503\": {\"frequency\": 490, \"value\": 3503}, \"3504\": {\"frequency\": 214, \"value\": 3504}, \"3505\": {\"frequency\": 100, \"value\": 3505}, \"3506\": {\"frequency\": 68, \"value\": 3506}, \"3507\": {\"frequency\": 923, \"value\": 3507}, \"3508\": {\"frequency\": 36, \"value\": 3508}, \"3509\": {\"frequency\": 404, \"value\": 3509}, \"3510\": {\"frequency\": 67, \"value\": 3510}, \"3511\": {\"frequency\": 206, \"value\": 3511}, \"3512\": {\"frequency\": 409, \"value\": 3512}, \"3513\": {\"frequency\": 311, \"value\": 3513}, \"3514\": {\"frequency\": 76, \"value\": 3514}, \"3515\": {\"frequency\": 100, \"value\": 3515}, \"3516\": {\"frequency\": 157, \"value\": 3516}, \"3517\": {\"frequency\": 122, \"value\": 3517}, \"3518\": {\"frequency\": 502, \"value\": 3518}, \"3519\": {\"frequency\": 666, \"value\": 3519}, \"3520\": {\"frequency\": 289, \"value\": 3520}, \"3521\": {\"frequency\": 387, \"value\": 3521}, \"3522\": {\"frequency\": 62, \"value\": 3522}, \"3523\": {\"frequency\": 39, \"value\": 3523}, \"3524\": {\"frequency\": 153, \"value\": 3524}, \"3525\": {\"frequency\": 90, \"value\": 3525}, \"3526\": {\"frequency\": 962, \"value\": 3526}, \"3527\": {\"frequency\": 39, \"value\": 3527}, \"3528\": {\"frequency\": 112, \"value\": 3528}, \"3529\": {\"frequency\": 227, \"value\": 3529}, \"3530\": {\"frequency\": 20, \"value\": 3530}, \"3531\": {\"frequency\": 77, \"value\": 3531}, \"3532\": {\"frequency\": 114, \"value\": 3532}, \"3533\": {\"frequency\": 92, \"value\": 3533}, \"3534\": {\"frequency\": 55, \"value\": 3534}, \"3535\": {\"frequency\": 29, \"value\": 3535}, \"3536\": {\"frequency\": 165, \"value\": 3536}, \"3537\": {\"frequency\": 57, \"value\": 3537}, \"3538\": {\"frequency\": 163, \"value\": 3538}, \"3539\": {\"frequency\": 1078, \"value\": 3539}, \"3540\": {\"frequency\": 208, \"value\": 3540}, \"3541\": {\"frequency\": 35, \"value\": 3541}, \"3542\": {\"frequency\": 22, \"value\": 3542}, \"3543\": {\"frequency\": 104, \"value\": 3543}, \"3544\": {\"frequency\": 29, \"value\": 3544}, \"3545\": {\"frequency\": 28, \"value\": 3545}, \"3546\": {\"frequency\": 410, \"value\": 3546}, \"3547\": {\"frequency\": 362, \"value\": 3547}, \"3548\": {\"frequency\": 26, \"value\": 3548}, \"3549\": {\"frequency\": 37, \"value\": 3549}, \"3550\": {\"frequency\": 357, \"value\": 3550}, \"3551\": {\"frequency\": 87, \"value\": 3551}, \"3552\": {\"frequency\": 20, \"value\": 3552}, \"3553\": {\"frequency\": 47, \"value\": 3553}, \"3554\": {\"frequency\": 33, \"value\": 3554}, \"3555\": {\"frequency\": 129, \"value\": 3555}, \"3556\": {\"frequency\": 112, \"value\": 3556}, \"3557\": {\"frequency\": 392, \"value\": 3557}, \"3558\": {\"frequency\": 300, \"value\": 3558}, \"3559\": {\"frequency\": 74, \"value\": 3559}, \"3560\": {\"frequency\": 137, \"value\": 3560}, \"3561\": {\"frequency\": 259, \"value\": 3561}, \"3562\": {\"frequency\": 683, \"value\": 3562}, \"3563\": {\"frequency\": 211, \"value\": 3563}, \"3564\": {\"frequency\": 152, \"value\": 3564}, \"3565\": {\"frequency\": 140, \"value\": 3565}, \"3566\": {\"frequency\": 31, \"value\": 3566}, \"3567\": {\"frequency\": 69, \"value\": 3567}, \"3568\": {\"frequency\": 102, \"value\": 3568}, \"3569\": {\"frequency\": 437, \"value\": 3569}, \"3570\": {\"frequency\": 22, \"value\": 3570}, \"3571\": {\"frequency\": 104, \"value\": 3571}, \"3572\": {\"frequency\": 111, \"value\": 3572}, \"3573\": {\"frequency\": 36, \"value\": 3573}, \"3574\": {\"frequency\": 179, \"value\": 3574}, \"3575\": {\"frequency\": 38, \"value\": 3575}, \"3576\": {\"frequency\": 541, \"value\": 3576}, \"3577\": {\"frequency\": 78, \"value\": 3577}, \"3578\": {\"frequency\": 271, \"value\": 3578}, \"3579\": {\"frequency\": 269, \"value\": 3579}, \"3580\": {\"frequency\": 72, \"value\": 3580}, \"3581\": {\"frequency\": 34, \"value\": 3581}, \"3582\": {\"frequency\": 97, \"value\": 3582}, \"3583\": {\"frequency\": 30, \"value\": 3583}, \"3584\": {\"frequency\": 67, \"value\": 3584}, \"3585\": {\"frequency\": 262, \"value\": 3585}, \"3586\": {\"frequency\": 163, \"value\": 3586}, \"3587\": {\"frequency\": 43, \"value\": 3587}, \"3588\": {\"frequency\": 225, \"value\": 3588}, \"3589\": {\"frequency\": 688, \"value\": 3589}, \"3590\": {\"frequency\": 462, \"value\": 3590}, \"3591\": {\"frequency\": 202, \"value\": 3591}, \"3592\": {\"frequency\": 357, \"value\": 3592}, \"3593\": {\"frequency\": 64, \"value\": 3593}, \"3594\": {\"frequency\": 157, \"value\": 3594}, \"3595\": {\"frequency\": 31, \"value\": 3595}, \"3596\": {\"frequency\": 128, \"value\": 3596}, \"3597\": {\"frequency\": 76, \"value\": 3597}, \"3598\": {\"frequency\": 65, \"value\": 3598}, \"3599\": {\"frequency\": 176, \"value\": 3599}, \"3600\": {\"frequency\": 371, \"value\": 3600}, \"3601\": {\"frequency\": 158, \"value\": 3601}, \"3602\": {\"frequency\": 86, \"value\": 3602}, \"3603\": {\"frequency\": 328, \"value\": 3603}, \"3604\": {\"frequency\": 27, \"value\": 3604}, \"3605\": {\"frequency\": 115, \"value\": 3605}, \"3606\": {\"frequency\": 35, \"value\": 3606}, \"3607\": {\"frequency\": 260, \"value\": 3607}, \"3608\": {\"frequency\": 102, \"value\": 3608}, \"3609\": {\"frequency\": 145, \"value\": 3609}, \"3610\": {\"frequency\": 696, \"value\": 3610}, \"3611\": {\"frequency\": 205, \"value\": 3611}, \"3612\": {\"frequency\": 215, \"value\": 3612}, \"3613\": {\"frequency\": 70, \"value\": 3613}, \"3614\": {\"frequency\": 157, \"value\": 3614}, \"3615\": {\"frequency\": 174, \"value\": 3615}, \"3616\": {\"frequency\": 21, \"value\": 3616}, \"3617\": {\"frequency\": 47, \"value\": 3617}, \"3618\": {\"frequency\": 1344, \"value\": 3618}, \"3619\": {\"frequency\": 101, \"value\": 3619}, \"3620\": {\"frequency\": 431, \"value\": 3620}, \"3621\": {\"frequency\": 379, \"value\": 3621}, \"3622\": {\"frequency\": 159, \"value\": 3622}, \"3623\": {\"frequency\": 22, \"value\": 3623}, \"3624\": {\"frequency\": 354, \"value\": 3624}, \"3625\": {\"frequency\": 202, \"value\": 3625}, \"3626\": {\"frequency\": 855, \"value\": 3626}, \"3627\": {\"frequency\": 36, \"value\": 3627}, \"3628\": {\"frequency\": 31, \"value\": 3628}, \"3629\": {\"frequency\": 62, \"value\": 3629}, \"3630\": {\"frequency\": 181, \"value\": 3630}, \"3631\": {\"frequency\": 40, \"value\": 3631}, \"3632\": {\"frequency\": 29, \"value\": 3632}, \"3633\": {\"frequency\": 20, \"value\": 3633}, \"3634\": {\"frequency\": 23, \"value\": 3634}, \"3635\": {\"frequency\": 163, \"value\": 3635}, \"3636\": {\"frequency\": 23, \"value\": 3636}, \"3637\": {\"frequency\": 66, \"value\": 3637}, \"3638\": {\"frequency\": 125, \"value\": 3638}, \"3639\": {\"frequency\": 86, \"value\": 3639}, \"3640\": {\"frequency\": 73, \"value\": 3640}, \"3641\": {\"frequency\": 485, \"value\": 3641}, \"3642\": {\"frequency\": 21, \"value\": 3642}, \"3643\": {\"frequency\": 220, \"value\": 3643}, \"3644\": {\"frequency\": 41, \"value\": 3644}, \"3645\": {\"frequency\": 69, \"value\": 3645}, \"3646\": {\"frequency\": 93, \"value\": 3646}, \"3647\": {\"frequency\": 33, \"value\": 3647}, \"3648\": {\"frequency\": 627, \"value\": 3648}, \"3649\": {\"frequency\": 51, \"value\": 3649}, \"3650\": {\"frequency\": 785, \"value\": 3650}, \"3651\": {\"frequency\": 251, \"value\": 3651}, \"3652\": {\"frequency\": 289, \"value\": 3652}, \"3653\": {\"frequency\": 111, \"value\": 3653}, \"3654\": {\"frequency\": 282, \"value\": 3654}, \"3655\": {\"frequency\": 32, \"value\": 3655}, \"3656\": {\"frequency\": 79, \"value\": 3656}, \"3657\": {\"frequency\": 38, \"value\": 3657}, \"3658\": {\"frequency\": 266, \"value\": 3658}, \"3659\": {\"frequency\": 96, \"value\": 3659}, \"3660\": {\"frequency\": 58, \"value\": 3660}, \"3661\": {\"frequency\": 125, \"value\": 3661}, \"3662\": {\"frequency\": 88, \"value\": 3662}, \"3663\": {\"frequency\": 91, \"value\": 3663}, \"3664\": {\"frequency\": 134, \"value\": 3664}, \"3665\": {\"frequency\": 216, \"value\": 3665}, \"3666\": {\"frequency\": 42, \"value\": 3666}, \"3667\": {\"frequency\": 55, \"value\": 3667}, \"3668\": {\"frequency\": 38, \"value\": 3668}, \"3669\": {\"frequency\": 436, \"value\": 3669}, \"3670\": {\"frequency\": 68, \"value\": 3670}, \"3671\": {\"frequency\": 104, \"value\": 3671}, \"3672\": {\"frequency\": 203, \"value\": 3672}, \"3673\": {\"frequency\": 212, \"value\": 3673}, \"3674\": {\"frequency\": 91, \"value\": 3674}, \"3675\": {\"frequency\": 849, \"value\": 3675}, \"3676\": {\"frequency\": 101, \"value\": 3676}, \"3677\": {\"frequency\": 141, \"value\": 3677}, \"3678\": {\"frequency\": 139, \"value\": 3678}, \"3679\": {\"frequency\": 384, \"value\": 3679}, \"3680\": {\"frequency\": 56, \"value\": 3680}, \"3681\": {\"frequency\": 668, \"value\": 3681}, \"3682\": {\"frequency\": 91, \"value\": 3682}, \"3683\": {\"frequency\": 589, \"value\": 3683}, \"3684\": {\"frequency\": 139, \"value\": 3684}, \"3685\": {\"frequency\": 307, \"value\": 3685}, \"3686\": {\"frequency\": 75, \"value\": 3686}, \"3687\": {\"frequency\": 191, \"value\": 3687}, \"3688\": {\"frequency\": 304, \"value\": 3688}, \"3689\": {\"frequency\": 226, \"value\": 3689}, \"3690\": {\"frequency\": 401, \"value\": 3690}, \"3691\": {\"frequency\": 302, \"value\": 3691}, \"3692\": {\"frequency\": 71, \"value\": 3692}, \"3693\": {\"frequency\": 596, \"value\": 3693}, \"3694\": {\"frequency\": 53, \"value\": 3694}, \"3695\": {\"frequency\": 302, \"value\": 3695}, \"3696\": {\"frequency\": 150, \"value\": 3696}, \"3697\": {\"frequency\": 136, \"value\": 3697}, \"3698\": {\"frequency\": 115, \"value\": 3698}, \"3699\": {\"frequency\": 61, \"value\": 3699}, \"3700\": {\"frequency\": 66, \"value\": 3700}, \"3701\": {\"frequency\": 84, \"value\": 3701}, \"3702\": {\"frequency\": 47, \"value\": 3702}, \"3703\": {\"frequency\": 50, \"value\": 3703}, \"3704\": {\"frequency\": 219, \"value\": 3704}, \"3705\": {\"frequency\": 792, \"value\": 3705}, \"3706\": {\"frequency\": 78, \"value\": 3706}, \"3707\": {\"frequency\": 51, \"value\": 3707}, \"3708\": {\"frequency\": 35, \"value\": 3708}, \"3709\": {\"frequency\": 331, \"value\": 3709}, \"3710\": {\"frequency\": 69, \"value\": 3710}, \"3711\": {\"frequency\": 88, \"value\": 3711}, \"3712\": {\"frequency\": 140, \"value\": 3712}, \"3713\": {\"frequency\": 408, \"value\": 3713}, \"3714\": {\"frequency\": 40, \"value\": 3714}, \"3715\": {\"frequency\": 316, \"value\": 3715}, \"3716\": {\"frequency\": 392, \"value\": 3716}, \"3717\": {\"frequency\": 299, \"value\": 3717}, \"3718\": {\"frequency\": 269, \"value\": 3718}, \"3719\": {\"frequency\": 36, \"value\": 3719}, \"3720\": {\"frequency\": 207, \"value\": 3720}, \"3721\": {\"frequency\": 129, \"value\": 3721}, \"3722\": {\"frequency\": 31, \"value\": 3722}, \"3723\": {\"frequency\": 39, \"value\": 3723}, \"3724\": {\"frequency\": 583, \"value\": 3724}, \"3725\": {\"frequency\": 26, \"value\": 3725}, \"3726\": {\"frequency\": 340, \"value\": 3726}, \"3727\": {\"frequency\": 460, \"value\": 3727}, \"3728\": {\"frequency\": 64, \"value\": 3728}, \"3729\": {\"frequency\": 443, \"value\": 3729}, \"3730\": {\"frequency\": 29, \"value\": 3730}, \"3731\": {\"frequency\": 125, \"value\": 3731}, \"3732\": {\"frequency\": 208, \"value\": 3732}, \"3733\": {\"frequency\": 119, \"value\": 3733}, \"3734\": {\"frequency\": 50, \"value\": 3734}, \"3735\": {\"frequency\": 301, \"value\": 3735}, \"3736\": {\"frequency\": 125, \"value\": 3736}, \"3737\": {\"frequency\": 150, \"value\": 3737}, \"3738\": {\"frequency\": 32, \"value\": 3738}, \"3739\": {\"frequency\": 22, \"value\": 3739}, \"3740\": {\"frequency\": 47, \"value\": 3740}, \"3741\": {\"frequency\": 134, \"value\": 3741}, \"3742\": {\"frequency\": 125, \"value\": 3742}, \"3743\": {\"frequency\": 32, \"value\": 3743}, \"3744\": {\"frequency\": 36, \"value\": 3744}, \"3745\": {\"frequency\": 202, \"value\": 3745}, \"3746\": {\"frequency\": 348, \"value\": 3746}, \"3747\": {\"frequency\": 64, \"value\": 3747}, \"3748\": {\"frequency\": 32, \"value\": 3748}, \"3749\": {\"frequency\": 118, \"value\": 3749}, \"3750\": {\"frequency\": 39, \"value\": 3750}, \"3751\": {\"frequency\": 407, \"value\": 3751}, \"3752\": {\"frequency\": 185, \"value\": 3752}, \"3753\": {\"frequency\": 49, \"value\": 3753}, \"3754\": {\"frequency\": 304, \"value\": 3754}, \"3755\": {\"frequency\": 72, \"value\": 3755}, \"3756\": {\"frequency\": 414, \"value\": 3756}, \"3757\": {\"frequency\": 201, \"value\": 3757}, \"3758\": {\"frequency\": 50, \"value\": 3758}, \"3759\": {\"frequency\": 103, \"value\": 3759}, \"3760\": {\"frequency\": 316, \"value\": 3760}, \"3761\": {\"frequency\": 171, \"value\": 3761}, \"3762\": {\"frequency\": 413, \"value\": 3762}, \"3763\": {\"frequency\": 140, \"value\": 3763}, \"3764\": {\"frequency\": 27, \"value\": 3764}, \"3765\": {\"frequency\": 27, \"value\": 3765}, \"3766\": {\"frequency\": 124, \"value\": 3766}, \"3767\": {\"frequency\": 41, \"value\": 3767}, \"3768\": {\"frequency\": 710, \"value\": 3768}, \"3769\": {\"frequency\": 410, \"value\": 3769}, \"3770\": {\"frequency\": 266, \"value\": 3770}, \"3771\": {\"frequency\": 469, \"value\": 3771}, \"3772\": {\"frequency\": 48, \"value\": 3772}, \"3773\": {\"frequency\": 361, \"value\": 3773}, \"3774\": {\"frequency\": 56, \"value\": 3774}, \"3775\": {\"frequency\": 93, \"value\": 3775}, \"3776\": {\"frequency\": 42, \"value\": 3776}, \"3777\": {\"frequency\": 116, \"value\": 3777}, \"3778\": {\"frequency\": 941, \"value\": 3778}, \"3779\": {\"frequency\": 56, \"value\": 3779}, \"3780\": {\"frequency\": 300, \"value\": 3780}, \"3781\": {\"frequency\": 62, \"value\": 3781}, \"3782\": {\"frequency\": 65, \"value\": 3782}, \"3783\": {\"frequency\": 24, \"value\": 3783}, \"3784\": {\"frequency\": 41, \"value\": 3784}, \"3785\": {\"frequency\": 35, \"value\": 3785}, \"3786\": {\"frequency\": 63, \"value\": 3786}, \"3787\": {\"frequency\": 20, \"value\": 3787}, \"3788\": {\"frequency\": 24, \"value\": 3788}, \"3789\": {\"frequency\": 151, \"value\": 3789}, \"3790\": {\"frequency\": 125, \"value\": 3790}, \"3791\": {\"frequency\": 126, \"value\": 3791}, \"3792\": {\"frequency\": 821, \"value\": 3792}, \"3793\": {\"frequency\": 133, \"value\": 3793}, \"3794\": {\"frequency\": 44, \"value\": 3794}, \"3795\": {\"frequency\": 29, \"value\": 3795}, \"3796\": {\"frequency\": 202, \"value\": 3796}, \"3797\": {\"frequency\": 27, \"value\": 3797}, \"3798\": {\"frequency\": 30, \"value\": 3798}, \"3799\": {\"frequency\": 128, \"value\": 3799}, \"3800\": {\"frequency\": 71, \"value\": 3800}, \"3801\": {\"frequency\": 140, \"value\": 3801}, \"3802\": {\"frequency\": 22, \"value\": 3802}, \"3803\": {\"frequency\": 22, \"value\": 3803}, \"3804\": {\"frequency\": 187, \"value\": 3804}, \"3805\": {\"frequency\": 37, \"value\": 3805}, \"3806\": {\"frequency\": 167, \"value\": 3806}, \"3807\": {\"frequency\": 478, \"value\": 3807}, \"3808\": {\"frequency\": 1158, \"value\": 3808}, \"3809\": {\"frequency\": 47, \"value\": 3809}, \"3810\": {\"frequency\": 67, \"value\": 3810}, \"3811\": {\"frequency\": 105, \"value\": 3811}, \"3812\": {\"frequency\": 114, \"value\": 3812}, \"3813\": {\"frequency\": 67, \"value\": 3813}, \"3814\": {\"frequency\": 36, \"value\": 3814}, \"3815\": {\"frequency\": 120, \"value\": 3815}, \"3816\": {\"frequency\": 318, \"value\": 3816}, \"3817\": {\"frequency\": 53, \"value\": 3817}, \"3818\": {\"frequency\": 47, \"value\": 3818}, \"3819\": {\"frequency\": 118, \"value\": 3819}, \"3820\": {\"frequency\": 45, \"value\": 3820}, \"3821\": {\"frequency\": 729, \"value\": 3821}, \"3822\": {\"frequency\": 184, \"value\": 3822}, \"3823\": {\"frequency\": 633, \"value\": 3823}, \"3824\": {\"frequency\": 1018, \"value\": 3824}, \"3825\": {\"frequency\": 491, \"value\": 3825}, \"3826\": {\"frequency\": 28, \"value\": 3826}, \"3827\": {\"frequency\": 186, \"value\": 3827}, \"3828\": {\"frequency\": 42, \"value\": 3828}, \"3829\": {\"frequency\": 822, \"value\": 3829}, \"3830\": {\"frequency\": 136, \"value\": 3830}, \"3831\": {\"frequency\": 122, \"value\": 3831}, \"3832\": {\"frequency\": 108, \"value\": 3832}, \"3833\": {\"frequency\": 312, \"value\": 3833}, \"3834\": {\"frequency\": 562, \"value\": 3834}, \"3835\": {\"frequency\": 91, \"value\": 3835}, \"3836\": {\"frequency\": 510, \"value\": 3836}, \"3837\": {\"frequency\": 196, \"value\": 3837}, \"3838\": {\"frequency\": 24, \"value\": 3838}, \"3839\": {\"frequency\": 88, \"value\": 3839}, \"3840\": {\"frequency\": 68, \"value\": 3840}, \"3841\": {\"frequency\": 1216, \"value\": 3841}, \"3842\": {\"frequency\": 669, \"value\": 3842}, \"3843\": {\"frequency\": 66, \"value\": 3843}, \"3844\": {\"frequency\": 134, \"value\": 3844}, \"3845\": {\"frequency\": 74, \"value\": 3845}, \"3846\": {\"frequency\": 70, \"value\": 3846}, \"3847\": {\"frequency\": 429, \"value\": 3847}, \"3848\": {\"frequency\": 78, \"value\": 3848}, \"3849\": {\"frequency\": 67, \"value\": 3849}, \"3850\": {\"frequency\": 384, \"value\": 3850}, \"3851\": {\"frequency\": 86, \"value\": 3851}, \"3852\": {\"frequency\": 57, \"value\": 3852}, \"3853\": {\"frequency\": 314, \"value\": 3853}, \"3854\": {\"frequency\": 82, \"value\": 3854}, \"3855\": {\"frequency\": 101, \"value\": 3855}, \"3856\": {\"frequency\": 47, \"value\": 3856}, \"3857\": {\"frequency\": 54, \"value\": 3857}, \"3858\": {\"frequency\": 162, \"value\": 3858}, \"3859\": {\"frequency\": 309, \"value\": 3859}, \"3860\": {\"frequency\": 171, \"value\": 3860}, \"3861\": {\"frequency\": 41, \"value\": 3861}, \"3862\": {\"frequency\": 33, \"value\": 3862}, \"3863\": {\"frequency\": 25, \"value\": 3863}, \"3864\": {\"frequency\": 202, \"value\": 3864}, \"3865\": {\"frequency\": 57, \"value\": 3865}, \"3866\": {\"frequency\": 85, \"value\": 3866}, \"3867\": {\"frequency\": 42, \"value\": 3867}, \"3868\": {\"frequency\": 275, \"value\": 3868}, \"3869\": {\"frequency\": 50, \"value\": 3869}, \"3870\": {\"frequency\": 26, \"value\": 3870}, \"3871\": {\"frequency\": 114, \"value\": 3871}, \"3872\": {\"frequency\": 48, \"value\": 3872}, \"3873\": {\"frequency\": 77, \"value\": 3873}, \"3874\": {\"frequency\": 115, \"value\": 3874}, \"3875\": {\"frequency\": 39, \"value\": 3875}, \"3876\": {\"frequency\": 44, \"value\": 3876}, \"3877\": {\"frequency\": 22, \"value\": 3877}, \"3878\": {\"frequency\": 484, \"value\": 3878}, \"3879\": {\"frequency\": 46, \"value\": 3879}, \"3880\": {\"frequency\": 57, \"value\": 3880}, \"3881\": {\"frequency\": 81, \"value\": 3881}, \"3882\": {\"frequency\": 203, \"value\": 3882}, \"3883\": {\"frequency\": 20, \"value\": 3883}, \"3884\": {\"frequency\": 651, \"value\": 3884}, \"3885\": {\"frequency\": 590, \"value\": 3885}, \"3886\": {\"frequency\": 91, \"value\": 3886}, \"3887\": {\"frequency\": 319, \"value\": 3887}, \"3888\": {\"frequency\": 151, \"value\": 3888}, \"3889\": {\"frequency\": 133, \"value\": 3889}, \"3890\": {\"frequency\": 71, \"value\": 3890}, \"3891\": {\"frequency\": 100, \"value\": 3891}, \"3892\": {\"frequency\": 477, \"value\": 3892}, \"3893\": {\"frequency\": 50, \"value\": 3893}, \"3894\": {\"frequency\": 159, \"value\": 3894}, \"3895\": {\"frequency\": 71, \"value\": 3895}, \"3896\": {\"frequency\": 148, \"value\": 3896}, \"3897\": {\"frequency\": 21, \"value\": 3897}, \"3898\": {\"frequency\": 101, \"value\": 3898}, \"3899\": {\"frequency\": 52, \"value\": 3899}, \"3900\": {\"frequency\": 409, \"value\": 3900}, \"3901\": {\"frequency\": 75, \"value\": 3901}, \"3902\": {\"frequency\": 165, \"value\": 3902}, \"3903\": {\"frequency\": 168, \"value\": 3903}, \"3904\": {\"frequency\": 103, \"value\": 3904}, \"3905\": {\"frequency\": 81, \"value\": 3905}, \"3906\": {\"frequency\": 64, \"value\": 3906}, \"3907\": {\"frequency\": 52, \"value\": 3907}, \"3908\": {\"frequency\": 160, \"value\": 3908}, \"3909\": {\"frequency\": 78, \"value\": 3909}, \"3910\": {\"frequency\": 261, \"value\": 3910}, \"3911\": {\"frequency\": 25, \"value\": 3911}, \"3912\": {\"frequency\": 101, \"value\": 3912}, \"3913\": {\"frequency\": 167, \"value\": 3913}, \"3914\": {\"frequency\": 113, \"value\": 3914}, \"3915\": {\"frequency\": 23, \"value\": 3915}, \"3916\": {\"frequency\": 530, \"value\": 3916}, \"3917\": {\"frequency\": 98, \"value\": 3917}, \"3918\": {\"frequency\": 26, \"value\": 3918}, \"3919\": {\"frequency\": 69, \"value\": 3919}, \"3920\": {\"frequency\": 60, \"value\": 3920}, \"3921\": {\"frequency\": 72, \"value\": 3921}, \"3922\": {\"frequency\": 178, \"value\": 3922}, \"3923\": {\"frequency\": 103, \"value\": 3923}, \"3924\": {\"frequency\": 77, \"value\": 3924}, \"3925\": {\"frequency\": 108, \"value\": 3925}, \"3926\": {\"frequency\": 65, \"value\": 3926}, \"3927\": {\"frequency\": 156, \"value\": 3927}, \"3928\": {\"frequency\": 28, \"value\": 3928}, \"3929\": {\"frequency\": 612, \"value\": 3929}, \"3930\": {\"frequency\": 194, \"value\": 3930}, \"3931\": {\"frequency\": 233, \"value\": 3931}, \"3932\": {\"frequency\": 32, \"value\": 3932}, \"3933\": {\"frequency\": 24, \"value\": 3933}, \"3934\": {\"frequency\": 703, \"value\": 3934}, \"3935\": {\"frequency\": 168, \"value\": 3935}, \"3936\": {\"frequency\": 34, \"value\": 3936}, \"3937\": {\"frequency\": 73, \"value\": 3937}, \"3938\": {\"frequency\": 94, \"value\": 3938}, \"3939\": {\"frequency\": 24, \"value\": 3939}, \"3940\": {\"frequency\": 492, \"value\": 3940}, \"3941\": {\"frequency\": 50, \"value\": 3941}, \"3942\": {\"frequency\": 606, \"value\": 3942}, \"3943\": {\"frequency\": 65, \"value\": 3943}, \"3944\": {\"frequency\": 50, \"value\": 3944}, \"3945\": {\"frequency\": 531, \"value\": 3945}, \"3946\": {\"frequency\": 264, \"value\": 3946}, \"3947\": {\"frequency\": 102, \"value\": 3947}, \"3948\": {\"frequency\": 102, \"value\": 3948}, \"3949\": {\"frequency\": 74, \"value\": 3949}, \"3950\": {\"frequency\": 70, \"value\": 3950}, \"3951\": {\"frequency\": 196, \"value\": 3951}, \"3952\": {\"frequency\": 58, \"value\": 3952}, \"3953\": {\"frequency\": 234, \"value\": 3953}, \"3954\": {\"frequency\": 43, \"value\": 3954}, \"3955\": {\"frequency\": 152, \"value\": 3955}, \"3956\": {\"frequency\": 33, \"value\": 3956}, \"3957\": {\"frequency\": 351, \"value\": 3957}, \"3958\": {\"frequency\": 164, \"value\": 3958}, \"3959\": {\"frequency\": 25, \"value\": 3959}, \"3960\": {\"frequency\": 28, \"value\": 3960}, \"3961\": {\"frequency\": 230, \"value\": 3961}, \"3962\": {\"frequency\": 70, \"value\": 3962}, \"3963\": {\"frequency\": 457, \"value\": 3963}, \"3964\": {\"frequency\": 64, \"value\": 3964}, \"3965\": {\"frequency\": 290, \"value\": 3965}, \"3966\": {\"frequency\": 53, \"value\": 3966}, \"3967\": {\"frequency\": 446, \"value\": 3967}, \"3968\": {\"frequency\": 85, \"value\": 3968}, \"3969\": {\"frequency\": 20, \"value\": 3969}, \"3970\": {\"frequency\": 253, \"value\": 3970}, \"3971\": {\"frequency\": 368, \"value\": 3971}, \"3972\": {\"frequency\": 25, \"value\": 3972}, \"3973\": {\"frequency\": 91, \"value\": 3973}, \"3974\": {\"frequency\": 123, \"value\": 3974}, \"3975\": {\"frequency\": 92, \"value\": 3975}, \"3976\": {\"frequency\": 299, \"value\": 3976}, \"3977\": {\"frequency\": 30, \"value\": 3977}, \"3978\": {\"frequency\": 132, \"value\": 3978}, \"3979\": {\"frequency\": 97, \"value\": 3979}, \"3980\": {\"frequency\": 40, \"value\": 3980}, \"3981\": {\"frequency\": 217, \"value\": 3981}, \"3982\": {\"frequency\": 82, \"value\": 3982}, \"3983\": {\"frequency\": 130, \"value\": 3983}, \"3984\": {\"frequency\": 65, \"value\": 3984}, \"3985\": {\"frequency\": 331, \"value\": 3985}, \"3986\": {\"frequency\": 50, \"value\": 3986}, \"3987\": {\"frequency\": 46, \"value\": 3987}, \"3988\": {\"frequency\": 204, \"value\": 3988}, \"3989\": {\"frequency\": 226, \"value\": 3989}, \"3990\": {\"frequency\": 85, \"value\": 3990}, \"3991\": {\"frequency\": 47, \"value\": 3991}, \"3992\": {\"frequency\": 449, \"value\": 3992}, \"3993\": {\"frequency\": 351, \"value\": 3993}, \"3994\": {\"frequency\": 187, \"value\": 3994}, \"3995\": {\"frequency\": 163, \"value\": 3995}, \"3996\": {\"frequency\": 112, \"value\": 3996}, \"3997\": {\"frequency\": 315, \"value\": 3997}, \"3998\": {\"frequency\": 324, \"value\": 3998}, \"3999\": {\"frequency\": 742, \"value\": 3999}, \"4000\": {\"frequency\": 65, \"value\": 4000}, \"4001\": {\"frequency\": 434, \"value\": 4001}, \"4002\": {\"frequency\": 59, \"value\": 4002}, \"4003\": {\"frequency\": 42, \"value\": 4003}, \"4004\": {\"frequency\": 128, \"value\": 4004}, \"4005\": {\"frequency\": 240, \"value\": 4005}, \"4006\": {\"frequency\": 210, \"value\": 4006}, \"4007\": {\"frequency\": 544, \"value\": 4007}, \"4008\": {\"frequency\": 24, \"value\": 4008}, \"4009\": {\"frequency\": 309, \"value\": 4009}, \"4010\": {\"frequency\": 24, \"value\": 4010}, \"4011\": {\"frequency\": 51, \"value\": 4011}, \"4012\": {\"frequency\": 47, \"value\": 4012}, \"4013\": {\"frequency\": 224, \"value\": 4013}, \"4014\": {\"frequency\": 225, \"value\": 4014}, \"4015\": {\"frequency\": 104, \"value\": 4015}, \"4016\": {\"frequency\": 678, \"value\": 4016}, \"4017\": {\"frequency\": 39, \"value\": 4017}, \"4018\": {\"frequency\": 145, \"value\": 4018}, \"4019\": {\"frequency\": 25, \"value\": 4019}, \"4020\": {\"frequency\": 84, \"value\": 4020}, \"4021\": {\"frequency\": 765, \"value\": 4021}, \"4022\": {\"frequency\": 416, \"value\": 4022}, \"4023\": {\"frequency\": 87, \"value\": 4023}, \"4024\": {\"frequency\": 252, \"value\": 4024}, \"4025\": {\"frequency\": 28, \"value\": 4025}, \"4026\": {\"frequency\": 300, \"value\": 4026}, \"4027\": {\"frequency\": 51, \"value\": 4027}, \"4028\": {\"frequency\": 537, \"value\": 4028}, \"4029\": {\"frequency\": 77, \"value\": 4029}, \"4030\": {\"frequency\": 124, \"value\": 4030}, \"4031\": {\"frequency\": 51, \"value\": 4031}, \"4032\": {\"frequency\": 153, \"value\": 4032}, \"4033\": {\"frequency\": 662, \"value\": 4033}, \"4034\": {\"frequency\": 108, \"value\": 4034}, \"4035\": {\"frequency\": 57, \"value\": 4035}, \"4036\": {\"frequency\": 126, \"value\": 4036}, \"4037\": {\"frequency\": 53, \"value\": 4037}, \"4038\": {\"frequency\": 23, \"value\": 4038}, \"4039\": {\"frequency\": 53, \"value\": 4039}, \"4040\": {\"frequency\": 186, \"value\": 4040}, \"4041\": {\"frequency\": 844, \"value\": 4041}, \"4042\": {\"frequency\": 446, \"value\": 4042}, \"4043\": {\"frequency\": 133, \"value\": 4043}, \"4044\": {\"frequency\": 62, \"value\": 4044}, \"4046\": {\"frequency\": 37, \"value\": 4046}, \"4047\": {\"frequency\": 45, \"value\": 4047}, \"4048\": {\"frequency\": 729, \"value\": 4048}, \"4049\": {\"frequency\": 375, \"value\": 4049}, \"4050\": {\"frequency\": 168, \"value\": 4050}, \"4051\": {\"frequency\": 100, \"value\": 4051}, \"4052\": {\"frequency\": 34, \"value\": 4052}, \"4053\": {\"frequency\": 500, \"value\": 4053}, \"4054\": {\"frequency\": 616, \"value\": 4054}, \"4055\": {\"frequency\": 407, \"value\": 4055}, \"4056\": {\"frequency\": 22, \"value\": 4056}, \"4057\": {\"frequency\": 38, \"value\": 4057}, \"4058\": {\"frequency\": 503, \"value\": 4058}, \"4059\": {\"frequency\": 45, \"value\": 4059}, \"4060\": {\"frequency\": 256, \"value\": 4060}, \"4061\": {\"frequency\": 38, \"value\": 4061}, \"4062\": {\"frequency\": 322, \"value\": 4062}, \"4063\": {\"frequency\": 59, \"value\": 4063}, \"4064\": {\"frequency\": 1009, \"value\": 4064}, \"4065\": {\"frequency\": 21, \"value\": 4065}, \"4066\": {\"frequency\": 95, \"value\": 4066}, \"4067\": {\"frequency\": 80, \"value\": 4067}, \"4068\": {\"frequency\": 20, \"value\": 4068}, \"4069\": {\"frequency\": 31, \"value\": 4069}, \"4070\": {\"frequency\": 135, \"value\": 4070}, \"4071\": {\"frequency\": 111, \"value\": 4071}, \"4072\": {\"frequency\": 254, \"value\": 4072}, \"4073\": {\"frequency\": 24, \"value\": 4073}, \"4074\": {\"frequency\": 26, \"value\": 4074}, \"4075\": {\"frequency\": 54, \"value\": 4075}, \"4076\": {\"frequency\": 48, \"value\": 4076}, \"4077\": {\"frequency\": 227, \"value\": 4077}, \"4078\": {\"frequency\": 266, \"value\": 4078}, \"4079\": {\"frequency\": 433, \"value\": 4079}, \"4080\": {\"frequency\": 83, \"value\": 4080}, \"4081\": {\"frequency\": 51, \"value\": 4081}, \"4082\": {\"frequency\": 123, \"value\": 4082}, \"4083\": {\"frequency\": 766, \"value\": 4083}, \"4084\": {\"frequency\": 168, \"value\": 4084}, \"4085\": {\"frequency\": 829, \"value\": 4085}, \"4086\": {\"frequency\": 318, \"value\": 4086}, \"4087\": {\"frequency\": 60, \"value\": 4087}, \"4088\": {\"frequency\": 403, \"value\": 4088}, \"4089\": {\"frequency\": 702, \"value\": 4089}, \"4090\": {\"frequency\": 203, \"value\": 4090}, \"4091\": {\"frequency\": 104, \"value\": 4091}, \"4092\": {\"frequency\": 72, \"value\": 4092}, \"4093\": {\"frequency\": 157, \"value\": 4093}, \"4094\": {\"frequency\": 270, \"value\": 4094}, \"4095\": {\"frequency\": 62, \"value\": 4095}, \"4096\": {\"frequency\": 239, \"value\": 4096}, \"4097\": {\"frequency\": 30, \"value\": 4097}, \"4098\": {\"frequency\": 114, \"value\": 4098}, \"4099\": {\"frequency\": 129, \"value\": 4099}, \"4100\": {\"frequency\": 28, \"value\": 4100}, \"4101\": {\"frequency\": 95, \"value\": 4101}, \"4102\": {\"frequency\": 89, \"value\": 4102}, \"4103\": {\"frequency\": 146, \"value\": 4103}, \"4104\": {\"frequency\": 154, \"value\": 4104}, \"4105\": {\"frequency\": 64, \"value\": 4105}, \"4106\": {\"frequency\": 28, \"value\": 4106}, \"4107\": {\"frequency\": 350, \"value\": 4107}, \"4108\": {\"frequency\": 32, \"value\": 4108}, \"4109\": {\"frequency\": 25, \"value\": 4109}, \"4110\": {\"frequency\": 21, \"value\": 4110}, \"4111\": {\"frequency\": 53, \"value\": 4111}, \"4112\": {\"frequency\": 324, \"value\": 4112}, \"4113\": {\"frequency\": 33, \"value\": 4113}, \"4114\": {\"frequency\": 200, \"value\": 4114}, \"4115\": {\"frequency\": 517, \"value\": 4115}, \"4116\": {\"frequency\": 363, \"value\": 4116}, \"4117\": {\"frequency\": 204, \"value\": 4117}, \"4118\": {\"frequency\": 207, \"value\": 4118}, \"4119\": {\"frequency\": 54, \"value\": 4119}, \"4120\": {\"frequency\": 48, \"value\": 4120}, \"4121\": {\"frequency\": 127, \"value\": 4121}, \"4122\": {\"frequency\": 315, \"value\": 4122}, \"4123\": {\"frequency\": 106, \"value\": 4123}, \"4124\": {\"frequency\": 310, \"value\": 4124}, \"4125\": {\"frequency\": 45, \"value\": 4125}, \"4126\": {\"frequency\": 358, \"value\": 4126}, \"4127\": {\"frequency\": 89, \"value\": 4127}, \"4128\": {\"frequency\": 50, \"value\": 4128}, \"4129\": {\"frequency\": 29, \"value\": 4129}, \"4130\": {\"frequency\": 172, \"value\": 4130}, \"4131\": {\"frequency\": 123, \"value\": 4131}, \"4132\": {\"frequency\": 132, \"value\": 4132}, \"4133\": {\"frequency\": 118, \"value\": 4133}, \"4134\": {\"frequency\": 118, \"value\": 4134}, \"4135\": {\"frequency\": 66, \"value\": 4135}, \"4136\": {\"frequency\": 39, \"value\": 4136}, \"4137\": {\"frequency\": 85, \"value\": 4137}, \"4138\": {\"frequency\": 64, \"value\": 4138}, \"4139\": {\"frequency\": 351, \"value\": 4139}, \"4140\": {\"frequency\": 735, \"value\": 4140}, \"4141\": {\"frequency\": 226, \"value\": 4141}, \"4142\": {\"frequency\": 24, \"value\": 4142}, \"4143\": {\"frequency\": 24, \"value\": 4143}, \"4144\": {\"frequency\": 140, \"value\": 4144}, \"4145\": {\"frequency\": 25, \"value\": 4145}, \"4146\": {\"frequency\": 25, \"value\": 4146}, \"4147\": {\"frequency\": 61, \"value\": 4147}, \"4148\": {\"frequency\": 94, \"value\": 4148}, \"4149\": {\"frequency\": 52, \"value\": 4149}, \"4150\": {\"frequency\": 403, \"value\": 4150}, \"4151\": {\"frequency\": 36, \"value\": 4151}, \"4152\": {\"frequency\": 158, \"value\": 4152}, \"4153\": {\"frequency\": 169, \"value\": 4153}, \"4154\": {\"frequency\": 23, \"value\": 4154}, \"4155\": {\"frequency\": 62, \"value\": 4155}, \"4156\": {\"frequency\": 392, \"value\": 4156}, \"4157\": {\"frequency\": 56, \"value\": 4157}, \"4158\": {\"frequency\": 23, \"value\": 4158}, \"4159\": {\"frequency\": 22, \"value\": 4159}, \"4160\": {\"frequency\": 120, \"value\": 4160}, \"4161\": {\"frequency\": 459, \"value\": 4161}, \"4162\": {\"frequency\": 126, \"value\": 4162}, \"4163\": {\"frequency\": 26, \"value\": 4163}, \"4164\": {\"frequency\": 36, \"value\": 4164}, \"4165\": {\"frequency\": 51, \"value\": 4165}, \"4166\": {\"frequency\": 24, \"value\": 4166}, \"4167\": {\"frequency\": 465, \"value\": 4167}, \"4168\": {\"frequency\": 100, \"value\": 4168}, \"4169\": {\"frequency\": 2314, \"value\": 4169}, \"4170\": {\"frequency\": 83, \"value\": 4170}, \"4171\": {\"frequency\": 147, \"value\": 4171}, \"4172\": {\"frequency\": 70, \"value\": 4172}, \"4173\": {\"frequency\": 56, \"value\": 4173}, \"4174\": {\"frequency\": 40, \"value\": 4174}, \"4175\": {\"frequency\": 92, \"value\": 4175}, \"4176\": {\"frequency\": 22, \"value\": 4176}, \"4177\": {\"frequency\": 152, \"value\": 4177}, \"4178\": {\"frequency\": 20, \"value\": 4178}, \"4179\": {\"frequency\": 161, \"value\": 4179}, \"4180\": {\"frequency\": 82, \"value\": 4180}, \"4181\": {\"frequency\": 129, \"value\": 4181}, \"4182\": {\"frequency\": 46, \"value\": 4182}, \"4183\": {\"frequency\": 366, \"value\": 4183}, \"4184\": {\"frequency\": 26, \"value\": 4184}, \"4185\": {\"frequency\": 52, \"value\": 4185}, \"4186\": {\"frequency\": 640, \"value\": 4186}, \"4187\": {\"frequency\": 67, \"value\": 4187}, \"4188\": {\"frequency\": 44, \"value\": 4188}, \"4189\": {\"frequency\": 33, \"value\": 4189}, \"4190\": {\"frequency\": 99, \"value\": 4190}, \"4191\": {\"frequency\": 26, \"value\": 4191}, \"4192\": {\"frequency\": 20, \"value\": 4192}, \"4193\": {\"frequency\": 261, \"value\": 4193}, \"4194\": {\"frequency\": 174, \"value\": 4194}, \"4195\": {\"frequency\": 101, \"value\": 4195}, \"4196\": {\"frequency\": 29, \"value\": 4196}, \"4197\": {\"frequency\": 23, \"value\": 4197}, \"4198\": {\"frequency\": 50, \"value\": 4198}, \"4199\": {\"frequency\": 47, \"value\": 4199}, \"4200\": {\"frequency\": 49, \"value\": 4200}, \"4201\": {\"frequency\": 24, \"value\": 4201}, \"4202\": {\"frequency\": 23, \"value\": 4202}, \"4203\": {\"frequency\": 145, \"value\": 4203}, \"4204\": {\"frequency\": 240, \"value\": 4204}, \"4205\": {\"frequency\": 46, \"value\": 4205}, \"4206\": {\"frequency\": 47, \"value\": 4206}, \"4207\": {\"frequency\": 247, \"value\": 4207}, \"4208\": {\"frequency\": 48, \"value\": 4208}, \"4209\": {\"frequency\": 23, \"value\": 4209}, \"4210\": {\"frequency\": 131, \"value\": 4210}, \"4211\": {\"frequency\": 24, \"value\": 4211}, \"4212\": {\"frequency\": 155, \"value\": 4212}, \"4213\": {\"frequency\": 395, \"value\": 4213}, \"4214\": {\"frequency\": 39, \"value\": 4214}, \"4215\": {\"frequency\": 289, \"value\": 4215}, \"4216\": {\"frequency\": 27, \"value\": 4216}, \"4217\": {\"frequency\": 385, \"value\": 4217}, \"4218\": {\"frequency\": 101, \"value\": 4218}, \"4219\": {\"frequency\": 111, \"value\": 4219}, \"4220\": {\"frequency\": 248, \"value\": 4220}, \"4221\": {\"frequency\": 89, \"value\": 4221}, \"4222\": {\"frequency\": 122, \"value\": 4222}, \"4223\": {\"frequency\": 163, \"value\": 4223}, \"4224\": {\"frequency\": 337, \"value\": 4224}, \"4225\": {\"frequency\": 129, \"value\": 4225}, \"4226\": {\"frequency\": 37, \"value\": 4226}, \"4227\": {\"frequency\": 1222, \"value\": 4227}, \"4228\": {\"frequency\": 23, \"value\": 4228}, \"4229\": {\"frequency\": 63, \"value\": 4229}, \"4230\": {\"frequency\": 21, \"value\": 4230}, \"4231\": {\"frequency\": 50, \"value\": 4231}, \"4232\": {\"frequency\": 52, \"value\": 4232}, \"4233\": {\"frequency\": 134, \"value\": 4233}, \"4234\": {\"frequency\": 159, \"value\": 4234}, \"4235\": {\"frequency\": 126, \"value\": 4235}, \"4236\": {\"frequency\": 51, \"value\": 4236}, \"4237\": {\"frequency\": 123, \"value\": 4237}, \"4238\": {\"frequency\": 819, \"value\": 4238}, \"4239\": {\"frequency\": 68, \"value\": 4239}, \"4240\": {\"frequency\": 66, \"value\": 4240}, \"4241\": {\"frequency\": 98, \"value\": 4241}, \"4242\": {\"frequency\": 131, \"value\": 4242}, \"4243\": {\"frequency\": 142, \"value\": 4243}, \"4244\": {\"frequency\": 20, \"value\": 4244}, \"4245\": {\"frequency\": 92, \"value\": 4245}, \"4246\": {\"frequency\": 36, \"value\": 4246}, \"4247\": {\"frequency\": 76, \"value\": 4247}, \"4248\": {\"frequency\": 85, \"value\": 4248}, \"4249\": {\"frequency\": 103, \"value\": 4249}, \"4250\": {\"frequency\": 327, \"value\": 4250}, \"4251\": {\"frequency\": 97, \"value\": 4251}, \"4252\": {\"frequency\": 105, \"value\": 4252}, \"4253\": {\"frequency\": 338, \"value\": 4253}, \"4254\": {\"frequency\": 24, \"value\": 4254}, \"4255\": {\"frequency\": 41, \"value\": 4255}, \"4256\": {\"frequency\": 27, \"value\": 4256}, \"4257\": {\"frequency\": 139, \"value\": 4257}, \"4258\": {\"frequency\": 400, \"value\": 4258}, \"4259\": {\"frequency\": 21, \"value\": 4259}, \"4260\": {\"frequency\": 324, \"value\": 4260}, \"4261\": {\"frequency\": 277, \"value\": 4261}, \"4262\": {\"frequency\": 38, \"value\": 4262}, \"4263\": {\"frequency\": 38, \"value\": 4263}, \"4264\": {\"frequency\": 21, \"value\": 4264}, \"4265\": {\"frequency\": 209, \"value\": 4265}, \"4266\": {\"frequency\": 69, \"value\": 4266}, \"4267\": {\"frequency\": 37, \"value\": 4267}, \"4268\": {\"frequency\": 310, \"value\": 4268}, \"4269\": {\"frequency\": 227, \"value\": 4269}, \"4270\": {\"frequency\": 24, \"value\": 4270}, \"4271\": {\"frequency\": 526, \"value\": 4271}, \"4272\": {\"frequency\": 113, \"value\": 4272}, \"4273\": {\"frequency\": 33, \"value\": 4273}, \"4274\": {\"frequency\": 153, \"value\": 4274}, \"4275\": {\"frequency\": 31, \"value\": 4275}, \"4276\": {\"frequency\": 82, \"value\": 4276}, \"4277\": {\"frequency\": 1743, \"value\": 4277}, \"4278\": {\"frequency\": 36, \"value\": 4278}, \"4279\": {\"frequency\": 490, \"value\": 4279}, \"4280\": {\"frequency\": 88, \"value\": 4280}, \"4281\": {\"frequency\": 204, \"value\": 4281}, \"4282\": {\"frequency\": 29, \"value\": 4282}, \"4283\": {\"frequency\": 61, \"value\": 4283}, \"4284\": {\"frequency\": 156, \"value\": 4284}, \"4285\": {\"frequency\": 516, \"value\": 4285}, \"4286\": {\"frequency\": 200, \"value\": 4286}, \"4287\": {\"frequency\": 293, \"value\": 4287}, \"4288\": {\"frequency\": 27, \"value\": 4288}, \"4289\": {\"frequency\": 154, \"value\": 4289}, \"4290\": {\"frequency\": 57, \"value\": 4290}, \"4291\": {\"frequency\": 211, \"value\": 4291}, \"4292\": {\"frequency\": 96, \"value\": 4292}, \"4293\": {\"frequency\": 42, \"value\": 4293}, \"4294\": {\"frequency\": 157, \"value\": 4294}, \"4295\": {\"frequency\": 40, \"value\": 4295}, \"4296\": {\"frequency\": 62, \"value\": 4296}, \"4297\": {\"frequency\": 47, \"value\": 4297}, \"4298\": {\"frequency\": 285, \"value\": 4298}, \"4299\": {\"frequency\": 100, \"value\": 4299}, \"4300\": {\"frequency\": 40, \"value\": 4300}, \"4301\": {\"frequency\": 41, \"value\": 4301}, \"4302\": {\"frequency\": 246, \"value\": 4302}, \"4303\": {\"frequency\": 374, \"value\": 4303}, \"4304\": {\"frequency\": 25, \"value\": 4304}, \"4305\": {\"frequency\": 686, \"value\": 4305}, \"4306\": {\"frequency\": 91, \"value\": 4306}, \"4307\": {\"frequency\": 34, \"value\": 4307}, \"4308\": {\"frequency\": 104, \"value\": 4308}, \"4309\": {\"frequency\": 132, \"value\": 4309}, \"4310\": {\"frequency\": 297, \"value\": 4310}, \"4311\": {\"frequency\": 94, \"value\": 4311}, \"4312\": {\"frequency\": 883, \"value\": 4312}, \"4313\": {\"frequency\": 96, \"value\": 4313}, \"4314\": {\"frequency\": 33, \"value\": 4314}, \"4315\": {\"frequency\": 155, \"value\": 4315}, \"4316\": {\"frequency\": 39, \"value\": 4316}, \"4317\": {\"frequency\": 51, \"value\": 4317}, \"4318\": {\"frequency\": 480, \"value\": 4318}, \"4319\": {\"frequency\": 51, \"value\": 4319}, \"4320\": {\"frequency\": 81, \"value\": 4320}, \"4321\": {\"frequency\": 57, \"value\": 4321}, \"4322\": {\"frequency\": 395, \"value\": 4322}, \"4323\": {\"frequency\": 137, \"value\": 4323}, \"4324\": {\"frequency\": 33, \"value\": 4324}, \"4325\": {\"frequency\": 24, \"value\": 4325}, \"4326\": {\"frequency\": 127, \"value\": 4326}, \"4327\": {\"frequency\": 162, \"value\": 4327}, \"4328\": {\"frequency\": 303, \"value\": 4328}, \"4329\": {\"frequency\": 172, \"value\": 4329}, \"4330\": {\"frequency\": 41, \"value\": 4330}, \"4331\": {\"frequency\": 36, \"value\": 4331}, \"4332\": {\"frequency\": 20, \"value\": 4332}, \"4333\": {\"frequency\": 170, \"value\": 4333}, \"4334\": {\"frequency\": 157, \"value\": 4334}, \"4335\": {\"frequency\": 484, \"value\": 4335}, \"4336\": {\"frequency\": 122, \"value\": 4336}, \"4337\": {\"frequency\": 259, \"value\": 4337}, \"4338\": {\"frequency\": 32, \"value\": 4338}, \"4339\": {\"frequency\": 66, \"value\": 4339}, \"4340\": {\"frequency\": 25, \"value\": 4340}, \"4341\": {\"frequency\": 33, \"value\": 4341}, \"4342\": {\"frequency\": 229, \"value\": 4342}, \"4343\": {\"frequency\": 215, \"value\": 4343}, \"4344\": {\"frequency\": 1271, \"value\": 4344}, \"4345\": {\"frequency\": 592, \"value\": 4345}, \"4346\": {\"frequency\": 74, \"value\": 4346}, \"4347\": {\"frequency\": 138, \"value\": 4347}, \"4348\": {\"frequency\": 24, \"value\": 4348}, \"4349\": {\"frequency\": 27, \"value\": 4349}, \"4350\": {\"frequency\": 71, \"value\": 4350}, \"4351\": {\"frequency\": 169, \"value\": 4351}, \"4352\": {\"frequency\": 472, \"value\": 4352}, \"4353\": {\"frequency\": 132, \"value\": 4353}, \"4354\": {\"frequency\": 635, \"value\": 4354}, \"4355\": {\"frequency\": 51, \"value\": 4355}, \"4356\": {\"frequency\": 256, \"value\": 4356}, \"4357\": {\"frequency\": 43, \"value\": 4357}, \"4358\": {\"frequency\": 31, \"value\": 4358}, \"4359\": {\"frequency\": 81, \"value\": 4359}, \"4360\": {\"frequency\": 248, \"value\": 4360}, \"4361\": {\"frequency\": 132, \"value\": 4361}, \"4362\": {\"frequency\": 260, \"value\": 4362}, \"4363\": {\"frequency\": 192, \"value\": 4363}, \"4364\": {\"frequency\": 199, \"value\": 4364}, \"4365\": {\"frequency\": 20, \"value\": 4365}, \"4366\": {\"frequency\": 35, \"value\": 4366}, \"4367\": {\"frequency\": 119, \"value\": 4367}, \"4368\": {\"frequency\": 131, \"value\": 4368}, \"4369\": {\"frequency\": 44, \"value\": 4369}, \"4370\": {\"frequency\": 60, \"value\": 4370}, \"4371\": {\"frequency\": 141, \"value\": 4371}, \"4372\": {\"frequency\": 25, \"value\": 4372}, \"4373\": {\"frequency\": 303, \"value\": 4373}, \"4374\": {\"frequency\": 127, \"value\": 4374}, \"4375\": {\"frequency\": 325, \"value\": 4375}, \"4376\": {\"frequency\": 58, \"value\": 4376}, \"4377\": {\"frequency\": 187, \"value\": 4377}, \"4378\": {\"frequency\": 124, \"value\": 4378}, \"4379\": {\"frequency\": 384, \"value\": 4379}, \"4380\": {\"frequency\": 151, \"value\": 4380}, \"4381\": {\"frequency\": 443, \"value\": 4381}, \"4382\": {\"frequency\": 104, \"value\": 4382}, \"4383\": {\"frequency\": 20, \"value\": 4383}, \"4384\": {\"frequency\": 290, \"value\": 4384}, \"4385\": {\"frequency\": 27, \"value\": 4385}, \"4386\": {\"frequency\": 873, \"value\": 4386}, \"4387\": {\"frequency\": 743, \"value\": 4387}, \"4388\": {\"frequency\": 459, \"value\": 4388}, \"4389\": {\"frequency\": 125, \"value\": 4389}, \"4390\": {\"frequency\": 278, \"value\": 4390}, \"4391\": {\"frequency\": 37, \"value\": 4391}, \"4392\": {\"frequency\": 25, \"value\": 4392}, \"4393\": {\"frequency\": 20, \"value\": 4393}, \"4394\": {\"frequency\": 33, \"value\": 4394}, \"4395\": {\"frequency\": 30, \"value\": 4395}, \"4396\": {\"frequency\": 25, \"value\": 4396}, \"4397\": {\"frequency\": 67, \"value\": 4397}, \"4398\": {\"frequency\": 20, \"value\": 4398}, \"4399\": {\"frequency\": 34, \"value\": 4399}, \"4400\": {\"frequency\": 26, \"value\": 4400}, \"4401\": {\"frequency\": 201, \"value\": 4401}, \"4402\": {\"frequency\": 31, \"value\": 4402}, \"4403\": {\"frequency\": 87, \"value\": 4403}, \"4404\": {\"frequency\": 372, \"value\": 4404}, \"4405\": {\"frequency\": 45, \"value\": 4405}, \"4406\": {\"frequency\": 322, \"value\": 4406}, \"4407\": {\"frequency\": 231, \"value\": 4407}, \"4408\": {\"frequency\": 543, \"value\": 4408}, \"4409\": {\"frequency\": 109, \"value\": 4409}, \"4410\": {\"frequency\": 27, \"value\": 4410}, \"4411\": {\"frequency\": 610, \"value\": 4411}, \"4412\": {\"frequency\": 102, \"value\": 4412}, \"4413\": {\"frequency\": 23, \"value\": 4413}, \"4414\": {\"frequency\": 182, \"value\": 4414}, \"4415\": {\"frequency\": 138, \"value\": 4415}, \"4416\": {\"frequency\": 165, \"value\": 4416}, \"4417\": {\"frequency\": 110, \"value\": 4417}, \"4418\": {\"frequency\": 318, \"value\": 4418}, \"4419\": {\"frequency\": 20, \"value\": 4419}, \"4420\": {\"frequency\": 50, \"value\": 4420}, \"4421\": {\"frequency\": 24, \"value\": 4421}, \"4422\": {\"frequency\": 449, \"value\": 4422}, \"4423\": {\"frequency\": 42, \"value\": 4423}, \"4424\": {\"frequency\": 33, \"value\": 4424}, \"4425\": {\"frequency\": 934, \"value\": 4425}, \"4426\": {\"frequency\": 75, \"value\": 4426}, \"4427\": {\"frequency\": 23, \"value\": 4427}, \"4428\": {\"frequency\": 70, \"value\": 4428}, \"4429\": {\"frequency\": 45, \"value\": 4429}, \"4430\": {\"frequency\": 295, \"value\": 4430}, \"4431\": {\"frequency\": 44, \"value\": 4431}, \"4432\": {\"frequency\": 68, \"value\": 4432}, \"4433\": {\"frequency\": 165, \"value\": 4433}, \"4434\": {\"frequency\": 48, \"value\": 4434}, \"4435\": {\"frequency\": 53, \"value\": 4435}, \"4436\": {\"frequency\": 227, \"value\": 4436}, \"4437\": {\"frequency\": 241, \"value\": 4437}, \"4438\": {\"frequency\": 170, \"value\": 4438}, \"4439\": {\"frequency\": 41, \"value\": 4439}, \"4440\": {\"frequency\": 85, \"value\": 4440}, \"4441\": {\"frequency\": 30, \"value\": 4441}, \"4442\": {\"frequency\": 52, \"value\": 4442}, \"4443\": {\"frequency\": 80, \"value\": 4443}, \"4444\": {\"frequency\": 80, \"value\": 4444}, \"4445\": {\"frequency\": 125, \"value\": 4445}, \"4446\": {\"frequency\": 422, \"value\": 4446}, \"4447\": {\"frequency\": 982, \"value\": 4447}, \"4448\": {\"frequency\": 1014, \"value\": 4448}, \"4449\": {\"frequency\": 194, \"value\": 4449}, \"4450\": {\"frequency\": 81, \"value\": 4450}, \"4451\": {\"frequency\": 277, \"value\": 4451}, \"4452\": {\"frequency\": 195, \"value\": 4452}, \"4453\": {\"frequency\": 55, \"value\": 4453}, \"4454\": {\"frequency\": 160, \"value\": 4454}, \"4455\": {\"frequency\": 50, \"value\": 4455}, \"4456\": {\"frequency\": 163, \"value\": 4456}, \"4457\": {\"frequency\": 212, \"value\": 4457}, \"4458\": {\"frequency\": 411, \"value\": 4458}, \"4459\": {\"frequency\": 187, \"value\": 4459}, \"4460\": {\"frequency\": 145, \"value\": 4460}, \"4461\": {\"frequency\": 156, \"value\": 4461}, \"4462\": {\"frequency\": 34, \"value\": 4462}, \"4463\": {\"frequency\": 20, \"value\": 4463}, \"4464\": {\"frequency\": 21, \"value\": 4464}, \"4465\": {\"frequency\": 86, \"value\": 4465}, \"4466\": {\"frequency\": 122, \"value\": 4466}, \"4467\": {\"frequency\": 180, \"value\": 4467}, \"4468\": {\"frequency\": 85, \"value\": 4468}, \"4469\": {\"frequency\": 33, \"value\": 4469}, \"4470\": {\"frequency\": 305, \"value\": 4470}, \"4471\": {\"frequency\": 173, \"value\": 4471}, \"4472\": {\"frequency\": 493, \"value\": 4472}, \"4473\": {\"frequency\": 423, \"value\": 4473}, \"4474\": {\"frequency\": 36, \"value\": 4474}, \"4475\": {\"frequency\": 45, \"value\": 4475}, \"4476\": {\"frequency\": 203, \"value\": 4476}, \"4477\": {\"frequency\": 146, \"value\": 4477}, \"4478\": {\"frequency\": 446, \"value\": 4478}, \"4479\": {\"frequency\": 59, \"value\": 4479}, \"4480\": {\"frequency\": 467, \"value\": 4480}, \"4481\": {\"frequency\": 62, \"value\": 4481}, \"4482\": {\"frequency\": 782, \"value\": 4482}, \"4483\": {\"frequency\": 188, \"value\": 4483}, \"4484\": {\"frequency\": 272, \"value\": 4484}, \"4485\": {\"frequency\": 143, \"value\": 4485}, \"4486\": {\"frequency\": 51, \"value\": 4486}, \"4487\": {\"frequency\": 60, \"value\": 4487}, \"4488\": {\"frequency\": 346, \"value\": 4488}, \"4489\": {\"frequency\": 424, \"value\": 4489}, \"4490\": {\"frequency\": 382, \"value\": 4490}, \"4491\": {\"frequency\": 185, \"value\": 4491}, \"4492\": {\"frequency\": 23, \"value\": 4492}, \"4493\": {\"frequency\": 50, \"value\": 4493}, \"4494\": {\"frequency\": 74, \"value\": 4494}, \"4495\": {\"frequency\": 36, \"value\": 4495}, \"4496\": {\"frequency\": 186, \"value\": 4496}, \"4497\": {\"frequency\": 500, \"value\": 4497}, \"4498\": {\"frequency\": 154, \"value\": 4498}, \"4499\": {\"frequency\": 98, \"value\": 4499}, \"4500\": {\"frequency\": 28, \"value\": 4500}, \"4501\": {\"frequency\": 72, \"value\": 4501}, \"4502\": {\"frequency\": 324, \"value\": 4502}, \"4503\": {\"frequency\": 38, \"value\": 4503}, \"4504\": {\"frequency\": 25, \"value\": 4504}, \"4505\": {\"frequency\": 279, \"value\": 4505}, \"4506\": {\"frequency\": 536, \"value\": 4506}, \"4507\": {\"frequency\": 232, \"value\": 4507}, \"4508\": {\"frequency\": 1211, \"value\": 4508}, \"4509\": {\"frequency\": 210, \"value\": 4509}, \"4510\": {\"frequency\": 1240, \"value\": 4510}, \"4511\": {\"frequency\": 147, \"value\": 4511}, \"4512\": {\"frequency\": 159, \"value\": 4512}, \"4513\": {\"frequency\": 35, \"value\": 4513}, \"4514\": {\"frequency\": 147, \"value\": 4514}, \"4515\": {\"frequency\": 22, \"value\": 4515}, \"4516\": {\"frequency\": 55, \"value\": 4516}, \"4517\": {\"frequency\": 413, \"value\": 4517}, \"4518\": {\"frequency\": 84, \"value\": 4518}, \"4519\": {\"frequency\": 42, \"value\": 4519}, \"4520\": {\"frequency\": 285, \"value\": 4520}, \"4521\": {\"frequency\": 229, \"value\": 4521}, \"4522\": {\"frequency\": 189, \"value\": 4522}, \"4523\": {\"frequency\": 394, \"value\": 4523}, \"4524\": {\"frequency\": 289, \"value\": 4524}, \"4525\": {\"frequency\": 20, \"value\": 4525}, \"4526\": {\"frequency\": 170, \"value\": 4526}, \"4527\": {\"frequency\": 20, \"value\": 4527}, \"4528\": {\"frequency\": 62, \"value\": 4528}, \"4529\": {\"frequency\": 47, \"value\": 4529}, \"4530\": {\"frequency\": 56, \"value\": 4530}, \"4531\": {\"frequency\": 243, \"value\": 4531}, \"4532\": {\"frequency\": 129, \"value\": 4532}, \"4533\": {\"frequency\": 57, \"value\": 4533}, \"4534\": {\"frequency\": 77, \"value\": 4534}, \"4535\": {\"frequency\": 368, \"value\": 4535}, \"4536\": {\"frequency\": 34, \"value\": 4536}, \"4537\": {\"frequency\": 25, \"value\": 4537}, \"4538\": {\"frequency\": 40, \"value\": 4538}, \"4539\": {\"frequency\": 119, \"value\": 4539}, \"4540\": {\"frequency\": 69, \"value\": 4540}, \"4541\": {\"frequency\": 148, \"value\": 4541}, \"4542\": {\"frequency\": 28, \"value\": 4542}, \"4543\": {\"frequency\": 1050, \"value\": 4543}, \"4544\": {\"frequency\": 48, \"value\": 4544}, \"4545\": {\"frequency\": 30, \"value\": 4545}, \"4546\": {\"frequency\": 50, \"value\": 4546}, \"4547\": {\"frequency\": 20, \"value\": 4547}, \"4548\": {\"frequency\": 21, \"value\": 4548}, \"4549\": {\"frequency\": 25, \"value\": 4549}, \"4550\": {\"frequency\": 28, \"value\": 4550}, \"4551\": {\"frequency\": 82, \"value\": 4551}, \"4552\": {\"frequency\": 115, \"value\": 4552}, \"4553\": {\"frequency\": 55, \"value\": 4553}, \"4554\": {\"frequency\": 21, \"value\": 4554}, \"4555\": {\"frequency\": 89, \"value\": 4555}, \"4556\": {\"frequency\": 221, \"value\": 4556}, \"4557\": {\"frequency\": 86, \"value\": 4557}, \"4558\": {\"frequency\": 21, \"value\": 4558}, \"4559\": {\"frequency\": 43, \"value\": 4559}, \"4560\": {\"frequency\": 294, \"value\": 4560}, \"4561\": {\"frequency\": 110, \"value\": 4561}, \"4562\": {\"frequency\": 302, \"value\": 4562}, \"4563\": {\"frequency\": 40, \"value\": 4563}, \"4564\": {\"frequency\": 26, \"value\": 4564}, \"4565\": {\"frequency\": 36, \"value\": 4565}, \"4566\": {\"frequency\": 154, \"value\": 4566}, \"4567\": {\"frequency\": 88, \"value\": 4567}, \"4568\": {\"frequency\": 305, \"value\": 4568}, \"4569\": {\"frequency\": 86, \"value\": 4569}, \"4570\": {\"frequency\": 38, \"value\": 4570}, \"4571\": {\"frequency\": 102, \"value\": 4571}, \"4572\": {\"frequency\": 145, \"value\": 4572}, \"4573\": {\"frequency\": 154, \"value\": 4573}, \"4574\": {\"frequency\": 50, \"value\": 4574}, \"4575\": {\"frequency\": 125, \"value\": 4575}, \"4576\": {\"frequency\": 24, \"value\": 4576}, \"4577\": {\"frequency\": 172, \"value\": 4577}, \"4578\": {\"frequency\": 560, \"value\": 4578}, \"4579\": {\"frequency\": 689, \"value\": 4579}, \"4580\": {\"frequency\": 137, \"value\": 4580}, \"4581\": {\"frequency\": 83, \"value\": 4581}, \"4582\": {\"frequency\": 46, \"value\": 4582}, \"4583\": {\"frequency\": 27, \"value\": 4583}, \"4584\": {\"frequency\": 62, \"value\": 4584}, \"4585\": {\"frequency\": 321, \"value\": 4585}, \"4586\": {\"frequency\": 52, \"value\": 4586}, \"4587\": {\"frequency\": 44, \"value\": 4587}, \"4588\": {\"frequency\": 47, \"value\": 4588}, \"4589\": {\"frequency\": 108, \"value\": 4589}, \"4590\": {\"frequency\": 50, \"value\": 4590}, \"4591\": {\"frequency\": 480, \"value\": 4591}, \"4592\": {\"frequency\": 224, \"value\": 4592}, \"4593\": {\"frequency\": 300, \"value\": 4593}, \"4594\": {\"frequency\": 36, \"value\": 4594}, \"4595\": {\"frequency\": 76, \"value\": 4595}, \"4596\": {\"frequency\": 206, \"value\": 4596}, \"4597\": {\"frequency\": 22, \"value\": 4597}, \"4598\": {\"frequency\": 106, \"value\": 4598}, \"4599\": {\"frequency\": 47, \"value\": 4599}, \"4600\": {\"frequency\": 260, \"value\": 4600}, \"4601\": {\"frequency\": 129, \"value\": 4601}, \"4602\": {\"frequency\": 76, \"value\": 4602}, \"4603\": {\"frequency\": 37, \"value\": 4603}, \"4604\": {\"frequency\": 76, \"value\": 4604}, \"4605\": {\"frequency\": 203, \"value\": 4605}, \"4606\": {\"frequency\": 106, \"value\": 4606}, \"4607\": {\"frequency\": 504, \"value\": 4607}, \"4608\": {\"frequency\": 76, \"value\": 4608}, \"4609\": {\"frequency\": 264, \"value\": 4609}, \"4610\": {\"frequency\": 160, \"value\": 4610}, \"4611\": {\"frequency\": 370, \"value\": 4611}, \"4612\": {\"frequency\": 40, \"value\": 4612}, \"4613\": {\"frequency\": 82, \"value\": 4613}, \"4614\": {\"frequency\": 21, \"value\": 4614}, \"4615\": {\"frequency\": 148, \"value\": 4615}, \"4616\": {\"frequency\": 34, \"value\": 4616}, \"4617\": {\"frequency\": 73, \"value\": 4617}, \"4618\": {\"frequency\": 76, \"value\": 4618}, \"4619\": {\"frequency\": 153, \"value\": 4619}, \"4620\": {\"frequency\": 132, \"value\": 4620}, \"4621\": {\"frequency\": 189, \"value\": 4621}, \"4622\": {\"frequency\": 23, \"value\": 4622}, \"4623\": {\"frequency\": 38, \"value\": 4623}, \"4624\": {\"frequency\": 61, \"value\": 4624}, \"4625\": {\"frequency\": 81, \"value\": 4625}, \"4626\": {\"frequency\": 386, \"value\": 4626}, \"4627\": {\"frequency\": 103, \"value\": 4627}, \"4628\": {\"frequency\": 20, \"value\": 4628}, \"4629\": {\"frequency\": 32, \"value\": 4629}, \"4630\": {\"frequency\": 29, \"value\": 4630}, \"4631\": {\"frequency\": 129, \"value\": 4631}, \"4632\": {\"frequency\": 56, \"value\": 4632}, \"4633\": {\"frequency\": 81, \"value\": 4633}, \"4634\": {\"frequency\": 102, \"value\": 4634}, \"4635\": {\"frequency\": 314, \"value\": 4635}, \"4636\": {\"frequency\": 25, \"value\": 4636}, \"4637\": {\"frequency\": 378, \"value\": 4637}, \"4638\": {\"frequency\": 37, \"value\": 4638}, \"4639\": {\"frequency\": 52, \"value\": 4639}, \"4640\": {\"frequency\": 152, \"value\": 4640}, \"4641\": {\"frequency\": 40, \"value\": 4641}, \"4642\": {\"frequency\": 33, \"value\": 4642}, \"4643\": {\"frequency\": 201, \"value\": 4643}, \"4644\": {\"frequency\": 143, \"value\": 4644}, \"4645\": {\"frequency\": 126, \"value\": 4645}, \"4646\": {\"frequency\": 39, \"value\": 4646}, \"4647\": {\"frequency\": 893, \"value\": 4647}, \"4648\": {\"frequency\": 37, \"value\": 4648}, \"4649\": {\"frequency\": 33, \"value\": 4649}, \"4650\": {\"frequency\": 144, \"value\": 4650}, \"4651\": {\"frequency\": 42, \"value\": 4651}, \"4652\": {\"frequency\": 50, \"value\": 4652}, \"4653\": {\"frequency\": 404, \"value\": 4653}, \"4654\": {\"frequency\": 80, \"value\": 4654}, \"4655\": {\"frequency\": 342, \"value\": 4655}, \"4656\": {\"frequency\": 219, \"value\": 4656}, \"4657\": {\"frequency\": 32, \"value\": 4657}, \"4658\": {\"frequency\": 556, \"value\": 4658}, \"4659\": {\"frequency\": 204, \"value\": 4659}, \"4660\": {\"frequency\": 41, \"value\": 4660}, \"4661\": {\"frequency\": 204, \"value\": 4661}, \"4662\": {\"frequency\": 175, \"value\": 4662}, \"4663\": {\"frequency\": 393, \"value\": 4663}, \"4664\": {\"frequency\": 38, \"value\": 4664}, \"4665\": {\"frequency\": 22, \"value\": 4665}, \"4666\": {\"frequency\": 354, \"value\": 4666}, \"4667\": {\"frequency\": 37, \"value\": 4667}, \"4668\": {\"frequency\": 32, \"value\": 4668}, \"4669\": {\"frequency\": 45, \"value\": 4669}, \"4670\": {\"frequency\": 103, \"value\": 4670}, \"4671\": {\"frequency\": 167, \"value\": 4671}, \"4672\": {\"frequency\": 23, \"value\": 4672}, \"4673\": {\"frequency\": 528, \"value\": 4673}, \"4674\": {\"frequency\": 95, \"value\": 4674}, \"4675\": {\"frequency\": 333, \"value\": 4675}, \"4676\": {\"frequency\": 33, \"value\": 4676}, \"4677\": {\"frequency\": 22, \"value\": 4677}, \"4678\": {\"frequency\": 86, \"value\": 4678}, \"4679\": {\"frequency\": 62, \"value\": 4679}, \"4680\": {\"frequency\": 322, \"value\": 4680}, \"4681\": {\"frequency\": 162, \"value\": 4681}, \"4682\": {\"frequency\": 784, \"value\": 4682}, \"4683\": {\"frequency\": 66, \"value\": 4683}, \"4684\": {\"frequency\": 64, \"value\": 4684}, \"4685\": {\"frequency\": 169, \"value\": 4685}, \"4686\": {\"frequency\": 91, \"value\": 4686}, \"4687\": {\"frequency\": 116, \"value\": 4687}, \"4688\": {\"frequency\": 132, \"value\": 4688}, \"4689\": {\"frequency\": 72, \"value\": 4689}, \"4690\": {\"frequency\": 74, \"value\": 4690}, \"4691\": {\"frequency\": 76, \"value\": 4691}, \"4692\": {\"frequency\": 33, \"value\": 4692}, \"4693\": {\"frequency\": 49, \"value\": 4693}, \"4694\": {\"frequency\": 70, \"value\": 4694}, \"4695\": {\"frequency\": 30, \"value\": 4695}, \"4696\": {\"frequency\": 27, \"value\": 4696}, \"4697\": {\"frequency\": 148, \"value\": 4697}, \"4698\": {\"frequency\": 27, \"value\": 4698}, \"4699\": {\"frequency\": 169, \"value\": 4699}, \"4700\": {\"frequency\": 162, \"value\": 4700}, \"4701\": {\"frequency\": 63, \"value\": 4701}, \"4702\": {\"frequency\": 44, \"value\": 4702}, \"4703\": {\"frequency\": 23, \"value\": 4703}, \"4704\": {\"frequency\": 328, \"value\": 4704}, \"4705\": {\"frequency\": 224, \"value\": 4705}, \"4706\": {\"frequency\": 108, \"value\": 4706}, \"4707\": {\"frequency\": 41, \"value\": 4707}, \"4708\": {\"frequency\": 406, \"value\": 4708}, \"4709\": {\"frequency\": 56, \"value\": 4709}, \"4710\": {\"frequency\": 35, \"value\": 4710}, \"4711\": {\"frequency\": 124, \"value\": 4711}, \"4712\": {\"frequency\": 37, \"value\": 4712}, \"4713\": {\"frequency\": 66, \"value\": 4713}, \"4714\": {\"frequency\": 62, \"value\": 4714}, \"4715\": {\"frequency\": 509, \"value\": 4715}, \"4716\": {\"frequency\": 68, \"value\": 4716}, \"4717\": {\"frequency\": 81, \"value\": 4717}, \"4718\": {\"frequency\": 138, \"value\": 4718}, \"4719\": {\"frequency\": 32, \"value\": 4719}, \"4720\": {\"frequency\": 47, \"value\": 4720}, \"4721\": {\"frequency\": 71, \"value\": 4721}, \"4722\": {\"frequency\": 31, \"value\": 4722}, \"4723\": {\"frequency\": 33, \"value\": 4723}, \"4724\": {\"frequency\": 33, \"value\": 4724}, \"4725\": {\"frequency\": 1006, \"value\": 4725}, \"4726\": {\"frequency\": 283, \"value\": 4726}, \"4727\": {\"frequency\": 55, \"value\": 4727}, \"4728\": {\"frequency\": 698, \"value\": 4728}, \"4729\": {\"frequency\": 235, \"value\": 4729}, \"4730\": {\"frequency\": 27, \"value\": 4730}, \"4731\": {\"frequency\": 55, \"value\": 4731}, \"4732\": {\"frequency\": 685, \"value\": 4732}, \"4733\": {\"frequency\": 104, \"value\": 4733}, \"4734\": {\"frequency\": 171, \"value\": 4734}, \"4735\": {\"frequency\": 106, \"value\": 4735}, \"4736\": {\"frequency\": 318, \"value\": 4736}, \"4737\": {\"frequency\": 109, \"value\": 4737}, \"4738\": {\"frequency\": 195, \"value\": 4738}, \"4739\": {\"frequency\": 107, \"value\": 4739}, \"4740\": {\"frequency\": 51, \"value\": 4740}, \"4741\": {\"frequency\": 22, \"value\": 4741}, \"4742\": {\"frequency\": 249, \"value\": 4742}, \"4743\": {\"frequency\": 30, \"value\": 4743}, \"4744\": {\"frequency\": 66, \"value\": 4744}, \"4745\": {\"frequency\": 103, \"value\": 4745}, \"4746\": {\"frequency\": 96, \"value\": 4746}, \"4747\": {\"frequency\": 240, \"value\": 4747}, \"4748\": {\"frequency\": 363, \"value\": 4748}, \"4749\": {\"frequency\": 20, \"value\": 4749}, \"4750\": {\"frequency\": 254, \"value\": 4750}, \"4751\": {\"frequency\": 29, \"value\": 4751}, \"4752\": {\"frequency\": 24, \"value\": 4752}, \"4753\": {\"frequency\": 63, \"value\": 4753}, \"4754\": {\"frequency\": 248, \"value\": 4754}, \"4755\": {\"frequency\": 25, \"value\": 4755}, \"4756\": {\"frequency\": 27, \"value\": 4756}, \"4757\": {\"frequency\": 97, \"value\": 4757}, \"4758\": {\"frequency\": 25, \"value\": 4758}, \"4759\": {\"frequency\": 49, \"value\": 4759}, \"4760\": {\"frequency\": 57, \"value\": 4760}, \"4761\": {\"frequency\": 39, \"value\": 4761}, \"4762\": {\"frequency\": 73, \"value\": 4762}, \"4763\": {\"frequency\": 57, \"value\": 4763}, \"4764\": {\"frequency\": 40, \"value\": 4764}, \"4765\": {\"frequency\": 267, \"value\": 4765}, \"4766\": {\"frequency\": 42, \"value\": 4766}, \"4767\": {\"frequency\": 47, \"value\": 4767}, \"4768\": {\"frequency\": 72, \"value\": 4768}, \"4769\": {\"frequency\": 65, \"value\": 4769}, \"4770\": {\"frequency\": 33, \"value\": 4770}, \"4771\": {\"frequency\": 513, \"value\": 4771}, \"4772\": {\"frequency\": 100, \"value\": 4772}, \"4773\": {\"frequency\": 103, \"value\": 4773}, \"4774\": {\"frequency\": 194, \"value\": 4774}, \"4775\": {\"frequency\": 20, \"value\": 4775}, \"4776\": {\"frequency\": 25, \"value\": 4776}, \"4777\": {\"frequency\": 37, \"value\": 4777}, \"4778\": {\"frequency\": 36, \"value\": 4778}, \"4779\": {\"frequency\": 213, \"value\": 4779}, \"4780\": {\"frequency\": 110, \"value\": 4780}, \"4781\": {\"frequency\": 43, \"value\": 4781}, \"4782\": {\"frequency\": 117, \"value\": 4782}, \"4783\": {\"frequency\": 55, \"value\": 4783}, \"4784\": {\"frequency\": 409, \"value\": 4784}, \"4785\": {\"frequency\": 271, \"value\": 4785}, \"4786\": {\"frequency\": 390, \"value\": 4786}, \"4787\": {\"frequency\": 30, \"value\": 4787}, \"4788\": {\"frequency\": 303, \"value\": 4788}, \"4789\": {\"frequency\": 270, \"value\": 4789}, \"4790\": {\"frequency\": 378, \"value\": 4790}, \"4791\": {\"frequency\": 250, \"value\": 4791}, \"4792\": {\"frequency\": 25, \"value\": 4792}, \"4793\": {\"frequency\": 173, \"value\": 4793}, \"4794\": {\"frequency\": 102, \"value\": 4794}, \"4795\": {\"frequency\": 116, \"value\": 4795}, \"4796\": {\"frequency\": 341, \"value\": 4796}, \"4797\": {\"frequency\": 57, \"value\": 4797}, \"4798\": {\"frequency\": 119, \"value\": 4798}, \"4799\": {\"frequency\": 58, \"value\": 4799}, \"4800\": {\"frequency\": 253, \"value\": 4800}, \"4801\": {\"frequency\": 196, \"value\": 4801}, \"4802\": {\"frequency\": 640, \"value\": 4802}, \"4803\": {\"frequency\": 37, \"value\": 4803}, \"4804\": {\"frequency\": 47, \"value\": 4804}, \"4805\": {\"frequency\": 35, \"value\": 4805}, \"4806\": {\"frequency\": 159, \"value\": 4806}, \"4807\": {\"frequency\": 92, \"value\": 4807}, \"4808\": {\"frequency\": 939, \"value\": 4808}, \"4809\": {\"frequency\": 178, \"value\": 4809}, \"4810\": {\"frequency\": 197, \"value\": 4810}, \"4811\": {\"frequency\": 42, \"value\": 4811}, \"4812\": {\"frequency\": 127, \"value\": 4812}, \"4813\": {\"frequency\": 104, \"value\": 4813}, \"4814\": {\"frequency\": 165, \"value\": 4814}, \"4815\": {\"frequency\": 222, \"value\": 4815}, \"4816\": {\"frequency\": 372, \"value\": 4816}, \"4817\": {\"frequency\": 92, \"value\": 4817}, \"4818\": {\"frequency\": 50, \"value\": 4818}, \"4819\": {\"frequency\": 546, \"value\": 4819}, \"4820\": {\"frequency\": 36, \"value\": 4820}, \"4821\": {\"frequency\": 234, \"value\": 4821}, \"4822\": {\"frequency\": 28, \"value\": 4822}, \"4823\": {\"frequency\": 470, \"value\": 4823}, \"4824\": {\"frequency\": 227, \"value\": 4824}, \"4825\": {\"frequency\": 49, \"value\": 4825}, \"4826\": {\"frequency\": 163, \"value\": 4826}, \"4827\": {\"frequency\": 72, \"value\": 4827}, \"4828\": {\"frequency\": 100, \"value\": 4828}, \"4829\": {\"frequency\": 323, \"value\": 4829}, \"4830\": {\"frequency\": 114, \"value\": 4830}, \"4831\": {\"frequency\": 237, \"value\": 4831}, \"4832\": {\"frequency\": 131, \"value\": 4832}, \"4833\": {\"frequency\": 81, \"value\": 4833}, \"4834\": {\"frequency\": 280, \"value\": 4834}, \"4835\": {\"frequency\": 83, \"value\": 4835}, \"4836\": {\"frequency\": 65, \"value\": 4836}, \"4837\": {\"frequency\": 328, \"value\": 4837}, \"4838\": {\"frequency\": 39, \"value\": 4838}, \"4839\": {\"frequency\": 23, \"value\": 4839}, \"4840\": {\"frequency\": 72, \"value\": 4840}, \"4841\": {\"frequency\": 92, \"value\": 4841}, \"4842\": {\"frequency\": 69, \"value\": 4842}, \"4843\": {\"frequency\": 116, \"value\": 4843}, \"4844\": {\"frequency\": 29, \"value\": 4844}, \"4845\": {\"frequency\": 153, \"value\": 4845}, \"4846\": {\"frequency\": 30, \"value\": 4846}, \"4847\": {\"frequency\": 72, \"value\": 4847}, \"4848\": {\"frequency\": 54, \"value\": 4848}, \"4849\": {\"frequency\": 157, \"value\": 4849}, \"4850\": {\"frequency\": 37, \"value\": 4850}, \"4851\": {\"frequency\": 24, \"value\": 4851}, \"4852\": {\"frequency\": 243, \"value\": 4852}, \"4853\": {\"frequency\": 38, \"value\": 4853}, \"4854\": {\"frequency\": 164, \"value\": 4854}, \"4855\": {\"frequency\": 219, \"value\": 4855}, \"4856\": {\"frequency\": 79, \"value\": 4856}, \"4857\": {\"frequency\": 61, \"value\": 4857}, \"4858\": {\"frequency\": 113, \"value\": 4858}, \"4859\": {\"frequency\": 43, \"value\": 4859}, \"4860\": {\"frequency\": 48, \"value\": 4860}, \"4861\": {\"frequency\": 197, \"value\": 4861}, \"4862\": {\"frequency\": 94, \"value\": 4862}, \"4863\": {\"frequency\": 31, \"value\": 4863}, \"4864\": {\"frequency\": 33, \"value\": 4864}, \"4865\": {\"frequency\": 246, \"value\": 4865}, \"4866\": {\"frequency\": 75, \"value\": 4866}, \"4867\": {\"frequency\": 622, \"value\": 4867}, \"4868\": {\"frequency\": 179, \"value\": 4868}, \"4869\": {\"frequency\": 285, \"value\": 4869}, \"4870\": {\"frequency\": 116, \"value\": 4870}, \"4871\": {\"frequency\": 21, \"value\": 4871}, \"4872\": {\"frequency\": 41, \"value\": 4872}, \"4873\": {\"frequency\": 28, \"value\": 4873}, \"4874\": {\"frequency\": 31, \"value\": 4874}, \"4875\": {\"frequency\": 100, \"value\": 4875}, \"4876\": {\"frequency\": 36, \"value\": 4876}, \"4877\": {\"frequency\": 95, \"value\": 4877}, \"4878\": {\"frequency\": 43, \"value\": 4878}, \"4879\": {\"frequency\": 467, \"value\": 4879}, \"4880\": {\"frequency\": 21, \"value\": 4880}, \"4881\": {\"frequency\": 22, \"value\": 4881}, \"4882\": {\"frequency\": 203, \"value\": 4882}, \"4883\": {\"frequency\": 50, \"value\": 4883}, \"4884\": {\"frequency\": 388, \"value\": 4884}, \"4885\": {\"frequency\": 30, \"value\": 4885}, \"4886\": {\"frequency\": 102, \"value\": 4886}, \"4887\": {\"frequency\": 420, \"value\": 4887}, \"4888\": {\"frequency\": 299, \"value\": 4888}, \"4889\": {\"frequency\": 262, \"value\": 4889}, \"4890\": {\"frequency\": 171, \"value\": 4890}, \"4891\": {\"frequency\": 28, \"value\": 4891}, \"4892\": {\"frequency\": 120, \"value\": 4892}, \"4893\": {\"frequency\": 90, \"value\": 4893}, \"4894\": {\"frequency\": 41, \"value\": 4894}, \"4895\": {\"frequency\": 68, \"value\": 4895}, \"4896\": {\"frequency\": 41, \"value\": 4896}, \"4897\": {\"frequency\": 400, \"value\": 4897}, \"4898\": {\"frequency\": 239, \"value\": 4898}, \"4899\": {\"frequency\": 245, \"value\": 4899}, \"4900\": {\"frequency\": 23, \"value\": 4900}, \"4901\": {\"frequency\": 191, \"value\": 4901}, \"4902\": {\"frequency\": 135, \"value\": 4902}, \"4903\": {\"frequency\": 55, \"value\": 4903}, \"4904\": {\"frequency\": 404, \"value\": 4904}, \"4905\": {\"frequency\": 100, \"value\": 4905}, \"4906\": {\"frequency\": 241, \"value\": 4906}, \"4907\": {\"frequency\": 184, \"value\": 4907}, \"4908\": {\"frequency\": 114, \"value\": 4908}, \"4909\": {\"frequency\": 138, \"value\": 4909}, \"4910\": {\"frequency\": 50, \"value\": 4910}, \"4911\": {\"frequency\": 81, \"value\": 4911}, \"4912\": {\"frequency\": 22, \"value\": 4912}, \"4913\": {\"frequency\": 45, \"value\": 4913}, \"4914\": {\"frequency\": 52, \"value\": 4914}, \"4915\": {\"frequency\": 107, \"value\": 4915}, \"4916\": {\"frequency\": 170, \"value\": 4916}, \"4917\": {\"frequency\": 238, \"value\": 4917}, \"4918\": {\"frequency\": 301, \"value\": 4918}, \"4919\": {\"frequency\": 37, \"value\": 4919}, \"4920\": {\"frequency\": 50, \"value\": 4920}, \"4921\": {\"frequency\": 207, \"value\": 4921}, \"4922\": {\"frequency\": 191, \"value\": 4922}, \"4923\": {\"frequency\": 32, \"value\": 4923}, \"4924\": {\"frequency\": 41, \"value\": 4924}, \"4925\": {\"frequency\": 42, \"value\": 4925}, \"4926\": {\"frequency\": 23, \"value\": 4926}, \"4927\": {\"frequency\": 126, \"value\": 4927}, \"4928\": {\"frequency\": 329, \"value\": 4928}, \"4929\": {\"frequency\": 42, \"value\": 4929}, \"4930\": {\"frequency\": 96, \"value\": 4930}, \"4931\": {\"frequency\": 80, \"value\": 4931}, \"4932\": {\"frequency\": 332, \"value\": 4932}, \"4933\": {\"frequency\": 302, \"value\": 4933}, \"4934\": {\"frequency\": 179, \"value\": 4934}, \"4935\": {\"frequency\": 22, \"value\": 4935}, \"4936\": {\"frequency\": 40, \"value\": 4936}, \"4937\": {\"frequency\": 214, \"value\": 4937}, \"4938\": {\"frequency\": 37, \"value\": 4938}, \"4939\": {\"frequency\": 174, \"value\": 4939}, \"4940\": {\"frequency\": 284, \"value\": 4940}, \"4941\": {\"frequency\": 34, \"value\": 4941}, \"4942\": {\"frequency\": 276, \"value\": 4942}, \"4943\": {\"frequency\": 21, \"value\": 4943}, \"4944\": {\"frequency\": 22, \"value\": 4944}, \"4945\": {\"frequency\": 144, \"value\": 4945}, \"4946\": {\"frequency\": 257, \"value\": 4946}, \"4947\": {\"frequency\": 100, \"value\": 4947}, \"4948\": {\"frequency\": 507, \"value\": 4948}, \"4949\": {\"frequency\": 38, \"value\": 4949}, \"4950\": {\"frequency\": 474, \"value\": 4950}, \"4951\": {\"frequency\": 312, \"value\": 4951}, \"4952\": {\"frequency\": 100, \"value\": 4952}, \"4953\": {\"frequency\": 217, \"value\": 4953}, \"4954\": {\"frequency\": 122, \"value\": 4954}, \"4955\": {\"frequency\": 28, \"value\": 4955}, \"4956\": {\"frequency\": 253, \"value\": 4956}, \"4957\": {\"frequency\": 744, \"value\": 4957}, \"4958\": {\"frequency\": 451, \"value\": 4958}, \"4959\": {\"frequency\": 188, \"value\": 4959}, \"4960\": {\"frequency\": 75, \"value\": 4960}, \"4961\": {\"frequency\": 177, \"value\": 4961}, \"4962\": {\"frequency\": 217, \"value\": 4962}, \"4963\": {\"frequency\": 114, \"value\": 4963}, \"4964\": {\"frequency\": 403, \"value\": 4964}, \"4965\": {\"frequency\": 144, \"value\": 4965}, \"4966\": {\"frequency\": 48, \"value\": 4966}, \"4967\": {\"frequency\": 104, \"value\": 4967}, \"4968\": {\"frequency\": 28, \"value\": 4968}, \"4969\": {\"frequency\": 29, \"value\": 4969}, \"4970\": {\"frequency\": 29, \"value\": 4970}, \"4971\": {\"frequency\": 28, \"value\": 4971}, \"4972\": {\"frequency\": 329, \"value\": 4972}, \"4973\": {\"frequency\": 149, \"value\": 4973}, \"4974\": {\"frequency\": 28, \"value\": 4974}, \"4975\": {\"frequency\": 175, \"value\": 4975}, \"4976\": {\"frequency\": 58, \"value\": 4976}, \"4977\": {\"frequency\": 183, \"value\": 4977}, \"4978\": {\"frequency\": 72, \"value\": 4978}, \"4979\": {\"frequency\": 882, \"value\": 4979}, \"4980\": {\"frequency\": 213, \"value\": 4980}, \"4981\": {\"frequency\": 307, \"value\": 4981}, \"4982\": {\"frequency\": 37, \"value\": 4982}, \"4983\": {\"frequency\": 143, \"value\": 4983}, \"4984\": {\"frequency\": 205, \"value\": 4984}, \"4985\": {\"frequency\": 152, \"value\": 4985}, \"4986\": {\"frequency\": 27, \"value\": 4986}, \"4987\": {\"frequency\": 52, \"value\": 4987}, \"4988\": {\"frequency\": 26, \"value\": 4988}, \"4989\": {\"frequency\": 77, \"value\": 4989}, \"4990\": {\"frequency\": 61, \"value\": 4990}, \"4991\": {\"frequency\": 20, \"value\": 4991}, \"4992\": {\"frequency\": 21, \"value\": 4992}, \"4993\": {\"frequency\": 47, \"value\": 4993}, \"4994\": {\"frequency\": 135, \"value\": 4994}, \"4995\": {\"frequency\": 356, \"value\": 4995}, \"4996\": {\"frequency\": 28, \"value\": 4996}, \"4997\": {\"frequency\": 56, \"value\": 4997}, \"4998\": {\"frequency\": 79, \"value\": 4998}, \"4999\": {\"frequency\": 68, \"value\": 4999}, \"5000\": {\"frequency\": 401, \"value\": 5000}, \"5001\": {\"frequency\": 225, \"value\": 5001}, \"5002\": {\"frequency\": 265, \"value\": 5002}, \"5003\": {\"frequency\": 33, \"value\": 5003}, \"5004\": {\"frequency\": 41, \"value\": 5004}, \"5005\": {\"frequency\": 429, \"value\": 5005}, \"5006\": {\"frequency\": 45, \"value\": 5006}, \"5007\": {\"frequency\": 23, \"value\": 5007}, \"5008\": {\"frequency\": 209, \"value\": 5008}, \"5009\": {\"frequency\": 63, \"value\": 5009}, \"5010\": {\"frequency\": 52, \"value\": 5010}, \"5011\": {\"frequency\": 559, \"value\": 5011}, \"5012\": {\"frequency\": 20, \"value\": 5012}, \"5013\": {\"frequency\": 70, \"value\": 5013}, \"5014\": {\"frequency\": 144, \"value\": 5014}, \"5015\": {\"frequency\": 644, \"value\": 5015}, \"5016\": {\"frequency\": 96, \"value\": 5016}, \"5017\": {\"frequency\": 39, \"value\": 5017}, \"5018\": {\"frequency\": 247, \"value\": 5018}, \"5019\": {\"frequency\": 177, \"value\": 5019}, \"5020\": {\"frequency\": 109, \"value\": 5020}, \"5021\": {\"frequency\": 185, \"value\": 5021}, \"5022\": {\"frequency\": 35, \"value\": 5022}, \"5023\": {\"frequency\": 120, \"value\": 5023}, \"5024\": {\"frequency\": 77, \"value\": 5024}, \"5025\": {\"frequency\": 125, \"value\": 5025}, \"5026\": {\"frequency\": 874, \"value\": 5026}, \"5027\": {\"frequency\": 20, \"value\": 5027}, \"5028\": {\"frequency\": 23, \"value\": 5028}, \"5029\": {\"frequency\": 160, \"value\": 5029}, \"5030\": {\"frequency\": 28, \"value\": 5030}, \"5031\": {\"frequency\": 61, \"value\": 5031}, \"5032\": {\"frequency\": 103, \"value\": 5032}, \"5033\": {\"frequency\": 48, \"value\": 5033}, \"5034\": {\"frequency\": 141, \"value\": 5034}, \"5035\": {\"frequency\": 249, \"value\": 5035}, \"5036\": {\"frequency\": 48, \"value\": 5036}, \"5037\": {\"frequency\": 105, \"value\": 5037}, \"5038\": {\"frequency\": 210, \"value\": 5038}, \"5039\": {\"frequency\": 360, \"value\": 5039}, \"5040\": {\"frequency\": 111, \"value\": 5040}, \"5041\": {\"frequency\": 114, \"value\": 5041}, \"5042\": {\"frequency\": 368, \"value\": 5042}, \"5043\": {\"frequency\": 25, \"value\": 5043}, \"5044\": {\"frequency\": 137, \"value\": 5044}, \"5045\": {\"frequency\": 34, \"value\": 5045}, \"5046\": {\"frequency\": 868, \"value\": 5046}, \"5047\": {\"frequency\": 319, \"value\": 5047}, \"5048\": {\"frequency\": 89, \"value\": 5048}, \"5049\": {\"frequency\": 192, \"value\": 5049}, \"5050\": {\"frequency\": 85, \"value\": 5050}, \"5051\": {\"frequency\": 30, \"value\": 5051}, \"5052\": {\"frequency\": 21, \"value\": 5052}, \"5053\": {\"frequency\": 231, \"value\": 5053}, \"5054\": {\"frequency\": 715, \"value\": 5054}, \"5055\": {\"frequency\": 42, \"value\": 5055}, \"5056\": {\"frequency\": 194, \"value\": 5056}, \"5057\": {\"frequency\": 74, \"value\": 5057}, \"5058\": {\"frequency\": 47, \"value\": 5058}, \"5059\": {\"frequency\": 136, \"value\": 5059}, \"5060\": {\"frequency\": 81, \"value\": 5060}, \"5061\": {\"frequency\": 211, \"value\": 5061}, \"5062\": {\"frequency\": 24, \"value\": 5062}, \"5063\": {\"frequency\": 113, \"value\": 5063}, \"5064\": {\"frequency\": 99, \"value\": 5064}, \"5065\": {\"frequency\": 265, \"value\": 5065}, \"5066\": {\"frequency\": 33, \"value\": 5066}, \"5067\": {\"frequency\": 35, \"value\": 5067}, \"5068\": {\"frequency\": 55, \"value\": 5068}, \"5069\": {\"frequency\": 25, \"value\": 5069}, \"5070\": {\"frequency\": 488, \"value\": 5070}, \"5071\": {\"frequency\": 81, \"value\": 5071}, \"5072\": {\"frequency\": 59, \"value\": 5072}, \"5073\": {\"frequency\": 25, \"value\": 5073}, \"5074\": {\"frequency\": 761, \"value\": 5074}, \"5075\": {\"frequency\": 58, \"value\": 5075}, \"5076\": {\"frequency\": 109, \"value\": 5076}, \"5077\": {\"frequency\": 424, \"value\": 5077}, \"5078\": {\"frequency\": 60, \"value\": 5078}, \"5079\": {\"frequency\": 63, \"value\": 5079}, \"5080\": {\"frequency\": 69, \"value\": 5080}, \"5081\": {\"frequency\": 101, \"value\": 5081}, \"5082\": {\"frequency\": 232, \"value\": 5082}, \"5083\": {\"frequency\": 285, \"value\": 5083}, \"5084\": {\"frequency\": 266, \"value\": 5084}, \"5085\": {\"frequency\": 221, \"value\": 5085}, \"5086\": {\"frequency\": 161, \"value\": 5086}, \"5087\": {\"frequency\": 296, \"value\": 5087}, \"5088\": {\"frequency\": 31, \"value\": 5088}, \"5089\": {\"frequency\": 33, \"value\": 5089}, \"5090\": {\"frequency\": 420, \"value\": 5090}, \"5091\": {\"frequency\": 304, \"value\": 5091}, \"5092\": {\"frequency\": 71, \"value\": 5092}, \"5093\": {\"frequency\": 49, \"value\": 5093}, \"5094\": {\"frequency\": 59, \"value\": 5094}, \"5095\": {\"frequency\": 43, \"value\": 5095}, \"5096\": {\"frequency\": 268, \"value\": 5096}, \"5097\": {\"frequency\": 133, \"value\": 5097}, \"5098\": {\"frequency\": 197, \"value\": 5098}, \"5099\": {\"frequency\": 203, \"value\": 5099}, \"5100\": {\"frequency\": 853, \"value\": 5100}, \"5101\": {\"frequency\": 49, \"value\": 5101}, \"5102\": {\"frequency\": 144, \"value\": 5102}, \"5103\": {\"frequency\": 305, \"value\": 5103}, \"5104\": {\"frequency\": 54, \"value\": 5104}, \"5105\": {\"frequency\": 98, \"value\": 5105}, \"5106\": {\"frequency\": 74, \"value\": 5106}, \"5107\": {\"frequency\": 606, \"value\": 5107}, \"5108\": {\"frequency\": 371, \"value\": 5108}, \"5109\": {\"frequency\": 131, \"value\": 5109}, \"5110\": {\"frequency\": 25, \"value\": 5110}, \"5111\": {\"frequency\": 800, \"value\": 5111}, \"5112\": {\"frequency\": 317, \"value\": 5112}, \"5113\": {\"frequency\": 546, \"value\": 5113}, \"5114\": {\"frequency\": 149, \"value\": 5114}, \"5115\": {\"frequency\": 40, \"value\": 5115}, \"5116\": {\"frequency\": 21, \"value\": 5116}, \"5117\": {\"frequency\": 21, \"value\": 5117}, \"5118\": {\"frequency\": 120, \"value\": 5118}, \"5119\": {\"frequency\": 24, \"value\": 5119}, \"5120\": {\"frequency\": 193, \"value\": 5120}, \"5121\": {\"frequency\": 162, \"value\": 5121}, \"5122\": {\"frequency\": 23, \"value\": 5122}, \"5123\": {\"frequency\": 102, \"value\": 5123}, \"5124\": {\"frequency\": 268, \"value\": 5124}, \"5125\": {\"frequency\": 34, \"value\": 5125}, \"5126\": {\"frequency\": 142, \"value\": 5126}, \"5127\": {\"frequency\": 51, \"value\": 5127}, \"5128\": {\"frequency\": 95, \"value\": 5128}, \"5129\": {\"frequency\": 110, \"value\": 5129}, \"5130\": {\"frequency\": 28, \"value\": 5130}, \"5131\": {\"frequency\": 394, \"value\": 5131}, \"5132\": {\"frequency\": 58, \"value\": 5132}, \"5133\": {\"frequency\": 65, \"value\": 5133}, \"5134\": {\"frequency\": 95, \"value\": 5134}, \"5135\": {\"frequency\": 77, \"value\": 5135}, \"5136\": {\"frequency\": 214, \"value\": 5136}, \"5137\": {\"frequency\": 116, \"value\": 5137}, \"5138\": {\"frequency\": 162, \"value\": 5138}, \"5139\": {\"frequency\": 126, \"value\": 5139}, \"5140\": {\"frequency\": 373, \"value\": 5140}, \"5141\": {\"frequency\": 43, \"value\": 5141}, \"5142\": {\"frequency\": 327, \"value\": 5142}, \"5143\": {\"frequency\": 119, \"value\": 5143}, \"5144\": {\"frequency\": 32, \"value\": 5144}, \"5145\": {\"frequency\": 20, \"value\": 5145}, \"5146\": {\"frequency\": 30, \"value\": 5146}, \"5147\": {\"frequency\": 37, \"value\": 5147}, \"5148\": {\"frequency\": 103, \"value\": 5148}, \"5149\": {\"frequency\": 30, \"value\": 5149}, \"5150\": {\"frequency\": 36, \"value\": 5150}, \"5151\": {\"frequency\": 159, \"value\": 5151}, \"5152\": {\"frequency\": 27, \"value\": 5152}, \"5153\": {\"frequency\": 460, \"value\": 5153}, \"5154\": {\"frequency\": 33, \"value\": 5154}, \"5155\": {\"frequency\": 26, \"value\": 5155}, \"5156\": {\"frequency\": 320, \"value\": 5156}, \"5157\": {\"frequency\": 90, \"value\": 5157}, \"5158\": {\"frequency\": 204, \"value\": 5158}, \"5159\": {\"frequency\": 20, \"value\": 5159}, \"5160\": {\"frequency\": 29, \"value\": 5160}, \"5161\": {\"frequency\": 315, \"value\": 5161}, \"5162\": {\"frequency\": 36, \"value\": 5162}, \"5163\": {\"frequency\": 501, \"value\": 5163}, \"5164\": {\"frequency\": 75, \"value\": 5164}, \"5165\": {\"frequency\": 99, \"value\": 5165}, \"5166\": {\"frequency\": 116, \"value\": 5166}, \"5167\": {\"frequency\": 150, \"value\": 5167}, \"5168\": {\"frequency\": 20, \"value\": 5168}, \"5169\": {\"frequency\": 119, \"value\": 5169}, \"5170\": {\"frequency\": 74, \"value\": 5170}, \"5171\": {\"frequency\": 28, \"value\": 5171}, \"5172\": {\"frequency\": 456, \"value\": 5172}, \"5173\": {\"frequency\": 138, \"value\": 5173}, \"5174\": {\"frequency\": 21, \"value\": 5174}, \"5175\": {\"frequency\": 33, \"value\": 5175}, \"5176\": {\"frequency\": 46, \"value\": 5176}, \"5177\": {\"frequency\": 100, \"value\": 5177}, \"5178\": {\"frequency\": 272, \"value\": 5178}, \"5179\": {\"frequency\": 39, \"value\": 5179}, \"5180\": {\"frequency\": 117, \"value\": 5180}, \"5181\": {\"frequency\": 52, \"value\": 5181}, \"5182\": {\"frequency\": 304, \"value\": 5182}, \"5183\": {\"frequency\": 101, \"value\": 5183}, \"5184\": {\"frequency\": 301, \"value\": 5184}, \"5185\": {\"frequency\": 281, \"value\": 5185}, \"5186\": {\"frequency\": 73, \"value\": 5186}, \"5187\": {\"frequency\": 118, \"value\": 5187}, \"5188\": {\"frequency\": 89, \"value\": 5188}, \"5189\": {\"frequency\": 42, \"value\": 5189}, \"5190\": {\"frequency\": 43, \"value\": 5190}, \"5191\": {\"frequency\": 36, \"value\": 5191}, \"5192\": {\"frequency\": 22, \"value\": 5192}, \"5193\": {\"frequency\": 204, \"value\": 5193}, \"5194\": {\"frequency\": 69, \"value\": 5194}, \"5195\": {\"frequency\": 67, \"value\": 5195}, \"5196\": {\"frequency\": 80, \"value\": 5196}, \"5197\": {\"frequency\": 124, \"value\": 5197}, \"5198\": {\"frequency\": 283, \"value\": 5198}, \"5199\": {\"frequency\": 35, \"value\": 5199}, \"5200\": {\"frequency\": 62, \"value\": 5200}, \"5201\": {\"frequency\": 109, \"value\": 5201}, \"5202\": {\"frequency\": 32, \"value\": 5202}, \"5203\": {\"frequency\": 36, \"value\": 5203}, \"5204\": {\"frequency\": 47, \"value\": 5204}, \"5205\": {\"frequency\": 356, \"value\": 5205}, \"5206\": {\"frequency\": 29, \"value\": 5206}, \"5207\": {\"frequency\": 22, \"value\": 5207}, \"5208\": {\"frequency\": 120, \"value\": 5208}, \"5209\": {\"frequency\": 134, \"value\": 5209}, \"5210\": {\"frequency\": 65, \"value\": 5210}, \"5211\": {\"frequency\": 103, \"value\": 5211}, \"5212\": {\"frequency\": 40, \"value\": 5212}, \"5213\": {\"frequency\": 35, \"value\": 5213}, \"5214\": {\"frequency\": 31, \"value\": 5214}, \"5215\": {\"frequency\": 20, \"value\": 5215}, \"5216\": {\"frequency\": 20, \"value\": 5216}, \"5217\": {\"frequency\": 132, \"value\": 5217}, \"5218\": {\"frequency\": 44, \"value\": 5218}, \"5219\": {\"frequency\": 124, \"value\": 5219}, \"5220\": {\"frequency\": 720, \"value\": 5220}, \"5221\": {\"frequency\": 30, \"value\": 5221}, \"5222\": {\"frequency\": 307, \"value\": 5222}, \"5223\": {\"frequency\": 204, \"value\": 5223}, \"5224\": {\"frequency\": 33, \"value\": 5224}, \"5225\": {\"frequency\": 212, \"value\": 5225}, \"5226\": {\"frequency\": 83, \"value\": 5226}, \"5227\": {\"frequency\": 157, \"value\": 5227}, \"5228\": {\"frequency\": 24, \"value\": 5228}, \"5229\": {\"frequency\": 69, \"value\": 5229}, \"5230\": {\"frequency\": 130, \"value\": 5230}, \"5231\": {\"frequency\": 28, \"value\": 5231}, \"5232\": {\"frequency\": 131, \"value\": 5232}, \"5233\": {\"frequency\": 112, \"value\": 5233}, \"5234\": {\"frequency\": 212, \"value\": 5234}, \"5235\": {\"frequency\": 35, \"value\": 5235}, \"5236\": {\"frequency\": 128, \"value\": 5236}, \"5237\": {\"frequency\": 55, \"value\": 5237}, \"5238\": {\"frequency\": 22, \"value\": 5238}, \"5239\": {\"frequency\": 285, \"value\": 5239}, \"5240\": {\"frequency\": 35, \"value\": 5240}, \"5241\": {\"frequency\": 94, \"value\": 5241}, \"5242\": {\"frequency\": 113, \"value\": 5242}, \"5243\": {\"frequency\": 26, \"value\": 5243}, \"5244\": {\"frequency\": 35, \"value\": 5244}, \"5245\": {\"frequency\": 30, \"value\": 5245}, \"5246\": {\"frequency\": 130, \"value\": 5246}, \"5247\": {\"frequency\": 31, \"value\": 5247}, \"5248\": {\"frequency\": 101, \"value\": 5248}, \"5249\": {\"frequency\": 338, \"value\": 5249}, \"5250\": {\"frequency\": 289, \"value\": 5250}, \"5251\": {\"frequency\": 168, \"value\": 5251}, \"5252\": {\"frequency\": 65, \"value\": 5252}, \"5253\": {\"frequency\": 148, \"value\": 5253}, \"5254\": {\"frequency\": 81, \"value\": 5254}, \"5255\": {\"frequency\": 149, \"value\": 5255}, \"5256\": {\"frequency\": 825, \"value\": 5256}, \"5257\": {\"frequency\": 97, \"value\": 5257}, \"5258\": {\"frequency\": 20, \"value\": 5258}, \"5259\": {\"frequency\": 34, \"value\": 5259}, \"5260\": {\"frequency\": 209, \"value\": 5260}, \"5261\": {\"frequency\": 103, \"value\": 5261}, \"5262\": {\"frequency\": 64, \"value\": 5262}, \"5263\": {\"frequency\": 126, \"value\": 5263}, \"5264\": {\"frequency\": 159, \"value\": 5264}, \"5265\": {\"frequency\": 283, \"value\": 5265}, \"5266\": {\"frequency\": 29, \"value\": 5266}, \"5267\": {\"frequency\": 95, \"value\": 5267}, \"5268\": {\"frequency\": 484, \"value\": 5268}, \"5269\": {\"frequency\": 324, \"value\": 5269}, \"5270\": {\"frequency\": 102, \"value\": 5270}, \"5271\": {\"frequency\": 427, \"value\": 5271}, \"5272\": {\"frequency\": 106, \"value\": 5272}, \"5273\": {\"frequency\": 304, \"value\": 5273}, \"5274\": {\"frequency\": 25, \"value\": 5274}, \"5275\": {\"frequency\": 95, \"value\": 5275}, \"5276\": {\"frequency\": 77, \"value\": 5276}, \"5277\": {\"frequency\": 308, \"value\": 5277}, \"5278\": {\"frequency\": 181, \"value\": 5278}, \"5279\": {\"frequency\": 51, \"value\": 5279}, \"5280\": {\"frequency\": 26, \"value\": 5280}, \"5281\": {\"frequency\": 260, \"value\": 5281}, \"5282\": {\"frequency\": 300, \"value\": 5282}, \"5283\": {\"frequency\": 291, \"value\": 5283}, \"5284\": {\"frequency\": 73, \"value\": 5284}, \"5285\": {\"frequency\": 45, \"value\": 5285}, \"5286\": {\"frequency\": 182, \"value\": 5286}, \"5287\": {\"frequency\": 212, \"value\": 5287}, \"5288\": {\"frequency\": 43, \"value\": 5288}, \"5289\": {\"frequency\": 470, \"value\": 5289}, \"5290\": {\"frequency\": 37, \"value\": 5290}, \"5291\": {\"frequency\": 66, \"value\": 5291}, \"5292\": {\"frequency\": 31, \"value\": 5292}, \"5293\": {\"frequency\": 75, \"value\": 5293}, \"5294\": {\"frequency\": 156, \"value\": 5294}, \"5295\": {\"frequency\": 22, \"value\": 5295}, \"5296\": {\"frequency\": 70, \"value\": 5296}, \"5297\": {\"frequency\": 30, \"value\": 5297}, \"5298\": {\"frequency\": 59, \"value\": 5298}, \"5299\": {\"frequency\": 56, \"value\": 5299}, \"5300\": {\"frequency\": 282, \"value\": 5300}, \"5301\": {\"frequency\": 139, \"value\": 5301}, \"5302\": {\"frequency\": 238, \"value\": 5302}, \"5303\": {\"frequency\": 45, \"value\": 5303}, \"5304\": {\"frequency\": 35, \"value\": 5304}, \"5305\": {\"frequency\": 270, \"value\": 5305}, \"5306\": {\"frequency\": 630, \"value\": 5306}, \"5307\": {\"frequency\": 57, \"value\": 5307}, \"5308\": {\"frequency\": 40, \"value\": 5308}, \"5309\": {\"frequency\": 20, \"value\": 5309}, \"5310\": {\"frequency\": 97, \"value\": 5310}, \"5311\": {\"frequency\": 46, \"value\": 5311}, \"5312\": {\"frequency\": 720, \"value\": 5312}, \"5313\": {\"frequency\": 88, \"value\": 5313}, \"5314\": {\"frequency\": 20, \"value\": 5314}, \"5315\": {\"frequency\": 35, \"value\": 5315}, \"5316\": {\"frequency\": 39, \"value\": 5316}, \"5317\": {\"frequency\": 543, \"value\": 5317}, \"5318\": {\"frequency\": 99, \"value\": 5318}, \"5319\": {\"frequency\": 388, \"value\": 5319}, \"5320\": {\"frequency\": 23, \"value\": 5320}, \"5321\": {\"frequency\": 288, \"value\": 5321}, \"5322\": {\"frequency\": 102, \"value\": 5322}, \"5323\": {\"frequency\": 246, \"value\": 5323}, \"5324\": {\"frequency\": 173, \"value\": 5324}, \"5325\": {\"frequency\": 48, \"value\": 5325}, \"5326\": {\"frequency\": 128, \"value\": 5326}, \"5327\": {\"frequency\": 163, \"value\": 5327}, \"5328\": {\"frequency\": 53, \"value\": 5328}, \"5329\": {\"frequency\": 544, \"value\": 5329}, \"5330\": {\"frequency\": 62, \"value\": 5330}, \"5331\": {\"frequency\": 80, \"value\": 5331}, \"5332\": {\"frequency\": 73, \"value\": 5332}, \"5333\": {\"frequency\": 839, \"value\": 5333}, \"5334\": {\"frequency\": 55, \"value\": 5334}, \"5335\": {\"frequency\": 158, \"value\": 5335}, \"5336\": {\"frequency\": 47, \"value\": 5336}, \"5337\": {\"frequency\": 177, \"value\": 5337}, \"5338\": {\"frequency\": 104, \"value\": 5338}, \"5339\": {\"frequency\": 108, \"value\": 5339}, \"5340\": {\"frequency\": 214, \"value\": 5340}, \"5341\": {\"frequency\": 126, \"value\": 5341}, \"5342\": {\"frequency\": 112, \"value\": 5342}, \"5343\": {\"frequency\": 36, \"value\": 5343}, \"5344\": {\"frequency\": 197, \"value\": 5344}, \"5345\": {\"frequency\": 333, \"value\": 5345}, \"5346\": {\"frequency\": 54, \"value\": 5346}, \"5347\": {\"frequency\": 263, \"value\": 5347}, \"5348\": {\"frequency\": 50, \"value\": 5348}, \"5349\": {\"frequency\": 241, \"value\": 5349}, \"5350\": {\"frequency\": 219, \"value\": 5350}, \"5351\": {\"frequency\": 26, \"value\": 5351}, \"5352\": {\"frequency\": 206, \"value\": 5352}, \"5353\": {\"frequency\": 118, \"value\": 5353}, \"5354\": {\"frequency\": 46, \"value\": 5354}, \"5355\": {\"frequency\": 181, \"value\": 5355}, \"5356\": {\"frequency\": 41, \"value\": 5356}, \"5357\": {\"frequency\": 48, \"value\": 5357}, \"5358\": {\"frequency\": 25, \"value\": 5358}, \"5359\": {\"frequency\": 510, \"value\": 5359}, \"5360\": {\"frequency\": 38, \"value\": 5360}, \"5361\": {\"frequency\": 187, \"value\": 5361}, \"5362\": {\"frequency\": 92, \"value\": 5362}, \"5363\": {\"frequency\": 61, \"value\": 5363}, \"5364\": {\"frequency\": 354, \"value\": 5364}, \"5365\": {\"frequency\": 300, \"value\": 5365}, \"5366\": {\"frequency\": 125, \"value\": 5366}, \"5367\": {\"frequency\": 1169, \"value\": 5367}, \"5368\": {\"frequency\": 98, \"value\": 5368}, \"5369\": {\"frequency\": 245, \"value\": 5369}, \"5370\": {\"frequency\": 27, \"value\": 5370}, \"5371\": {\"frequency\": 324, \"value\": 5371}, \"5372\": {\"frequency\": 36, \"value\": 5372}, \"5373\": {\"frequency\": 32, \"value\": 5373}, \"5374\": {\"frequency\": 48, \"value\": 5374}, \"5375\": {\"frequency\": 29, \"value\": 5375}, \"5376\": {\"frequency\": 256, \"value\": 5376}, \"5377\": {\"frequency\": 43, \"value\": 5377}, \"5378\": {\"frequency\": 181, \"value\": 5378}, \"5379\": {\"frequency\": 37, \"value\": 5379}, \"5380\": {\"frequency\": 20, \"value\": 5380}, \"5381\": {\"frequency\": 24, \"value\": 5381}, \"5382\": {\"frequency\": 67, \"value\": 5382}, \"5383\": {\"frequency\": 28, \"value\": 5383}, \"5384\": {\"frequency\": 46, \"value\": 5384}, \"5385\": {\"frequency\": 46, \"value\": 5385}, \"5386\": {\"frequency\": 161, \"value\": 5386}, \"5387\": {\"frequency\": 731, \"value\": 5387}, \"5388\": {\"frequency\": 24, \"value\": 5388}, \"5389\": {\"frequency\": 154, \"value\": 5389}, \"5390\": {\"frequency\": 219, \"value\": 5390}, \"5391\": {\"frequency\": 23, \"value\": 5391}, \"5392\": {\"frequency\": 22, \"value\": 5392}, \"5393\": {\"frequency\": 210, \"value\": 5393}, \"5394\": {\"frequency\": 849, \"value\": 5394}, \"5395\": {\"frequency\": 121, \"value\": 5395}, \"5396\": {\"frequency\": 81, \"value\": 5396}, \"5397\": {\"frequency\": 388, \"value\": 5397}, \"5398\": {\"frequency\": 28, \"value\": 5398}, \"5399\": {\"frequency\": 60, \"value\": 5399}, \"5400\": {\"frequency\": 24, \"value\": 5400}, \"5401\": {\"frequency\": 146, \"value\": 5401}, \"5402\": {\"frequency\": 92, \"value\": 5402}, \"5403\": {\"frequency\": 162, \"value\": 5403}, \"5404\": {\"frequency\": 210, \"value\": 5404}, \"5405\": {\"frequency\": 116, \"value\": 5405}, \"5406\": {\"frequency\": 122, \"value\": 5406}, \"5407\": {\"frequency\": 27, \"value\": 5407}, \"5408\": {\"frequency\": 102, \"value\": 5408}, \"5409\": {\"frequency\": 21, \"value\": 5409}, \"5410\": {\"frequency\": 46, \"value\": 5410}, \"5411\": {\"frequency\": 24, \"value\": 5411}, \"5412\": {\"frequency\": 278, \"value\": 5412}, \"5413\": {\"frequency\": 220, \"value\": 5413}, \"5414\": {\"frequency\": 79, \"value\": 5414}, \"5415\": {\"frequency\": 55, \"value\": 5415}, \"5416\": {\"frequency\": 48, \"value\": 5416}, \"5417\": {\"frequency\": 45, \"value\": 5417}, \"5418\": {\"frequency\": 250, \"value\": 5418}, \"5419\": {\"frequency\": 89, \"value\": 5419}, \"5420\": {\"frequency\": 175, \"value\": 5420}, \"5421\": {\"frequency\": 80, \"value\": 5421}, \"5422\": {\"frequency\": 175, \"value\": 5422}, \"5423\": {\"frequency\": 98, \"value\": 5423}, \"5424\": {\"frequency\": 135, \"value\": 5424}, \"5425\": {\"frequency\": 46, \"value\": 5425}, \"5426\": {\"frequency\": 296, \"value\": 5426}, \"5427\": {\"frequency\": 81, \"value\": 5427}, \"5428\": {\"frequency\": 388, \"value\": 5428}, \"5429\": {\"frequency\": 128, \"value\": 5429}, \"5430\": {\"frequency\": 140, \"value\": 5430}, \"5431\": {\"frequency\": 88, \"value\": 5431}, \"5432\": {\"frequency\": 183, \"value\": 5432}, \"5433\": {\"frequency\": 725, \"value\": 5433}, \"5434\": {\"frequency\": 244, \"value\": 5434}, \"5435\": {\"frequency\": 46, \"value\": 5435}, \"5436\": {\"frequency\": 33, \"value\": 5436}, \"5437\": {\"frequency\": 156, \"value\": 5437}, \"5438\": {\"frequency\": 91, \"value\": 5438}, \"5439\": {\"frequency\": 22, \"value\": 5439}, \"5440\": {\"frequency\": 35, \"value\": 5440}, \"5441\": {\"frequency\": 196, \"value\": 5441}, \"5442\": {\"frequency\": 64, \"value\": 5442}, \"5443\": {\"frequency\": 399, \"value\": 5443}, \"5444\": {\"frequency\": 39, \"value\": 5444}, \"5445\": {\"frequency\": 149, \"value\": 5445}, \"5446\": {\"frequency\": 126, \"value\": 5446}, \"5447\": {\"frequency\": 131, \"value\": 5447}, \"5448\": {\"frequency\": 351, \"value\": 5448}, \"5449\": {\"frequency\": 111, \"value\": 5449}, \"5450\": {\"frequency\": 321, \"value\": 5450}, \"5451\": {\"frequency\": 94, \"value\": 5451}, \"5452\": {\"frequency\": 284, \"value\": 5452}, \"5453\": {\"frequency\": 247, \"value\": 5453}, \"5454\": {\"frequency\": 64, \"value\": 5454}, \"5455\": {\"frequency\": 135, \"value\": 5455}, \"5456\": {\"frequency\": 42, \"value\": 5456}, \"5457\": {\"frequency\": 173, \"value\": 5457}, \"5458\": {\"frequency\": 392, \"value\": 5458}, \"5459\": {\"frequency\": 178, \"value\": 5459}, \"5460\": {\"frequency\": 85, \"value\": 5460}, \"5461\": {\"frequency\": 48, \"value\": 5461}, \"5462\": {\"frequency\": 36, \"value\": 5462}, \"5463\": {\"frequency\": 280, \"value\": 5463}, \"5464\": {\"frequency\": 113, \"value\": 5464}, \"5465\": {\"frequency\": 22, \"value\": 5465}, \"5466\": {\"frequency\": 228, \"value\": 5466}, \"5467\": {\"frequency\": 27, \"value\": 5467}, \"5468\": {\"frequency\": 385, \"value\": 5468}, \"5469\": {\"frequency\": 115, \"value\": 5469}, \"5470\": {\"frequency\": 104, \"value\": 5470}, \"5471\": {\"frequency\": 25, \"value\": 5471}, \"5472\": {\"frequency\": 317, \"value\": 5472}, \"5473\": {\"frequency\": 120, \"value\": 5473}, \"5474\": {\"frequency\": 47, \"value\": 5474}, \"5475\": {\"frequency\": 377, \"value\": 5475}, \"5476\": {\"frequency\": 34, \"value\": 5476}, \"5477\": {\"frequency\": 25, \"value\": 5477}, \"5478\": {\"frequency\": 34, \"value\": 5478}, \"5479\": {\"frequency\": 105, \"value\": 5479}, \"5480\": {\"frequency\": 150, \"value\": 5480}, \"5481\": {\"frequency\": 54, \"value\": 5481}, \"5482\": {\"frequency\": 375, \"value\": 5482}, \"5483\": {\"frequency\": 221, \"value\": 5483}, \"5484\": {\"frequency\": 79, \"value\": 5484}, \"5485\": {\"frequency\": 114, \"value\": 5485}, \"5486\": {\"frequency\": 43, \"value\": 5486}, \"5487\": {\"frequency\": 47, \"value\": 5487}, \"5488\": {\"frequency\": 253, \"value\": 5488}, \"5489\": {\"frequency\": 70, \"value\": 5489}, \"5490\": {\"frequency\": 124, \"value\": 5490}, \"5491\": {\"frequency\": 204, \"value\": 5491}, \"5492\": {\"frequency\": 380, \"value\": 5492}, \"5493\": {\"frequency\": 573, \"value\": 5493}, \"5494\": {\"frequency\": 80, \"value\": 5494}, \"5495\": {\"frequency\": 31, \"value\": 5495}, \"5496\": {\"frequency\": 84, \"value\": 5496}, \"5497\": {\"frequency\": 145, \"value\": 5497}, \"5498\": {\"frequency\": 59, \"value\": 5498}, \"5499\": {\"frequency\": 69, \"value\": 5499}, \"5500\": {\"frequency\": 59, \"value\": 5500}, \"5501\": {\"frequency\": 561, \"value\": 5501}, \"5502\": {\"frequency\": 120, \"value\": 5502}, \"5503\": {\"frequency\": 45, \"value\": 5503}, \"5504\": {\"frequency\": 587, \"value\": 5504}, \"5505\": {\"frequency\": 92, \"value\": 5505}, \"5506\": {\"frequency\": 57, \"value\": 5506}, \"5507\": {\"frequency\": 44, \"value\": 5507}, \"5508\": {\"frequency\": 75, \"value\": 5508}, \"5509\": {\"frequency\": 103, \"value\": 5509}, \"5510\": {\"frequency\": 62, \"value\": 5510}, \"5511\": {\"frequency\": 724, \"value\": 5511}, \"5512\": {\"frequency\": 241, \"value\": 5512}, \"5513\": {\"frequency\": 66, \"value\": 5513}, \"5514\": {\"frequency\": 40, \"value\": 5514}, \"5515\": {\"frequency\": 45, \"value\": 5515}, \"5516\": {\"frequency\": 137, \"value\": 5516}, \"5517\": {\"frequency\": 312, \"value\": 5517}, \"5518\": {\"frequency\": 113, \"value\": 5518}, \"5519\": {\"frequency\": 340, \"value\": 5519}, \"5520\": {\"frequency\": 166, \"value\": 5520}, \"5521\": {\"frequency\": 52, \"value\": 5521}, \"5522\": {\"frequency\": 520, \"value\": 5522}, \"5523\": {\"frequency\": 376, \"value\": 5523}, \"5524\": {\"frequency\": 166, \"value\": 5524}, \"5525\": {\"frequency\": 20, \"value\": 5525}, \"5526\": {\"frequency\": 284, \"value\": 5526}, \"5527\": {\"frequency\": 29, \"value\": 5527}, \"5528\": {\"frequency\": 75, \"value\": 5528}, \"5529\": {\"frequency\": 21, \"value\": 5529}, \"5530\": {\"frequency\": 652, \"value\": 5530}, \"5531\": {\"frequency\": 148, \"value\": 5531}, \"5532\": {\"frequency\": 102, \"value\": 5532}, \"5533\": {\"frequency\": 20, \"value\": 5533}, \"5534\": {\"frequency\": 65, \"value\": 5534}, \"5535\": {\"frequency\": 187, \"value\": 5535}, \"5536\": {\"frequency\": 634, \"value\": 5536}, \"5537\": {\"frequency\": 64, \"value\": 5537}, \"5538\": {\"frequency\": 174, \"value\": 5538}, \"5539\": {\"frequency\": 480, \"value\": 5539}, \"5540\": {\"frequency\": 78, \"value\": 5540}, \"5541\": {\"frequency\": 27, \"value\": 5541}, \"5542\": {\"frequency\": 71, \"value\": 5542}, \"5543\": {\"frequency\": 341, \"value\": 5543}, \"5544\": {\"frequency\": 47, \"value\": 5544}, \"5545\": {\"frequency\": 152, \"value\": 5545}, \"5546\": {\"frequency\": 34, \"value\": 5546}, \"5547\": {\"frequency\": 152, \"value\": 5547}, \"5548\": {\"frequency\": 168, \"value\": 5548}, \"5549\": {\"frequency\": 33, \"value\": 5549}, \"5550\": {\"frequency\": 633, \"value\": 5550}, \"5551\": {\"frequency\": 64, \"value\": 5551}, \"5552\": {\"frequency\": 54, \"value\": 5552}, \"5553\": {\"frequency\": 263, \"value\": 5553}, \"5554\": {\"frequency\": 104, \"value\": 5554}, \"5555\": {\"frequency\": 548, \"value\": 5555}, \"5556\": {\"frequency\": 278, \"value\": 5556}, \"5557\": {\"frequency\": 190, \"value\": 5557}, \"5558\": {\"frequency\": 247, \"value\": 5558}, \"5559\": {\"frequency\": 39, \"value\": 5559}, \"5560\": {\"frequency\": 82, \"value\": 5560}, \"5561\": {\"frequency\": 219, \"value\": 5561}, \"5562\": {\"frequency\": 75, \"value\": 5562}, \"5563\": {\"frequency\": 38, \"value\": 5563}, \"5564\": {\"frequency\": 45, \"value\": 5564}, \"5565\": {\"frequency\": 184, \"value\": 5565}, \"5566\": {\"frequency\": 127, \"value\": 5566}, \"5567\": {\"frequency\": 403, \"value\": 5567}, \"5568\": {\"frequency\": 341, \"value\": 5568}, \"5569\": {\"frequency\": 242, \"value\": 5569}, \"5570\": {\"frequency\": 302, \"value\": 5570}, \"5571\": {\"frequency\": 113, \"value\": 5571}, \"5572\": {\"frequency\": 70, \"value\": 5572}, \"5573\": {\"frequency\": 172, \"value\": 5573}, \"5574\": {\"frequency\": 178, \"value\": 5574}, \"5575\": {\"frequency\": 272, \"value\": 5575}, \"5576\": {\"frequency\": 290, \"value\": 5576}, \"5577\": {\"frequency\": 29, \"value\": 5577}, \"5578\": {\"frequency\": 84, \"value\": 5578}, \"5579\": {\"frequency\": 24, \"value\": 5579}, \"5580\": {\"frequency\": 413, \"value\": 5580}, \"5581\": {\"frequency\": 37, \"value\": 5581}, \"5582\": {\"frequency\": 136, \"value\": 5582}, \"5583\": {\"frequency\": 120, \"value\": 5583}, \"5584\": {\"frequency\": 76, \"value\": 5584}, \"5585\": {\"frequency\": 245, \"value\": 5585}, \"5586\": {\"frequency\": 28, \"value\": 5586}, \"5587\": {\"frequency\": 55, \"value\": 5587}, \"5588\": {\"frequency\": 37, \"value\": 5588}, \"5589\": {\"frequency\": 36, \"value\": 5589}, \"5590\": {\"frequency\": 33, \"value\": 5590}, \"5591\": {\"frequency\": 46, \"value\": 5591}, \"5592\": {\"frequency\": 127, \"value\": 5592}, \"5593\": {\"frequency\": 160, \"value\": 5593}, \"5594\": {\"frequency\": 130, \"value\": 5594}, \"5595\": {\"frequency\": 206, \"value\": 5595}, \"5596\": {\"frequency\": 189, \"value\": 5596}, \"5597\": {\"frequency\": 208, \"value\": 5597}, \"5598\": {\"frequency\": 144, \"value\": 5598}, \"5599\": {\"frequency\": 231, \"value\": 5599}, \"5600\": {\"frequency\": 266, \"value\": 5600}, \"5601\": {\"frequency\": 97, \"value\": 5601}, \"5602\": {\"frequency\": 76, \"value\": 5602}, \"5603\": {\"frequency\": 183, \"value\": 5603}, \"5604\": {\"frequency\": 254, \"value\": 5604}, \"5605\": {\"frequency\": 736, \"value\": 5605}, \"5606\": {\"frequency\": 24, \"value\": 5606}, \"5607\": {\"frequency\": 148, \"value\": 5607}, \"5608\": {\"frequency\": 24, \"value\": 5608}, \"5609\": {\"frequency\": 40, \"value\": 5609}, \"5610\": {\"frequency\": 40, \"value\": 5610}, \"5611\": {\"frequency\": 31, \"value\": 5611}, \"5612\": {\"frequency\": 36, \"value\": 5612}, \"5613\": {\"frequency\": 86, \"value\": 5613}, \"5614\": {\"frequency\": 837, \"value\": 5614}, \"5615\": {\"frequency\": 302, \"value\": 5615}, \"5616\": {\"frequency\": 130, \"value\": 5616}, \"5617\": {\"frequency\": 74, \"value\": 5617}, \"5618\": {\"frequency\": 98, \"value\": 5618}, \"5619\": {\"frequency\": 92, \"value\": 5619}, \"5620\": {\"frequency\": 219, \"value\": 5620}, \"5621\": {\"frequency\": 477, \"value\": 5621}, \"5622\": {\"frequency\": 86, \"value\": 5622}, \"5623\": {\"frequency\": 264, \"value\": 5623}, \"5624\": {\"frequency\": 119, \"value\": 5624}, \"5625\": {\"frequency\": 152, \"value\": 5625}, \"5626\": {\"frequency\": 173, \"value\": 5626}, \"5627\": {\"frequency\": 815, \"value\": 5627}, \"5628\": {\"frequency\": 23, \"value\": 5628}, \"5629\": {\"frequency\": 101, \"value\": 5629}, \"5630\": {\"frequency\": 263, \"value\": 5630}, \"5631\": {\"frequency\": 79, \"value\": 5631}, \"5632\": {\"frequency\": 60, \"value\": 5632}, \"5633\": {\"frequency\": 39, \"value\": 5633}, \"5634\": {\"frequency\": 300, \"value\": 5634}, \"5635\": {\"frequency\": 24, \"value\": 5635}, \"5636\": {\"frequency\": 848, \"value\": 5636}, \"5637\": {\"frequency\": 46, \"value\": 5637}, \"5638\": {\"frequency\": 102, \"value\": 5638}, \"5639\": {\"frequency\": 43, \"value\": 5639}, \"5640\": {\"frequency\": 34, \"value\": 5640}, \"5641\": {\"frequency\": 132, \"value\": 5641}, \"5642\": {\"frequency\": 50, \"value\": 5642}, \"5643\": {\"frequency\": 1047, \"value\": 5643}, \"5644\": {\"frequency\": 73, \"value\": 5644}, \"5645\": {\"frequency\": 270, \"value\": 5645}, \"5646\": {\"frequency\": 104, \"value\": 5646}, \"5647\": {\"frequency\": 152, \"value\": 5647}, \"5648\": {\"frequency\": 117, \"value\": 5648}, \"5649\": {\"frequency\": 200, \"value\": 5649}, \"5650\": {\"frequency\": 314, \"value\": 5650}, \"5651\": {\"frequency\": 39, \"value\": 5651}, \"5652\": {\"frequency\": 106, \"value\": 5652}, \"5653\": {\"frequency\": 228, \"value\": 5653}, \"5654\": {\"frequency\": 298, \"value\": 5654}, \"5655\": {\"frequency\": 117, \"value\": 5655}, \"5656\": {\"frequency\": 28, \"value\": 5656}, \"5657\": {\"frequency\": 198, \"value\": 5657}, \"5658\": {\"frequency\": 125, \"value\": 5658}, \"5659\": {\"frequency\": 209, \"value\": 5659}, \"5660\": {\"frequency\": 34, \"value\": 5660}, \"5661\": {\"frequency\": 125, \"value\": 5661}, \"5662\": {\"frequency\": 73, \"value\": 5662}, \"5663\": {\"frequency\": 268, \"value\": 5663}, \"5664\": {\"frequency\": 287, \"value\": 5664}, \"5665\": {\"frequency\": 46, \"value\": 5665}, \"5666\": {\"frequency\": 32, \"value\": 5666}, \"5667\": {\"frequency\": 328, \"value\": 5667}, \"5668\": {\"frequency\": 89, \"value\": 5668}, \"5669\": {\"frequency\": 48, \"value\": 5669}, \"5670\": {\"frequency\": 72, \"value\": 5670}, \"5671\": {\"frequency\": 109, \"value\": 5671}, \"5672\": {\"frequency\": 28, \"value\": 5672}, \"5673\": {\"frequency\": 68, \"value\": 5673}, \"5674\": {\"frequency\": 41, \"value\": 5674}, \"5675\": {\"frequency\": 586, \"value\": 5675}, \"5676\": {\"frequency\": 146, \"value\": 5676}, \"5677\": {\"frequency\": 246, \"value\": 5677}, \"5678\": {\"frequency\": 138, \"value\": 5678}, \"5679\": {\"frequency\": 182, \"value\": 5679}, \"5680\": {\"frequency\": 159, \"value\": 5680}, \"5681\": {\"frequency\": 33, \"value\": 5681}, \"5682\": {\"frequency\": 608, \"value\": 5682}, \"5683\": {\"frequency\": 122, \"value\": 5683}, \"5684\": {\"frequency\": 489, \"value\": 5684}, \"5685\": {\"frequency\": 40, \"value\": 5685}, \"5686\": {\"frequency\": 530, \"value\": 5686}, \"5687\": {\"frequency\": 85, \"value\": 5687}, \"5688\": {\"frequency\": 100, \"value\": 5688}, \"5689\": {\"frequency\": 488, \"value\": 5689}, \"5690\": {\"frequency\": 24, \"value\": 5690}, \"5691\": {\"frequency\": 130, \"value\": 5691}, \"5692\": {\"frequency\": 61, \"value\": 5692}, \"5693\": {\"frequency\": 46, \"value\": 5693}, \"5694\": {\"frequency\": 25, \"value\": 5694}, \"5695\": {\"frequency\": 31, \"value\": 5695}, \"5696\": {\"frequency\": 24, \"value\": 5696}, \"5697\": {\"frequency\": 26, \"value\": 5697}, \"5698\": {\"frequency\": 315, \"value\": 5698}, \"5699\": {\"frequency\": 299, \"value\": 5699}, \"5700\": {\"frequency\": 38, \"value\": 5700}, \"5701\": {\"frequency\": 119, \"value\": 5701}, \"5702\": {\"frequency\": 117, \"value\": 5702}, \"5703\": {\"frequency\": 74, \"value\": 5703}, \"5704\": {\"frequency\": 93, \"value\": 5704}, \"5705\": {\"frequency\": 173, \"value\": 5705}, \"5706\": {\"frequency\": 165, \"value\": 5706}, \"5707\": {\"frequency\": 100, \"value\": 5707}, \"5708\": {\"frequency\": 100, \"value\": 5708}, \"5709\": {\"frequency\": 124, \"value\": 5709}, \"5710\": {\"frequency\": 77, \"value\": 5710}, \"5711\": {\"frequency\": 60, \"value\": 5711}, \"5712\": {\"frequency\": 83, \"value\": 5712}, \"5713\": {\"frequency\": 31, \"value\": 5713}, \"5714\": {\"frequency\": 99, \"value\": 5714}, \"5715\": {\"frequency\": 84, \"value\": 5715}, \"5716\": {\"frequency\": 212, \"value\": 5716}, \"5717\": {\"frequency\": 384, \"value\": 5717}, \"5718\": {\"frequency\": 193, \"value\": 5718}, \"5719\": {\"frequency\": 26, \"value\": 5719}, \"5720\": {\"frequency\": 354, \"value\": 5720}, \"5721\": {\"frequency\": 48, \"value\": 5721}, \"5722\": {\"frequency\": 367, \"value\": 5722}, \"5723\": {\"frequency\": 202, \"value\": 5723}, \"5724\": {\"frequency\": 97, \"value\": 5724}, \"5725\": {\"frequency\": 20, \"value\": 5725}, \"5726\": {\"frequency\": 148, \"value\": 5726}, \"5727\": {\"frequency\": 51, \"value\": 5727}, \"5728\": {\"frequency\": 323, \"value\": 5728}, \"5729\": {\"frequency\": 62, \"value\": 5729}, \"5730\": {\"frequency\": 91, \"value\": 5730}, \"5731\": {\"frequency\": 60, \"value\": 5731}, \"5732\": {\"frequency\": 42, \"value\": 5732}, \"5733\": {\"frequency\": 200, \"value\": 5733}, \"5734\": {\"frequency\": 208, \"value\": 5734}, \"5735\": {\"frequency\": 23, \"value\": 5735}, \"5736\": {\"frequency\": 105, \"value\": 5736}, \"5737\": {\"frequency\": 85, \"value\": 5737}, \"5738\": {\"frequency\": 526, \"value\": 5738}, \"5739\": {\"frequency\": 51, \"value\": 5739}, \"5740\": {\"frequency\": 76, \"value\": 5740}, \"5741\": {\"frequency\": 47, \"value\": 5741}, \"5742\": {\"frequency\": 47, \"value\": 5742}, \"5743\": {\"frequency\": 30, \"value\": 5743}, \"5744\": {\"frequency\": 440, \"value\": 5744}, \"5745\": {\"frequency\": 72, \"value\": 5745}, \"5746\": {\"frequency\": 82, \"value\": 5746}, \"5747\": {\"frequency\": 564, \"value\": 5747}, \"5748\": {\"frequency\": 54, \"value\": 5748}, \"5749\": {\"frequency\": 407, \"value\": 5749}, \"5750\": {\"frequency\": 119, \"value\": 5750}, \"5751\": {\"frequency\": 90, \"value\": 5751}, \"5752\": {\"frequency\": 155, \"value\": 5752}, \"5753\": {\"frequency\": 83, \"value\": 5753}, \"5754\": {\"frequency\": 353, \"value\": 5754}, \"5755\": {\"frequency\": 515, \"value\": 5755}, \"5756\": {\"frequency\": 38, \"value\": 5756}, \"5757\": {\"frequency\": 116, \"value\": 5757}, \"5758\": {\"frequency\": 147, \"value\": 5758}, \"5759\": {\"frequency\": 576, \"value\": 5759}, \"5760\": {\"frequency\": 32, \"value\": 5760}, \"5761\": {\"frequency\": 223, \"value\": 5761}, \"5762\": {\"frequency\": 288, \"value\": 5762}, \"5763\": {\"frequency\": 677, \"value\": 5763}, \"5764\": {\"frequency\": 55, \"value\": 5764}, \"5765\": {\"frequency\": 229, \"value\": 5765}, \"5766\": {\"frequency\": 94, \"value\": 5766}, \"5767\": {\"frequency\": 349, \"value\": 5767}, \"5768\": {\"frequency\": 74, \"value\": 5768}, \"5769\": {\"frequency\": 154, \"value\": 5769}, \"5770\": {\"frequency\": 139, \"value\": 5770}, \"5771\": {\"frequency\": 266, \"value\": 5771}, \"5772\": {\"frequency\": 22, \"value\": 5772}, \"5773\": {\"frequency\": 30, \"value\": 5773}, \"5774\": {\"frequency\": 55, \"value\": 5774}, \"5775\": {\"frequency\": 195, \"value\": 5775}, \"5776\": {\"frequency\": 183, \"value\": 5776}, \"5777\": {\"frequency\": 125, \"value\": 5777}, \"5778\": {\"frequency\": 66, \"value\": 5778}, \"5779\": {\"frequency\": 394, \"value\": 5779}, \"5780\": {\"frequency\": 259, \"value\": 5780}, \"5781\": {\"frequency\": 27, \"value\": 5781}, \"5782\": {\"frequency\": 114, \"value\": 5782}, \"5783\": {\"frequency\": 39, \"value\": 5783}, \"5784\": {\"frequency\": 27, \"value\": 5784}, \"5785\": {\"frequency\": 130, \"value\": 5785}, \"5786\": {\"frequency\": 331, \"value\": 5786}, \"5787\": {\"frequency\": 442, \"value\": 5787}, \"5788\": {\"frequency\": 825, \"value\": 5788}, \"5789\": {\"frequency\": 46, \"value\": 5789}, \"5790\": {\"frequency\": 93, \"value\": 5790}, \"5791\": {\"frequency\": 101, \"value\": 5791}, \"5792\": {\"frequency\": 269, \"value\": 5792}, \"5793\": {\"frequency\": 30, \"value\": 5793}, \"5794\": {\"frequency\": 294, \"value\": 5794}, \"5795\": {\"frequency\": 1277, \"value\": 5795}, \"5796\": {\"frequency\": 24, \"value\": 5796}, \"5797\": {\"frequency\": 122, \"value\": 5797}, \"5798\": {\"frequency\": 117, \"value\": 5798}, \"5799\": {\"frequency\": 36, \"value\": 5799}, \"5800\": {\"frequency\": 23, \"value\": 5800}, \"5801\": {\"frequency\": 172, \"value\": 5801}, \"5802\": {\"frequency\": 40, \"value\": 5802}, \"5803\": {\"frequency\": 66, \"value\": 5803}, \"5804\": {\"frequency\": 21, \"value\": 5804}, \"5805\": {\"frequency\": 151, \"value\": 5805}, \"5806\": {\"frequency\": 221, \"value\": 5806}, \"5807\": {\"frequency\": 55, \"value\": 5807}, \"5808\": {\"frequency\": 67, \"value\": 5808}, \"5809\": {\"frequency\": 248, \"value\": 5809}, \"5810\": {\"frequency\": 21, \"value\": 5810}, \"5811\": {\"frequency\": 308, \"value\": 5811}, \"5812\": {\"frequency\": 893, \"value\": 5812}, \"5813\": {\"frequency\": 87, \"value\": 5813}, \"5814\": {\"frequency\": 29, \"value\": 5814}, \"5815\": {\"frequency\": 78, \"value\": 5815}, \"5816\": {\"frequency\": 32, \"value\": 5816}, \"5817\": {\"frequency\": 26, \"value\": 5817}, \"5818\": {\"frequency\": 32, \"value\": 5818}, \"5819\": {\"frequency\": 30, \"value\": 5819}, \"5820\": {\"frequency\": 48, \"value\": 5820}, \"5821\": {\"frequency\": 63, \"value\": 5821}, \"5822\": {\"frequency\": 75, \"value\": 5822}, \"5823\": {\"frequency\": 105, \"value\": 5823}, \"5824\": {\"frequency\": 550, \"value\": 5824}, \"5825\": {\"frequency\": 118, \"value\": 5825}, \"5826\": {\"frequency\": 237, \"value\": 5826}, \"5827\": {\"frequency\": 109, \"value\": 5827}, \"5828\": {\"frequency\": 20, \"value\": 5828}, \"5829\": {\"frequency\": 73, \"value\": 5829}, \"5830\": {\"frequency\": 52, \"value\": 5830}, \"5831\": {\"frequency\": 1220, \"value\": 5831}, \"5832\": {\"frequency\": 78, \"value\": 5832}, \"5833\": {\"frequency\": 88, \"value\": 5833}, \"5834\": {\"frequency\": 30, \"value\": 5834}, \"5835\": {\"frequency\": 31, \"value\": 5835}, \"5836\": {\"frequency\": 50, \"value\": 5836}, \"5837\": {\"frequency\": 534, \"value\": 5837}, \"5838\": {\"frequency\": 223, \"value\": 5838}, \"5839\": {\"frequency\": 31, \"value\": 5839}, \"5840\": {\"frequency\": 235, \"value\": 5840}, \"5841\": {\"frequency\": 334, \"value\": 5841}, \"5842\": {\"frequency\": 52, \"value\": 5842}, \"5843\": {\"frequency\": 221, \"value\": 5843}, \"5844\": {\"frequency\": 86, \"value\": 5844}, \"5845\": {\"frequency\": 225, \"value\": 5845}, \"5846\": {\"frequency\": 62, \"value\": 5846}, \"5847\": {\"frequency\": 356, \"value\": 5847}, \"5848\": {\"frequency\": 409, \"value\": 5848}, \"5849\": {\"frequency\": 45, \"value\": 5849}, \"5850\": {\"frequency\": 58, \"value\": 5850}, \"5851\": {\"frequency\": 162, \"value\": 5851}, \"5852\": {\"frequency\": 332, \"value\": 5852}, \"5853\": {\"frequency\": 153, \"value\": 5853}, \"5854\": {\"frequency\": 410, \"value\": 5854}, \"5855\": {\"frequency\": 51, \"value\": 5855}, \"5856\": {\"frequency\": 64, \"value\": 5856}, \"5857\": {\"frequency\": 200, \"value\": 5857}, \"5858\": {\"frequency\": 200, \"value\": 5858}, \"5859\": {\"frequency\": 35, \"value\": 5859}, \"5860\": {\"frequency\": 79, \"value\": 5860}, \"5861\": {\"frequency\": 187, \"value\": 5861}, \"5862\": {\"frequency\": 200, \"value\": 5862}, \"5863\": {\"frequency\": 21, \"value\": 5863}, \"5864\": {\"frequency\": 39, \"value\": 5864}, \"5865\": {\"frequency\": 103, \"value\": 5865}, \"5866\": {\"frequency\": 32, \"value\": 5866}, \"5867\": {\"frequency\": 32, \"value\": 5867}, \"5868\": {\"frequency\": 67, \"value\": 5868}, \"5869\": {\"frequency\": 76, \"value\": 5869}, \"5870\": {\"frequency\": 39, \"value\": 5870}, \"5871\": {\"frequency\": 100, \"value\": 5871}, \"5872\": {\"frequency\": 263, \"value\": 5872}, \"5873\": {\"frequency\": 33, \"value\": 5873}, \"5874\": {\"frequency\": 299, \"value\": 5874}, \"5875\": {\"frequency\": 138, \"value\": 5875}, \"5876\": {\"frequency\": 23, \"value\": 5876}, \"5877\": {\"frequency\": 22, \"value\": 5877}, \"5878\": {\"frequency\": 601, \"value\": 5878}, \"5879\": {\"frequency\": 55, \"value\": 5879}, \"5880\": {\"frequency\": 748, \"value\": 5880}, \"5881\": {\"frequency\": 280, \"value\": 5881}, \"5882\": {\"frequency\": 40, \"value\": 5882}, \"5883\": {\"frequency\": 26, \"value\": 5883}, \"5884\": {\"frequency\": 78, \"value\": 5884}, \"5885\": {\"frequency\": 121, \"value\": 5885}, \"5886\": {\"frequency\": 491, \"value\": 5886}, \"5887\": {\"frequency\": 82, \"value\": 5887}, \"5888\": {\"frequency\": 617, \"value\": 5888}, \"5889\": {\"frequency\": 100, \"value\": 5889}, \"5890\": {\"frequency\": 329, \"value\": 5890}, \"5891\": {\"frequency\": 78, \"value\": 5891}, \"5892\": {\"frequency\": 114, \"value\": 5892}, \"5893\": {\"frequency\": 148, \"value\": 5893}, \"5894\": {\"frequency\": 115, \"value\": 5894}, \"5895\": {\"frequency\": 58, \"value\": 5895}, \"5896\": {\"frequency\": 208, \"value\": 5896}, \"5897\": {\"frequency\": 53, \"value\": 5897}, \"5898\": {\"frequency\": 29, \"value\": 5898}, \"5899\": {\"frequency\": 21, \"value\": 5899}, \"5900\": {\"frequency\": 125, \"value\": 5900}, \"5901\": {\"frequency\": 30, \"value\": 5901}, \"5902\": {\"frequency\": 87, \"value\": 5902}, \"5903\": {\"frequency\": 77, \"value\": 5903}, \"5904\": {\"frequency\": 20, \"value\": 5904}, \"5905\": {\"frequency\": 152, \"value\": 5905}, \"5906\": {\"frequency\": 124, \"value\": 5906}, \"5907\": {\"frequency\": 48, \"value\": 5907}, \"5908\": {\"frequency\": 206, \"value\": 5908}, \"5909\": {\"frequency\": 29, \"value\": 5909}, \"5910\": {\"frequency\": 130, \"value\": 5910}, \"5911\": {\"frequency\": 171, \"value\": 5911}, \"5912\": {\"frequency\": 125, \"value\": 5912}, \"5913\": {\"frequency\": 77, \"value\": 5913}, \"5914\": {\"frequency\": 35, \"value\": 5914}, \"5915\": {\"frequency\": 286, \"value\": 5915}, \"5916\": {\"frequency\": 704, \"value\": 5916}, \"5917\": {\"frequency\": 230, \"value\": 5917}, \"5918\": {\"frequency\": 23, \"value\": 5918}, \"5919\": {\"frequency\": 32, \"value\": 5919}, \"5920\": {\"frequency\": 143, \"value\": 5920}, \"5921\": {\"frequency\": 46, \"value\": 5921}, \"5922\": {\"frequency\": 231, \"value\": 5922}, \"5923\": {\"frequency\": 35, \"value\": 5923}, \"5924\": {\"frequency\": 154, \"value\": 5924}, \"5925\": {\"frequency\": 197, \"value\": 5925}, \"5926\": {\"frequency\": 63, \"value\": 5926}, \"5927\": {\"frequency\": 216, \"value\": 5927}, \"5928\": {\"frequency\": 48, \"value\": 5928}, \"5929\": {\"frequency\": 108, \"value\": 5929}, \"5930\": {\"frequency\": 94, \"value\": 5930}, \"5931\": {\"frequency\": 77, \"value\": 5931}, \"5932\": {\"frequency\": 24, \"value\": 5932}, \"5933\": {\"frequency\": 41, \"value\": 5933}, \"5934\": {\"frequency\": 30, \"value\": 5934}, \"5935\": {\"frequency\": 36, \"value\": 5935}, \"5936\": {\"frequency\": 36, \"value\": 5936}, \"5937\": {\"frequency\": 102, \"value\": 5937}, \"5938\": {\"frequency\": 190, \"value\": 5938}, \"5939\": {\"frequency\": 111, \"value\": 5939}, \"5940\": {\"frequency\": 46, \"value\": 5940}, \"5941\": {\"frequency\": 32, \"value\": 5941}, \"5942\": {\"frequency\": 174, \"value\": 5942}, \"5943\": {\"frequency\": 65, \"value\": 5943}, \"5944\": {\"frequency\": 30, \"value\": 5944}, \"5945\": {\"frequency\": 34, \"value\": 5945}, \"5946\": {\"frequency\": 93, \"value\": 5946}, \"5947\": {\"frequency\": 142, \"value\": 5947}, \"5948\": {\"frequency\": 398, \"value\": 5948}, \"5949\": {\"frequency\": 181, \"value\": 5949}, \"5950\": {\"frequency\": 435, \"value\": 5950}, \"5951\": {\"frequency\": 53, \"value\": 5951}, \"5952\": {\"frequency\": 129, \"value\": 5952}, \"5953\": {\"frequency\": 91, \"value\": 5953}, \"5954\": {\"frequency\": 1000, \"value\": 5954}, \"5955\": {\"frequency\": 378, \"value\": 5955}, \"5956\": {\"frequency\": 293, \"value\": 5956}, \"5957\": {\"frequency\": 239, \"value\": 5957}, \"5958\": {\"frequency\": 112, \"value\": 5958}, \"5959\": {\"frequency\": 70, \"value\": 5959}, \"5960\": {\"frequency\": 190, \"value\": 5960}, \"5961\": {\"frequency\": 308, \"value\": 5961}, \"5962\": {\"frequency\": 25, \"value\": 5962}, \"5963\": {\"frequency\": 187, \"value\": 5963}, \"5964\": {\"frequency\": 549, \"value\": 5964}, \"5965\": {\"frequency\": 38, \"value\": 5965}, \"5966\": {\"frequency\": 65, \"value\": 5966}, \"5967\": {\"frequency\": 22, \"value\": 5967}, \"5968\": {\"frequency\": 33, \"value\": 5968}, \"5969\": {\"frequency\": 91, \"value\": 5969}, \"5970\": {\"frequency\": 45, \"value\": 5970}, \"5971\": {\"frequency\": 163, \"value\": 5971}, \"5972\": {\"frequency\": 437, \"value\": 5972}, \"5973\": {\"frequency\": 36, \"value\": 5973}, \"5974\": {\"frequency\": 233, \"value\": 5974}, \"5975\": {\"frequency\": 54, \"value\": 5975}, \"5976\": {\"frequency\": 126, \"value\": 5976}, \"5977\": {\"frequency\": 51, \"value\": 5977}, \"5978\": {\"frequency\": 399, \"value\": 5978}, \"5979\": {\"frequency\": 33, \"value\": 5979}, \"5980\": {\"frequency\": 212, \"value\": 5980}, \"5981\": {\"frequency\": 280, \"value\": 5981}, \"5982\": {\"frequency\": 127, \"value\": 5982}, \"5983\": {\"frequency\": 28, \"value\": 5983}, \"5984\": {\"frequency\": 30, \"value\": 5984}, \"5985\": {\"frequency\": 99, \"value\": 5985}, \"5986\": {\"frequency\": 120, \"value\": 5986}, \"5987\": {\"frequency\": 59, \"value\": 5987}, \"5988\": {\"frequency\": 79, \"value\": 5988}, \"5989\": {\"frequency\": 77, \"value\": 5989}, \"5990\": {\"frequency\": 286, \"value\": 5990}, \"5991\": {\"frequency\": 85, \"value\": 5991}, \"5992\": {\"frequency\": 67, \"value\": 5992}, \"5993\": {\"frequency\": 30, \"value\": 5993}, \"5994\": {\"frequency\": 78, \"value\": 5994}, \"5995\": {\"frequency\": 186, \"value\": 5995}, \"5996\": {\"frequency\": 591, \"value\": 5996}, \"5997\": {\"frequency\": 57, \"value\": 5997}, \"5998\": {\"frequency\": 158, \"value\": 5998}, \"5999\": {\"frequency\": 27, \"value\": 5999}, \"6000\": {\"frequency\": 506, \"value\": 6000}, \"6001\": {\"frequency\": 234, \"value\": 6001}, \"6002\": {\"frequency\": 335, \"value\": 6002}, \"6003\": {\"frequency\": 254, \"value\": 6003}, \"6004\": {\"frequency\": 57, \"value\": 6004}, \"6005\": {\"frequency\": 88, \"value\": 6005}, \"6006\": {\"frequency\": 124, \"value\": 6006}, \"6007\": {\"frequency\": 326, \"value\": 6007}, \"6008\": {\"frequency\": 35, \"value\": 6008}, \"6009\": {\"frequency\": 64, \"value\": 6009}, \"6010\": {\"frequency\": 317, \"value\": 6010}, \"6011\": {\"frequency\": 197, \"value\": 6011}, \"6012\": {\"frequency\": 23, \"value\": 6012}, \"6013\": {\"frequency\": 124, \"value\": 6013}, \"6014\": {\"frequency\": 106, \"value\": 6014}, \"6015\": {\"frequency\": 57, \"value\": 6015}, \"6016\": {\"frequency\": 909, \"value\": 6016}, \"6017\": {\"frequency\": 33, \"value\": 6017}, \"6018\": {\"frequency\": 159, \"value\": 6018}, \"6019\": {\"frequency\": 89, \"value\": 6019}, \"6020\": {\"frequency\": 43, \"value\": 6020}, \"6021\": {\"frequency\": 132, \"value\": 6021}, \"6022\": {\"frequency\": 48, \"value\": 6022}, \"6023\": {\"frequency\": 147, \"value\": 6023}, \"6024\": {\"frequency\": 95, \"value\": 6024}, \"6025\": {\"frequency\": 271, \"value\": 6025}, \"6026\": {\"frequency\": 81, \"value\": 6026}, \"6027\": {\"frequency\": 36, \"value\": 6027}, \"6028\": {\"frequency\": 47, \"value\": 6028}, \"6029\": {\"frequency\": 31, \"value\": 6029}, \"6030\": {\"frequency\": 115, \"value\": 6030}, \"6031\": {\"frequency\": 51, \"value\": 6031}, \"6032\": {\"frequency\": 104, \"value\": 6032}, \"6033\": {\"frequency\": 60, \"value\": 6033}, \"6034\": {\"frequency\": 21, \"value\": 6034}, \"6035\": {\"frequency\": 280, \"value\": 6035}, \"6036\": {\"frequency\": 888, \"value\": 6036}, \"6037\": {\"frequency\": 202, \"value\": 6037}, \"6038\": {\"frequency\": 20, \"value\": 6038}, \"6039\": {\"frequency\": 123, \"value\": 6039}, \"6040\": {\"frequency\": 341, \"value\": 6040}}, \"mean\": 3024.5123479193057}, \"movie_id\": {\"std\": 1096.0401415512806, \"complete\": true, \"min\": 1.0, \"max\": 3952.0, \"quantile\": [1.0, 21.0, 41.0, 85.0, 144.0, 173.0, 230.0, 260.0, 300.0, 337.0, 357.0, 381.0, 442.0, 480.0, 517.0, 543.0, 589.0, 595.0, 661.0, 737.0, 799.0, 879.0, 912.0, 924.0, 969.0, 1030.0, 1073.0, 1092.0, 1127.0, 1179.0, 1197.0, 1206.0, 1215.0, 1228.0, 1244.0, 1259.0, 1270.0, 1286.0, 1302.0, 1345.0, 1374.0, 1391.0, 1421.0, 1500.0, 1566.0, 1597.0, 1627.0, 1673.0, 1711.0, 1753.0, 1834.0, 1911.0, 1947.0, 1965.0, 2000.0, 2015.0, 2053.0, 2083.0, 2112.0, 2143.0, 2181.0, 2260.0, 2300.0, 2333.0, 2367.0, 2396.0, 2414.0, 2456.0, 2504.0, 2554.0, 2605.0, 2642.0, 2687.0, 2710.0, 2734.0, 2770.0, 2805.0, 2859.0, 2912.0, 2947.0, 2985.0, 3015.0, 3060.0, 3099.0, 3146.0, 3175.0, 3243.0, 3261.0, 3326.0, 3388.0, 3429.0, 3476.0, 3512.0, 3552.0, 3615.0, 3676.0, 3704.0, 3752.0, 3801.0, 3871.0, 3952.0], \"median\": 1834.0, \"numeric\": true, \"num_unique\": 3704, \"num_undefined\": 0, \"var\": 1201303.991891751, \"progress\": 1.0, \"size\": 1000209, \"frequent_items\": {\"1\": {\"frequency\": 2077, \"value\": 1}, \"2\": {\"frequency\": 701, \"value\": 2}, \"3\": {\"frequency\": 478, \"value\": 3}, \"4\": {\"frequency\": 170, \"value\": 4}, \"5\": {\"frequency\": 296, \"value\": 5}, \"6\": {\"frequency\": 940, \"value\": 6}, \"7\": {\"frequency\": 458, \"value\": 7}, \"8\": {\"frequency\": 68, \"value\": 8}, \"9\": {\"frequency\": 102, \"value\": 9}, \"10\": {\"frequency\": 888, \"value\": 10}, \"11\": {\"frequency\": 1033, \"value\": 11}, \"12\": {\"frequency\": 160, \"value\": 12}, \"13\": {\"frequency\": 99, \"value\": 13}, \"14\": {\"frequency\": 153, \"value\": 14}, \"15\": {\"frequency\": 146, \"value\": 15}, \"16\": {\"frequency\": 682, \"value\": 16}, \"17\": {\"frequency\": 835, \"value\": 17}, \"18\": {\"frequency\": 157, \"value\": 18}, \"19\": {\"frequency\": 389, \"value\": 19}, \"20\": {\"frequency\": 160, \"value\": 20}, \"21\": {\"frequency\": 1356, \"value\": 21}, \"22\": {\"frequency\": 378, \"value\": 22}, \"23\": {\"frequency\": 126, \"value\": 23}, \"24\": {\"frequency\": 624, \"value\": 24}, \"25\": {\"frequency\": 980, \"value\": 25}, \"26\": {\"frequency\": 100, \"value\": 26}, \"27\": {\"frequency\": 61, \"value\": 27}, \"28\": {\"frequency\": 179, \"value\": 28}, \"29\": {\"frequency\": 403, \"value\": 29}, \"30\": {\"frequency\": 74, \"value\": 30}, \"31\": {\"frequency\": 141, \"value\": 31}, \"32\": {\"frequency\": 1511, \"value\": 32}, \"33\": {\"frequency\": 4, \"value\": 33}, \"34\": {\"frequency\": 1751, \"value\": 34}, \"35\": {\"frequency\": 70, \"value\": 35}, \"36\": {\"frequency\": 928, \"value\": 36}, \"37\": {\"frequency\": 8, \"value\": 37}, \"38\": {\"frequency\": 28, \"value\": 38}, \"39\": {\"frequency\": 1362, \"value\": 39}, \"40\": {\"frequency\": 30, \"value\": 40}, \"41\": {\"frequency\": 242, \"value\": 41}, \"42\": {\"frequency\": 221, \"value\": 42}, \"43\": {\"frequency\": 166, \"value\": 43}, \"44\": {\"frequency\": 311, \"value\": 44}, \"45\": {\"frequency\": 544, \"value\": 45}, \"46\": {\"frequency\": 166, \"value\": 46}, \"47\": {\"frequency\": 1137, \"value\": 47}, \"48\": {\"frequency\": 382, \"value\": 48}, \"49\": {\"frequency\": 27, \"value\": 49}, \"50\": {\"frequency\": 1783, \"value\": 50}, \"52\": {\"frequency\": 431, \"value\": 52}, \"53\": {\"frequency\": 8, \"value\": 53}, \"54\": {\"frequency\": 41, \"value\": 54}, \"55\": {\"frequency\": 45, \"value\": 55}, \"56\": {\"frequency\": 9, \"value\": 56}, \"57\": {\"frequency\": 99, \"value\": 57}, \"58\": {\"frequency\": 501, \"value\": 58}, \"59\": {\"frequency\": 8, \"value\": 59}, \"60\": {\"frequency\": 357, \"value\": 60}, \"61\": {\"frequency\": 67, \"value\": 61}, \"62\": {\"frequency\": 541, \"value\": 62}, \"63\": {\"frequency\": 111, \"value\": 63}, \"64\": {\"frequency\": 79, \"value\": 64}, \"65\": {\"frequency\": 143, \"value\": 65}, \"66\": {\"frequency\": 97, \"value\": 66}, \"67\": {\"frequency\": 4, \"value\": 67}, \"68\": {\"frequency\": 60, \"value\": 68}, \"69\": {\"frequency\": 319, \"value\": 69}, \"70\": {\"frequency\": 914, \"value\": 70}, \"71\": {\"frequency\": 96, \"value\": 71}, \"72\": {\"frequency\": 93, \"value\": 72}, \"73\": {\"frequency\": 224, \"value\": 73}, \"74\": {\"frequency\": 120, \"value\": 74}, \"75\": {\"frequency\": 12, \"value\": 75}, \"76\": {\"frequency\": 178, \"value\": 76}, \"77\": {\"frequency\": 34, \"value\": 77}, \"78\": {\"frequency\": 50, \"value\": 78}, \"79\": {\"frequency\": 114, \"value\": 79}, \"80\": {\"frequency\": 52, \"value\": 80}, \"81\": {\"frequency\": 166, \"value\": 81}, \"82\": {\"frequency\": 89, \"value\": 82}, \"83\": {\"frequency\": 33, \"value\": 83}, \"84\": {\"frequency\": 21, \"value\": 84}, \"85\": {\"frequency\": 194, \"value\": 85}, \"86\": {\"frequency\": 236, \"value\": 86}, \"87\": {\"frequency\": 76, \"value\": 87}, \"88\": {\"frequency\": 192, \"value\": 88}, \"89\": {\"frequency\": 229, \"value\": 89}, \"90\": {\"frequency\": 6, \"value\": 90}, \"92\": {\"frequency\": 88, \"value\": 92}, \"93\": {\"frequency\": 89, \"value\": 93}, \"94\": {\"frequency\": 182, \"value\": 94}, \"95\": {\"frequency\": 638, \"value\": 95}, \"96\": {\"frequency\": 13, \"value\": 96}, \"97\": {\"frequency\": 44, \"value\": 97}, \"98\": {\"frequency\": 6, \"value\": 98}, \"99\": {\"frequency\": 50, \"value\": 99}, \"100\": {\"frequency\": 128, \"value\": 100}, \"101\": {\"frequency\": 253, \"value\": 101}, \"102\": {\"frequency\": 60, \"value\": 102}, \"103\": {\"frequency\": 33, \"value\": 103}, \"104\": {\"frequency\": 682, \"value\": 104}, \"105\": {\"frequency\": 387, \"value\": 105}, \"106\": {\"frequency\": 12, \"value\": 106}, \"107\": {\"frequency\": 256, \"value\": 107}, \"108\": {\"frequency\": 7, \"value\": 108}, \"110\": {\"frequency\": 2443, \"value\": 110}, \"111\": {\"frequency\": 1240, \"value\": 111}, \"112\": {\"frequency\": 570, \"value\": 112}, \"113\": {\"frequency\": 53, \"value\": 113}, \"114\": {\"frequency\": 11, \"value\": 114}, \"116\": {\"frequency\": 41, \"value\": 116}, \"117\": {\"frequency\": 79, \"value\": 117}, \"118\": {\"frequency\": 68, \"value\": 118}, \"119\": {\"frequency\": 13, \"value\": 119}, \"120\": {\"frequency\": 3, \"value\": 120}, \"121\": {\"frequency\": 37, \"value\": 121}, \"122\": {\"frequency\": 194, \"value\": 122}, \"123\": {\"frequency\": 115, \"value\": 123}, \"124\": {\"frequency\": 14, \"value\": 124}, \"125\": {\"frequency\": 318, \"value\": 125}, \"126\": {\"frequency\": 99, \"value\": 126}, \"127\": {\"frequency\": 1, \"value\": 127}, \"128\": {\"frequency\": 12, \"value\": 128}, \"129\": {\"frequency\": 13, \"value\": 129}, \"130\": {\"frequency\": 2, \"value\": 130}, \"131\": {\"frequency\": 16, \"value\": 131}, \"132\": {\"frequency\": 91, \"value\": 132}, \"133\": {\"frequency\": 1, \"value\": 133}, \"134\": {\"frequency\": 2, \"value\": 134}, \"135\": {\"frequency\": 133, \"value\": 135}, \"136\": {\"frequency\": 8, \"value\": 136}, \"137\": {\"frequency\": 13, \"value\": 137}, \"138\": {\"frequency\": 2, \"value\": 138}, \"139\": {\"frequency\": 1, \"value\": 139}, \"140\": {\"frequency\": 139, \"value\": 140}, \"141\": {\"frequency\": 682, \"value\": 141}, \"142\": {\"frequency\": 1, \"value\": 142}, \"144\": {\"frequency\": 433, \"value\": 144}, \"145\": {\"frequency\": 362, \"value\": 145}, \"146\": {\"frequency\": 18, \"value\": 146}, \"147\": {\"frequency\": 181, \"value\": 147}, \"148\": {\"frequency\": 23, \"value\": 148}, \"149\": {\"frequency\": 47, \"value\": 149}, \"150\": {\"frequency\": 1251, \"value\": 150}, \"151\": {\"frequency\": 554, \"value\": 151}, \"152\": {\"frequency\": 69, \"value\": 152}, \"153\": {\"frequency\": 777, \"value\": 153}, \"154\": {\"frequency\": 168, \"value\": 154}, \"155\": {\"frequency\": 87, \"value\": 155}, \"156\": {\"frequency\": 66, \"value\": 156}, \"157\": {\"frequency\": 187, \"value\": 157}, \"158\": {\"frequency\": 259, \"value\": 158}, \"159\": {\"frequency\": 116, \"value\": 159}, \"160\": {\"frequency\": 565, \"value\": 160}, \"161\": {\"frequency\": 760, \"value\": 161}, \"162\": {\"frequency\": 491, \"value\": 162}, \"163\": {\"frequency\": 540, \"value\": 163}, \"164\": {\"frequency\": 379, \"value\": 164}, \"165\": {\"frequency\": 825, \"value\": 165}, \"166\": {\"frequency\": 61, \"value\": 166}, \"167\": {\"frequency\": 5, \"value\": 167}, \"168\": {\"frequency\": 362, \"value\": 168}, \"169\": {\"frequency\": 113, \"value\": 169}, \"170\": {\"frequency\": 321, \"value\": 170}, \"171\": {\"frequency\": 93, \"value\": 171}, \"172\": {\"frequency\": 458, \"value\": 172}, \"173\": {\"frequency\": 564, \"value\": 173}, \"174\": {\"frequency\": 81, \"value\": 174}, \"175\": {\"frequency\": 220, \"value\": 175}, \"176\": {\"frequency\": 205, \"value\": 176}, \"177\": {\"frequency\": 139, \"value\": 177}, \"178\": {\"frequency\": 19, \"value\": 178}, \"179\": {\"frequency\": 48, \"value\": 179}, \"180\": {\"frequency\": 451, \"value\": 180}, \"181\": {\"frequency\": 93, \"value\": 181}, \"182\": {\"frequency\": 49, \"value\": 182}, \"183\": {\"frequency\": 29, \"value\": 183}, \"184\": {\"frequency\": 26, \"value\": 184}, \"185\": {\"frequency\": 569, \"value\": 185}, \"186\": {\"frequency\": 211, \"value\": 186}, \"187\": {\"frequency\": 105, \"value\": 187}, \"188\": {\"frequency\": 190, \"value\": 188}, \"189\": {\"frequency\": 15, \"value\": 189}, \"190\": {\"frequency\": 100, \"value\": 190}, \"191\": {\"frequency\": 75, \"value\": 191}, \"192\": {\"frequency\": 2, \"value\": 192}, \"193\": {\"frequency\": 217, \"value\": 193}, \"194\": {\"frequency\": 213, \"value\": 194}, \"195\": {\"frequency\": 164, \"value\": 195}, \"196\": {\"frequency\": 550, \"value\": 196}, \"197\": {\"frequency\": 17, \"value\": 197}, \"198\": {\"frequency\": 605, \"value\": 198}, \"199\": {\"frequency\": 117, \"value\": 199}, \"200\": {\"frequency\": 12, \"value\": 200}, \"201\": {\"frequency\": 33, \"value\": 201}, \"202\": {\"frequency\": 30, \"value\": 202}, \"203\": {\"frequency\": 203, \"value\": 203}, \"204\": {\"frequency\": 203, \"value\": 204}, \"205\": {\"frequency\": 85, \"value\": 205}, \"206\": {\"frequency\": 82, \"value\": 206}, \"207\": {\"frequency\": 219, \"value\": 207}, \"208\": {\"frequency\": 651, \"value\": 208}, \"209\": {\"frequency\": 52, \"value\": 209}, \"210\": {\"frequency\": 41, \"value\": 210}, \"211\": {\"frequency\": 34, \"value\": 211}, \"212\": {\"frequency\": 14, \"value\": 212}, \"213\": {\"frequency\": 123, \"value\": 213}, \"214\": {\"frequency\": 28, \"value\": 214}, \"215\": {\"frequency\": 160, \"value\": 215}, \"216\": {\"frequency\": 355, \"value\": 216}, \"217\": {\"frequency\": 64, \"value\": 217}, \"218\": {\"frequency\": 195, \"value\": 218}, \"219\": {\"frequency\": 22, \"value\": 219}, \"220\": {\"frequency\": 28, \"value\": 220}, \"222\": {\"frequency\": 329, \"value\": 222}, \"223\": {\"frequency\": 1412, \"value\": 223}, \"224\": {\"frequency\": 386, \"value\": 224}, \"225\": {\"frequency\": 254, \"value\": 225}, \"226\": {\"frequency\": 1, \"value\": 226}, \"227\": {\"frequency\": 129, \"value\": 227}, \"228\": {\"frequency\": 13, \"value\": 228}, \"229\": {\"frequency\": 108, \"value\": 229}, \"230\": {\"frequency\": 349, \"value\": 230}, \"231\": {\"frequency\": 660, \"value\": 231}, \"232\": {\"frequency\": 346, \"value\": 232}, \"233\": {\"frequency\": 235, \"value\": 233}, \"234\": {\"frequency\": 147, \"value\": 234}, \"235\": {\"frequency\": 927, \"value\": 235}, \"236\": {\"frequency\": 326, \"value\": 236}, \"237\": {\"frequency\": 257, \"value\": 237}, \"238\": {\"frequency\": 32, \"value\": 238}, \"239\": {\"frequency\": 168, \"value\": 239}, \"240\": {\"frequency\": 45, \"value\": 240}, \"241\": {\"frequency\": 29, \"value\": 241}, \"242\": {\"frequency\": 80, \"value\": 242}, \"243\": {\"frequency\": 10, \"value\": 243}, \"244\": {\"frequency\": 10, \"value\": 244}, \"245\": {\"frequency\": 11, \"value\": 245}, \"246\": {\"frequency\": 716, \"value\": 246}, \"247\": {\"frequency\": 477, \"value\": 247}, \"248\": {\"frequency\": 138, \"value\": 248}, \"249\": {\"frequency\": 261, \"value\": 249}, \"250\": {\"frequency\": 30, \"value\": 250}, \"251\": {\"frequency\": 18, \"value\": 251}, \"252\": {\"frequency\": 367, \"value\": 252}, \"253\": {\"frequency\": 738, \"value\": 253}, \"254\": {\"frequency\": 38, \"value\": 254}, \"255\": {\"frequency\": 66, \"value\": 255}, \"256\": {\"frequency\": 218, \"value\": 256}, \"257\": {\"frequency\": 114, \"value\": 257}, \"258\": {\"frequency\": 144, \"value\": 258}, \"259\": {\"frequency\": 102, \"value\": 259}, \"260\": {\"frequency\": 2991, \"value\": 260}, \"261\": {\"frequency\": 285, \"value\": 261}, \"262\": {\"frequency\": 172, \"value\": 262}, \"263\": {\"frequency\": 28, \"value\": 263}, \"264\": {\"frequency\": 5, \"value\": 264}, \"265\": {\"frequency\": 772, \"value\": 265}, \"266\": {\"frequency\": 705, \"value\": 266}, \"267\": {\"frequency\": 140, \"value\": 267}, \"268\": {\"frequency\": 54, \"value\": 268}, \"269\": {\"frequency\": 55, \"value\": 269}, \"270\": {\"frequency\": 79, \"value\": 270}, \"271\": {\"frequency\": 63, \"value\": 271}, \"272\": {\"frequency\": 383, \"value\": 272}, \"273\": {\"frequency\": 244, \"value\": 273}, \"274\": {\"frequency\": 24, \"value\": 274}, \"275\": {\"frequency\": 80, \"value\": 275}, \"276\": {\"frequency\": 228, \"value\": 276}, \"277\": {\"frequency\": 170, \"value\": 277}, \"278\": {\"frequency\": 40, \"value\": 278}, \"279\": {\"frequency\": 46, \"value\": 279}, \"280\": {\"frequency\": 212, \"value\": 280}, \"281\": {\"frequency\": 233, \"value\": 281}, \"282\": {\"frequency\": 215, \"value\": 282}, \"283\": {\"frequency\": 18, \"value\": 283}, \"286\": {\"frequency\": 1, \"value\": 286}, \"287\": {\"frequency\": 21, \"value\": 287}, \"288\": {\"frequency\": 700, \"value\": 288}, \"289\": {\"frequency\": 158, \"value\": 289}, \"290\": {\"frequency\": 168, \"value\": 290}, \"291\": {\"frequency\": 48, \"value\": 291}, \"292\": {\"frequency\": 733, \"value\": 292}, \"293\": {\"frequency\": 923, \"value\": 293}, \"294\": {\"frequency\": 42, \"value\": 294}, \"295\": {\"frequency\": 29, \"value\": 295}, \"296\": {\"frequency\": 2171, \"value\": 296}, \"297\": {\"frequency\": 28, \"value\": 297}, \"298\": {\"frequency\": 23, \"value\": 298}, \"299\": {\"frequency\": 143, \"value\": 299}, \"300\": {\"frequency\": 705, \"value\": 300}, \"301\": {\"frequency\": 43, \"value\": 301}, \"302\": {\"frequency\": 86, \"value\": 302}, \"303\": {\"frequency\": 418, \"value\": 303}, \"304\": {\"frequency\": 35, \"value\": 304}, \"305\": {\"frequency\": 127, \"value\": 305}, \"306\": {\"frequency\": 334, \"value\": 306}, \"307\": {\"frequency\": 243, \"value\": 307}, \"308\": {\"frequency\": 202, \"value\": 308}, \"309\": {\"frequency\": 48, \"value\": 309}, \"310\": {\"frequency\": 6, \"value\": 310}, \"311\": {\"frequency\": 1, \"value\": 311}, \"312\": {\"frequency\": 112, \"value\": 312}, \"313\": {\"frequency\": 54, \"value\": 313}, \"314\": {\"frequency\": 300, \"value\": 314}, \"315\": {\"frequency\": 153, \"value\": 315}, \"316\": {\"frequency\": 1116, \"value\": 316}, \"317\": {\"frequency\": 641, \"value\": 317}, \"318\": {\"frequency\": 2227, \"value\": 318}, \"319\": {\"frequency\": 273, \"value\": 319}, \"320\": {\"frequency\": 32, \"value\": 320}, \"321\": {\"frequency\": 61, \"value\": 321}, \"322\": {\"frequency\": 209, \"value\": 322}, \"324\": {\"frequency\": 33, \"value\": 324}, \"325\": {\"frequency\": 49, \"value\": 325}, \"326\": {\"frequency\": 61, \"value\": 326}, \"327\": {\"frequency\": 358, \"value\": 327}, \"328\": {\"frequency\": 144, \"value\": 328}, \"329\": {\"frequency\": 990, \"value\": 329}, \"330\": {\"frequency\": 149, \"value\": 330}, \"331\": {\"frequency\": 21, \"value\": 331}, \"332\": {\"frequency\": 161, \"value\": 332}, \"333\": {\"frequency\": 410, \"value\": 333}, \"334\": {\"frequency\": 114, \"value\": 334}, \"335\": {\"frequency\": 41, \"value\": 335}, \"336\": {\"frequency\": 19, \"value\": 336}, \"337\": {\"frequency\": 693, \"value\": 337}, \"338\": {\"frequency\": 221, \"value\": 338}, \"339\": {\"frequency\": 673, \"value\": 339}, \"340\": {\"frequency\": 84, \"value\": 340}, \"341\": {\"frequency\": 31, \"value\": 341}, \"342\": {\"frequency\": 518, \"value\": 342}, \"343\": {\"frequency\": 42, \"value\": 343}, \"344\": {\"frequency\": 766, \"value\": 344}, \"345\": {\"frequency\": 469, \"value\": 345}, \"346\": {\"frequency\": 120, \"value\": 346}, \"347\": {\"frequency\": 46, \"value\": 347}, \"348\": {\"frequency\": 455, \"value\": 348}, \"349\": {\"frequency\": 1059, \"value\": 349}, \"350\": {\"frequency\": 515, \"value\": 350}, \"351\": {\"frequency\": 257, \"value\": 351}, \"352\": {\"frequency\": 119, \"value\": 352}, \"353\": {\"frequency\": 734, \"value\": 353}, \"354\": {\"frequency\": 67, \"value\": 354}, \"355\": {\"frequency\": 267, \"value\": 355}, \"356\": {\"frequency\": 2194, \"value\": 356}, \"357\": {\"frequency\": 1233, \"value\": 357}, \"358\": {\"frequency\": 141, \"value\": 358}, \"359\": {\"frequency\": 19, \"value\": 359}, \"360\": {\"frequency\": 127, \"value\": 360}, \"361\": {\"frequency\": 268, \"value\": 361}, \"362\": {\"frequency\": 239, \"value\": 362}, \"363\": {\"frequency\": 62, \"value\": 363}, \"364\": {\"frequency\": 1121, \"value\": 364}, \"365\": {\"frequency\": 71, \"value\": 365}, \"366\": {\"frequency\": 251, \"value\": 366}, \"367\": {\"frequency\": 1179, \"value\": 367}, \"368\": {\"frequency\": 802, \"value\": 368}, \"369\": {\"frequency\": 58, \"value\": 369}, \"370\": {\"frequency\": 412, \"value\": 370}, \"371\": {\"frequency\": 212, \"value\": 371}, \"372\": {\"frequency\": 428, \"value\": 372}, \"373\": {\"frequency\": 258, \"value\": 373}, \"374\": {\"frequency\": 183, \"value\": 374}, \"375\": {\"frequency\": 17, \"value\": 375}, \"376\": {\"frequency\": 350, \"value\": 376}, \"377\": {\"frequency\": 1650, \"value\": 377}, \"378\": {\"frequency\": 140, \"value\": 378}, \"379\": {\"frequency\": 436, \"value\": 379}, \"380\": {\"frequency\": 1400, \"value\": 380}, \"381\": {\"frequency\": 211, \"value\": 381}, \"382\": {\"frequency\": 272, \"value\": 382}, \"383\": {\"frequency\": 270, \"value\": 383}, \"384\": {\"frequency\": 40, \"value\": 384}, \"385\": {\"frequency\": 10, \"value\": 385}, \"386\": {\"frequency\": 30, \"value\": 386}, \"387\": {\"frequency\": 102, \"value\": 387}, \"388\": {\"frequency\": 97, \"value\": 388}, \"389\": {\"frequency\": 20, \"value\": 389}, \"390\": {\"frequency\": 59, \"value\": 390}, \"391\": {\"frequency\": 40, \"value\": 391}, \"392\": {\"frequency\": 25, \"value\": 392}, \"393\": {\"frequency\": 105, \"value\": 393}, \"394\": {\"frequency\": 18, \"value\": 394}, \"396\": {\"frequency\": 1, \"value\": 396}, \"397\": {\"frequency\": 12, \"value\": 397}, \"398\": {\"frequency\": 1, \"value\": 398}, \"401\": {\"frequency\": 2, \"value\": 401}, \"402\": {\"frequency\": 1, \"value\": 402}, \"404\": {\"frequency\": 4, \"value\": 404}, \"405\": {\"frequency\": 203, \"value\": 405}, \"406\": {\"frequency\": 8, \"value\": 406}, \"407\": {\"frequency\": 193, \"value\": 407}, \"408\": {\"frequency\": 72, \"value\": 408}, \"409\": {\"frequency\": 49, \"value\": 409}, \"410\": {\"frequency\": 463, \"value\": 410}, \"411\": {\"frequency\": 13, \"value\": 411}, \"412\": {\"frequency\": 295, \"value\": 412}, \"413\": {\"frequency\": 245, \"value\": 413}, \"414\": {\"frequency\": 90, \"value\": 414}, \"415\": {\"frequency\": 179, \"value\": 415}, \"416\": {\"frequency\": 89, \"value\": 416}, \"417\": {\"frequency\": 208, \"value\": 417}, \"418\": {\"frequency\": 29, \"value\": 418}, \"419\": {\"frequency\": 156, \"value\": 419}, \"420\": {\"frequency\": 352, \"value\": 420}, \"421\": {\"frequency\": 94, \"value\": 421}, \"422\": {\"frequency\": 57, \"value\": 422}, \"423\": {\"frequency\": 221, \"value\": 423}, \"424\": {\"frequency\": 75, \"value\": 424}, \"425\": {\"frequency\": 105, \"value\": 425}, \"426\": {\"frequency\": 269, \"value\": 426}, \"427\": {\"frequency\": 166, \"value\": 427}, \"428\": {\"frequency\": 263, \"value\": 428}, \"429\": {\"frequency\": 187, \"value\": 429}, \"430\": {\"frequency\": 24, \"value\": 430}, \"431\": {\"frequency\": 369, \"value\": 431}, \"432\": {\"frequency\": 392, \"value\": 432}, \"433\": {\"frequency\": 48, \"value\": 433}, \"434\": {\"frequency\": 686, \"value\": 434}, \"435\": {\"frequency\": 533, \"value\": 435}, \"436\": {\"frequency\": 141, \"value\": 436}, \"437\": {\"frequency\": 64, \"value\": 437}, \"438\": {\"frequency\": 152, \"value\": 438}, \"439\": {\"frequency\": 2, \"value\": 439}, \"440\": {\"frequency\": 948, \"value\": 440}, \"441\": {\"frequency\": 643, \"value\": 441}, \"442\": {\"frequency\": 640, \"value\": 442}, \"443\": {\"frequency\": 31, \"value\": 443}, \"444\": {\"frequency\": 81, \"value\": 444}, \"445\": {\"frequency\": 100, \"value\": 445}, \"446\": {\"frequency\": 254, \"value\": 446}, \"447\": {\"frequency\": 31, \"value\": 447}, \"448\": {\"frequency\": 228, \"value\": 448}, \"449\": {\"frequency\": 71, \"value\": 449}, \"450\": {\"frequency\": 228, \"value\": 450}, \"451\": {\"frequency\": 106, \"value\": 451}, \"452\": {\"frequency\": 38, \"value\": 452}, \"453\": {\"frequency\": 67, \"value\": 453}, \"454\": {\"frequency\": 824, \"value\": 454}, \"455\": {\"frequency\": 285, \"value\": 455}, \"456\": {\"frequency\": 93, \"value\": 456}, \"457\": {\"frequency\": 1995, \"value\": 457}, \"458\": {\"frequency\": 87, \"value\": 458}, \"459\": {\"frequency\": 143, \"value\": 459}, \"460\": {\"frequency\": 38, \"value\": 460}, \"461\": {\"frequency\": 86, \"value\": 461}, \"462\": {\"frequency\": 28, \"value\": 462}, \"463\": {\"frequency\": 47, \"value\": 463}, \"464\": {\"frequency\": 216, \"value\": 464}, \"465\": {\"frequency\": 105, \"value\": 465}, \"466\": {\"frequency\": 573, \"value\": 466}, \"467\": {\"frequency\": 54, \"value\": 467}, \"468\": {\"frequency\": 350, \"value\": 468}, \"469\": {\"frequency\": 69, \"value\": 469}, \"470\": {\"frequency\": 38, \"value\": 470}, \"471\": {\"frequency\": 599, \"value\": 471}, \"472\": {\"frequency\": 44, \"value\": 472}, \"473\": {\"frequency\": 151, \"value\": 473}, \"474\": {\"frequency\": 972, \"value\": 474}, \"475\": {\"frequency\": 312, \"value\": 475}, \"476\": {\"frequency\": 35, \"value\": 476}, \"477\": {\"frequency\": 195, \"value\": 477}, \"478\": {\"frequency\": 24, \"value\": 478}, \"479\": {\"frequency\": 133, \"value\": 479}, \"480\": {\"frequency\": 2672, \"value\": 480}, \"481\": {\"frequency\": 294, \"value\": 481}, \"482\": {\"frequency\": 176, \"value\": 482}, \"483\": {\"frequency\": 74, \"value\": 483}, \"484\": {\"frequency\": 29, \"value\": 484}, \"485\": {\"frequency\": 500, \"value\": 485}, \"486\": {\"frequency\": 64, \"value\": 486}, \"487\": {\"frequency\": 62, \"value\": 487}, \"488\": {\"frequency\": 39, \"value\": 488}, \"489\": {\"frequency\": 97, \"value\": 489}, \"490\": {\"frequency\": 185, \"value\": 490}, \"491\": {\"frequency\": 212, \"value\": 491}, \"492\": {\"frequency\": 335, \"value\": 492}, \"493\": {\"frequency\": 298, \"value\": 493}, \"494\": {\"frequency\": 416, \"value\": 494}, \"495\": {\"frequency\": 42, \"value\": 495}, \"496\": {\"frequency\": 37, \"value\": 496}, \"497\": {\"frequency\": 667, \"value\": 497}, \"498\": {\"frequency\": 47, \"value\": 498}, \"499\": {\"frequency\": 49, \"value\": 499}, \"500\": {\"frequency\": 838, \"value\": 500}, \"501\": {\"frequency\": 94, \"value\": 501}, \"502\": {\"frequency\": 155, \"value\": 502}, \"503\": {\"frequency\": 13, \"value\": 503}, \"504\": {\"frequency\": 178, \"value\": 504}, \"505\": {\"frequency\": 69, \"value\": 505}, \"506\": {\"frequency\": 114, \"value\": 506}, \"507\": {\"frequency\": 308, \"value\": 507}, \"508\": {\"frequency\": 561, \"value\": 508}, \"509\": {\"frequency\": 608, \"value\": 509}, \"510\": {\"frequency\": 42, \"value\": 510}, \"511\": {\"frequency\": 152, \"value\": 511}, \"512\": {\"frequency\": 179, \"value\": 512}, \"513\": {\"frequency\": 67, \"value\": 513}, \"514\": {\"frequency\": 346, \"value\": 514}, \"515\": {\"frequency\": 450, \"value\": 515}, \"516\": {\"frequency\": 248, \"value\": 516}, \"517\": {\"frequency\": 382, \"value\": 517}, \"518\": {\"frequency\": 149, \"value\": 518}, \"519\": {\"frequency\": 202, \"value\": 519}, \"520\": {\"frequency\": 374, \"value\": 520}, \"521\": {\"frequency\": 117, \"value\": 521}, \"522\": {\"frequency\": 83, \"value\": 522}, \"523\": {\"frequency\": 117, \"value\": 523}, \"524\": {\"frequency\": 476, \"value\": 524}, \"525\": {\"frequency\": 21, \"value\": 525}, \"526\": {\"frequency\": 8, \"value\": 526}, \"527\": {\"frequency\": 2304, \"value\": 527}, \"528\": {\"frequency\": 68, \"value\": 528}, \"529\": {\"frequency\": 720, \"value\": 529}, \"530\": {\"frequency\": 2, \"value\": 530}, \"531\": {\"frequency\": 338, \"value\": 531}, \"532\": {\"frequency\": 389, \"value\": 532}, \"533\": {\"frequency\": 203, \"value\": 533}, \"534\": {\"frequency\": 286, \"value\": 534}, \"535\": {\"frequency\": 301, \"value\": 535}, \"536\": {\"frequency\": 55, \"value\": 536}, \"537\": {\"frequency\": 207, \"value\": 537}, \"538\": {\"frequency\": 315, \"value\": 538}, \"539\": {\"frequency\": 986, \"value\": 539}, \"540\": {\"frequency\": 169, \"value\": 540}, \"541\": {\"frequency\": 1800, \"value\": 541}, \"542\": {\"frequency\": 206, \"value\": 542}, \"543\": {\"frequency\": 682, \"value\": 543}, \"544\": {\"frequency\": 129, \"value\": 544}, \"545\": {\"frequency\": 1, \"value\": 545}, \"546\": {\"frequency\": 350, \"value\": 546}, \"547\": {\"frequency\": 124, \"value\": 547}, \"548\": {\"frequency\": 137, \"value\": 548}, \"549\": {\"frequency\": 157, \"value\": 549}, \"550\": {\"frequency\": 178, \"value\": 550}, \"551\": {\"frequency\": 996, \"value\": 551}, \"552\": {\"frequency\": 529, \"value\": 552}, \"553\": {\"frequency\": 553, \"value\": 553}, \"554\": {\"frequency\": 26, \"value\": 554}, \"555\": {\"frequency\": 658, \"value\": 555}, \"556\": {\"frequency\": 132, \"value\": 556}, \"557\": {\"frequency\": 2, \"value\": 557}, \"558\": {\"frequency\": 135, \"value\": 558}, \"559\": {\"frequency\": 5, \"value\": 559}, \"560\": {\"frequency\": 8, \"value\": 560}, \"561\": {\"frequency\": 13, \"value\": 561}, \"562\": {\"frequency\": 478, \"value\": 562}, \"563\": {\"frequency\": 17, \"value\": 563}, \"564\": {\"frequency\": 45, \"value\": 564}, \"565\": {\"frequency\": 61, \"value\": 565}, \"566\": {\"frequency\": 13, \"value\": 566}, \"567\": {\"frequency\": 14, \"value\": 567}, \"568\": {\"frequency\": 35, \"value\": 568}, \"569\": {\"frequency\": 100, \"value\": 569}, \"570\": {\"frequency\": 23, \"value\": 570}, \"571\": {\"frequency\": 34, \"value\": 571}, \"572\": {\"frequency\": 2, \"value\": 572}, \"573\": {\"frequency\": 21, \"value\": 573}, \"574\": {\"frequency\": 175, \"value\": 574}, \"575\": {\"frequency\": 107, \"value\": 575}, \"576\": {\"frequency\": 1, \"value\": 576}, \"577\": {\"frequency\": 55, \"value\": 577}, \"578\": {\"frequency\": 2, \"value\": 578}, \"579\": {\"frequency\": 1, \"value\": 579}, \"580\": {\"frequency\": 62, \"value\": 580}, \"581\": {\"frequency\": 141, \"value\": 581}, \"582\": {\"frequency\": 2, \"value\": 582}, \"583\": {\"frequency\": 28, \"value\": 583}, \"584\": {\"frequency\": 1, \"value\": 584}, \"585\": {\"frequency\": 418, \"value\": 585}, \"586\": {\"frequency\": 675, \"value\": 586}, \"587\": {\"frequency\": 1124, \"value\": 587}, \"588\": {\"frequency\": 1351, \"value\": 588}, \"589\": {\"frequency\": 2649, \"value\": 589}, \"590\": {\"frequency\": 1451, \"value\": 590}, \"591\": {\"frequency\": 2, \"value\": 591}, \"592\": {\"frequency\": 1431, \"value\": 592}, \"593\": {\"frequency\": 2578, \"value\": 593}, \"594\": {\"frequency\": 763, \"value\": 594}, \"595\": {\"frequency\": 1060, \"value\": 595}, \"596\": {\"frequency\": 498, \"value\": 596}, \"597\": {\"frequency\": 1046, \"value\": 597}, \"598\": {\"frequency\": 8, \"value\": 598}, \"599\": {\"frequency\": 264, \"value\": 599}, \"600\": {\"frequency\": 30, \"value\": 600}, \"601\": {\"frequency\": 1, \"value\": 601}, \"602\": {\"frequency\": 41, \"value\": 602}, \"603\": {\"frequency\": 58, \"value\": 603}, \"605\": {\"frequency\": 226, \"value\": 605}, \"606\": {\"frequency\": 93, \"value\": 606}, \"607\": {\"frequency\": 2, \"value\": 607}, \"608\": {\"frequency\": 2513, \"value\": 608}, \"609\": {\"frequency\": 67, \"value\": 609}, \"610\": {\"frequency\": 618, \"value\": 610}, \"611\": {\"frequency\": 216, \"value\": 611}, \"612\": {\"frequency\": 79, \"value\": 612}, \"613\": {\"frequency\": 82, \"value\": 613}, \"614\": {\"frequency\": 9, \"value\": 614}, \"615\": {\"frequency\": 67, \"value\": 615}, \"616\": {\"frequency\": 278, \"value\": 616}, \"617\": {\"frequency\": 17, \"value\": 617}, \"618\": {\"frequency\": 9, \"value\": 618}, \"619\": {\"frequency\": 32, \"value\": 619}, \"621\": {\"frequency\": 42, \"value\": 621}, \"623\": {\"frequency\": 3, \"value\": 623}, \"624\": {\"frequency\": 1, \"value\": 624}, \"626\": {\"frequency\": 19, \"value\": 626}, \"627\": {\"frequency\": 121, \"value\": 627}, \"628\": {\"frequency\": 485, \"value\": 628}, \"630\": {\"frequency\": 7, \"value\": 630}, \"631\": {\"frequency\": 75, \"value\": 631}, \"632\": {\"frequency\": 13, \"value\": 632}, \"633\": {\"frequency\": 20, \"value\": 633}, \"634\": {\"frequency\": 3, \"value\": 634}, \"635\": {\"frequency\": 77, \"value\": 635}, \"637\": {\"frequency\": 140, \"value\": 637}, \"638\": {\"frequency\": 19, \"value\": 638}, \"639\": {\"frequency\": 78, \"value\": 639}, \"640\": {\"frequency\": 71, \"value\": 640}, \"641\": {\"frequency\": 1, \"value\": 641}, \"642\": {\"frequency\": 1, \"value\": 642}, \"643\": {\"frequency\": 3, \"value\": 643}, \"644\": {\"frequency\": 1, \"value\": 644}, \"645\": {\"frequency\": 20, \"value\": 645}, \"647\": {\"frequency\": 441, \"value\": 647}, \"648\": {\"frequency\": 1527, \"value\": 648}, \"649\": {\"frequency\": 16, \"value\": 649}, \"650\": {\"frequency\": 89, \"value\": 650}, \"651\": {\"frequency\": 1, \"value\": 651}, \"652\": {\"frequency\": 9, \"value\": 652}, \"653\": {\"frequency\": 612, \"value\": 653}, \"655\": {\"frequency\": 1, \"value\": 655}, \"656\": {\"frequency\": 39, \"value\": 656}, \"657\": {\"frequency\": 2, \"value\": 657}, \"658\": {\"frequency\": 1, \"value\": 658}, \"659\": {\"frequency\": 25, \"value\": 659}, \"660\": {\"frequency\": 2, \"value\": 660}, \"661\": {\"frequency\": 525, \"value\": 661}, \"662\": {\"frequency\": 128, \"value\": 662}, \"663\": {\"frequency\": 264, \"value\": 663}, \"664\": {\"frequency\": 8, \"value\": 664}, \"665\": {\"frequency\": 35, \"value\": 665}, \"666\": {\"frequency\": 3, \"value\": 666}, \"667\": {\"frequency\": 47, \"value\": 667}, \"668\": {\"frequency\": 47, \"value\": 668}, \"669\": {\"frequency\": 23, \"value\": 669}, \"670\": {\"frequency\": 56, \"value\": 670}, \"671\": {\"frequency\": 456, \"value\": 671}, \"672\": {\"frequency\": 2, \"value\": 672}, \"673\": {\"frequency\": 563, \"value\": 673}, \"674\": {\"frequency\": 386, \"value\": 674}, \"678\": {\"frequency\": 306, \"value\": 678}, \"679\": {\"frequency\": 2, \"value\": 679}, \"680\": {\"frequency\": 64, \"value\": 680}, \"681\": {\"frequency\": 15, \"value\": 681}, \"682\": {\"frequency\": 4, \"value\": 682}, \"684\": {\"frequency\": 1, \"value\": 684}, \"685\": {\"frequency\": 30, \"value\": 685}, \"687\": {\"frequency\": 3, \"value\": 687}, \"688\": {\"frequency\": 213, \"value\": 688}, \"690\": {\"frequency\": 2, \"value\": 690}, \"691\": {\"frequency\": 121, \"value\": 691}, \"692\": {\"frequency\": 106, \"value\": 692}, \"694\": {\"frequency\": 141, \"value\": 694}, \"695\": {\"frequency\": 135, \"value\": 695}, \"696\": {\"frequency\": 4, \"value\": 696}, \"697\": {\"frequency\": 85, \"value\": 697}, \"698\": {\"frequency\": 5, \"value\": 698}, \"700\": {\"frequency\": 145, \"value\": 700}, \"701\": {\"frequency\": 1, \"value\": 701}, \"702\": {\"frequency\": 27, \"value\": 702}, \"703\": {\"frequency\": 10, \"value\": 703}, \"704\": {\"frequency\": 42, \"value\": 704}, \"705\": {\"frequency\": 36, \"value\": 705}, \"706\": {\"frequency\": 2, \"value\": 706}, \"707\": {\"frequency\": 275, \"value\": 707}, \"708\": {\"frequency\": 679, \"value\": 708}, \"709\": {\"frequency\": 144, \"value\": 709}, \"710\": {\"frequency\": 51, \"value\": 710}, \"711\": {\"frequency\": 62, \"value\": 711}, \"712\": {\"frequency\": 2, \"value\": 712}, \"714\": {\"frequency\": 153, \"value\": 714}, \"715\": {\"frequency\": 52, \"value\": 715}, \"716\": {\"frequency\": 28, \"value\": 716}, \"717\": {\"frequency\": 1, \"value\": 717}, \"718\": {\"frequency\": 33, \"value\": 718}, \"719\": {\"frequency\": 239, \"value\": 719}, \"720\": {\"frequency\": 438, \"value\": 720}, \"722\": {\"frequency\": 27, \"value\": 722}, \"724\": {\"frequency\": 416, \"value\": 724}, \"725\": {\"frequency\": 91, \"value\": 725}, \"726\": {\"frequency\": 9, \"value\": 726}, \"728\": {\"frequency\": 217, \"value\": 728}, \"729\": {\"frequency\": 3, \"value\": 729}, \"730\": {\"frequency\": 1, \"value\": 730}, \"731\": {\"frequency\": 47, \"value\": 731}, \"732\": {\"frequency\": 6, \"value\": 732}, \"733\": {\"frequency\": 1340, \"value\": 733}, \"734\": {\"frequency\": 3, \"value\": 734}, \"735\": {\"frequency\": 101, \"value\": 735}, \"736\": {\"frequency\": 1110, \"value\": 736}, \"737\": {\"frequency\": 300, \"value\": 737}, \"741\": {\"frequency\": 314, \"value\": 741}, \"742\": {\"frequency\": 174, \"value\": 742}, \"743\": {\"frequency\": 107, \"value\": 743}, \"744\": {\"frequency\": 3, \"value\": 744}, \"745\": {\"frequency\": 657, \"value\": 745}, \"746\": {\"frequency\": 31, \"value\": 746}, \"747\": {\"frequency\": 55, \"value\": 747}, \"748\": {\"frequency\": 417, \"value\": 748}, \"749\": {\"frequency\": 4, \"value\": 749}, \"750\": {\"frequency\": 1367, \"value\": 750}, \"751\": {\"frequency\": 15, \"value\": 751}, \"753\": {\"frequency\": 32, \"value\": 753}, \"754\": {\"frequency\": 13, \"value\": 754}, \"755\": {\"frequency\": 9, \"value\": 755}, \"756\": {\"frequency\": 4, \"value\": 756}, \"757\": {\"frequency\": 4, \"value\": 757}, \"758\": {\"frequency\": 1, \"value\": 758}, \"759\": {\"frequency\": 59, \"value\": 759}, \"760\": {\"frequency\": 33, \"value\": 760}, \"761\": {\"frequency\": 123, \"value\": 761}, \"762\": {\"frequency\": 298, \"value\": 762}, \"763\": {\"frequency\": 1, \"value\": 763}, \"764\": {\"frequency\": 74, \"value\": 764}, \"765\": {\"frequency\": 171, \"value\": 765}, \"766\": {\"frequency\": 100, \"value\": 766}, \"767\": {\"frequency\": 24, \"value\": 767}, \"769\": {\"frequency\": 12, \"value\": 769}, \"771\": {\"frequency\": 18, \"value\": 771}, \"774\": {\"frequency\": 1, \"value\": 774}, \"775\": {\"frequency\": 9, \"value\": 775}, \"776\": {\"frequency\": 4, \"value\": 776}, \"778\": {\"frequency\": 751, \"value\": 778}, \"779\": {\"frequency\": 52, \"value\": 779}, \"780\": {\"frequency\": 1730, \"value\": 780}, \"781\": {\"frequency\": 103, \"value\": 781}, \"782\": {\"frequency\": 145, \"value\": 782}, \"783\": {\"frequency\": 390, \"value\": 783}, \"784\": {\"frequency\": 385, \"value\": 784}, \"785\": {\"frequency\": 765, \"value\": 785}, \"786\": {\"frequency\": 460, \"value\": 786}, \"787\": {\"frequency\": 3, \"value\": 787}, \"788\": {\"frequency\": 948, \"value\": 788}, \"789\": {\"frequency\": 2, \"value\": 789}, \"790\": {\"frequency\": 1, \"value\": 790}, \"791\": {\"frequency\": 2, \"value\": 791}, \"792\": {\"frequency\": 1, \"value\": 792}, \"793\": {\"frequency\": 10, \"value\": 793}, \"796\": {\"frequency\": 3, \"value\": 796}, \"798\": {\"frequency\": 204, \"value\": 798}, \"799\": {\"frequency\": 338, \"value\": 799}, \"800\": {\"frequency\": 630, \"value\": 800}, \"801\": {\"frequency\": 121, \"value\": 801}, \"802\": {\"frequency\": 427, \"value\": 802}, \"803\": {\"frequency\": 57, \"value\": 803}, \"804\": {\"frequency\": 233, \"value\": 804}, \"805\": {\"frequency\": 344, \"value\": 805}, \"806\": {\"frequency\": 60, \"value\": 806}, \"807\": {\"frequency\": 14, \"value\": 807}, \"808\": {\"frequency\": 43, \"value\": 808}, \"809\": {\"frequency\": 105, \"value\": 809}, \"810\": {\"frequency\": 120, \"value\": 810}, \"811\": {\"frequency\": 9, \"value\": 811}, \"813\": {\"frequency\": 47, \"value\": 813}, \"814\": {\"frequency\": 1, \"value\": 814}, \"815\": {\"frequency\": 6, \"value\": 815}, \"818\": {\"frequency\": 189, \"value\": 818}, \"820\": {\"frequency\": 4, \"value\": 820}, \"821\": {\"frequency\": 2, \"value\": 821}, \"823\": {\"frequency\": 4, \"value\": 823}, \"824\": {\"frequency\": 28, \"value\": 824}, \"826\": {\"frequency\": 1, \"value\": 826}, \"827\": {\"frequency\": 2, \"value\": 827}, \"828\": {\"frequency\": 54, \"value\": 828}, \"829\": {\"frequency\": 131, \"value\": 829}, \"830\": {\"frequency\": 295, \"value\": 830}, \"831\": {\"frequency\": 20, \"value\": 831}, \"832\": {\"frequency\": 564, \"value\": 832}, \"833\": {\"frequency\": 78, \"value\": 833}, \"834\": {\"frequency\": 4, \"value\": 834}, \"835\": {\"frequency\": 103, \"value\": 835}, \"836\": {\"frequency\": 237, \"value\": 836}, \"837\": {\"frequency\": 218, \"value\": 837}, \"838\": {\"frequency\": 501, \"value\": 838}, \"839\": {\"frequency\": 135, \"value\": 839}, \"840\": {\"frequency\": 50, \"value\": 840}, \"841\": {\"frequency\": 25, \"value\": 841}, \"842\": {\"frequency\": 151, \"value\": 842}, \"843\": {\"frequency\": 1, \"value\": 843}, \"844\": {\"frequency\": 7, \"value\": 844}, \"846\": {\"frequency\": 38, \"value\": 846}, \"847\": {\"frequency\": 7, \"value\": 847}, \"848\": {\"frequency\": 156, \"value\": 848}, \"849\": {\"frequency\": 511, \"value\": 849}, \"850\": {\"frequency\": 30, \"value\": 850}, \"851\": {\"frequency\": 127, \"value\": 851}, \"852\": {\"frequency\": 615, \"value\": 852}, \"853\": {\"frequency\": 3, \"value\": 853}, \"854\": {\"frequency\": 8, \"value\": 854}, \"858\": {\"frequency\": 2223, \"value\": 858}, \"859\": {\"frequency\": 1, \"value\": 859}, \"860\": {\"frequency\": 10, \"value\": 860}, \"861\": {\"frequency\": 273, \"value\": 861}, \"862\": {\"frequency\": 31, \"value\": 862}, \"863\": {\"frequency\": 10, \"value\": 863}, \"864\": {\"frequency\": 12, \"value\": 864}, \"865\": {\"frequency\": 1, \"value\": 865}, \"866\": {\"frequency\": 572, \"value\": 866}, \"867\": {\"frequency\": 24, \"value\": 867}, \"868\": {\"frequency\": 1, \"value\": 868}, \"869\": {\"frequency\": 42, \"value\": 869}, \"870\": {\"frequency\": 49, \"value\": 870}, \"872\": {\"frequency\": 1, \"value\": 872}, \"874\": {\"frequency\": 8, \"value\": 874}, \"875\": {\"frequency\": 44, \"value\": 875}, \"876\": {\"frequency\": 21, \"value\": 876}, \"877\": {\"frequency\": 24, \"value\": 877}, \"878\": {\"frequency\": 1, \"value\": 878}, \"879\": {\"frequency\": 237, \"value\": 879}, \"880\": {\"frequency\": 324, \"value\": 880}, \"881\": {\"frequency\": 77, \"value\": 881}, \"882\": {\"frequency\": 59, \"value\": 882}, \"884\": {\"frequency\": 2, \"value\": 884}, \"885\": {\"frequency\": 43, \"value\": 885}, \"886\": {\"frequency\": 104, \"value\": 886}, \"887\": {\"frequency\": 2, \"value\": 887}, \"888\": {\"frequency\": 48, \"value\": 888}, \"889\": {\"frequency\": 2, \"value\": 889}, \"891\": {\"frequency\": 183, \"value\": 891}, \"892\": {\"frequency\": 152, \"value\": 892}, \"893\": {\"frequency\": 69, \"value\": 893}, \"895\": {\"frequency\": 2, \"value\": 895}, \"896\": {\"frequency\": 51, \"value\": 896}, \"897\": {\"frequency\": 98, \"value\": 897}, \"898\": {\"frequency\": 582, \"value\": 898}, \"899\": {\"frequency\": 751, \"value\": 899}, \"900\": {\"frequency\": 343, \"value\": 900}, \"901\": {\"frequency\": 174, \"value\": 901}, \"902\": {\"frequency\": 676, \"value\": 902}, \"903\": {\"frequency\": 905, \"value\": 903}, \"904\": {\"frequency\": 1050, \"value\": 904}, \"905\": {\"frequency\": 374, \"value\": 905}, \"906\": {\"frequency\": 187, \"value\": 906}, \"907\": {\"frequency\": 105, \"value\": 907}, \"908\": {\"frequency\": 1315, \"value\": 908}, \"909\": {\"frequency\": 417, \"value\": 909}, \"910\": {\"frequency\": 832, \"value\": 910}, \"911\": {\"frequency\": 306, \"value\": 911}, \"912\": {\"frequency\": 1669, \"value\": 912}, \"913\": {\"frequency\": 1043, \"value\": 913}, \"914\": {\"frequency\": 636, \"value\": 914}, \"915\": {\"frequency\": 365, \"value\": 915}, \"916\": {\"frequency\": 425, \"value\": 916}, \"917\": {\"frequency\": 77, \"value\": 917}, \"918\": {\"frequency\": 189, \"value\": 918}, \"919\": {\"frequency\": 1718, \"value\": 919}, \"920\": {\"frequency\": 1156, \"value\": 920}, \"921\": {\"frequency\": 302, \"value\": 921}, \"922\": {\"frequency\": 470, \"value\": 922}, \"923\": {\"frequency\": 1116, \"value\": 923}, \"924\": {\"frequency\": 1716, \"value\": 924}, \"925\": {\"frequency\": 12, \"value\": 925}, \"926\": {\"frequency\": 403, \"value\": 926}, \"927\": {\"frequency\": 84, \"value\": 927}, \"928\": {\"frequency\": 386, \"value\": 928}, \"929\": {\"frequency\": 93, \"value\": 929}, \"930\": {\"frequency\": 445, \"value\": 930}, \"931\": {\"frequency\": 206, \"value\": 931}, \"932\": {\"frequency\": 189, \"value\": 932}, \"933\": {\"frequency\": 443, \"value\": 933}, \"934\": {\"frequency\": 304, \"value\": 934}, \"935\": {\"frequency\": 71, \"value\": 935}, \"936\": {\"frequency\": 132, \"value\": 936}, \"937\": {\"frequency\": 44, \"value\": 937}, \"938\": {\"frequency\": 187, \"value\": 938}, \"939\": {\"frequency\": 11, \"value\": 939}, \"940\": {\"frequency\": 378, \"value\": 940}, \"941\": {\"frequency\": 105, \"value\": 941}, \"942\": {\"frequency\": 292, \"value\": 942}, \"943\": {\"frequency\": 171, \"value\": 943}, \"944\": {\"frequency\": 97, \"value\": 944}, \"945\": {\"frequency\": 251, \"value\": 945}, \"946\": {\"frequency\": 161, \"value\": 946}, \"947\": {\"frequency\": 188, \"value\": 947}, \"948\": {\"frequency\": 130, \"value\": 948}, \"949\": {\"frequency\": 215, \"value\": 949}, \"950\": {\"frequency\": 292, \"value\": 950}, \"951\": {\"frequency\": 397, \"value\": 951}, \"952\": {\"frequency\": 269, \"value\": 952}, \"953\": {\"frequency\": 729, \"value\": 953}, \"954\": {\"frequency\": 383, \"value\": 954}, \"955\": {\"frequency\": 413, \"value\": 955}, \"956\": {\"frequency\": 40, \"value\": 956}, \"957\": {\"frequency\": 37, \"value\": 957}, \"958\": {\"frequency\": 13, \"value\": 958}, \"959\": {\"frequency\": 58, \"value\": 959}, \"960\": {\"frequency\": 20, \"value\": 960}, \"961\": {\"frequency\": 23, \"value\": 961}, \"962\": {\"frequency\": 11, \"value\": 962}, \"963\": {\"frequency\": 54, \"value\": 963}, \"964\": {\"frequency\": 51, \"value\": 964}, \"965\": {\"frequency\": 253, \"value\": 965}, \"966\": {\"frequency\": 6, \"value\": 966}, \"967\": {\"frequency\": 23, \"value\": 967}, \"968\": {\"frequency\": 715, \"value\": 968}, \"969\": {\"frequency\": 1057, \"value\": 969}, \"970\": {\"frequency\": 37, \"value\": 970}, \"971\": {\"frequency\": 271, \"value\": 971}, \"972\": {\"frequency\": 6, \"value\": 972}, \"973\": {\"frequency\": 82, \"value\": 973}, \"974\": {\"frequency\": 16, \"value\": 974}, \"975\": {\"frequency\": 2, \"value\": 975}, \"976\": {\"frequency\": 56, \"value\": 976}, \"977\": {\"frequency\": 2, \"value\": 977}, \"978\": {\"frequency\": 100, \"value\": 978}, \"980\": {\"frequency\": 5, \"value\": 980}, \"981\": {\"frequency\": 4, \"value\": 981}, \"982\": {\"frequency\": 81, \"value\": 982}, \"984\": {\"frequency\": 33, \"value\": 984}, \"985\": {\"frequency\": 4, \"value\": 985}, \"986\": {\"frequency\": 232, \"value\": 986}, \"987\": {\"frequency\": 40, \"value\": 987}, \"988\": {\"frequency\": 69, \"value\": 988}, \"989\": {\"frequency\": 1, \"value\": 989}, \"990\": {\"frequency\": 54, \"value\": 990}, \"991\": {\"frequency\": 170, \"value\": 991}, \"992\": {\"frequency\": 20, \"value\": 992}, \"993\": {\"frequency\": 9, \"value\": 993}, \"994\": {\"frequency\": 450, \"value\": 994}, \"996\": {\"frequency\": 256, \"value\": 996}, \"997\": {\"frequency\": 28, \"value\": 997}, \"998\": {\"frequency\": 93, \"value\": 998}, \"999\": {\"frequency\": 286, \"value\": 999}, \"1000\": {\"frequency\": 20, \"value\": 1000}, \"1002\": {\"frequency\": 8, \"value\": 1002}, \"1003\": {\"frequency\": 121, \"value\": 1003}, \"1004\": {\"frequency\": 101, \"value\": 1004}, \"1005\": {\"frequency\": 142, \"value\": 1005}, \"1006\": {\"frequency\": 78, \"value\": 1006}, \"1007\": {\"frequency\": 232, \"value\": 1007}, \"1008\": {\"frequency\": 97, \"value\": 1008}, \"1009\": {\"frequency\": 291, \"value\": 1009}, \"1010\": {\"frequency\": 242, \"value\": 1010}, \"1011\": {\"frequency\": 135, \"value\": 1011}, \"1012\": {\"frequency\": 301, \"value\": 1012}, \"1013\": {\"frequency\": 258, \"value\": 1013}, \"1014\": {\"frequency\": 136, \"value\": 1014}, \"1015\": {\"frequency\": 234, \"value\": 1015}, \"1016\": {\"frequency\": 156, \"value\": 1016}, \"1017\": {\"frequency\": 276, \"value\": 1017}, \"1018\": {\"frequency\": 123, \"value\": 1018}, \"1019\": {\"frequency\": 575, \"value\": 1019}, \"1020\": {\"frequency\": 392, \"value\": 1020}, \"1021\": {\"frequency\": 247, \"value\": 1021}, \"1022\": {\"frequency\": 577, \"value\": 1022}, \"1023\": {\"frequency\": 221, \"value\": 1023}, \"1024\": {\"frequency\": 126, \"value\": 1024}, \"1025\": {\"frequency\": 293, \"value\": 1025}, \"1026\": {\"frequency\": 8, \"value\": 1026}, \"1027\": {\"frequency\": 344, \"value\": 1027}, \"1028\": {\"frequency\": 1011, \"value\": 1028}, \"1029\": {\"frequency\": 568, \"value\": 1029}, \"1030\": {\"frequency\": 323, \"value\": 1030}, \"1031\": {\"frequency\": 319, \"value\": 1031}, \"1032\": {\"frequency\": 525, \"value\": 1032}, \"1033\": {\"frequency\": 287, \"value\": 1033}, \"1034\": {\"frequency\": 169, \"value\": 1034}, \"1035\": {\"frequency\": 882, \"value\": 1035}, \"1036\": {\"frequency\": 1666, \"value\": 1036}, \"1037\": {\"frequency\": 615, \"value\": 1037}, \"1038\": {\"frequency\": 11, \"value\": 1038}, \"1039\": {\"frequency\": 3, \"value\": 1039}, \"1040\": {\"frequency\": 5, \"value\": 1040}, \"1041\": {\"frequency\": 474, \"value\": 1041}, \"1042\": {\"frequency\": 528, \"value\": 1042}, \"1043\": {\"frequency\": 108, \"value\": 1043}, \"1044\": {\"frequency\": 35, \"value\": 1044}, \"1046\": {\"frequency\": 90, \"value\": 1046}, \"1047\": {\"frequency\": 434, \"value\": 1047}, \"1049\": {\"frequency\": 451, \"value\": 1049}, \"1050\": {\"frequency\": 146, \"value\": 1050}, \"1051\": {\"frequency\": 98, \"value\": 1051}, \"1053\": {\"frequency\": 35, \"value\": 1053}, \"1054\": {\"frequency\": 81, \"value\": 1054}, \"1055\": {\"frequency\": 19, \"value\": 1055}, \"1056\": {\"frequency\": 50, \"value\": 1056}, \"1057\": {\"frequency\": 274, \"value\": 1057}, \"1058\": {\"frequency\": 11, \"value\": 1058}, \"1059\": {\"frequency\": 479, \"value\": 1059}, \"1060\": {\"frequency\": 786, \"value\": 1060}, \"1061\": {\"frequency\": 374, \"value\": 1061}, \"1062\": {\"frequency\": 2, \"value\": 1062}, \"1063\": {\"frequency\": 26, \"value\": 1063}, \"1064\": {\"frequency\": 209, \"value\": 1064}, \"1066\": {\"frequency\": 175, \"value\": 1066}, \"1067\": {\"frequency\": 23, \"value\": 1067}, \"1068\": {\"frequency\": 35, \"value\": 1068}, \"1069\": {\"frequency\": 110, \"value\": 1069}, \"1070\": {\"frequency\": 2, \"value\": 1070}, \"1071\": {\"frequency\": 5, \"value\": 1071}, \"1073\": {\"frequency\": 1313, \"value\": 1073}, \"1076\": {\"frequency\": 23, \"value\": 1076}, \"1077\": {\"frequency\": 744, \"value\": 1077}, \"1078\": {\"frequency\": 372, \"value\": 1078}, \"1079\": {\"frequency\": 1326, \"value\": 1079}, \"1080\": {\"frequency\": 926, \"value\": 1080}, \"1081\": {\"frequency\": 434, \"value\": 1081}, \"1082\": {\"frequency\": 154, \"value\": 1082}, \"1083\": {\"frequency\": 164, \"value\": 1083}, \"1084\": {\"frequency\": 686, \"value\": 1084}, \"1085\": {\"frequency\": 131, \"value\": 1085}, \"1086\": {\"frequency\": 379, \"value\": 1086}, \"1087\": {\"frequency\": 18, \"value\": 1087}, \"1088\": {\"frequency\": 687, \"value\": 1088}, \"1089\": {\"frequency\": 1259, \"value\": 1089}, \"1090\": {\"frequency\": 1143, \"value\": 1090}, \"1091\": {\"frequency\": 373, \"value\": 1091}, \"1092\": {\"frequency\": 751, \"value\": 1092}, \"1093\": {\"frequency\": 680, \"value\": 1093}, \"1094\": {\"frequency\": 1229, \"value\": 1094}, \"1095\": {\"frequency\": 571, \"value\": 1095}, \"1096\": {\"frequency\": 344, \"value\": 1096}, \"1097\": {\"frequency\": 2269, \"value\": 1097}, \"1098\": {\"frequency\": 5, \"value\": 1098}, \"1099\": {\"frequency\": 194, \"value\": 1099}, \"1100\": {\"frequency\": 420, \"value\": 1100}, \"1101\": {\"frequency\": 1010, \"value\": 1101}, \"1102\": {\"frequency\": 4, \"value\": 1102}, \"1103\": {\"frequency\": 402, \"value\": 1103}, \"1104\": {\"frequency\": 483, \"value\": 1104}, \"1105\": {\"frequency\": 42, \"value\": 1105}, \"1107\": {\"frequency\": 3, \"value\": 1107}, \"1111\": {\"frequency\": 94, \"value\": 1111}, \"1112\": {\"frequency\": 35, \"value\": 1112}, \"1113\": {\"frequency\": 50, \"value\": 1113}, \"1114\": {\"frequency\": 31, \"value\": 1114}, \"1115\": {\"frequency\": 1, \"value\": 1115}, \"1116\": {\"frequency\": 17, \"value\": 1116}, \"1117\": {\"frequency\": 12, \"value\": 1117}, \"1118\": {\"frequency\": 1, \"value\": 1118}, \"1119\": {\"frequency\": 34, \"value\": 1119}, \"1120\": {\"frequency\": 456, \"value\": 1120}, \"1121\": {\"frequency\": 13, \"value\": 1121}, \"1123\": {\"frequency\": 33, \"value\": 1123}, \"1124\": {\"frequency\": 405, \"value\": 1124}, \"1125\": {\"frequency\": 385, \"value\": 1125}, \"1126\": {\"frequency\": 317, \"value\": 1126}, \"1127\": {\"frequency\": 1715, \"value\": 1127}, \"1128\": {\"frequency\": 170, \"value\": 1128}, \"1129\": {\"frequency\": 884, \"value\": 1129}, \"1130\": {\"frequency\": 231, \"value\": 1130}, \"1131\": {\"frequency\": 216, \"value\": 1131}, \"1132\": {\"frequency\": 220, \"value\": 1132}, \"1133\": {\"frequency\": 2, \"value\": 1133}, \"1134\": {\"frequency\": 2, \"value\": 1134}, \"1135\": {\"frequency\": 407, \"value\": 1135}, \"1136\": {\"frequency\": 1599, \"value\": 1136}, \"1138\": {\"frequency\": 7, \"value\": 1138}, \"1139\": {\"frequency\": 2, \"value\": 1139}, \"1142\": {\"frequency\": 2, \"value\": 1142}, \"1144\": {\"frequency\": 16, \"value\": 1144}, \"1145\": {\"frequency\": 2, \"value\": 1145}, \"1147\": {\"frequency\": 277, \"value\": 1147}, \"1148\": {\"frequency\": 882, \"value\": 1148}, \"1149\": {\"frequency\": 4, \"value\": 1149}, \"1150\": {\"frequency\": 158, \"value\": 1150}, \"1151\": {\"frequency\": 31, \"value\": 1151}, \"1152\": {\"frequency\": 29, \"value\": 1152}, \"1153\": {\"frequency\": 14, \"value\": 1153}, \"1154\": {\"frequency\": 15, \"value\": 1154}, \"1160\": {\"frequency\": 6, \"value\": 1160}, \"1161\": {\"frequency\": 94, \"value\": 1161}, \"1162\": {\"frequency\": 96, \"value\": 1162}, \"1163\": {\"frequency\": 19, \"value\": 1163}, \"1164\": {\"frequency\": 5, \"value\": 1164}, \"1165\": {\"frequency\": 1, \"value\": 1165}, \"1167\": {\"frequency\": 94, \"value\": 1167}, \"1168\": {\"frequency\": 18, \"value\": 1168}, \"1169\": {\"frequency\": 36, \"value\": 1169}, \"1170\": {\"frequency\": 17, \"value\": 1170}, \"1171\": {\"frequency\": 415, \"value\": 1171}, \"1172\": {\"frequency\": 615, \"value\": 1172}, \"1173\": {\"frequency\": 198, \"value\": 1173}, \"1174\": {\"frequency\": 5, \"value\": 1174}, \"1175\": {\"frequency\": 368, \"value\": 1175}, \"1176\": {\"frequency\": 129, \"value\": 1176}, \"1177\": {\"frequency\": 147, \"value\": 1177}, \"1178\": {\"frequency\": 230, \"value\": 1178}, \"1179\": {\"frequency\": 885, \"value\": 1179}, \"1180\": {\"frequency\": 50, \"value\": 1180}, \"1181\": {\"frequency\": 10, \"value\": 1181}, \"1183\": {\"frequency\": 989, \"value\": 1183}, \"1184\": {\"frequency\": 91, \"value\": 1184}, \"1185\": {\"frequency\": 453, \"value\": 1185}, \"1186\": {\"frequency\": 562, \"value\": 1186}, \"1187\": {\"frequency\": 147, \"value\": 1187}, \"1188\": {\"frequency\": 676, \"value\": 1188}, \"1189\": {\"frequency\": 269, \"value\": 1189}, \"1190\": {\"frequency\": 132, \"value\": 1190}, \"1191\": {\"frequency\": 209, \"value\": 1191}, \"1192\": {\"frequency\": 105, \"value\": 1192}, \"1193\": {\"frequency\": 1725, \"value\": 1193}, \"1194\": {\"frequency\": 212, \"value\": 1194}, \"1196\": {\"frequency\": 2990, \"value\": 1196}, \"1197\": {\"frequency\": 2318, \"value\": 1197}, \"1198\": {\"frequency\": 2514, \"value\": 1198}, \"1199\": {\"frequency\": 913, \"value\": 1199}, \"1200\": {\"frequency\": 1820, \"value\": 1200}, \"1201\": {\"frequency\": 822, \"value\": 1201}, \"1202\": {\"frequency\": 72, \"value\": 1202}, \"1203\": {\"frequency\": 616, \"value\": 1203}, \"1204\": {\"frequency\": 831, \"value\": 1204}, \"1205\": {\"frequency\": 231, \"value\": 1205}, \"1206\": {\"frequency\": 1229, \"value\": 1206}, \"1207\": {\"frequency\": 928, \"value\": 1207}, \"1208\": {\"frequency\": 1176, \"value\": 1208}, \"1209\": {\"frequency\": 173, \"value\": 1209}, \"1210\": {\"frequency\": 2883, \"value\": 1210}, \"1211\": {\"frequency\": 242, \"value\": 1211}, \"1212\": {\"frequency\": 480, \"value\": 1212}, \"1213\": {\"frequency\": 1657, \"value\": 1213}, \"1214\": {\"frequency\": 2024, \"value\": 1214}, \"1215\": {\"frequency\": 945, \"value\": 1215}, \"1216\": {\"frequency\": 87, \"value\": 1216}, \"1217\": {\"frequency\": 357, \"value\": 1217}, \"1218\": {\"frequency\": 244, \"value\": 1218}, \"1219\": {\"frequency\": 1263, \"value\": 1219}, \"1220\": {\"frequency\": 1341, \"value\": 1220}, \"1221\": {\"frequency\": 1692, \"value\": 1221}, \"1222\": {\"frequency\": 1254, \"value\": 1222}, \"1223\": {\"frequency\": 473, \"value\": 1223}, \"1224\": {\"frequency\": 426, \"value\": 1224}, \"1225\": {\"frequency\": 1382, \"value\": 1225}, \"1226\": {\"frequency\": 226, \"value\": 1226}, \"1227\": {\"frequency\": 241, \"value\": 1227}, \"1228\": {\"frequency\": 677, \"value\": 1228}, \"1230\": {\"frequency\": 1334, \"value\": 1230}, \"1231\": {\"frequency\": 750, \"value\": 1231}, \"1232\": {\"frequency\": 52, \"value\": 1232}, \"1233\": {\"frequency\": 1001, \"value\": 1233}, \"1234\": {\"frequency\": 1049, \"value\": 1234}, \"1235\": {\"frequency\": 697, \"value\": 1235}, \"1236\": {\"frequency\": 90, \"value\": 1236}, \"1237\": {\"frequency\": 299, \"value\": 1237}, \"1238\": {\"frequency\": 351, \"value\": 1238}, \"1240\": {\"frequency\": 2098, \"value\": 1240}, \"1241\": {\"frequency\": 70, \"value\": 1241}, \"1242\": {\"frequency\": 1112, \"value\": 1242}, \"1243\": {\"frequency\": 325, \"value\": 1243}, \"1244\": {\"frequency\": 718, \"value\": 1244}, \"1245\": {\"frequency\": 358, \"value\": 1245}, \"1246\": {\"frequency\": 855, \"value\": 1246}, \"1247\": {\"frequency\": 1261, \"value\": 1247}, \"1248\": {\"frequency\": 514, \"value\": 1248}, \"1249\": {\"frequency\": 733, \"value\": 1249}, \"1250\": {\"frequency\": 938, \"value\": 1250}, \"1251\": {\"frequency\": 228, \"value\": 1251}, \"1252\": {\"frequency\": 1185, \"value\": 1252}, \"1253\": {\"frequency\": 559, \"value\": 1253}, \"1254\": {\"frequency\": 453, \"value\": 1254}, \"1255\": {\"frequency\": 54, \"value\": 1255}, \"1256\": {\"frequency\": 594, \"value\": 1256}, \"1257\": {\"frequency\": 472, \"value\": 1257}, \"1258\": {\"frequency\": 1087, \"value\": 1258}, \"1259\": {\"frequency\": 1785, \"value\": 1259}, \"1260\": {\"frequency\": 308, \"value\": 1260}, \"1261\": {\"frequency\": 548, \"value\": 1261}, \"1262\": {\"frequency\": 696, \"value\": 1262}, \"1263\": {\"frequency\": 700, \"value\": 1263}, \"1264\": {\"frequency\": 257, \"value\": 1264}, \"1265\": {\"frequency\": 2278, \"value\": 1265}, \"1266\": {\"frequency\": 997, \"value\": 1266}, \"1267\": {\"frequency\": 765, \"value\": 1267}, \"1268\": {\"frequency\": 317, \"value\": 1268}, \"1269\": {\"frequency\": 672, \"value\": 1269}, \"1270\": {\"frequency\": 2583, \"value\": 1270}, \"1271\": {\"frequency\": 593, \"value\": 1271}, \"1272\": {\"frequency\": 645, \"value\": 1272}, \"1273\": {\"frequency\": 146, \"value\": 1273}, \"1274\": {\"frequency\": 452, \"value\": 1274}, \"1275\": {\"frequency\": 741, \"value\": 1275}, \"1276\": {\"frequency\": 930, \"value\": 1276}, \"1277\": {\"frequency\": 363, \"value\": 1277}, \"1278\": {\"frequency\": 1193, \"value\": 1278}, \"1279\": {\"frequency\": 194, \"value\": 1279}, \"1280\": {\"frequency\": 277, \"value\": 1280}, \"1281\": {\"frequency\": 216, \"value\": 1281}, \"1282\": {\"frequency\": 943, \"value\": 1282}, \"1283\": {\"frequency\": 403, \"value\": 1283}, \"1284\": {\"frequency\": 541, \"value\": 1284}, \"1285\": {\"frequency\": 803, \"value\": 1285}, \"1286\": {\"frequency\": 285, \"value\": 1286}, \"1287\": {\"frequency\": 704, \"value\": 1287}, \"1288\": {\"frequency\": 1118, \"value\": 1288}, \"1289\": {\"frequency\": 182, \"value\": 1289}, \"1290\": {\"frequency\": 230, \"value\": 1290}, \"1291\": {\"frequency\": 1628, \"value\": 1291}, \"1292\": {\"frequency\": 591, \"value\": 1292}, \"1293\": {\"frequency\": 671, \"value\": 1293}, \"1294\": {\"frequency\": 1099, \"value\": 1294}, \"1295\": {\"frequency\": 266, \"value\": 1295}, \"1296\": {\"frequency\": 560, \"value\": 1296}, \"1297\": {\"frequency\": 442, \"value\": 1297}, \"1298\": {\"frequency\": 387, \"value\": 1298}, \"1299\": {\"frequency\": 732, \"value\": 1299}, \"1300\": {\"frequency\": 330, \"value\": 1300}, \"1301\": {\"frequency\": 373, \"value\": 1301}, \"1302\": {\"frequency\": 768, \"value\": 1302}, \"1303\": {\"frequency\": 310, \"value\": 1303}, \"1304\": {\"frequency\": 1419, \"value\": 1304}, \"1305\": {\"frequency\": 121, \"value\": 1305}, \"1306\": {\"frequency\": 136, \"value\": 1306}, \"1307\": {\"frequency\": 1568, \"value\": 1307}, \"1310\": {\"frequency\": 43, \"value\": 1310}, \"1311\": {\"frequency\": 7, \"value\": 1311}, \"1312\": {\"frequency\": 29, \"value\": 1312}, \"1313\": {\"frequency\": 13, \"value\": 1313}, \"1315\": {\"frequency\": 3, \"value\": 1315}, \"1316\": {\"frequency\": 1, \"value\": 1316}, \"1317\": {\"frequency\": 40, \"value\": 1317}, \"1320\": {\"frequency\": 925, \"value\": 1320}, \"1321\": {\"frequency\": 549, \"value\": 1321}, \"1322\": {\"frequency\": 32, \"value\": 1322}, \"1323\": {\"frequency\": 43, \"value\": 1323}, \"1324\": {\"frequency\": 22, \"value\": 1324}, \"1325\": {\"frequency\": 23, \"value\": 1325}, \"1326\": {\"frequency\": 56, \"value\": 1326}, \"1327\": {\"frequency\": 355, \"value\": 1327}, \"1328\": {\"frequency\": 25, \"value\": 1328}, \"1329\": {\"frequency\": 36, \"value\": 1329}, \"1330\": {\"frequency\": 116, \"value\": 1330}, \"1331\": {\"frequency\": 50, \"value\": 1331}, \"1332\": {\"frequency\": 102, \"value\": 1332}, \"1333\": {\"frequency\": 733, \"value\": 1333}, \"1334\": {\"frequency\": 338, \"value\": 1334}, \"1335\": {\"frequency\": 21, \"value\": 1335}, \"1336\": {\"frequency\": 55, \"value\": 1336}, \"1337\": {\"frequency\": 64, \"value\": 1337}, \"1339\": {\"frequency\": 672, \"value\": 1339}, \"1340\": {\"frequency\": 216, \"value\": 1340}, \"1341\": {\"frequency\": 53, \"value\": 1341}, \"1342\": {\"frequency\": 262, \"value\": 1342}, \"1343\": {\"frequency\": 687, \"value\": 1343}, \"1344\": {\"frequency\": 361, \"value\": 1344}, \"1345\": {\"frequency\": 567, \"value\": 1345}, \"1346\": {\"frequency\": 174, \"value\": 1346}, \"1347\": {\"frequency\": 451, \"value\": 1347}, \"1348\": {\"frequency\": 238, \"value\": 1348}, \"1349\": {\"frequency\": 14, \"value\": 1349}, \"1350\": {\"frequency\": 409, \"value\": 1350}, \"1351\": {\"frequency\": 35, \"value\": 1351}, \"1352\": {\"frequency\": 94, \"value\": 1352}, \"1353\": {\"frequency\": 188, \"value\": 1353}, \"1354\": {\"frequency\": 267, \"value\": 1354}, \"1355\": {\"frequency\": 77, \"value\": 1355}, \"1356\": {\"frequency\": 1310, \"value\": 1356}, \"1357\": {\"frequency\": 548, \"value\": 1357}, \"1358\": {\"frequency\": 1177, \"value\": 1358}, \"1359\": {\"frequency\": 222, \"value\": 1359}, \"1360\": {\"frequency\": 2, \"value\": 1360}, \"1361\": {\"frequency\": 159, \"value\": 1361}, \"1362\": {\"frequency\": 100, \"value\": 1362}, \"1363\": {\"frequency\": 112, \"value\": 1363}, \"1364\": {\"frequency\": 2, \"value\": 1364}, \"1365\": {\"frequency\": 58, \"value\": 1365}, \"1366\": {\"frequency\": 108, \"value\": 1366}, \"1367\": {\"frequency\": 364, \"value\": 1367}, \"1369\": {\"frequency\": 5, \"value\": 1369}, \"1370\": {\"frequency\": 1135, \"value\": 1370}, \"1371\": {\"frequency\": 792, \"value\": 1371}, \"1372\": {\"frequency\": 1001, \"value\": 1372}, \"1373\": {\"frequency\": 613, \"value\": 1373}, \"1374\": {\"frequency\": 1448, \"value\": 1374}, \"1375\": {\"frequency\": 927, \"value\": 1375}, \"1376\": {\"frequency\": 1126, \"value\": 1376}, \"1377\": {\"frequency\": 1031, \"value\": 1377}, \"1378\": {\"frequency\": 562, \"value\": 1378}, \"1379\": {\"frequency\": 369, \"value\": 1379}, \"1380\": {\"frequency\": 817, \"value\": 1380}, \"1381\": {\"frequency\": 303, \"value\": 1381}, \"1382\": {\"frequency\": 127, \"value\": 1382}, \"1383\": {\"frequency\": 11, \"value\": 1383}, \"1384\": {\"frequency\": 6, \"value\": 1384}, \"1385\": {\"frequency\": 461, \"value\": 1385}, \"1386\": {\"frequency\": 1, \"value\": 1386}, \"1387\": {\"frequency\": 1697, \"value\": 1387}, \"1388\": {\"frequency\": 370, \"value\": 1388}, \"1389\": {\"frequency\": 210, \"value\": 1389}, \"1390\": {\"frequency\": 121, \"value\": 1390}, \"1391\": {\"frequency\": 1074, \"value\": 1391}, \"1392\": {\"frequency\": 219, \"value\": 1392}, \"1393\": {\"frequency\": 1353, \"value\": 1393}, \"1394\": {\"frequency\": 1434, \"value\": 1394}, \"1395\": {\"frequency\": 295, \"value\": 1395}, \"1396\": {\"frequency\": 1091, \"value\": 1396}, \"1397\": {\"frequency\": 63, \"value\": 1397}, \"1398\": {\"frequency\": 63, \"value\": 1398}, \"1399\": {\"frequency\": 104, \"value\": 1399}, \"1401\": {\"frequency\": 162, \"value\": 1401}, \"1404\": {\"frequency\": 76, \"value\": 1404}, \"1405\": {\"frequency\": 475, \"value\": 1405}, \"1406\": {\"frequency\": 24, \"value\": 1406}, \"1407\": {\"frequency\": 886, \"value\": 1407}, \"1408\": {\"frequency\": 975, \"value\": 1408}, \"1409\": {\"frequency\": 392, \"value\": 1409}, \"1410\": {\"frequency\": 90, \"value\": 1410}, \"1411\": {\"frequency\": 382, \"value\": 1411}, \"1412\": {\"frequency\": 20, \"value\": 1412}, \"1413\": {\"frequency\": 50, \"value\": 1413}, \"1414\": {\"frequency\": 168, \"value\": 1414}, \"1415\": {\"frequency\": 36, \"value\": 1415}, \"1416\": {\"frequency\": 282, \"value\": 1416}, \"1417\": {\"frequency\": 43, \"value\": 1417}, \"1419\": {\"frequency\": 136, \"value\": 1419}, \"1420\": {\"frequency\": 7, \"value\": 1420}, \"1421\": {\"frequency\": 22, \"value\": 1421}, \"1422\": {\"frequency\": 281, \"value\": 1422}, \"1423\": {\"frequency\": 14, \"value\": 1423}, \"1425\": {\"frequency\": 168, \"value\": 1425}, \"1426\": {\"frequency\": 23, \"value\": 1426}, \"1427\": {\"frequency\": 51, \"value\": 1427}, \"1428\": {\"frequency\": 52, \"value\": 1428}, \"1429\": {\"frequency\": 297, \"value\": 1429}, \"1430\": {\"frequency\": 1, \"value\": 1430}, \"1431\": {\"frequency\": 232, \"value\": 1431}, \"1432\": {\"frequency\": 100, \"value\": 1432}, \"1433\": {\"frequency\": 5, \"value\": 1433}, \"1434\": {\"frequency\": 2, \"value\": 1434}, \"1436\": {\"frequency\": 9, \"value\": 1436}, \"1437\": {\"frequency\": 21, \"value\": 1437}, \"1438\": {\"frequency\": 321, \"value\": 1438}, \"1439\": {\"frequency\": 46, \"value\": 1439}, \"1440\": {\"frequency\": 81, \"value\": 1440}, \"1441\": {\"frequency\": 481, \"value\": 1441}, \"1442\": {\"frequency\": 71, \"value\": 1442}, \"1444\": {\"frequency\": 8, \"value\": 1444}, \"1445\": {\"frequency\": 156, \"value\": 1445}, \"1446\": {\"frequency\": 189, \"value\": 1446}, \"1447\": {\"frequency\": 49, \"value\": 1447}, \"1449\": {\"frequency\": 462, \"value\": 1449}, \"1450\": {\"frequency\": 14, \"value\": 1450}, \"1453\": {\"frequency\": 148, \"value\": 1453}, \"1454\": {\"frequency\": 82, \"value\": 1454}, \"1455\": {\"frequency\": 22, \"value\": 1455}, \"1456\": {\"frequency\": 64, \"value\": 1456}, \"1457\": {\"frequency\": 266, \"value\": 1457}, \"1458\": {\"frequency\": 24, \"value\": 1458}, \"1459\": {\"frequency\": 380, \"value\": 1459}, \"1460\": {\"frequency\": 94, \"value\": 1460}, \"1461\": {\"frequency\": 216, \"value\": 1461}, \"1463\": {\"frequency\": 34, \"value\": 1463}, \"1464\": {\"frequency\": 145, \"value\": 1464}, \"1465\": {\"frequency\": 126, \"value\": 1465}, \"1466\": {\"frequency\": 719, \"value\": 1466}, \"1468\": {\"frequency\": 144, \"value\": 1468}, \"1470\": {\"frequency\": 1, \"value\": 1470}, \"1471\": {\"frequency\": 5, \"value\": 1471}, \"1472\": {\"frequency\": 48, \"value\": 1472}, \"1473\": {\"frequency\": 40, \"value\": 1473}, \"1474\": {\"frequency\": 146, \"value\": 1474}, \"1475\": {\"frequency\": 81, \"value\": 1475}, \"1476\": {\"frequency\": 499, \"value\": 1476}, \"1477\": {\"frequency\": 27, \"value\": 1477}, \"1479\": {\"frequency\": 563, \"value\": 1479}, \"1480\": {\"frequency\": 265, \"value\": 1480}, \"1482\": {\"frequency\": 63, \"value\": 1482}, \"1483\": {\"frequency\": 141, \"value\": 1483}, \"1484\": {\"frequency\": 124, \"value\": 1484}, \"1485\": {\"frequency\": 666, \"value\": 1485}, \"1486\": {\"frequency\": 7, \"value\": 1486}, \"1487\": {\"frequency\": 162, \"value\": 1487}, \"1488\": {\"frequency\": 288, \"value\": 1488}, \"1489\": {\"frequency\": 37, \"value\": 1489}, \"1490\": {\"frequency\": 26, \"value\": 1490}, \"1493\": {\"frequency\": 17, \"value\": 1493}, \"1494\": {\"frequency\": 19, \"value\": 1494}, \"1495\": {\"frequency\": 44, \"value\": 1495}, \"1496\": {\"frequency\": 25, \"value\": 1496}, \"1497\": {\"frequency\": 48, \"value\": 1497}, \"1498\": {\"frequency\": 131, \"value\": 1498}, \"1499\": {\"frequency\": 399, \"value\": 1499}, \"1500\": {\"frequency\": 1136, \"value\": 1500}, \"1501\": {\"frequency\": 18, \"value\": 1501}, \"1502\": {\"frequency\": 13, \"value\": 1502}, \"1503\": {\"frequency\": 145, \"value\": 1503}, \"1504\": {\"frequency\": 16, \"value\": 1504}, \"1507\": {\"frequency\": 42, \"value\": 1507}, \"1508\": {\"frequency\": 36, \"value\": 1508}, \"1509\": {\"frequency\": 21, \"value\": 1509}, \"1510\": {\"frequency\": 2, \"value\": 1510}, \"1511\": {\"frequency\": 24, \"value\": 1511}, \"1513\": {\"frequency\": 755, \"value\": 1513}, \"1514\": {\"frequency\": 7, \"value\": 1514}, \"1515\": {\"frequency\": 181, \"value\": 1515}, \"1516\": {\"frequency\": 52, \"value\": 1516}, \"1517\": {\"frequency\": 1205, \"value\": 1517}, \"1518\": {\"frequency\": 354, \"value\": 1518}, \"1519\": {\"frequency\": 6, \"value\": 1519}, \"1520\": {\"frequency\": 15, \"value\": 1520}, \"1522\": {\"frequency\": 7, \"value\": 1522}, \"1523\": {\"frequency\": 57, \"value\": 1523}, \"1525\": {\"frequency\": 44, \"value\": 1525}, \"1526\": {\"frequency\": 88, \"value\": 1526}, \"1527\": {\"frequency\": 1377, \"value\": 1527}, \"1528\": {\"frequency\": 2, \"value\": 1528}, \"1529\": {\"frequency\": 31, \"value\": 1529}, \"1531\": {\"frequency\": 11, \"value\": 1531}, \"1532\": {\"frequency\": 6, \"value\": 1532}, \"1533\": {\"frequency\": 24, \"value\": 1533}, \"1534\": {\"frequency\": 6, \"value\": 1534}, \"1535\": {\"frequency\": 103, \"value\": 1535}, \"1537\": {\"frequency\": 350, \"value\": 1537}, \"1538\": {\"frequency\": 6, \"value\": 1538}, \"1539\": {\"frequency\": 11, \"value\": 1539}, \"1541\": {\"frequency\": 240, \"value\": 1541}, \"1542\": {\"frequency\": 238, \"value\": 1542}, \"1543\": {\"frequency\": 7, \"value\": 1543}, \"1544\": {\"frequency\": 1255, \"value\": 1544}, \"1545\": {\"frequency\": 73, \"value\": 1545}, \"1546\": {\"frequency\": 49, \"value\": 1546}, \"1547\": {\"frequency\": 37, \"value\": 1547}, \"1548\": {\"frequency\": 2, \"value\": 1548}, \"1549\": {\"frequency\": 19, \"value\": 1549}, \"1550\": {\"frequency\": 71, \"value\": 1550}, \"1551\": {\"frequency\": 36, \"value\": 1551}, \"1552\": {\"frequency\": 954, \"value\": 1552}, \"1553\": {\"frequency\": 4, \"value\": 1553}, \"1554\": {\"frequency\": 138, \"value\": 1554}, \"1555\": {\"frequency\": 2, \"value\": 1555}, \"1556\": {\"frequency\": 367, \"value\": 1556}, \"1558\": {\"frequency\": 2, \"value\": 1558}, \"1561\": {\"frequency\": 4, \"value\": 1561}, \"1562\": {\"frequency\": 606, \"value\": 1562}, \"1563\": {\"frequency\": 40, \"value\": 1563}, \"1564\": {\"frequency\": 36, \"value\": 1564}, \"1565\": {\"frequency\": 17, \"value\": 1565}, \"1566\": {\"frequency\": 469, \"value\": 1566}, \"1567\": {\"frequency\": 9, \"value\": 1567}, \"1569\": {\"frequency\": 820, \"value\": 1569}, \"1570\": {\"frequency\": 23, \"value\": 1570}, \"1571\": {\"frequency\": 45, \"value\": 1571}, \"1572\": {\"frequency\": 26, \"value\": 1572}, \"1573\": {\"frequency\": 1421, \"value\": 1573}, \"1574\": {\"frequency\": 15, \"value\": 1574}, \"1575\": {\"frequency\": 14, \"value\": 1575}, \"1579\": {\"frequency\": 1, \"value\": 1579}, \"1580\": {\"frequency\": 2538, \"value\": 1580}, \"1581\": {\"frequency\": 59, \"value\": 1581}, \"1582\": {\"frequency\": 60, \"value\": 1582}, \"1583\": {\"frequency\": 27, \"value\": 1583}, \"1584\": {\"frequency\": 1382, \"value\": 1584}, \"1585\": {\"frequency\": 28, \"value\": 1585}, \"1586\": {\"frequency\": 557, \"value\": 1586}, \"1587\": {\"frequency\": 572, \"value\": 1587}, \"1588\": {\"frequency\": 289, \"value\": 1588}, \"1589\": {\"frequency\": 492, \"value\": 1589}, \"1590\": {\"frequency\": 498, \"value\": 1590}, \"1591\": {\"frequency\": 475, \"value\": 1591}, \"1592\": {\"frequency\": 112, \"value\": 1592}, \"1593\": {\"frequency\": 162, \"value\": 1593}, \"1594\": {\"frequency\": 307, \"value\": 1594}, \"1595\": {\"frequency\": 65, \"value\": 1595}, \"1596\": {\"frequency\": 32, \"value\": 1596}, \"1597\": {\"frequency\": 811, \"value\": 1597}, \"1598\": {\"frequency\": 111, \"value\": 1598}, \"1599\": {\"frequency\": 67, \"value\": 1599}, \"1600\": {\"frequency\": 84, \"value\": 1600}, \"1601\": {\"frequency\": 75, \"value\": 1601}, \"1602\": {\"frequency\": 43, \"value\": 1602}, \"1603\": {\"frequency\": 348, \"value\": 1603}, \"1604\": {\"frequency\": 65, \"value\": 1604}, \"1605\": {\"frequency\": 88, \"value\": 1605}, \"1606\": {\"frequency\": 109, \"value\": 1606}, \"1608\": {\"frequency\": 1076, \"value\": 1608}, \"1609\": {\"frequency\": 55, \"value\": 1609}, \"1610\": {\"frequency\": 1652, \"value\": 1610}, \"1611\": {\"frequency\": 236, \"value\": 1611}, \"1612\": {\"frequency\": 55, \"value\": 1612}, \"1613\": {\"frequency\": 30, \"value\": 1613}, \"1614\": {\"frequency\": 428, \"value\": 1614}, \"1615\": {\"frequency\": 227, \"value\": 1615}, \"1616\": {\"frequency\": 395, \"value\": 1616}, \"1617\": {\"frequency\": 2288, \"value\": 1617}, \"1619\": {\"frequency\": 362, \"value\": 1619}, \"1620\": {\"frequency\": 395, \"value\": 1620}, \"1621\": {\"frequency\": 85, \"value\": 1621}, \"1622\": {\"frequency\": 5, \"value\": 1622}, \"1623\": {\"frequency\": 128, \"value\": 1623}, \"1624\": {\"frequency\": 50, \"value\": 1624}, \"1625\": {\"frequency\": 882, \"value\": 1625}, \"1626\": {\"frequency\": 81, \"value\": 1626}, \"1627\": {\"frequency\": 250, \"value\": 1627}, \"1629\": {\"frequency\": 109, \"value\": 1629}, \"1630\": {\"frequency\": 1, \"value\": 1630}, \"1631\": {\"frequency\": 49, \"value\": 1631}, \"1632\": {\"frequency\": 20, \"value\": 1632}, \"1633\": {\"frequency\": 266, \"value\": 1633}, \"1635\": {\"frequency\": 507, \"value\": 1635}, \"1636\": {\"frequency\": 5, \"value\": 1636}, \"1639\": {\"frequency\": 966, \"value\": 1639}, \"1640\": {\"frequency\": 84, \"value\": 1640}, \"1641\": {\"frequency\": 1199, \"value\": 1641}, \"1642\": {\"frequency\": 74, \"value\": 1642}, \"1643\": {\"frequency\": 265, \"value\": 1643}, \"1644\": {\"frequency\": 475, \"value\": 1644}, \"1645\": {\"frequency\": 826, \"value\": 1645}, \"1646\": {\"frequency\": 88, \"value\": 1646}, \"1647\": {\"frequency\": 90, \"value\": 1647}, \"1648\": {\"frequency\": 194, \"value\": 1648}, \"1649\": {\"frequency\": 189, \"value\": 1649}, \"1650\": {\"frequency\": 50, \"value\": 1650}, \"1651\": {\"frequency\": 17, \"value\": 1651}, \"1652\": {\"frequency\": 4, \"value\": 1652}, \"1653\": {\"frequency\": 1077, \"value\": 1653}, \"1654\": {\"frequency\": 87, \"value\": 1654}, \"1655\": {\"frequency\": 77, \"value\": 1655}, \"1656\": {\"frequency\": 14, \"value\": 1656}, \"1657\": {\"frequency\": 20, \"value\": 1657}, \"1658\": {\"frequency\": 116, \"value\": 1658}, \"1659\": {\"frequency\": 7, \"value\": 1659}, \"1660\": {\"frequency\": 179, \"value\": 1660}, \"1661\": {\"frequency\": 88, \"value\": 1661}, \"1662\": {\"frequency\": 20, \"value\": 1662}, \"1663\": {\"frequency\": 740, \"value\": 1663}, \"1664\": {\"frequency\": 5, \"value\": 1664}, \"1665\": {\"frequency\": 200, \"value\": 1665}, \"1666\": {\"frequency\": 20, \"value\": 1666}, \"1667\": {\"frequency\": 113, \"value\": 1667}, \"1668\": {\"frequency\": 39, \"value\": 1668}, \"1669\": {\"frequency\": 37, \"value\": 1669}, \"1670\": {\"frequency\": 82, \"value\": 1670}, \"1671\": {\"frequency\": 22, \"value\": 1671}, \"1672\": {\"frequency\": 321, \"value\": 1672}, \"1673\": {\"frequency\": 1128, \"value\": 1673}, \"1674\": {\"frequency\": 1046, \"value\": 1674}, \"1675\": {\"frequency\": 11, \"value\": 1675}, \"1676\": {\"frequency\": 1163, \"value\": 1676}, \"1677\": {\"frequency\": 37, \"value\": 1677}, \"1678\": {\"frequency\": 474, \"value\": 1678}, \"1679\": {\"frequency\": 24, \"value\": 1679}, \"1680\": {\"frequency\": 464, \"value\": 1680}, \"1681\": {\"frequency\": 134, \"value\": 1681}, \"1682\": {\"frequency\": 1005, \"value\": 1682}, \"1683\": {\"frequency\": 218, \"value\": 1683}, \"1684\": {\"frequency\": 58, \"value\": 1684}, \"1685\": {\"frequency\": 6, \"value\": 1685}, \"1686\": {\"frequency\": 109, \"value\": 1686}, \"1687\": {\"frequency\": 337, \"value\": 1687}, \"1688\": {\"frequency\": 304, \"value\": 1688}, \"1689\": {\"frequency\": 252, \"value\": 1689}, \"1690\": {\"frequency\": 779, \"value\": 1690}, \"1692\": {\"frequency\": 20, \"value\": 1692}, \"1693\": {\"frequency\": 351, \"value\": 1693}, \"1694\": {\"frequency\": 471, \"value\": 1694}, \"1695\": {\"frequency\": 32, \"value\": 1695}, \"1696\": {\"frequency\": 28, \"value\": 1696}, \"1699\": {\"frequency\": 155, \"value\": 1699}, \"1701\": {\"frequency\": 284, \"value\": 1701}, \"1702\": {\"frequency\": 302, \"value\": 1702}, \"1703\": {\"frequency\": 62, \"value\": 1703}, \"1704\": {\"frequency\": 1548, \"value\": 1704}, \"1707\": {\"frequency\": 154, \"value\": 1707}, \"1709\": {\"frequency\": 1, \"value\": 1709}, \"1711\": {\"frequency\": 628, \"value\": 1711}, \"1713\": {\"frequency\": 231, \"value\": 1713}, \"1714\": {\"frequency\": 1, \"value\": 1714}, \"1715\": {\"frequency\": 13, \"value\": 1715}, \"1717\": {\"frequency\": 455, \"value\": 1717}, \"1718\": {\"frequency\": 7, \"value\": 1718}, \"1719\": {\"frequency\": 381, \"value\": 1719}, \"1720\": {\"frequency\": 7, \"value\": 1720}, \"1721\": {\"frequency\": 1546, \"value\": 1721}, \"1722\": {\"frequency\": 862, \"value\": 1722}, \"1724\": {\"frequency\": 1, \"value\": 1724}, \"1725\": {\"frequency\": 23, \"value\": 1725}, \"1726\": {\"frequency\": 137, \"value\": 1726}, \"1727\": {\"frequency\": 210, \"value\": 1727}, \"1728\": {\"frequency\": 22, \"value\": 1728}, \"1729\": {\"frequency\": 724, \"value\": 1729}, \"1730\": {\"frequency\": 176, \"value\": 1730}, \"1731\": {\"frequency\": 64, \"value\": 1731}, \"1732\": {\"frequency\": 1097, \"value\": 1732}, \"1733\": {\"frequency\": 82, \"value\": 1733}, \"1734\": {\"frequency\": 201, \"value\": 1734}, \"1735\": {\"frequency\": 263, \"value\": 1735}, \"1739\": {\"frequency\": 47, \"value\": 1739}, \"1741\": {\"frequency\": 5, \"value\": 1741}, \"1743\": {\"frequency\": 11, \"value\": 1743}, \"1744\": {\"frequency\": 77, \"value\": 1744}, \"1746\": {\"frequency\": 55, \"value\": 1746}, \"1747\": {\"frequency\": 907, \"value\": 1747}, \"1748\": {\"frequency\": 874, \"value\": 1748}, \"1749\": {\"frequency\": 10, \"value\": 1749}, \"1750\": {\"frequency\": 63, \"value\": 1750}, \"1752\": {\"frequency\": 206, \"value\": 1752}, \"1753\": {\"frequency\": 198, \"value\": 1753}, \"1754\": {\"frequency\": 388, \"value\": 1754}, \"1755\": {\"frequency\": 30, \"value\": 1755}, \"1756\": {\"frequency\": 51, \"value\": 1756}, \"1758\": {\"frequency\": 100, \"value\": 1758}, \"1759\": {\"frequency\": 51, \"value\": 1759}, \"1760\": {\"frequency\": 190, \"value\": 1760}, \"1762\": {\"frequency\": 227, \"value\": 1762}, \"1764\": {\"frequency\": 1, \"value\": 1764}, \"1767\": {\"frequency\": 26, \"value\": 1767}, \"1769\": {\"frequency\": 319, \"value\": 1769}, \"1770\": {\"frequency\": 19, \"value\": 1770}, \"1771\": {\"frequency\": 47, \"value\": 1771}, \"1772\": {\"frequency\": 230, \"value\": 1772}, \"1773\": {\"frequency\": 2, \"value\": 1773}, \"1777\": {\"frequency\": 909, \"value\": 1777}, \"1779\": {\"frequency\": 541, \"value\": 1779}, \"1780\": {\"frequency\": 8, \"value\": 1780}, \"1782\": {\"frequency\": 8, \"value\": 1782}, \"1783\": {\"frequency\": 220, \"value\": 1783}, \"1784\": {\"frequency\": 1424, \"value\": 1784}, \"1785\": {\"frequency\": 180, \"value\": 1785}, \"1787\": {\"frequency\": 2, \"value\": 1787}, \"1788\": {\"frequency\": 91, \"value\": 1788}, \"1791\": {\"frequency\": 53, \"value\": 1791}, \"1792\": {\"frequency\": 448, \"value\": 1792}, \"1793\": {\"frequency\": 13, \"value\": 1793}, \"1794\": {\"frequency\": 151, \"value\": 1794}, \"1795\": {\"frequency\": 2, \"value\": 1795}, \"1796\": {\"frequency\": 5, \"value\": 1796}, \"1797\": {\"frequency\": 167, \"value\": 1797}, \"1798\": {\"frequency\": 42, \"value\": 1798}, \"1799\": {\"frequency\": 213, \"value\": 1799}, \"1801\": {\"frequency\": 391, \"value\": 1801}, \"1804\": {\"frequency\": 119, \"value\": 1804}, \"1805\": {\"frequency\": 626, \"value\": 1805}, \"1806\": {\"frequency\": 168, \"value\": 1806}, \"1807\": {\"frequency\": 17, \"value\": 1807}, \"1809\": {\"frequency\": 36, \"value\": 1809}, \"1810\": {\"frequency\": 353, \"value\": 1810}, \"1811\": {\"frequency\": 13, \"value\": 1811}, \"1812\": {\"frequency\": 44, \"value\": 1812}, \"1814\": {\"frequency\": 25, \"value\": 1814}, \"1815\": {\"frequency\": 1, \"value\": 1815}, \"1816\": {\"frequency\": 101, \"value\": 1816}, \"1817\": {\"frequency\": 12, \"value\": 1817}, \"1820\": {\"frequency\": 1, \"value\": 1820}, \"1821\": {\"frequency\": 211, \"value\": 1821}, \"1822\": {\"frequency\": 21, \"value\": 1822}, \"1824\": {\"frequency\": 104, \"value\": 1824}, \"1825\": {\"frequency\": 33, \"value\": 1825}, \"1826\": {\"frequency\": 40, \"value\": 1826}, \"1827\": {\"frequency\": 102, \"value\": 1827}, \"1829\": {\"frequency\": 37, \"value\": 1829}, \"1830\": {\"frequency\": 1, \"value\": 1830}, \"1831\": {\"frequency\": 667, \"value\": 1831}, \"1832\": {\"frequency\": 1, \"value\": 1832}, \"1833\": {\"frequency\": 264, \"value\": 1833}, \"1834\": {\"frequency\": 493, \"value\": 1834}, \"1835\": {\"frequency\": 366, \"value\": 1835}, \"1836\": {\"frequency\": 135, \"value\": 1836}, \"1837\": {\"frequency\": 64, \"value\": 1837}, \"1839\": {\"frequency\": 69, \"value\": 1839}, \"1840\": {\"frequency\": 160, \"value\": 1840}, \"1841\": {\"frequency\": 95, \"value\": 1841}, \"1842\": {\"frequency\": 2, \"value\": 1842}, \"1843\": {\"frequency\": 1, \"value\": 1843}, \"1844\": {\"frequency\": 29, \"value\": 1844}, \"1845\": {\"frequency\": 301, \"value\": 1845}, \"1846\": {\"frequency\": 20, \"value\": 1846}, \"1848\": {\"frequency\": 177, \"value\": 1848}, \"1849\": {\"frequency\": 7, \"value\": 1849}, \"1850\": {\"frequency\": 13, \"value\": 1850}, \"1851\": {\"frequency\": 2, \"value\": 1851}, \"1852\": {\"frequency\": 1, \"value\": 1852}, \"1853\": {\"frequency\": 17, \"value\": 1853}, \"1854\": {\"frequency\": 48, \"value\": 1854}, \"1855\": {\"frequency\": 108, \"value\": 1855}, \"1856\": {\"frequency\": 72, \"value\": 1856}, \"1857\": {\"frequency\": 24, \"value\": 1857}, \"1858\": {\"frequency\": 172, \"value\": 1858}, \"1859\": {\"frequency\": 32, \"value\": 1859}, \"1860\": {\"frequency\": 44, \"value\": 1860}, \"1861\": {\"frequency\": 3, \"value\": 1861}, \"1862\": {\"frequency\": 198, \"value\": 1862}, \"1863\": {\"frequency\": 142, \"value\": 1863}, \"1864\": {\"frequency\": 11, \"value\": 1864}, \"1865\": {\"frequency\": 54, \"value\": 1865}, \"1866\": {\"frequency\": 189, \"value\": 1866}, \"1867\": {\"frequency\": 38, \"value\": 1867}, \"1868\": {\"frequency\": 2, \"value\": 1868}, \"1869\": {\"frequency\": 51, \"value\": 1869}, \"1870\": {\"frequency\": 72, \"value\": 1870}, \"1871\": {\"frequency\": 4, \"value\": 1871}, \"1872\": {\"frequency\": 10, \"value\": 1872}, \"1873\": {\"frequency\": 259, \"value\": 1873}, \"1874\": {\"frequency\": 27, \"value\": 1874}, \"1875\": {\"frequency\": 164, \"value\": 1875}, \"1876\": {\"frequency\": 895, \"value\": 1876}, \"1877\": {\"frequency\": 4, \"value\": 1877}, \"1878\": {\"frequency\": 11, \"value\": 1878}, \"1879\": {\"frequency\": 22, \"value\": 1879}, \"1880\": {\"frequency\": 26, \"value\": 1880}, \"1881\": {\"frequency\": 68, \"value\": 1881}, \"1882\": {\"frequency\": 499, \"value\": 1882}, \"1883\": {\"frequency\": 664, \"value\": 1883}, \"1884\": {\"frequency\": 298, \"value\": 1884}, \"1885\": {\"frequency\": 608, \"value\": 1885}, \"1886\": {\"frequency\": 4, \"value\": 1886}, \"1887\": {\"frequency\": 60, \"value\": 1887}, \"1888\": {\"frequency\": 387, \"value\": 1888}, \"1889\": {\"frequency\": 49, \"value\": 1889}, \"1890\": {\"frequency\": 7, \"value\": 1890}, \"1891\": {\"frequency\": 9, \"value\": 1891}, \"1892\": {\"frequency\": 401, \"value\": 1892}, \"1893\": {\"frequency\": 21, \"value\": 1893}, \"1894\": {\"frequency\": 471, \"value\": 1894}, \"1895\": {\"frequency\": 306, \"value\": 1895}, \"1896\": {\"frequency\": 47, \"value\": 1896}, \"1897\": {\"frequency\": 133, \"value\": 1897}, \"1898\": {\"frequency\": 14, \"value\": 1898}, \"1899\": {\"frequency\": 10, \"value\": 1899}, \"1900\": {\"frequency\": 61, \"value\": 1900}, \"1901\": {\"frequency\": 5, \"value\": 1901}, \"1902\": {\"frequency\": 30, \"value\": 1902}, \"1903\": {\"frequency\": 6, \"value\": 1903}, \"1904\": {\"frequency\": 113, \"value\": 1904}, \"1905\": {\"frequency\": 2, \"value\": 1905}, \"1906\": {\"frequency\": 32, \"value\": 1906}, \"1907\": {\"frequency\": 490, \"value\": 1907}, \"1908\": {\"frequency\": 1, \"value\": 1908}, \"1909\": {\"frequency\": 996, \"value\": 1909}, \"1910\": {\"frequency\": 41, \"value\": 1910}, \"1911\": {\"frequency\": 527, \"value\": 1911}, \"1912\": {\"frequency\": 908, \"value\": 1912}, \"1913\": {\"frequency\": 167, \"value\": 1913}, \"1914\": {\"frequency\": 372, \"value\": 1914}, \"1915\": {\"frequency\": 1, \"value\": 1915}, \"1916\": {\"frequency\": 354, \"value\": 1916}, \"1917\": {\"frequency\": 1110, \"value\": 1917}, \"1918\": {\"frequency\": 669, \"value\": 1918}, \"1919\": {\"frequency\": 116, \"value\": 1919}, \"1920\": {\"frequency\": 364, \"value\": 1920}, \"1921\": {\"frequency\": 613, \"value\": 1921}, \"1922\": {\"frequency\": 52, \"value\": 1922}, \"1923\": {\"frequency\": 1371, \"value\": 1923}, \"1924\": {\"frequency\": 249, \"value\": 1924}, \"1925\": {\"frequency\": 45, \"value\": 1925}, \"1926\": {\"frequency\": 32, \"value\": 1926}, \"1927\": {\"frequency\": 268, \"value\": 1927}, \"1928\": {\"frequency\": 29, \"value\": 1928}, \"1929\": {\"frequency\": 84, \"value\": 1929}, \"1930\": {\"frequency\": 5, \"value\": 1930}, \"1931\": {\"frequency\": 225, \"value\": 1931}, \"1932\": {\"frequency\": 36, \"value\": 1932}, \"1933\": {\"frequency\": 21, \"value\": 1933}, \"1934\": {\"frequency\": 77, \"value\": 1934}, \"1935\": {\"frequency\": 107, \"value\": 1935}, \"1936\": {\"frequency\": 82, \"value\": 1936}, \"1937\": {\"frequency\": 63, \"value\": 1937}, \"1938\": {\"frequency\": 122, \"value\": 1938}, \"1939\": {\"frequency\": 236, \"value\": 1939}, \"1940\": {\"frequency\": 91, \"value\": 1940}, \"1941\": {\"frequency\": 113, \"value\": 1941}, \"1942\": {\"frequency\": 119, \"value\": 1942}, \"1943\": {\"frequency\": 61, \"value\": 1943}, \"1944\": {\"frequency\": 364, \"value\": 1944}, \"1945\": {\"frequency\": 519, \"value\": 1945}, \"1946\": {\"frequency\": 205, \"value\": 1946}, \"1947\": {\"frequency\": 761, \"value\": 1947}, \"1948\": {\"frequency\": 198, \"value\": 1948}, \"1949\": {\"frequency\": 219, \"value\": 1949}, \"1950\": {\"frequency\": 348, \"value\": 1950}, \"1951\": {\"frequency\": 213, \"value\": 1951}, \"1952\": {\"frequency\": 663, \"value\": 1952}, \"1953\": {\"frequency\": 861, \"value\": 1953}, \"1954\": {\"frequency\": 1129, \"value\": 1954}, \"1955\": {\"frequency\": 452, \"value\": 1955}, \"1956\": {\"frequency\": 507, \"value\": 1956}, \"1957\": {\"frequency\": 634, \"value\": 1957}, \"1958\": {\"frequency\": 530, \"value\": 1958}, \"1959\": {\"frequency\": 626, \"value\": 1959}, \"1960\": {\"frequency\": 636, \"value\": 1960}, \"1961\": {\"frequency\": 1330, \"value\": 1961}, \"1962\": {\"frequency\": 652, \"value\": 1962}, \"1963\": {\"frequency\": 252, \"value\": 1963}, \"1964\": {\"frequency\": 302, \"value\": 1964}, \"1965\": {\"frequency\": 751, \"value\": 1965}, \"1966\": {\"frequency\": 198, \"value\": 1966}, \"1967\": {\"frequency\": 554, \"value\": 1967}, \"1968\": {\"frequency\": 1539, \"value\": 1968}, \"1969\": {\"frequency\": 274, \"value\": 1969}, \"1970\": {\"frequency\": 268, \"value\": 1970}, \"1971\": {\"frequency\": 242, \"value\": 1971}, \"1972\": {\"frequency\": 200, \"value\": 1972}, \"1973\": {\"frequency\": 215, \"value\": 1973}, \"1974\": {\"frequency\": 317, \"value\": 1974}, \"1975\": {\"frequency\": 171, \"value\": 1975}, \"1976\": {\"frequency\": 199, \"value\": 1976}, \"1977\": {\"frequency\": 169, \"value\": 1977}, \"1978\": {\"frequency\": 114, \"value\": 1978}, \"1979\": {\"frequency\": 112, \"value\": 1979}, \"1980\": {\"frequency\": 91, \"value\": 1980}, \"1981\": {\"frequency\": 99, \"value\": 1981}, \"1982\": {\"frequency\": 506, \"value\": 1982}, \"1983\": {\"frequency\": 195, \"value\": 1983}, \"1984\": {\"frequency\": 105, \"value\": 1984}, \"1985\": {\"frequency\": 129, \"value\": 1985}, \"1986\": {\"frequency\": 127, \"value\": 1986}, \"1987\": {\"frequency\": 91, \"value\": 1987}, \"1988\": {\"frequency\": 51, \"value\": 1988}, \"1989\": {\"frequency\": 15, \"value\": 1989}, \"1990\": {\"frequency\": 16, \"value\": 1990}, \"1991\": {\"frequency\": 239, \"value\": 1991}, \"1992\": {\"frequency\": 133, \"value\": 1992}, \"1993\": {\"frequency\": 97, \"value\": 1993}, \"1994\": {\"frequency\": 795, \"value\": 1994}, \"1995\": {\"frequency\": 182, \"value\": 1995}, \"1996\": {\"frequency\": 112, \"value\": 1996}, \"1997\": {\"frequency\": 885, \"value\": 1997}, \"1998\": {\"frequency\": 113, \"value\": 1998}, \"1999\": {\"frequency\": 127, \"value\": 1999}, \"2000\": {\"frequency\": 1627, \"value\": 2000}, \"2001\": {\"frequency\": 1011, \"value\": 2001}, \"2002\": {\"frequency\": 802, \"value\": 2002}, \"2003\": {\"frequency\": 776, \"value\": 2003}, \"2004\": {\"frequency\": 372, \"value\": 2004}, \"2005\": {\"frequency\": 716, \"value\": 2005}, \"2006\": {\"frequency\": 983, \"value\": 2006}, \"2007\": {\"frequency\": 65, \"value\": 2007}, \"2008\": {\"frequency\": 15, \"value\": 2008}, \"2009\": {\"frequency\": 422, \"value\": 2009}, \"2010\": {\"frequency\": 388, \"value\": 2010}, \"2011\": {\"frequency\": 1158, \"value\": 2011}, \"2012\": {\"frequency\": 1148, \"value\": 2012}, \"2013\": {\"frequency\": 622, \"value\": 2013}, \"2014\": {\"frequency\": 180, \"value\": 2014}, \"2015\": {\"frequency\": 380, \"value\": 2015}, \"2016\": {\"frequency\": 109, \"value\": 2016}, \"2017\": {\"frequency\": 162, \"value\": 2017}, \"2018\": {\"frequency\": 589, \"value\": 2018}, \"2019\": {\"frequency\": 628, \"value\": 2019}, \"2020\": {\"frequency\": 773, \"value\": 2020}, \"2021\": {\"frequency\": 789, \"value\": 2021}, \"2022\": {\"frequency\": 254, \"value\": 2022}, \"2023\": {\"frequency\": 774, \"value\": 2023}, \"2024\": {\"frequency\": 148, \"value\": 2024}, \"2025\": {\"frequency\": 221, \"value\": 2025}, \"2026\": {\"frequency\": 161, \"value\": 2026}, \"2027\": {\"frequency\": 129, \"value\": 2027}, \"2028\": {\"frequency\": 2653, \"value\": 2028}, \"2029\": {\"frequency\": 76, \"value\": 2029}, \"2031\": {\"frequency\": 37, \"value\": 2031}, \"2032\": {\"frequency\": 40, \"value\": 2032}, \"2033\": {\"frequency\": 200, \"value\": 2033}, \"2034\": {\"frequency\": 295, \"value\": 2034}, \"2035\": {\"frequency\": 57, \"value\": 2035}, \"2036\": {\"frequency\": 96, \"value\": 2036}, \"2037\": {\"frequency\": 54, \"value\": 2037}, \"2038\": {\"frequency\": 198, \"value\": 2038}, \"2039\": {\"frequency\": 1, \"value\": 2039}, \"2040\": {\"frequency\": 128, \"value\": 2040}, \"2041\": {\"frequency\": 145, \"value\": 2041}, \"2042\": {\"frequency\": 193, \"value\": 2042}, \"2043\": {\"frequency\": 158, \"value\": 2043}, \"2044\": {\"frequency\": 52, \"value\": 2044}, \"2045\": {\"frequency\": 55, \"value\": 2045}, \"2046\": {\"frequency\": 536, \"value\": 2046}, \"2047\": {\"frequency\": 22, \"value\": 2047}, \"2048\": {\"frequency\": 131, \"value\": 2048}, \"2049\": {\"frequency\": 37, \"value\": 2049}, \"2050\": {\"frequency\": 104, \"value\": 2050}, \"2051\": {\"frequency\": 101, \"value\": 2051}, \"2052\": {\"frequency\": 183, \"value\": 2052}, \"2053\": {\"frequency\": 381, \"value\": 2053}, \"2054\": {\"frequency\": 1045, \"value\": 2054}, \"2055\": {\"frequency\": 42, \"value\": 2055}, \"2056\": {\"frequency\": 18, \"value\": 2056}, \"2057\": {\"frequency\": 91, \"value\": 2057}, \"2058\": {\"frequency\": 799, \"value\": 2058}, \"2059\": {\"frequency\": 268, \"value\": 2059}, \"2060\": {\"frequency\": 183, \"value\": 2060}, \"2061\": {\"frequency\": 7, \"value\": 2061}, \"2062\": {\"frequency\": 70, \"value\": 2062}, \"2063\": {\"frequency\": 8, \"value\": 2063}, \"2064\": {\"frequency\": 798, \"value\": 2064}, \"2065\": {\"frequency\": 479, \"value\": 2065}, \"2066\": {\"frequency\": 106, \"value\": 2066}, \"2067\": {\"frequency\": 564, \"value\": 2067}, \"2068\": {\"frequency\": 128, \"value\": 2068}, \"2069\": {\"frequency\": 140, \"value\": 2069}, \"2070\": {\"frequency\": 264, \"value\": 2070}, \"2071\": {\"frequency\": 171, \"value\": 2071}, \"2072\": {\"frequency\": 303, \"value\": 2072}, \"2073\": {\"frequency\": 66, \"value\": 2073}, \"2074\": {\"frequency\": 21, \"value\": 2074}, \"2075\": {\"frequency\": 81, \"value\": 2075}, \"2076\": {\"frequency\": 654, \"value\": 2076}, \"2077\": {\"frequency\": 154, \"value\": 2077}, \"2078\": {\"frequency\": 664, \"value\": 2078}, \"2079\": {\"frequency\": 14, \"value\": 2079}, \"2080\": {\"frequency\": 864, \"value\": 2080}, \"2081\": {\"frequency\": 1035, \"value\": 2081}, \"2082\": {\"frequency\": 361, \"value\": 2082}, \"2083\": {\"frequency\": 262, \"value\": 2083}, \"2084\": {\"frequency\": 93, \"value\": 2084}, \"2085\": {\"frequency\": 565, \"value\": 2085}, \"2086\": {\"frequency\": 29, \"value\": 2086}, \"2087\": {\"frequency\": 594, \"value\": 2087}, \"2088\": {\"frequency\": 471, \"value\": 2088}, \"2089\": {\"frequency\": 239, \"value\": 2089}, \"2090\": {\"frequency\": 249, \"value\": 2090}, \"2091\": {\"frequency\": 186, \"value\": 2091}, \"2092\": {\"frequency\": 163, \"value\": 2092}, \"2093\": {\"frequency\": 276, \"value\": 2093}, \"2094\": {\"frequency\": 736, \"value\": 2094}, \"2095\": {\"frequency\": 113, \"value\": 2095}, \"2096\": {\"frequency\": 511, \"value\": 2096}, \"2097\": {\"frequency\": 213, \"value\": 2097}, \"2098\": {\"frequency\": 76, \"value\": 2098}, \"2099\": {\"frequency\": 221, \"value\": 2099}, \"2100\": {\"frequency\": 1163, \"value\": 2100}, \"2101\": {\"frequency\": 15, \"value\": 2101}, \"2102\": {\"frequency\": 197, \"value\": 2102}, \"2103\": {\"frequency\": 37, \"value\": 2103}, \"2104\": {\"frequency\": 53, \"value\": 2104}, \"2105\": {\"frequency\": 970, \"value\": 2105}, \"2106\": {\"frequency\": 185, \"value\": 2106}, \"2107\": {\"frequency\": 199, \"value\": 2107}, \"2108\": {\"frequency\": 825, \"value\": 2108}, \"2109\": {\"frequency\": 573, \"value\": 2109}, \"2110\": {\"frequency\": 367, \"value\": 2110}, \"2111\": {\"frequency\": 312, \"value\": 2111}, \"2112\": {\"frequency\": 346, \"value\": 2112}, \"2113\": {\"frequency\": 79, \"value\": 2113}, \"2114\": {\"frequency\": 256, \"value\": 2114}, \"2115\": {\"frequency\": 1127, \"value\": 2115}, \"2116\": {\"frequency\": 438, \"value\": 2116}, \"2117\": {\"frequency\": 278, \"value\": 2117}, \"2118\": {\"frequency\": 363, \"value\": 2118}, \"2119\": {\"frequency\": 147, \"value\": 2119}, \"2120\": {\"frequency\": 242, \"value\": 2120}, \"2121\": {\"frequency\": 245, \"value\": 2121}, \"2122\": {\"frequency\": 233, \"value\": 2122}, \"2123\": {\"frequency\": 215, \"value\": 2123}, \"2124\": {\"frequency\": 714, \"value\": 2124}, \"2125\": {\"frequency\": 416, \"value\": 2125}, \"2126\": {\"frequency\": 495, \"value\": 2126}, \"2127\": {\"frequency\": 4, \"value\": 2127}, \"2128\": {\"frequency\": 25, \"value\": 2128}, \"2129\": {\"frequency\": 8, \"value\": 2129}, \"2130\": {\"frequency\": 304, \"value\": 2130}, \"2131\": {\"frequency\": 30, \"value\": 2131}, \"2132\": {\"frequency\": 297, \"value\": 2132}, \"2133\": {\"frequency\": 541, \"value\": 2133}, \"2134\": {\"frequency\": 510, \"value\": 2134}, \"2135\": {\"frequency\": 238, \"value\": 2135}, \"2136\": {\"frequency\": 222, \"value\": 2136}, \"2137\": {\"frequency\": 497, \"value\": 2137}, \"2138\": {\"frequency\": 305, \"value\": 2138}, \"2139\": {\"frequency\": 369, \"value\": 2139}, \"2140\": {\"frequency\": 710, \"value\": 2140}, \"2141\": {\"frequency\": 404, \"value\": 2141}, \"2142\": {\"frequency\": 201, \"value\": 2142}, \"2143\": {\"frequency\": 355, \"value\": 2143}, \"2144\": {\"frequency\": 719, \"value\": 2144}, \"2145\": {\"frequency\": 693, \"value\": 2145}, \"2146\": {\"frequency\": 352, \"value\": 2146}, \"2147\": {\"frequency\": 231, \"value\": 2147}, \"2148\": {\"frequency\": 166, \"value\": 2148}, \"2149\": {\"frequency\": 103, \"value\": 2149}, \"2150\": {\"frequency\": 695, \"value\": 2150}, \"2151\": {\"frequency\": 128, \"value\": 2151}, \"2152\": {\"frequency\": 69, \"value\": 2152}, \"2153\": {\"frequency\": 288, \"value\": 2153}, \"2154\": {\"frequency\": 140, \"value\": 2154}, \"2155\": {\"frequency\": 267, \"value\": 2155}, \"2156\": {\"frequency\": 9, \"value\": 2156}, \"2157\": {\"frequency\": 20, \"value\": 2157}, \"2158\": {\"frequency\": 20, \"value\": 2158}, \"2159\": {\"frequency\": 219, \"value\": 2159}, \"2160\": {\"frequency\": 712, \"value\": 2160}, \"2161\": {\"frequency\": 699, \"value\": 2161}, \"2162\": {\"frequency\": 177, \"value\": 2162}, \"2163\": {\"frequency\": 206, \"value\": 2163}, \"2164\": {\"frequency\": 20, \"value\": 2164}, \"2165\": {\"frequency\": 109, \"value\": 2165}, \"2166\": {\"frequency\": 144, \"value\": 2166}, \"2167\": {\"frequency\": 809, \"value\": 2167}, \"2168\": {\"frequency\": 79, \"value\": 2168}, \"2169\": {\"frequency\": 130, \"value\": 2169}, \"2170\": {\"frequency\": 123, \"value\": 2170}, \"2171\": {\"frequency\": 196, \"value\": 2171}, \"2172\": {\"frequency\": 4, \"value\": 2172}, \"2173\": {\"frequency\": 110, \"value\": 2173}, \"2174\": {\"frequency\": 1495, \"value\": 2174}, \"2175\": {\"frequency\": 18, \"value\": 2175}, \"2176\": {\"frequency\": 191, \"value\": 2176}, \"2177\": {\"frequency\": 83, \"value\": 2177}, \"2178\": {\"frequency\": 95, \"value\": 2178}, \"2179\": {\"frequency\": 39, \"value\": 2179}, \"2180\": {\"frequency\": 58, \"value\": 2180}, \"2181\": {\"frequency\": 118, \"value\": 2181}, \"2182\": {\"frequency\": 98, \"value\": 2182}, \"2183\": {\"frequency\": 179, \"value\": 2183}, \"2184\": {\"frequency\": 147, \"value\": 2184}, \"2185\": {\"frequency\": 17, \"value\": 2185}, \"2186\": {\"frequency\": 482, \"value\": 2186}, \"2187\": {\"frequency\": 26, \"value\": 2187}, \"2188\": {\"frequency\": 259, \"value\": 2188}, \"2189\": {\"frequency\": 21, \"value\": 2189}, \"2190\": {\"frequency\": 52, \"value\": 2190}, \"2191\": {\"frequency\": 10, \"value\": 2191}, \"2192\": {\"frequency\": 7, \"value\": 2192}, \"2193\": {\"frequency\": 802, \"value\": 2193}, \"2194\": {\"frequency\": 1127, \"value\": 2194}, \"2195\": {\"frequency\": 135, \"value\": 2195}, \"2196\": {\"frequency\": 27, \"value\": 2196}, \"2197\": {\"frequency\": 11, \"value\": 2197}, \"2198\": {\"frequency\": 2, \"value\": 2198}, \"2200\": {\"frequency\": 8, \"value\": 2200}, \"2201\": {\"frequency\": 20, \"value\": 2201}, \"2202\": {\"frequency\": 213, \"value\": 2202}, \"2203\": {\"frequency\": 233, \"value\": 2203}, \"2204\": {\"frequency\": 89, \"value\": 2204}, \"2205\": {\"frequency\": 33, \"value\": 2205}, \"2206\": {\"frequency\": 167, \"value\": 2206}, \"2207\": {\"frequency\": 8, \"value\": 2207}, \"2208\": {\"frequency\": 199, \"value\": 2208}, \"2209\": {\"frequency\": 10, \"value\": 2209}, \"2210\": {\"frequency\": 54, \"value\": 2210}, \"2211\": {\"frequency\": 19, \"value\": 2211}, \"2212\": {\"frequency\": 128, \"value\": 2212}, \"2213\": {\"frequency\": 1, \"value\": 2213}, \"2214\": {\"frequency\": 1, \"value\": 2214}, \"2215\": {\"frequency\": 12, \"value\": 2215}, \"2217\": {\"frequency\": 1, \"value\": 2217}, \"2218\": {\"frequency\": 1, \"value\": 2218}, \"2219\": {\"frequency\": 10, \"value\": 2219}, \"2221\": {\"frequency\": 11, \"value\": 2221}, \"2223\": {\"frequency\": 3, \"value\": 2223}, \"2226\": {\"frequency\": 1, \"value\": 2226}, \"2227\": {\"frequency\": 21, \"value\": 2227}, \"2231\": {\"frequency\": 345, \"value\": 2231}, \"2232\": {\"frequency\": 233, \"value\": 2232}, \"2233\": {\"frequency\": 5, \"value\": 2233}, \"2234\": {\"frequency\": 8, \"value\": 2234}, \"2235\": {\"frequency\": 1, \"value\": 2235}, \"2236\": {\"frequency\": 202, \"value\": 2236}, \"2237\": {\"frequency\": 44, \"value\": 2237}, \"2238\": {\"frequency\": 77, \"value\": 2238}, \"2239\": {\"frequency\": 97, \"value\": 2239}, \"2240\": {\"frequency\": 238, \"value\": 2240}, \"2241\": {\"frequency\": 129, \"value\": 2241}, \"2242\": {\"frequency\": 6, \"value\": 2242}, \"2243\": {\"frequency\": 789, \"value\": 2243}, \"2244\": {\"frequency\": 7, \"value\": 2244}, \"2245\": {\"frequency\": 514, \"value\": 2245}, \"2246\": {\"frequency\": 14, \"value\": 2246}, \"2247\": {\"frequency\": 365, \"value\": 2247}, \"2248\": {\"frequency\": 914, \"value\": 2248}, \"2249\": {\"frequency\": 239, \"value\": 2249}, \"2250\": {\"frequency\": 62, \"value\": 2250}, \"2251\": {\"frequency\": 2, \"value\": 2251}, \"2252\": {\"frequency\": 186, \"value\": 2252}, \"2253\": {\"frequency\": 440, \"value\": 2253}, \"2254\": {\"frequency\": 1, \"value\": 2254}, \"2255\": {\"frequency\": 79, \"value\": 2255}, \"2256\": {\"frequency\": 24, \"value\": 2256}, \"2257\": {\"frequency\": 17, \"value\": 2257}, \"2258\": {\"frequency\": 2, \"value\": 2258}, \"2259\": {\"frequency\": 201, \"value\": 2259}, \"2260\": {\"frequency\": 49, \"value\": 2260}, \"2261\": {\"frequency\": 161, \"value\": 2261}, \"2262\": {\"frequency\": 326, \"value\": 2262}, \"2263\": {\"frequency\": 175, \"value\": 2263}, \"2264\": {\"frequency\": 83, \"value\": 2264}, \"2265\": {\"frequency\": 83, \"value\": 2265}, \"2266\": {\"frequency\": 195, \"value\": 2266}, \"2267\": {\"frequency\": 74, \"value\": 2267}, \"2268\": {\"frequency\": 1061, \"value\": 2268}, \"2269\": {\"frequency\": 217, \"value\": 2269}, \"2271\": {\"frequency\": 76, \"value\": 2271}, \"2272\": {\"frequency\": 112, \"value\": 2272}, \"2273\": {\"frequency\": 627, \"value\": 2273}, \"2275\": {\"frequency\": 71, \"value\": 2275}, \"2276\": {\"frequency\": 70, \"value\": 2276}, \"2277\": {\"frequency\": 1, \"value\": 2277}, \"2278\": {\"frequency\": 806, \"value\": 2278}, \"2279\": {\"frequency\": 226, \"value\": 2279}, \"2280\": {\"frequency\": 125, \"value\": 2280}, \"2281\": {\"frequency\": 11, \"value\": 2281}, \"2282\": {\"frequency\": 316, \"value\": 2282}, \"2283\": {\"frequency\": 61, \"value\": 2283}, \"2284\": {\"frequency\": 43, \"value\": 2284}, \"2285\": {\"frequency\": 54, \"value\": 2285}, \"2286\": {\"frequency\": 43, \"value\": 2286}, \"2287\": {\"frequency\": 280, \"value\": 2287}, \"2288\": {\"frequency\": 741, \"value\": 2288}, \"2289\": {\"frequency\": 978, \"value\": 2289}, \"2290\": {\"frequency\": 121, \"value\": 2290}, \"2291\": {\"frequency\": 1473, \"value\": 2291}, \"2292\": {\"frequency\": 20, \"value\": 2292}, \"2293\": {\"frequency\": 25, \"value\": 2293}, \"2294\": {\"frequency\": 645, \"value\": 2294}, \"2295\": {\"frequency\": 74, \"value\": 2295}, \"2296\": {\"frequency\": 144, \"value\": 2296}, \"2297\": {\"frequency\": 355, \"value\": 2297}, \"2298\": {\"frequency\": 15, \"value\": 2298}, \"2299\": {\"frequency\": 4, \"value\": 2299}, \"2300\": {\"frequency\": 658, \"value\": 2300}, \"2301\": {\"frequency\": 371, \"value\": 2301}, \"2302\": {\"frequency\": 1086, \"value\": 2302}, \"2303\": {\"frequency\": 325, \"value\": 2303}, \"2304\": {\"frequency\": 7, \"value\": 2304}, \"2305\": {\"frequency\": 25, \"value\": 2305}, \"2306\": {\"frequency\": 90, \"value\": 2306}, \"2307\": {\"frequency\": 38, \"value\": 2307}, \"2308\": {\"frequency\": 1, \"value\": 2308}, \"2309\": {\"frequency\": 2, \"value\": 2309}, \"2310\": {\"frequency\": 134, \"value\": 2310}, \"2311\": {\"frequency\": 470, \"value\": 2311}, \"2312\": {\"frequency\": 331, \"value\": 2312}, \"2313\": {\"frequency\": 457, \"value\": 2313}, \"2314\": {\"frequency\": 104, \"value\": 2314}, \"2315\": {\"frequency\": 147, \"value\": 2315}, \"2316\": {\"frequency\": 236, \"value\": 2316}, \"2317\": {\"frequency\": 8, \"value\": 2317}, \"2318\": {\"frequency\": 320, \"value\": 2318}, \"2320\": {\"frequency\": 187, \"value\": 2320}, \"2321\": {\"frequency\": 1158, \"value\": 2321}, \"2322\": {\"frequency\": 290, \"value\": 2322}, \"2323\": {\"frequency\": 35, \"value\": 2323}, \"2324\": {\"frequency\": 1152, \"value\": 2324}, \"2325\": {\"frequency\": 119, \"value\": 2325}, \"2326\": {\"frequency\": 12, \"value\": 2326}, \"2327\": {\"frequency\": 100, \"value\": 2327}, \"2328\": {\"frequency\": 173, \"value\": 2328}, \"2329\": {\"frequency\": 640, \"value\": 2329}, \"2330\": {\"frequency\": 92, \"value\": 2330}, \"2331\": {\"frequency\": 179, \"value\": 2331}, \"2332\": {\"frequency\": 8, \"value\": 2332}, \"2333\": {\"frequency\": 578, \"value\": 2333}, \"2334\": {\"frequency\": 386, \"value\": 2334}, \"2335\": {\"frequency\": 420, \"value\": 2335}, \"2336\": {\"frequency\": 938, \"value\": 2336}, \"2337\": {\"frequency\": 126, \"value\": 2337}, \"2338\": {\"frequency\": 295, \"value\": 2338}, \"2339\": {\"frequency\": 27, \"value\": 2339}, \"2340\": {\"frequency\": 344, \"value\": 2340}, \"2341\": {\"frequency\": 44, \"value\": 2341}, \"2342\": {\"frequency\": 11, \"value\": 2342}, \"2343\": {\"frequency\": 2, \"value\": 2343}, \"2344\": {\"frequency\": 201, \"value\": 2344}, \"2345\": {\"frequency\": 43, \"value\": 2345}, \"2346\": {\"frequency\": 300, \"value\": 2346}, \"2347\": {\"frequency\": 95, \"value\": 2347}, \"2348\": {\"frequency\": 304, \"value\": 2348}, \"2349\": {\"frequency\": 167, \"value\": 2349}, \"2350\": {\"frequency\": 19, \"value\": 2350}, \"2351\": {\"frequency\": 111, \"value\": 2351}, \"2352\": {\"frequency\": 838, \"value\": 2352}, \"2353\": {\"frequency\": 988, \"value\": 2353}, \"2354\": {\"frequency\": 141, \"value\": 2354}, \"2355\": {\"frequency\": 1703, \"value\": 2355}, \"2356\": {\"frequency\": 96, \"value\": 2356}, \"2357\": {\"frequency\": 215, \"value\": 2357}, \"2358\": {\"frequency\": 4, \"value\": 2358}, \"2359\": {\"frequency\": 703, \"value\": 2359}, \"2360\": {\"frequency\": 117, \"value\": 2360}, \"2361\": {\"frequency\": 158, \"value\": 2361}, \"2362\": {\"frequency\": 53, \"value\": 2362}, \"2363\": {\"frequency\": 301, \"value\": 2363}, \"2364\": {\"frequency\": 121, \"value\": 2364}, \"2365\": {\"frequency\": 136, \"value\": 2365}, \"2366\": {\"frequency\": 756, \"value\": 2366}, \"2367\": {\"frequency\": 309, \"value\": 2367}, \"2368\": {\"frequency\": 58, \"value\": 2368}, \"2369\": {\"frequency\": 840, \"value\": 2369}, \"2370\": {\"frequency\": 142, \"value\": 2370}, \"2371\": {\"frequency\": 599, \"value\": 2371}, \"2372\": {\"frequency\": 238, \"value\": 2372}, \"2373\": {\"frequency\": 189, \"value\": 2373}, \"2374\": {\"frequency\": 244, \"value\": 2374}, \"2375\": {\"frequency\": 418, \"value\": 2375}, \"2376\": {\"frequency\": 325, \"value\": 2376}, \"2377\": {\"frequency\": 183, \"value\": 2377}, \"2378\": {\"frequency\": 413, \"value\": 2378}, \"2379\": {\"frequency\": 225, \"value\": 2379}, \"2380\": {\"frequency\": 196, \"value\": 2380}, \"2381\": {\"frequency\": 174, \"value\": 2381}, \"2382\": {\"frequency\": 150, \"value\": 2382}, \"2383\": {\"frequency\": 149, \"value\": 2383}, \"2384\": {\"frequency\": 523, \"value\": 2384}, \"2385\": {\"frequency\": 146, \"value\": 2385}, \"2386\": {\"frequency\": 59, \"value\": 2386}, \"2387\": {\"frequency\": 217, \"value\": 2387}, \"2388\": {\"frequency\": 15, \"value\": 2388}, \"2389\": {\"frequency\": 264, \"value\": 2389}, \"2390\": {\"frequency\": 330, \"value\": 2390}, \"2391\": {\"frequency\": 745, \"value\": 2391}, \"2392\": {\"frequency\": 205, \"value\": 2392}, \"2393\": {\"frequency\": 807, \"value\": 2393}, \"2394\": {\"frequency\": 579, \"value\": 2394}, \"2395\": {\"frequency\": 1220, \"value\": 2395}, \"2396\": {\"frequency\": 2369, \"value\": 2396}, \"2397\": {\"frequency\": 23, \"value\": 2397}, \"2398\": {\"frequency\": 380, \"value\": 2398}, \"2399\": {\"frequency\": 223, \"value\": 2399}, \"2400\": {\"frequency\": 43, \"value\": 2400}, \"2401\": {\"frequency\": 312, \"value\": 2401}, \"2402\": {\"frequency\": 401, \"value\": 2402}, \"2403\": {\"frequency\": 397, \"value\": 2403}, \"2404\": {\"frequency\": 301, \"value\": 2404}, \"2405\": {\"frequency\": 673, \"value\": 2405}, \"2406\": {\"frequency\": 1345, \"value\": 2406}, \"2407\": {\"frequency\": 1006, \"value\": 2407}, \"2408\": {\"frequency\": 259, \"value\": 2408}, \"2409\": {\"frequency\": 445, \"value\": 2409}, \"2410\": {\"frequency\": 401, \"value\": 2410}, \"2411\": {\"frequency\": 375, \"value\": 2411}, \"2412\": {\"frequency\": 274, \"value\": 2412}, \"2413\": {\"frequency\": 443, \"value\": 2413}, \"2414\": {\"frequency\": 379, \"value\": 2414}, \"2415\": {\"frequency\": 15, \"value\": 2415}, \"2416\": {\"frequency\": 354, \"value\": 2416}, \"2417\": {\"frequency\": 74, \"value\": 2417}, \"2418\": {\"frequency\": 110, \"value\": 2418}, \"2419\": {\"frequency\": 69, \"value\": 2419}, \"2420\": {\"frequency\": 493, \"value\": 2420}, \"2421\": {\"frequency\": 477, \"value\": 2421}, \"2422\": {\"frequency\": 286, \"value\": 2422}, \"2423\": {\"frequency\": 515, \"value\": 2423}, \"2424\": {\"frequency\": 838, \"value\": 2424}, \"2425\": {\"frequency\": 58, \"value\": 2425}, \"2426\": {\"frequency\": 27, \"value\": 2426}, \"2427\": {\"frequency\": 803, \"value\": 2427}, \"2428\": {\"frequency\": 513, \"value\": 2428}, \"2429\": {\"frequency\": 180, \"value\": 2429}, \"2430\": {\"frequency\": 144, \"value\": 2430}, \"2431\": {\"frequency\": 474, \"value\": 2431}, \"2432\": {\"frequency\": 146, \"value\": 2432}, \"2433\": {\"frequency\": 612, \"value\": 2433}, \"2434\": {\"frequency\": 60, \"value\": 2434}, \"2435\": {\"frequency\": 99, \"value\": 2435}, \"2436\": {\"frequency\": 122, \"value\": 2436}, \"2437\": {\"frequency\": 85, \"value\": 2437}, \"2438\": {\"frequency\": 1, \"value\": 2438}, \"2439\": {\"frequency\": 198, \"value\": 2439}, \"2440\": {\"frequency\": 47, \"value\": 2440}, \"2441\": {\"frequency\": 26, \"value\": 2441}, \"2442\": {\"frequency\": 160, \"value\": 2442}, \"2443\": {\"frequency\": 126, \"value\": 2443}, \"2444\": {\"frequency\": 5, \"value\": 2444}, \"2445\": {\"frequency\": 74, \"value\": 2445}, \"2446\": {\"frequency\": 63, \"value\": 2446}, \"2447\": {\"frequency\": 266, \"value\": 2447}, \"2448\": {\"frequency\": 189, \"value\": 2448}, \"2449\": {\"frequency\": 32, \"value\": 2449}, \"2450\": {\"frequency\": 434, \"value\": 2450}, \"2451\": {\"frequency\": 113, \"value\": 2451}, \"2452\": {\"frequency\": 19, \"value\": 2452}, \"2453\": {\"frequency\": 176, \"value\": 2453}, \"2454\": {\"frequency\": 480, \"value\": 2454}, \"2455\": {\"frequency\": 1071, \"value\": 2455}, \"2456\": {\"frequency\": 284, \"value\": 2456}, \"2457\": {\"frequency\": 259, \"value\": 2457}, \"2458\": {\"frequency\": 130, \"value\": 2458}, \"2459\": {\"frequency\": 247, \"value\": 2459}, \"2460\": {\"frequency\": 116, \"value\": 2460}, \"2461\": {\"frequency\": 62, \"value\": 2461}, \"2462\": {\"frequency\": 54, \"value\": 2462}, \"2463\": {\"frequency\": 475, \"value\": 2463}, \"2464\": {\"frequency\": 8, \"value\": 2464}, \"2465\": {\"frequency\": 42, \"value\": 2465}, \"2466\": {\"frequency\": 13, \"value\": 2466}, \"2467\": {\"frequency\": 324, \"value\": 2467}, \"2468\": {\"frequency\": 374, \"value\": 2468}, \"2469\": {\"frequency\": 506, \"value\": 2469}, \"2470\": {\"frequency\": 912, \"value\": 2470}, \"2471\": {\"frequency\": 414, \"value\": 2471}, \"2472\": {\"frequency\": 93, \"value\": 2472}, \"2473\": {\"frequency\": 193, \"value\": 2473}, \"2474\": {\"frequency\": 343, \"value\": 2474}, \"2475\": {\"frequency\": 140, \"value\": 2475}, \"2476\": {\"frequency\": 300, \"value\": 2476}, \"2477\": {\"frequency\": 42, \"value\": 2477}, \"2478\": {\"frequency\": 569, \"value\": 2478}, \"2479\": {\"frequency\": 44, \"value\": 2479}, \"2480\": {\"frequency\": 2, \"value\": 2480}, \"2481\": {\"frequency\": 35, \"value\": 2481}, \"2482\": {\"frequency\": 30, \"value\": 2482}, \"2483\": {\"frequency\": 25, \"value\": 2483}, \"2484\": {\"frequency\": 1, \"value\": 2484}, \"2485\": {\"frequency\": 410, \"value\": 2485}, \"2486\": {\"frequency\": 9, \"value\": 2486}, \"2487\": {\"frequency\": 7, \"value\": 2487}, \"2488\": {\"frequency\": 85, \"value\": 2488}, \"2490\": {\"frequency\": 773, \"value\": 2490}, \"2491\": {\"frequency\": 115, \"value\": 2491}, \"2492\": {\"frequency\": 139, \"value\": 2492}, \"2493\": {\"frequency\": 28, \"value\": 2493}, \"2494\": {\"frequency\": 27, \"value\": 2494}, \"2495\": {\"frequency\": 98, \"value\": 2495}, \"2496\": {\"frequency\": 360, \"value\": 2496}, \"2497\": {\"frequency\": 170, \"value\": 2497}, \"2498\": {\"frequency\": 123, \"value\": 2498}, \"2499\": {\"frequency\": 52, \"value\": 2499}, \"2500\": {\"frequency\": 119, \"value\": 2500}, \"2501\": {\"frequency\": 588, \"value\": 2501}, \"2502\": {\"frequency\": 872, \"value\": 2502}, \"2503\": {\"frequency\": 9, \"value\": 2503}, \"2504\": {\"frequency\": 181, \"value\": 2504}, \"2505\": {\"frequency\": 272, \"value\": 2505}, \"2506\": {\"frequency\": 163, \"value\": 2506}, \"2507\": {\"frequency\": 54, \"value\": 2507}, \"2509\": {\"frequency\": 18, \"value\": 2509}, \"2510\": {\"frequency\": 3, \"value\": 2510}, \"2511\": {\"frequency\": 82, \"value\": 2511}, \"2512\": {\"frequency\": 19, \"value\": 2512}, \"2513\": {\"frequency\": 305, \"value\": 2513}, \"2514\": {\"frequency\": 116, \"value\": 2514}, \"2515\": {\"frequency\": 52, \"value\": 2515}, \"2516\": {\"frequency\": 45, \"value\": 2516}, \"2517\": {\"frequency\": 273, \"value\": 2517}, \"2518\": {\"frequency\": 294, \"value\": 2518}, \"2519\": {\"frequency\": 96, \"value\": 2519}, \"2520\": {\"frequency\": 179, \"value\": 2520}, \"2521\": {\"frequency\": 84, \"value\": 2521}, \"2522\": {\"frequency\": 79, \"value\": 2522}, \"2523\": {\"frequency\": 42, \"value\": 2523}, \"2524\": {\"frequency\": 266, \"value\": 2524}, \"2525\": {\"frequency\": 153, \"value\": 2525}, \"2526\": {\"frequency\": 131, \"value\": 2526}, \"2527\": {\"frequency\": 636, \"value\": 2527}, \"2528\": {\"frequency\": 626, \"value\": 2528}, \"2529\": {\"frequency\": 1162, \"value\": 2529}, \"2530\": {\"frequency\": 365, \"value\": 2530}, \"2531\": {\"frequency\": 312, \"value\": 2531}, \"2532\": {\"frequency\": 358, \"value\": 2532}, \"2533\": {\"frequency\": 463, \"value\": 2533}, \"2534\": {\"frequency\": 17, \"value\": 2534}, \"2535\": {\"frequency\": 119, \"value\": 2535}, \"2536\": {\"frequency\": 37, \"value\": 2536}, \"2537\": {\"frequency\": 34, \"value\": 2537}, \"2538\": {\"frequency\": 5, \"value\": 2538}, \"2539\": {\"frequency\": 616, \"value\": 2539}, \"2540\": {\"frequency\": 156, \"value\": 2540}, \"2541\": {\"frequency\": 559, \"value\": 2541}, \"2542\": {\"frequency\": 625, \"value\": 2542}, \"2543\": {\"frequency\": 2, \"value\": 2543}, \"2544\": {\"frequency\": 18, \"value\": 2544}, \"2545\": {\"frequency\": 12, \"value\": 2545}, \"2546\": {\"frequency\": 169, \"value\": 2546}, \"2548\": {\"frequency\": 105, \"value\": 2548}, \"2549\": {\"frequency\": 175, \"value\": 2549}, \"2550\": {\"frequency\": 183, \"value\": 2550}, \"2551\": {\"frequency\": 189, \"value\": 2551}, \"2552\": {\"frequency\": 37, \"value\": 2552}, \"2553\": {\"frequency\": 219, \"value\": 2553}, \"2554\": {\"frequency\": 136, \"value\": 2554}, \"2555\": {\"frequency\": 164, \"value\": 2555}, \"2556\": {\"frequency\": 1, \"value\": 2556}, \"2557\": {\"frequency\": 5, \"value\": 2557}, \"2558\": {\"frequency\": 235, \"value\": 2558}, \"2559\": {\"frequency\": 27, \"value\": 2559}, \"2560\": {\"frequency\": 171, \"value\": 2560}, \"2561\": {\"frequency\": 131, \"value\": 2561}, \"2562\": {\"frequency\": 9, \"value\": 2562}, \"2563\": {\"frequency\": 1, \"value\": 2563}, \"2565\": {\"frequency\": 372, \"value\": 2565}, \"2566\": {\"frequency\": 40, \"value\": 2566}, \"2567\": {\"frequency\": 302, \"value\": 2567}, \"2568\": {\"frequency\": 214, \"value\": 2568}, \"2569\": {\"frequency\": 9, \"value\": 2569}, \"2570\": {\"frequency\": 102, \"value\": 2570}, \"2571\": {\"frequency\": 2590, \"value\": 2571}, \"2572\": {\"frequency\": 700, \"value\": 2572}, \"2573\": {\"frequency\": 48, \"value\": 2573}, \"2574\": {\"frequency\": 199, \"value\": 2574}, \"2575\": {\"frequency\": 141, \"value\": 2575}, \"2576\": {\"frequency\": 3, \"value\": 2576}, \"2577\": {\"frequency\": 28, \"value\": 2577}, \"2578\": {\"frequency\": 4, \"value\": 2578}, \"2579\": {\"frequency\": 29, \"value\": 2579}, \"2580\": {\"frequency\": 723, \"value\": 2580}, \"2581\": {\"frequency\": 624, \"value\": 2581}, \"2582\": {\"frequency\": 66, \"value\": 2582}, \"2583\": {\"frequency\": 235, \"value\": 2583}, \"2584\": {\"frequency\": 1, \"value\": 2584}, \"2585\": {\"frequency\": 48, \"value\": 2585}, \"2586\": {\"frequency\": 25, \"value\": 2586}, \"2587\": {\"frequency\": 102, \"value\": 2587}, \"2589\": {\"frequency\": 64, \"value\": 2589}, \"2590\": {\"frequency\": 48, \"value\": 2590}, \"2591\": {\"frequency\": 2, \"value\": 2591}, \"2592\": {\"frequency\": 1, \"value\": 2592}, \"2593\": {\"frequency\": 35, \"value\": 2593}, \"2594\": {\"frequency\": 62, \"value\": 2594}, \"2596\": {\"frequency\": 139, \"value\": 2596}, \"2597\": {\"frequency\": 64, \"value\": 2597}, \"2598\": {\"frequency\": 533, \"value\": 2598}, \"2599\": {\"frequency\": 1522, \"value\": 2599}, \"2600\": {\"frequency\": 410, \"value\": 2600}, \"2602\": {\"frequency\": 6, \"value\": 2602}, \"2605\": {\"frequency\": 777, \"value\": 2605}, \"2606\": {\"frequency\": 207, \"value\": 2606}, \"2607\": {\"frequency\": 68, \"value\": 2607}, \"2608\": {\"frequency\": 5, \"value\": 2608}, \"2609\": {\"frequency\": 67, \"value\": 2609}, \"2610\": {\"frequency\": 41, \"value\": 2610}, \"2611\": {\"frequency\": 146, \"value\": 2611}, \"2612\": {\"frequency\": 136, \"value\": 2612}, \"2613\": {\"frequency\": 281, \"value\": 2613}, \"2614\": {\"frequency\": 44, \"value\": 2614}, \"2615\": {\"frequency\": 189, \"value\": 2615}, \"2616\": {\"frequency\": 624, \"value\": 2616}, \"2617\": {\"frequency\": 1007, \"value\": 2617}, \"2618\": {\"frequency\": 46, \"value\": 2618}, \"2619\": {\"frequency\": 1, \"value\": 2619}, \"2620\": {\"frequency\": 36, \"value\": 2620}, \"2621\": {\"frequency\": 69, \"value\": 2621}, \"2622\": {\"frequency\": 415, \"value\": 2622}, \"2623\": {\"frequency\": 4, \"value\": 2623}, \"2624\": {\"frequency\": 102, \"value\": 2624}, \"2625\": {\"frequency\": 66, \"value\": 2625}, \"2626\": {\"frequency\": 35, \"value\": 2626}, \"2627\": {\"frequency\": 14, \"value\": 2627}, \"2628\": {\"frequency\": 2250, \"value\": 2628}, \"2629\": {\"frequency\": 144, \"value\": 2629}, \"2630\": {\"frequency\": 41, \"value\": 2630}, \"2631\": {\"frequency\": 5, \"value\": 2631}, \"2632\": {\"frequency\": 11, \"value\": 2632}, \"2633\": {\"frequency\": 162, \"value\": 2633}, \"2634\": {\"frequency\": 93, \"value\": 2634}, \"2635\": {\"frequency\": 31, \"value\": 2635}, \"2636\": {\"frequency\": 13, \"value\": 2636}, \"2637\": {\"frequency\": 33, \"value\": 2637}, \"2638\": {\"frequency\": 36, \"value\": 2638}, \"2639\": {\"frequency\": 163, \"value\": 2639}, \"2640\": {\"frequency\": 1222, \"value\": 2640}, \"2641\": {\"frequency\": 846, \"value\": 2641}, \"2642\": {\"frequency\": 511, \"value\": 2642}, \"2643\": {\"frequency\": 332, \"value\": 2643}, \"2644\": {\"frequency\": 238, \"value\": 2644}, \"2645\": {\"frequency\": 102, \"value\": 2645}, \"2646\": {\"frequency\": 39, \"value\": 2646}, \"2647\": {\"frequency\": 52, \"value\": 2647}, \"2648\": {\"frequency\": 406, \"value\": 2648}, \"2649\": {\"frequency\": 65, \"value\": 2649}, \"2650\": {\"frequency\": 33, \"value\": 2650}, \"2651\": {\"frequency\": 82, \"value\": 2651}, \"2652\": {\"frequency\": 51, \"value\": 2652}, \"2653\": {\"frequency\": 42, \"value\": 2653}, \"2654\": {\"frequency\": 134, \"value\": 2654}, \"2655\": {\"frequency\": 47, \"value\": 2655}, \"2656\": {\"frequency\": 62, \"value\": 2656}, \"2657\": {\"frequency\": 1233, \"value\": 2657}, \"2658\": {\"frequency\": 11, \"value\": 2658}, \"2659\": {\"frequency\": 46, \"value\": 2659}, \"2660\": {\"frequency\": 135, \"value\": 2660}, \"2661\": {\"frequency\": 94, \"value\": 2661}, \"2662\": {\"frequency\": 565, \"value\": 2662}, \"2663\": {\"frequency\": 53, \"value\": 2663}, \"2664\": {\"frequency\": 628, \"value\": 2664}, \"2665\": {\"frequency\": 71, \"value\": 2665}, \"2666\": {\"frequency\": 28, \"value\": 2666}, \"2667\": {\"frequency\": 58, \"value\": 2667}, \"2668\": {\"frequency\": 273, \"value\": 2668}, \"2669\": {\"frequency\": 107, \"value\": 2669}, \"2670\": {\"frequency\": 220, \"value\": 2670}, \"2671\": {\"frequency\": 780, \"value\": 2671}, \"2672\": {\"frequency\": 391, \"value\": 2672}, \"2673\": {\"frequency\": 7, \"value\": 2673}, \"2674\": {\"frequency\": 26, \"value\": 2674}, \"2675\": {\"frequency\": 10, \"value\": 2675}, \"2676\": {\"frequency\": 266, \"value\": 2676}, \"2677\": {\"frequency\": 230, \"value\": 2677}, \"2678\": {\"frequency\": 25, \"value\": 2678}, \"2679\": {\"frequency\": 5, \"value\": 2679}, \"2681\": {\"frequency\": 43, \"value\": 2681}, \"2682\": {\"frequency\": 88, \"value\": 2682}, \"2683\": {\"frequency\": 1434, \"value\": 2683}, \"2685\": {\"frequency\": 4, \"value\": 2685}, \"2686\": {\"frequency\": 583, \"value\": 2686}, \"2687\": {\"frequency\": 442, \"value\": 2687}, \"2688\": {\"frequency\": 691, \"value\": 2688}, \"2689\": {\"frequency\": 41, \"value\": 2689}, \"2690\": {\"frequency\": 390, \"value\": 2690}, \"2691\": {\"frequency\": 20, \"value\": 2691}, \"2692\": {\"frequency\": 1072, \"value\": 2692}, \"2693\": {\"frequency\": 224, \"value\": 2693}, \"2694\": {\"frequency\": 791, \"value\": 2694}, \"2695\": {\"frequency\": 11, \"value\": 2695}, \"2696\": {\"frequency\": 81, \"value\": 2696}, \"2697\": {\"frequency\": 48, \"value\": 2697}, \"2699\": {\"frequency\": 1367, \"value\": 2699}, \"2700\": {\"frequency\": 1269, \"value\": 2700}, \"2701\": {\"frequency\": 902, \"value\": 2701}, \"2702\": {\"frequency\": 395, \"value\": 2702}, \"2703\": {\"frequency\": 1, \"value\": 2703}, \"2704\": {\"frequency\": 41, \"value\": 2704}, \"2705\": {\"frequency\": 7, \"value\": 2705}, \"2706\": {\"frequency\": 1389, \"value\": 2706}, \"2707\": {\"frequency\": 634, \"value\": 2707}, \"2708\": {\"frequency\": 47, \"value\": 2708}, \"2709\": {\"frequency\": 232, \"value\": 2709}, \"2710\": {\"frequency\": 1237, \"value\": 2710}, \"2711\": {\"frequency\": 32, \"value\": 2711}, \"2712\": {\"frequency\": 945, \"value\": 2712}, \"2713\": {\"frequency\": 421, \"value\": 2713}, \"2714\": {\"frequency\": 87, \"value\": 2714}, \"2715\": {\"frequency\": 22, \"value\": 2715}, \"2716\": {\"frequency\": 2181, \"value\": 2716}, \"2717\": {\"frequency\": 565, \"value\": 2717}, \"2718\": {\"frequency\": 383, \"value\": 2718}, \"2719\": {\"frequency\": 476, \"value\": 2719}, \"2720\": {\"frequency\": 373, \"value\": 2720}, \"2721\": {\"frequency\": 85, \"value\": 2721}, \"2722\": {\"frequency\": 598, \"value\": 2722}, \"2723\": {\"frequency\": 853, \"value\": 2723}, \"2724\": {\"frequency\": 650, \"value\": 2724}, \"2725\": {\"frequency\": 95, \"value\": 2725}, \"2726\": {\"frequency\": 130, \"value\": 2726}, \"2727\": {\"frequency\": 32, \"value\": 2727}, \"2728\": {\"frequency\": 426, \"value\": 2728}, \"2729\": {\"frequency\": 201, \"value\": 2729}, \"2730\": {\"frequency\": 169, \"value\": 2730}, \"2731\": {\"frequency\": 187, \"value\": 2731}, \"2732\": {\"frequency\": 148, \"value\": 2732}, \"2733\": {\"frequency\": 50, \"value\": 2733}, \"2734\": {\"frequency\": 466, \"value\": 2734}, \"2735\": {\"frequency\": 459, \"value\": 2735}, \"2736\": {\"frequency\": 225, \"value\": 2736}, \"2737\": {\"frequency\": 23, \"value\": 2737}, \"2738\": {\"frequency\": 79, \"value\": 2738}, \"2739\": {\"frequency\": 450, \"value\": 2739}, \"2740\": {\"frequency\": 17, \"value\": 2740}, \"2741\": {\"frequency\": 61, \"value\": 2741}, \"2742\": {\"frequency\": 1, \"value\": 2742}, \"2743\": {\"frequency\": 24, \"value\": 2743}, \"2744\": {\"frequency\": 38, \"value\": 2744}, \"2745\": {\"frequency\": 229, \"value\": 2745}, \"2746\": {\"frequency\": 936, \"value\": 2746}, \"2747\": {\"frequency\": 356, \"value\": 2747}, \"2748\": {\"frequency\": 137, \"value\": 2748}, \"2749\": {\"frequency\": 87, \"value\": 2749}, \"2750\": {\"frequency\": 285, \"value\": 2750}, \"2751\": {\"frequency\": 54, \"value\": 2751}, \"2752\": {\"frequency\": 185, \"value\": 2752}, \"2753\": {\"frequency\": 57, \"value\": 2753}, \"2754\": {\"frequency\": 12, \"value\": 2754}, \"2755\": {\"frequency\": 31, \"value\": 2755}, \"2756\": {\"frequency\": 32, \"value\": 2756}, \"2757\": {\"frequency\": 135, \"value\": 2757}, \"2758\": {\"frequency\": 31, \"value\": 2758}, \"2759\": {\"frequency\": 430, \"value\": 2759}, \"2760\": {\"frequency\": 7, \"value\": 2760}, \"2761\": {\"frequency\": 674, \"value\": 2761}, \"2762\": {\"frequency\": 2459, \"value\": 2762}, \"2763\": {\"frequency\": 1089, \"value\": 2763}, \"2764\": {\"frequency\": 280, \"value\": 2764}, \"2765\": {\"frequency\": 7, \"value\": 2765}, \"2766\": {\"frequency\": 33, \"value\": 2766}, \"2767\": {\"frequency\": 25, \"value\": 2767}, \"2768\": {\"frequency\": 13, \"value\": 2768}, \"2769\": {\"frequency\": 77, \"value\": 2769}, \"2770\": {\"frequency\": 935, \"value\": 2770}, \"2771\": {\"frequency\": 171, \"value\": 2771}, \"2772\": {\"frequency\": 246, \"value\": 2772}, \"2773\": {\"frequency\": 14, \"value\": 2773}, \"2774\": {\"frequency\": 68, \"value\": 2774}, \"2775\": {\"frequency\": 14, \"value\": 2775}, \"2776\": {\"frequency\": 13, \"value\": 2776}, \"2777\": {\"frequency\": 5, \"value\": 2777}, \"2778\": {\"frequency\": 29, \"value\": 2778}, \"2779\": {\"frequency\": 345, \"value\": 2779}, \"2780\": {\"frequency\": 82, \"value\": 2780}, \"2781\": {\"frequency\": 63, \"value\": 2781}, \"2782\": {\"frequency\": 107, \"value\": 2782}, \"2783\": {\"frequency\": 10, \"value\": 2783}, \"2784\": {\"frequency\": 63, \"value\": 2784}, \"2785\": {\"frequency\": 25, \"value\": 2785}, \"2786\": {\"frequency\": 72, \"value\": 2786}, \"2787\": {\"frequency\": 162, \"value\": 2787}, \"2788\": {\"frequency\": 451, \"value\": 2788}, \"2789\": {\"frequency\": 165, \"value\": 2789}, \"2790\": {\"frequency\": 61, \"value\": 2790}, \"2791\": {\"frequency\": 1731, \"value\": 2791}, \"2792\": {\"frequency\": 558, \"value\": 2792}, \"2793\": {\"frequency\": 265, \"value\": 2793}, \"2794\": {\"frequency\": 385, \"value\": 2794}, \"2795\": {\"frequency\": 549, \"value\": 2795}, \"2796\": {\"frequency\": 240, \"value\": 2796}, \"2797\": {\"frequency\": 1491, \"value\": 2797}, \"2798\": {\"frequency\": 160, \"value\": 2798}, \"2799\": {\"frequency\": 99, \"value\": 2799}, \"2800\": {\"frequency\": 22, \"value\": 2800}, \"2801\": {\"frequency\": 91, \"value\": 2801}, \"2802\": {\"frequency\": 306, \"value\": 2802}, \"2803\": {\"frequency\": 346, \"value\": 2803}, \"2804\": {\"frequency\": 1352, \"value\": 2804}, \"2805\": {\"frequency\": 448, \"value\": 2805}, \"2806\": {\"frequency\": 199, \"value\": 2806}, \"2807\": {\"frequency\": 91, \"value\": 2807}, \"2808\": {\"frequency\": 375, \"value\": 2808}, \"2809\": {\"frequency\": 20, \"value\": 2809}, \"2810\": {\"frequency\": 41, \"value\": 2810}, \"2811\": {\"frequency\": 2, \"value\": 2811}, \"2812\": {\"frequency\": 46, \"value\": 2812}, \"2813\": {\"frequency\": 29, \"value\": 2813}, \"2814\": {\"frequency\": 8, \"value\": 2814}, \"2815\": {\"frequency\": 271, \"value\": 2815}, \"2816\": {\"frequency\": 148, \"value\": 2816}, \"2817\": {\"frequency\": 125, \"value\": 2817}, \"2818\": {\"frequency\": 58, \"value\": 2818}, \"2819\": {\"frequency\": 319, \"value\": 2819}, \"2820\": {\"frequency\": 53, \"value\": 2820}, \"2821\": {\"frequency\": 3, \"value\": 2821}, \"2822\": {\"frequency\": 263, \"value\": 2822}, \"2823\": {\"frequency\": 4, \"value\": 2823}, \"2824\": {\"frequency\": 14, \"value\": 2824}, \"2825\": {\"frequency\": 4, \"value\": 2825}, \"2826\": {\"frequency\": 750, \"value\": 2826}, \"2827\": {\"frequency\": 328, \"value\": 2827}, \"2828\": {\"frequency\": 121, \"value\": 2828}, \"2829\": {\"frequency\": 157, \"value\": 2829}, \"2830\": {\"frequency\": 11, \"value\": 2830}, \"2831\": {\"frequency\": 8, \"value\": 2831}, \"2833\": {\"frequency\": 6, \"value\": 2833}, \"2834\": {\"frequency\": 18, \"value\": 2834}, \"2835\": {\"frequency\": 56, \"value\": 2835}, \"2836\": {\"frequency\": 163, \"value\": 2836}, \"2837\": {\"frequency\": 21, \"value\": 2837}, \"2839\": {\"frequency\": 10, \"value\": 2839}, \"2840\": {\"frequency\": 419, \"value\": 2840}, \"2841\": {\"frequency\": 487, \"value\": 2841}, \"2842\": {\"frequency\": 42, \"value\": 2842}, \"2843\": {\"frequency\": 23, \"value\": 2843}, \"2844\": {\"frequency\": 83, \"value\": 2844}, \"2845\": {\"frequency\": 1, \"value\": 2845}, \"2846\": {\"frequency\": 166, \"value\": 2846}, \"2847\": {\"frequency\": 33, \"value\": 2847}, \"2848\": {\"frequency\": 41, \"value\": 2848}, \"2849\": {\"frequency\": 30, \"value\": 2849}, \"2850\": {\"frequency\": 7, \"value\": 2850}, \"2851\": {\"frequency\": 133, \"value\": 2851}, \"2852\": {\"frequency\": 164, \"value\": 2852}, \"2853\": {\"frequency\": 28, \"value\": 2853}, \"2854\": {\"frequency\": 11, \"value\": 2854}, \"2855\": {\"frequency\": 10, \"value\": 2855}, \"2856\": {\"frequency\": 90, \"value\": 2856}, \"2857\": {\"frequency\": 399, \"value\": 2857}, \"2858\": {\"frequency\": 3428, \"value\": 2858}, \"2859\": {\"frequency\": 239, \"value\": 2859}, \"2860\": {\"frequency\": 128, \"value\": 2860}, \"2861\": {\"frequency\": 354, \"value\": 2861}, \"2862\": {\"frequency\": 89, \"value\": 2862}, \"2863\": {\"frequency\": 518, \"value\": 2863}, \"2864\": {\"frequency\": 28, \"value\": 2864}, \"2865\": {\"frequency\": 20, \"value\": 2865}, \"2866\": {\"frequency\": 199, \"value\": 2866}, \"2867\": {\"frequency\": 306, \"value\": 2867}, \"2868\": {\"frequency\": 63, \"value\": 2868}, \"2869\": {\"frequency\": 3, \"value\": 2869}, \"2870\": {\"frequency\": 193, \"value\": 2870}, \"2871\": {\"frequency\": 729, \"value\": 2871}, \"2872\": {\"frequency\": 742, \"value\": 2872}, \"2873\": {\"frequency\": 22, \"value\": 2873}, \"2874\": {\"frequency\": 67, \"value\": 2874}, \"2875\": {\"frequency\": 291, \"value\": 2875}, \"2876\": {\"frequency\": 43, \"value\": 2876}, \"2877\": {\"frequency\": 211, \"value\": 2877}, \"2878\": {\"frequency\": 34, \"value\": 2878}, \"2879\": {\"frequency\": 164, \"value\": 2879}, \"2880\": {\"frequency\": 72, \"value\": 2880}, \"2881\": {\"frequency\": 786, \"value\": 2881}, \"2882\": {\"frequency\": 118, \"value\": 2882}, \"2883\": {\"frequency\": 277, \"value\": 2883}, \"2884\": {\"frequency\": 42, \"value\": 2884}, \"2885\": {\"frequency\": 61, \"value\": 2885}, \"2886\": {\"frequency\": 33, \"value\": 2886}, \"2887\": {\"frequency\": 4, \"value\": 2887}, \"2888\": {\"frequency\": 119, \"value\": 2888}, \"2889\": {\"frequency\": 287, \"value\": 2889}, \"2890\": {\"frequency\": 1021, \"value\": 2890}, \"2891\": {\"frequency\": 185, \"value\": 2891}, \"2892\": {\"frequency\": 12, \"value\": 2892}, \"2893\": {\"frequency\": 42, \"value\": 2893}, \"2894\": {\"frequency\": 32, \"value\": 2894}, \"2895\": {\"frequency\": 2, \"value\": 2895}, \"2896\": {\"frequency\": 28, \"value\": 2896}, \"2897\": {\"frequency\": 20, \"value\": 2897}, \"2898\": {\"frequency\": 102, \"value\": 2898}, \"2899\": {\"frequency\": 117, \"value\": 2899}, \"2900\": {\"frequency\": 161, \"value\": 2900}, \"2901\": {\"frequency\": 330, \"value\": 2901}, \"2902\": {\"frequency\": 164, \"value\": 2902}, \"2903\": {\"frequency\": 98, \"value\": 2903}, \"2904\": {\"frequency\": 17, \"value\": 2904}, \"2905\": {\"frequency\": 69, \"value\": 2905}, \"2906\": {\"frequency\": 250, \"value\": 2906}, \"2907\": {\"frequency\": 213, \"value\": 2907}, \"2908\": {\"frequency\": 850, \"value\": 2908}, \"2909\": {\"frequency\": 1, \"value\": 2909}, \"2911\": {\"frequency\": 7, \"value\": 2911}, \"2912\": {\"frequency\": 474, \"value\": 2912}, \"2913\": {\"frequency\": 17, \"value\": 2913}, \"2914\": {\"frequency\": 11, \"value\": 2914}, \"2915\": {\"frequency\": 852, \"value\": 2915}, \"2916\": {\"frequency\": 1996, \"value\": 2916}, \"2917\": {\"frequency\": 504, \"value\": 2917}, \"2918\": {\"frequency\": 1473, \"value\": 2918}, \"2919\": {\"frequency\": 391, \"value\": 2919}, \"2920\": {\"frequency\": 100, \"value\": 2920}, \"2921\": {\"frequency\": 317, \"value\": 2921}, \"2922\": {\"frequency\": 241, \"value\": 2922}, \"2923\": {\"frequency\": 17, \"value\": 2923}, \"2924\": {\"frequency\": 133, \"value\": 2924}, \"2925\": {\"frequency\": 57, \"value\": 2925}, \"2926\": {\"frequency\": 445, \"value\": 2926}, \"2927\": {\"frequency\": 99, \"value\": 2927}, \"2928\": {\"frequency\": 77, \"value\": 2928}, \"2929\": {\"frequency\": 215, \"value\": 2929}, \"2930\": {\"frequency\": 5, \"value\": 2930}, \"2931\": {\"frequency\": 10, \"value\": 2931}, \"2932\": {\"frequency\": 118, \"value\": 2932}, \"2933\": {\"frequency\": 9, \"value\": 2933}, \"2934\": {\"frequency\": 5, \"value\": 2934}, \"2935\": {\"frequency\": 145, \"value\": 2935}, \"2936\": {\"frequency\": 161, \"value\": 2936}, \"2937\": {\"frequency\": 104, \"value\": 2937}, \"2938\": {\"frequency\": 31, \"value\": 2938}, \"2939\": {\"frequency\": 52, \"value\": 2939}, \"2940\": {\"frequency\": 107, \"value\": 2940}, \"2941\": {\"frequency\": 280, \"value\": 2941}, \"2942\": {\"frequency\": 362, \"value\": 2942}, \"2943\": {\"frequency\": 160, \"value\": 2943}, \"2944\": {\"frequency\": 707, \"value\": 2944}, \"2945\": {\"frequency\": 28, \"value\": 2945}, \"2946\": {\"frequency\": 291, \"value\": 2946}, \"2947\": {\"frequency\": 897, \"value\": 2947}, \"2948\": {\"frequency\": 771, \"value\": 2948}, \"2949\": {\"frequency\": 646, \"value\": 2949}, \"2950\": {\"frequency\": 346, \"value\": 2950}, \"2951\": {\"frequency\": 522, \"value\": 2951}, \"2952\": {\"frequency\": 186, \"value\": 2952}, \"2953\": {\"frequency\": 341, \"value\": 2953}, \"2955\": {\"frequency\": 4, \"value\": 2955}, \"2956\": {\"frequency\": 141, \"value\": 2956}, \"2959\": {\"frequency\": 1451, \"value\": 2959}, \"2960\": {\"frequency\": 4, \"value\": 2960}, \"2961\": {\"frequency\": 280, \"value\": 2961}, \"2962\": {\"frequency\": 10, \"value\": 2962}, \"2963\": {\"frequency\": 17, \"value\": 2963}, \"2964\": {\"frequency\": 12, \"value\": 2964}, \"2965\": {\"frequency\": 72, \"value\": 2965}, \"2966\": {\"frequency\": 429, \"value\": 2966}, \"2967\": {\"frequency\": 127, \"value\": 2967}, \"2968\": {\"frequency\": 1010, \"value\": 2968}, \"2969\": {\"frequency\": 91, \"value\": 2969}, \"2970\": {\"frequency\": 98, \"value\": 2970}, \"2971\": {\"frequency\": 317, \"value\": 2971}, \"2972\": {\"frequency\": 65, \"value\": 2972}, \"2973\": {\"frequency\": 460, \"value\": 2973}, \"2974\": {\"frequency\": 67, \"value\": 2974}, \"2975\": {\"frequency\": 111, \"value\": 2975}, \"2976\": {\"frequency\": 557, \"value\": 2976}, \"2977\": {\"frequency\": 45, \"value\": 2977}, \"2978\": {\"frequency\": 103, \"value\": 2978}, \"2979\": {\"frequency\": 37, \"value\": 2979}, \"2981\": {\"frequency\": 15, \"value\": 2981}, \"2982\": {\"frequency\": 38, \"value\": 2982}, \"2983\": {\"frequency\": 81, \"value\": 2983}, \"2984\": {\"frequency\": 9, \"value\": 2984}, \"2985\": {\"frequency\": 1229, \"value\": 2985}, \"2986\": {\"frequency\": 493, \"value\": 2986}, \"2987\": {\"frequency\": 1799, \"value\": 2987}, \"2988\": {\"frequency\": 108, \"value\": 2988}, \"2989\": {\"frequency\": 425, \"value\": 2989}, \"2990\": {\"frequency\": 385, \"value\": 2990}, \"2991\": {\"frequency\": 422, \"value\": 2991}, \"2992\": {\"frequency\": 31, \"value\": 2992}, \"2993\": {\"frequency\": 404, \"value\": 2993}, \"2994\": {\"frequency\": 10, \"value\": 2994}, \"2995\": {\"frequency\": 341, \"value\": 2995}, \"2996\": {\"frequency\": 133, \"value\": 2996}, \"2997\": {\"frequency\": 2241, \"value\": 2997}, \"2998\": {\"frequency\": 13, \"value\": 2998}, \"2999\": {\"frequency\": 4, \"value\": 2999}, \"3000\": {\"frequency\": 345, \"value\": 3000}, \"3001\": {\"frequency\": 6, \"value\": 3001}, \"3002\": {\"frequency\": 35, \"value\": 3002}, \"3003\": {\"frequency\": 8, \"value\": 3003}, \"3004\": {\"frequency\": 252, \"value\": 3004}, \"3005\": {\"frequency\": 640, \"value\": 3005}, \"3006\": {\"frequency\": 884, \"value\": 3006}, \"3007\": {\"frequency\": 295, \"value\": 3007}, \"3008\": {\"frequency\": 51, \"value\": 3008}, \"3010\": {\"frequency\": 35, \"value\": 3010}, \"3011\": {\"frequency\": 149, \"value\": 3011}, \"3012\": {\"frequency\": 10, \"value\": 3012}, \"3013\": {\"frequency\": 65, \"value\": 3013}, \"3014\": {\"frequency\": 49, \"value\": 3014}, \"3015\": {\"frequency\": 144, \"value\": 3015}, \"3016\": {\"frequency\": 447, \"value\": 3016}, \"3017\": {\"frequency\": 104, \"value\": 3017}, \"3018\": {\"frequency\": 248, \"value\": 3018}, \"3019\": {\"frequency\": 416, \"value\": 3019}, \"3020\": {\"frequency\": 524, \"value\": 3020}, \"3021\": {\"frequency\": 36, \"value\": 3021}, \"3022\": {\"frequency\": 206, \"value\": 3022}, \"3024\": {\"frequency\": 161, \"value\": 3024}, \"3025\": {\"frequency\": 14, \"value\": 3025}, \"3026\": {\"frequency\": 8, \"value\": 3026}, \"3027\": {\"frequency\": 7, \"value\": 3027}, \"3028\": {\"frequency\": 139, \"value\": 3028}, \"3029\": {\"frequency\": 190, \"value\": 3029}, \"3030\": {\"frequency\": 215, \"value\": 3030}, \"3031\": {\"frequency\": 53, \"value\": 3031}, \"3032\": {\"frequency\": 224, \"value\": 3032}, \"3033\": {\"frequency\": 899, \"value\": 3033}, \"3034\": {\"frequency\": 343, \"value\": 3034}, \"3035\": {\"frequency\": 421, \"value\": 3035}, \"3036\": {\"frequency\": 174, \"value\": 3036}, \"3037\": {\"frequency\": 591, \"value\": 3037}, \"3038\": {\"frequency\": 74, \"value\": 3038}, \"3039\": {\"frequency\": 839, \"value\": 3039}, \"3040\": {\"frequency\": 315, \"value\": 3040}, \"3041\": {\"frequency\": 73, \"value\": 3041}, \"3042\": {\"frequency\": 65, \"value\": 3042}, \"3043\": {\"frequency\": 40, \"value\": 3043}, \"3044\": {\"frequency\": 583, \"value\": 3044}, \"3045\": {\"frequency\": 118, \"value\": 3045}, \"3046\": {\"frequency\": 85, \"value\": 3046}, \"3047\": {\"frequency\": 18, \"value\": 3047}, \"3048\": {\"frequency\": 71, \"value\": 3048}, \"3049\": {\"frequency\": 37, \"value\": 3049}, \"3050\": {\"frequency\": 16, \"value\": 3050}, \"3051\": {\"frequency\": 161, \"value\": 3051}, \"3052\": {\"frequency\": 989, \"value\": 3052}, \"3053\": {\"frequency\": 341, \"value\": 3053}, \"3054\": {\"frequency\": 136, \"value\": 3054}, \"3055\": {\"frequency\": 82, \"value\": 3055}, \"3056\": {\"frequency\": 6, \"value\": 3056}, \"3057\": {\"frequency\": 2, \"value\": 3057}, \"3058\": {\"frequency\": 12, \"value\": 3058}, \"3060\": {\"frequency\": 558, \"value\": 3060}, \"3061\": {\"frequency\": 275, \"value\": 3061}, \"3062\": {\"frequency\": 352, \"value\": 3062}, \"3063\": {\"frequency\": 139, \"value\": 3063}, \"3064\": {\"frequency\": 60, \"value\": 3064}, \"3065\": {\"frequency\": 1, \"value\": 3065}, \"3066\": {\"frequency\": 194, \"value\": 3066}, \"3067\": {\"frequency\": 353, \"value\": 3067}, \"3068\": {\"frequency\": 379, \"value\": 3068}, \"3069\": {\"frequency\": 55, \"value\": 3069}, \"3070\": {\"frequency\": 611, \"value\": 3070}, \"3071\": {\"frequency\": 327, \"value\": 3071}, \"3072\": {\"frequency\": 982, \"value\": 3072}, \"3073\": {\"frequency\": 33, \"value\": 3073}, \"3074\": {\"frequency\": 222, \"value\": 3074}, \"3075\": {\"frequency\": 69, \"value\": 3075}, \"3076\": {\"frequency\": 93, \"value\": 3076}, \"3077\": {\"frequency\": 88, \"value\": 3077}, \"3078\": {\"frequency\": 155, \"value\": 3078}, \"3079\": {\"frequency\": 145, \"value\": 3079}, \"3081\": {\"frequency\": 1066, \"value\": 3081}, \"3082\": {\"frequency\": 862, \"value\": 3082}, \"3083\": {\"frequency\": 394, \"value\": 3083}, \"3084\": {\"frequency\": 2, \"value\": 3084}, \"3085\": {\"frequency\": 2, \"value\": 3085}, \"3086\": {\"frequency\": 81, \"value\": 3086}, \"3087\": {\"frequency\": 516, \"value\": 3087}, \"3088\": {\"frequency\": 356, \"value\": 3088}, \"3089\": {\"frequency\": 252, \"value\": 3089}, \"3090\": {\"frequency\": 177, \"value\": 3090}, \"3091\": {\"frequency\": 141, \"value\": 3091}, \"3092\": {\"frequency\": 20, \"value\": 3092}, \"3093\": {\"frequency\": 208, \"value\": 3093}, \"3094\": {\"frequency\": 101, \"value\": 3094}, \"3095\": {\"frequency\": 521, \"value\": 3095}, \"3096\": {\"frequency\": 93, \"value\": 3096}, \"3097\": {\"frequency\": 206, \"value\": 3097}, \"3098\": {\"frequency\": 548, \"value\": 3098}, \"3099\": {\"frequency\": 273, \"value\": 3099}, \"3100\": {\"frequency\": 623, \"value\": 3100}, \"3101\": {\"frequency\": 802, \"value\": 3101}, \"3102\": {\"frequency\": 244, \"value\": 3102}, \"3103\": {\"frequency\": 68, \"value\": 3103}, \"3104\": {\"frequency\": 765, \"value\": 3104}, \"3105\": {\"frequency\": 680, \"value\": 3105}, \"3106\": {\"frequency\": 25, \"value\": 3106}, \"3107\": {\"frequency\": 869, \"value\": 3107}, \"3108\": {\"frequency\": 945, \"value\": 3108}, \"3109\": {\"frequency\": 64, \"value\": 3109}, \"3110\": {\"frequency\": 33, \"value\": 3110}, \"3111\": {\"frequency\": 213, \"value\": 3111}, \"3112\": {\"frequency\": 70, \"value\": 3112}, \"3113\": {\"frequency\": 564, \"value\": 3113}, \"3114\": {\"frequency\": 1585, \"value\": 3114}, \"3115\": {\"frequency\": 110, \"value\": 3115}, \"3116\": {\"frequency\": 11, \"value\": 3116}, \"3117\": {\"frequency\": 73, \"value\": 3117}, \"3118\": {\"frequency\": 66, \"value\": 3118}, \"3119\": {\"frequency\": 3, \"value\": 3119}, \"3120\": {\"frequency\": 130, \"value\": 3120}, \"3121\": {\"frequency\": 18, \"value\": 3121}, \"3122\": {\"frequency\": 29, \"value\": 3122}, \"3123\": {\"frequency\": 3, \"value\": 3123}, \"3124\": {\"frequency\": 34, \"value\": 3124}, \"3125\": {\"frequency\": 200, \"value\": 3125}, \"3126\": {\"frequency\": 3, \"value\": 3126}, \"3127\": {\"frequency\": 56, \"value\": 3127}, \"3128\": {\"frequency\": 51, \"value\": 3128}, \"3129\": {\"frequency\": 288, \"value\": 3129}, \"3130\": {\"frequency\": 118, \"value\": 3130}, \"3131\": {\"frequency\": 2, \"value\": 3131}, \"3132\": {\"frequency\": 38, \"value\": 3132}, \"3133\": {\"frequency\": 42, \"value\": 3133}, \"3134\": {\"frequency\": 165, \"value\": 3134}, \"3135\": {\"frequency\": 195, \"value\": 3135}, \"3136\": {\"frequency\": 3, \"value\": 3136}, \"3137\": {\"frequency\": 16, \"value\": 3137}, \"3138\": {\"frequency\": 66, \"value\": 3138}, \"3139\": {\"frequency\": 17, \"value\": 3139}, \"3140\": {\"frequency\": 9, \"value\": 3140}, \"3141\": {\"frequency\": 62, \"value\": 3141}, \"3142\": {\"frequency\": 130, \"value\": 3142}, \"3143\": {\"frequency\": 33, \"value\": 3143}, \"3144\": {\"frequency\": 49, \"value\": 3144}, \"3145\": {\"frequency\": 259, \"value\": 3145}, \"3146\": {\"frequency\": 308, \"value\": 3146}, \"3147\": {\"frequency\": 1222, \"value\": 3147}, \"3148\": {\"frequency\": 711, \"value\": 3148}, \"3149\": {\"frequency\": 9, \"value\": 3149}, \"3150\": {\"frequency\": 60, \"value\": 3150}, \"3151\": {\"frequency\": 1, \"value\": 3151}, \"3152\": {\"frequency\": 354, \"value\": 3152}, \"3153\": {\"frequency\": 258, \"value\": 3153}, \"3154\": {\"frequency\": 8, \"value\": 3154}, \"3155\": {\"frequency\": 333, \"value\": 3155}, \"3156\": {\"frequency\": 383, \"value\": 3156}, \"3157\": {\"frequency\": 520, \"value\": 3157}, \"3158\": {\"frequency\": 44, \"value\": 3158}, \"3159\": {\"frequency\": 453, \"value\": 3159}, \"3160\": {\"frequency\": 1113, \"value\": 3160}, \"3161\": {\"frequency\": 19, \"value\": 3161}, \"3162\": {\"frequency\": 21, \"value\": 3162}, \"3163\": {\"frequency\": 304, \"value\": 3163}, \"3164\": {\"frequency\": 1, \"value\": 3164}, \"3165\": {\"frequency\": 61, \"value\": 3165}, \"3166\": {\"frequency\": 6, \"value\": 3166}, \"3167\": {\"frequency\": 166, \"value\": 3167}, \"3168\": {\"frequency\": 485, \"value\": 3168}, \"3169\": {\"frequency\": 253, \"value\": 3169}, \"3171\": {\"frequency\": 25, \"value\": 3171}, \"3172\": {\"frequency\": 1, \"value\": 3172}, \"3173\": {\"frequency\": 483, \"value\": 3173}, \"3174\": {\"frequency\": 874, \"value\": 3174}, \"3175\": {\"frequency\": 1728, \"value\": 3175}, \"3176\": {\"frequency\": 1331, \"value\": 3176}, \"3177\": {\"frequency\": 168, \"value\": 3177}, \"3178\": {\"frequency\": 509, \"value\": 3178}, \"3179\": {\"frequency\": 225, \"value\": 3179}, \"3180\": {\"frequency\": 70, \"value\": 3180}, \"3181\": {\"frequency\": 163, \"value\": 3181}, \"3182\": {\"frequency\": 124, \"value\": 3182}, \"3183\": {\"frequency\": 45, \"value\": 3183}, \"3184\": {\"frequency\": 5, \"value\": 3184}, \"3185\": {\"frequency\": 398, \"value\": 3185}, \"3186\": {\"frequency\": 431, \"value\": 3186}, \"3187\": {\"frequency\": 3, \"value\": 3187}, \"3188\": {\"frequency\": 54, \"value\": 3188}, \"3189\": {\"frequency\": 300, \"value\": 3189}, \"3190\": {\"frequency\": 161, \"value\": 3190}, \"3192\": {\"frequency\": 24, \"value\": 3192}, \"3194\": {\"frequency\": 220, \"value\": 3194}, \"3196\": {\"frequency\": 394, \"value\": 3196}, \"3197\": {\"frequency\": 251, \"value\": 3197}, \"3198\": {\"frequency\": 325, \"value\": 3198}, \"3199\": {\"frequency\": 72, \"value\": 3199}, \"3200\": {\"frequency\": 172, \"value\": 3200}, \"3201\": {\"frequency\": 359, \"value\": 3201}, \"3202\": {\"frequency\": 1, \"value\": 3202}, \"3203\": {\"frequency\": 497, \"value\": 3203}, \"3204\": {\"frequency\": 204, \"value\": 3204}, \"3205\": {\"frequency\": 4, \"value\": 3205}, \"3206\": {\"frequency\": 133, \"value\": 3206}, \"3207\": {\"frequency\": 5, \"value\": 3207}, \"3208\": {\"frequency\": 264, \"value\": 3208}, \"3209\": {\"frequency\": 1, \"value\": 3209}, \"3210\": {\"frequency\": 886, \"value\": 3210}, \"3211\": {\"frequency\": 66, \"value\": 3211}, \"3212\": {\"frequency\": 2, \"value\": 3212}, \"3213\": {\"frequency\": 232, \"value\": 3213}, \"3214\": {\"frequency\": 97, \"value\": 3214}, \"3215\": {\"frequency\": 11, \"value\": 3215}, \"3216\": {\"frequency\": 3, \"value\": 3216}, \"3217\": {\"frequency\": 91, \"value\": 3217}, \"3218\": {\"frequency\": 32, \"value\": 3218}, \"3219\": {\"frequency\": 447, \"value\": 3219}, \"3220\": {\"frequency\": 1, \"value\": 3220}, \"3221\": {\"frequency\": 29, \"value\": 3221}, \"3222\": {\"frequency\": 30, \"value\": 3222}, \"3223\": {\"frequency\": 29, \"value\": 3223}, \"3224\": {\"frequency\": 77, \"value\": 3224}, \"3225\": {\"frequency\": 122, \"value\": 3225}, \"3228\": {\"frequency\": 2, \"value\": 3228}, \"3229\": {\"frequency\": 1, \"value\": 3229}, \"3230\": {\"frequency\": 78, \"value\": 3230}, \"3232\": {\"frequency\": 5, \"value\": 3232}, \"3233\": {\"frequency\": 2, \"value\": 3233}, \"3235\": {\"frequency\": 71, \"value\": 3235}, \"3236\": {\"frequency\": 2, \"value\": 3236}, \"3237\": {\"frequency\": 1, \"value\": 3237}, \"3238\": {\"frequency\": 267, \"value\": 3238}, \"3239\": {\"frequency\": 37, \"value\": 3239}, \"3240\": {\"frequency\": 33, \"value\": 3240}, \"3241\": {\"frequency\": 57, \"value\": 3241}, \"3242\": {\"frequency\": 3, \"value\": 3242}, \"3243\": {\"frequency\": 293, \"value\": 3243}, \"3244\": {\"frequency\": 322, \"value\": 3244}, \"3245\": {\"frequency\": 5, \"value\": 3245}, \"3246\": {\"frequency\": 475, \"value\": 3246}, \"3247\": {\"frequency\": 666, \"value\": 3247}, \"3248\": {\"frequency\": 202, \"value\": 3248}, \"3249\": {\"frequency\": 340, \"value\": 3249}, \"3250\": {\"frequency\": 366, \"value\": 3250}, \"3251\": {\"frequency\": 276, \"value\": 3251}, \"3252\": {\"frequency\": 555, \"value\": 3252}, \"3253\": {\"frequency\": 1120, \"value\": 3253}, \"3254\": {\"frequency\": 433, \"value\": 3254}, \"3255\": {\"frequency\": 1099, \"value\": 3255}, \"3256\": {\"frequency\": 1052, \"value\": 3256}, \"3257\": {\"frequency\": 626, \"value\": 3257}, \"3258\": {\"frequency\": 339, \"value\": 3258}, \"3259\": {\"frequency\": 403, \"value\": 3259}, \"3260\": {\"frequency\": 480, \"value\": 3260}, \"3261\": {\"frequency\": 429, \"value\": 3261}, \"3262\": {\"frequency\": 163, \"value\": 3262}, \"3263\": {\"frequency\": 667, \"value\": 3263}, \"3264\": {\"frequency\": 512, \"value\": 3264}, \"3265\": {\"frequency\": 327, \"value\": 3265}, \"3266\": {\"frequency\": 154, \"value\": 3266}, \"3267\": {\"frequency\": 483, \"value\": 3267}, \"3268\": {\"frequency\": 179, \"value\": 3268}, \"3269\": {\"frequency\": 477, \"value\": 3269}, \"3270\": {\"frequency\": 200, \"value\": 3270}, \"3271\": {\"frequency\": 328, \"value\": 3271}, \"3272\": {\"frequency\": 171, \"value\": 3272}, \"3273\": {\"frequency\": 577, \"value\": 3273}, \"3274\": {\"frequency\": 438, \"value\": 3274}, \"3275\": {\"frequency\": 92, \"value\": 3275}, \"3276\": {\"frequency\": 46, \"value\": 3276}, \"3277\": {\"frequency\": 1, \"value\": 3277}, \"3280\": {\"frequency\": 1, \"value\": 3280}, \"3281\": {\"frequency\": 49, \"value\": 3281}, \"3282\": {\"frequency\": 10, \"value\": 3282}, \"3283\": {\"frequency\": 15, \"value\": 3283}, \"3284\": {\"frequency\": 45, \"value\": 3284}, \"3285\": {\"frequency\": 423, \"value\": 3285}, \"3286\": {\"frequency\": 122, \"value\": 3286}, \"3287\": {\"frequency\": 129, \"value\": 3287}, \"3288\": {\"frequency\": 4, \"value\": 3288}, \"3289\": {\"frequency\": 52, \"value\": 3289}, \"3290\": {\"frequency\": 1, \"value\": 3290}, \"3291\": {\"frequency\": 1, \"value\": 3291}, \"3292\": {\"frequency\": 6, \"value\": 3292}, \"3293\": {\"frequency\": 5, \"value\": 3293}, \"3294\": {\"frequency\": 2, \"value\": 3294}, \"3295\": {\"frequency\": 2, \"value\": 3295}, \"3296\": {\"frequency\": 203, \"value\": 3296}, \"3297\": {\"frequency\": 1, \"value\": 3297}, \"3298\": {\"frequency\": 590, \"value\": 3298}, \"3299\": {\"frequency\": 176, \"value\": 3299}, \"3300\": {\"frequency\": 542, \"value\": 3300}, \"3301\": {\"frequency\": 602, \"value\": 3301}, \"3302\": {\"frequency\": 53, \"value\": 3302}, \"3303\": {\"frequency\": 6, \"value\": 3303}, \"3304\": {\"frequency\": 56, \"value\": 3304}, \"3305\": {\"frequency\": 2, \"value\": 3305}, \"3306\": {\"frequency\": 24, \"value\": 3306}, \"3307\": {\"frequency\": 271, \"value\": 3307}, \"3308\": {\"frequency\": 294, \"value\": 3308}, \"3309\": {\"frequency\": 24, \"value\": 3309}, \"3310\": {\"frequency\": 62, \"value\": 3310}, \"3311\": {\"frequency\": 33, \"value\": 3311}, \"3312\": {\"frequency\": 1, \"value\": 3312}, \"3313\": {\"frequency\": 20, \"value\": 3313}, \"3314\": {\"frequency\": 4, \"value\": 3314}, \"3315\": {\"frequency\": 1, \"value\": 3315}, \"3316\": {\"frequency\": 289, \"value\": 3316}, \"3317\": {\"frequency\": 496, \"value\": 3317}, \"3318\": {\"frequency\": 48, \"value\": 3318}, \"3319\": {\"frequency\": 28, \"value\": 3319}, \"3320\": {\"frequency\": 45, \"value\": 3320}, \"3321\": {\"frequency\": 1, \"value\": 3321}, \"3322\": {\"frequency\": 4, \"value\": 3322}, \"3323\": {\"frequency\": 1, \"value\": 3323}, \"3324\": {\"frequency\": 190, \"value\": 3324}, \"3325\": {\"frequency\": 160, \"value\": 3325}, \"3326\": {\"frequency\": 180, \"value\": 3326}, \"3327\": {\"frequency\": 134, \"value\": 3327}, \"3328\": {\"frequency\": 314, \"value\": 3328}, \"3329\": {\"frequency\": 27, \"value\": 3329}, \"3330\": {\"frequency\": 108, \"value\": 3330}, \"3331\": {\"frequency\": 35, \"value\": 3331}, \"3333\": {\"frequency\": 16, \"value\": 3333}, \"3334\": {\"frequency\": 461, \"value\": 3334}, \"3335\": {\"frequency\": 12, \"value\": 3335}, \"3336\": {\"frequency\": 2, \"value\": 3336}, \"3337\": {\"frequency\": 2, \"value\": 3337}, \"3338\": {\"frequency\": 27, \"value\": 3338}, \"3339\": {\"frequency\": 43, \"value\": 3339}, \"3340\": {\"frequency\": 71, \"value\": 3340}, \"3341\": {\"frequency\": 177, \"value\": 3341}, \"3342\": {\"frequency\": 223, \"value\": 3342}, \"3343\": {\"frequency\": 40, \"value\": 3343}, \"3344\": {\"frequency\": 20, \"value\": 3344}, \"3345\": {\"frequency\": 23, \"value\": 3345}, \"3346\": {\"frequency\": 5, \"value\": 3346}, \"3347\": {\"frequency\": 212, \"value\": 3347}, \"3349\": {\"frequency\": 25, \"value\": 3349}, \"3350\": {\"frequency\": 143, \"value\": 3350}, \"3351\": {\"frequency\": 15, \"value\": 3351}, \"3352\": {\"frequency\": 3, \"value\": 3352}, \"3353\": {\"frequency\": 2, \"value\": 3353}, \"3354\": {\"frequency\": 793, \"value\": 3354}, \"3355\": {\"frequency\": 298, \"value\": 3355}, \"3357\": {\"frequency\": 103, \"value\": 3357}, \"3358\": {\"frequency\": 446, \"value\": 3358}, \"3359\": {\"frequency\": 520, \"value\": 3359}, \"3360\": {\"frequency\": 590, \"value\": 3360}, \"3361\": {\"frequency\": 1095, \"value\": 3361}, \"3362\": {\"frequency\": 765, \"value\": 3362}, \"3363\": {\"frequency\": 990, \"value\": 3363}, \"3364\": {\"frequency\": 151, \"value\": 3364}, \"3365\": {\"frequency\": 245, \"value\": 3365}, \"3366\": {\"frequency\": 265, \"value\": 3366}, \"3367\": {\"frequency\": 43, \"value\": 3367}, \"3368\": {\"frequency\": 63, \"value\": 3368}, \"3370\": {\"frequency\": 86, \"value\": 3370}, \"3371\": {\"frequency\": 48, \"value\": 3371}, \"3372\": {\"frequency\": 56, \"value\": 3372}, \"3373\": {\"frequency\": 3, \"value\": 3373}, \"3374\": {\"frequency\": 15, \"value\": 3374}, \"3375\": {\"frequency\": 65, \"value\": 3375}, \"3376\": {\"frequency\": 1, \"value\": 3376}, \"3377\": {\"frequency\": 2, \"value\": 3377}, \"3378\": {\"frequency\": 4, \"value\": 3378}, \"3379\": {\"frequency\": 95, \"value\": 3379}, \"3380\": {\"frequency\": 3, \"value\": 3380}, \"3381\": {\"frequency\": 2, \"value\": 3381}, \"3382\": {\"frequency\": 1, \"value\": 3382}, \"3384\": {\"frequency\": 276, \"value\": 3384}, \"3385\": {\"frequency\": 141, \"value\": 3385}, \"3386\": {\"frequency\": 756, \"value\": 3386}, \"3387\": {\"frequency\": 173, \"value\": 3387}, \"3388\": {\"frequency\": 298, \"value\": 3388}, \"3389\": {\"frequency\": 38, \"value\": 3389}, \"3390\": {\"frequency\": 33, \"value\": 3390}, \"3391\": {\"frequency\": 96, \"value\": 3391}, \"3392\": {\"frequency\": 157, \"value\": 3392}, \"3393\": {\"frequency\": 51, \"value\": 3393}, \"3394\": {\"frequency\": 210, \"value\": 3394}, \"3395\": {\"frequency\": 55, \"value\": 3395}, \"3396\": {\"frequency\": 744, \"value\": 3396}, \"3397\": {\"frequency\": 358, \"value\": 3397}, \"3398\": {\"frequency\": 341, \"value\": 3398}, \"3399\": {\"frequency\": 87, \"value\": 3399}, \"3400\": {\"frequency\": 29, \"value\": 3400}, \"3401\": {\"frequency\": 113, \"value\": 3401}, \"3402\": {\"frequency\": 23, \"value\": 3402}, \"3403\": {\"frequency\": 32, \"value\": 3403}, \"3404\": {\"frequency\": 219, \"value\": 3404}, \"3405\": {\"frequency\": 144, \"value\": 3405}, \"3406\": {\"frequency\": 105, \"value\": 3406}, \"3407\": {\"frequency\": 3, \"value\": 3407}, \"3408\": {\"frequency\": 1315, \"value\": 3408}, \"3409\": {\"frequency\": 459, \"value\": 3409}, \"3410\": {\"frequency\": 9, \"value\": 3410}, \"3412\": {\"frequency\": 175, \"value\": 3412}, \"3413\": {\"frequency\": 2, \"value\": 3413}, \"3414\": {\"frequency\": 50, \"value\": 3414}, \"3415\": {\"frequency\": 23, \"value\": 3415}, \"3416\": {\"frequency\": 51, \"value\": 3416}, \"3417\": {\"frequency\": 73, \"value\": 3417}, \"3418\": {\"frequency\": 1417, \"value\": 3418}, \"3419\": {\"frequency\": 13, \"value\": 3419}, \"3420\": {\"frequency\": 199, \"value\": 3420}, \"3421\": {\"frequency\": 1207, \"value\": 3421}, \"3422\": {\"frequency\": 210, \"value\": 3422}, \"3423\": {\"frequency\": 74, \"value\": 3423}, \"3424\": {\"frequency\": 781, \"value\": 3424}, \"3425\": {\"frequency\": 79, \"value\": 3425}, \"3426\": {\"frequency\": 215, \"value\": 3426}, \"3427\": {\"frequency\": 74, \"value\": 3427}, \"3428\": {\"frequency\": 59, \"value\": 3428}, \"3429\": {\"frequency\": 274, \"value\": 3429}, \"3430\": {\"frequency\": 220, \"value\": 3430}, \"3431\": {\"frequency\": 85, \"value\": 3431}, \"3432\": {\"frequency\": 72, \"value\": 3432}, \"3433\": {\"frequency\": 48, \"value\": 3433}, \"3434\": {\"frequency\": 38, \"value\": 3434}, \"3435\": {\"frequency\": 551, \"value\": 3435}, \"3436\": {\"frequency\": 128, \"value\": 3436}, \"3437\": {\"frequency\": 12, \"value\": 3437}, \"3438\": {\"frequency\": 534, \"value\": 3438}, \"3439\": {\"frequency\": 251, \"value\": 3439}, \"3440\": {\"frequency\": 188, \"value\": 3440}, \"3441\": {\"frequency\": 475, \"value\": 3441}, \"3442\": {\"frequency\": 39, \"value\": 3442}, \"3443\": {\"frequency\": 5, \"value\": 3443}, \"3444\": {\"frequency\": 222, \"value\": 3444}, \"3445\": {\"frequency\": 139, \"value\": 3445}, \"3446\": {\"frequency\": 39, \"value\": 3446}, \"3447\": {\"frequency\": 72, \"value\": 3447}, \"3448\": {\"frequency\": 1082, \"value\": 3448}, \"3449\": {\"frequency\": 34, \"value\": 3449}, \"3450\": {\"frequency\": 809, \"value\": 3450}, \"3451\": {\"frequency\": 350, \"value\": 3451}, \"3452\": {\"frequency\": 331, \"value\": 3452}, \"3453\": {\"frequency\": 89, \"value\": 3453}, \"3454\": {\"frequency\": 43, \"value\": 3454}, \"3456\": {\"frequency\": 65, \"value\": 3456}, \"3457\": {\"frequency\": 141, \"value\": 3457}, \"3458\": {\"frequency\": 1, \"value\": 3458}, \"3459\": {\"frequency\": 62, \"value\": 3459}, \"3460\": {\"frequency\": 1, \"value\": 3460}, \"3461\": {\"frequency\": 353, \"value\": 3461}, \"3462\": {\"frequency\": 305, \"value\": 3462}, \"3463\": {\"frequency\": 10, \"value\": 3463}, \"3464\": {\"frequency\": 20, \"value\": 3464}, \"3465\": {\"frequency\": 18, \"value\": 3465}, \"3466\": {\"frequency\": 219, \"value\": 3466}, \"3467\": {\"frequency\": 279, \"value\": 3467}, \"3468\": {\"frequency\": 450, \"value\": 3468}, \"3469\": {\"frequency\": 268, \"value\": 3469}, \"3470\": {\"frequency\": 92, \"value\": 3470}, \"3471\": {\"frequency\": 1451, \"value\": 3471}, \"3472\": {\"frequency\": 4, \"value\": 3472}, \"3473\": {\"frequency\": 24, \"value\": 3473}, \"3474\": {\"frequency\": 16, \"value\": 3474}, \"3475\": {\"frequency\": 134, \"value\": 3475}, \"3476\": {\"frequency\": 667, \"value\": 3476}, \"3477\": {\"frequency\": 271, \"value\": 3477}, \"3478\": {\"frequency\": 266, \"value\": 3478}, \"3479\": {\"frequency\": 542, \"value\": 3479}, \"3480\": {\"frequency\": 155, \"value\": 3480}, \"3481\": {\"frequency\": 1373, \"value\": 3481}, \"3482\": {\"frequency\": 3, \"value\": 3482}, \"3483\": {\"frequency\": 168, \"value\": 3483}, \"3484\": {\"frequency\": 302, \"value\": 3484}, \"3485\": {\"frequency\": 2, \"value\": 3485}, \"3486\": {\"frequency\": 10, \"value\": 3486}, \"3487\": {\"frequency\": 68, \"value\": 3487}, \"3488\": {\"frequency\": 22, \"value\": 3488}, \"3489\": {\"frequency\": 722, \"value\": 3489}, \"3490\": {\"frequency\": 17, \"value\": 3490}, \"3491\": {\"frequency\": 66, \"value\": 3491}, \"3492\": {\"frequency\": 14, \"value\": 3492}, \"3493\": {\"frequency\": 2, \"value\": 3493}, \"3494\": {\"frequency\": 320, \"value\": 3494}, \"3495\": {\"frequency\": 12, \"value\": 3495}, \"3496\": {\"frequency\": 59, \"value\": 3496}, \"3497\": {\"frequency\": 96, \"value\": 3497}, \"3498\": {\"frequency\": 295, \"value\": 3498}, \"3499\": {\"frequency\": 884, \"value\": 3499}, \"3500\": {\"frequency\": 177, \"value\": 3500}, \"3501\": {\"frequency\": 269, \"value\": 3501}, \"3502\": {\"frequency\": 88, \"value\": 3502}, \"3503\": {\"frequency\": 143, \"value\": 3503}, \"3504\": {\"frequency\": 688, \"value\": 3504}, \"3505\": {\"frequency\": 355, \"value\": 3505}, \"3506\": {\"frequency\": 167, \"value\": 3506}, \"3507\": {\"frequency\": 389, \"value\": 3507}, \"3508\": {\"frequency\": 365, \"value\": 3508}, \"3509\": {\"frequency\": 92, \"value\": 3509}, \"3510\": {\"frequency\": 821, \"value\": 3510}, \"3511\": {\"frequency\": 66, \"value\": 3511}, \"3512\": {\"frequency\": 454, \"value\": 3512}, \"3513\": {\"frequency\": 420, \"value\": 3513}, \"3514\": {\"frequency\": 62, \"value\": 3514}, \"3515\": {\"frequency\": 192, \"value\": 3515}, \"3516\": {\"frequency\": 227, \"value\": 3516}, \"3517\": {\"frequency\": 2, \"value\": 3517}, \"3518\": {\"frequency\": 54, \"value\": 3518}, \"3519\": {\"frequency\": 199, \"value\": 3519}, \"3520\": {\"frequency\": 32, \"value\": 3520}, \"3521\": {\"frequency\": 188, \"value\": 3521}, \"3522\": {\"frequency\": 3, \"value\": 3522}, \"3523\": {\"frequency\": 8, \"value\": 3523}, \"3524\": {\"frequency\": 534, \"value\": 3524}, \"3525\": {\"frequency\": 360, \"value\": 3525}, \"3526\": {\"frequency\": 811, \"value\": 3526}, \"3527\": {\"frequency\": 1297, \"value\": 3527}, \"3528\": {\"frequency\": 321, \"value\": 3528}, \"3529\": {\"frequency\": 155, \"value\": 3529}, \"3530\": {\"frequency\": 1, \"value\": 3530}, \"3531\": {\"frequency\": 27, \"value\": 3531}, \"3532\": {\"frequency\": 21, \"value\": 3532}, \"3533\": {\"frequency\": 7, \"value\": 3533}, \"3534\": {\"frequency\": 505, \"value\": 3534}, \"3535\": {\"frequency\": 630, \"value\": 3535}, \"3536\": {\"frequency\": 489, \"value\": 3536}, \"3537\": {\"frequency\": 34, \"value\": 3537}, \"3538\": {\"frequency\": 176, \"value\": 3538}, \"3539\": {\"frequency\": 39, \"value\": 3539}, \"3540\": {\"frequency\": 28, \"value\": 3540}, \"3542\": {\"frequency\": 2, \"value\": 3542}, \"3543\": {\"frequency\": 839, \"value\": 3543}, \"3544\": {\"frequency\": 97, \"value\": 3544}, \"3545\": {\"frequency\": 443, \"value\": 3545}, \"3546\": {\"frequency\": 223, \"value\": 3546}, \"3547\": {\"frequency\": 77, \"value\": 3547}, \"3548\": {\"frequency\": 274, \"value\": 3548}, \"3549\": {\"frequency\": 260, \"value\": 3549}, \"3550\": {\"frequency\": 160, \"value\": 3550}, \"3551\": {\"frequency\": 400, \"value\": 3551}, \"3552\": {\"frequency\": 967, \"value\": 3552}, \"3553\": {\"frequency\": 82, \"value\": 3553}, \"3554\": {\"frequency\": 119, \"value\": 3554}, \"3555\": {\"frequency\": 908, \"value\": 3555}, \"3556\": {\"frequency\": 328, \"value\": 3556}, \"3557\": {\"frequency\": 116, \"value\": 3557}, \"3559\": {\"frequency\": 30, \"value\": 3559}, \"3562\": {\"frequency\": 26, \"value\": 3562}, \"3563\": {\"frequency\": 13, \"value\": 3563}, \"3564\": {\"frequency\": 128, \"value\": 3564}, \"3565\": {\"frequency\": 277, \"value\": 3565}, \"3566\": {\"frequency\": 304, \"value\": 3566}, \"3567\": {\"frequency\": 35, \"value\": 3567}, \"3568\": {\"frequency\": 26, \"value\": 3568}, \"3569\": {\"frequency\": 37, \"value\": 3569}, \"3570\": {\"frequency\": 10, \"value\": 3570}, \"3571\": {\"frequency\": 127, \"value\": 3571}, \"3572\": {\"frequency\": 77, \"value\": 3572}, \"3573\": {\"frequency\": 26, \"value\": 3573}, \"3574\": {\"frequency\": 17, \"value\": 3574}, \"3575\": {\"frequency\": 3, \"value\": 3575}, \"3576\": {\"frequency\": 284, \"value\": 3576}, \"3577\": {\"frequency\": 60, \"value\": 3577}, \"3578\": {\"frequency\": 1924, \"value\": 3578}, \"3579\": {\"frequency\": 68, \"value\": 3579}, \"3580\": {\"frequency\": 29, \"value\": 3580}, \"3581\": {\"frequency\": 14, \"value\": 3581}, \"3584\": {\"frequency\": 129, \"value\": 3584}, \"3585\": {\"frequency\": 19, \"value\": 3585}, \"3586\": {\"frequency\": 28, \"value\": 3586}, \"3587\": {\"frequency\": 30, \"value\": 3587}, \"3588\": {\"frequency\": 48, \"value\": 3588}, \"3590\": {\"frequency\": 85, \"value\": 3590}, \"3591\": {\"frequency\": 628, \"value\": 3591}, \"3592\": {\"frequency\": 8, \"value\": 3592}, \"3593\": {\"frequency\": 342, \"value\": 3593}, \"3594\": {\"frequency\": 182, \"value\": 3594}, \"3595\": {\"frequency\": 4, \"value\": 3595}, \"3596\": {\"frequency\": 60, \"value\": 3596}, \"3597\": {\"frequency\": 37, \"value\": 3597}, \"3598\": {\"frequency\": 179, \"value\": 3598}, \"3599\": {\"frequency\": 103, \"value\": 3599}, \"3600\": {\"frequency\": 121, \"value\": 3600}, \"3601\": {\"frequency\": 2, \"value\": 3601}, \"3602\": {\"frequency\": 49, \"value\": 3602}, \"3603\": {\"frequency\": 3, \"value\": 3603}, \"3604\": {\"frequency\": 122, \"value\": 3604}, \"3605\": {\"frequency\": 51, \"value\": 3605}, \"3606\": {\"frequency\": 169, \"value\": 3606}, \"3607\": {\"frequency\": 1, \"value\": 3607}, \"3608\": {\"frequency\": 861, \"value\": 3608}, \"3609\": {\"frequency\": 4, \"value\": 3609}, \"3610\": {\"frequency\": 34, \"value\": 3610}, \"3611\": {\"frequency\": 15, \"value\": 3611}, \"3612\": {\"frequency\": 30, \"value\": 3612}, \"3613\": {\"frequency\": 94, \"value\": 3613}, \"3614\": {\"frequency\": 542, \"value\": 3614}, \"3615\": {\"frequency\": 345, \"value\": 3615}, \"3616\": {\"frequency\": 138, \"value\": 3616}, \"3617\": {\"frequency\": 419, \"value\": 3617}, \"3618\": {\"frequency\": 369, \"value\": 3618}, \"3619\": {\"frequency\": 92, \"value\": 3619}, \"3620\": {\"frequency\": 50, \"value\": 3620}, \"3621\": {\"frequency\": 3, \"value\": 3621}, \"3622\": {\"frequency\": 84, \"value\": 3622}, \"3623\": {\"frequency\": 1313, \"value\": 3623}, \"3624\": {\"frequency\": 791, \"value\": 3624}, \"3625\": {\"frequency\": 16, \"value\": 3625}, \"3626\": {\"frequency\": 49, \"value\": 3626}, \"3627\": {\"frequency\": 107, \"value\": 3627}, \"3628\": {\"frequency\": 101, \"value\": 3628}, \"3629\": {\"frequency\": 275, \"value\": 3629}, \"3631\": {\"frequency\": 3, \"value\": 3631}, \"3632\": {\"frequency\": 40, \"value\": 3632}, \"3633\": {\"frequency\": 353, \"value\": 3633}, \"3634\": {\"frequency\": 165, \"value\": 3634}, \"3635\": {\"frequency\": 487, \"value\": 3635}, \"3636\": {\"frequency\": 9, \"value\": 3636}, \"3637\": {\"frequency\": 20, \"value\": 3637}, \"3638\": {\"frequency\": 652, \"value\": 3638}, \"3639\": {\"frequency\": 461, \"value\": 3639}, \"3640\": {\"frequency\": 12, \"value\": 3640}, \"3641\": {\"frequency\": 8, \"value\": 3641}, \"3642\": {\"frequency\": 13, \"value\": 3642}, \"3643\": {\"frequency\": 101, \"value\": 3643}, \"3644\": {\"frequency\": 17, \"value\": 3644}, \"3645\": {\"frequency\": 18, \"value\": 3645}, \"3646\": {\"frequency\": 180, \"value\": 3646}, \"3647\": {\"frequency\": 1, \"value\": 3647}, \"3648\": {\"frequency\": 9, \"value\": 3648}, \"3649\": {\"frequency\": 295, \"value\": 3649}, \"3651\": {\"frequency\": 2, \"value\": 3651}, \"3652\": {\"frequency\": 5, \"value\": 3652}, \"3653\": {\"frequency\": 149, \"value\": 3653}, \"3654\": {\"frequency\": 502, \"value\": 3654}, \"3655\": {\"frequency\": 50, \"value\": 3655}, \"3656\": {\"frequency\": 1, \"value\": 3656}, \"3657\": {\"frequency\": 6, \"value\": 3657}, \"3658\": {\"frequency\": 69, \"value\": 3658}, \"3659\": {\"frequency\": 38, \"value\": 3659}, \"3660\": {\"frequency\": 157, \"value\": 3660}, \"3661\": {\"frequency\": 82, \"value\": 3661}, \"3662\": {\"frequency\": 92, \"value\": 3662}, \"3663\": {\"frequency\": 58, \"value\": 3663}, \"3664\": {\"frequency\": 54, \"value\": 3664}, \"3665\": {\"frequency\": 26, \"value\": 3665}, \"3666\": {\"frequency\": 6, \"value\": 3666}, \"3667\": {\"frequency\": 35, \"value\": 3667}, \"3668\": {\"frequency\": 356, \"value\": 3668}, \"3669\": {\"frequency\": 71, \"value\": 3669}, \"3670\": {\"frequency\": 21, \"value\": 3670}, \"3671\": {\"frequency\": 1119, \"value\": 3671}, \"3672\": {\"frequency\": 156, \"value\": 3672}, \"3673\": {\"frequency\": 31, \"value\": 3673}, \"3674\": {\"frequency\": 47, \"value\": 3674}, \"3675\": {\"frequency\": 271, \"value\": 3675}, \"3676\": {\"frequency\": 199, \"value\": 3676}, \"3677\": {\"frequency\": 45, \"value\": 3677}, \"3678\": {\"frequency\": 90, \"value\": 3678}, \"3679\": {\"frequency\": 62, \"value\": 3679}, \"3680\": {\"frequency\": 47, \"value\": 3680}, \"3681\": {\"frequency\": 325, \"value\": 3681}, \"3682\": {\"frequency\": 210, \"value\": 3682}, \"3683\": {\"frequency\": 628, \"value\": 3683}, \"3684\": {\"frequency\": 358, \"value\": 3684}, \"3685\": {\"frequency\": 545, \"value\": 3685}, \"3686\": {\"frequency\": 413, \"value\": 3686}, \"3687\": {\"frequency\": 2, \"value\": 3687}, \"3688\": {\"frequency\": 339, \"value\": 3688}, \"3689\": {\"frequency\": 141, \"value\": 3689}, \"3690\": {\"frequency\": 122, \"value\": 3690}, \"3691\": {\"frequency\": 42, \"value\": 3691}, \"3692\": {\"frequency\": 58, \"value\": 3692}, \"3693\": {\"frequency\": 182, \"value\": 3693}, \"3694\": {\"frequency\": 62, \"value\": 3694}, \"3695\": {\"frequency\": 53, \"value\": 3695}, \"3696\": {\"frequency\": 65, \"value\": 3696}, \"3697\": {\"frequency\": 643, \"value\": 3697}, \"3698\": {\"frequency\": 730, \"value\": 3698}, \"3699\": {\"frequency\": 865, \"value\": 3699}, \"3700\": {\"frequency\": 246, \"value\": 3700}, \"3701\": {\"frequency\": 504, \"value\": 3701}, \"3702\": {\"frequency\": 1066, \"value\": 3702}, \"3703\": {\"frequency\": 1034, \"value\": 3703}, \"3704\": {\"frequency\": 722, \"value\": 3704}, \"3705\": {\"frequency\": 380, \"value\": 3705}, \"3706\": {\"frequency\": 448, \"value\": 3706}, \"3707\": {\"frequency\": 237, \"value\": 3707}, \"3708\": {\"frequency\": 267, \"value\": 3708}, \"3709\": {\"frequency\": 113, \"value\": 3709}, \"3710\": {\"frequency\": 185, \"value\": 3710}, \"3711\": {\"frequency\": 33, \"value\": 3711}, \"3712\": {\"frequency\": 365, \"value\": 3712}, \"3713\": {\"frequency\": 85, \"value\": 3713}, \"3714\": {\"frequency\": 66, \"value\": 3714}, \"3715\": {\"frequency\": 88, \"value\": 3715}, \"3716\": {\"frequency\": 67, \"value\": 3716}, \"3717\": {\"frequency\": 584, \"value\": 3717}, \"3718\": {\"frequency\": 61, \"value\": 3718}, \"3719\": {\"frequency\": 45, \"value\": 3719}, \"3720\": {\"frequency\": 87, \"value\": 3720}, \"3721\": {\"frequency\": 24, \"value\": 3721}, \"3722\": {\"frequency\": 1, \"value\": 3722}, \"3723\": {\"frequency\": 269, \"value\": 3723}, \"3724\": {\"frequency\": 195, \"value\": 3724}, \"3725\": {\"frequency\": 112, \"value\": 3725}, \"3726\": {\"frequency\": 98, \"value\": 3726}, \"3727\": {\"frequency\": 148, \"value\": 3727}, \"3728\": {\"frequency\": 148, \"value\": 3728}, \"3729\": {\"frequency\": 222, \"value\": 3729}, \"3730\": {\"frequency\": 453, \"value\": 3730}, \"3731\": {\"frequency\": 43, \"value\": 3731}, \"3732\": {\"frequency\": 71, \"value\": 3732}, \"3733\": {\"frequency\": 289, \"value\": 3733}, \"3734\": {\"frequency\": 57, \"value\": 3734}, \"3735\": {\"frequency\": 495, \"value\": 3735}, \"3736\": {\"frequency\": 39, \"value\": 3736}, \"3737\": {\"frequency\": 50, \"value\": 3737}, \"3738\": {\"frequency\": 77, \"value\": 3738}, \"3739\": {\"frequency\": 40, \"value\": 3739}, \"3740\": {\"frequency\": 584, \"value\": 3740}, \"3741\": {\"frequency\": 241, \"value\": 3741}, \"3742\": {\"frequency\": 234, \"value\": 3742}, \"3743\": {\"frequency\": 77, \"value\": 3743}, \"3744\": {\"frequency\": 421, \"value\": 3744}, \"3745\": {\"frequency\": 535, \"value\": 3745}, \"3746\": {\"frequency\": 69, \"value\": 3746}, \"3747\": {\"frequency\": 148, \"value\": 3747}, \"3748\": {\"frequency\": 2, \"value\": 3748}, \"3749\": {\"frequency\": 22, \"value\": 3749}, \"3751\": {\"frequency\": 1329, \"value\": 3751}, \"3752\": {\"frequency\": 560, \"value\": 3752}, \"3753\": {\"frequency\": 1240, \"value\": 3753}, \"3754\": {\"frequency\": 206, \"value\": 3754}, \"3755\": {\"frequency\": 1013, \"value\": 3755}, \"3756\": {\"frequency\": 24, \"value\": 3756}, \"3757\": {\"frequency\": 17, \"value\": 3757}, \"3758\": {\"frequency\": 120, \"value\": 3758}, \"3759\": {\"frequency\": 35, \"value\": 3759}, \"3760\": {\"frequency\": 305, \"value\": 3760}, \"3761\": {\"frequency\": 28, \"value\": 3761}, \"3762\": {\"frequency\": 3, \"value\": 3762}, \"3763\": {\"frequency\": 701, \"value\": 3763}, \"3764\": {\"frequency\": 245, \"value\": 3764}, \"3765\": {\"frequency\": 46, \"value\": 3765}, \"3766\": {\"frequency\": 191, \"value\": 3766}, \"3767\": {\"frequency\": 104, \"value\": 3767}, \"3768\": {\"frequency\": 81, \"value\": 3768}, \"3769\": {\"frequency\": 190, \"value\": 3769}, \"3770\": {\"frequency\": 338, \"value\": 3770}, \"3771\": {\"frequency\": 151, \"value\": 3771}, \"3772\": {\"frequency\": 3, \"value\": 3772}, \"3773\": {\"frequency\": 171, \"value\": 3773}, \"3774\": {\"frequency\": 64, \"value\": 3774}, \"3775\": {\"frequency\": 20, \"value\": 3775}, \"3776\": {\"frequency\": 24, \"value\": 3776}, \"3777\": {\"frequency\": 11, \"value\": 3777}, \"3778\": {\"frequency\": 6, \"value\": 3778}, \"3779\": {\"frequency\": 1, \"value\": 3779}, \"3780\": {\"frequency\": 41, \"value\": 3780}, \"3781\": {\"frequency\": 29, \"value\": 3781}, \"3782\": {\"frequency\": 44, \"value\": 3782}, \"3783\": {\"frequency\": 235, \"value\": 3783}, \"3784\": {\"frequency\": 165, \"value\": 3784}, \"3785\": {\"frequency\": 613, \"value\": 3785}, \"3786\": {\"frequency\": 184, \"value\": 3786}, \"3787\": {\"frequency\": 63, \"value\": 3787}, \"3788\": {\"frequency\": 246, \"value\": 3788}, \"3789\": {\"frequency\": 156, \"value\": 3789}, \"3790\": {\"frequency\": 51, \"value\": 3790}, \"3791\": {\"frequency\": 435, \"value\": 3791}, \"3792\": {\"frequency\": 72, \"value\": 3792}, \"3793\": {\"frequency\": 1511, \"value\": 3793}, \"3794\": {\"frequency\": 121, \"value\": 3794}, \"3795\": {\"frequency\": 66, \"value\": 3795}, \"3796\": {\"frequency\": 13, \"value\": 3796}, \"3797\": {\"frequency\": 29, \"value\": 3797}, \"3798\": {\"frequency\": 463, \"value\": 3798}, \"3799\": {\"frequency\": 100, \"value\": 3799}, \"3800\": {\"frequency\": 3, \"value\": 3800}, \"3801\": {\"frequency\": 199, \"value\": 3801}, \"3802\": {\"frequency\": 304, \"value\": 3802}, \"3803\": {\"frequency\": 9, \"value\": 3803}, \"3804\": {\"frequency\": 43, \"value\": 3804}, \"3805\": {\"frequency\": 34, \"value\": 3805}, \"3806\": {\"frequency\": 58, \"value\": 3806}, \"3807\": {\"frequency\": 106, \"value\": 3807}, \"3808\": {\"frequency\": 44, \"value\": 3808}, \"3809\": {\"frequency\": 817, \"value\": 3809}, \"3810\": {\"frequency\": 83, \"value\": 3810}, \"3811\": {\"frequency\": 360, \"value\": 3811}, \"3812\": {\"frequency\": 285, \"value\": 3812}, \"3813\": {\"frequency\": 83, \"value\": 3813}, \"3814\": {\"frequency\": 219, \"value\": 3814}, \"3816\": {\"frequency\": 38, \"value\": 3816}, \"3817\": {\"frequency\": 16, \"value\": 3817}, \"3818\": {\"frequency\": 7, \"value\": 3818}, \"3819\": {\"frequency\": 245, \"value\": 3819}, \"3820\": {\"frequency\": 37, \"value\": 3820}, \"3821\": {\"frequency\": 248, \"value\": 3821}, \"3822\": {\"frequency\": 70, \"value\": 3822}, \"3823\": {\"frequency\": 66, \"value\": 3823}, \"3824\": {\"frequency\": 117, \"value\": 3824}, \"3825\": {\"frequency\": 201, \"value\": 3825}, \"3826\": {\"frequency\": 405, \"value\": 3826}, \"3827\": {\"frequency\": 478, \"value\": 3827}, \"3828\": {\"frequency\": 2, \"value\": 3828}, \"3830\": {\"frequency\": 25, \"value\": 3830}, \"3831\": {\"frequency\": 186, \"value\": 3831}, \"3832\": {\"frequency\": 21, \"value\": 3832}, \"3833\": {\"frequency\": 56, \"value\": 3833}, \"3834\": {\"frequency\": 176, \"value\": 3834}, \"3835\": {\"frequency\": 178, \"value\": 3835}, \"3836\": {\"frequency\": 375, \"value\": 3836}, \"3837\": {\"frequency\": 89, \"value\": 3837}, \"3838\": {\"frequency\": 42, \"value\": 3838}, \"3839\": {\"frequency\": 47, \"value\": 3839}, \"3840\": {\"frequency\": 112, \"value\": 3840}, \"3841\": {\"frequency\": 306, \"value\": 3841}, \"3842\": {\"frequency\": 1, \"value\": 3842}, \"3843\": {\"frequency\": 30, \"value\": 3843}, \"3844\": {\"frequency\": 408, \"value\": 3844}, \"3845\": {\"frequency\": 28, \"value\": 3845}, \"3846\": {\"frequency\": 138, \"value\": 3846}, \"3847\": {\"frequency\": 25, \"value\": 3847}, \"3848\": {\"frequency\": 20, \"value\": 3848}, \"3849\": {\"frequency\": 43, \"value\": 3849}, \"3850\": {\"frequency\": 13, \"value\": 3850}, \"3851\": {\"frequency\": 40, \"value\": 3851}, \"3852\": {\"frequency\": 208, \"value\": 3852}, \"3853\": {\"frequency\": 13, \"value\": 3853}, \"3854\": {\"frequency\": 20, \"value\": 3854}, \"3855\": {\"frequency\": 39, \"value\": 3855}, \"3857\": {\"frequency\": 60, \"value\": 3857}, \"3858\": {\"frequency\": 69, \"value\": 3858}, \"3859\": {\"frequency\": 82, \"value\": 3859}, \"3860\": {\"frequency\": 16, \"value\": 3860}, \"3861\": {\"frequency\": 241, \"value\": 3861}, \"3862\": {\"frequency\": 20, \"value\": 3862}, \"3863\": {\"frequency\": 658, \"value\": 3863}, \"3864\": {\"frequency\": 143, \"value\": 3864}, \"3865\": {\"frequency\": 147, \"value\": 3865}, \"3866\": {\"frequency\": 6, \"value\": 3866}, \"3867\": {\"frequency\": 12, \"value\": 3867}, \"3868\": {\"frequency\": 692, \"value\": 3868}, \"3869\": {\"frequency\": 431, \"value\": 3869}, \"3870\": {\"frequency\": 49, \"value\": 3870}, \"3871\": {\"frequency\": 305, \"value\": 3871}, \"3872\": {\"frequency\": 102, \"value\": 3872}, \"3873\": {\"frequency\": 280, \"value\": 3873}, \"3874\": {\"frequency\": 24, \"value\": 3874}, \"3875\": {\"frequency\": 5, \"value\": 3875}, \"3876\": {\"frequency\": 4, \"value\": 3876}, \"3877\": {\"frequency\": 182, \"value\": 3877}, \"3878\": {\"frequency\": 12, \"value\": 3878}, \"3879\": {\"frequency\": 144, \"value\": 3879}, \"3880\": {\"frequency\": 18, \"value\": 3880}, \"3881\": {\"frequency\": 1, \"value\": 3881}, \"3882\": {\"frequency\": 234, \"value\": 3882}, \"3883\": {\"frequency\": 15, \"value\": 3883}, \"3884\": {\"frequency\": 40, \"value\": 3884}, \"3885\": {\"frequency\": 26, \"value\": 3885}, \"3886\": {\"frequency\": 40, \"value\": 3886}, \"3887\": {\"frequency\": 4, \"value\": 3887}, \"3888\": {\"frequency\": 2, \"value\": 3888}, \"3889\": {\"frequency\": 135, \"value\": 3889}, \"3890\": {\"frequency\": 1, \"value\": 3890}, \"3891\": {\"frequency\": 7, \"value\": 3891}, \"3892\": {\"frequency\": 10, \"value\": 3892}, \"3893\": {\"frequency\": 559, \"value\": 3893}, \"3894\": {\"frequency\": 21, \"value\": 3894}, \"3895\": {\"frequency\": 94, \"value\": 3895}, \"3896\": {\"frequency\": 179, \"value\": 3896}, \"3897\": {\"frequency\": 994, \"value\": 3897}, \"3898\": {\"frequency\": 45, \"value\": 3898}, \"3899\": {\"frequency\": 3, \"value\": 3899}, \"3900\": {\"frequency\": 33, \"value\": 3900}, \"3901\": {\"frequency\": 106, \"value\": 3901}, \"3902\": {\"frequency\": 24, \"value\": 3902}, \"3903\": {\"frequency\": 52, \"value\": 3903}, \"3904\": {\"frequency\": 1, \"value\": 3904}, \"3905\": {\"frequency\": 8, \"value\": 3905}, \"3906\": {\"frequency\": 32, \"value\": 3906}, \"3908\": {\"frequency\": 92, \"value\": 3908}, \"3909\": {\"frequency\": 69, \"value\": 3909}, \"3910\": {\"frequency\": 200, \"value\": 3910}, \"3911\": {\"frequency\": 657, \"value\": 3911}, \"3912\": {\"frequency\": 40, \"value\": 3912}, \"3913\": {\"frequency\": 32, \"value\": 3913}, \"3914\": {\"frequency\": 70, \"value\": 3914}, \"3915\": {\"frequency\": 127, \"value\": 3915}, \"3916\": {\"frequency\": 437, \"value\": 3916}, \"3917\": {\"frequency\": 279, \"value\": 3917}, \"3918\": {\"frequency\": 167, \"value\": 3918}, \"3919\": {\"frequency\": 87, \"value\": 3919}, \"3920\": {\"frequency\": 66, \"value\": 3920}, \"3921\": {\"frequency\": 47, \"value\": 3921}, \"3922\": {\"frequency\": 39, \"value\": 3922}, \"3923\": {\"frequency\": 104, \"value\": 3923}, \"3924\": {\"frequency\": 26, \"value\": 3924}, \"3925\": {\"frequency\": 124, \"value\": 3925}, \"3926\": {\"frequency\": 180, \"value\": 3926}, \"3927\": {\"frequency\": 348, \"value\": 3927}, \"3928\": {\"frequency\": 206, \"value\": 3928}, \"3929\": {\"frequency\": 147, \"value\": 3929}, \"3930\": {\"frequency\": 223, \"value\": 3930}, \"3931\": {\"frequency\": 27, \"value\": 3931}, \"3932\": {\"frequency\": 232, \"value\": 3932}, \"3933\": {\"frequency\": 16, \"value\": 3933}, \"3934\": {\"frequency\": 28, \"value\": 3934}, \"3935\": {\"frequency\": 23, \"value\": 3935}, \"3936\": {\"frequency\": 112, \"value\": 3936}, \"3937\": {\"frequency\": 135, \"value\": 3937}, \"3938\": {\"frequency\": 27, \"value\": 3938}, \"3939\": {\"frequency\": 26, \"value\": 3939}, \"3940\": {\"frequency\": 15, \"value\": 3940}, \"3941\": {\"frequency\": 22, \"value\": 3941}, \"3942\": {\"frequency\": 28, \"value\": 3942}, \"3943\": {\"frequency\": 96, \"value\": 3943}, \"3944\": {\"frequency\": 9, \"value\": 3944}, \"3945\": {\"frequency\": 43, \"value\": 3945}, \"3946\": {\"frequency\": 100, \"value\": 3946}, \"3947\": {\"frequency\": 55, \"value\": 3947}, \"3948\": {\"frequency\": 862, \"value\": 3948}, \"3949\": {\"frequency\": 304, \"value\": 3949}, \"3950\": {\"frequency\": 54, \"value\": 3950}, \"3951\": {\"frequency\": 40, \"value\": 3951}, \"3952\": {\"frequency\": 388, \"value\": 3952}}, \"mean\": 1865.539898161286}, \"timestamp\": {\"std\": 12152552.864903325, \"complete\": true, \"min\": 956703932.0, \"max\": 1046454590.0, \"quantile\": [956703932.0, 957024716.0, 957549636.0, 957942611.0, 958308586.0, 958715573.0, 959189600.0, 959558674.0, 959866009.0, 960185444.0, 960679867.0, 961165295.0, 961734854.0, 962334012.0, 962553459.0, 962641731.0, 962756704.0, 962938216.0, 963245901.0, 963704571.0, 964143230.0, 964801339.0, 965029490.0, 965155436.0, 965231324.0, 965293008.0, 965332905.0, 965380336.0, 965496029.0, 965537519.0, 965674745.0, 965805487.0, 965942403.0, 966049680.0, 966265060.0, 966399267.0, 966605604.0, 966826660.0, 967034708.0, 967258461.0, 967586680.0, 967947931.0, 968252963.0, 968637249.0, 969062610.0, 969811533.0, 970440467.0, 971126380.0, 971900990.0, 972507701.0, 973055654.0, 973309645.0, 973656332.0, 974052504.0, 974187824.0, 974381894.0, 974581284.0, 974607748.0, 974649415.0, 974668924.0, 974688208.0, 974697687.0, 974706654.0, 974713660.0, 974737396.0, 974753153.0, 974765616.0, 974777249.0, 974814670.0, 974841162.0, 974860001.0, 974917656.0, 974947801.0, 975015089.0, 975132581.0, 975220541.0, 975350984.0, 975416496.0, 975511118.0, 975613268.0, 975776456.0, 975978080.0, 976139103.0, 976225109.0, 976297821.0, 976426132.0, 976670777.0, 976909271.0, 977220599.0, 977598274.0, 978132183.0, 978902477.0, 980451986.0, 983074267.0, 987224939.0, 993075886.0, 998323380.0, 1007411475.0, 1016674633.0, 1029632346.0, 1046454590.0], \"median\": 973055654.0, \"numeric\": true, \"num_unique\": 459015, \"num_undefined\": 0, \"var\": 147684541134270.0, \"progress\": 1.0, \"size\": 1000209, \"frequent_items\": {}, \"mean\": 972243695.4046676}}, \"selected_variable\": {\"name\": [\"rating_sf\"], \"descriptives\": {\"rows\": 1000209, \"columns\": 4}, \"view_component\": \"Summary\", \"view_file\": \"sframe\", \"view_params\": {\"y\": null, \"x\": null, \"columns\": [\"user_id\", \"movie_id\", \"rating\", \"timestamp\"], \"view\": null}, \"view_components\": [\"Summary\", \"Table\", \"Bar Chart\", \"BoxWhisker Plot\", \"Line Chart\", \"Scatter Plot\", \"Heat Map\", \"Plots\"], \"type\": \"SFrame\", \"columns\": [{\"dtype\": \"int\", \"name\": \"user_id\"}, {\"dtype\": \"int\", \"name\": \"movie_id\"}, {\"dtype\": \"int\", \"name\": \"rating\"}, {\"dtype\": \"int\", \"name\": \"timestamp\"}], \"column_identifiers\": [\"rating\", \"user_id\", \"movie_id\", \"timestamp\"]}, \"columns\": [{\"dtype\": \"int\", \"name\": \"user_id\"}, {\"dtype\": \"int\", \"name\": \"movie_id\"}, {\"dtype\": \"int\", \"name\": \"rating\"}, {\"dtype\": \"int\", \"name\": \"timestamp\"}]}, e);\n",
       "                });\n",
       "            })();\n",
       "        "
      ]
     },
     "metadata": {},
     "output_type": "display_data"
    }
   ],
   "source": [
    "rating_sf.show()"
   ]
  },
  {
   "cell_type": "code",
   "execution_count": 4,
   "metadata": {
    "collapsed": false
   },
   "outputs": [
    {
     "data": {
      "text/plain": [
       "['__all__',\n",
       " '__builtins__',\n",
       " '__doc__',\n",
       " '__file__',\n",
       " '__name__',\n",
       " '__package__',\n",
       " '__path__',\n",
       " 'create',\n",
       " 'factorization_recommender',\n",
       " 'item_similarity_recommender',\n",
       " 'popularity_recommender',\n",
       " 'ranking_factorization_recommender',\n",
       " 'util']"
      ]
     },
     "execution_count": 4,
     "metadata": {},
     "output_type": "execute_result"
    }
   ],
   "source": [
    "dir(graphlab.recommender)"
   ]
  },
  {
   "cell_type": "code",
   "execution_count": 6,
   "metadata": {
    "collapsed": false
   },
   "outputs": [],
   "source": [
    "(train, test) = graphlab.recommender.util.random_split_by_user(rating_sf, 'user_id', 'movie_id')"
   ]
  },
  {
   "cell_type": "code",
   "execution_count": 9,
   "metadata": {
    "collapsed": false
   },
   "outputs": [
    {
     "data": {
      "text/html": [
       "<pre>Recsys training: model = item_similarity</pre>"
      ],
      "text/plain": [
       "Recsys training: model = item_similarity"
      ]
     },
     "metadata": {},
     "output_type": "display_data"
    },
    {
     "data": {
      "text/html": [
       "<pre>Warning: Ignoring columns rating, timestamp;</pre>"
      ],
      "text/plain": [
       "Warning: Ignoring columns rating, timestamp;"
      ]
     },
     "metadata": {},
     "output_type": "display_data"
    },
    {
     "data": {
      "text/html": [
       "<pre>    To use one of these as a target column, set target = <column_name></pre>"
      ],
      "text/plain": [
       "    To use one of these as a target column, set target = <column_name>"
      ]
     },
     "metadata": {},
     "output_type": "display_data"
    },
    {
     "data": {
      "text/html": [
       "<pre>    and use a method that allows the use of a target.</pre>"
      ],
      "text/plain": [
       "    and use a method that allows the use of a target."
      ]
     },
     "metadata": {},
     "output_type": "display_data"
    },
    {
     "data": {
      "text/html": [
       "<pre>Preparing data set.</pre>"
      ],
      "text/plain": [
       "Preparing data set."
      ]
     },
     "metadata": {},
     "output_type": "display_data"
    },
    {
     "data": {
      "text/html": [
       "<pre>    Data has 218621 observations with 6012 users and 3224 items.</pre>"
      ],
      "text/plain": [
       "    Data has 218621 observations with 6012 users and 3224 items."
      ]
     },
     "metadata": {},
     "output_type": "display_data"
    },
    {
     "data": {
      "text/html": [
       "<pre>    Data prepared in: 0.195331s</pre>"
      ],
      "text/plain": [
       "    Data prepared in: 0.195331s"
      ]
     },
     "metadata": {},
     "output_type": "display_data"
    },
    {
     "data": {
      "text/html": [
       "<pre>Computing item similarity statistics:</pre>"
      ],
      "text/plain": [
       "Computing item similarity statistics:"
      ]
     },
     "metadata": {},
     "output_type": "display_data"
    },
    {
     "data": {
      "text/html": [
       "<pre>Computing most similar items for 3224 items:</pre>"
      ],
      "text/plain": [
       "Computing most similar items for 3224 items:"
      ]
     },
     "metadata": {},
     "output_type": "display_data"
    },
    {
     "data": {
      "text/html": [
       "<pre>+-----------------+-----------------+</pre>"
      ],
      "text/plain": [
       "+-----------------+-----------------+"
      ]
     },
     "metadata": {},
     "output_type": "display_data"
    },
    {
     "data": {
      "text/html": [
       "<pre>| Number of items | Elapsed Time    |</pre>"
      ],
      "text/plain": [
       "| Number of items | Elapsed Time    |"
      ]
     },
     "metadata": {},
     "output_type": "display_data"
    },
    {
     "data": {
      "text/html": [
       "<pre>+-----------------+-----------------+</pre>"
      ],
      "text/plain": [
       "+-----------------+-----------------+"
      ]
     },
     "metadata": {},
     "output_type": "display_data"
    },
    {
     "data": {
      "text/html": [
       "<pre>| 1000            | 1.08126         |</pre>"
      ],
      "text/plain": [
       "| 1000            | 1.08126         |"
      ]
     },
     "metadata": {},
     "output_type": "display_data"
    },
    {
     "data": {
      "text/html": [
       "<pre>| 2000            | 1.10032         |</pre>"
      ],
      "text/plain": [
       "| 2000            | 1.10032         |"
      ]
     },
     "metadata": {},
     "output_type": "display_data"
    },
    {
     "data": {
      "text/html": [
       "<pre>| 3000            | 1.12497         |</pre>"
      ],
      "text/plain": [
       "| 3000            | 1.12497         |"
      ]
     },
     "metadata": {},
     "output_type": "display_data"
    },
    {
     "data": {
      "text/html": [
       "<pre>+-----------------+-----------------+</pre>"
      ],
      "text/plain": [
       "+-----------------+-----------------+"
      ]
     },
     "metadata": {},
     "output_type": "display_data"
    },
    {
     "data": {
      "text/html": [
       "<pre>Finished training in 1.20171s</pre>"
      ],
      "text/plain": [
       "Finished training in 1.20171s"
      ]
     },
     "metadata": {},
     "output_type": "display_data"
    }
   ],
   "source": [
    "from graphlab import item_similarity_recommender\n",
    "itemcf = item_similarity_recommender.create(train[train['rating'] > 4], 'user_id', 'movie_id')"
   ]
  },
  {
   "cell_type": "code",
   "execution_count": 11,
   "metadata": {
    "collapsed": false
   },
   "outputs": [
    {
     "data": {
      "text/html": [
       "<pre>Recsys training: model = popularity</pre>"
      ],
      "text/plain": [
       "Recsys training: model = popularity"
      ]
     },
     "metadata": {},
     "output_type": "display_data"
    },
    {
     "data": {
      "text/html": [
       "<pre>Warning: Ignoring columns rating, timestamp;</pre>"
      ],
      "text/plain": [
       "Warning: Ignoring columns rating, timestamp;"
      ]
     },
     "metadata": {},
     "output_type": "display_data"
    },
    {
     "data": {
      "text/html": [
       "<pre>    To use one of these as a target column, set target = <column_name></pre>"
      ],
      "text/plain": [
       "    To use one of these as a target column, set target = <column_name>"
      ]
     },
     "metadata": {},
     "output_type": "display_data"
    },
    {
     "data": {
      "text/html": [
       "<pre>    and use a method that allows the use of a target.</pre>"
      ],
      "text/plain": [
       "    and use a method that allows the use of a target."
      ]
     },
     "metadata": {},
     "output_type": "display_data"
    },
    {
     "data": {
      "text/html": [
       "<pre>Preparing data set.</pre>"
      ],
      "text/plain": [
       "Preparing data set."
      ]
     },
     "metadata": {},
     "output_type": "display_data"
    },
    {
     "data": {
      "text/html": [
       "<pre>    Data has 218621 observations with 6012 users and 3224 items.</pre>"
      ],
      "text/plain": [
       "    Data has 218621 observations with 6012 users and 3224 items."
      ]
     },
     "metadata": {},
     "output_type": "display_data"
    },
    {
     "data": {
      "text/html": [
       "<pre>    Data prepared in: 0.237904s</pre>"
      ],
      "text/plain": [
       "    Data prepared in: 0.237904s"
      ]
     },
     "metadata": {},
     "output_type": "display_data"
    },
    {
     "data": {
      "text/html": [
       "<pre>218621 observations to process; with 3224 unique items.</pre>"
      ],
      "text/plain": [
       "218621 observations to process; with 3224 unique items."
      ]
     },
     "metadata": {},
     "output_type": "display_data"
    }
   ],
   "source": [
    "pop    = graphlab.popularity_recommender.create(train[train['rating'] > 4], 'user_id', 'movie_id')"
   ]
  },
  {
   "cell_type": "code",
   "execution_count": 12,
   "metadata": {
    "collapsed": false
   },
   "outputs": [
    {
     "data": {
      "text/html": [
       "<pre>Recsys training: model = ranking_factorization_recommender</pre>"
      ],
      "text/plain": [
       "Recsys training: model = ranking_factorization_recommender"
      ]
     },
     "metadata": {},
     "output_type": "display_data"
    },
    {
     "data": {
      "text/html": [
       "<pre>Preparing data set.</pre>"
      ],
      "text/plain": [
       "Preparing data set."
      ]
     },
     "metadata": {},
     "output_type": "display_data"
    },
    {
     "data": {
      "text/html": [
       "<pre>    Data has 965508 observations with 6040 users and 3706 items.</pre>"
      ],
      "text/plain": [
       "    Data has 965508 observations with 6040 users and 3706 items."
      ]
     },
     "metadata": {},
     "output_type": "display_data"
    },
    {
     "data": {
      "text/html": [
       "<pre>    Data prepared in: 0.907655s</pre>"
      ],
      "text/plain": [
       "    Data prepared in: 0.907655s"
      ]
     },
     "metadata": {},
     "output_type": "display_data"
    },
    {
     "data": {
      "text/html": [
       "<pre>Training ranking_factorization_recommender for recommendations.</pre>"
      ],
      "text/plain": [
       "Training ranking_factorization_recommender for recommendations."
      ]
     },
     "metadata": {},
     "output_type": "display_data"
    },
    {
     "data": {
      "text/html": [
       "<pre>+--------------------------------+--------------------------------------------------+----------+</pre>"
      ],
      "text/plain": [
       "+--------------------------------+--------------------------------------------------+----------+"
      ]
     },
     "metadata": {},
     "output_type": "display_data"
    },
    {
     "data": {
      "text/html": [
       "<pre>| Parameter                      | Description                                      | Value    |</pre>"
      ],
      "text/plain": [
       "| Parameter                      | Description                                      | Value    |"
      ]
     },
     "metadata": {},
     "output_type": "display_data"
    },
    {
     "data": {
      "text/html": [
       "<pre>+--------------------------------+--------------------------------------------------+----------+</pre>"
      ],
      "text/plain": [
       "+--------------------------------+--------------------------------------------------+----------+"
      ]
     },
     "metadata": {},
     "output_type": "display_data"
    },
    {
     "data": {
      "text/html": [
       "<pre>| num_factors                    | Factor Dimension                                 | 32       |</pre>"
      ],
      "text/plain": [
       "| num_factors                    | Factor Dimension                                 | 32       |"
      ]
     },
     "metadata": {},
     "output_type": "display_data"
    },
    {
     "data": {
      "text/html": [
       "<pre>| regularization                 | L2 Regularization on Factors                     | 1e-09    |</pre>"
      ],
      "text/plain": [
       "| regularization                 | L2 Regularization on Factors                     | 1e-09    |"
      ]
     },
     "metadata": {},
     "output_type": "display_data"
    },
    {
     "data": {
      "text/html": [
       "<pre>| solver                         | Solver used for training                         | adagrad  |</pre>"
      ],
      "text/plain": [
       "| solver                         | Solver used for training                         | adagrad  |"
      ]
     },
     "metadata": {},
     "output_type": "display_data"
    },
    {
     "data": {
      "text/html": [
       "<pre>| linear_regularization          | L2 Regularization on Linear Coefficients         | 1e-09    |</pre>"
      ],
      "text/plain": [
       "| linear_regularization          | L2 Regularization on Linear Coefficients         | 1e-09    |"
      ]
     },
     "metadata": {},
     "output_type": "display_data"
    },
    {
     "data": {
      "text/html": [
       "<pre>| ranking_regularization         | Rank-based Regularization Weight                 | 0.25     |</pre>"
      ],
      "text/plain": [
       "| ranking_regularization         | Rank-based Regularization Weight                 | 0.25     |"
      ]
     },
     "metadata": {},
     "output_type": "display_data"
    },
    {
     "data": {
      "text/html": [
       "<pre>| max_iterations                 | Maximum Number of Iterations                     | 25       |</pre>"
      ],
      "text/plain": [
       "| max_iterations                 | Maximum Number of Iterations                     | 25       |"
      ]
     },
     "metadata": {},
     "output_type": "display_data"
    },
    {
     "data": {
      "text/html": [
       "<pre>+--------------------------------+--------------------------------------------------+----------+</pre>"
      ],
      "text/plain": [
       "+--------------------------------+--------------------------------------------------+----------+"
      ]
     },
     "metadata": {},
     "output_type": "display_data"
    },
    {
     "data": {
      "text/html": [
       "<pre>  Optimizing model using SGD; tuning step size.</pre>"
      ],
      "text/plain": [
       "  Optimizing model using SGD; tuning step size."
      ]
     },
     "metadata": {},
     "output_type": "display_data"
    },
    {
     "data": {
      "text/html": [
       "<pre>  Using 120688 / 965508 points for tuning the step size.</pre>"
      ],
      "text/plain": [
       "  Using 120688 / 965508 points for tuning the step size."
      ]
     },
     "metadata": {},
     "output_type": "display_data"
    },
    {
     "data": {
      "text/html": [
       "<pre>+---------+-------------------+------------------------------------------+</pre>"
      ],
      "text/plain": [
       "+---------+-------------------+------------------------------------------+"
      ]
     },
     "metadata": {},
     "output_type": "display_data"
    },
    {
     "data": {
      "text/html": [
       "<pre>| Attempt | Initial Step Size | Estimated Objective Value                |</pre>"
      ],
      "text/plain": [
       "| Attempt | Initial Step Size | Estimated Objective Value                |"
      ]
     },
     "metadata": {},
     "output_type": "display_data"
    },
    {
     "data": {
      "text/html": [
       "<pre>+---------+-------------------+------------------------------------------+</pre>"
      ],
      "text/plain": [
       "+---------+-------------------+------------------------------------------+"
      ]
     },
     "metadata": {},
     "output_type": "display_data"
    },
    {
     "data": {
      "text/html": [
       "<pre>| 0       | 16.6667           | Not Viable                               |</pre>"
      ],
      "text/plain": [
       "| 0       | 16.6667           | Not Viable                               |"
      ]
     },
     "metadata": {},
     "output_type": "display_data"
    },
    {
     "data": {
      "text/html": [
       "<pre>| 1       | 4.16667           | Not Viable                               |</pre>"
      ],
      "text/plain": [
       "| 1       | 4.16667           | Not Viable                               |"
      ]
     },
     "metadata": {},
     "output_type": "display_data"
    },
    {
     "data": {
      "text/html": [
       "<pre>| 2       | 1.04167           | Not Viable                               |</pre>"
      ],
      "text/plain": [
       "| 2       | 1.04167           | Not Viable                               |"
      ]
     },
     "metadata": {},
     "output_type": "display_data"
    },
    {
     "data": {
      "text/html": [
       "<pre>| 3       | 0.260417          | 1.80479                                  |</pre>"
      ],
      "text/plain": [
       "| 3       | 0.260417          | 1.80479                                  |"
      ]
     },
     "metadata": {},
     "output_type": "display_data"
    },
    {
     "data": {
      "text/html": [
       "<pre>| 4       | 0.130208          | 1.8322                                   |</pre>"
      ],
      "text/plain": [
       "| 4       | 0.130208          | 1.8322                                   |"
      ]
     },
     "metadata": {},
     "output_type": "display_data"
    },
    {
     "data": {
      "text/html": [
       "<pre>| 5       | 0.0651042         | 1.8873                                   |</pre>"
      ],
      "text/plain": [
       "| 5       | 0.0651042         | 1.8873                                   |"
      ]
     },
     "metadata": {},
     "output_type": "display_data"
    },
    {
     "data": {
      "text/html": [
       "<pre>| 6       | 0.0325521         | 1.88706                                  |</pre>"
      ],
      "text/plain": [
       "| 6       | 0.0325521         | 1.88706                                  |"
      ]
     },
     "metadata": {},
     "output_type": "display_data"
    },
    {
     "data": {
      "text/html": [
       "<pre>+---------+-------------------+------------------------------------------+</pre>"
      ],
      "text/plain": [
       "+---------+-------------------+------------------------------------------+"
      ]
     },
     "metadata": {},
     "output_type": "display_data"
    },
    {
     "data": {
      "text/html": [
       "<pre>| Final   | 0.260417          | 1.80479                                  |</pre>"
      ],
      "text/plain": [
       "| Final   | 0.260417          | 1.80479                                  |"
      ]
     },
     "metadata": {},
     "output_type": "display_data"
    },
    {
     "data": {
      "text/html": [
       "<pre>+---------+-------------------+------------------------------------------+</pre>"
      ],
      "text/plain": [
       "+---------+-------------------+------------------------------------------+"
      ]
     },
     "metadata": {},
     "output_type": "display_data"
    },
    {
     "data": {
      "text/html": [
       "<pre>Starting Optimization.</pre>"
      ],
      "text/plain": [
       "Starting Optimization."
      ]
     },
     "metadata": {},
     "output_type": "display_data"
    },
    {
     "data": {
      "text/html": [
       "<pre>+---------+--------------+-------------------+-----------------------+-------------+</pre>"
      ],
      "text/plain": [
       "+---------+--------------+-------------------+-----------------------+-------------+"
      ]
     },
     "metadata": {},
     "output_type": "display_data"
    },
    {
     "data": {
      "text/html": [
       "<pre>| Iter.   | Elapsed Time | Approx. Objective | Approx. Training RMSE | Step Size   |</pre>"
      ],
      "text/plain": [
       "| Iter.   | Elapsed Time | Approx. Objective | Approx. Training RMSE | Step Size   |"
      ]
     },
     "metadata": {},
     "output_type": "display_data"
    },
    {
     "data": {
      "text/html": [
       "<pre>+---------+--------------+-------------------+-----------------------+-------------+</pre>"
      ],
      "text/plain": [
       "+---------+--------------+-------------------+-----------------------+-------------+"
      ]
     },
     "metadata": {},
     "output_type": "display_data"
    },
    {
     "data": {
      "text/html": [
       "<pre>| Initial | 101us        | 2.4462            | 1.11698               |             |</pre>"
      ],
      "text/plain": [
       "| Initial | 101us        | 2.4462            | 1.11698               |             |"
      ]
     },
     "metadata": {},
     "output_type": "display_data"
    },
    {
     "data": {
      "text/html": [
       "<pre>+---------+--------------+-------------------+-----------------------+-------------+</pre>"
      ],
      "text/plain": [
       "+---------+--------------+-------------------+-----------------------+-------------+"
      ]
     },
     "metadata": {},
     "output_type": "display_data"
    },
    {
     "data": {
      "text/html": [
       "<pre>| 1       | 1.43s        | DIVERGED          | DIVERGED              | 0.260417    |</pre>"
      ],
      "text/plain": [
       "| 1       | 1.43s        | DIVERGED          | DIVERGED              | 0.260417    |"
      ]
     },
     "metadata": {},
     "output_type": "display_data"
    },
    {
     "data": {
      "text/html": [
       "<pre>| RESET   | 1.91s        | 2.44619           | 1.11697               |             |</pre>"
      ],
      "text/plain": [
       "| RESET   | 1.91s        | 2.44619           | 1.11697               |             |"
      ]
     },
     "metadata": {},
     "output_type": "display_data"
    },
    {
     "data": {
      "text/html": [
       "<pre>| 1       | 3.24s        | DIVERGED          | DIVERGED              | 0.130208    |</pre>"
      ],
      "text/plain": [
       "| 1       | 3.24s        | DIVERGED          | DIVERGED              | 0.130208    |"
      ]
     },
     "metadata": {},
     "output_type": "display_data"
    },
    {
     "data": {
      "text/html": [
       "<pre>| RESET   | 3.75s        | 2.44619           | 1.11697               |             |</pre>"
      ],
      "text/plain": [
       "| RESET   | 3.75s        | 2.44619           | 1.11697               |             |"
      ]
     },
     "metadata": {},
     "output_type": "display_data"
    },
    {
     "data": {
      "text/html": [
       "<pre>| 1       | 4.84s        | 2.10443           | 1.14093               | 0.0651042   |</pre>"
      ],
      "text/plain": [
       "| 1       | 4.84s        | 2.10443           | 1.14093               | 0.0651042   |"
      ]
     },
     "metadata": {},
     "output_type": "display_data"
    },
    {
     "data": {
      "text/html": [
       "<pre>| 2       | 5.81s        | 1.82027           | 1.04353               | 0.0651042   |</pre>"
      ],
      "text/plain": [
       "| 2       | 5.81s        | 1.82027           | 1.04353               | 0.0651042   |"
      ]
     },
     "metadata": {},
     "output_type": "display_data"
    },
    {
     "data": {
      "text/html": [
       "<pre>| 3       | 6.89s        | 1.75645           | 1.02196               | 0.0651042   |</pre>"
      ],
      "text/plain": [
       "| 3       | 6.89s        | 1.75645           | 1.02196               | 0.0651042   |"
      ]
     },
     "metadata": {},
     "output_type": "display_data"
    },
    {
     "data": {
      "text/html": [
       "<pre>| 4       | 7.90s        | 1.7206            | 1.01294               | 0.0651042   |</pre>"
      ],
      "text/plain": [
       "| 4       | 7.90s        | 1.7206            | 1.01294               | 0.0651042   |"
      ]
     },
     "metadata": {},
     "output_type": "display_data"
    },
    {
     "data": {
      "text/html": [
       "<pre>| 5       | 8.99s        | 1.69207           | 1.00488               | 0.0651042   |</pre>"
      ],
      "text/plain": [
       "| 5       | 8.99s        | 1.69207           | 1.00488               | 0.0651042   |"
      ]
     },
     "metadata": {},
     "output_type": "display_data"
    },
    {
     "data": {
      "text/html": [
       "<pre>| 6       | 10.03s       | 1.66916           | 0.998471              | 0.0651042   |</pre>"
      ],
      "text/plain": [
       "| 6       | 10.03s       | 1.66916           | 0.998471              | 0.0651042   |"
      ]
     },
     "metadata": {},
     "output_type": "display_data"
    },
    {
     "data": {
      "text/html": [
       "<pre>| 7       | 11.11s       | 1.64975           | 0.992687              | 0.0651042   |</pre>"
      ],
      "text/plain": [
       "| 7       | 11.11s       | 1.64975           | 0.992687              | 0.0651042   |"
      ]
     },
     "metadata": {},
     "output_type": "display_data"
    },
    {
     "data": {
      "text/html": [
       "<pre>| 8       | 12.27s       | 1.63331           | 0.987803              | 0.0651042   |</pre>"
      ],
      "text/plain": [
       "| 8       | 12.27s       | 1.63331           | 0.987803              | 0.0651042   |"
      ]
     },
     "metadata": {},
     "output_type": "display_data"
    },
    {
     "data": {
      "text/html": [
       "<pre>| 9       | 13.53s       | 1.6203            | 0.984347              | 0.0651042   |</pre>"
      ],
      "text/plain": [
       "| 9       | 13.53s       | 1.6203            | 0.984347              | 0.0651042   |"
      ]
     },
     "metadata": {},
     "output_type": "display_data"
    },
    {
     "data": {
      "text/html": [
       "<pre>| 10      | 14.68s       | 1.60869           | 0.981751              | 0.0651042   |</pre>"
      ],
      "text/plain": [
       "| 10      | 14.68s       | 1.60869           | 0.981751              | 0.0651042   |"
      ]
     },
     "metadata": {},
     "output_type": "display_data"
    },
    {
     "data": {
      "text/html": [
       "<pre>| 11      | 15.79s       | 1.59758           | 0.977906              | 0.0651042   |</pre>"
      ],
      "text/plain": [
       "| 11      | 15.79s       | 1.59758           | 0.977906              | 0.0651042   |"
      ]
     },
     "metadata": {},
     "output_type": "display_data"
    },
    {
     "data": {
      "text/html": [
       "<pre>| 12      | 16.82s       | 1.58984           | 0.976171              | 0.0651042   |</pre>"
      ],
      "text/plain": [
       "| 12      | 16.82s       | 1.58984           | 0.976171              | 0.0651042   |"
      ]
     },
     "metadata": {},
     "output_type": "display_data"
    },
    {
     "data": {
      "text/html": [
       "<pre>| 13      | 17.96s       | 1.58036           | 0.973489              | 0.0651042   |</pre>"
      ],
      "text/plain": [
       "| 13      | 17.96s       | 1.58036           | 0.973489              | 0.0651042   |"
      ]
     },
     "metadata": {},
     "output_type": "display_data"
    },
    {
     "data": {
      "text/html": [
       "<pre>| 14      | 19.24s       | 1.57243           | 0.971477              | 0.0651042   |</pre>"
      ],
      "text/plain": [
       "| 14      | 19.24s       | 1.57243           | 0.971477              | 0.0651042   |"
      ]
     },
     "metadata": {},
     "output_type": "display_data"
    },
    {
     "data": {
      "text/html": [
       "<pre>| 15      | 20.37s       | 1.56503           | 0.969302              | 0.0651042   |</pre>"
      ],
      "text/plain": [
       "| 15      | 20.37s       | 1.56503           | 0.969302              | 0.0651042   |"
      ]
     },
     "metadata": {},
     "output_type": "display_data"
    },
    {
     "data": {
      "text/html": [
       "<pre>| 16      | 21.50s       | 1.55807           | 0.967444              | 0.0651042   |</pre>"
      ],
      "text/plain": [
       "| 16      | 21.50s       | 1.55807           | 0.967444              | 0.0651042   |"
      ]
     },
     "metadata": {},
     "output_type": "display_data"
    },
    {
     "data": {
      "text/html": [
       "<pre>| 17      | 22.63s       | 1.55118           | 0.965764              | 0.0651042   |</pre>"
      ],
      "text/plain": [
       "| 17      | 22.63s       | 1.55118           | 0.965764              | 0.0651042   |"
      ]
     },
     "metadata": {},
     "output_type": "display_data"
    },
    {
     "data": {
      "text/html": [
       "<pre>| 18      | 23.79s       | 1.54509           | 0.963793              | 0.0651042   |</pre>"
      ],
      "text/plain": [
       "| 18      | 23.79s       | 1.54509           | 0.963793              | 0.0651042   |"
      ]
     },
     "metadata": {},
     "output_type": "display_data"
    },
    {
     "data": {
      "text/html": [
       "<pre>| 19      | 24.93s       | 1.53942           | 0.961991              | 0.0651042   |</pre>"
      ],
      "text/plain": [
       "| 19      | 24.93s       | 1.53942           | 0.961991              | 0.0651042   |"
      ]
     },
     "metadata": {},
     "output_type": "display_data"
    },
    {
     "data": {
      "text/html": [
       "<pre>| 20      | 26.23s       | 1.53433           | 0.960398              | 0.0651042   |</pre>"
      ],
      "text/plain": [
       "| 20      | 26.23s       | 1.53433           | 0.960398              | 0.0651042   |"
      ]
     },
     "metadata": {},
     "output_type": "display_data"
    },
    {
     "data": {
      "text/html": [
       "<pre>| 21      | 27.37s       | 1.52844           | 0.959103              | 0.0651042   |</pre>"
      ],
      "text/plain": [
       "| 21      | 27.37s       | 1.52844           | 0.959103              | 0.0651042   |"
      ]
     },
     "metadata": {},
     "output_type": "display_data"
    },
    {
     "data": {
      "text/html": [
       "<pre>| 22      | 28.46s       | 1.52382           | 0.958025              | 0.0651042   |</pre>"
      ],
      "text/plain": [
       "| 22      | 28.46s       | 1.52382           | 0.958025              | 0.0651042   |"
      ]
     },
     "metadata": {},
     "output_type": "display_data"
    },
    {
     "data": {
      "text/html": [
       "<pre>| 23      | 29.55s       | 1.51829           | 0.956181              | 0.0651042   |</pre>"
      ],
      "text/plain": [
       "| 23      | 29.55s       | 1.51829           | 0.956181              | 0.0651042   |"
      ]
     },
     "metadata": {},
     "output_type": "display_data"
    },
    {
     "data": {
      "text/html": [
       "<pre>| 24      | 30.81s       | 1.51352           | 0.955045              | 0.0651042   |</pre>"
      ],
      "text/plain": [
       "| 24      | 30.81s       | 1.51352           | 0.955045              | 0.0651042   |"
      ]
     },
     "metadata": {},
     "output_type": "display_data"
    },
    {
     "data": {
      "text/html": [
       "<pre>| 25      | 32.13s       | 1.50902           | 0.953533              | 0.0651042   |</pre>"
      ],
      "text/plain": [
       "| 25      | 32.13s       | 1.50902           | 0.953533              | 0.0651042   |"
      ]
     },
     "metadata": {},
     "output_type": "display_data"
    },
    {
     "data": {
      "text/html": [
       "<pre>+---------+--------------+-------------------+-----------------------+-------------+</pre>"
      ],
      "text/plain": [
       "+---------+--------------+-------------------+-----------------------+-------------+"
      ]
     },
     "metadata": {},
     "output_type": "display_data"
    },
    {
     "data": {
      "text/html": [
       "<pre>Optimization Complete: Maximum number of passes through the data reached.</pre>"
      ],
      "text/plain": [
       "Optimization Complete: Maximum number of passes through the data reached."
      ]
     },
     "metadata": {},
     "output_type": "display_data"
    },
    {
     "data": {
      "text/html": [
       "<pre>Computing final objective value and training RMSE.</pre>"
      ],
      "text/plain": [
       "Computing final objective value and training RMSE."
      ]
     },
     "metadata": {},
     "output_type": "display_data"
    },
    {
     "data": {
      "text/html": [
       "<pre>       Final objective value: 1.53876</pre>"
      ],
      "text/plain": [
       "       Final objective value: 1.53876"
      ]
     },
     "metadata": {},
     "output_type": "display_data"
    },
    {
     "data": {
      "text/html": [
       "<pre>       Final training RMSE: 0.948071</pre>"
      ],
      "text/plain": [
       "       Final training RMSE: 0.948071"
      ]
     },
     "metadata": {},
     "output_type": "display_data"
    }
   ],
   "source": [
    "m = graphlab.recommender.create(train, 'user_id', 'movie_id', 'rating')"
   ]
  },
  {
   "cell_type": "code",
   "execution_count": 13,
   "metadata": {
    "collapsed": false
   },
   "outputs": [
    {
     "data": {
      "text/plain": [
       "Class                           : RankingFactorizationRecommender\n",
       "\n",
       "Schema\n",
       "------\n",
       "User ID                         : user_id\n",
       "Item ID                         : movie_id\n",
       "Target                          : rating\n",
       "Additional observation features : 1\n",
       "Number of user side features    : 0\n",
       "Number of item side features    : 0\n",
       "\n",
       "Statistics\n",
       "----------\n",
       "Number of observations          : 965508\n",
       "Number of users                 : 6040\n",
       "Number of items                 : 3706\n",
       "\n",
       "Training summary\n",
       "----------------\n",
       "Training time                   : 36.9965\n",
       "\n",
       "Model Parameters\n",
       "----------------\n",
       "Model class                     : RankingFactorizationRecommender\n",
       "num_factors                     : 32\n",
       "binary_target                   : 0\n",
       "side_data_factorization         : 1\n",
       "solver                          : auto\n",
       "nmf                             : 0\n",
       "max_iterations                  : 25\n",
       "\n",
       "Regularization Settings\n",
       "-----------------------\n",
       "regularization                  : 0.0\n",
       "regularization_type             : normal\n",
       "linear_regularization           : 0.0\n",
       "ranking_regularization          : 0.25\n",
       "unobserved_rating_value         : -1.79769313486e+308\n",
       "num_sampled_negative_examples   : 4\n",
       "ials_confidence_scaling_type    : auto\n",
       "ials_confidence_scaling_factor  : 1\n",
       "\n",
       "Optimization Settings\n",
       "---------------------\n",
       "init_random_sigma               : 0.01\n",
       "sgd_convergence_interval        : 4\n",
       "sgd_convergence_threshold       : 0.0\n",
       "sgd_max_trial_iterations        : 5\n",
       "sgd_sampling_block_size         : 131072\n",
       "sgd_step_adjustment_interval    : 4\n",
       "sgd_step_size                   : 0.0\n",
       "sgd_trial_sample_minimum_size   : 10000\n",
       "sgd_trial_sample_proportion     : 0.125\n",
       "step_size_decrease_rate         : 0.75\n",
       "additional_iterations_if_unhealthy: 5\n",
       "adagrad_momentum_weighting      : 0.9\n",
       "num_tempering_iterations        : 4\n",
       "tempering_regularization_start_value: 0.0\n",
       "track_exact_loss                : 0"
      ]
     },
     "execution_count": 13,
     "metadata": {},
     "output_type": "execute_result"
    }
   ],
   "source": [
    "m"
   ]
  },
  {
   "cell_type": "code",
   "execution_count": 14,
   "metadata": {
    "collapsed": false
   },
   "outputs": [
    {
     "data": {
      "text/plain": [
       "{'intercept': 3.5821495005738013, 'movie_id': Columns:\n",
       " \tmovie_id\tint\n",
       " \tlinear_terms\tfloat\n",
       " \tfactors\tarray\n",
       " \n",
       " Rows: 3706\n",
       " \n",
       " Data:\n",
       " +----------+------------------+-------------------------------+\n",
       " | movie_id |   linear_terms   |            factors            |\n",
       " +----------+------------------+-------------------------------+\n",
       " |   1193   |  1.06781125069   | [-0.119829073548, -0.02245... |\n",
       " |   661    | -0.0261590108275 | [-0.727257788181, 0.016146... |\n",
       " |   914    |  0.324085891247  | [-0.859803378582, 0.056376... |\n",
       " |   3408   |  0.565778970718  | [0.334619760513, -0.014206... |\n",
       " |   2355   |  0.648248255253  | [-0.248598009348, 0.103843... |\n",
       " |   1197   |  1.12024652958   | [-0.100379563868, 0.085359... |\n",
       " |   1287   |  0.345532894135  | [-0.247123196721, 0.024613... |\n",
       " |   2804   |  0.894821941853  | [-0.272583067417, 0.046351... |\n",
       " |   594    |  0.311594575644  | [-0.974369823933, 0.054282... |\n",
       " |   919    |  0.97704321146   | [-0.598346889019, 0.085630... |\n",
       " +----------+------------------+-------------------------------+\n",
       " [3706 rows x 3 columns]\n",
       " Note: Only the head of the SFrame is printed.\n",
       " You can use print_rows(num_rows=m, num_columns=n) to print more rows and columns., 'side_data': Columns:\n",
       " \tfeature\tstr\n",
       " \tindex\tstr\n",
       " \tlinear_terms\tfloat\n",
       " \tfactors\tarray\n",
       " \n",
       " Rows: 1\n",
       " \n",
       " Data:\n",
       " +-----------+-------+-----------------+-------------------------------+\n",
       " |  feature  | index |   linear_terms  |            factors            |\n",
       " +-----------+-------+-----------------+-------------------------------+\n",
       " | timestamp |   0   | -0.116745471954 | [-0.564183712006, 1.267165... |\n",
       " +-----------+-------+-----------------+-------------------------------+\n",
       " [1 rows x 4 columns], 'user_id': Columns:\n",
       " \tuser_id\tint\n",
       " \tlinear_terms\tfloat\n",
       " \tfactors\tarray\n",
       " \n",
       " Rows: 6040\n",
       " \n",
       " Data:\n",
       " +---------+------------------+-------------------------------+\n",
       " | user_id |   linear_terms   |            factors            |\n",
       " +---------+------------------+-------------------------------+\n",
       " |    1    | -0.027785371989  | [-0.0942558199167, 0.00739... |\n",
       " |    2    | -0.0234720371664 | [0.015922004357, -0.033992... |\n",
       " |    3    | -0.0345229320228 | [0.176564618945, -0.050576... |\n",
       " |    4    | -0.0198582224548 | [-0.0773911848664, -0.0500... |\n",
       " |    5    | -0.0562275871634 | [-0.0598151274025, -0.0059... |\n",
       " |    6    | -0.0401206016541 | [0.0565584115684, 0.030123... |\n",
       " |    7    | -0.0433877147734 | [0.205288589001, -0.060017... |\n",
       " |    8    | -0.0184100158513 | [0.169030055404, -0.043373... |\n",
       " |    9    | -0.0512112490833 | [0.163330376148, -0.060946... |\n",
       " |    10   | -0.0407416447997 | [-0.420519113541, 0.110337... |\n",
       " +---------+------------------+-------------------------------+\n",
       " [6040 rows x 3 columns]\n",
       " Note: Only the head of the SFrame is printed.\n",
       " You can use print_rows(num_rows=m, num_columns=n) to print more rows and columns.}"
      ]
     },
     "execution_count": 14,
     "metadata": {},
     "output_type": "execute_result"
    }
   ],
   "source": [
    "m['coefficients']"
   ]
  },
  {
   "cell_type": "code",
   "execution_count": 16,
   "metadata": {
    "collapsed": false
   },
   "outputs": [
    {
     "name": "stdout",
     "output_type": "stream",
     "text": [
      "compare_models: using 183 users to estimate model performance\n",
      "PROGRESS: Evaluate model M0\n",
      "\n",
      "Precision and recall summary statistics by cutoff\n",
      "+--------+-----------------+-----------------+\n",
      "| cutoff |  mean_precision |   mean_recall   |\n",
      "+--------+-----------------+-----------------+\n",
      "|   1    |  0.109289617486 | 0.0154169412131 |\n",
      "|   2    |  0.114754098361 | 0.0315571827129 |\n",
      "|   3    |  0.103825136612 | 0.0393550677194 |\n",
      "|   4    | 0.0983606557377 | 0.0488860172488 |\n",
      "|   5    | 0.0983606557377 |  0.057530354299 |\n",
      "|   6    | 0.0983606557377 |  0.06952814808  |\n",
      "|   7    | 0.0967993754879 | 0.0776744105871 |\n",
      "|   8    | 0.0949453551913 | 0.0871933441083 |\n",
      "|   9    | 0.0910746812386 | 0.0970583805009 |\n",
      "|   10   | 0.0890710382514 |  0.105731522781 |\n",
      "+--------+-----------------+-----------------+\n",
      "[10 rows x 3 columns]\n",
      "\n",
      "PROGRESS: Evaluate model M1\n",
      "\n",
      "Precision and recall summary statistics by cutoff\n",
      "+--------+----------------+-----------------+\n",
      "| cutoff | mean_precision |   mean_recall   |\n",
      "+--------+----------------+-----------------+\n",
      "|   1    | 0.218579234973 | 0.0336356996991 |\n",
      "|   2    | 0.185792349727 | 0.0491081612808 |\n",
      "|   3    | 0.182149362477 | 0.0721856847862 |\n",
      "|   4    | 0.172131147541 |  0.086814432767 |\n",
      "|   5    | 0.165027322404 | 0.0983099175722 |\n",
      "|   6    | 0.152094717668 |  0.110996252299 |\n",
      "|   7    | 0.148321623731 |  0.13067735829  |\n",
      "|   8    | 0.148907103825 |  0.150453968213 |\n",
      "|   9    | 0.142076502732 |  0.158699171088 |\n",
      "|   10   | 0.134426229508 |  0.166857542043 |\n",
      "+--------+----------------+-----------------+\n",
      "[10 rows x 3 columns]\n",
      "\n",
      "PROGRESS: Evaluate model M2\n",
      "\n",
      "Precision and recall summary statistics by cutoff\n",
      "+--------+----------------+-----------------+\n",
      "| cutoff | mean_precision |   mean_recall   |\n",
      "+--------+----------------+-----------------+\n",
      "|   1    | 0.27868852459  | 0.0355923139267 |\n",
      "|   2    | 0.226775956284 | 0.0540712203094 |\n",
      "|   3    | 0.213114754098 | 0.0716753913564 |\n",
      "|   4    | 0.198087431694 | 0.0898091945474 |\n",
      "|   5    | 0.183606557377 |  0.100699809919 |\n",
      "|   6    | 0.182149362477 |  0.11362028645  |\n",
      "|   7    | 0.185011709602 |  0.137198290932 |\n",
      "|   8    | 0.177595628415 |  0.147966304582 |\n",
      "|   9    | 0.169398907104 |  0.156916738229 |\n",
      "|   10   | 0.160655737705 |  0.171367047623 |\n",
      "+--------+----------------+-----------------+\n",
      "[10 rows x 3 columns]\n",
      "\n"
     ]
    },
    {
     "data": {
      "text/plain": [
       "[{'precision_recall_by_user': Columns:\n",
       "  \tuser_id\tint\n",
       "  \tcutoff\tint\n",
       "  \tprecision\tfloat\n",
       "  \trecall\tfloat\n",
       "  \tcount\tint\n",
       "  \n",
       "  Rows: 3294\n",
       "  \n",
       "  Data:\n",
       "  +---------+--------+----------------+----------------+-------+\n",
       "  | user_id | cutoff |   precision    |     recall     | count |\n",
       "  +---------+--------+----------------+----------------+-------+\n",
       "  |    42   |   1    |      0.0       |      0.0       |   7   |\n",
       "  |    42   |   2    |      0.5       | 0.142857142857 |   7   |\n",
       "  |    42   |   3    | 0.333333333333 | 0.142857142857 |   7   |\n",
       "  |    42   |   4    |      0.25      | 0.142857142857 |   7   |\n",
       "  |    42   |   5    |      0.2       | 0.142857142857 |   7   |\n",
       "  |    42   |   6    | 0.166666666667 | 0.142857142857 |   7   |\n",
       "  |    42   |   7    | 0.142857142857 | 0.142857142857 |   7   |\n",
       "  |    42   |   8    |     0.125      | 0.142857142857 |   7   |\n",
       "  |    42   |   9    | 0.111111111111 | 0.142857142857 |   7   |\n",
       "  |    42   |   10   |      0.1       | 0.142857142857 |   7   |\n",
       "  +---------+--------+----------------+----------------+-------+\n",
       "  [3294 rows x 5 columns]\n",
       "  Note: Only the head of the SFrame is printed.\n",
       "  You can use print_rows(num_rows=m, num_columns=n) to print more rows and columns.,\n",
       "  'precision_recall_overall': Columns:\n",
       "  \tcutoff\tint\n",
       "  \tprecision\tfloat\n",
       "  \trecall\tfloat\n",
       "  \n",
       "  Rows: 18\n",
       "  \n",
       "  Data:\n",
       "  +--------+-----------------+-----------------+\n",
       "  | cutoff |    precision    |      recall     |\n",
       "  +--------+-----------------+-----------------+\n",
       "  |   1    |  0.109289617486 | 0.0154169412131 |\n",
       "  |   2    |  0.114754098361 | 0.0315571827129 |\n",
       "  |   3    |  0.103825136612 | 0.0393550677194 |\n",
       "  |   4    | 0.0983606557377 | 0.0488860172488 |\n",
       "  |   5    | 0.0983606557377 |  0.057530354299 |\n",
       "  |   6    | 0.0983606557377 |  0.06952814808  |\n",
       "  |   7    | 0.0967993754879 | 0.0776744105871 |\n",
       "  |   8    | 0.0949453551913 | 0.0871933441083 |\n",
       "  |   9    | 0.0910746812386 | 0.0970583805009 |\n",
       "  |   10   | 0.0890710382514 |  0.105731522781 |\n",
       "  +--------+-----------------+-----------------+\n",
       "  [18 rows x 3 columns]\n",
       "  Note: Only the head of the SFrame is printed.\n",
       "  You can use print_rows(num_rows=m, num_columns=n) to print more rows and columns.},\n",
       " {'precision_recall_by_user': Columns:\n",
       "  \tuser_id\tint\n",
       "  \tcutoff\tint\n",
       "  \tprecision\tfloat\n",
       "  \trecall\tfloat\n",
       "  \tcount\tint\n",
       "  \n",
       "  Rows: 3294\n",
       "  \n",
       "  Data:\n",
       "  +---------+--------+----------------+----------------+-------+\n",
       "  | user_id | cutoff |   precision    |     recall     | count |\n",
       "  +---------+--------+----------------+----------------+-------+\n",
       "  |    42   |   1    |      1.0       | 0.142857142857 |   7   |\n",
       "  |    42   |   2    |      0.5       | 0.142857142857 |   7   |\n",
       "  |    42   |   3    | 0.333333333333 | 0.142857142857 |   7   |\n",
       "  |    42   |   4    |      0.25      | 0.142857142857 |   7   |\n",
       "  |    42   |   5    |      0.4       | 0.285714285714 |   7   |\n",
       "  |    42   |   6    | 0.333333333333 | 0.285714285714 |   7   |\n",
       "  |    42   |   7    | 0.285714285714 | 0.285714285714 |   7   |\n",
       "  |    42   |   8    |      0.25      | 0.285714285714 |   7   |\n",
       "  |    42   |   9    | 0.222222222222 | 0.285714285714 |   7   |\n",
       "  |    42   |   10   |      0.2       | 0.285714285714 |   7   |\n",
       "  +---------+--------+----------------+----------------+-------+\n",
       "  [3294 rows x 5 columns]\n",
       "  Note: Only the head of the SFrame is printed.\n",
       "  You can use print_rows(num_rows=m, num_columns=n) to print more rows and columns.,\n",
       "  'precision_recall_overall': Columns:\n",
       "  \tcutoff\tint\n",
       "  \tprecision\tfloat\n",
       "  \trecall\tfloat\n",
       "  \n",
       "  Rows: 18\n",
       "  \n",
       "  Data:\n",
       "  +--------+----------------+-----------------+\n",
       "  | cutoff |   precision    |      recall     |\n",
       "  +--------+----------------+-----------------+\n",
       "  |   1    | 0.218579234973 | 0.0336356996991 |\n",
       "  |   2    | 0.185792349727 | 0.0491081612808 |\n",
       "  |   3    | 0.182149362477 | 0.0721856847862 |\n",
       "  |   4    | 0.172131147541 |  0.086814432767 |\n",
       "  |   5    | 0.165027322404 | 0.0983099175722 |\n",
       "  |   6    | 0.152094717668 |  0.110996252299 |\n",
       "  |   7    | 0.148321623731 |  0.13067735829  |\n",
       "  |   8    | 0.148907103825 |  0.150453968213 |\n",
       "  |   9    | 0.142076502732 |  0.158699171088 |\n",
       "  |   10   | 0.134426229508 |  0.166857542043 |\n",
       "  +--------+----------------+-----------------+\n",
       "  [18 rows x 3 columns]\n",
       "  Note: Only the head of the SFrame is printed.\n",
       "  You can use print_rows(num_rows=m, num_columns=n) to print more rows and columns.},\n",
       " {'precision_recall_by_user': Columns:\n",
       "  \tuser_id\tint\n",
       "  \tcutoff\tint\n",
       "  \tprecision\tfloat\n",
       "  \trecall\tfloat\n",
       "  \tcount\tint\n",
       "  \n",
       "  Rows: 3294\n",
       "  \n",
       "  Data:\n",
       "  +---------+--------+----------------+----------------+-------+\n",
       "  | user_id | cutoff |   precision    |     recall     | count |\n",
       "  +---------+--------+----------------+----------------+-------+\n",
       "  |    42   |   1    |      1.0       | 0.142857142857 |   7   |\n",
       "  |    42   |   2    |      0.5       | 0.142857142857 |   7   |\n",
       "  |    42   |   3    | 0.333333333333 | 0.142857142857 |   7   |\n",
       "  |    42   |   4    |      0.25      | 0.142857142857 |   7   |\n",
       "  |    42   |   5    |      0.2       | 0.142857142857 |   7   |\n",
       "  |    42   |   6    | 0.166666666667 | 0.142857142857 |   7   |\n",
       "  |    42   |   7    | 0.142857142857 | 0.142857142857 |   7   |\n",
       "  |    42   |   8    |     0.125      | 0.142857142857 |   7   |\n",
       "  |    42   |   9    | 0.111111111111 | 0.142857142857 |   7   |\n",
       "  |    42   |   10   |      0.2       | 0.285714285714 |   7   |\n",
       "  +---------+--------+----------------+----------------+-------+\n",
       "  [3294 rows x 5 columns]\n",
       "  Note: Only the head of the SFrame is printed.\n",
       "  You can use print_rows(num_rows=m, num_columns=n) to print more rows and columns.,\n",
       "  'precision_recall_overall': Columns:\n",
       "  \tcutoff\tint\n",
       "  \tprecision\tfloat\n",
       "  \trecall\tfloat\n",
       "  \n",
       "  Rows: 18\n",
       "  \n",
       "  Data:\n",
       "  +--------+----------------+-----------------+\n",
       "  | cutoff |   precision    |      recall     |\n",
       "  +--------+----------------+-----------------+\n",
       "  |   1    | 0.27868852459  | 0.0355923139267 |\n",
       "  |   2    | 0.226775956284 | 0.0540712203094 |\n",
       "  |   3    | 0.213114754098 | 0.0716753913564 |\n",
       "  |   4    | 0.198087431694 | 0.0898091945474 |\n",
       "  |   5    | 0.183606557377 |  0.100699809919 |\n",
       "  |   6    | 0.182149362477 |  0.11362028645  |\n",
       "  |   7    | 0.185011709602 |  0.137198290932 |\n",
       "  |   8    | 0.177595628415 |  0.147966304582 |\n",
       "  |   9    | 0.169398907104 |  0.156916738229 |\n",
       "  |   10   | 0.160655737705 |  0.171367047623 |\n",
       "  +--------+----------------+-----------------+\n",
       "  [18 rows x 3 columns]\n",
       "  Note: Only the head of the SFrame is printed.\n",
       "  You can use print_rows(num_rows=m, num_columns=n) to print more rows and columns.}]"
      ]
     },
     "execution_count": 16,
     "metadata": {},
     "output_type": "execute_result"
    }
   ],
   "source": [
    "graphlab.recommender.util.compare_models(test[test['rating'] > 4], \n",
    "                                    [pop, itemcf, m], \n",
    "                                    user_sample=0.2, \n",
    "                                    metric='precision_recall')"
   ]
  },
  {
   "cell_type": "markdown",
   "metadata": {},
   "source": [
    "### Optimizing for ranking"
   ]
  },
  {
   "cell_type": "code",
   "execution_count": 20,
   "metadata": {
    "collapsed": false
   },
   "outputs": [
    {
     "data": {
      "text/html": [
       "<pre>Recsys training: model = ranking_factorization_recommender</pre>"
      ],
      "text/plain": [
       "Recsys training: model = ranking_factorization_recommender"
      ]
     },
     "metadata": {},
     "output_type": "display_data"
    },
    {
     "data": {
      "text/html": [
       "<pre>Preparing data set.</pre>"
      ],
      "text/plain": [
       "Preparing data set."
      ]
     },
     "metadata": {},
     "output_type": "display_data"
    },
    {
     "data": {
      "text/html": [
       "<pre>    Data has 965508 observations with 6040 users and 3706 items.</pre>"
      ],
      "text/plain": [
       "    Data has 965508 observations with 6040 users and 3706 items."
      ]
     },
     "metadata": {},
     "output_type": "display_data"
    },
    {
     "data": {
      "text/html": [
       "<pre>    Data prepared in: 0.910656s</pre>"
      ],
      "text/plain": [
       "    Data prepared in: 0.910656s"
      ]
     },
     "metadata": {},
     "output_type": "display_data"
    },
    {
     "data": {
      "text/html": [
       "<pre>Training ranking_factorization_recommender for recommendations.</pre>"
      ],
      "text/plain": [
       "Training ranking_factorization_recommender for recommendations."
      ]
     },
     "metadata": {},
     "output_type": "display_data"
    },
    {
     "data": {
      "text/html": [
       "<pre>+--------------------------------+--------------------------------------------------+----------+</pre>"
      ],
      "text/plain": [
       "+--------------------------------+--------------------------------------------------+----------+"
      ]
     },
     "metadata": {},
     "output_type": "display_data"
    },
    {
     "data": {
      "text/html": [
       "<pre>| Parameter                      | Description                                      | Value    |</pre>"
      ],
      "text/plain": [
       "| Parameter                      | Description                                      | Value    |"
      ]
     },
     "metadata": {},
     "output_type": "display_data"
    },
    {
     "data": {
      "text/html": [
       "<pre>+--------------------------------+--------------------------------------------------+----------+</pre>"
      ],
      "text/plain": [
       "+--------------------------------+--------------------------------------------------+----------+"
      ]
     },
     "metadata": {},
     "output_type": "display_data"
    },
    {
     "data": {
      "text/html": [
       "<pre>| num_factors                    | Factor Dimension                                 | 32       |</pre>"
      ],
      "text/plain": [
       "| num_factors                    | Factor Dimension                                 | 32       |"
      ]
     },
     "metadata": {},
     "output_type": "display_data"
    },
    {
     "data": {
      "text/html": [
       "<pre>| regularization                 | L2 Regularization on Factors                     | 1e-09    |</pre>"
      ],
      "text/plain": [
       "| regularization                 | L2 Regularization on Factors                     | 1e-09    |"
      ]
     },
     "metadata": {},
     "output_type": "display_data"
    },
    {
     "data": {
      "text/html": [
       "<pre>| solver                         | Solver used for training                         | adagrad  |</pre>"
      ],
      "text/plain": [
       "| solver                         | Solver used for training                         | adagrad  |"
      ]
     },
     "metadata": {},
     "output_type": "display_data"
    },
    {
     "data": {
      "text/html": [
       "<pre>| linear_regularization          | L2 Regularization on Linear Coefficients         | 1e-09    |</pre>"
      ],
      "text/plain": [
       "| linear_regularization          | L2 Regularization on Linear Coefficients         | 1e-09    |"
      ]
     },
     "metadata": {},
     "output_type": "display_data"
    },
    {
     "data": {
      "text/html": [
       "<pre>| ranking_regularization         | Rank-based Regularization Weight                 | 0.25     |</pre>"
      ],
      "text/plain": [
       "| ranking_regularization         | Rank-based Regularization Weight                 | 0.25     |"
      ]
     },
     "metadata": {},
     "output_type": "display_data"
    },
    {
     "data": {
      "text/html": [
       "<pre>| unobserved_rating_value        | Ranking Target Rating for Unobserved Interacti...| 3        |</pre>"
      ],
      "text/plain": [
       "| unobserved_rating_value        | Ranking Target Rating for Unobserved Interacti...| 3        |"
      ]
     },
     "metadata": {},
     "output_type": "display_data"
    },
    {
     "data": {
      "text/html": [
       "<pre>| max_iterations                 | Maximum Number of Iterations                     | 25       |</pre>"
      ],
      "text/plain": [
       "| max_iterations                 | Maximum Number of Iterations                     | 25       |"
      ]
     },
     "metadata": {},
     "output_type": "display_data"
    },
    {
     "data": {
      "text/html": [
       "<pre>+--------------------------------+--------------------------------------------------+----------+</pre>"
      ],
      "text/plain": [
       "+--------------------------------+--------------------------------------------------+----------+"
      ]
     },
     "metadata": {},
     "output_type": "display_data"
    },
    {
     "data": {
      "text/html": [
       "<pre>  Optimizing model using SGD; tuning step size.</pre>"
      ],
      "text/plain": [
       "  Optimizing model using SGD; tuning step size."
      ]
     },
     "metadata": {},
     "output_type": "display_data"
    },
    {
     "data": {
      "text/html": [
       "<pre>  Using 120688 / 965508 points for tuning the step size.</pre>"
      ],
      "text/plain": [
       "  Using 120688 / 965508 points for tuning the step size."
      ]
     },
     "metadata": {},
     "output_type": "display_data"
    },
    {
     "data": {
      "text/html": [
       "<pre>+---------+-------------------+------------------------------------------+</pre>"
      ],
      "text/plain": [
       "+---------+-------------------+------------------------------------------+"
      ]
     },
     "metadata": {},
     "output_type": "display_data"
    },
    {
     "data": {
      "text/html": [
       "<pre>| Attempt | Initial Step Size | Estimated Objective Value                |</pre>"
      ],
      "text/plain": [
       "| Attempt | Initial Step Size | Estimated Objective Value                |"
      ]
     },
     "metadata": {},
     "output_type": "display_data"
    },
    {
     "data": {
      "text/html": [
       "<pre>+---------+-------------------+------------------------------------------+</pre>"
      ],
      "text/plain": [
       "+---------+-------------------+------------------------------------------+"
      ]
     },
     "metadata": {},
     "output_type": "display_data"
    },
    {
     "data": {
      "text/html": [
       "<pre>| 0       | 16.6667           | Not Viable                               |</pre>"
      ],
      "text/plain": [
       "| 0       | 16.6667           | Not Viable                               |"
      ]
     },
     "metadata": {},
     "output_type": "display_data"
    },
    {
     "data": {
      "text/html": [
       "<pre>| 1       | 4.16667           | Not Viable                               |</pre>"
      ],
      "text/plain": [
       "| 1       | 4.16667           | Not Viable                               |"
      ]
     },
     "metadata": {},
     "output_type": "display_data"
    },
    {
     "data": {
      "text/html": [
       "<pre>| 2       | 1.04167           | Not Viable                               |</pre>"
      ],
      "text/plain": [
       "| 2       | 1.04167           | Not Viable                               |"
      ]
     },
     "metadata": {},
     "output_type": "display_data"
    },
    {
     "data": {
      "text/html": [
       "<pre>| 3       | 0.260417          | Not Viable                               |</pre>"
      ],
      "text/plain": [
       "| 3       | 0.260417          | Not Viable                               |"
      ]
     },
     "metadata": {},
     "output_type": "display_data"
    },
    {
     "data": {
      "text/html": [
       "<pre>| 4       | 0.0651042         | 0.998804                                 |</pre>"
      ],
      "text/plain": [
       "| 4       | 0.0651042         | 0.998804                                 |"
      ]
     },
     "metadata": {},
     "output_type": "display_data"
    },
    {
     "data": {
      "text/html": [
       "<pre>| 5       | 0.0325521         | 0.953073                                 |</pre>"
      ],
      "text/plain": [
       "| 5       | 0.0325521         | 0.953073                                 |"
      ]
     },
     "metadata": {},
     "output_type": "display_data"
    },
    {
     "data": {
      "text/html": [
       "<pre>| 6       | 0.016276          | 1.00856                                  |</pre>"
      ],
      "text/plain": [
       "| 6       | 0.016276          | 1.00856                                  |"
      ]
     },
     "metadata": {},
     "output_type": "display_data"
    },
    {
     "data": {
      "text/html": [
       "<pre>| 7       | 0.00813802        | 1.0661                                   |</pre>"
      ],
      "text/plain": [
       "| 7       | 0.00813802        | 1.0661                                   |"
      ]
     },
     "metadata": {},
     "output_type": "display_data"
    },
    {
     "data": {
      "text/html": [
       "<pre>| 8       | 0.00406901        | 1.23488                                  |</pre>"
      ],
      "text/plain": [
       "| 8       | 0.00406901        | 1.23488                                  |"
      ]
     },
     "metadata": {},
     "output_type": "display_data"
    },
    {
     "data": {
      "text/html": [
       "<pre>+---------+-------------------+------------------------------------------+</pre>"
      ],
      "text/plain": [
       "+---------+-------------------+------------------------------------------+"
      ]
     },
     "metadata": {},
     "output_type": "display_data"
    },
    {
     "data": {
      "text/html": [
       "<pre>| Final   | 0.0325521         | 0.953073                                 |</pre>"
      ],
      "text/plain": [
       "| Final   | 0.0325521         | 0.953073                                 |"
      ]
     },
     "metadata": {},
     "output_type": "display_data"
    },
    {
     "data": {
      "text/html": [
       "<pre>+---------+-------------------+------------------------------------------+</pre>"
      ],
      "text/plain": [
       "+---------+-------------------+------------------------------------------+"
      ]
     },
     "metadata": {},
     "output_type": "display_data"
    },
    {
     "data": {
      "text/html": [
       "<pre>Starting Optimization.</pre>"
      ],
      "text/plain": [
       "Starting Optimization."
      ]
     },
     "metadata": {},
     "output_type": "display_data"
    },
    {
     "data": {
      "text/html": [
       "<pre>+---------+--------------+-------------------+-----------------------+-------------+</pre>"
      ],
      "text/plain": [
       "+---------+--------------+-------------------+-----------------------+-------------+"
      ]
     },
     "metadata": {},
     "output_type": "display_data"
    },
    {
     "data": {
      "text/html": [
       "<pre>| Iter.   | Elapsed Time | Approx. Objective | Approx. Training RMSE | Step Size   |</pre>"
      ],
      "text/plain": [
       "| Iter.   | Elapsed Time | Approx. Objective | Approx. Training RMSE | Step Size   |"
      ]
     },
     "metadata": {},
     "output_type": "display_data"
    },
    {
     "data": {
      "text/html": [
       "<pre>+---------+--------------+-------------------+-----------------------+-------------+</pre>"
      ],
      "text/plain": [
       "+---------+--------------+-------------------+-----------------------+-------------+"
      ]
     },
     "metadata": {},
     "output_type": "display_data"
    },
    {
     "data": {
      "text/html": [
       "<pre>| Initial | 107us        | 1.33247           | 1.11699               |             |</pre>"
      ],
      "text/plain": [
       "| Initial | 107us        | 1.33247           | 1.11699               |             |"
      ]
     },
     "metadata": {},
     "output_type": "display_data"
    },
    {
     "data": {
      "text/html": [
       "<pre>+---------+--------------+-------------------+-----------------------+-------------+</pre>"
      ],
      "text/plain": [
       "+---------+--------------+-------------------+-----------------------+-------------+"
      ]
     },
     "metadata": {},
     "output_type": "display_data"
    },
    {
     "data": {
      "text/html": [
       "<pre>| 1       | 885.253ms    | 1.10069           | 1.00012               | 0.0325521   |</pre>"
      ],
      "text/plain": [
       "| 1       | 885.253ms    | 1.10069           | 1.00012               | 0.0325521   |"
      ]
     },
     "metadata": {},
     "output_type": "display_data"
    },
    {
     "data": {
      "text/html": [
       "<pre>| 2       | 1.90s        | 1.01103           | 0.956979              | 0.0325521   |</pre>"
      ],
      "text/plain": [
       "| 2       | 1.90s        | 1.01103           | 0.956979              | 0.0325521   |"
      ]
     },
     "metadata": {},
     "output_type": "display_data"
    },
    {
     "data": {
      "text/html": [
       "<pre>| 3       | 3.00s        | 0.974312          | 0.937847              | 0.0325521   |</pre>"
      ],
      "text/plain": [
       "| 3       | 3.00s        | 0.974312          | 0.937847              | 0.0325521   |"
      ]
     },
     "metadata": {},
     "output_type": "display_data"
    },
    {
     "data": {
      "text/html": [
       "<pre>| 4       | 4.07s        | 0.960712          | 0.931004              | 0.0325521   |</pre>"
      ],
      "text/plain": [
       "| 4       | 4.07s        | 0.960712          | 0.931004              | 0.0325521   |"
      ]
     },
     "metadata": {},
     "output_type": "display_data"
    },
    {
     "data": {
      "text/html": [
       "<pre>| 5       | 5.12s        | 0.949761          | 0.9254                | 0.0325521   |</pre>"
      ],
      "text/plain": [
       "| 5       | 5.12s        | 0.949761          | 0.9254                | 0.0325521   |"
      ]
     },
     "metadata": {},
     "output_type": "display_data"
    },
    {
     "data": {
      "text/html": [
       "<pre>| 6       | 6.07s        | 0.942225          | 0.921526              | 0.0325521   |</pre>"
      ],
      "text/plain": [
       "| 6       | 6.07s        | 0.942225          | 0.921526              | 0.0325521   |"
      ]
     },
     "metadata": {},
     "output_type": "display_data"
    },
    {
     "data": {
      "text/html": [
       "<pre>| 7       | 7.06s        | 0.935704          | 0.918205              | 0.0325521   |</pre>"
      ],
      "text/plain": [
       "| 7       | 7.06s        | 0.935704          | 0.918205              | 0.0325521   |"
      ]
     },
     "metadata": {},
     "output_type": "display_data"
    },
    {
     "data": {
      "text/html": [
       "<pre>| 8       | 8.02s        | 0.930567          | 0.915684              | 0.0325521   |</pre>"
      ],
      "text/plain": [
       "| 8       | 8.02s        | 0.930567          | 0.915684              | 0.0325521   |"
      ]
     },
     "metadata": {},
     "output_type": "display_data"
    },
    {
     "data": {
      "text/html": [
       "<pre>| 9       | 9.05s        | 0.925405          | 0.912967              | 0.0325521   |</pre>"
      ],
      "text/plain": [
       "| 9       | 9.05s        | 0.925405          | 0.912967              | 0.0325521   |"
      ]
     },
     "metadata": {},
     "output_type": "display_data"
    },
    {
     "data": {
      "text/html": [
       "<pre>| 10      | 10.33s       | 0.920952          | 0.910727              | 0.0325521   |</pre>"
      ],
      "text/plain": [
       "| 10      | 10.33s       | 0.920952          | 0.910727              | 0.0325521   |"
      ]
     },
     "metadata": {},
     "output_type": "display_data"
    },
    {
     "data": {
      "text/html": [
       "<pre>| 11      | 11.58s       | 0.916647          | 0.908743              | 0.0325521   |</pre>"
      ],
      "text/plain": [
       "| 11      | 11.58s       | 0.916647          | 0.908743              | 0.0325521   |"
      ]
     },
     "metadata": {},
     "output_type": "display_data"
    },
    {
     "data": {
      "text/html": [
       "<pre>| 12      | 12.62s       | 0.913399          | 0.907017              | 0.0325521   |</pre>"
      ],
      "text/plain": [
       "| 12      | 12.62s       | 0.913399          | 0.907017              | 0.0325521   |"
      ]
     },
     "metadata": {},
     "output_type": "display_data"
    },
    {
     "data": {
      "text/html": [
       "<pre>| 13      | 13.58s       | 0.909575          | 0.904969              | 0.0325521   |</pre>"
      ],
      "text/plain": [
       "| 13      | 13.58s       | 0.909575          | 0.904969              | 0.0325521   |"
      ]
     },
     "metadata": {},
     "output_type": "display_data"
    },
    {
     "data": {
      "text/html": [
       "<pre>| 14      | 14.67s       | 0.906824          | 0.90367               | 0.0325521   |</pre>"
      ],
      "text/plain": [
       "| 14      | 14.67s       | 0.906824          | 0.90367               | 0.0325521   |"
      ]
     },
     "metadata": {},
     "output_type": "display_data"
    },
    {
     "data": {
      "text/html": [
       "<pre>| 15      | 15.77s       | 0.904054          | 0.902198              | 0.0325521   |</pre>"
      ],
      "text/plain": [
       "| 15      | 15.77s       | 0.904054          | 0.902198              | 0.0325521   |"
      ]
     },
     "metadata": {},
     "output_type": "display_data"
    },
    {
     "data": {
      "text/html": [
       "<pre>| 16      | 16.86s       | 0.901294          | 0.90096               | 0.0325521   |</pre>"
      ],
      "text/plain": [
       "| 16      | 16.86s       | 0.901294          | 0.90096               | 0.0325521   |"
      ]
     },
     "metadata": {},
     "output_type": "display_data"
    },
    {
     "data": {
      "text/html": [
       "<pre>| 17      | 17.85s       | 0.898579          | 0.899525              | 0.0325521   |</pre>"
      ],
      "text/plain": [
       "| 17      | 17.85s       | 0.898579          | 0.899525              | 0.0325521   |"
      ]
     },
     "metadata": {},
     "output_type": "display_data"
    },
    {
     "data": {
      "text/html": [
       "<pre>| 18      | 18.86s       | 0.896474          | 0.898482              | 0.0325521   |</pre>"
      ],
      "text/plain": [
       "| 18      | 18.86s       | 0.896474          | 0.898482              | 0.0325521   |"
      ]
     },
     "metadata": {},
     "output_type": "display_data"
    },
    {
     "data": {
      "text/html": [
       "<pre>| 19      | 20.07s       | 0.894312          | 0.897331              | 0.0325521   |</pre>"
      ],
      "text/plain": [
       "| 19      | 20.07s       | 0.894312          | 0.897331              | 0.0325521   |"
      ]
     },
     "metadata": {},
     "output_type": "display_data"
    },
    {
     "data": {
      "text/html": [
       "<pre>| 20      | 21.10s       | 0.892068          | 0.896046              | 0.0325521   |</pre>"
      ],
      "text/plain": [
       "| 20      | 21.10s       | 0.892068          | 0.896046              | 0.0325521   |"
      ]
     },
     "metadata": {},
     "output_type": "display_data"
    },
    {
     "data": {
      "text/html": [
       "<pre>| 21      | 22.12s       | 0.88988           | 0.894963              | 0.0325521   |</pre>"
      ],
      "text/plain": [
       "| 21      | 22.12s       | 0.88988           | 0.894963              | 0.0325521   |"
      ]
     },
     "metadata": {},
     "output_type": "display_data"
    },
    {
     "data": {
      "text/html": [
       "<pre>| 22      | 23.33s       | 0.887669          | 0.893956              | 0.0325521   |</pre>"
      ],
      "text/plain": [
       "| 22      | 23.33s       | 0.887669          | 0.893956              | 0.0325521   |"
      ]
     },
     "metadata": {},
     "output_type": "display_data"
    },
    {
     "data": {
      "text/html": [
       "<pre>| 23      | 24.51s       | 0.885674          | 0.892851              | 0.0325521   |</pre>"
      ],
      "text/plain": [
       "| 23      | 24.51s       | 0.885674          | 0.892851              | 0.0325521   |"
      ]
     },
     "metadata": {},
     "output_type": "display_data"
    },
    {
     "data": {
      "text/html": [
       "<pre>| 24      | 25.58s       | 0.884228          | 0.892176              | 0.0325521   |</pre>"
      ],
      "text/plain": [
       "| 24      | 25.58s       | 0.884228          | 0.892176              | 0.0325521   |"
      ]
     },
     "metadata": {},
     "output_type": "display_data"
    },
    {
     "data": {
      "text/html": [
       "<pre>| 25      | 26.59s       | 0.882557          | 0.891299              | 0.0325521   |</pre>"
      ],
      "text/plain": [
       "| 25      | 26.59s       | 0.882557          | 0.891299              | 0.0325521   |"
      ]
     },
     "metadata": {},
     "output_type": "display_data"
    },
    {
     "data": {
      "text/html": [
       "<pre>+---------+--------------+-------------------+-----------------------+-------------+</pre>"
      ],
      "text/plain": [
       "+---------+--------------+-------------------+-----------------------+-------------+"
      ]
     },
     "metadata": {},
     "output_type": "display_data"
    },
    {
     "data": {
      "text/html": [
       "<pre>Optimization Complete: Maximum number of passes through the data reached.</pre>"
      ],
      "text/plain": [
       "Optimization Complete: Maximum number of passes through the data reached."
      ]
     },
     "metadata": {},
     "output_type": "display_data"
    },
    {
     "data": {
      "text/html": [
       "<pre>Computing final objective value and training RMSE.</pre>"
      ],
      "text/plain": [
       "Computing final objective value and training RMSE."
      ]
     },
     "metadata": {},
     "output_type": "display_data"
    },
    {
     "data": {
      "text/html": [
       "<pre>       Final objective value: 0.882406</pre>"
      ],
      "text/plain": [
       "       Final objective value: 0.882406"
      ]
     },
     "metadata": {},
     "output_type": "display_data"
    },
    {
     "data": {
      "text/html": [
       "<pre>       Final training RMSE: 0.886832</pre>"
      ],
      "text/plain": [
       "       Final training RMSE: 0.886832"
      ]
     },
     "metadata": {},
     "output_type": "display_data"
    }
   ],
   "source": [
    "m_rank = graphlab.recommender.ranking_factorization_recommender.create(train, 'user_id', 'movie_id', 'rating', \n",
    "                                     unobserved_rating_value=3)"
   ]
  },
  {
   "cell_type": "code",
   "execution_count": 21,
   "metadata": {
    "collapsed": false
   },
   "outputs": [
    {
     "name": "stdout",
     "output_type": "stream",
     "text": [
      "compare_models: using 183 users to estimate model performance\n",
      "PROGRESS: Evaluate model M0\n",
      "\n",
      "Precision and recall summary statistics by cutoff\n",
      "+--------+-----------------+-----------------+\n",
      "| cutoff |  mean_precision |   mean_recall   |\n",
      "+--------+-----------------+-----------------+\n",
      "|   1    |  0.103825136612 | 0.0116730652166 |\n",
      "|   2    |  0.101092896175 | 0.0282821265133 |\n",
      "|   3    | 0.0819672131148 | 0.0387227556041 |\n",
      "|   4    | 0.0833333333333 |  0.054260741295 |\n",
      "|   5    | 0.0786885245902 | 0.0652009814042 |\n",
      "|   6    | 0.0765027322404 | 0.0758533021658 |\n",
      "|   7    | 0.0772833723653 |  0.087870157321 |\n",
      "|   8    | 0.0785519125683 |  0.10363872715  |\n",
      "|   9    | 0.0740740740741 |  0.108125993351 |\n",
      "|   10   | 0.0743169398907 |  0.125169969412 |\n",
      "+--------+-----------------+-----------------+\n",
      "[10 rows x 3 columns]\n",
      "\n",
      "PROGRESS: Evaluate model M1\n",
      "\n",
      "Precision and recall summary statistics by cutoff\n",
      "+--------+----------------+-----------------+\n",
      "| cutoff | mean_precision |   mean_recall   |\n",
      "+--------+----------------+-----------------+\n",
      "|   1    | 0.16393442623  |  0.033918559494 |\n",
      "|   2    | 0.166666666667 | 0.0559035280067 |\n",
      "|   3    | 0.158469945355 | 0.0802610557096 |\n",
      "|   4    | 0.147540983607 | 0.0993935937697 |\n",
      "|   5    | 0.138797814208 |  0.116006405262 |\n",
      "|   6    | 0.128415300546 |  0.125824450712 |\n",
      "|   7    | 0.128805620609 |  0.148368313836 |\n",
      "|   8    |     0.125      |  0.162294248876 |\n",
      "|   9    | 0.12204007286  |  0.173015991344 |\n",
      "|   10   | 0.117486338798 |  0.18606052953  |\n",
      "+--------+----------------+-----------------+\n",
      "[10 rows x 3 columns]\n",
      "\n",
      "PROGRESS: Evaluate model M2\n",
      "\n",
      "Precision and recall summary statistics by cutoff\n",
      "+--------+----------------+-----------------+\n",
      "| cutoff | mean_precision |   mean_recall   |\n",
      "+--------+----------------+-----------------+\n",
      "|   1    | 0.24043715847  |  0.032990686752 |\n",
      "|   2    | 0.196721311475 | 0.0593716586723 |\n",
      "|   3    | 0.187613843352 | 0.0783908312908 |\n",
      "|   4    | 0.180327868852 |  0.102234190817 |\n",
      "|   5    | 0.16393442623  |  0.120610724355 |\n",
      "|   6    | 0.159380692168 |  0.140119556509 |\n",
      "|   7    | 0.152224824356 |  0.157806327365 |\n",
      "|   8    | 0.142759562842 |  0.166809497193 |\n",
      "|   9    | 0.137826350941 |  0.175280850522 |\n",
      "|   10   | 0.134972677596 |  0.186140806231 |\n",
      "+--------+----------------+-----------------+\n",
      "[10 rows x 3 columns]\n",
      "\n",
      "PROGRESS: Evaluate model M3\n",
      "\n",
      "Precision and recall summary statistics by cutoff\n",
      "+--------+----------------+-----------------+\n",
      "| cutoff | mean_precision |   mean_recall   |\n",
      "+--------+----------------+-----------------+\n",
      "|   1    | 0.114754098361 | 0.0220448212961 |\n",
      "|   2    | 0.120218579235 | 0.0351999242985 |\n",
      "|   3    | 0.111111111111 | 0.0445415535372 |\n",
      "|   4    | 0.106557377049 |  0.052975921608 |\n",
      "|   5    | 0.110382513661 |  0.076614241225 |\n",
      "|   6    | 0.111111111111 | 0.0956858236539 |\n",
      "|   7    | 0.110850897736 |  0.113159656127 |\n",
      "|   8    | 0.106557377049 |  0.121421484491 |\n",
      "|   9    | 0.102610807529 |  0.136444329342 |\n",
      "|   10   | 0.101092896175 |  0.14669712098  |\n",
      "+--------+----------------+-----------------+\n",
      "[10 rows x 3 columns]\n",
      "\n"
     ]
    }
   ],
   "source": [
    "results = graphlab.recommender.util.compare_models(test[test['rating'] > 4], \n",
    "                                              [pop, itemcf, m, m_rank], \n",
    "                                              user_sample=0.2, \n",
    "                                              metric='precision_recall')"
   ]
  },
  {
   "cell_type": "code",
   "execution_count": 28,
   "metadata": {
    "collapsed": false
   },
   "outputs": [
    {
     "data": {
      "text/html": [
       "<div style=\"max-height:1000px;max-width:1500px;overflow:auto;\"><table frame=\"box\" rules=\"cols\">\n",
       "    <tr>\n",
       "        <th style=\"padding-left: 1em; padding-right: 1em; text-align: center\">cutoff</th>\n",
       "        <th style=\"padding-left: 1em; padding-right: 1em; text-align: center\">precision</th>\n",
       "        <th style=\"padding-left: 1em; padding-right: 1em; text-align: center\">recall</th>\n",
       "    </tr>\n",
       "    <tr>\n",
       "        <td style=\"padding-left: 1em; padding-right: 1em; text-align: center; vertical-align: top\">1</td>\n",
       "        <td style=\"padding-left: 1em; padding-right: 1em; text-align: center; vertical-align: top\">0.114754098361</td>\n",
       "        <td style=\"padding-left: 1em; padding-right: 1em; text-align: center; vertical-align: top\">0.0220448212961</td>\n",
       "    </tr>\n",
       "    <tr>\n",
       "        <td style=\"padding-left: 1em; padding-right: 1em; text-align: center; vertical-align: top\">2</td>\n",
       "        <td style=\"padding-left: 1em; padding-right: 1em; text-align: center; vertical-align: top\">0.120218579235</td>\n",
       "        <td style=\"padding-left: 1em; padding-right: 1em; text-align: center; vertical-align: top\">0.0351999242985</td>\n",
       "    </tr>\n",
       "    <tr>\n",
       "        <td style=\"padding-left: 1em; padding-right: 1em; text-align: center; vertical-align: top\">3</td>\n",
       "        <td style=\"padding-left: 1em; padding-right: 1em; text-align: center; vertical-align: top\">0.111111111111</td>\n",
       "        <td style=\"padding-left: 1em; padding-right: 1em; text-align: center; vertical-align: top\">0.0445415535372</td>\n",
       "    </tr>\n",
       "    <tr>\n",
       "        <td style=\"padding-left: 1em; padding-right: 1em; text-align: center; vertical-align: top\">4</td>\n",
       "        <td style=\"padding-left: 1em; padding-right: 1em; text-align: center; vertical-align: top\">0.106557377049</td>\n",
       "        <td style=\"padding-left: 1em; padding-right: 1em; text-align: center; vertical-align: top\">0.052975921608</td>\n",
       "    </tr>\n",
       "    <tr>\n",
       "        <td style=\"padding-left: 1em; padding-right: 1em; text-align: center; vertical-align: top\">5</td>\n",
       "        <td style=\"padding-left: 1em; padding-right: 1em; text-align: center; vertical-align: top\">0.110382513661</td>\n",
       "        <td style=\"padding-left: 1em; padding-right: 1em; text-align: center; vertical-align: top\">0.076614241225</td>\n",
       "    </tr>\n",
       "    <tr>\n",
       "        <td style=\"padding-left: 1em; padding-right: 1em; text-align: center; vertical-align: top\">6</td>\n",
       "        <td style=\"padding-left: 1em; padding-right: 1em; text-align: center; vertical-align: top\">0.111111111111</td>\n",
       "        <td style=\"padding-left: 1em; padding-right: 1em; text-align: center; vertical-align: top\">0.0956858236539</td>\n",
       "    </tr>\n",
       "    <tr>\n",
       "        <td style=\"padding-left: 1em; padding-right: 1em; text-align: center; vertical-align: top\">7</td>\n",
       "        <td style=\"padding-left: 1em; padding-right: 1em; text-align: center; vertical-align: top\">0.110850897736</td>\n",
       "        <td style=\"padding-left: 1em; padding-right: 1em; text-align: center; vertical-align: top\">0.113159656127</td>\n",
       "    </tr>\n",
       "    <tr>\n",
       "        <td style=\"padding-left: 1em; padding-right: 1em; text-align: center; vertical-align: top\">8</td>\n",
       "        <td style=\"padding-left: 1em; padding-right: 1em; text-align: center; vertical-align: top\">0.106557377049</td>\n",
       "        <td style=\"padding-left: 1em; padding-right: 1em; text-align: center; vertical-align: top\">0.121421484491</td>\n",
       "    </tr>\n",
       "    <tr>\n",
       "        <td style=\"padding-left: 1em; padding-right: 1em; text-align: center; vertical-align: top\">9</td>\n",
       "        <td style=\"padding-left: 1em; padding-right: 1em; text-align: center; vertical-align: top\">0.102610807529</td>\n",
       "        <td style=\"padding-left: 1em; padding-right: 1em; text-align: center; vertical-align: top\">0.136444329342</td>\n",
       "    </tr>\n",
       "    <tr>\n",
       "        <td style=\"padding-left: 1em; padding-right: 1em; text-align: center; vertical-align: top\">10</td>\n",
       "        <td style=\"padding-left: 1em; padding-right: 1em; text-align: center; vertical-align: top\">0.101092896175</td>\n",
       "        <td style=\"padding-left: 1em; padding-right: 1em; text-align: center; vertical-align: top\">0.14669712098</td>\n",
       "    </tr>\n",
       "</table>\n",
       "[18 rows x 3 columns]<br/>Note: Only the head of the SFrame is printed.<br/>You can use print_rows(num_rows=m, num_columns=n) to print more rows and columns.\n",
       "</div>"
      ],
      "text/plain": [
       "Columns:\n",
       "\tcutoff\tint\n",
       "\tprecision\tfloat\n",
       "\trecall\tfloat\n",
       "\n",
       "Rows: 18\n",
       "\n",
       "Data:\n",
       "+--------+----------------+-----------------+\n",
       "| cutoff |   precision    |      recall     |\n",
       "+--------+----------------+-----------------+\n",
       "|   1    | 0.114754098361 | 0.0220448212961 |\n",
       "|   2    | 0.120218579235 | 0.0351999242985 |\n",
       "|   3    | 0.111111111111 | 0.0445415535372 |\n",
       "|   4    | 0.106557377049 |  0.052975921608 |\n",
       "|   5    | 0.110382513661 |  0.076614241225 |\n",
       "|   6    | 0.111111111111 | 0.0956858236539 |\n",
       "|   7    | 0.110850897736 |  0.113159656127 |\n",
       "|   8    | 0.106557377049 |  0.121421484491 |\n",
       "|   9    | 0.102610807529 |  0.136444329342 |\n",
       "|   10   | 0.101092896175 |  0.14669712098  |\n",
       "+--------+----------------+-----------------+\n",
       "[18 rows x 3 columns]\n",
       "Note: Only the head of the SFrame is printed.\n",
       "You can use print_rows(num_rows=m, num_columns=n) to print more rows and columns."
      ]
     },
     "execution_count": 28,
     "metadata": {},
     "output_type": "execute_result"
    }
   ],
   "source": [
    "results[3]['precision_recall_overall']"
   ]
  },
  {
   "cell_type": "markdown",
   "metadata": {},
   "source": [
    "### Experimenting with side features"
   ]
  },
  {
   "cell_type": "code",
   "execution_count": 29,
   "metadata": {
    "collapsed": false
   },
   "outputs": [],
   "source": [
    "user_sf = graphlab.SFrame('users')\n",
    "item_sf = graphlab.SFrame('items')"
   ]
  },
  {
   "cell_type": "code",
   "execution_count": 30,
   "metadata": {
    "collapsed": false
   },
   "outputs": [
    {
     "data": {
      "text/html": [
       "<pre>Recsys training: model = ranking_factorization_recommender</pre>"
      ],
      "text/plain": [
       "Recsys training: model = ranking_factorization_recommender"
      ]
     },
     "metadata": {},
     "output_type": "display_data"
    },
    {
     "data": {
      "text/html": [
       "<pre>Preparing data set.</pre>"
      ],
      "text/plain": [
       "Preparing data set."
      ]
     },
     "metadata": {},
     "output_type": "display_data"
    },
    {
     "data": {
      "text/html": [
       "<pre>    Data has 965508 observations with 6040 users and 3706 items.</pre>"
      ],
      "text/plain": [
       "    Data has 965508 observations with 6040 users and 3706 items."
      ]
     },
     "metadata": {},
     "output_type": "display_data"
    },
    {
     "data": {
      "text/html": [
       "<pre>    Data prepared in: 0.872319s</pre>"
      ],
      "text/plain": [
       "    Data prepared in: 0.872319s"
      ]
     },
     "metadata": {},
     "output_type": "display_data"
    },
    {
     "data": {
      "text/html": [
       "<pre>Training ranking_factorization_recommender for recommendations.</pre>"
      ],
      "text/plain": [
       "Training ranking_factorization_recommender for recommendations."
      ]
     },
     "metadata": {},
     "output_type": "display_data"
    },
    {
     "data": {
      "text/html": [
       "<pre>+--------------------------------+--------------------------------------------------+----------+</pre>"
      ],
      "text/plain": [
       "+--------------------------------+--------------------------------------------------+----------+"
      ]
     },
     "metadata": {},
     "output_type": "display_data"
    },
    {
     "data": {
      "text/html": [
       "<pre>| Parameter                      | Description                                      | Value    |</pre>"
      ],
      "text/plain": [
       "| Parameter                      | Description                                      | Value    |"
      ]
     },
     "metadata": {},
     "output_type": "display_data"
    },
    {
     "data": {
      "text/html": [
       "<pre>+--------------------------------+--------------------------------------------------+----------+</pre>"
      ],
      "text/plain": [
       "+--------------------------------+--------------------------------------------------+----------+"
      ]
     },
     "metadata": {},
     "output_type": "display_data"
    },
    {
     "data": {
      "text/html": [
       "<pre>| num_factors                    | Factor Dimension                                 | 32       |</pre>"
      ],
      "text/plain": [
       "| num_factors                    | Factor Dimension                                 | 32       |"
      ]
     },
     "metadata": {},
     "output_type": "display_data"
    },
    {
     "data": {
      "text/html": [
       "<pre>| regularization                 | L2 Regularization on Factors                     | 1e-09    |</pre>"
      ],
      "text/plain": [
       "| regularization                 | L2 Regularization on Factors                     | 1e-09    |"
      ]
     },
     "metadata": {},
     "output_type": "display_data"
    },
    {
     "data": {
      "text/html": [
       "<pre>| solver                         | Solver used for training                         | adagrad  |</pre>"
      ],
      "text/plain": [
       "| solver                         | Solver used for training                         | adagrad  |"
      ]
     },
     "metadata": {},
     "output_type": "display_data"
    },
    {
     "data": {
      "text/html": [
       "<pre>| linear_regularization          | L2 Regularization on Linear Coefficients         | 1e-09    |</pre>"
      ],
      "text/plain": [
       "| linear_regularization          | L2 Regularization on Linear Coefficients         | 1e-09    |"
      ]
     },
     "metadata": {},
     "output_type": "display_data"
    },
    {
     "data": {
      "text/html": [
       "<pre>| ranking_regularization         | Rank-based Regularization Weight                 | 0.25     |</pre>"
      ],
      "text/plain": [
       "| ranking_regularization         | Rank-based Regularization Weight                 | 0.25     |"
      ]
     },
     "metadata": {},
     "output_type": "display_data"
    },
    {
     "data": {
      "text/html": [
       "<pre>| side_data_factorization        | Assign Factors for Side Data                     | True     |</pre>"
      ],
      "text/plain": [
       "| side_data_factorization        | Assign Factors for Side Data                     | True     |"
      ]
     },
     "metadata": {},
     "output_type": "display_data"
    },
    {
     "data": {
      "text/html": [
       "<pre>| max_iterations                 | Maximum Number of Iterations                     | 25       |</pre>"
      ],
      "text/plain": [
       "| max_iterations                 | Maximum Number of Iterations                     | 25       |"
      ]
     },
     "metadata": {},
     "output_type": "display_data"
    },
    {
     "data": {
      "text/html": [
       "<pre>+--------------------------------+--------------------------------------------------+----------+</pre>"
      ],
      "text/plain": [
       "+--------------------------------+--------------------------------------------------+----------+"
      ]
     },
     "metadata": {},
     "output_type": "display_data"
    },
    {
     "data": {
      "text/html": [
       "<pre>  Optimizing model using SGD; tuning step size.</pre>"
      ],
      "text/plain": [
       "  Optimizing model using SGD; tuning step size."
      ]
     },
     "metadata": {},
     "output_type": "display_data"
    },
    {
     "data": {
      "text/html": [
       "<pre>  Using 120688 / 965508 points for tuning the step size.</pre>"
      ],
      "text/plain": [
       "  Using 120688 / 965508 points for tuning the step size."
      ]
     },
     "metadata": {},
     "output_type": "display_data"
    },
    {
     "data": {
      "text/html": [
       "<pre>+---------+-------------------+------------------------------------------+</pre>"
      ],
      "text/plain": [
       "+---------+-------------------+------------------------------------------+"
      ]
     },
     "metadata": {},
     "output_type": "display_data"
    },
    {
     "data": {
      "text/html": [
       "<pre>| Attempt | Initial Step Size | Estimated Objective Value                |</pre>"
      ],
      "text/plain": [
       "| Attempt | Initial Step Size | Estimated Objective Value                |"
      ]
     },
     "metadata": {},
     "output_type": "display_data"
    },
    {
     "data": {
      "text/html": [
       "<pre>+---------+-------------------+------------------------------------------+</pre>"
      ],
      "text/plain": [
       "+---------+-------------------+------------------------------------------+"
      ]
     },
     "metadata": {},
     "output_type": "display_data"
    },
    {
     "data": {
      "text/html": [
       "<pre>| 0       | 7.14286           | Not Viable                               |</pre>"
      ],
      "text/plain": [
       "| 0       | 7.14286           | Not Viable                               |"
      ]
     },
     "metadata": {},
     "output_type": "display_data"
    },
    {
     "data": {
      "text/html": [
       "<pre>| 1       | 1.78571           | Not Viable                               |</pre>"
      ],
      "text/plain": [
       "| 1       | 1.78571           | Not Viable                               |"
      ]
     },
     "metadata": {},
     "output_type": "display_data"
    },
    {
     "data": {
      "text/html": [
       "<pre>| 2       | 0.446429          | 1.52387                                  |</pre>"
      ],
      "text/plain": [
       "| 2       | 0.446429          | 1.52387                                  |"
      ]
     },
     "metadata": {},
     "output_type": "display_data"
    },
    {
     "data": {
      "text/html": [
       "<pre>| 3       | 0.223214          | Not Viable                               |</pre>"
      ],
      "text/plain": [
       "| 3       | 0.223214          | Not Viable                               |"
      ]
     },
     "metadata": {},
     "output_type": "display_data"
    },
    {
     "data": {
      "text/html": [
       "<pre>| 4       | 0.0558036         | 1.79945                                  |</pre>"
      ],
      "text/plain": [
       "| 4       | 0.0558036         | 1.79945                                  |"
      ]
     },
     "metadata": {},
     "output_type": "display_data"
    },
    {
     "data": {
      "text/html": [
       "<pre>| 5       | 0.0279018         | 1.78969                                  |</pre>"
      ],
      "text/plain": [
       "| 5       | 0.0279018         | 1.78969                                  |"
      ]
     },
     "metadata": {},
     "output_type": "display_data"
    },
    {
     "data": {
      "text/html": [
       "<pre>+---------+-------------------+------------------------------------------+</pre>"
      ],
      "text/plain": [
       "+---------+-------------------+------------------------------------------+"
      ]
     },
     "metadata": {},
     "output_type": "display_data"
    },
    {
     "data": {
      "text/html": [
       "<pre>| Final   | 0.446429          | 1.52387                                  |</pre>"
      ],
      "text/plain": [
       "| Final   | 0.446429          | 1.52387                                  |"
      ]
     },
     "metadata": {},
     "output_type": "display_data"
    },
    {
     "data": {
      "text/html": [
       "<pre>+---------+-------------------+------------------------------------------+</pre>"
      ],
      "text/plain": [
       "+---------+-------------------+------------------------------------------+"
      ]
     },
     "metadata": {},
     "output_type": "display_data"
    },
    {
     "data": {
      "text/html": [
       "<pre>Starting Optimization.</pre>"
      ],
      "text/plain": [
       "Starting Optimization."
      ]
     },
     "metadata": {},
     "output_type": "display_data"
    },
    {
     "data": {
      "text/html": [
       "<pre>+---------+--------------+-------------------+-----------------------+-------------+</pre>"
      ],
      "text/plain": [
       "+---------+--------------+-------------------+-----------------------+-------------+"
      ]
     },
     "metadata": {},
     "output_type": "display_data"
    },
    {
     "data": {
      "text/html": [
       "<pre>| Iter.   | Elapsed Time | Approx. Objective | Approx. Training RMSE | Step Size   |</pre>"
      ],
      "text/plain": [
       "| Iter.   | Elapsed Time | Approx. Objective | Approx. Training RMSE | Step Size   |"
      ]
     },
     "metadata": {},
     "output_type": "display_data"
    },
    {
     "data": {
      "text/html": [
       "<pre>+---------+--------------+-------------------+-----------------------+-------------+</pre>"
      ],
      "text/plain": [
       "+---------+--------------+-------------------+-----------------------+-------------+"
      ]
     },
     "metadata": {},
     "output_type": "display_data"
    },
    {
     "data": {
      "text/html": [
       "<pre>| Initial | 63us         | 2.44592           | 1.11697               |             |</pre>"
      ],
      "text/plain": [
       "| Initial | 63us         | 2.44592           | 1.11697               |             |"
      ]
     },
     "metadata": {},
     "output_type": "display_data"
    },
    {
     "data": {
      "text/html": [
       "<pre>+---------+--------------+-------------------+-----------------------+-------------+</pre>"
      ],
      "text/plain": [
       "+---------+--------------+-------------------+-----------------------+-------------+"
      ]
     },
     "metadata": {},
     "output_type": "display_data"
    },
    {
     "data": {
      "text/html": [
       "<pre>| 1       | 2.13s        | DIVERGED          | DIVERGED              | 0.446429    |</pre>"
      ],
      "text/plain": [
       "| 1       | 2.13s        | DIVERGED          | DIVERGED              | 0.446429    |"
      ]
     },
     "metadata": {},
     "output_type": "display_data"
    },
    {
     "data": {
      "text/html": [
       "<pre>| RESET   | 2.99s        | 2.44647           | 1.11698               |             |</pre>"
      ],
      "text/plain": [
       "| RESET   | 2.99s        | 2.44647           | 1.11698               |             |"
      ]
     },
     "metadata": {},
     "output_type": "display_data"
    },
    {
     "data": {
      "text/html": [
       "<pre>| 1       | 5.10s        | 1.83529           | 1.10141               | 0.223214    |</pre>"
      ],
      "text/plain": [
       "| 1       | 5.10s        | 1.83529           | 1.10141               | 0.223214    |"
      ]
     },
     "metadata": {},
     "output_type": "display_data"
    },
    {
     "data": {
      "text/html": [
       "<pre>| 2       | 6.90s        | 1.47109           | 0.95455               | 0.223214    |</pre>"
      ],
      "text/plain": [
       "| 2       | 6.90s        | 1.47109           | 0.95455               | 0.223214    |"
      ]
     },
     "metadata": {},
     "output_type": "display_data"
    },
    {
     "data": {
      "text/html": [
       "<pre>| 3       | 8.80s        | 1.36577           | 0.917865              | 0.223214    |</pre>"
      ],
      "text/plain": [
       "| 3       | 8.80s        | 1.36577           | 0.917865              | 0.223214    |"
      ]
     },
     "metadata": {},
     "output_type": "display_data"
    },
    {
     "data": {
      "text/html": [
       "<pre>| 4       | 10.62s       | 1.31007           | 0.897384              | 0.223214    |</pre>"
      ],
      "text/plain": [
       "| 4       | 10.62s       | 1.31007           | 0.897384              | 0.223214    |"
      ]
     },
     "metadata": {},
     "output_type": "display_data"
    },
    {
     "data": {
      "text/html": [
       "<pre>| 5       | 12.44s       | 1.27125           | 0.883491              | 0.223214    |</pre>"
      ],
      "text/plain": [
       "| 5       | 12.44s       | 1.27125           | 0.883491              | 0.223214    |"
      ]
     },
     "metadata": {},
     "output_type": "display_data"
    },
    {
     "data": {
      "text/html": [
       "<pre>| 6       | 14.67s       | 1.24635           | 0.873351              | 0.223214    |</pre>"
      ],
      "text/plain": [
       "| 6       | 14.67s       | 1.24635           | 0.873351              | 0.223214    |"
      ]
     },
     "metadata": {},
     "output_type": "display_data"
    },
    {
     "data": {
      "text/html": [
       "<pre>| 7       | 16.70s       | 1.22622           | 0.865748              | 0.223214    |</pre>"
      ],
      "text/plain": [
       "| 7       | 16.70s       | 1.22622           | 0.865748              | 0.223214    |"
      ]
     },
     "metadata": {},
     "output_type": "display_data"
    },
    {
     "data": {
      "text/html": [
       "<pre>| 8       | 18.63s       | 1.21028           | 0.859754              | 0.223214    |</pre>"
      ],
      "text/plain": [
       "| 8       | 18.63s       | 1.21028           | 0.859754              | 0.223214    |"
      ]
     },
     "metadata": {},
     "output_type": "display_data"
    },
    {
     "data": {
      "text/html": [
       "<pre>| 9       | 20.50s       | 1.19796           | 0.854523              | 0.223214    |</pre>"
      ],
      "text/plain": [
       "| 9       | 20.50s       | 1.19796           | 0.854523              | 0.223214    |"
      ]
     },
     "metadata": {},
     "output_type": "display_data"
    },
    {
     "data": {
      "text/html": [
       "<pre>| 10      | 22.46s       | 1.18689           | 0.850478              | 0.223214    |</pre>"
      ],
      "text/plain": [
       "| 10      | 22.46s       | 1.18689           | 0.850478              | 0.223214    |"
      ]
     },
     "metadata": {},
     "output_type": "display_data"
    },
    {
     "data": {
      "text/html": [
       "<pre>| 11      | 24.31s       | 1.1783            | 0.846785              | 0.223214    |</pre>"
      ],
      "text/plain": [
       "| 11      | 24.31s       | 1.1783            | 0.846785              | 0.223214    |"
      ]
     },
     "metadata": {},
     "output_type": "display_data"
    },
    {
     "data": {
      "text/html": [
       "<pre>| 12      | 26.18s       | 1.17084           | 0.84352               | 0.223214    |</pre>"
      ],
      "text/plain": [
       "| 12      | 26.18s       | 1.17084           | 0.84352               | 0.223214    |"
      ]
     },
     "metadata": {},
     "output_type": "display_data"
    },
    {
     "data": {
      "text/html": [
       "<pre>| 13      | 28.07s       | 1.16355           | 0.840745              | 0.223214    |</pre>"
      ],
      "text/plain": [
       "| 13      | 28.07s       | 1.16355           | 0.840745              | 0.223214    |"
      ]
     },
     "metadata": {},
     "output_type": "display_data"
    },
    {
     "data": {
      "text/html": [
       "<pre>| 14      | 29.97s       | 1.15711           | 0.838398              | 0.223214    |</pre>"
      ],
      "text/plain": [
       "| 14      | 29.97s       | 1.15711           | 0.838398              | 0.223214    |"
      ]
     },
     "metadata": {},
     "output_type": "display_data"
    },
    {
     "data": {
      "text/html": [
       "<pre>| 15      | 32.09s       | 1.15247           | 0.836416              | 0.223214    |</pre>"
      ],
      "text/plain": [
       "| 15      | 32.09s       | 1.15247           | 0.836416              | 0.223214    |"
      ]
     },
     "metadata": {},
     "output_type": "display_data"
    },
    {
     "data": {
      "text/html": [
       "<pre>| 16      | 34.04s       | 1.14785           | 0.83443               | 0.223214    |</pre>"
      ],
      "text/plain": [
       "| 16      | 34.04s       | 1.14785           | 0.83443               | 0.223214    |"
      ]
     },
     "metadata": {},
     "output_type": "display_data"
    },
    {
     "data": {
      "text/html": [
       "<pre>| 17      | 36.25s       | 1.14331           | 0.832546              | 0.223214    |</pre>"
      ],
      "text/plain": [
       "| 17      | 36.25s       | 1.14331           | 0.832546              | 0.223214    |"
      ]
     },
     "metadata": {},
     "output_type": "display_data"
    },
    {
     "data": {
      "text/html": [
       "<pre>| 18      | 38.41s       | 1.13848           | 0.830724              | 0.223214    |</pre>"
      ],
      "text/plain": [
       "| 18      | 38.41s       | 1.13848           | 0.830724              | 0.223214    |"
      ]
     },
     "metadata": {},
     "output_type": "display_data"
    },
    {
     "data": {
      "text/html": [
       "<pre>| 19      | 40.34s       | 1.13683           | 0.82959               | 0.223214    |</pre>"
      ],
      "text/plain": [
       "| 19      | 40.34s       | 1.13683           | 0.82959               | 0.223214    |"
      ]
     },
     "metadata": {},
     "output_type": "display_data"
    },
    {
     "data": {
      "text/html": [
       "<pre>| 20      | 42.39s       | 1.13266           | 0.828052              | 0.223214    |</pre>"
      ],
      "text/plain": [
       "| 20      | 42.39s       | 1.13266           | 0.828052              | 0.223214    |"
      ]
     },
     "metadata": {},
     "output_type": "display_data"
    },
    {
     "data": {
      "text/html": [
       "<pre>| 21      | 44.75s       | 1.13008           | 0.827049              | 0.223214    |</pre>"
      ],
      "text/plain": [
       "| 21      | 44.75s       | 1.13008           | 0.827049              | 0.223214    |"
      ]
     },
     "metadata": {},
     "output_type": "display_data"
    },
    {
     "data": {
      "text/html": [
       "<pre>| 22      | 47.05s       | 1.12695           | 0.82589               | 0.223214    |</pre>"
      ],
      "text/plain": [
       "| 22      | 47.05s       | 1.12695           | 0.82589               | 0.223214    |"
      ]
     },
     "metadata": {},
     "output_type": "display_data"
    },
    {
     "data": {
      "text/html": [
       "<pre>| 23      | 49.58s       | 1.12374           | 0.824564              | 0.223214    |</pre>"
      ],
      "text/plain": [
       "| 23      | 49.58s       | 1.12374           | 0.824564              | 0.223214    |"
      ]
     },
     "metadata": {},
     "output_type": "display_data"
    },
    {
     "data": {
      "text/html": [
       "<pre>| 24      | 51.93s       | 1.12202           | 0.823962              | 0.223214    |</pre>"
      ],
      "text/plain": [
       "| 24      | 51.93s       | 1.12202           | 0.823962              | 0.223214    |"
      ]
     },
     "metadata": {},
     "output_type": "display_data"
    },
    {
     "data": {
      "text/html": [
       "<pre>| 25      | 54.30s       | 1.12015           | 0.822855              | 0.223214    |</pre>"
      ],
      "text/plain": [
       "| 25      | 54.30s       | 1.12015           | 0.822855              | 0.223214    |"
      ]
     },
     "metadata": {},
     "output_type": "display_data"
    },
    {
     "data": {
      "text/html": [
       "<pre>+---------+--------------+-------------------+-----------------------+-------------+</pre>"
      ],
      "text/plain": [
       "+---------+--------------+-------------------+-----------------------+-------------+"
      ]
     },
     "metadata": {},
     "output_type": "display_data"
    },
    {
     "data": {
      "text/html": [
       "<pre>Optimization Complete: Maximum number of passes through the data reached.</pre>"
      ],
      "text/plain": [
       "Optimization Complete: Maximum number of passes through the data reached."
      ]
     },
     "metadata": {},
     "output_type": "display_data"
    },
    {
     "data": {
      "text/html": [
       "<pre>Computing final objective value and training RMSE.</pre>"
      ],
      "text/plain": [
       "Computing final objective value and training RMSE."
      ]
     },
     "metadata": {},
     "output_type": "display_data"
    },
    {
     "data": {
      "text/html": [
       "<pre>       Final objective value: 1.12099</pre>"
      ],
      "text/plain": [
       "       Final objective value: 1.12099"
      ]
     },
     "metadata": {},
     "output_type": "display_data"
    },
    {
     "data": {
      "text/html": [
       "<pre>       Final training RMSE: 0.797943</pre>"
      ],
      "text/plain": [
       "       Final training RMSE: 0.797943"
      ]
     },
     "metadata": {},
     "output_type": "display_data"
    },
    {
     "data": {
      "text/html": [
       "<pre>Recsys training: model = ranking_factorization_recommender</pre>"
      ],
      "text/plain": [
       "Recsys training: model = ranking_factorization_recommender"
      ]
     },
     "metadata": {},
     "output_type": "display_data"
    },
    {
     "data": {
      "text/html": [
       "<pre>Preparing data set.</pre>"
      ],
      "text/plain": [
       "Preparing data set."
      ]
     },
     "metadata": {},
     "output_type": "display_data"
    },
    {
     "data": {
      "text/html": [
       "<pre>    Data has 965508 observations with 6040 users and 3883 items.</pre>"
      ],
      "text/plain": [
       "    Data has 965508 observations with 6040 users and 3883 items."
      ]
     },
     "metadata": {},
     "output_type": "display_data"
    },
    {
     "data": {
      "text/html": [
       "<pre>    Data prepared in: 1.16364s</pre>"
      ],
      "text/plain": [
       "    Data prepared in: 1.16364s"
      ]
     },
     "metadata": {},
     "output_type": "display_data"
    },
    {
     "data": {
      "text/html": [
       "<pre>Training ranking_factorization_recommender for recommendations.</pre>"
      ],
      "text/plain": [
       "Training ranking_factorization_recommender for recommendations."
      ]
     },
     "metadata": {},
     "output_type": "display_data"
    },
    {
     "data": {
      "text/html": [
       "<pre>+--------------------------------+--------------------------------------------------+----------+</pre>"
      ],
      "text/plain": [
       "+--------------------------------+--------------------------------------------------+----------+"
      ]
     },
     "metadata": {},
     "output_type": "display_data"
    },
    {
     "data": {
      "text/html": [
       "<pre>| Parameter                      | Description                                      | Value    |</pre>"
      ],
      "text/plain": [
       "| Parameter                      | Description                                      | Value    |"
      ]
     },
     "metadata": {},
     "output_type": "display_data"
    },
    {
     "data": {
      "text/html": [
       "<pre>+--------------------------------+--------------------------------------------------+----------+</pre>"
      ],
      "text/plain": [
       "+--------------------------------+--------------------------------------------------+----------+"
      ]
     },
     "metadata": {},
     "output_type": "display_data"
    },
    {
     "data": {
      "text/html": [
       "<pre>| num_factors                    | Factor Dimension                                 | 32       |</pre>"
      ],
      "text/plain": [
       "| num_factors                    | Factor Dimension                                 | 32       |"
      ]
     },
     "metadata": {},
     "output_type": "display_data"
    },
    {
     "data": {
      "text/html": [
       "<pre>| regularization                 | L2 Regularization on Factors                     | 1e-09    |</pre>"
      ],
      "text/plain": [
       "| regularization                 | L2 Regularization on Factors                     | 1e-09    |"
      ]
     },
     "metadata": {},
     "output_type": "display_data"
    },
    {
     "data": {
      "text/html": [
       "<pre>| solver                         | Solver used for training                         | adagrad  |</pre>"
      ],
      "text/plain": [
       "| solver                         | Solver used for training                         | adagrad  |"
      ]
     },
     "metadata": {},
     "output_type": "display_data"
    },
    {
     "data": {
      "text/html": [
       "<pre>| linear_regularization          | L2 Regularization on Linear Coefficients         | 1e-09    |</pre>"
      ],
      "text/plain": [
       "| linear_regularization          | L2 Regularization on Linear Coefficients         | 1e-09    |"
      ]
     },
     "metadata": {},
     "output_type": "display_data"
    },
    {
     "data": {
      "text/html": [
       "<pre>| ranking_regularization         | Rank-based Regularization Weight                 | 0.25     |</pre>"
      ],
      "text/plain": [
       "| ranking_regularization         | Rank-based Regularization Weight                 | 0.25     |"
      ]
     },
     "metadata": {},
     "output_type": "display_data"
    },
    {
     "data": {
      "text/html": [
       "<pre>| side_data_factorization        | Assign Factors for Side Data                     | True     |</pre>"
      ],
      "text/plain": [
       "| side_data_factorization        | Assign Factors for Side Data                     | True     |"
      ]
     },
     "metadata": {},
     "output_type": "display_data"
    },
    {
     "data": {
      "text/html": [
       "<pre>| max_iterations                 | Maximum Number of Iterations                     | 25       |</pre>"
      ],
      "text/plain": [
       "| max_iterations                 | Maximum Number of Iterations                     | 25       |"
      ]
     },
     "metadata": {},
     "output_type": "display_data"
    },
    {
     "data": {
      "text/html": [
       "<pre>+--------------------------------+--------------------------------------------------+----------+</pre>"
      ],
      "text/plain": [
       "+--------------------------------+--------------------------------------------------+----------+"
      ]
     },
     "metadata": {},
     "output_type": "display_data"
    },
    {
     "data": {
      "text/html": [
       "<pre>  Optimizing model using SGD; tuning step size.</pre>"
      ],
      "text/plain": [
       "  Optimizing model using SGD; tuning step size."
      ]
     },
     "metadata": {},
     "output_type": "display_data"
    },
    {
     "data": {
      "text/html": [
       "<pre>  Using 120688 / 965508 points for tuning the step size.</pre>"
      ],
      "text/plain": [
       "  Using 120688 / 965508 points for tuning the step size."
      ]
     },
     "metadata": {},
     "output_type": "display_data"
    },
    {
     "data": {
      "text/html": [
       "<pre>+---------+-------------------+------------------------------------------+</pre>"
      ],
      "text/plain": [
       "+---------+-------------------+------------------------------------------+"
      ]
     },
     "metadata": {},
     "output_type": "display_data"
    },
    {
     "data": {
      "text/html": [
       "<pre>| Attempt | Initial Step Size | Estimated Objective Value                |</pre>"
      ],
      "text/plain": [
       "| Attempt | Initial Step Size | Estimated Objective Value                |"
      ]
     },
     "metadata": {},
     "output_type": "display_data"
    },
    {
     "data": {
      "text/html": [
       "<pre>+---------+-------------------+------------------------------------------+</pre>"
      ],
      "text/plain": [
       "+---------+-------------------+------------------------------------------+"
      ]
     },
     "metadata": {},
     "output_type": "display_data"
    },
    {
     "data": {
      "text/html": [
       "<pre>| 0       | 10                | Not Viable                               |</pre>"
      ],
      "text/plain": [
       "| 0       | 10                | Not Viable                               |"
      ]
     },
     "metadata": {},
     "output_type": "display_data"
    },
    {
     "data": {
      "text/html": [
       "<pre>| 1       | 2.5               | Not Viable                               |</pre>"
      ],
      "text/plain": [
       "| 1       | 2.5               | Not Viable                               |"
      ]
     },
     "metadata": {},
     "output_type": "display_data"
    },
    {
     "data": {
      "text/html": [
       "<pre>| 2       | 0.625             | Not Viable                               |</pre>"
      ],
      "text/plain": [
       "| 2       | 0.625             | Not Viable                               |"
      ]
     },
     "metadata": {},
     "output_type": "display_data"
    },
    {
     "data": {
      "text/html": [
       "<pre>| 3       | 0.15625           | 1.08443                                  |</pre>"
      ],
      "text/plain": [
       "| 3       | 0.15625           | 1.08443                                  |"
      ]
     },
     "metadata": {},
     "output_type": "display_data"
    },
    {
     "data": {
      "text/html": [
       "<pre>| 4       | 0.078125          | 1.72974                                  |</pre>"
      ],
      "text/plain": [
       "| 4       | 0.078125          | 1.72974                                  |"
      ]
     },
     "metadata": {},
     "output_type": "display_data"
    },
    {
     "data": {
      "text/html": [
       "<pre>| 5       | 0.0390625         | 1.84654                                  |</pre>"
      ],
      "text/plain": [
       "| 5       | 0.0390625         | 1.84654                                  |"
      ]
     },
     "metadata": {},
     "output_type": "display_data"
    },
    {
     "data": {
      "text/html": [
       "<pre>| 6       | 0.0195312         | 1.74856                                  |</pre>"
      ],
      "text/plain": [
       "| 6       | 0.0195312         | 1.74856                                  |"
      ]
     },
     "metadata": {},
     "output_type": "display_data"
    },
    {
     "data": {
      "text/html": [
       "<pre>+---------+-------------------+------------------------------------------+</pre>"
      ],
      "text/plain": [
       "+---------+-------------------+------------------------------------------+"
      ]
     },
     "metadata": {},
     "output_type": "display_data"
    },
    {
     "data": {
      "text/html": [
       "<pre>| Final   | 0.15625           | 1.08443                                  |</pre>"
      ],
      "text/plain": [
       "| Final   | 0.15625           | 1.08443                                  |"
      ]
     },
     "metadata": {},
     "output_type": "display_data"
    },
    {
     "data": {
      "text/html": [
       "<pre>+---------+-------------------+------------------------------------------+</pre>"
      ],
      "text/plain": [
       "+---------+-------------------+------------------------------------------+"
      ]
     },
     "metadata": {},
     "output_type": "display_data"
    },
    {
     "data": {
      "text/html": [
       "<pre>Starting Optimization.</pre>"
      ],
      "text/plain": [
       "Starting Optimization."
      ]
     },
     "metadata": {},
     "output_type": "display_data"
    },
    {
     "data": {
      "text/html": [
       "<pre>+---------+--------------+-------------------+-----------------------+-------------+</pre>"
      ],
      "text/plain": [
       "+---------+--------------+-------------------+-----------------------+-------------+"
      ]
     },
     "metadata": {},
     "output_type": "display_data"
    },
    {
     "data": {
      "text/html": [
       "<pre>| Iter.   | Elapsed Time | Approx. Objective | Approx. Training RMSE | Step Size   |</pre>"
      ],
      "text/plain": [
       "| Iter.   | Elapsed Time | Approx. Objective | Approx. Training RMSE | Step Size   |"
      ]
     },
     "metadata": {},
     "output_type": "display_data"
    },
    {
     "data": {
      "text/html": [
       "<pre>+---------+--------------+-------------------+-----------------------+-------------+</pre>"
      ],
      "text/plain": [
       "+---------+--------------+-------------------+-----------------------+-------------+"
      ]
     },
     "metadata": {},
     "output_type": "display_data"
    },
    {
     "data": {
      "text/html": [
       "<pre>| Initial | 70us         | 2.44637           | 1.11698               |             |</pre>"
      ],
      "text/plain": [
       "| Initial | 70us         | 2.44637           | 1.11698               |             |"
      ]
     },
     "metadata": {},
     "output_type": "display_data"
    },
    {
     "data": {
      "text/html": [
       "<pre>+---------+--------------+-------------------+-----------------------+-------------+</pre>"
      ],
      "text/plain": [
       "+---------+--------------+-------------------+-----------------------+-------------+"
      ]
     },
     "metadata": {},
     "output_type": "display_data"
    },
    {
     "data": {
      "text/html": [
       "<pre>| 1       | 2.33s        | DIVERGED          | DIVERGED              | 0.15625     |</pre>"
      ],
      "text/plain": [
       "| 1       | 2.33s        | DIVERGED          | DIVERGED              | 0.15625     |"
      ]
     },
     "metadata": {},
     "output_type": "display_data"
    },
    {
     "data": {
      "text/html": [
       "<pre>| RESET   | 3.11s        | 2.44644           | 1.11697               |             |</pre>"
      ],
      "text/plain": [
       "| RESET   | 3.11s        | 2.44644           | 1.11697               |             |"
      ]
     },
     "metadata": {},
     "output_type": "display_data"
    },
    {
     "data": {
      "text/html": [
       "<pre>| 1       | 4.92s        | 1.75622           | 1.06161               | 0.078125    |</pre>"
      ],
      "text/plain": [
       "| 1       | 4.92s        | 1.75622           | 1.06161               | 0.078125    |"
      ]
     },
     "metadata": {},
     "output_type": "display_data"
    },
    {
     "data": {
      "text/html": [
       "<pre>| 2       | 6.57s        | 1.50614           | 0.966049              | 0.078125    |</pre>"
      ],
      "text/plain": [
       "| 2       | 6.57s        | 1.50614           | 0.966049              | 0.078125    |"
      ]
     },
     "metadata": {},
     "output_type": "display_data"
    },
    {
     "data": {
      "text/html": [
       "<pre>| 3       | 8.08s        | 1.4167            | 0.933697              | 0.078125    |</pre>"
      ],
      "text/plain": [
       "| 3       | 8.08s        | 1.4167            | 0.933697              | 0.078125    |"
      ]
     },
     "metadata": {},
     "output_type": "display_data"
    },
    {
     "data": {
      "text/html": [
       "<pre>| 4       | 9.53s        | 1.37077           | 0.917417              | 0.078125    |</pre>"
      ],
      "text/plain": [
       "| 4       | 9.53s        | 1.37077           | 0.917417              | 0.078125    |"
      ]
     },
     "metadata": {},
     "output_type": "display_data"
    },
    {
     "data": {
      "text/html": [
       "<pre>| 5       | 10.99s       | 1.34379           | 0.908108              | 0.078125    |</pre>"
      ],
      "text/plain": [
       "| 5       | 10.99s       | 1.34379           | 0.908108              | 0.078125    |"
      ]
     },
     "metadata": {},
     "output_type": "display_data"
    },
    {
     "data": {
      "text/html": [
       "<pre>| 6       | 12.65s       | 1.32151           | 0.899986              | 0.078125    |</pre>"
      ],
      "text/plain": [
       "| 6       | 12.65s       | 1.32151           | 0.899986              | 0.078125    |"
      ]
     },
     "metadata": {},
     "output_type": "display_data"
    },
    {
     "data": {
      "text/html": [
       "<pre>| 7       | 14.14s       | 1.30427           | 0.89374               | 0.078125    |</pre>"
      ],
      "text/plain": [
       "| 7       | 14.14s       | 1.30427           | 0.89374               | 0.078125    |"
      ]
     },
     "metadata": {},
     "output_type": "display_data"
    },
    {
     "data": {
      "text/html": [
       "<pre>| 8       | 15.59s       | 1.2895            | 0.888268              | 0.078125    |</pre>"
      ],
      "text/plain": [
       "| 8       | 15.59s       | 1.2895            | 0.888268              | 0.078125    |"
      ]
     },
     "metadata": {},
     "output_type": "display_data"
    },
    {
     "data": {
      "text/html": [
       "<pre>| 9       | 17.03s       | 1.27727           | 0.884087              | 0.078125    |</pre>"
      ],
      "text/plain": [
       "| 9       | 17.03s       | 1.27727           | 0.884087              | 0.078125    |"
      ]
     },
     "metadata": {},
     "output_type": "display_data"
    },
    {
     "data": {
      "text/html": [
       "<pre>| 10      | 18.47s       | 1.2662            | 0.879697              | 0.078125    |</pre>"
      ],
      "text/plain": [
       "| 10      | 18.47s       | 1.2662            | 0.879697              | 0.078125    |"
      ]
     },
     "metadata": {},
     "output_type": "display_data"
    },
    {
     "data": {
      "text/html": [
       "<pre>| 11      | 19.91s       | 1.25785           | 0.876548              | 0.078125    |</pre>"
      ],
      "text/plain": [
       "| 11      | 19.91s       | 1.25785           | 0.876548              | 0.078125    |"
      ]
     },
     "metadata": {},
     "output_type": "display_data"
    },
    {
     "data": {
      "text/html": [
       "<pre>| 12      | 21.33s       | 1.24893           | 0.873322              | 0.078125    |</pre>"
      ],
      "text/plain": [
       "| 12      | 21.33s       | 1.24893           | 0.873322              | 0.078125    |"
      ]
     },
     "metadata": {},
     "output_type": "display_data"
    },
    {
     "data": {
      "text/html": [
       "<pre>| 13      | 22.73s       | 1.24222           | 0.870908              | 0.078125    |</pre>"
      ],
      "text/plain": [
       "| 13      | 22.73s       | 1.24222           | 0.870908              | 0.078125    |"
      ]
     },
     "metadata": {},
     "output_type": "display_data"
    },
    {
     "data": {
      "text/html": [
       "<pre>| 14      | 24.17s       | 1.23693           | 0.868724              | 0.078125    |</pre>"
      ],
      "text/plain": [
       "| 14      | 24.17s       | 1.23693           | 0.868724              | 0.078125    |"
      ]
     },
     "metadata": {},
     "output_type": "display_data"
    },
    {
     "data": {
      "text/html": [
       "<pre>| 15      | 25.64s       | 1.23104           | 0.866697              | 0.078125    |</pre>"
      ],
      "text/plain": [
       "| 15      | 25.64s       | 1.23104           | 0.866697              | 0.078125    |"
      ]
     },
     "metadata": {},
     "output_type": "display_data"
    },
    {
     "data": {
      "text/html": [
       "<pre>| 16      | 27.07s       | 1.22657           | 0.865066              | 0.078125    |</pre>"
      ],
      "text/plain": [
       "| 16      | 27.07s       | 1.22657           | 0.865066              | 0.078125    |"
      ]
     },
     "metadata": {},
     "output_type": "display_data"
    },
    {
     "data": {
      "text/html": [
       "<pre>| 17      | 28.47s       | 1.22185           | 0.86311               | 0.078125    |</pre>"
      ],
      "text/plain": [
       "| 17      | 28.47s       | 1.22185           | 0.86311               | 0.078125    |"
      ]
     },
     "metadata": {},
     "output_type": "display_data"
    },
    {
     "data": {
      "text/html": [
       "<pre>| 18      | 29.90s       | 1.21603           | 0.860832              | 0.078125    |</pre>"
      ],
      "text/plain": [
       "| 18      | 29.90s       | 1.21603           | 0.860832              | 0.078125    |"
      ]
     },
     "metadata": {},
     "output_type": "display_data"
    },
    {
     "data": {
      "text/html": [
       "<pre>| 19      | 31.34s       | 1.21214           | 0.859841              | 0.078125    |</pre>"
      ],
      "text/plain": [
       "| 19      | 31.34s       | 1.21214           | 0.859841              | 0.078125    |"
      ]
     },
     "metadata": {},
     "output_type": "display_data"
    },
    {
     "data": {
      "text/html": [
       "<pre>| 20      | 32.75s       | 1.20866           | 0.858349              | 0.078125    |</pre>"
      ],
      "text/plain": [
       "| 20      | 32.75s       | 1.20866           | 0.858349              | 0.078125    |"
      ]
     },
     "metadata": {},
     "output_type": "display_data"
    },
    {
     "data": {
      "text/html": [
       "<pre>| 21      | 34.17s       | 1.20588           | 0.857265              | 0.078125    |</pre>"
      ],
      "text/plain": [
       "| 21      | 34.17s       | 1.20588           | 0.857265              | 0.078125    |"
      ]
     },
     "metadata": {},
     "output_type": "display_data"
    },
    {
     "data": {
      "text/html": [
       "<pre>| 22      | 35.59s       | 1.2013            | 0.855384              | 0.078125    |</pre>"
      ],
      "text/plain": [
       "| 22      | 35.59s       | 1.2013            | 0.855384              | 0.078125    |"
      ]
     },
     "metadata": {},
     "output_type": "display_data"
    },
    {
     "data": {
      "text/html": [
       "<pre>| 23      | 36.98s       | 1.19868           | 0.854415              | 0.078125    |</pre>"
      ],
      "text/plain": [
       "| 23      | 36.98s       | 1.19868           | 0.854415              | 0.078125    |"
      ]
     },
     "metadata": {},
     "output_type": "display_data"
    },
    {
     "data": {
      "text/html": [
       "<pre>| 24      | 38.40s       | 1.19618           | 0.8536                | 0.078125    |</pre>"
      ],
      "text/plain": [
       "| 24      | 38.40s       | 1.19618           | 0.8536                | 0.078125    |"
      ]
     },
     "metadata": {},
     "output_type": "display_data"
    },
    {
     "data": {
      "text/html": [
       "<pre>| 25      | 39.82s       | 1.19373           | 0.852524              | 0.078125    |</pre>"
      ],
      "text/plain": [
       "| 25      | 39.82s       | 1.19373           | 0.852524              | 0.078125    |"
      ]
     },
     "metadata": {},
     "output_type": "display_data"
    },
    {
     "data": {
      "text/html": [
       "<pre>+---------+--------------+-------------------+-----------------------+-------------+</pre>"
      ],
      "text/plain": [
       "+---------+--------------+-------------------+-----------------------+-------------+"
      ]
     },
     "metadata": {},
     "output_type": "display_data"
    },
    {
     "data": {
      "text/html": [
       "<pre>Optimization Complete: Maximum number of passes through the data reached.</pre>"
      ],
      "text/plain": [
       "Optimization Complete: Maximum number of passes through the data reached."
      ]
     },
     "metadata": {},
     "output_type": "display_data"
    },
    {
     "data": {
      "text/html": [
       "<pre>Computing final objective value and training RMSE.</pre>"
      ],
      "text/plain": [
       "Computing final objective value and training RMSE."
      ]
     },
     "metadata": {},
     "output_type": "display_data"
    },
    {
     "data": {
      "text/html": [
       "<pre>       Final objective value: 1.22299</pre>"
      ],
      "text/plain": [
       "       Final objective value: 1.22299"
      ]
     },
     "metadata": {},
     "output_type": "display_data"
    },
    {
     "data": {
      "text/html": [
       "<pre>       Final training RMSE: 0.842974</pre>"
      ],
      "text/plain": [
       "       Final training RMSE: 0.842974"
      ]
     },
     "metadata": {},
     "output_type": "display_data"
    },
    {
     "data": {
      "text/html": [
       "<pre>Recsys training: model = ranking_factorization_recommender</pre>"
      ],
      "text/plain": [
       "Recsys training: model = ranking_factorization_recommender"
      ]
     },
     "metadata": {},
     "output_type": "display_data"
    },
    {
     "data": {
      "text/html": [
       "<pre>Preparing data set.</pre>"
      ],
      "text/plain": [
       "Preparing data set."
      ]
     },
     "metadata": {},
     "output_type": "display_data"
    },
    {
     "data": {
      "text/html": [
       "<pre>    Data has 965508 observations with 6040 users and 3883 items.</pre>"
      ],
      "text/plain": [
       "    Data has 965508 observations with 6040 users and 3883 items."
      ]
     },
     "metadata": {},
     "output_type": "display_data"
    },
    {
     "data": {
      "text/html": [
       "<pre>    Data prepared in: 0.897359s</pre>"
      ],
      "text/plain": [
       "    Data prepared in: 0.897359s"
      ]
     },
     "metadata": {},
     "output_type": "display_data"
    },
    {
     "data": {
      "text/html": [
       "<pre>Training ranking_factorization_recommender for recommendations.</pre>"
      ],
      "text/plain": [
       "Training ranking_factorization_recommender for recommendations."
      ]
     },
     "metadata": {},
     "output_type": "display_data"
    },
    {
     "data": {
      "text/html": [
       "<pre>+--------------------------------+--------------------------------------------------+----------+</pre>"
      ],
      "text/plain": [
       "+--------------------------------+--------------------------------------------------+----------+"
      ]
     },
     "metadata": {},
     "output_type": "display_data"
    },
    {
     "data": {
      "text/html": [
       "<pre>| Parameter                      | Description                                      | Value    |</pre>"
      ],
      "text/plain": [
       "| Parameter                      | Description                                      | Value    |"
      ]
     },
     "metadata": {},
     "output_type": "display_data"
    },
    {
     "data": {
      "text/html": [
       "<pre>+--------------------------------+--------------------------------------------------+----------+</pre>"
      ],
      "text/plain": [
       "+--------------------------------+--------------------------------------------------+----------+"
      ]
     },
     "metadata": {},
     "output_type": "display_data"
    },
    {
     "data": {
      "text/html": [
       "<pre>| num_factors                    | Factor Dimension                                 | 32       |</pre>"
      ],
      "text/plain": [
       "| num_factors                    | Factor Dimension                                 | 32       |"
      ]
     },
     "metadata": {},
     "output_type": "display_data"
    },
    {
     "data": {
      "text/html": [
       "<pre>| regularization                 | L2 Regularization on Factors                     | 1e-09    |</pre>"
      ],
      "text/plain": [
       "| regularization                 | L2 Regularization on Factors                     | 1e-09    |"
      ]
     },
     "metadata": {},
     "output_type": "display_data"
    },
    {
     "data": {
      "text/html": [
       "<pre>| solver                         | Solver used for training                         | adagrad  |</pre>"
      ],
      "text/plain": [
       "| solver                         | Solver used for training                         | adagrad  |"
      ]
     },
     "metadata": {},
     "output_type": "display_data"
    },
    {
     "data": {
      "text/html": [
       "<pre>| linear_regularization          | L2 Regularization on Linear Coefficients         | 1e-09    |</pre>"
      ],
      "text/plain": [
       "| linear_regularization          | L2 Regularization on Linear Coefficients         | 1e-09    |"
      ]
     },
     "metadata": {},
     "output_type": "display_data"
    },
    {
     "data": {
      "text/html": [
       "<pre>| ranking_regularization         | Rank-based Regularization Weight                 | 0.25     |</pre>"
      ],
      "text/plain": [
       "| ranking_regularization         | Rank-based Regularization Weight                 | 0.25     |"
      ]
     },
     "metadata": {},
     "output_type": "display_data"
    },
    {
     "data": {
      "text/html": [
       "<pre>| side_data_factorization        | Assign Factors for Side Data                     | True     |</pre>"
      ],
      "text/plain": [
       "| side_data_factorization        | Assign Factors for Side Data                     | True     |"
      ]
     },
     "metadata": {},
     "output_type": "display_data"
    },
    {
     "data": {
      "text/html": [
       "<pre>| max_iterations                 | Maximum Number of Iterations                     | 25       |</pre>"
      ],
      "text/plain": [
       "| max_iterations                 | Maximum Number of Iterations                     | 25       |"
      ]
     },
     "metadata": {},
     "output_type": "display_data"
    },
    {
     "data": {
      "text/html": [
       "<pre>+--------------------------------+--------------------------------------------------+----------+</pre>"
      ],
      "text/plain": [
       "+--------------------------------+--------------------------------------------------+----------+"
      ]
     },
     "metadata": {},
     "output_type": "display_data"
    },
    {
     "data": {
      "text/html": [
       "<pre>  Optimizing model using SGD; tuning step size.</pre>"
      ],
      "text/plain": [
       "  Optimizing model using SGD; tuning step size."
      ]
     },
     "metadata": {},
     "output_type": "display_data"
    },
    {
     "data": {
      "text/html": [
       "<pre>  Using 120688 / 965508 points for tuning the step size.</pre>"
      ],
      "text/plain": [
       "  Using 120688 / 965508 points for tuning the step size."
      ]
     },
     "metadata": {},
     "output_type": "display_data"
    },
    {
     "data": {
      "text/html": [
       "<pre>+---------+-------------------+------------------------------------------+</pre>"
      ],
      "text/plain": [
       "+---------+-------------------+------------------------------------------+"
      ]
     },
     "metadata": {},
     "output_type": "display_data"
    },
    {
     "data": {
      "text/html": [
       "<pre>| Attempt | Initial Step Size | Estimated Objective Value                |</pre>"
      ],
      "text/plain": [
       "| Attempt | Initial Step Size | Estimated Objective Value                |"
      ]
     },
     "metadata": {},
     "output_type": "display_data"
    },
    {
     "data": {
      "text/html": [
       "<pre>+---------+-------------------+------------------------------------------+</pre>"
      ],
      "text/plain": [
       "+---------+-------------------+------------------------------------------+"
      ]
     },
     "metadata": {},
     "output_type": "display_data"
    },
    {
     "data": {
      "text/html": [
       "<pre>| 0       | 5.55556           | Not Viable                               |</pre>"
      ],
      "text/plain": [
       "| 0       | 5.55556           | Not Viable                               |"
      ]
     },
     "metadata": {},
     "output_type": "display_data"
    },
    {
     "data": {
      "text/html": [
       "<pre>| 1       | 1.38889           | Not Viable                               |</pre>"
      ],
      "text/plain": [
       "| 1       | 1.38889           | Not Viable                               |"
      ]
     },
     "metadata": {},
     "output_type": "display_data"
    },
    {
     "data": {
      "text/html": [
       "<pre>| 2       | 0.347222          | 1.41163                                  |</pre>"
      ],
      "text/plain": [
       "| 2       | 0.347222          | 1.41163                                  |"
      ]
     },
     "metadata": {},
     "output_type": "display_data"
    },
    {
     "data": {
      "text/html": [
       "<pre>| 3       | 0.173611          | 1.06475                                  |</pre>"
      ],
      "text/plain": [
       "| 3       | 0.173611          | 1.06475                                  |"
      ]
     },
     "metadata": {},
     "output_type": "display_data"
    },
    {
     "data": {
      "text/html": [
       "<pre>| 4       | 0.0868056         | 1.03146                                  |</pre>"
      ],
      "text/plain": [
       "| 4       | 0.0868056         | 1.03146                                  |"
      ]
     },
     "metadata": {},
     "output_type": "display_data"
    },
    {
     "data": {
      "text/html": [
       "<pre>| 5       | 0.0434028         | 1.1885                                   |</pre>"
      ],
      "text/plain": [
       "| 5       | 0.0434028         | 1.1885                                   |"
      ]
     },
     "metadata": {},
     "output_type": "display_data"
    },
    {
     "data": {
      "text/html": [
       "<pre>| 6       | 0.0217014         | 1.54004                                  |</pre>"
      ],
      "text/plain": [
       "| 6       | 0.0217014         | 1.54004                                  |"
      ]
     },
     "metadata": {},
     "output_type": "display_data"
    },
    {
     "data": {
      "text/html": [
       "<pre>| 7       | 0.0108507         | 1.77557                                  |</pre>"
      ],
      "text/plain": [
       "| 7       | 0.0108507         | 1.77557                                  |"
      ]
     },
     "metadata": {},
     "output_type": "display_data"
    },
    {
     "data": {
      "text/html": [
       "<pre>+---------+-------------------+------------------------------------------+</pre>"
      ],
      "text/plain": [
       "+---------+-------------------+------------------------------------------+"
      ]
     },
     "metadata": {},
     "output_type": "display_data"
    },
    {
     "data": {
      "text/html": [
       "<pre>| Final   | 0.0868056         | 1.03146                                  |</pre>"
      ],
      "text/plain": [
       "| Final   | 0.0868056         | 1.03146                                  |"
      ]
     },
     "metadata": {},
     "output_type": "display_data"
    },
    {
     "data": {
      "text/html": [
       "<pre>+---------+-------------------+------------------------------------------+</pre>"
      ],
      "text/plain": [
       "+---------+-------------------+------------------------------------------+"
      ]
     },
     "metadata": {},
     "output_type": "display_data"
    },
    {
     "data": {
      "text/html": [
       "<pre>Starting Optimization.</pre>"
      ],
      "text/plain": [
       "Starting Optimization."
      ]
     },
     "metadata": {},
     "output_type": "display_data"
    },
    {
     "data": {
      "text/html": [
       "<pre>+---------+--------------+-------------------+-----------------------+-------------+</pre>"
      ],
      "text/plain": [
       "+---------+--------------+-------------------+-----------------------+-------------+"
      ]
     },
     "metadata": {},
     "output_type": "display_data"
    },
    {
     "data": {
      "text/html": [
       "<pre>| Iter.   | Elapsed Time | Approx. Objective | Approx. Training RMSE | Step Size   |</pre>"
      ],
      "text/plain": [
       "| Iter.   | Elapsed Time | Approx. Objective | Approx. Training RMSE | Step Size   |"
      ]
     },
     "metadata": {},
     "output_type": "display_data"
    },
    {
     "data": {
      "text/html": [
       "<pre>+---------+--------------+-------------------+-----------------------+-------------+</pre>"
      ],
      "text/plain": [
       "+---------+--------------+-------------------+-----------------------+-------------+"
      ]
     },
     "metadata": {},
     "output_type": "display_data"
    },
    {
     "data": {
      "text/html": [
       "<pre>| Initial | 70us         | 2.4467            | 1.117                 |             |</pre>"
      ],
      "text/plain": [
       "| Initial | 70us         | 2.4467            | 1.117                 |             |"
      ]
     },
     "metadata": {},
     "output_type": "display_data"
    },
    {
     "data": {
      "text/html": [
       "<pre>+---------+--------------+-------------------+-----------------------+-------------+</pre>"
      ],
      "text/plain": [
       "+---------+--------------+-------------------+-----------------------+-------------+"
      ]
     },
     "metadata": {},
     "output_type": "display_data"
    },
    {
     "data": {
      "text/html": [
       "<pre>| 1       | 3.02s        | DIVERGED          | DIVERGED              | 0.0868056   |</pre>"
      ],
      "text/plain": [
       "| 1       | 3.02s        | DIVERGED          | DIVERGED              | 0.0868056   |"
      ]
     },
     "metadata": {},
     "output_type": "display_data"
    },
    {
     "data": {
      "text/html": [
       "<pre>| RESET   | 3.97s        | 2.4468            | 1.11698               |             |</pre>"
      ],
      "text/plain": [
       "| RESET   | 3.97s        | 2.4468            | 1.11698               |             |"
      ]
     },
     "metadata": {},
     "output_type": "display_data"
    },
    {
     "data": {
      "text/html": [
       "<pre>| 1       | 6.22s        | 1.56747           | 1.00211               | 0.0434028   |</pre>"
      ],
      "text/plain": [
       "| 1       | 6.22s        | 1.56747           | 1.00211               | 0.0434028   |"
      ]
     },
     "metadata": {},
     "output_type": "display_data"
    },
    {
     "data": {
      "text/html": [
       "<pre>| 2       | 8.40s        | 1.4123            | 0.936364              | 0.0434028   |</pre>"
      ],
      "text/plain": [
       "| 2       | 8.40s        | 1.4123            | 0.936364              | 0.0434028   |"
      ]
     },
     "metadata": {},
     "output_type": "display_data"
    },
    {
     "data": {
      "text/html": [
       "<pre>| 3       | 10.61s       | 1.34465           | 0.91251               | 0.0434028   |</pre>"
      ],
      "text/plain": [
       "| 3       | 10.61s       | 1.34465           | 0.91251               | 0.0434028   |"
      ]
     },
     "metadata": {},
     "output_type": "display_data"
    },
    {
     "data": {
      "text/html": [
       "<pre>| 4       | 13.00s       | 1.30528           | 0.898029              | 0.0434028   |</pre>"
      ],
      "text/plain": [
       "| 4       | 13.00s       | 1.30528           | 0.898029              | 0.0434028   |"
      ]
     },
     "metadata": {},
     "output_type": "display_data"
    },
    {
     "data": {
      "text/html": [
       "<pre>| 5       | 15.21s       | 1.27777           | 0.887646              | 0.0434028   |</pre>"
      ],
      "text/plain": [
       "| 5       | 15.21s       | 1.27777           | 0.887646              | 0.0434028   |"
      ]
     },
     "metadata": {},
     "output_type": "display_data"
    },
    {
     "data": {
      "text/html": [
       "<pre>| 6       | 18.09s       | 1.25523           | 0.879139              | 0.0434028   |</pre>"
      ],
      "text/plain": [
       "| 6       | 18.09s       | 1.25523           | 0.879139              | 0.0434028   |"
      ]
     },
     "metadata": {},
     "output_type": "display_data"
    },
    {
     "data": {
      "text/html": [
       "<pre>| 7       | 20.54s       | 1.23908           | 0.872961              | 0.0434028   |</pre>"
      ],
      "text/plain": [
       "| 7       | 20.54s       | 1.23908           | 0.872961              | 0.0434028   |"
      ]
     },
     "metadata": {},
     "output_type": "display_data"
    },
    {
     "data": {
      "text/html": [
       "<pre>| 8       | 22.79s       | 1.22569           | 0.867368              | 0.0434028   |</pre>"
      ],
      "text/plain": [
       "| 8       | 22.79s       | 1.22569           | 0.867368              | 0.0434028   |"
      ]
     },
     "metadata": {},
     "output_type": "display_data"
    },
    {
     "data": {
      "text/html": [
       "<pre>| 9       | 25.25s       | 1.21337           | 0.862705              | 0.0434028   |</pre>"
      ],
      "text/plain": [
       "| 9       | 25.25s       | 1.21337           | 0.862705              | 0.0434028   |"
      ]
     },
     "metadata": {},
     "output_type": "display_data"
    },
    {
     "data": {
      "text/html": [
       "<pre>| 10      | 28.35s       | 1.20338           | 0.858906              | 0.0434028   |</pre>"
      ],
      "text/plain": [
       "| 10      | 28.35s       | 1.20338           | 0.858906              | 0.0434028   |"
      ]
     },
     "metadata": {},
     "output_type": "display_data"
    },
    {
     "data": {
      "text/html": [
       "<pre>| 11      | 31.26s       | 1.19501           | 0.855631              | 0.0434028   |</pre>"
      ],
      "text/plain": [
       "| 11      | 31.26s       | 1.19501           | 0.855631              | 0.0434028   |"
      ]
     },
     "metadata": {},
     "output_type": "display_data"
    },
    {
     "data": {
      "text/html": [
       "<pre>| 12      | 33.70s       | 1.18678           | 0.852674              | 0.0434028   |</pre>"
      ],
      "text/plain": [
       "| 12      | 33.70s       | 1.18678           | 0.852674              | 0.0434028   |"
      ]
     },
     "metadata": {},
     "output_type": "display_data"
    },
    {
     "data": {
      "text/html": [
       "<pre>| 13      | 35.86s       | 1.18128           | 0.850198              | 0.0434028   |</pre>"
      ],
      "text/plain": [
       "| 13      | 35.86s       | 1.18128           | 0.850198              | 0.0434028   |"
      ]
     },
     "metadata": {},
     "output_type": "display_data"
    },
    {
     "data": {
      "text/html": [
       "<pre>| 14      | 38.05s       | 1.17569           | 0.847772              | 0.0434028   |</pre>"
      ],
      "text/plain": [
       "| 14      | 38.05s       | 1.17569           | 0.847772              | 0.0434028   |"
      ]
     },
     "metadata": {},
     "output_type": "display_data"
    },
    {
     "data": {
      "text/html": [
       "<pre>| 15      | 40.25s       | 1.16953           | 0.845739              | 0.0434028   |</pre>"
      ],
      "text/plain": [
       "| 15      | 40.25s       | 1.16953           | 0.845739              | 0.0434028   |"
      ]
     },
     "metadata": {},
     "output_type": "display_data"
    },
    {
     "data": {
      "text/html": [
       "<pre>| 16      | 42.45s       | 1.16479           | 0.843867              | 0.0434028   |</pre>"
      ],
      "text/plain": [
       "| 16      | 42.45s       | 1.16479           | 0.843867              | 0.0434028   |"
      ]
     },
     "metadata": {},
     "output_type": "display_data"
    },
    {
     "data": {
      "text/html": [
       "<pre>| 17      | 44.62s       | 1.16132           | 0.842166              | 0.0434028   |</pre>"
      ],
      "text/plain": [
       "| 17      | 44.62s       | 1.16132           | 0.842166              | 0.0434028   |"
      ]
     },
     "metadata": {},
     "output_type": "display_data"
    },
    {
     "data": {
      "text/html": [
       "<pre>| 18      | 46.80s       | 1.15646           | 0.840656              | 0.0434028   |</pre>"
      ],
      "text/plain": [
       "| 18      | 46.80s       | 1.15646           | 0.840656              | 0.0434028   |"
      ]
     },
     "metadata": {},
     "output_type": "display_data"
    },
    {
     "data": {
      "text/html": [
       "<pre>| 19      | 48.95s       | 1.15327           | 0.838994              | 0.0434028   |</pre>"
      ],
      "text/plain": [
       "| 19      | 48.95s       | 1.15327           | 0.838994              | 0.0434028   |"
      ]
     },
     "metadata": {},
     "output_type": "display_data"
    },
    {
     "data": {
      "text/html": [
       "<pre>| 20      | 51.21s       | 1.15068           | 0.837869              | 0.0434028   |</pre>"
      ],
      "text/plain": [
       "| 20      | 51.21s       | 1.15068           | 0.837869              | 0.0434028   |"
      ]
     },
     "metadata": {},
     "output_type": "display_data"
    },
    {
     "data": {
      "text/html": [
       "<pre>| 21      | 53.40s       | 1.14713           | 0.836618              | 0.0434028   |</pre>"
      ],
      "text/plain": [
       "| 21      | 53.40s       | 1.14713           | 0.836618              | 0.0434028   |"
      ]
     },
     "metadata": {},
     "output_type": "display_data"
    },
    {
     "data": {
      "text/html": [
       "<pre>| 22      | 55.60s       | 1.14393           | 0.835341              | 0.0434028   |</pre>"
      ],
      "text/plain": [
       "| 22      | 55.60s       | 1.14393           | 0.835341              | 0.0434028   |"
      ]
     },
     "metadata": {},
     "output_type": "display_data"
    },
    {
     "data": {
      "text/html": [
       "<pre>| 23      | 57.78s       | 1.14105           | 0.834355              | 0.0434028   |</pre>"
      ],
      "text/plain": [
       "| 23      | 57.78s       | 1.14105           | 0.834355              | 0.0434028   |"
      ]
     },
     "metadata": {},
     "output_type": "display_data"
    },
    {
     "data": {
      "text/html": [
       "<pre>| 24      | 59.92s       | 1.13905           | 0.833327              | 0.0434028   |</pre>"
      ],
      "text/plain": [
       "| 24      | 59.92s       | 1.13905           | 0.833327              | 0.0434028   |"
      ]
     },
     "metadata": {},
     "output_type": "display_data"
    },
    {
     "data": {
      "text/html": [
       "<pre>| 25      | 1m 2s        | 1.13617           | 0.832308              | 0.0434028   |</pre>"
      ],
      "text/plain": [
       "| 25      | 1m 2s        | 1.13617           | 0.832308              | 0.0434028   |"
      ]
     },
     "metadata": {},
     "output_type": "display_data"
    },
    {
     "data": {
      "text/html": [
       "<pre>+---------+--------------+-------------------+-----------------------+-------------+</pre>"
      ],
      "text/plain": [
       "+---------+--------------+-------------------+-----------------------+-------------+"
      ]
     },
     "metadata": {},
     "output_type": "display_data"
    },
    {
     "data": {
      "text/html": [
       "<pre>Optimization Complete: Maximum number of passes through the data reached.</pre>"
      ],
      "text/plain": [
       "Optimization Complete: Maximum number of passes through the data reached."
      ]
     },
     "metadata": {},
     "output_type": "display_data"
    },
    {
     "data": {
      "text/html": [
       "<pre>Computing final objective value and training RMSE.</pre>"
      ],
      "text/plain": [
       "Computing final objective value and training RMSE."
      ]
     },
     "metadata": {},
     "output_type": "display_data"
    },
    {
     "data": {
      "text/html": [
       "<pre>       Final objective value: 1.16266</pre>"
      ],
      "text/plain": [
       "       Final objective value: 1.16266"
      ]
     },
     "metadata": {},
     "output_type": "display_data"
    },
    {
     "data": {
      "text/html": [
       "<pre>       Final training RMSE: 0.822791</pre>"
      ],
      "text/plain": [
       "       Final training RMSE: 0.822791"
      ]
     },
     "metadata": {},
     "output_type": "display_data"
    }
   ],
   "source": [
    "m_user = graphlab.recommender.create(train, 'user_id', 'movie_id', 'rating', \n",
    "                                     user_data=user_sf)\n",
    "m_item = graphlab.recommender.create(train, 'user_id', 'movie_id', 'rating', \n",
    "                                     item_data=item_sf)\n",
    "m_both = graphlab.recommender.create(train, 'user_id', 'movie_id', 'rating', \n",
    "                                     user_data=user_sf, item_data=item_sf)"
   ]
  },
  {
   "cell_type": "code",
   "execution_count": 31,
   "metadata": {
    "collapsed": false
   },
   "outputs": [
    {
     "data": {
      "text/plain": [
       "Class                           : RankingFactorizationRecommender\n",
       "\n",
       "Schema\n",
       "------\n",
       "User ID                         : user_id\n",
       "Item ID                         : movie_id\n",
       "Target                          : rating\n",
       "Additional observation features : 1\n",
       "Number of user side features    : 5\n",
       "Number of item side features    : 3\n",
       "\n",
       "Statistics\n",
       "----------\n",
       "Number of observations          : 965508\n",
       "Number of users                 : 6040\n",
       "Number of items                 : 3883\n",
       "\n",
       "Training summary\n",
       "----------------\n",
       "Training time                   : 74.1749\n",
       "\n",
       "Model Parameters\n",
       "----------------\n",
       "Model class                     : RankingFactorizationRecommender\n",
       "num_factors                     : 32\n",
       "binary_target                   : 0\n",
       "side_data_factorization         : 1\n",
       "solver                          : auto\n",
       "nmf                             : 0\n",
       "max_iterations                  : 25\n",
       "\n",
       "Regularization Settings\n",
       "-----------------------\n",
       "regularization                  : 0.0\n",
       "regularization_type             : normal\n",
       "linear_regularization           : 0.0\n",
       "ranking_regularization          : 0.25\n",
       "unobserved_rating_value         : -1.79769313486e+308\n",
       "num_sampled_negative_examples   : 4\n",
       "ials_confidence_scaling_type    : auto\n",
       "ials_confidence_scaling_factor  : 1\n",
       "\n",
       "Optimization Settings\n",
       "---------------------\n",
       "init_random_sigma               : 0.01\n",
       "sgd_convergence_interval        : 4\n",
       "sgd_convergence_threshold       : 0.0\n",
       "sgd_max_trial_iterations        : 5\n",
       "sgd_sampling_block_size         : 131072\n",
       "sgd_step_adjustment_interval    : 4\n",
       "sgd_step_size                   : 0.0\n",
       "sgd_trial_sample_minimum_size   : 10000\n",
       "sgd_trial_sample_proportion     : 0.125\n",
       "step_size_decrease_rate         : 0.75\n",
       "additional_iterations_if_unhealthy: 5\n",
       "adagrad_momentum_weighting      : 0.9\n",
       "num_tempering_iterations        : 4\n",
       "tempering_regularization_start_value: 0.0\n",
       "track_exact_loss                : 0"
      ]
     },
     "execution_count": 31,
     "metadata": {},
     "output_type": "execute_result"
    }
   ],
   "source": [
    "m_both"
   ]
  },
  {
   "cell_type": "code",
   "execution_count": 32,
   "metadata": {
    "collapsed": false
   },
   "outputs": [
    {
     "name": "stdout",
     "output_type": "stream",
     "text": [
      "compare_models: using 200 users to estimate model performance\n",
      "PROGRESS: Evaluate model M0\n",
      "\n",
      "Precision and recall summary statistics by cutoff\n",
      "+--------+----------------+-----------------+\n",
      "| cutoff | mean_precision |   mean_recall   |\n",
      "+--------+----------------+-----------------+\n",
      "|   1    |     0.305      | 0.0104911692762 |\n",
      "|   2    |     0.3075     | 0.0218598413174 |\n",
      "|   3    | 0.298333333333 | 0.0312188865716 |\n",
      "|   4    |    0.28375     | 0.0416981002021 |\n",
      "|   5    |     0.267      | 0.0490821420076 |\n",
      "|   6    |     0.255      | 0.0566601620839 |\n",
      "|   7    | 0.244285714286 | 0.0634873210823 |\n",
      "|   8    |     0.2325     | 0.0671075588864 |\n",
      "|   9    | 0.227222222222 | 0.0732309783629 |\n",
      "|   10   |      0.22      | 0.0778109177835 |\n",
      "+--------+----------------+-----------------+\n",
      "[10 rows x 3 columns]\n",
      "\n",
      "('\\nOverall RMSE: ', 0.9976486246840836)\n",
      "\n",
      "Per User RMSE (best)\n",
      "+---------+-------+----------------+\n",
      "| user_id | count |      rmse      |\n",
      "+---------+-------+----------------+\n",
      "|   4259  |   4   | 0.482071967797 |\n",
      "+---------+-------+----------------+\n",
      "[1 rows x 3 columns]\n",
      "\n",
      "\n",
      "Per User RMSE (worst)\n",
      "+---------+-------+---------------+\n",
      "| user_id | count |      rmse     |\n",
      "+---------+-------+---------------+\n",
      "|   3275  |   4   | 1.92700170805 |\n",
      "+---------+-------+---------------+\n",
      "[1 rows x 3 columns]\n",
      "\n",
      "\n",
      "Per Item RMSE (best)\n",
      "+----------+-------+------------------+\n",
      "| movie_id | count |       rmse       |\n",
      "+----------+-------+------------------+\n",
      "|   163    |   1   | 0.00169078452152 |\n",
      "+----------+-------+------------------+\n",
      "[1 rows x 3 columns]\n",
      "\n",
      "\n",
      "Per Item RMSE (worst)\n",
      "+----------+-------+---------------+\n",
      "| movie_id | count |      rmse     |\n",
      "+----------+-------+---------------+\n",
      "|   3196   |   1   | 4.01836458102 |\n",
      "+----------+-------+---------------+\n",
      "[1 rows x 3 columns]\n",
      "\n",
      "PROGRESS: Evaluate model M1\n",
      "\n",
      "Precision and recall summary statistics by cutoff\n",
      "+--------+----------------+-----------------+\n",
      "| cutoff | mean_precision |   mean_recall   |\n",
      "+--------+----------------+-----------------+\n",
      "|   1    |     0.375      | 0.0136968745991 |\n",
      "|   2    |     0.3575     |  0.023755002765 |\n",
      "|   3    |     0.335      | 0.0362605125879 |\n",
      "|   4    |     0.3075     | 0.0423008826942 |\n",
      "|   5    |     0.293      | 0.0497532350863 |\n",
      "|   6    | 0.281666666667 | 0.0578575934232 |\n",
      "|   7    | 0.282142857143 | 0.0671244350417 |\n",
      "|   8    |    0.27125     | 0.0748468085545 |\n",
      "|   9    | 0.262222222222 | 0.0813855604447 |\n",
      "|   10   |      0.26      | 0.0896391608922 |\n",
      "+--------+----------------+-----------------+\n",
      "[10 rows x 3 columns]\n",
      "\n",
      "('\\nOverall RMSE: ', 1.0433027431346846)\n",
      "\n",
      "Per User RMSE (best)\n",
      "+---------+-------+---------------+\n",
      "| user_id | count |      rmse     |\n",
      "+---------+-------+---------------+\n",
      "|   4259  |   4   | 0.24496854802 |\n",
      "+---------+-------+---------------+\n",
      "[1 rows x 3 columns]\n",
      "\n",
      "\n",
      "Per User RMSE (worst)\n",
      "+---------+-------+---------------+\n",
      "| user_id | count |      rmse     |\n",
      "+---------+-------+---------------+\n",
      "|   2912  |   7   | 2.13582589594 |\n",
      "+---------+-------+---------------+\n",
      "[1 rows x 3 columns]\n",
      "\n",
      "\n",
      "Per Item RMSE (best)\n",
      "+----------+-------+------------------+\n",
      "| movie_id | count |       rmse       |\n",
      "+----------+-------+------------------+\n",
      "|   379    |   1   | 0.00331903448671 |\n",
      "+----------+-------+------------------+\n",
      "[1 rows x 3 columns]\n",
      "\n",
      "\n",
      "Per Item RMSE (worst)\n",
      "+----------+-------+---------------+\n",
      "| movie_id | count |      rmse     |\n",
      "+----------+-------+---------------+\n",
      "|   3117   |   1   | 3.61265547345 |\n",
      "+----------+-------+---------------+\n",
      "[1 rows x 3 columns]\n",
      "\n",
      "PROGRESS: Evaluate model M2\n",
      "\n",
      "Precision and recall summary statistics by cutoff\n",
      "+--------+----------------+-----------------+\n",
      "| cutoff | mean_precision |   mean_recall   |\n",
      "+--------+----------------+-----------------+\n",
      "|   1    |     0.355      |  0.01355116837  |\n",
      "|   2    |     0.345      | 0.0247731072461 |\n",
      "|   3    | 0.328333333333 | 0.0346428767624 |\n",
      "|   4    |      0.3       | 0.0417405134962 |\n",
      "|   5    |     0.286      | 0.0496330466776 |\n",
      "|   6    | 0.283333333333 | 0.0607078786391 |\n",
      "|   7    | 0.273571428571 |  0.068217750301 |\n",
      "|   8    |    0.265625    | 0.0745364058279 |\n",
      "|   9    | 0.262777777778 | 0.0821126915135 |\n",
      "|   10   |     0.255      | 0.0868626759608 |\n",
      "+--------+----------------+-----------------+\n",
      "[10 rows x 3 columns]\n",
      "\n",
      "('\\nOverall RMSE: ', 1.0121070979184972)\n",
      "\n",
      "Per User RMSE (best)\n",
      "+---------+-------+----------------+\n",
      "| user_id | count |      rmse      |\n",
      "+---------+-------+----------------+\n",
      "|   4259  |   4   | 0.280887940151 |\n",
      "+---------+-------+----------------+\n",
      "[1 rows x 3 columns]\n",
      "\n",
      "\n",
      "Per User RMSE (worst)\n",
      "+---------+-------+---------------+\n",
      "| user_id | count |      rmse     |\n",
      "+---------+-------+---------------+\n",
      "|   2912  |   7   | 2.21734756181 |\n",
      "+---------+-------+---------------+\n",
      "[1 rows x 3 columns]\n",
      "\n",
      "\n",
      "Per Item RMSE (best)\n",
      "+----------+-------+-------------------+\n",
      "| movie_id | count |        rmse       |\n",
      "+----------+-------+-------------------+\n",
      "|   1283   |   1   | 0.000539099143753 |\n",
      "+----------+-------+-------------------+\n",
      "[1 rows x 3 columns]\n",
      "\n",
      "\n",
      "Per Item RMSE (worst)\n",
      "+----------+-------+---------------+\n",
      "| movie_id | count |      rmse     |\n",
      "+----------+-------+---------------+\n",
      "|   1806   |   1   | 3.39939804512 |\n",
      "+----------+-------+---------------+\n",
      "[1 rows x 3 columns]\n",
      "\n",
      "PROGRESS: Evaluate model M3\n",
      "\n",
      "Precision and recall summary statistics by cutoff\n",
      "+--------+----------------+-----------------+\n",
      "| cutoff | mean_precision |   mean_recall   |\n",
      "+--------+----------------+-----------------+\n",
      "|   1    |      0.4       | 0.0173755798355 |\n",
      "|   2    |     0.3625     | 0.0265019144168 |\n",
      "|   3    | 0.338333333333 | 0.0380391678111 |\n",
      "|   4    |     0.3275     | 0.0479764485634 |\n",
      "|   5    |     0.312      | 0.0576493349033 |\n",
      "|   6    | 0.299166666667 | 0.0654828586353 |\n",
      "|   7    | 0.295714285714 | 0.0760004175285 |\n",
      "|   8    |      0.29      | 0.0841766126368 |\n",
      "|   9    | 0.286666666667 |  0.093854767667 |\n",
      "|   10   |     0.2755     | 0.0995420682121 |\n",
      "+--------+----------------+-----------------+\n",
      "[10 rows x 3 columns]\n",
      "\n",
      "('\\nOverall RMSE: ', 0.9936036664127302)\n",
      "\n",
      "Per User RMSE (best)\n",
      "+---------+-------+----------------+\n",
      "| user_id | count |      rmse      |\n",
      "+---------+-------+----------------+\n",
      "|   4259  |   4   | 0.397063536039 |\n",
      "+---------+-------+----------------+\n",
      "[1 rows x 3 columns]\n",
      "\n",
      "\n",
      "Per User RMSE (worst)\n",
      "+---------+-------+---------------+\n",
      "| user_id | count |      rmse     |\n",
      "+---------+-------+---------------+\n",
      "|   2912  |   7   | 2.01561012851 |\n",
      "+---------+-------+---------------+\n",
      "[1 rows x 3 columns]\n",
      "\n",
      "\n",
      "Per Item RMSE (best)\n",
      "+----------+-------+------------------+\n",
      "| movie_id | count |       rmse       |\n",
      "+----------+-------+------------------+\n",
      "|   849    |   1   | 0.00179710693082 |\n",
      "+----------+-------+------------------+\n",
      "[1 rows x 3 columns]\n",
      "\n",
      "\n",
      "Per Item RMSE (worst)\n",
      "+----------+-------+---------------+\n",
      "| movie_id | count |      rmse     |\n",
      "+----------+-------+---------------+\n",
      "|   3806   |   1   | 3.81246875723 |\n",
      "+----------+-------+---------------+\n",
      "[1 rows x 3 columns]\n",
      "\n"
     ]
    }
   ],
   "source": [
    "results = graphlab.recommender.util.compare_models(test, [m, m_user, m_item, m_both], user_sample=0.2)"
   ]
  },
  {
   "cell_type": "code",
   "execution_count": 33,
   "metadata": {
    "collapsed": false
   },
   "outputs": [
    {
     "data": {
      "text/plain": [
       "[0.9976486246840836,\n",
       " 1.0433027431346846,\n",
       " 1.0121070979184972,\n",
       " 0.9936036664127302]"
      ]
     },
     "execution_count": 33,
     "metadata": {},
     "output_type": "execute_result"
    }
   ],
   "source": [
    "[results[i]['rmse_overall'] for i in range(len(results))]"
   ]
  },
  {
   "cell_type": "code",
   "execution_count": 34,
   "metadata": {
    "collapsed": false
   },
   "outputs": [
    {
     "data": {
      "application/javascript": [
       "$(\"head\").append($(\"<link/>\").attr({\n",
       "  rel:  \"stylesheet\",\n",
       "  type: \"text/css\",\n",
       "  href: \"//cdnjs.cloudflare.com/ajax/libs/font-awesome/4.1.0/css/font-awesome.min.css\"\n",
       "}));\n",
       "$(\"head\").append($(\"<link/>\").attr({\n",
       "  rel:  \"stylesheet\",\n",
       "  type: \"text/css\",\n",
       "  href: \"//dato.com/files/canvas/1.8.5/css/canvas.css\"\n",
       "}));\n",
       "\n",
       "            (function(){\n",
       "\n",
       "                var e = null;\n",
       "                if (typeof element == 'undefined') {\n",
       "                    var scripts = document.getElementsByTagName('script');\n",
       "                    var thisScriptTag = scripts[scripts.length-1];\n",
       "                    var parentDiv = thisScriptTag.parentNode;\n",
       "                    e = document.createElement('div');\n",
       "                    parentDiv.appendChild(e);\n",
       "                } else {\n",
       "                    e = element[0];\n",
       "                }\n",
       "\n",
       "                if (typeof requirejs !== 'undefined') {\n",
       "                    // disable load timeout; ipython_app.js is large and can take a while to load.\n",
       "                    requirejs.config({waitSeconds: 0});\n",
       "                }\n",
       "\n",
       "                require(['//dato.com/files/canvas/1.8.5/js/ipython_app.js'], function(IPythonApp){\n",
       "                    var app = new IPythonApp();\n",
       "                    app.attachView('sframe','Summary', {\"ipython\": true, \"sketch\": {\"count\": {\"std\": 3.4962467057928643, \"complete\": true, \"min\": 1.0, \"max\": 28.0, \"quantile\": [1.0, 1.0, 1.0, 1.0, 1.0, 1.0, 1.0, 1.0, 1.0, 1.0, 1.0, 1.0, 1.0, 1.0, 1.0, 1.0, 1.0, 1.0, 1.0, 1.0, 1.0, 1.0, 1.0, 1.0, 1.0, 1.0, 1.0, 1.0, 1.0, 1.0, 1.0, 1.0, 1.0, 1.0, 2.0, 2.0, 2.0, 2.0, 2.0, 2.0, 2.0, 2.0, 2.0, 2.0, 2.0, 2.0, 2.0, 2.0, 2.0, 2.0, 2.0, 2.0, 2.0, 2.0, 3.0, 3.0, 3.0, 3.0, 3.0, 3.0, 3.0, 3.0, 3.0, 3.0, 3.0, 3.0, 4.0, 4.0, 4.0, 4.0, 4.0, 4.0, 4.0, 4.0, 5.0, 5.0, 5.0, 5.0, 5.0, 5.0, 5.0, 6.0, 6.0, 6.0, 6.0, 6.0, 7.0, 7.0, 7.0, 8.0, 8.0, 8.0, 9.0, 10.0, 10.0, 11.0, 12.0, 13.0, 15.0, 17.0, 28.0], \"median\": 2.0, \"numeric\": true, \"num_unique\": 26, \"num_undefined\": 0, \"var\": 12.223741027767456, \"progress\": 1.0, \"size\": 2057, \"frequent_items\": {\"1\": {\"frequency\": 680, \"value\": 1}, \"2\": {\"frequency\": 415, \"value\": 2}, \"3\": {\"frequency\": 258, \"value\": 3}, \"4\": {\"frequency\": 166, \"value\": 4}, \"5\": {\"frequency\": 134, \"value\": 5}, \"6\": {\"frequency\": 98, \"value\": 6}, \"7\": {\"frequency\": 79, \"value\": 7}, \"8\": {\"frequency\": 43, \"value\": 8}, \"9\": {\"frequency\": 38, \"value\": 9}, \"10\": {\"frequency\": 30, \"value\": 10}, \"11\": {\"frequency\": 33, \"value\": 11}, \"12\": {\"frequency\": 12, \"value\": 12}, \"13\": {\"frequency\": 17, \"value\": 13}, \"14\": {\"frequency\": 12, \"value\": 14}, \"15\": {\"frequency\": 13, \"value\": 15}, \"16\": {\"frequency\": 8, \"value\": 16}, \"17\": {\"frequency\": 4, \"value\": 17}, \"18\": {\"frequency\": 3, \"value\": 18}, \"19\": {\"frequency\": 1, \"value\": 19}, \"20\": {\"frequency\": 3, \"value\": 20}, \"21\": {\"frequency\": 5, \"value\": 21}, \"22\": {\"frequency\": 1, \"value\": 22}, \"23\": {\"frequency\": 1, \"value\": 23}, \"24\": {\"frequency\": 1, \"value\": 24}, \"25\": {\"frequency\": 1, \"value\": 25}, \"28\": {\"frequency\": 1, \"value\": 28}}, \"mean\": 3.5935828877005345}, \"movie_id\": {\"std\": 1132.1668768466666, \"complete\": true, \"min\": 1.0, \"max\": 3952.0, \"quantile\": [1.0, 31.0, 65.0, 110.0, 162.0, 191.0, 228.0, 262.0, 299.0, 337.0, 358.0, 405.0, 436.0, 468.0, 504.0, 533.0, 567.0, 610.0, 685.0, 741.0, 801.0, 880.0, 915.0, 949.0, 999.0, 1030.0, 1063.0, 1100.0, 1150.0, 1197.0, 1221.0, 1245.0, 1268.0, 1291.0, 1333.0, 1363.0, 1394.0, 1440.0, 1482.0, 1535.0, 1581.0, 1611.0, 1648.0, 1689.0, 1733.0, 1792.0, 1856.0, 1914.0, 1953.0, 1974.0, 2014.0, 2040.0, 2076.0, 2103.0, 2126.0, 2159.0, 2195.0, 2259.0, 2290.0, 2324.0, 2356.0, 2385.0, 2409.0, 2443.0, 2476.0, 2525.0, 2555.0, 2606.0, 2654.0, 2701.0, 2728.0, 2762.0, 2802.0, 2844.0, 2888.0, 2926.0, 2976.0, 3016.0, 3048.0, 3088.0, 3120.0, 3160.0, 3198.0, 3251.0, 3272.0, 3330.0, 3371.0, 3409.0, 3450.0, 3484.0, 3521.0, 3565.0, 3618.0, 3665.0, 3698.0, 3733.0, 3767.0, 3810.0, 3851.0, 3900.0, 3952.0], \"median\": 2014.0, \"numeric\": true, \"num_unique\": 2054, \"num_undefined\": 0, \"var\": 1281801.837028735, \"progress\": 1.0, \"size\": 2057, \"frequent_items\": {\"1\": {\"frequency\": 1, \"value\": 1}, \"2\": {\"frequency\": 1, \"value\": 2}, \"3\": {\"frequency\": 1, \"value\": 3}, \"4\": {\"frequency\": 1, \"value\": 4}, \"6\": {\"frequency\": 1, \"value\": 6}, \"7\": {\"frequency\": 1, \"value\": 7}, \"10\": {\"frequency\": 1, \"value\": 10}, \"11\": {\"frequency\": 1, \"value\": 11}, \"12\": {\"frequency\": 1, \"value\": 12}, \"16\": {\"frequency\": 1, \"value\": 16}, \"17\": {\"frequency\": 1, \"value\": 17}, \"18\": {\"frequency\": 1, \"value\": 18}, \"19\": {\"frequency\": 1, \"value\": 19}, \"20\": {\"frequency\": 1, \"value\": 20}, \"21\": {\"frequency\": 1, \"value\": 21}, \"23\": {\"frequency\": 1, \"value\": 23}, \"24\": {\"frequency\": 1, \"value\": 24}, \"25\": {\"frequency\": 1, \"value\": 25}, \"28\": {\"frequency\": 1, \"value\": 28}, \"29\": {\"frequency\": 1, \"value\": 29}, \"31\": {\"frequency\": 1, \"value\": 31}, \"32\": {\"frequency\": 1, \"value\": 32}, \"34\": {\"frequency\": 1, \"value\": 34}, \"36\": {\"frequency\": 1, \"value\": 36}, \"39\": {\"frequency\": 1, \"value\": 39}, \"40\": {\"frequency\": 1, \"value\": 40}, \"41\": {\"frequency\": 1, \"value\": 41}, \"42\": {\"frequency\": 1, \"value\": 42}, \"43\": {\"frequency\": 1, \"value\": 43}, \"44\": {\"frequency\": 1, \"value\": 44}, \"45\": {\"frequency\": 1, \"value\": 45}, \"46\": {\"frequency\": 1, \"value\": 46}, \"47\": {\"frequency\": 1, \"value\": 47}, \"48\": {\"frequency\": 1, \"value\": 48}, \"50\": {\"frequency\": 1, \"value\": 50}, \"52\": {\"frequency\": 1, \"value\": 52}, \"55\": {\"frequency\": 1, \"value\": 55}, \"58\": {\"frequency\": 1, \"value\": 58}, \"60\": {\"frequency\": 1, \"value\": 60}, \"61\": {\"frequency\": 1, \"value\": 61}, \"62\": {\"frequency\": 1, \"value\": 62}, \"65\": {\"frequency\": 1, \"value\": 65}, \"69\": {\"frequency\": 1, \"value\": 69}, \"70\": {\"frequency\": 1, \"value\": 70}, \"73\": {\"frequency\": 1, \"value\": 73}, \"77\": {\"frequency\": 1, \"value\": 77}, \"81\": {\"frequency\": 1, \"value\": 81}, \"84\": {\"frequency\": 1, \"value\": 84}, \"86\": {\"frequency\": 1, \"value\": 86}, \"89\": {\"frequency\": 1, \"value\": 89}, \"93\": {\"frequency\": 1, \"value\": 93}, \"94\": {\"frequency\": 1, \"value\": 94}, \"95\": {\"frequency\": 1, \"value\": 95}, \"97\": {\"frequency\": 1, \"value\": 97}, \"99\": {\"frequency\": 1, \"value\": 99}, \"100\": {\"frequency\": 1, \"value\": 100}, \"101\": {\"frequency\": 1, \"value\": 101}, \"102\": {\"frequency\": 1, \"value\": 102}, \"104\": {\"frequency\": 1, \"value\": 104}, \"105\": {\"frequency\": 1, \"value\": 105}, \"107\": {\"frequency\": 1, \"value\": 107}, \"110\": {\"frequency\": 1, \"value\": 110}, \"111\": {\"frequency\": 1, \"value\": 111}, \"112\": {\"frequency\": 1, \"value\": 112}, \"118\": {\"frequency\": 1, \"value\": 118}, \"122\": {\"frequency\": 1, \"value\": 122}, \"125\": {\"frequency\": 1, \"value\": 125}, \"126\": {\"frequency\": 1, \"value\": 126}, \"135\": {\"frequency\": 1, \"value\": 135}, \"141\": {\"frequency\": 1, \"value\": 141}, \"144\": {\"frequency\": 1, \"value\": 144}, \"145\": {\"frequency\": 1, \"value\": 145}, \"147\": {\"frequency\": 1, \"value\": 147}, \"150\": {\"frequency\": 1, \"value\": 150}, \"151\": {\"frequency\": 1, \"value\": 151}, \"152\": {\"frequency\": 1, \"value\": 152}, \"153\": {\"frequency\": 1, \"value\": 153}, \"154\": {\"frequency\": 1, \"value\": 154}, \"155\": {\"frequency\": 1, \"value\": 155}, \"157\": {\"frequency\": 1, \"value\": 157}, \"160\": {\"frequency\": 1, \"value\": 160}, \"161\": {\"frequency\": 1, \"value\": 161}, \"162\": {\"frequency\": 1, \"value\": 162}, \"163\": {\"frequency\": 1, \"value\": 163}, \"164\": {\"frequency\": 1, \"value\": 164}, \"165\": {\"frequency\": 1, \"value\": 165}, \"168\": {\"frequency\": 1, \"value\": 168}, \"169\": {\"frequency\": 1, \"value\": 169}, \"170\": {\"frequency\": 1, \"value\": 170}, \"172\": {\"frequency\": 1, \"value\": 172}, \"173\": {\"frequency\": 1, \"value\": 173}, \"174\": {\"frequency\": 1, \"value\": 174}, \"175\": {\"frequency\": 1, \"value\": 175}, \"176\": {\"frequency\": 1, \"value\": 176}, \"177\": {\"frequency\": 1, \"value\": 177}, \"179\": {\"frequency\": 1, \"value\": 179}, \"180\": {\"frequency\": 1, \"value\": 180}, \"181\": {\"frequency\": 1, \"value\": 181}, \"182\": {\"frequency\": 1, \"value\": 182}, \"184\": {\"frequency\": 1, \"value\": 184}, \"185\": {\"frequency\": 1, \"value\": 185}, \"186\": {\"frequency\": 1, \"value\": 186}, \"191\": {\"frequency\": 1, \"value\": 191}, \"193\": {\"frequency\": 1, \"value\": 193}, \"194\": {\"frequency\": 1, \"value\": 194}, \"196\": {\"frequency\": 1, \"value\": 196}, \"198\": {\"frequency\": 1, \"value\": 198}, \"199\": {\"frequency\": 1, \"value\": 199}, \"202\": {\"frequency\": 1, \"value\": 202}, \"203\": {\"frequency\": 1, \"value\": 203}, \"204\": {\"frequency\": 1, \"value\": 204}, \"206\": {\"frequency\": 1, \"value\": 206}, \"207\": {\"frequency\": 1, \"value\": 207}, \"208\": {\"frequency\": 1, \"value\": 208}, \"214\": {\"frequency\": 1, \"value\": 214}, \"215\": {\"frequency\": 1, \"value\": 215}, \"216\": {\"frequency\": 1, \"value\": 216}, \"218\": {\"frequency\": 1, \"value\": 218}, \"222\": {\"frequency\": 1, \"value\": 222}, \"223\": {\"frequency\": 1, \"value\": 223}, \"224\": {\"frequency\": 1, \"value\": 224}, \"225\": {\"frequency\": 1, \"value\": 225}, \"227\": {\"frequency\": 1, \"value\": 227}, \"228\": {\"frequency\": 1, \"value\": 228}, \"229\": {\"frequency\": 1, \"value\": 229}, \"230\": {\"frequency\": 1, \"value\": 230}, \"231\": {\"frequency\": 1, \"value\": 231}, \"232\": {\"frequency\": 1, \"value\": 232}, \"233\": {\"frequency\": 1, \"value\": 233}, \"235\": {\"frequency\": 1, \"value\": 235}, \"236\": {\"frequency\": 1, \"value\": 236}, \"237\": {\"frequency\": 1, \"value\": 237}, \"246\": {\"frequency\": 1, \"value\": 246}, \"247\": {\"frequency\": 1, \"value\": 247}, \"248\": {\"frequency\": 1, \"value\": 248}, \"249\": {\"frequency\": 1, \"value\": 249}, \"253\": {\"frequency\": 1, \"value\": 253}, \"254\": {\"frequency\": 1, \"value\": 254}, \"255\": {\"frequency\": 1, \"value\": 255}, \"256\": {\"frequency\": 1, \"value\": 256}, \"257\": {\"frequency\": 1, \"value\": 257}, \"260\": {\"frequency\": 1, \"value\": 260}, \"261\": {\"frequency\": 1, \"value\": 261}, \"262\": {\"frequency\": 1, \"value\": 262}, \"265\": {\"frequency\": 1, \"value\": 265}, \"266\": {\"frequency\": 1, \"value\": 266}, \"268\": {\"frequency\": 1, \"value\": 268}, \"269\": {\"frequency\": 1, \"value\": 269}, \"271\": {\"frequency\": 1, \"value\": 271}, \"272\": {\"frequency\": 1, \"value\": 272}, \"273\": {\"frequency\": 1, \"value\": 273}, \"275\": {\"frequency\": 1, \"value\": 275}, \"276\": {\"frequency\": 1, \"value\": 276}, \"277\": {\"frequency\": 1, \"value\": 277}, \"280\": {\"frequency\": 1, \"value\": 280}, \"281\": {\"frequency\": 1, \"value\": 281}, \"282\": {\"frequency\": 1, \"value\": 282}, \"288\": {\"frequency\": 1, \"value\": 288}, \"289\": {\"frequency\": 1, \"value\": 289}, \"290\": {\"frequency\": 1, \"value\": 290}, \"291\": {\"frequency\": 1, \"value\": 291}, \"292\": {\"frequency\": 1, \"value\": 292}, \"293\": {\"frequency\": 1, \"value\": 293}, \"296\": {\"frequency\": 1, \"value\": 296}, \"299\": {\"frequency\": 1, \"value\": 299}, \"300\": {\"frequency\": 1, \"value\": 300}, \"304\": {\"frequency\": 1, \"value\": 304}, \"305\": {\"frequency\": 1, \"value\": 305}, \"307\": {\"frequency\": 1, \"value\": 307}, \"312\": {\"frequency\": 1, \"value\": 312}, \"314\": {\"frequency\": 1, \"value\": 314}, \"315\": {\"frequency\": 1, \"value\": 315}, \"316\": {\"frequency\": 1, \"value\": 316}, \"317\": {\"frequency\": 1, \"value\": 317}, \"318\": {\"frequency\": 1, \"value\": 318}, \"319\": {\"frequency\": 1, \"value\": 319}, \"321\": {\"frequency\": 1, \"value\": 321}, \"322\": {\"frequency\": 1, \"value\": 322}, \"325\": {\"frequency\": 1, \"value\": 325}, \"326\": {\"frequency\": 1, \"value\": 326}, \"327\": {\"frequency\": 1, \"value\": 327}, \"329\": {\"frequency\": 1, \"value\": 329}, \"330\": {\"frequency\": 1, \"value\": 330}, \"332\": {\"frequency\": 1, \"value\": 332}, \"333\": {\"frequency\": 1, \"value\": 333}, \"334\": {\"frequency\": 1, \"value\": 334}, \"337\": {\"frequency\": 1, \"value\": 337}, \"338\": {\"frequency\": 1, \"value\": 338}, \"339\": {\"frequency\": 1, \"value\": 339}, \"340\": {\"frequency\": 1, \"value\": 340}, \"341\": {\"frequency\": 1, \"value\": 341}, \"342\": {\"frequency\": 1, \"value\": 342}, \"344\": {\"frequency\": 1, \"value\": 344}, \"345\": {\"frequency\": 1, \"value\": 345}, \"346\": {\"frequency\": 1, \"value\": 346}, \"348\": {\"frequency\": 1, \"value\": 348}, \"349\": {\"frequency\": 1, \"value\": 349}, \"350\": {\"frequency\": 1, \"value\": 350}, \"351\": {\"frequency\": 1, \"value\": 351}, \"352\": {\"frequency\": 1, \"value\": 352}, \"353\": {\"frequency\": 1, \"value\": 353}, \"354\": {\"frequency\": 1, \"value\": 354}, \"355\": {\"frequency\": 1, \"value\": 355}, \"356\": {\"frequency\": 1, \"value\": 356}, \"357\": {\"frequency\": 1, \"value\": 357}, \"358\": {\"frequency\": 1, \"value\": 358}, \"360\": {\"frequency\": 1, \"value\": 360}, \"361\": {\"frequency\": 1, \"value\": 361}, \"362\": {\"frequency\": 1, \"value\": 362}, \"363\": {\"frequency\": 1, \"value\": 363}, \"364\": {\"frequency\": 1, \"value\": 364}, \"365\": {\"frequency\": 1, \"value\": 365}, \"367\": {\"frequency\": 1, \"value\": 367}, \"368\": {\"frequency\": 1, \"value\": 368}, \"370\": {\"frequency\": 1, \"value\": 370}, \"372\": {\"frequency\": 1, \"value\": 372}, \"373\": {\"frequency\": 1, \"value\": 373}, \"374\": {\"frequency\": 1, \"value\": 374}, \"376\": {\"frequency\": 1, \"value\": 376}, \"377\": {\"frequency\": 1, \"value\": 377}, \"379\": {\"frequency\": 1, \"value\": 379}, \"380\": {\"frequency\": 1, \"value\": 380}, \"381\": {\"frequency\": 1, \"value\": 381}, \"382\": {\"frequency\": 1, \"value\": 382}, \"383\": {\"frequency\": 1, \"value\": 383}, \"387\": {\"frequency\": 1, \"value\": 387}, \"405\": {\"frequency\": 1, \"value\": 405}, \"407\": {\"frequency\": 1, \"value\": 407}, \"408\": {\"frequency\": 1, \"value\": 408}, \"410\": {\"frequency\": 1, \"value\": 410}, \"412\": {\"frequency\": 1, \"value\": 412}, \"413\": {\"frequency\": 1, \"value\": 413}, \"417\": {\"frequency\": 1, \"value\": 417}, \"419\": {\"frequency\": 1, \"value\": 419}, \"420\": {\"frequency\": 1, \"value\": 420}, \"421\": {\"frequency\": 1, \"value\": 421}, \"423\": {\"frequency\": 1, \"value\": 423}, \"426\": {\"frequency\": 1, \"value\": 426}, \"427\": {\"frequency\": 1, \"value\": 427}, \"428\": {\"frequency\": 1, \"value\": 428}, \"429\": {\"frequency\": 1, \"value\": 429}, \"431\": {\"frequency\": 1, \"value\": 431}, \"432\": {\"frequency\": 1, \"value\": 432}, \"433\": {\"frequency\": 1, \"value\": 433}, \"434\": {\"frequency\": 1, \"value\": 434}, \"435\": {\"frequency\": 1, \"value\": 435}, \"436\": {\"frequency\": 1, \"value\": 436}, \"438\": {\"frequency\": 1, \"value\": 438}, \"440\": {\"frequency\": 1, \"value\": 440}, \"441\": {\"frequency\": 1, \"value\": 441}, \"442\": {\"frequency\": 1, \"value\": 442}, \"447\": {\"frequency\": 1, \"value\": 447}, \"448\": {\"frequency\": 1, \"value\": 448}, \"450\": {\"frequency\": 1, \"value\": 450}, \"451\": {\"frequency\": 1, \"value\": 451}, \"452\": {\"frequency\": 1, \"value\": 452}, \"454\": {\"frequency\": 1, \"value\": 454}, \"455\": {\"frequency\": 1, \"value\": 455}, \"456\": {\"frequency\": 1, \"value\": 456}, \"457\": {\"frequency\": 1, \"value\": 457}, \"458\": {\"frequency\": 1, \"value\": 458}, \"459\": {\"frequency\": 1, \"value\": 459}, \"461\": {\"frequency\": 1, \"value\": 461}, \"463\": {\"frequency\": 1, \"value\": 463}, \"464\": {\"frequency\": 1, \"value\": 464}, \"465\": {\"frequency\": 1, \"value\": 465}, \"466\": {\"frequency\": 1, \"value\": 466}, \"468\": {\"frequency\": 1, \"value\": 468}, \"469\": {\"frequency\": 1, \"value\": 469}, \"471\": {\"frequency\": 1, \"value\": 471}, \"474\": {\"frequency\": 1, \"value\": 474}, \"475\": {\"frequency\": 1, \"value\": 475}, \"477\": {\"frequency\": 1, \"value\": 477}, \"480\": {\"frequency\": 1, \"value\": 480}, \"481\": {\"frequency\": 1, \"value\": 481}, \"482\": {\"frequency\": 1, \"value\": 482}, \"483\": {\"frequency\": 1, \"value\": 483}, \"485\": {\"frequency\": 1, \"value\": 485}, \"487\": {\"frequency\": 1, \"value\": 487}, \"489\": {\"frequency\": 1, \"value\": 489}, \"490\": {\"frequency\": 1, \"value\": 490}, \"492\": {\"frequency\": 1, \"value\": 492}, \"494\": {\"frequency\": 1, \"value\": 494}, \"495\": {\"frequency\": 1, \"value\": 495}, \"497\": {\"frequency\": 1, \"value\": 497}, \"500\": {\"frequency\": 1, \"value\": 500}, \"501\": {\"frequency\": 1, \"value\": 501}, \"504\": {\"frequency\": 1, \"value\": 504}, \"505\": {\"frequency\": 1, \"value\": 505}, \"506\": {\"frequency\": 1, \"value\": 506}, \"508\": {\"frequency\": 1, \"value\": 508}, \"509\": {\"frequency\": 1, \"value\": 509}, \"511\": {\"frequency\": 1, \"value\": 511}, \"512\": {\"frequency\": 1, \"value\": 512}, \"514\": {\"frequency\": 1, \"value\": 514}, \"515\": {\"frequency\": 1, \"value\": 515}, \"516\": {\"frequency\": 1, \"value\": 516}, \"517\": {\"frequency\": 1, \"value\": 517}, \"518\": {\"frequency\": 1, \"value\": 518}, \"519\": {\"frequency\": 1, \"value\": 519}, \"520\": {\"frequency\": 1, \"value\": 520}, \"522\": {\"frequency\": 1, \"value\": 522}, \"524\": {\"frequency\": 1, \"value\": 524}, \"527\": {\"frequency\": 1, \"value\": 527}, \"528\": {\"frequency\": 1, \"value\": 528}, \"529\": {\"frequency\": 1, \"value\": 529}, \"531\": {\"frequency\": 1, \"value\": 531}, \"532\": {\"frequency\": 1, \"value\": 532}, \"533\": {\"frequency\": 1, \"value\": 533}, \"534\": {\"frequency\": 1, \"value\": 534}, \"535\": {\"frequency\": 1, \"value\": 535}, \"536\": {\"frequency\": 1, \"value\": 536}, \"537\": {\"frequency\": 1, \"value\": 537}, \"538\": {\"frequency\": 1, \"value\": 538}, \"539\": {\"frequency\": 1, \"value\": 539}, \"541\": {\"frequency\": 1, \"value\": 541}, \"542\": {\"frequency\": 1, \"value\": 542}, \"543\": {\"frequency\": 1, \"value\": 543}, \"546\": {\"frequency\": 1, \"value\": 546}, \"547\": {\"frequency\": 1, \"value\": 547}, \"548\": {\"frequency\": 1, \"value\": 548}, \"549\": {\"frequency\": 1, \"value\": 549}, \"551\": {\"frequency\": 1, \"value\": 551}, \"552\": {\"frequency\": 1, \"value\": 552}, \"553\": {\"frequency\": 1, \"value\": 553}, \"554\": {\"frequency\": 1, \"value\": 554}, \"555\": {\"frequency\": 1, \"value\": 555}, \"558\": {\"frequency\": 1, \"value\": 558}, \"562\": {\"frequency\": 1, \"value\": 562}, \"565\": {\"frequency\": 1, \"value\": 565}, \"567\": {\"frequency\": 1, \"value\": 567}, \"569\": {\"frequency\": 1, \"value\": 569}, \"574\": {\"frequency\": 1, \"value\": 574}, \"575\": {\"frequency\": 1, \"value\": 575}, \"581\": {\"frequency\": 1, \"value\": 581}, \"585\": {\"frequency\": 1, \"value\": 585}, \"586\": {\"frequency\": 1, \"value\": 586}, \"587\": {\"frequency\": 1, \"value\": 587}, \"588\": {\"frequency\": 1, \"value\": 588}, \"589\": {\"frequency\": 1, \"value\": 589}, \"590\": {\"frequency\": 1, \"value\": 590}, \"592\": {\"frequency\": 1, \"value\": 592}, \"593\": {\"frequency\": 1, \"value\": 593}, \"594\": {\"frequency\": 1, \"value\": 594}, \"595\": {\"frequency\": 1, \"value\": 595}, \"596\": {\"frequency\": 1, \"value\": 596}, \"597\": {\"frequency\": 1, \"value\": 597}, \"606\": {\"frequency\": 1, \"value\": 606}, \"608\": {\"frequency\": 1, \"value\": 608}, \"610\": {\"frequency\": 1, \"value\": 610}, \"611\": {\"frequency\": 1, \"value\": 611}, \"612\": {\"frequency\": 1, \"value\": 612}, \"613\": {\"frequency\": 1, \"value\": 613}, \"616\": {\"frequency\": 1, \"value\": 616}, \"617\": {\"frequency\": 1, \"value\": 617}, \"628\": {\"frequency\": 1, \"value\": 628}, \"633\": {\"frequency\": 1, \"value\": 633}, \"639\": {\"frequency\": 1, \"value\": 639}, \"647\": {\"frequency\": 1, \"value\": 647}, \"648\": {\"frequency\": 1, \"value\": 648}, \"653\": {\"frequency\": 1, \"value\": 653}, \"656\": {\"frequency\": 1, \"value\": 656}, \"659\": {\"frequency\": 1, \"value\": 659}, \"661\": {\"frequency\": 1, \"value\": 661}, \"662\": {\"frequency\": 1, \"value\": 662}, \"663\": {\"frequency\": 1, \"value\": 663}, \"667\": {\"frequency\": 1, \"value\": 667}, \"671\": {\"frequency\": 1, \"value\": 671}, \"673\": {\"frequency\": 1, \"value\": 673}, \"674\": {\"frequency\": 1, \"value\": 674}, \"678\": {\"frequency\": 1, \"value\": 678}, \"685\": {\"frequency\": 1, \"value\": 685}, \"688\": {\"frequency\": 1, \"value\": 688}, \"691\": {\"frequency\": 1, \"value\": 691}, \"694\": {\"frequency\": 1, \"value\": 694}, \"697\": {\"frequency\": 1, \"value\": 697}, \"707\": {\"frequency\": 1, \"value\": 707}, \"708\": {\"frequency\": 1, \"value\": 708}, \"709\": {\"frequency\": 1, \"value\": 709}, \"715\": {\"frequency\": 1, \"value\": 715}, \"716\": {\"frequency\": 1, \"value\": 716}, \"719\": {\"frequency\": 1, \"value\": 719}, \"720\": {\"frequency\": 1, \"value\": 720}, \"724\": {\"frequency\": 1, \"value\": 724}, \"725\": {\"frequency\": 1, \"value\": 725}, \"728\": {\"frequency\": 1, \"value\": 728}, \"731\": {\"frequency\": 1, \"value\": 731}, \"733\": {\"frequency\": 1, \"value\": 733}, \"736\": {\"frequency\": 1, \"value\": 736}, \"737\": {\"frequency\": 1, \"value\": 737}, \"741\": {\"frequency\": 1, \"value\": 741}, \"743\": {\"frequency\": 1, \"value\": 743}, \"745\": {\"frequency\": 1, \"value\": 745}, \"748\": {\"frequency\": 1, \"value\": 748}, \"750\": {\"frequency\": 1, \"value\": 750}, \"759\": {\"frequency\": 1, \"value\": 759}, \"761\": {\"frequency\": 1, \"value\": 761}, \"762\": {\"frequency\": 1, \"value\": 762}, \"765\": {\"frequency\": 1, \"value\": 765}, \"778\": {\"frequency\": 1, \"value\": 778}, \"779\": {\"frequency\": 1, \"value\": 779}, \"780\": {\"frequency\": 1, \"value\": 780}, \"781\": {\"frequency\": 1, \"value\": 781}, \"783\": {\"frequency\": 1, \"value\": 783}, \"784\": {\"frequency\": 1, \"value\": 784}, \"785\": {\"frequency\": 1, \"value\": 785}, \"786\": {\"frequency\": 1, \"value\": 786}, \"788\": {\"frequency\": 1, \"value\": 788}, \"798\": {\"frequency\": 1, \"value\": 798}, \"799\": {\"frequency\": 1, \"value\": 799}, \"800\": {\"frequency\": 1, \"value\": 800}, \"801\": {\"frequency\": 1, \"value\": 801}, \"802\": {\"frequency\": 1, \"value\": 802}, \"804\": {\"frequency\": 1, \"value\": 804}, \"805\": {\"frequency\": 1, \"value\": 805}, \"818\": {\"frequency\": 1, \"value\": 818}, \"829\": {\"frequency\": 1, \"value\": 829}, \"830\": {\"frequency\": 1, \"value\": 830}, \"832\": {\"frequency\": 1, \"value\": 832}, \"833\": {\"frequency\": 1, \"value\": 833}, \"835\": {\"frequency\": 1, \"value\": 835}, \"837\": {\"frequency\": 1, \"value\": 837}, \"838\": {\"frequency\": 1, \"value\": 838}, \"839\": {\"frequency\": 1, \"value\": 839}, \"849\": {\"frequency\": 1, \"value\": 849}, \"851\": {\"frequency\": 1, \"value\": 851}, \"852\": {\"frequency\": 1, \"value\": 852}, \"858\": {\"frequency\": 1, \"value\": 858}, \"861\": {\"frequency\": 1, \"value\": 861}, \"866\": {\"frequency\": 1, \"value\": 866}, \"879\": {\"frequency\": 1, \"value\": 879}, \"880\": {\"frequency\": 1, \"value\": 880}, \"882\": {\"frequency\": 1, \"value\": 882}, \"886\": {\"frequency\": 1, \"value\": 886}, \"891\": {\"frequency\": 1, \"value\": 891}, \"893\": {\"frequency\": 1, \"value\": 893}, \"896\": {\"frequency\": 1, \"value\": 896}, \"898\": {\"frequency\": 1, \"value\": 898}, \"899\": {\"frequency\": 1, \"value\": 899}, \"900\": {\"frequency\": 1, \"value\": 900}, \"901\": {\"frequency\": 1, \"value\": 901}, \"902\": {\"frequency\": 1, \"value\": 902}, \"903\": {\"frequency\": 1, \"value\": 903}, \"904\": {\"frequency\": 1, \"value\": 904}, \"905\": {\"frequency\": 1, \"value\": 905}, \"906\": {\"frequency\": 1, \"value\": 906}, \"908\": {\"frequency\": 1, \"value\": 908}, \"909\": {\"frequency\": 1, \"value\": 909}, \"910\": {\"frequency\": 1, \"value\": 910}, \"912\": {\"frequency\": 1, \"value\": 912}, \"913\": {\"frequency\": 1, \"value\": 913}, \"914\": {\"frequency\": 1, \"value\": 914}, \"915\": {\"frequency\": 1, \"value\": 915}, \"916\": {\"frequency\": 1, \"value\": 916}, \"918\": {\"frequency\": 1, \"value\": 918}, \"919\": {\"frequency\": 1, \"value\": 919}, \"920\": {\"frequency\": 1, \"value\": 920}, \"921\": {\"frequency\": 1, \"value\": 921}, \"922\": {\"frequency\": 1, \"value\": 922}, \"923\": {\"frequency\": 1, \"value\": 923}, \"924\": {\"frequency\": 1, \"value\": 924}, \"926\": {\"frequency\": 1, \"value\": 926}, \"927\": {\"frequency\": 1, \"value\": 927}, \"928\": {\"frequency\": 1, \"value\": 928}, \"929\": {\"frequency\": 1, \"value\": 929}, \"930\": {\"frequency\": 1, \"value\": 930}, \"931\": {\"frequency\": 1, \"value\": 931}, \"932\": {\"frequency\": 1, \"value\": 932}, \"933\": {\"frequency\": 1, \"value\": 933}, \"934\": {\"frequency\": 1, \"value\": 934}, \"938\": {\"frequency\": 1, \"value\": 938}, \"941\": {\"frequency\": 1, \"value\": 941}, \"942\": {\"frequency\": 1, \"value\": 942}, \"945\": {\"frequency\": 1, \"value\": 945}, \"949\": {\"frequency\": 1, \"value\": 949}, \"950\": {\"frequency\": 1, \"value\": 950}, \"952\": {\"frequency\": 1, \"value\": 952}, \"953\": {\"frequency\": 1, \"value\": 953}, \"954\": {\"frequency\": 1, \"value\": 954}, \"965\": {\"frequency\": 1, \"value\": 965}, \"968\": {\"frequency\": 1, \"value\": 968}, \"969\": {\"frequency\": 1, \"value\": 969}, \"971\": {\"frequency\": 1, \"value\": 971}, \"973\": {\"frequency\": 1, \"value\": 973}, \"974\": {\"frequency\": 1, \"value\": 974}, \"986\": {\"frequency\": 1, \"value\": 986}, \"988\": {\"frequency\": 1, \"value\": 988}, \"991\": {\"frequency\": 1, \"value\": 991}, \"993\": {\"frequency\": 1, \"value\": 993}, \"994\": {\"frequency\": 1, \"value\": 994}, \"996\": {\"frequency\": 1, \"value\": 996}, \"997\": {\"frequency\": 1, \"value\": 997}, \"998\": {\"frequency\": 1, \"value\": 998}, \"999\": {\"frequency\": 1, \"value\": 999}, \"1000\": {\"frequency\": 1, \"value\": 1000}, \"1003\": {\"frequency\": 1, \"value\": 1003}, \"1004\": {\"frequency\": 1, \"value\": 1004}, \"1006\": {\"frequency\": 1, \"value\": 1006}, \"1007\": {\"frequency\": 1, \"value\": 1007}, \"1009\": {\"frequency\": 1, \"value\": 1009}, \"1010\": {\"frequency\": 1, \"value\": 1010}, \"1011\": {\"frequency\": 1, \"value\": 1011}, \"1012\": {\"frequency\": 1, \"value\": 1012}, \"1013\": {\"frequency\": 1, \"value\": 1013}, \"1015\": {\"frequency\": 1, \"value\": 1015}, \"1017\": {\"frequency\": 1, \"value\": 1017}, \"1018\": {\"frequency\": 1, \"value\": 1018}, \"1019\": {\"frequency\": 1, \"value\": 1019}, \"1020\": {\"frequency\": 1, \"value\": 1020}, \"1021\": {\"frequency\": 1, \"value\": 1021}, \"1022\": {\"frequency\": 1, \"value\": 1022}, \"1023\": {\"frequency\": 1, \"value\": 1023}, \"1027\": {\"frequency\": 1, \"value\": 1027}, \"1028\": {\"frequency\": 1, \"value\": 1028}, \"1029\": {\"frequency\": 1, \"value\": 1029}, \"1030\": {\"frequency\": 1, \"value\": 1030}, \"1031\": {\"frequency\": 1, \"value\": 1031}, \"1032\": {\"frequency\": 1, \"value\": 1032}, \"1034\": {\"frequency\": 1, \"value\": 1034}, \"1035\": {\"frequency\": 1, \"value\": 1035}, \"1036\": {\"frequency\": 1, \"value\": 1036}, \"1037\": {\"frequency\": 1, \"value\": 1037}, \"1041\": {\"frequency\": 1, \"value\": 1041}, \"1042\": {\"frequency\": 1, \"value\": 1042}, \"1044\": {\"frequency\": 1, \"value\": 1044}, \"1047\": {\"frequency\": 1, \"value\": 1047}, \"1049\": {\"frequency\": 1, \"value\": 1049}, \"1050\": {\"frequency\": 1, \"value\": 1050}, \"1051\": {\"frequency\": 1, \"value\": 1051}, \"1054\": {\"frequency\": 1, \"value\": 1054}, \"1057\": {\"frequency\": 1, \"value\": 1057}, \"1059\": {\"frequency\": 1, \"value\": 1059}, \"1060\": {\"frequency\": 1, \"value\": 1060}, \"1061\": {\"frequency\": 1, \"value\": 1061}, \"1063\": {\"frequency\": 1, \"value\": 1063}, \"1064\": {\"frequency\": 1, \"value\": 1064}, \"1069\": {\"frequency\": 1, \"value\": 1069}, \"1073\": {\"frequency\": 1, \"value\": 1073}, \"1077\": {\"frequency\": 1, \"value\": 1077}, \"1079\": {\"frequency\": 1, \"value\": 1079}, \"1080\": {\"frequency\": 1, \"value\": 1080}, \"1081\": {\"frequency\": 1, \"value\": 1081}, \"1083\": {\"frequency\": 1, \"value\": 1083}, \"1084\": {\"frequency\": 1, \"value\": 1084}, \"1086\": {\"frequency\": 1, \"value\": 1086}, \"1087\": {\"frequency\": 1, \"value\": 1087}, \"1088\": {\"frequency\": 1, \"value\": 1088}, \"1089\": {\"frequency\": 1, \"value\": 1089}, \"1090\": {\"frequency\": 1, \"value\": 1090}, \"1091\": {\"frequency\": 1, \"value\": 1091}, \"1092\": {\"frequency\": 1, \"value\": 1092}, \"1093\": {\"frequency\": 1, \"value\": 1093}, \"1094\": {\"frequency\": 1, \"value\": 1094}, \"1095\": {\"frequency\": 1, \"value\": 1095}, \"1096\": {\"frequency\": 1, \"value\": 1096}, \"1097\": {\"frequency\": 1, \"value\": 1097}, \"1100\": {\"frequency\": 1, \"value\": 1100}, \"1101\": {\"frequency\": 1, \"value\": 1101}, \"1103\": {\"frequency\": 1, \"value\": 1103}, \"1104\": {\"frequency\": 1, \"value\": 1104}, \"1111\": {\"frequency\": 1, \"value\": 1111}, \"1113\": {\"frequency\": 1, \"value\": 1113}, \"1120\": {\"frequency\": 1, \"value\": 1120}, \"1124\": {\"frequency\": 1, \"value\": 1124}, \"1125\": {\"frequency\": 1, \"value\": 1125}, \"1126\": {\"frequency\": 1, \"value\": 1126}, \"1127\": {\"frequency\": 1, \"value\": 1127}, \"1128\": {\"frequency\": 1, \"value\": 1128}, \"1129\": {\"frequency\": 1, \"value\": 1129}, \"1130\": {\"frequency\": 1, \"value\": 1130}, \"1131\": {\"frequency\": 1, \"value\": 1131}, \"1135\": {\"frequency\": 1, \"value\": 1135}, \"1136\": {\"frequency\": 1, \"value\": 1136}, \"1147\": {\"frequency\": 1, \"value\": 1147}, \"1148\": {\"frequency\": 1, \"value\": 1148}, \"1150\": {\"frequency\": 1, \"value\": 1150}, \"1171\": {\"frequency\": 1, \"value\": 1171}, \"1172\": {\"frequency\": 1, \"value\": 1172}, \"1173\": {\"frequency\": 1, \"value\": 1173}, \"1175\": {\"frequency\": 1, \"value\": 1175}, \"1177\": {\"frequency\": 1, \"value\": 1177}, \"1178\": {\"frequency\": 1, \"value\": 1178}, \"1179\": {\"frequency\": 1, \"value\": 1179}, \"1183\": {\"frequency\": 1, \"value\": 1183}, \"1184\": {\"frequency\": 1, \"value\": 1184}, \"1185\": {\"frequency\": 1, \"value\": 1185}, \"1186\": {\"frequency\": 1, \"value\": 1186}, \"1187\": {\"frequency\": 1, \"value\": 1187}, \"1188\": {\"frequency\": 1, \"value\": 1188}, \"1189\": {\"frequency\": 1, \"value\": 1189}, \"1190\": {\"frequency\": 1, \"value\": 1190}, \"1191\": {\"frequency\": 1, \"value\": 1191}, \"1192\": {\"frequency\": 1, \"value\": 1192}, \"1193\": {\"frequency\": 1, \"value\": 1193}, \"1194\": {\"frequency\": 1, \"value\": 1194}, \"1196\": {\"frequency\": 1, \"value\": 1196}, \"1197\": {\"frequency\": 1, \"value\": 1197}, \"1198\": {\"frequency\": 1, \"value\": 1198}, \"1199\": {\"frequency\": 1, \"value\": 1199}, \"1200\": {\"frequency\": 1, \"value\": 1200}, \"1201\": {\"frequency\": 1, \"value\": 1201}, \"1203\": {\"frequency\": 1, \"value\": 1203}, \"1204\": {\"frequency\": 1, \"value\": 1204}, \"1205\": {\"frequency\": 1, \"value\": 1205}, \"1206\": {\"frequency\": 1, \"value\": 1206}, \"1207\": {\"frequency\": 1, \"value\": 1207}, \"1208\": {\"frequency\": 1, \"value\": 1208}, \"1209\": {\"frequency\": 1, \"value\": 1209}, \"1210\": {\"frequency\": 1, \"value\": 1210}, \"1211\": {\"frequency\": 1, \"value\": 1211}, \"1212\": {\"frequency\": 1, \"value\": 1212}, \"1213\": {\"frequency\": 1, \"value\": 1213}, \"1214\": {\"frequency\": 1, \"value\": 1214}, \"1215\": {\"frequency\": 1, \"value\": 1215}, \"1217\": {\"frequency\": 1, \"value\": 1217}, \"1218\": {\"frequency\": 1, \"value\": 1218}, \"1219\": {\"frequency\": 1, \"value\": 1219}, \"1220\": {\"frequency\": 1, \"value\": 1220}, \"1221\": {\"frequency\": 1, \"value\": 1221}, \"1222\": {\"frequency\": 1, \"value\": 1222}, \"1223\": {\"frequency\": 1, \"value\": 1223}, \"1224\": {\"frequency\": 1, \"value\": 1224}, \"1225\": {\"frequency\": 1, \"value\": 1225}, \"1226\": {\"frequency\": 1, \"value\": 1226}, \"1227\": {\"frequency\": 1, \"value\": 1227}, \"1228\": {\"frequency\": 1, \"value\": 1228}, \"1230\": {\"frequency\": 1, \"value\": 1230}, \"1231\": {\"frequency\": 1, \"value\": 1231}, \"1233\": {\"frequency\": 1, \"value\": 1233}, \"1234\": {\"frequency\": 1, \"value\": 1234}, \"1235\": {\"frequency\": 1, \"value\": 1235}, \"1237\": {\"frequency\": 1, \"value\": 1237}, \"1238\": {\"frequency\": 1, \"value\": 1238}, \"1240\": {\"frequency\": 1, \"value\": 1240}, \"1242\": {\"frequency\": 1, \"value\": 1242}, \"1243\": {\"frequency\": 1, \"value\": 1243}, \"1244\": {\"frequency\": 1, \"value\": 1244}, \"1245\": {\"frequency\": 1, \"value\": 1245}, \"1246\": {\"frequency\": 1, \"value\": 1246}, \"1247\": {\"frequency\": 1, \"value\": 1247}, \"1248\": {\"frequency\": 1, \"value\": 1248}, \"1249\": {\"frequency\": 1, \"value\": 1249}, \"1250\": {\"frequency\": 1, \"value\": 1250}, \"1251\": {\"frequency\": 1, \"value\": 1251}, \"1252\": {\"frequency\": 1, \"value\": 1252}, \"1253\": {\"frequency\": 1, \"value\": 1253}, \"1254\": {\"frequency\": 1, \"value\": 1254}, \"1256\": {\"frequency\": 1, \"value\": 1256}, \"1257\": {\"frequency\": 1, \"value\": 1257}, \"1258\": {\"frequency\": 1, \"value\": 1258}, \"1259\": {\"frequency\": 1, \"value\": 1259}, \"1260\": {\"frequency\": 1, \"value\": 1260}, \"1261\": {\"frequency\": 1, \"value\": 1261}, \"1262\": {\"frequency\": 1, \"value\": 1262}, \"1263\": {\"frequency\": 1, \"value\": 1263}, \"1264\": {\"frequency\": 1, \"value\": 1264}, \"1265\": {\"frequency\": 1, \"value\": 1265}, \"1266\": {\"frequency\": 1, \"value\": 1266}, \"1267\": {\"frequency\": 1, \"value\": 1267}, \"1268\": {\"frequency\": 1, \"value\": 1268}, \"1270\": {\"frequency\": 1, \"value\": 1270}, \"1271\": {\"frequency\": 1, \"value\": 1271}, \"1272\": {\"frequency\": 1, \"value\": 1272}, \"1273\": {\"frequency\": 1, \"value\": 1273}, \"1274\": {\"frequency\": 1, \"value\": 1274}, \"1275\": {\"frequency\": 1, \"value\": 1275}, \"1276\": {\"frequency\": 1, \"value\": 1276}, \"1278\": {\"frequency\": 1, \"value\": 1278}, \"1279\": {\"frequency\": 1, \"value\": 1279}, \"1280\": {\"frequency\": 1, \"value\": 1280}, \"1282\": {\"frequency\": 1, \"value\": 1282}, \"1283\": {\"frequency\": 1, \"value\": 1283}, \"1284\": {\"frequency\": 1, \"value\": 1284}, \"1285\": {\"frequency\": 1, \"value\": 1285}, \"1286\": {\"frequency\": 1, \"value\": 1286}, \"1287\": {\"frequency\": 1, \"value\": 1287}, \"1288\": {\"frequency\": 1, \"value\": 1288}, \"1290\": {\"frequency\": 1, \"value\": 1290}, \"1291\": {\"frequency\": 1, \"value\": 1291}, \"1292\": {\"frequency\": 1, \"value\": 1292}, \"1293\": {\"frequency\": 1, \"value\": 1293}, \"1294\": {\"frequency\": 1, \"value\": 1294}, \"1295\": {\"frequency\": 1, \"value\": 1295}, \"1296\": {\"frequency\": 1, \"value\": 1296}, \"1297\": {\"frequency\": 1, \"value\": 1297}, \"1298\": {\"frequency\": 1, \"value\": 1298}, \"1299\": {\"frequency\": 1, \"value\": 1299}, \"1300\": {\"frequency\": 1, \"value\": 1300}, \"1301\": {\"frequency\": 1, \"value\": 1301}, \"1302\": {\"frequency\": 1, \"value\": 1302}, \"1303\": {\"frequency\": 1, \"value\": 1303}, \"1304\": {\"frequency\": 1, \"value\": 1304}, \"1307\": {\"frequency\": 1, \"value\": 1307}, \"1310\": {\"frequency\": 1, \"value\": 1310}, \"1312\": {\"frequency\": 1, \"value\": 1312}, \"1320\": {\"frequency\": 1, \"value\": 1320}, \"1321\": {\"frequency\": 1, \"value\": 1321}, \"1323\": {\"frequency\": 1, \"value\": 1323}, \"1326\": {\"frequency\": 1, \"value\": 1326}, \"1327\": {\"frequency\": 1, \"value\": 1327}, \"1333\": {\"frequency\": 1, \"value\": 1333}, \"1334\": {\"frequency\": 1, \"value\": 1334}, \"1339\": {\"frequency\": 1, \"value\": 1339}, \"1340\": {\"frequency\": 1, \"value\": 1340}, \"1342\": {\"frequency\": 1, \"value\": 1342}, \"1343\": {\"frequency\": 1, \"value\": 1343}, \"1345\": {\"frequency\": 1, \"value\": 1345}, \"1346\": {\"frequency\": 1, \"value\": 1346}, \"1347\": {\"frequency\": 1, \"value\": 1347}, \"1348\": {\"frequency\": 1, \"value\": 1348}, \"1350\": {\"frequency\": 1, \"value\": 1350}, \"1352\": {\"frequency\": 1, \"value\": 1352}, \"1353\": {\"frequency\": 1, \"value\": 1353}, \"1354\": {\"frequency\": 1, \"value\": 1354}, \"1356\": {\"frequency\": 1, \"value\": 1356}, \"1357\": {\"frequency\": 1, \"value\": 1357}, \"1358\": {\"frequency\": 1, \"value\": 1358}, \"1359\": {\"frequency\": 1, \"value\": 1359}, \"1361\": {\"frequency\": 1, \"value\": 1361}, \"1363\": {\"frequency\": 1, \"value\": 1363}, \"1366\": {\"frequency\": 1, \"value\": 1366}, \"1367\": {\"frequency\": 1, \"value\": 1367}, \"1370\": {\"frequency\": 1, \"value\": 1370}, \"1371\": {\"frequency\": 1, \"value\": 1371}, \"1372\": {\"frequency\": 1, \"value\": 1372}, \"1373\": {\"frequency\": 1, \"value\": 1373}, \"1374\": {\"frequency\": 1, \"value\": 1374}, \"1375\": {\"frequency\": 1, \"value\": 1375}, \"1376\": {\"frequency\": 1, \"value\": 1376}, \"1377\": {\"frequency\": 1, \"value\": 1377}, \"1378\": {\"frequency\": 1, \"value\": 1378}, \"1379\": {\"frequency\": 1, \"value\": 1379}, \"1380\": {\"frequency\": 1, \"value\": 1380}, \"1381\": {\"frequency\": 1, \"value\": 1381}, \"1385\": {\"frequency\": 1, \"value\": 1385}, \"1387\": {\"frequency\": 1, \"value\": 1387}, \"1388\": {\"frequency\": 1, \"value\": 1388}, \"1390\": {\"frequency\": 1, \"value\": 1390}, \"1391\": {\"frequency\": 1, \"value\": 1391}, \"1392\": {\"frequency\": 1, \"value\": 1392}, \"1393\": {\"frequency\": 1, \"value\": 1393}, \"1394\": {\"frequency\": 1, \"value\": 1394}, \"1395\": {\"frequency\": 1, \"value\": 1395}, \"1396\": {\"frequency\": 1, \"value\": 1396}, \"1397\": {\"frequency\": 1, \"value\": 1397}, \"1399\": {\"frequency\": 1, \"value\": 1399}, \"1401\": {\"frequency\": 1, \"value\": 1401}, \"1404\": {\"frequency\": 1, \"value\": 1404}, \"1405\": {\"frequency\": 1, \"value\": 1405}, \"1407\": {\"frequency\": 1, \"value\": 1407}, \"1408\": {\"frequency\": 1, \"value\": 1408}, \"1409\": {\"frequency\": 1, \"value\": 1409}, \"1410\": {\"frequency\": 1, \"value\": 1410}, \"1411\": {\"frequency\": 1, \"value\": 1411}, \"1414\": {\"frequency\": 1, \"value\": 1414}, \"1416\": {\"frequency\": 1, \"value\": 1416}, \"1419\": {\"frequency\": 1, \"value\": 1419}, \"1422\": {\"frequency\": 1, \"value\": 1422}, \"1429\": {\"frequency\": 1, \"value\": 1429}, \"1431\": {\"frequency\": 1, \"value\": 1431}, \"1432\": {\"frequency\": 1, \"value\": 1432}, \"1438\": {\"frequency\": 1, \"value\": 1438}, \"1440\": {\"frequency\": 1, \"value\": 1440}, \"1441\": {\"frequency\": 1, \"value\": 1441}, \"1445\": {\"frequency\": 1, \"value\": 1445}, \"1446\": {\"frequency\": 1, \"value\": 1446}, \"1447\": {\"frequency\": 1, \"value\": 1447}, \"1449\": {\"frequency\": 1, \"value\": 1449}, \"1453\": {\"frequency\": 1, \"value\": 1453}, \"1454\": {\"frequency\": 1, \"value\": 1454}, \"1457\": {\"frequency\": 1, \"value\": 1457}, \"1459\": {\"frequency\": 1, \"value\": 1459}, \"1461\": {\"frequency\": 1, \"value\": 1461}, \"1464\": {\"frequency\": 1, \"value\": 1464}, \"1466\": {\"frequency\": 1, \"value\": 1466}, \"1472\": {\"frequency\": 1, \"value\": 1472}, \"1473\": {\"frequency\": 1, \"value\": 1473}, \"1475\": {\"frequency\": 1, \"value\": 1475}, \"1476\": {\"frequency\": 1, \"value\": 1476}, \"1479\": {\"frequency\": 1, \"value\": 1479}, \"1480\": {\"frequency\": 1, \"value\": 1480}, \"1482\": {\"frequency\": 1, \"value\": 1482}, \"1483\": {\"frequency\": 1, \"value\": 1483}, \"1485\": {\"frequency\": 1, \"value\": 1485}, \"1487\": {\"frequency\": 1, \"value\": 1487}, \"1488\": {\"frequency\": 1, \"value\": 1488}, \"1498\": {\"frequency\": 1, \"value\": 1498}, \"1499\": {\"frequency\": 1, \"value\": 1499}, \"1500\": {\"frequency\": 1, \"value\": 1500}, \"1508\": {\"frequency\": 1, \"value\": 1508}, \"1509\": {\"frequency\": 1, \"value\": 1509}, \"1511\": {\"frequency\": 1, \"value\": 1511}, \"1513\": {\"frequency\": 1, \"value\": 1513}, \"1514\": {\"frequency\": 1, \"value\": 1514}, \"1515\": {\"frequency\": 1, \"value\": 1515}, \"1517\": {\"frequency\": 1, \"value\": 1517}, \"1518\": {\"frequency\": 1, \"value\": 1518}, \"1519\": {\"frequency\": 1, \"value\": 1519}, \"1523\": {\"frequency\": 1, \"value\": 1523}, \"1526\": {\"frequency\": 1, \"value\": 1526}, \"1527\": {\"frequency\": 1, \"value\": 1527}, \"1529\": {\"frequency\": 1, \"value\": 1529}, \"1533\": {\"frequency\": 1, \"value\": 1533}, \"1535\": {\"frequency\": 1, \"value\": 1535}, \"1537\": {\"frequency\": 1, \"value\": 1537}, \"1541\": {\"frequency\": 1, \"value\": 1541}, \"1542\": {\"frequency\": 1, \"value\": 1542}, \"1544\": {\"frequency\": 1, \"value\": 1544}, \"1546\": {\"frequency\": 1, \"value\": 1546}, \"1552\": {\"frequency\": 1, \"value\": 1552}, \"1554\": {\"frequency\": 1, \"value\": 1554}, \"1556\": {\"frequency\": 1, \"value\": 1556}, \"1562\": {\"frequency\": 1, \"value\": 1562}, \"1563\": {\"frequency\": 1, \"value\": 1563}, \"1564\": {\"frequency\": 1, \"value\": 1564}, \"1566\": {\"frequency\": 1, \"value\": 1566}, \"1569\": {\"frequency\": 1, \"value\": 1569}, \"1571\": {\"frequency\": 1, \"value\": 1571}, \"1572\": {\"frequency\": 1, \"value\": 1572}, \"1573\": {\"frequency\": 1, \"value\": 1573}, \"1575\": {\"frequency\": 1, \"value\": 1575}, \"1580\": {\"frequency\": 1, \"value\": 1580}, \"1581\": {\"frequency\": 1, \"value\": 1581}, \"1582\": {\"frequency\": 1, \"value\": 1582}, \"1584\": {\"frequency\": 1, \"value\": 1584}, \"1585\": {\"frequency\": 1, \"value\": 1585}, \"1586\": {\"frequency\": 1, \"value\": 1586}, \"1587\": {\"frequency\": 1, \"value\": 1587}, \"1588\": {\"frequency\": 1, \"value\": 1588}, \"1589\": {\"frequency\": 1, \"value\": 1589}, \"1590\": {\"frequency\": 1, \"value\": 1590}, \"1591\": {\"frequency\": 1, \"value\": 1591}, \"1592\": {\"frequency\": 1, \"value\": 1592}, \"1593\": {\"frequency\": 1, \"value\": 1593}, \"1594\": {\"frequency\": 1, \"value\": 1594}, \"1597\": {\"frequency\": 1, \"value\": 1597}, \"1598\": {\"frequency\": 1, \"value\": 1598}, \"1600\": {\"frequency\": 1, \"value\": 1600}, \"1601\": {\"frequency\": 1, \"value\": 1601}, \"1603\": {\"frequency\": 1, \"value\": 1603}, \"1606\": {\"frequency\": 1, \"value\": 1606}, \"1608\": {\"frequency\": 1, \"value\": 1608}, \"1609\": {\"frequency\": 1, \"value\": 1609}, \"1610\": {\"frequency\": 1, \"value\": 1610}, \"1611\": {\"frequency\": 1, \"value\": 1611}, \"1612\": {\"frequency\": 1, \"value\": 1612}, \"1614\": {\"frequency\": 1, \"value\": 1614}, \"1615\": {\"frequency\": 1, \"value\": 1615}, \"1616\": {\"frequency\": 1, \"value\": 1616}, \"1617\": {\"frequency\": 1, \"value\": 1617}, \"1619\": {\"frequency\": 1, \"value\": 1619}, \"1620\": {\"frequency\": 1, \"value\": 1620}, \"1625\": {\"frequency\": 1, \"value\": 1625}, \"1626\": {\"frequency\": 1, \"value\": 1626}, \"1627\": {\"frequency\": 1, \"value\": 1627}, \"1629\": {\"frequency\": 1, \"value\": 1629}, \"1633\": {\"frequency\": 1, \"value\": 1633}, \"1635\": {\"frequency\": 1, \"value\": 1635}, \"1639\": {\"frequency\": 1, \"value\": 1639}, \"1641\": {\"frequency\": 1, \"value\": 1641}, \"1644\": {\"frequency\": 1, \"value\": 1644}, \"1645\": {\"frequency\": 1, \"value\": 1645}, \"1647\": {\"frequency\": 1, \"value\": 1647}, \"1648\": {\"frequency\": 1, \"value\": 1648}, \"1649\": {\"frequency\": 1, \"value\": 1649}, \"1650\": {\"frequency\": 1, \"value\": 1650}, \"1653\": {\"frequency\": 1, \"value\": 1653}, \"1654\": {\"frequency\": 1, \"value\": 1654}, \"1658\": {\"frequency\": 1, \"value\": 1658}, \"1660\": {\"frequency\": 1, \"value\": 1660}, \"1663\": {\"frequency\": 1, \"value\": 1663}, \"1665\": {\"frequency\": 1, \"value\": 1665}, \"1667\": {\"frequency\": 1, \"value\": 1667}, \"1670\": {\"frequency\": 1, \"value\": 1670}, \"1672\": {\"frequency\": 1, \"value\": 1672}, \"1673\": {\"frequency\": 1, \"value\": 1673}, \"1674\": {\"frequency\": 1, \"value\": 1674}, \"1676\": {\"frequency\": 1, \"value\": 1676}, \"1677\": {\"frequency\": 1, \"value\": 1677}, \"1678\": {\"frequency\": 1, \"value\": 1678}, \"1680\": {\"frequency\": 1, \"value\": 1680}, \"1682\": {\"frequency\": 1, \"value\": 1682}, \"1683\": {\"frequency\": 1, \"value\": 1683}, \"1687\": {\"frequency\": 1, \"value\": 1687}, \"1688\": {\"frequency\": 1, \"value\": 1688}, \"1689\": {\"frequency\": 1, \"value\": 1689}, \"1690\": {\"frequency\": 1, \"value\": 1690}, \"1692\": {\"frequency\": 1, \"value\": 1692}, \"1693\": {\"frequency\": 1, \"value\": 1693}, \"1694\": {\"frequency\": 1, \"value\": 1694}, \"1701\": {\"frequency\": 1, \"value\": 1701}, \"1702\": {\"frequency\": 1, \"value\": 1702}, \"1703\": {\"frequency\": 1, \"value\": 1703}, \"1704\": {\"frequency\": 1, \"value\": 1704}, \"1707\": {\"frequency\": 1, \"value\": 1707}, \"1711\": {\"frequency\": 1, \"value\": 1711}, \"1713\": {\"frequency\": 1, \"value\": 1713}, \"1717\": {\"frequency\": 1, \"value\": 1717}, \"1719\": {\"frequency\": 1, \"value\": 1719}, \"1721\": {\"frequency\": 1, \"value\": 1721}, \"1722\": {\"frequency\": 1, \"value\": 1722}, \"1726\": {\"frequency\": 1, \"value\": 1726}, \"1727\": {\"frequency\": 1, \"value\": 1727}, \"1728\": {\"frequency\": 1, \"value\": 1728}, \"1729\": {\"frequency\": 1, \"value\": 1729}, \"1732\": {\"frequency\": 1, \"value\": 1732}, \"1733\": {\"frequency\": 1, \"value\": 1733}, \"1735\": {\"frequency\": 1, \"value\": 1735}, \"1744\": {\"frequency\": 1, \"value\": 1744}, \"1747\": {\"frequency\": 1, \"value\": 1747}, \"1748\": {\"frequency\": 1, \"value\": 1748}, \"1753\": {\"frequency\": 1, \"value\": 1753}, \"1754\": {\"frequency\": 1, \"value\": 1754}, \"1758\": {\"frequency\": 1, \"value\": 1758}, \"1759\": {\"frequency\": 1, \"value\": 1759}, \"1760\": {\"frequency\": 1, \"value\": 1760}, \"1769\": {\"frequency\": 1, \"value\": 1769}, \"1772\": {\"frequency\": 1, \"value\": 1772}, \"1777\": {\"frequency\": 1, \"value\": 1777}, \"1779\": {\"frequency\": 1, \"value\": 1779}, \"1780\": {\"frequency\": 1, \"value\": 1780}, \"1783\": {\"frequency\": 1, \"value\": 1783}, \"1784\": {\"frequency\": 1, \"value\": 1784}, \"1785\": {\"frequency\": 1, \"value\": 1785}, \"1788\": {\"frequency\": 1, \"value\": 1788}, \"1791\": {\"frequency\": 1, \"value\": 1791}, \"1792\": {\"frequency\": 1, \"value\": 1792}, \"1797\": {\"frequency\": 1, \"value\": 1797}, \"1798\": {\"frequency\": 1, \"value\": 1798}, \"1799\": {\"frequency\": 1, \"value\": 1799}, \"1801\": {\"frequency\": 1, \"value\": 1801}, \"1804\": {\"frequency\": 1, \"value\": 1804}, \"1805\": {\"frequency\": 1, \"value\": 1805}, \"1806\": {\"frequency\": 1, \"value\": 1806}, \"1810\": {\"frequency\": 1, \"value\": 1810}, \"1811\": {\"frequency\": 1, \"value\": 1811}, \"1821\": {\"frequency\": 1, \"value\": 1821}, \"1827\": {\"frequency\": 1, \"value\": 1827}, \"1831\": {\"frequency\": 1, \"value\": 1831}, \"1833\": {\"frequency\": 1, \"value\": 1833}, \"1834\": {\"frequency\": 1, \"value\": 1834}, \"1835\": {\"frequency\": 1, \"value\": 1835}, \"1839\": {\"frequency\": 1, \"value\": 1839}, \"1840\": {\"frequency\": 1, \"value\": 1840}, \"1841\": {\"frequency\": 1, \"value\": 1841}, \"1845\": {\"frequency\": 1, \"value\": 1845}, \"1855\": {\"frequency\": 1, \"value\": 1855}, \"1856\": {\"frequency\": 1, \"value\": 1856}, \"1862\": {\"frequency\": 1, \"value\": 1862}, \"1863\": {\"frequency\": 1, \"value\": 1863}, \"1867\": {\"frequency\": 1, \"value\": 1867}, \"1870\": {\"frequency\": 1, \"value\": 1870}, \"1876\": {\"frequency\": 1, \"value\": 1876}, \"1882\": {\"frequency\": 1, \"value\": 1882}, \"1883\": {\"frequency\": 1, \"value\": 1883}, \"1884\": {\"frequency\": 1, \"value\": 1884}, \"1885\": {\"frequency\": 1, \"value\": 1885}, \"1888\": {\"frequency\": 1, \"value\": 1888}, \"1892\": {\"frequency\": 1, \"value\": 1892}, \"1894\": {\"frequency\": 1, \"value\": 1894}, \"1895\": {\"frequency\": 1, \"value\": 1895}, \"1897\": {\"frequency\": 1, \"value\": 1897}, \"1904\": {\"frequency\": 1, \"value\": 1904}, \"1907\": {\"frequency\": 1, \"value\": 1907}, \"1909\": {\"frequency\": 1, \"value\": 1909}, \"1911\": {\"frequency\": 1, \"value\": 1911}, \"1912\": {\"frequency\": 1, \"value\": 1912}, \"1914\": {\"frequency\": 1, \"value\": 1914}, \"1916\": {\"frequency\": 1, \"value\": 1916}, \"1917\": {\"frequency\": 1, \"value\": 1917}, \"1918\": {\"frequency\": 1, \"value\": 1918}, \"1921\": {\"frequency\": 1, \"value\": 1921}, \"1923\": {\"frequency\": 1, \"value\": 1923}, \"1924\": {\"frequency\": 1, \"value\": 1924}, \"1928\": {\"frequency\": 1, \"value\": 1928}, \"1931\": {\"frequency\": 1, \"value\": 1931}, \"1932\": {\"frequency\": 1, \"value\": 1932}, \"1939\": {\"frequency\": 1, \"value\": 1939}, \"1940\": {\"frequency\": 1, \"value\": 1940}, \"1941\": {\"frequency\": 1, \"value\": 1941}, \"1942\": {\"frequency\": 1, \"value\": 1942}, \"1944\": {\"frequency\": 1, \"value\": 1944}, \"1945\": {\"frequency\": 1, \"value\": 1945}, \"1946\": {\"frequency\": 1, \"value\": 1946}, \"1947\": {\"frequency\": 1, \"value\": 1947}, \"1950\": {\"frequency\": 1, \"value\": 1950}, \"1951\": {\"frequency\": 1, \"value\": 1951}, \"1952\": {\"frequency\": 1, \"value\": 1952}, \"1953\": {\"frequency\": 1, \"value\": 1953}, \"1954\": {\"frequency\": 1, \"value\": 1954}, \"1955\": {\"frequency\": 1, \"value\": 1955}, \"1956\": {\"frequency\": 1, \"value\": 1956}, \"1957\": {\"frequency\": 1, \"value\": 1957}, \"1958\": {\"frequency\": 1, \"value\": 1958}, \"1959\": {\"frequency\": 1, \"value\": 1959}, \"1960\": {\"frequency\": 1, \"value\": 1960}, \"1961\": {\"frequency\": 1, \"value\": 1961}, \"1962\": {\"frequency\": 1, \"value\": 1962}, \"1964\": {\"frequency\": 1, \"value\": 1964}, \"1965\": {\"frequency\": 1, \"value\": 1965}, \"1966\": {\"frequency\": 1, \"value\": 1966}, \"1967\": {\"frequency\": 1, \"value\": 1967}, \"1968\": {\"frequency\": 1, \"value\": 1968}, \"1969\": {\"frequency\": 1, \"value\": 1969}, \"1971\": {\"frequency\": 1, \"value\": 1971}, \"1972\": {\"frequency\": 1, \"value\": 1972}, \"1973\": {\"frequency\": 1, \"value\": 1973}, \"1974\": {\"frequency\": 1, \"value\": 1974}, \"1976\": {\"frequency\": 1, \"value\": 1976}, \"1982\": {\"frequency\": 1, \"value\": 1982}, \"1983\": {\"frequency\": 1, \"value\": 1983}, \"1985\": {\"frequency\": 1, \"value\": 1985}, \"1991\": {\"frequency\": 1, \"value\": 1991}, \"1992\": {\"frequency\": 1, \"value\": 1992}, \"1994\": {\"frequency\": 1, \"value\": 1994}, \"1995\": {\"frequency\": 1, \"value\": 1995}, \"1997\": {\"frequency\": 1, \"value\": 1997}, \"1999\": {\"frequency\": 1, \"value\": 1999}, \"2000\": {\"frequency\": 1, \"value\": 2000}, \"2001\": {\"frequency\": 1, \"value\": 2001}, \"2002\": {\"frequency\": 1, \"value\": 2002}, \"2003\": {\"frequency\": 1, \"value\": 2003}, \"2004\": {\"frequency\": 1, \"value\": 2004}, \"2005\": {\"frequency\": 1, \"value\": 2005}, \"2006\": {\"frequency\": 1, \"value\": 2006}, \"2007\": {\"frequency\": 1, \"value\": 2007}, \"2011\": {\"frequency\": 1, \"value\": 2011}, \"2012\": {\"frequency\": 1, \"value\": 2012}, \"2013\": {\"frequency\": 1, \"value\": 2013}, \"2014\": {\"frequency\": 1, \"value\": 2014}, \"2015\": {\"frequency\": 1, \"value\": 2015}, \"2016\": {\"frequency\": 1, \"value\": 2016}, \"2017\": {\"frequency\": 1, \"value\": 2017}, \"2018\": {\"frequency\": 1, \"value\": 2018}, \"2019\": {\"frequency\": 1, \"value\": 2019}, \"2020\": {\"frequency\": 1, \"value\": 2020}, \"2021\": {\"frequency\": 1, \"value\": 2021}, \"2023\": {\"frequency\": 1, \"value\": 2023}, \"2025\": {\"frequency\": 1, \"value\": 2025}, \"2026\": {\"frequency\": 1, \"value\": 2026}, \"2027\": {\"frequency\": 1, \"value\": 2027}, \"2028\": {\"frequency\": 1, \"value\": 2028}, \"2029\": {\"frequency\": 1, \"value\": 2029}, \"2031\": {\"frequency\": 1, \"value\": 2031}, \"2033\": {\"frequency\": 1, \"value\": 2033}, \"2034\": {\"frequency\": 1, \"value\": 2034}, \"2035\": {\"frequency\": 1, \"value\": 2035}, \"2037\": {\"frequency\": 1, \"value\": 2037}, \"2038\": {\"frequency\": 1, \"value\": 2038}, \"2040\": {\"frequency\": 1, \"value\": 2040}, \"2042\": {\"frequency\": 1, \"value\": 2042}, \"2044\": {\"frequency\": 1, \"value\": 2044}, \"2045\": {\"frequency\": 1, \"value\": 2045}, \"2046\": {\"frequency\": 1, \"value\": 2046}, \"2048\": {\"frequency\": 1, \"value\": 2048}, \"2049\": {\"frequency\": 1, \"value\": 2049}, \"2050\": {\"frequency\": 1, \"value\": 2050}, \"2052\": {\"frequency\": 1, \"value\": 2052}, \"2053\": {\"frequency\": 1, \"value\": 2053}, \"2054\": {\"frequency\": 1, \"value\": 2054}, \"2058\": {\"frequency\": 1, \"value\": 2058}, \"2059\": {\"frequency\": 1, \"value\": 2059}, \"2060\": {\"frequency\": 1, \"value\": 2060}, \"2064\": {\"frequency\": 1, \"value\": 2064}, \"2065\": {\"frequency\": 1, \"value\": 2065}, \"2066\": {\"frequency\": 1, \"value\": 2066}, \"2067\": {\"frequency\": 1, \"value\": 2067}, \"2068\": {\"frequency\": 1, \"value\": 2068}, \"2071\": {\"frequency\": 1, \"value\": 2071}, \"2072\": {\"frequency\": 1, \"value\": 2072}, \"2076\": {\"frequency\": 1, \"value\": 2076}, \"2078\": {\"frequency\": 1, \"value\": 2078}, \"2080\": {\"frequency\": 1, \"value\": 2080}, \"2081\": {\"frequency\": 1, \"value\": 2081}, \"2082\": {\"frequency\": 1, \"value\": 2082}, \"2083\": {\"frequency\": 1, \"value\": 2083}, \"2084\": {\"frequency\": 1, \"value\": 2084}, \"2085\": {\"frequency\": 1, \"value\": 2085}, \"2087\": {\"frequency\": 1, \"value\": 2087}, \"2088\": {\"frequency\": 1, \"value\": 2088}, \"2089\": {\"frequency\": 1, \"value\": 2089}, \"2090\": {\"frequency\": 1, \"value\": 2090}, \"2092\": {\"frequency\": 1, \"value\": 2092}, \"2093\": {\"frequency\": 1, \"value\": 2093}, \"2094\": {\"frequency\": 1, \"value\": 2094}, \"2095\": {\"frequency\": 1, \"value\": 2095}, \"2096\": {\"frequency\": 1, \"value\": 2096}, \"2097\": {\"frequency\": 1, \"value\": 2097}, \"2099\": {\"frequency\": 1, \"value\": 2099}, \"2100\": {\"frequency\": 1, \"value\": 2100}, \"2102\": {\"frequency\": 1, \"value\": 2102}, \"2103\": {\"frequency\": 1, \"value\": 2103}, \"2104\": {\"frequency\": 1, \"value\": 2104}, \"2105\": {\"frequency\": 1, \"value\": 2105}, \"2106\": {\"frequency\": 1, \"value\": 2106}, \"2107\": {\"frequency\": 1, \"value\": 2107}, \"2108\": {\"frequency\": 1, \"value\": 2108}, \"2109\": {\"frequency\": 1, \"value\": 2109}, \"2111\": {\"frequency\": 1, \"value\": 2111}, \"2112\": {\"frequency\": 1, \"value\": 2112}, \"2114\": {\"frequency\": 1, \"value\": 2114}, \"2115\": {\"frequency\": 1, \"value\": 2115}, \"2116\": {\"frequency\": 1, \"value\": 2116}, \"2117\": {\"frequency\": 1, \"value\": 2117}, \"2118\": {\"frequency\": 1, \"value\": 2118}, \"2119\": {\"frequency\": 1, \"value\": 2119}, \"2120\": {\"frequency\": 1, \"value\": 2120}, \"2121\": {\"frequency\": 1, \"value\": 2121}, \"2123\": {\"frequency\": 1, \"value\": 2123}, \"2124\": {\"frequency\": 1, \"value\": 2124}, \"2125\": {\"frequency\": 1, \"value\": 2125}, \"2126\": {\"frequency\": 1, \"value\": 2126}, \"2130\": {\"frequency\": 1, \"value\": 2130}, \"2132\": {\"frequency\": 1, \"value\": 2132}, \"2133\": {\"frequency\": 1, \"value\": 2133}, \"2134\": {\"frequency\": 1, \"value\": 2134}, \"2135\": {\"frequency\": 1, \"value\": 2135}, \"2136\": {\"frequency\": 1, \"value\": 2136}, \"2137\": {\"frequency\": 1, \"value\": 2137}, \"2139\": {\"frequency\": 1, \"value\": 2139}, \"2140\": {\"frequency\": 1, \"value\": 2140}, \"2143\": {\"frequency\": 1, \"value\": 2143}, \"2144\": {\"frequency\": 1, \"value\": 2144}, \"2145\": {\"frequency\": 1, \"value\": 2145}, \"2146\": {\"frequency\": 1, \"value\": 2146}, \"2147\": {\"frequency\": 1, \"value\": 2147}, \"2149\": {\"frequency\": 1, \"value\": 2149}, \"2150\": {\"frequency\": 1, \"value\": 2150}, \"2151\": {\"frequency\": 1, \"value\": 2151}, \"2153\": {\"frequency\": 1, \"value\": 2153}, \"2154\": {\"frequency\": 1, \"value\": 2154}, \"2155\": {\"frequency\": 1, \"value\": 2155}, \"2159\": {\"frequency\": 1, \"value\": 2159}, \"2160\": {\"frequency\": 1, \"value\": 2160}, \"2161\": {\"frequency\": 1, \"value\": 2161}, \"2162\": {\"frequency\": 1, \"value\": 2162}, \"2165\": {\"frequency\": 1, \"value\": 2165}, \"2166\": {\"frequency\": 1, \"value\": 2166}, \"2167\": {\"frequency\": 1, \"value\": 2167}, \"2168\": {\"frequency\": 1, \"value\": 2168}, \"2169\": {\"frequency\": 1, \"value\": 2169}, \"2171\": {\"frequency\": 1, \"value\": 2171}, \"2173\": {\"frequency\": 1, \"value\": 2173}, \"2174\": {\"frequency\": 1, \"value\": 2174}, \"2178\": {\"frequency\": 1, \"value\": 2178}, \"2181\": {\"frequency\": 1, \"value\": 2181}, \"2184\": {\"frequency\": 1, \"value\": 2184}, \"2186\": {\"frequency\": 1, \"value\": 2186}, \"2188\": {\"frequency\": 1, \"value\": 2188}, \"2190\": {\"frequency\": 1, \"value\": 2190}, \"2193\": {\"frequency\": 1, \"value\": 2193}, \"2194\": {\"frequency\": 1, \"value\": 2194}, \"2195\": {\"frequency\": 1, \"value\": 2195}, \"2202\": {\"frequency\": 1, \"value\": 2202}, \"2203\": {\"frequency\": 1, \"value\": 2203}, \"2204\": {\"frequency\": 1, \"value\": 2204}, \"2206\": {\"frequency\": 1, \"value\": 2206}, \"2208\": {\"frequency\": 1, \"value\": 2208}, \"2212\": {\"frequency\": 1, \"value\": 2212}, \"2231\": {\"frequency\": 1, \"value\": 2231}, \"2232\": {\"frequency\": 1, \"value\": 2232}, \"2236\": {\"frequency\": 1, \"value\": 2236}, \"2238\": {\"frequency\": 1, \"value\": 2238}, \"2240\": {\"frequency\": 1, \"value\": 2240}, \"2241\": {\"frequency\": 1, \"value\": 2241}, \"2243\": {\"frequency\": 1, \"value\": 2243}, \"2245\": {\"frequency\": 1, \"value\": 2245}, \"2247\": {\"frequency\": 1, \"value\": 2247}, \"2248\": {\"frequency\": 1, \"value\": 2248}, \"2249\": {\"frequency\": 1, \"value\": 2249}, \"2251\": {\"frequency\": 1, \"value\": 2251}, \"2252\": {\"frequency\": 1, \"value\": 2252}, \"2253\": {\"frequency\": 1, \"value\": 2253}, \"2259\": {\"frequency\": 1, \"value\": 2259}, \"2260\": {\"frequency\": 1, \"value\": 2260}, \"2261\": {\"frequency\": 1, \"value\": 2261}, \"2263\": {\"frequency\": 1, \"value\": 2263}, \"2264\": {\"frequency\": 1, \"value\": 2264}, \"2265\": {\"frequency\": 1, \"value\": 2265}, \"2266\": {\"frequency\": 1, \"value\": 2266}, \"2268\": {\"frequency\": 1, \"value\": 2268}, \"2269\": {\"frequency\": 1, \"value\": 2269}, \"2273\": {\"frequency\": 1, \"value\": 2273}, \"2275\": {\"frequency\": 1, \"value\": 2275}, \"2276\": {\"frequency\": 1, \"value\": 2276}, \"2278\": {\"frequency\": 1, \"value\": 2278}, \"2279\": {\"frequency\": 1, \"value\": 2279}, \"2280\": {\"frequency\": 1, \"value\": 2280}, \"2282\": {\"frequency\": 1, \"value\": 2282}, \"2285\": {\"frequency\": 1, \"value\": 2285}, \"2287\": {\"frequency\": 1, \"value\": 2287}, \"2288\": {\"frequency\": 1, \"value\": 2288}, \"2289\": {\"frequency\": 1, \"value\": 2289}, \"2290\": {\"frequency\": 1, \"value\": 2290}, \"2291\": {\"frequency\": 1, \"value\": 2291}, \"2294\": {\"frequency\": 1, \"value\": 2294}, \"2295\": {\"frequency\": 1, \"value\": 2295}, \"2297\": {\"frequency\": 1, \"value\": 2297}, \"2298\": {\"frequency\": 1, \"value\": 2298}, \"2300\": {\"frequency\": 1, \"value\": 2300}, \"2301\": {\"frequency\": 1, \"value\": 2301}, \"2302\": {\"frequency\": 1, \"value\": 2302}, \"2303\": {\"frequency\": 1, \"value\": 2303}, \"2307\": {\"frequency\": 1, \"value\": 2307}, \"2311\": {\"frequency\": 1, \"value\": 2311}, \"2312\": {\"frequency\": 1, \"value\": 2312}, \"2313\": {\"frequency\": 1, \"value\": 2313}, \"2315\": {\"frequency\": 1, \"value\": 2315}, \"2316\": {\"frequency\": 1, \"value\": 2316}, \"2318\": {\"frequency\": 1, \"value\": 2318}, \"2320\": {\"frequency\": 1, \"value\": 2320}, \"2321\": {\"frequency\": 1, \"value\": 2321}, \"2322\": {\"frequency\": 1, \"value\": 2322}, \"2323\": {\"frequency\": 1, \"value\": 2323}, \"2324\": {\"frequency\": 1, \"value\": 2324}, \"2328\": {\"frequency\": 1, \"value\": 2328}, \"2329\": {\"frequency\": 1, \"value\": 2329}, \"2330\": {\"frequency\": 1, \"value\": 2330}, \"2333\": {\"frequency\": 1, \"value\": 2333}, \"2334\": {\"frequency\": 1, \"value\": 2334}, \"2335\": {\"frequency\": 1, \"value\": 2335}, \"2336\": {\"frequency\": 1, \"value\": 2336}, \"2338\": {\"frequency\": 1, \"value\": 2338}, \"2340\": {\"frequency\": 1, \"value\": 2340}, \"2344\": {\"frequency\": 1, \"value\": 2344}, \"2345\": {\"frequency\": 1, \"value\": 2345}, \"2346\": {\"frequency\": 1, \"value\": 2346}, \"2347\": {\"frequency\": 1, \"value\": 2347}, \"2348\": {\"frequency\": 1, \"value\": 2348}, \"2349\": {\"frequency\": 1, \"value\": 2349}, \"2352\": {\"frequency\": 1, \"value\": 2352}, \"2353\": {\"frequency\": 1, \"value\": 2353}, \"2354\": {\"frequency\": 1, \"value\": 2354}, \"2355\": {\"frequency\": 1, \"value\": 2355}, \"2356\": {\"frequency\": 1, \"value\": 2356}, \"2357\": {\"frequency\": 1, \"value\": 2357}, \"2359\": {\"frequency\": 1, \"value\": 2359}, \"2363\": {\"frequency\": 1, \"value\": 2363}, \"2366\": {\"frequency\": 1, \"value\": 2366}, \"2367\": {\"frequency\": 1, \"value\": 2367}, \"2369\": {\"frequency\": 1, \"value\": 2369}, \"2370\": {\"frequency\": 1, \"value\": 2370}, \"2371\": {\"frequency\": 1, \"value\": 2371}, \"2372\": {\"frequency\": 1, \"value\": 2372}, \"2373\": {\"frequency\": 1, \"value\": 2373}, \"2374\": {\"frequency\": 1, \"value\": 2374}, \"2375\": {\"frequency\": 1, \"value\": 2375}, \"2376\": {\"frequency\": 1, \"value\": 2376}, \"2377\": {\"frequency\": 1, \"value\": 2377}, \"2378\": {\"frequency\": 1, \"value\": 2378}, \"2380\": {\"frequency\": 1, \"value\": 2380}, \"2381\": {\"frequency\": 1, \"value\": 2381}, \"2382\": {\"frequency\": 1, \"value\": 2382}, \"2383\": {\"frequency\": 1, \"value\": 2383}, \"2384\": {\"frequency\": 1, \"value\": 2384}, \"2385\": {\"frequency\": 1, \"value\": 2385}, \"2386\": {\"frequency\": 1, \"value\": 2386}, \"2389\": {\"frequency\": 1, \"value\": 2389}, \"2390\": {\"frequency\": 1, \"value\": 2390}, \"2391\": {\"frequency\": 1, \"value\": 2391}, \"2392\": {\"frequency\": 1, \"value\": 2392}, \"2393\": {\"frequency\": 1, \"value\": 2393}, \"2394\": {\"frequency\": 1, \"value\": 2394}, \"2395\": {\"frequency\": 1, \"value\": 2395}, \"2396\": {\"frequency\": 1, \"value\": 2396}, \"2398\": {\"frequency\": 1, \"value\": 2398}, \"2399\": {\"frequency\": 1, \"value\": 2399}, \"2401\": {\"frequency\": 1, \"value\": 2401}, \"2402\": {\"frequency\": 1, \"value\": 2402}, \"2403\": {\"frequency\": 1, \"value\": 2403}, \"2404\": {\"frequency\": 1, \"value\": 2404}, \"2405\": {\"frequency\": 1, \"value\": 2405}, \"2406\": {\"frequency\": 1, \"value\": 2406}, \"2407\": {\"frequency\": 1, \"value\": 2407}, \"2408\": {\"frequency\": 1, \"value\": 2408}, \"2409\": {\"frequency\": 1, \"value\": 2409}, \"2410\": {\"frequency\": 1, \"value\": 2410}, \"2411\": {\"frequency\": 1, \"value\": 2411}, \"2412\": {\"frequency\": 1, \"value\": 2412}, \"2413\": {\"frequency\": 1, \"value\": 2413}, \"2416\": {\"frequency\": 1, \"value\": 2416}, \"2417\": {\"frequency\": 1, \"value\": 2417}, \"2418\": {\"frequency\": 1, \"value\": 2418}, \"2420\": {\"frequency\": 1, \"value\": 2420}, \"2421\": {\"frequency\": 1, \"value\": 2421}, \"2422\": {\"frequency\": 1, \"value\": 2422}, \"2423\": {\"frequency\": 1, \"value\": 2423}, \"2424\": {\"frequency\": 1, \"value\": 2424}, \"2428\": {\"frequency\": 1, \"value\": 2428}, \"2429\": {\"frequency\": 1, \"value\": 2429}, \"2430\": {\"frequency\": 1, \"value\": 2430}, \"2431\": {\"frequency\": 1, \"value\": 2431}, \"2432\": {\"frequency\": 1, \"value\": 2432}, \"2433\": {\"frequency\": 1, \"value\": 2433}, \"2436\": {\"frequency\": 1, \"value\": 2436}, \"2439\": {\"frequency\": 1, \"value\": 2439}, \"2443\": {\"frequency\": 1, \"value\": 2443}, \"2446\": {\"frequency\": 1, \"value\": 2446}, \"2447\": {\"frequency\": 1, \"value\": 2447}, \"2450\": {\"frequency\": 1, \"value\": 2450}, \"2451\": {\"frequency\": 1, \"value\": 2451}, \"2453\": {\"frequency\": 1, \"value\": 2453}, \"2454\": {\"frequency\": 1, \"value\": 2454}, \"2455\": {\"frequency\": 1, \"value\": 2455}, \"2456\": {\"frequency\": 1, \"value\": 2456}, \"2457\": {\"frequency\": 1, \"value\": 2457}, \"2459\": {\"frequency\": 1, \"value\": 2459}, \"2461\": {\"frequency\": 1, \"value\": 2461}, \"2463\": {\"frequency\": 1, \"value\": 2463}, \"2467\": {\"frequency\": 1, \"value\": 2467}, \"2469\": {\"frequency\": 1, \"value\": 2469}, \"2470\": {\"frequency\": 1, \"value\": 2470}, \"2471\": {\"frequency\": 1, \"value\": 2471}, \"2472\": {\"frequency\": 1, \"value\": 2472}, \"2473\": {\"frequency\": 1, \"value\": 2473}, \"2474\": {\"frequency\": 1, \"value\": 2474}, \"2475\": {\"frequency\": 1, \"value\": 2475}, \"2476\": {\"frequency\": 1, \"value\": 2476}, \"2477\": {\"frequency\": 1, \"value\": 2477}, \"2478\": {\"frequency\": 1, \"value\": 2478}, \"2479\": {\"frequency\": 1, \"value\": 2479}, \"2485\": {\"frequency\": 1, \"value\": 2485}, \"2486\": {\"frequency\": 1, \"value\": 2486}, \"2490\": {\"frequency\": 1, \"value\": 2490}, \"2491\": {\"frequency\": 1, \"value\": 2491}, \"2494\": {\"frequency\": 1, \"value\": 2494}, \"2495\": {\"frequency\": 1, \"value\": 2495}, \"2496\": {\"frequency\": 1, \"value\": 2496}, \"2497\": {\"frequency\": 1, \"value\": 2497}, \"2498\": {\"frequency\": 1, \"value\": 2498}, \"2501\": {\"frequency\": 1, \"value\": 2501}, \"2502\": {\"frequency\": 1, \"value\": 2502}, \"2506\": {\"frequency\": 1, \"value\": 2506}, \"2511\": {\"frequency\": 1, \"value\": 2511}, \"2513\": {\"frequency\": 1, \"value\": 2513}, \"2517\": {\"frequency\": 1, \"value\": 2517}, \"2522\": {\"frequency\": 1, \"value\": 2522}, \"2525\": {\"frequency\": 1, \"value\": 2525}, \"2526\": {\"frequency\": 1, \"value\": 2526}, \"2527\": {\"frequency\": 1, \"value\": 2527}, \"2528\": {\"frequency\": 1, \"value\": 2528}, \"2529\": {\"frequency\": 1, \"value\": 2529}, \"2530\": {\"frequency\": 1, \"value\": 2530}, \"2531\": {\"frequency\": 1, \"value\": 2531}, \"2532\": {\"frequency\": 1, \"value\": 2532}, \"2533\": {\"frequency\": 1, \"value\": 2533}, \"2535\": {\"frequency\": 1, \"value\": 2535}, \"2536\": {\"frequency\": 1, \"value\": 2536}, \"2537\": {\"frequency\": 1, \"value\": 2537}, \"2539\": {\"frequency\": 1, \"value\": 2539}, \"2540\": {\"frequency\": 1, \"value\": 2540}, \"2541\": {\"frequency\": 1, \"value\": 2541}, \"2542\": {\"frequency\": 1, \"value\": 2542}, \"2546\": {\"frequency\": 1, \"value\": 2546}, \"2549\": {\"frequency\": 1, \"value\": 2549}, \"2550\": {\"frequency\": 1, \"value\": 2550}, \"2551\": {\"frequency\": 1, \"value\": 2551}, \"2553\": {\"frequency\": 1, \"value\": 2553}, \"2555\": {\"frequency\": 1, \"value\": 2555}, \"2560\": {\"frequency\": 1, \"value\": 2560}, \"2561\": {\"frequency\": 1, \"value\": 2561}, \"2565\": {\"frequency\": 1, \"value\": 2565}, \"2567\": {\"frequency\": 1, \"value\": 2567}, \"2568\": {\"frequency\": 1, \"value\": 2568}, \"2570\": {\"frequency\": 1, \"value\": 2570}, \"2571\": {\"frequency\": 1, \"value\": 2571}, \"2572\": {\"frequency\": 1, \"value\": 2572}, \"2574\": {\"frequency\": 1, \"value\": 2574}, \"2580\": {\"frequency\": 1, \"value\": 2580}, \"2581\": {\"frequency\": 1, \"value\": 2581}, \"2583\": {\"frequency\": 1, \"value\": 2583}, \"2589\": {\"frequency\": 1, \"value\": 2589}, \"2593\": {\"frequency\": 1, \"value\": 2593}, \"2596\": {\"frequency\": 1, \"value\": 2596}, \"2598\": {\"frequency\": 1, \"value\": 2598}, \"2599\": {\"frequency\": 1, \"value\": 2599}, \"2600\": {\"frequency\": 1, \"value\": 2600}, \"2605\": {\"frequency\": 1, \"value\": 2605}, \"2606\": {\"frequency\": 1, \"value\": 2606}, \"2607\": {\"frequency\": 1, \"value\": 2607}, \"2609\": {\"frequency\": 1, \"value\": 2609}, \"2610\": {\"frequency\": 1, \"value\": 2610}, \"2611\": {\"frequency\": 1, \"value\": 2611}, \"2612\": {\"frequency\": 1, \"value\": 2612}, \"2615\": {\"frequency\": 1, \"value\": 2615}, \"2616\": {\"frequency\": 1, \"value\": 2616}, \"2617\": {\"frequency\": 1, \"value\": 2617}, \"2622\": {\"frequency\": 1, \"value\": 2622}, \"2625\": {\"frequency\": 1, \"value\": 2625}, \"2628\": {\"frequency\": 1, \"value\": 2628}, \"2630\": {\"frequency\": 1, \"value\": 2630}, \"2634\": {\"frequency\": 1, \"value\": 2634}, \"2639\": {\"frequency\": 1, \"value\": 2639}, \"2640\": {\"frequency\": 1, \"value\": 2640}, \"2641\": {\"frequency\": 1, \"value\": 2641}, \"2642\": {\"frequency\": 1, \"value\": 2642}, \"2643\": {\"frequency\": 1, \"value\": 2643}, \"2645\": {\"frequency\": 1, \"value\": 2645}, \"2648\": {\"frequency\": 1, \"value\": 2648}, \"2654\": {\"frequency\": 1, \"value\": 2654}, \"2657\": {\"frequency\": 1, \"value\": 2657}, \"2662\": {\"frequency\": 1, \"value\": 2662}, \"2664\": {\"frequency\": 1, \"value\": 2664}, \"2665\": {\"frequency\": 1, \"value\": 2665}, \"2668\": {\"frequency\": 1, \"value\": 2668}, \"2670\": {\"frequency\": 1, \"value\": 2670}, \"2671\": {\"frequency\": 1, \"value\": 2671}, \"2672\": {\"frequency\": 1, \"value\": 2672}, \"2676\": {\"frequency\": 1, \"value\": 2676}, \"2677\": {\"frequency\": 1, \"value\": 2677}, \"2683\": {\"frequency\": 1, \"value\": 2683}, \"2686\": {\"frequency\": 1, \"value\": 2686}, \"2687\": {\"frequency\": 1, \"value\": 2687}, \"2688\": {\"frequency\": 1, \"value\": 2688}, \"2690\": {\"frequency\": 1, \"value\": 2690}, \"2692\": {\"frequency\": 1, \"value\": 2692}, \"2694\": {\"frequency\": 1, \"value\": 2694}, \"2699\": {\"frequency\": 1, \"value\": 2699}, \"2700\": {\"frequency\": 1, \"value\": 2700}, \"2701\": {\"frequency\": 1, \"value\": 2701}, \"2702\": {\"frequency\": 1, \"value\": 2702}, \"2706\": {\"frequency\": 1, \"value\": 2706}, \"2707\": {\"frequency\": 1, \"value\": 2707}, \"2708\": {\"frequency\": 1, \"value\": 2708}, \"2709\": {\"frequency\": 1, \"value\": 2709}, \"2710\": {\"frequency\": 1, \"value\": 2710}, \"2711\": {\"frequency\": 1, \"value\": 2711}, \"2712\": {\"frequency\": 1, \"value\": 2712}, \"2713\": {\"frequency\": 1, \"value\": 2713}, \"2715\": {\"frequency\": 1, \"value\": 2715}, \"2716\": {\"frequency\": 1, \"value\": 2716}, \"2717\": {\"frequency\": 1, \"value\": 2717}, \"2718\": {\"frequency\": 1, \"value\": 2718}, \"2719\": {\"frequency\": 1, \"value\": 2719}, \"2720\": {\"frequency\": 1, \"value\": 2720}, \"2721\": {\"frequency\": 1, \"value\": 2721}, \"2722\": {\"frequency\": 1, \"value\": 2722}, \"2723\": {\"frequency\": 1, \"value\": 2723}, \"2724\": {\"frequency\": 1, \"value\": 2724}, \"2726\": {\"frequency\": 1, \"value\": 2726}, \"2728\": {\"frequency\": 1, \"value\": 2728}, \"2731\": {\"frequency\": 1, \"value\": 2731}, \"2732\": {\"frequency\": 1, \"value\": 2732}, \"2734\": {\"frequency\": 1, \"value\": 2734}, \"2735\": {\"frequency\": 1, \"value\": 2735}, \"2736\": {\"frequency\": 1, \"value\": 2736}, \"2738\": {\"frequency\": 1, \"value\": 2738}, \"2739\": {\"frequency\": 1, \"value\": 2739}, \"2741\": {\"frequency\": 1, \"value\": 2741}, \"2745\": {\"frequency\": 1, \"value\": 2745}, \"2746\": {\"frequency\": 1, \"value\": 2746}, \"2747\": {\"frequency\": 1, \"value\": 2747}, \"2749\": {\"frequency\": 1, \"value\": 2749}, \"2750\": {\"frequency\": 1, \"value\": 2750}, \"2752\": {\"frequency\": 1, \"value\": 2752}, \"2753\": {\"frequency\": 1, \"value\": 2753}, \"2756\": {\"frequency\": 1, \"value\": 2756}, \"2757\": {\"frequency\": 1, \"value\": 2757}, \"2759\": {\"frequency\": 1, \"value\": 2759}, \"2761\": {\"frequency\": 1, \"value\": 2761}, \"2762\": {\"frequency\": 1, \"value\": 2762}, \"2763\": {\"frequency\": 1, \"value\": 2763}, \"2764\": {\"frequency\": 1, \"value\": 2764}, \"2768\": {\"frequency\": 1, \"value\": 2768}, \"2770\": {\"frequency\": 1, \"value\": 2770}, \"2772\": {\"frequency\": 1, \"value\": 2772}, \"2774\": {\"frequency\": 1, \"value\": 2774}, \"2779\": {\"frequency\": 1, \"value\": 2779}, \"2786\": {\"frequency\": 1, \"value\": 2786}, \"2787\": {\"frequency\": 1, \"value\": 2787}, \"2788\": {\"frequency\": 1, \"value\": 2788}, \"2789\": {\"frequency\": 1, \"value\": 2789}, \"2791\": {\"frequency\": 1, \"value\": 2791}, \"2792\": {\"frequency\": 1, \"value\": 2792}, \"2793\": {\"frequency\": 1, \"value\": 2793}, \"2794\": {\"frequency\": 1, \"value\": 2794}, \"2795\": {\"frequency\": 1, \"value\": 2795}, \"2796\": {\"frequency\": 1, \"value\": 2796}, \"2797\": {\"frequency\": 1, \"value\": 2797}, \"2798\": {\"frequency\": 1, \"value\": 2798}, \"2799\": {\"frequency\": 1, \"value\": 2799}, \"2802\": {\"frequency\": 1, \"value\": 2802}, \"2803\": {\"frequency\": 1, \"value\": 2803}, \"2804\": {\"frequency\": 1, \"value\": 2804}, \"2805\": {\"frequency\": 1, \"value\": 2805}, \"2806\": {\"frequency\": 1, \"value\": 2806}, \"2808\": {\"frequency\": 1, \"value\": 2808}, \"2812\": {\"frequency\": 1, \"value\": 2812}, \"2815\": {\"frequency\": 1, \"value\": 2815}, \"2816\": {\"frequency\": 1, \"value\": 2816}, \"2817\": {\"frequency\": 1, \"value\": 2817}, \"2818\": {\"frequency\": 1, \"value\": 2818}, \"2819\": {\"frequency\": 1, \"value\": 2819}, \"2822\": {\"frequency\": 1, \"value\": 2822}, \"2824\": {\"frequency\": 1, \"value\": 2824}, \"2826\": {\"frequency\": 1, \"value\": 2826}, \"2828\": {\"frequency\": 1, \"value\": 2828}, \"2836\": {\"frequency\": 1, \"value\": 2836}, \"2837\": {\"frequency\": 1, \"value\": 2837}, \"2839\": {\"frequency\": 1, \"value\": 2839}, \"2840\": {\"frequency\": 1, \"value\": 2840}, \"2841\": {\"frequency\": 1, \"value\": 2841}, \"2844\": {\"frequency\": 1, \"value\": 2844}, \"2851\": {\"frequency\": 1, \"value\": 2851}, \"2852\": {\"frequency\": 1, \"value\": 2852}, \"2857\": {\"frequency\": 1, \"value\": 2857}, \"2858\": {\"frequency\": 1, \"value\": 2858}, \"2859\": {\"frequency\": 1, \"value\": 2859}, \"2860\": {\"frequency\": 1, \"value\": 2860}, \"2861\": {\"frequency\": 1, \"value\": 2861}, \"2863\": {\"frequency\": 1, \"value\": 2863}, \"2867\": {\"frequency\": 1, \"value\": 2867}, \"2870\": {\"frequency\": 1, \"value\": 2870}, \"2871\": {\"frequency\": 1, \"value\": 2871}, \"2872\": {\"frequency\": 1, \"value\": 2872}, \"2874\": {\"frequency\": 1, \"value\": 2874}, \"2875\": {\"frequency\": 1, \"value\": 2875}, \"2877\": {\"frequency\": 1, \"value\": 2877}, \"2879\": {\"frequency\": 1, \"value\": 2879}, \"2881\": {\"frequency\": 1, \"value\": 2881}, \"2883\": {\"frequency\": 1, \"value\": 2883}, \"2884\": {\"frequency\": 1, \"value\": 2884}, \"2888\": {\"frequency\": 1, \"value\": 2888}, \"2889\": {\"frequency\": 1, \"value\": 2889}, \"2890\": {\"frequency\": 1, \"value\": 2890}, \"2891\": {\"frequency\": 1, \"value\": 2891}, \"2896\": {\"frequency\": 1, \"value\": 2896}, \"2897\": {\"frequency\": 1, \"value\": 2897}, \"2898\": {\"frequency\": 1, \"value\": 2898}, \"2899\": {\"frequency\": 1, \"value\": 2899}, \"2901\": {\"frequency\": 1, \"value\": 2901}, \"2902\": {\"frequency\": 1, \"value\": 2902}, \"2903\": {\"frequency\": 1, \"value\": 2903}, \"2906\": {\"frequency\": 1, \"value\": 2906}, \"2908\": {\"frequency\": 1, \"value\": 2908}, \"2912\": {\"frequency\": 1, \"value\": 2912}, \"2915\": {\"frequency\": 1, \"value\": 2915}, \"2916\": {\"frequency\": 1, \"value\": 2916}, \"2917\": {\"frequency\": 1, \"value\": 2917}, \"2918\": {\"frequency\": 1, \"value\": 2918}, \"2919\": {\"frequency\": 1, \"value\": 2919}, \"2921\": {\"frequency\": 1, \"value\": 2921}, \"2924\": {\"frequency\": 1, \"value\": 2924}, \"2926\": {\"frequency\": 1, \"value\": 2926}, \"2928\": {\"frequency\": 1, \"value\": 2928}, \"2935\": {\"frequency\": 1, \"value\": 2935}, \"2942\": {\"frequency\": 1, \"value\": 2942}, \"2943\": {\"frequency\": 1, \"value\": 2943}, \"2944\": {\"frequency\": 1, \"value\": 2944}, \"2946\": {\"frequency\": 1, \"value\": 2946}, \"2947\": {\"frequency\": 1, \"value\": 2947}, \"2948\": {\"frequency\": 1, \"value\": 2948}, \"2949\": {\"frequency\": 1, \"value\": 2949}, \"2950\": {\"frequency\": 1, \"value\": 2950}, \"2951\": {\"frequency\": 1, \"value\": 2951}, \"2952\": {\"frequency\": 1, \"value\": 2952}, \"2956\": {\"frequency\": 1, \"value\": 2956}, \"2959\": {\"frequency\": 1, \"value\": 2959}, \"2961\": {\"frequency\": 1, \"value\": 2961}, \"2966\": {\"frequency\": 1, \"value\": 2966}, \"2968\": {\"frequency\": 1, \"value\": 2968}, \"2971\": {\"frequency\": 1, \"value\": 2971}, \"2973\": {\"frequency\": 1, \"value\": 2973}, \"2976\": {\"frequency\": 1, \"value\": 2976}, \"2977\": {\"frequency\": 1, \"value\": 2977}, \"2978\": {\"frequency\": 1, \"value\": 2978}, \"2979\": {\"frequency\": 1, \"value\": 2979}, \"2985\": {\"frequency\": 1, \"value\": 2985}, \"2987\": {\"frequency\": 1, \"value\": 2987}, \"2988\": {\"frequency\": 1, \"value\": 2988}, \"2989\": {\"frequency\": 1, \"value\": 2989}, \"2990\": {\"frequency\": 1, \"value\": 2990}, \"2991\": {\"frequency\": 1, \"value\": 2991}, \"2993\": {\"frequency\": 1, \"value\": 2993}, \"2995\": {\"frequency\": 1, \"value\": 2995}, \"2997\": {\"frequency\": 1, \"value\": 2997}, \"3002\": {\"frequency\": 1, \"value\": 3002}, \"3004\": {\"frequency\": 1, \"value\": 3004}, \"3005\": {\"frequency\": 1, \"value\": 3005}, \"3006\": {\"frequency\": 1, \"value\": 3006}, \"3007\": {\"frequency\": 1, \"value\": 3007}, \"3008\": {\"frequency\": 1, \"value\": 3008}, \"3014\": {\"frequency\": 1, \"value\": 3014}, \"3015\": {\"frequency\": 1, \"value\": 3015}, \"3016\": {\"frequency\": 1, \"value\": 3016}, \"3018\": {\"frequency\": 1, \"value\": 3018}, \"3019\": {\"frequency\": 1, \"value\": 3019}, \"3020\": {\"frequency\": 1, \"value\": 3020}, \"3022\": {\"frequency\": 1, \"value\": 3022}, \"3024\": {\"frequency\": 1, \"value\": 3024}, \"3030\": {\"frequency\": 1, \"value\": 3030}, \"3032\": {\"frequency\": 1, \"value\": 3032}, \"3033\": {\"frequency\": 1, \"value\": 3033}, \"3034\": {\"frequency\": 1, \"value\": 3034}, \"3036\": {\"frequency\": 1, \"value\": 3036}, \"3037\": {\"frequency\": 1, \"value\": 3037}, \"3039\": {\"frequency\": 1, \"value\": 3039}, \"3040\": {\"frequency\": 1, \"value\": 3040}, \"3041\": {\"frequency\": 1, \"value\": 3041}, \"3042\": {\"frequency\": 1, \"value\": 3042}, \"3043\": {\"frequency\": 1, \"value\": 3043}, \"3044\": {\"frequency\": 1, \"value\": 3044}, \"3045\": {\"frequency\": 1, \"value\": 3045}, \"3046\": {\"frequency\": 1, \"value\": 3046}, \"3048\": {\"frequency\": 1, \"value\": 3048}, \"3051\": {\"frequency\": 1, \"value\": 3051}, \"3052\": {\"frequency\": 1, \"value\": 3052}, \"3053\": {\"frequency\": 1, \"value\": 3053}, \"3055\": {\"frequency\": 1, \"value\": 3055}, \"3060\": {\"frequency\": 1, \"value\": 3060}, \"3061\": {\"frequency\": 1, \"value\": 3061}, \"3062\": {\"frequency\": 1, \"value\": 3062}, \"3063\": {\"frequency\": 1, \"value\": 3063}, \"3066\": {\"frequency\": 1, \"value\": 3066}, \"3068\": {\"frequency\": 1, \"value\": 3068}, \"3070\": {\"frequency\": 1, \"value\": 3070}, \"3071\": {\"frequency\": 1, \"value\": 3071}, \"3072\": {\"frequency\": 1, \"value\": 3072}, \"3074\": {\"frequency\": 1, \"value\": 3074}, \"3077\": {\"frequency\": 1, \"value\": 3077}, \"3078\": {\"frequency\": 1, \"value\": 3078}, \"3081\": {\"frequency\": 1, \"value\": 3081}, \"3082\": {\"frequency\": 1, \"value\": 3082}, \"3083\": {\"frequency\": 1, \"value\": 3083}, \"3087\": {\"frequency\": 1, \"value\": 3087}, \"3088\": {\"frequency\": 1, \"value\": 3088}, \"3089\": {\"frequency\": 1, \"value\": 3089}, \"3090\": {\"frequency\": 1, \"value\": 3090}, \"3094\": {\"frequency\": 1, \"value\": 3094}, \"3095\": {\"frequency\": 1, \"value\": 3095}, \"3098\": {\"frequency\": 1, \"value\": 3098}, \"3099\": {\"frequency\": 1, \"value\": 3099}, \"3100\": {\"frequency\": 1, \"value\": 3100}, \"3101\": {\"frequency\": 1, \"value\": 3101}, \"3102\": {\"frequency\": 1, \"value\": 3102}, \"3104\": {\"frequency\": 1, \"value\": 3104}, \"3105\": {\"frequency\": 1, \"value\": 3105}, \"3106\": {\"frequency\": 1, \"value\": 3106}, \"3107\": {\"frequency\": 1, \"value\": 3107}, \"3108\": {\"frequency\": 1, \"value\": 3108}, \"3113\": {\"frequency\": 1, \"value\": 3113}, \"3114\": {\"frequency\": 1, \"value\": 3114}, \"3115\": {\"frequency\": 1, \"value\": 3115}, \"3117\": {\"frequency\": 1, \"value\": 3117}, \"3118\": {\"frequency\": 1, \"value\": 3118}, \"3120\": {\"frequency\": 1, \"value\": 3120}, \"3125\": {\"frequency\": 1, \"value\": 3125}, \"3129\": {\"frequency\": 1, \"value\": 3129}, \"3130\": {\"frequency\": 1, \"value\": 3130}, \"3133\": {\"frequency\": 1, \"value\": 3133}, \"3135\": {\"frequency\": 1, \"value\": 3135}, \"3138\": {\"frequency\": 1, \"value\": 3138}, \"3139\": {\"frequency\": 1, \"value\": 3139}, \"3141\": {\"frequency\": 1, \"value\": 3141}, \"3142\": {\"frequency\": 1, \"value\": 3142}, \"3143\": {\"frequency\": 1, \"value\": 3143}, \"3145\": {\"frequency\": 1, \"value\": 3145}, \"3146\": {\"frequency\": 1, \"value\": 3146}, \"3147\": {\"frequency\": 1, \"value\": 3147}, \"3148\": {\"frequency\": 1, \"value\": 3148}, \"3152\": {\"frequency\": 1, \"value\": 3152}, \"3153\": {\"frequency\": 1, \"value\": 3153}, \"3155\": {\"frequency\": 1, \"value\": 3155}, \"3156\": {\"frequency\": 1, \"value\": 3156}, \"3157\": {\"frequency\": 1, \"value\": 3157}, \"3159\": {\"frequency\": 1, \"value\": 3159}, \"3160\": {\"frequency\": 1, \"value\": 3160}, \"3163\": {\"frequency\": 1, \"value\": 3163}, \"3168\": {\"frequency\": 1, \"value\": 3168}, \"3169\": {\"frequency\": 1, \"value\": 3169}, \"3173\": {\"frequency\": 1, \"value\": 3173}, \"3174\": {\"frequency\": 1, \"value\": 3174}, \"3175\": {\"frequency\": 1, \"value\": 3175}, \"3176\": {\"frequency\": 1, \"value\": 3176}, \"3177\": {\"frequency\": 1, \"value\": 3177}, \"3178\": {\"frequency\": 1, \"value\": 3178}, \"3179\": {\"frequency\": 1, \"value\": 3179}, \"3181\": {\"frequency\": 1, \"value\": 3181}, \"3182\": {\"frequency\": 1, \"value\": 3182}, \"3185\": {\"frequency\": 1, \"value\": 3185}, \"3186\": {\"frequency\": 1, \"value\": 3186}, \"3189\": {\"frequency\": 1, \"value\": 3189}, \"3190\": {\"frequency\": 1, \"value\": 3190}, \"3192\": {\"frequency\": 1, \"value\": 3192}, \"3194\": {\"frequency\": 1, \"value\": 3194}, \"3196\": {\"frequency\": 1, \"value\": 3196}, \"3197\": {\"frequency\": 1, \"value\": 3197}, \"3198\": {\"frequency\": 1, \"value\": 3198}, \"3201\": {\"frequency\": 1, \"value\": 3201}, \"3203\": {\"frequency\": 1, \"value\": 3203}, \"3204\": {\"frequency\": 1, \"value\": 3204}, \"3206\": {\"frequency\": 1, \"value\": 3206}, \"3208\": {\"frequency\": 1, \"value\": 3208}, \"3210\": {\"frequency\": 1, \"value\": 3210}, \"3213\": {\"frequency\": 1, \"value\": 3213}, \"3217\": {\"frequency\": 1, \"value\": 3217}, \"3219\": {\"frequency\": 1, \"value\": 3219}, \"3235\": {\"frequency\": 1, \"value\": 3235}, \"3238\": {\"frequency\": 1, \"value\": 3238}, \"3243\": {\"frequency\": 1, \"value\": 3243}, \"3244\": {\"frequency\": 1, \"value\": 3244}, \"3245\": {\"frequency\": 1, \"value\": 3245}, \"3246\": {\"frequency\": 1, \"value\": 3246}, \"3247\": {\"frequency\": 1, \"value\": 3247}, \"3248\": {\"frequency\": 1, \"value\": 3248}, \"3249\": {\"frequency\": 1, \"value\": 3249}, \"3250\": {\"frequency\": 1, \"value\": 3250}, \"3251\": {\"frequency\": 1, \"value\": 3251}, \"3252\": {\"frequency\": 1, \"value\": 3252}, \"3253\": {\"frequency\": 1, \"value\": 3253}, \"3254\": {\"frequency\": 1, \"value\": 3254}, \"3255\": {\"frequency\": 1, \"value\": 3255}, \"3256\": {\"frequency\": 1, \"value\": 3256}, \"3257\": {\"frequency\": 1, \"value\": 3257}, \"3258\": {\"frequency\": 1, \"value\": 3258}, \"3259\": {\"frequency\": 1, \"value\": 3259}, \"3260\": {\"frequency\": 1, \"value\": 3260}, \"3261\": {\"frequency\": 1, \"value\": 3261}, \"3262\": {\"frequency\": 1, \"value\": 3262}, \"3263\": {\"frequency\": 1, \"value\": 3263}, \"3264\": {\"frequency\": 1, \"value\": 3264}, \"3265\": {\"frequency\": 1, \"value\": 3265}, \"3266\": {\"frequency\": 1, \"value\": 3266}, \"3267\": {\"frequency\": 1, \"value\": 3267}, \"3268\": {\"frequency\": 1, \"value\": 3268}, \"3269\": {\"frequency\": 1, \"value\": 3269}, \"3270\": {\"frequency\": 1, \"value\": 3270}, \"3271\": {\"frequency\": 1, \"value\": 3271}, \"3272\": {\"frequency\": 1, \"value\": 3272}, \"3273\": {\"frequency\": 1, \"value\": 3273}, \"3274\": {\"frequency\": 1, \"value\": 3274}, \"3275\": {\"frequency\": 1, \"value\": 3275}, \"3285\": {\"frequency\": 1, \"value\": 3285}, \"3286\": {\"frequency\": 1, \"value\": 3286}, \"3287\": {\"frequency\": 1, \"value\": 3287}, \"3296\": {\"frequency\": 1, \"value\": 3296}, \"3298\": {\"frequency\": 1, \"value\": 3298}, \"3300\": {\"frequency\": 1, \"value\": 3300}, \"3301\": {\"frequency\": 1, \"value\": 3301}, \"3307\": {\"frequency\": 1, \"value\": 3307}, \"3308\": {\"frequency\": 1, \"value\": 3308}, \"3316\": {\"frequency\": 1, \"value\": 3316}, \"3320\": {\"frequency\": 1, \"value\": 3320}, \"3324\": {\"frequency\": 1, \"value\": 3324}, \"3325\": {\"frequency\": 1, \"value\": 3325}, \"3326\": {\"frequency\": 1, \"value\": 3326}, \"3327\": {\"frequency\": 1, \"value\": 3327}, \"3328\": {\"frequency\": 1, \"value\": 3328}, \"3330\": {\"frequency\": 1, \"value\": 3330}, \"3334\": {\"frequency\": 1, \"value\": 3334}, \"3335\": {\"frequency\": 1, \"value\": 3335}, \"3340\": {\"frequency\": 1, \"value\": 3340}, \"3342\": {\"frequency\": 1, \"value\": 3342}, \"3347\": {\"frequency\": 1, \"value\": 3347}, \"3352\": {\"frequency\": 1, \"value\": 3352}, \"3354\": {\"frequency\": 1, \"value\": 3354}, \"3355\": {\"frequency\": 1, \"value\": 3355}, \"3357\": {\"frequency\": 1, \"value\": 3357}, \"3358\": {\"frequency\": 1, \"value\": 3358}, \"3359\": {\"frequency\": 1, \"value\": 3359}, \"3360\": {\"frequency\": 1, \"value\": 3360}, \"3361\": {\"frequency\": 1, \"value\": 3361}, \"3362\": {\"frequency\": 1, \"value\": 3362}, \"3363\": {\"frequency\": 1, \"value\": 3363}, \"3364\": {\"frequency\": 1, \"value\": 3364}, \"3365\": {\"frequency\": 1, \"value\": 3365}, \"3366\": {\"frequency\": 1, \"value\": 3366}, \"3367\": {\"frequency\": 1, \"value\": 3367}, \"3370\": {\"frequency\": 1, \"value\": 3370}, \"3371\": {\"frequency\": 1, \"value\": 3371}, \"3379\": {\"frequency\": 1, \"value\": 3379}, \"3384\": {\"frequency\": 1, \"value\": 3384}, \"3385\": {\"frequency\": 1, \"value\": 3385}, \"3386\": {\"frequency\": 1, \"value\": 3386}, \"3387\": {\"frequency\": 1, \"value\": 3387}, \"3388\": {\"frequency\": 1, \"value\": 3388}, \"3392\": {\"frequency\": 1, \"value\": 3392}, \"3393\": {\"frequency\": 1, \"value\": 3393}, \"3394\": {\"frequency\": 1, \"value\": 3394}, \"3395\": {\"frequency\": 1, \"value\": 3395}, \"3396\": {\"frequency\": 1, \"value\": 3396}, \"3397\": {\"frequency\": 1, \"value\": 3397}, \"3398\": {\"frequency\": 1, \"value\": 3398}, \"3399\": {\"frequency\": 1, \"value\": 3399}, \"3401\": {\"frequency\": 1, \"value\": 3401}, \"3403\": {\"frequency\": 1, \"value\": 3403}, \"3404\": {\"frequency\": 1, \"value\": 3404}, \"3405\": {\"frequency\": 1, \"value\": 3405}, \"3408\": {\"frequency\": 1, \"value\": 3408}, \"3409\": {\"frequency\": 1, \"value\": 3409}, \"3412\": {\"frequency\": 1, \"value\": 3412}, \"3418\": {\"frequency\": 1, \"value\": 3418}, \"3420\": {\"frequency\": 1, \"value\": 3420}, \"3421\": {\"frequency\": 1, \"value\": 3421}, \"3422\": {\"frequency\": 1, \"value\": 3422}, \"3424\": {\"frequency\": 1, \"value\": 3424}, \"3426\": {\"frequency\": 1, \"value\": 3426}, \"3429\": {\"frequency\": 1, \"value\": 3429}, \"3430\": {\"frequency\": 1, \"value\": 3430}, \"3432\": {\"frequency\": 1, \"value\": 3432}, \"3434\": {\"frequency\": 1, \"value\": 3434}, \"3435\": {\"frequency\": 1, \"value\": 3435}, \"3436\": {\"frequency\": 1, \"value\": 3436}, \"3438\": {\"frequency\": 1, \"value\": 3438}, \"3439\": {\"frequency\": 1, \"value\": 3439}, \"3441\": {\"frequency\": 1, \"value\": 3441}, \"3444\": {\"frequency\": 1, \"value\": 3444}, \"3446\": {\"frequency\": 1, \"value\": 3446}, \"3447\": {\"frequency\": 1, \"value\": 3447}, \"3448\": {\"frequency\": 1, \"value\": 3448}, \"3450\": {\"frequency\": 1, \"value\": 3450}, \"3451\": {\"frequency\": 1, \"value\": 3451}, \"3452\": {\"frequency\": 1, \"value\": 3452}, \"3453\": {\"frequency\": 1, \"value\": 3453}, \"3454\": {\"frequency\": 1, \"value\": 3454}, \"3456\": {\"frequency\": 1, \"value\": 3456}, \"3459\": {\"frequency\": 1, \"value\": 3459}, \"3461\": {\"frequency\": 1, \"value\": 3461}, \"3462\": {\"frequency\": 1, \"value\": 3462}, \"3464\": {\"frequency\": 1, \"value\": 3464}, \"3466\": {\"frequency\": 1, \"value\": 3466}, \"3467\": {\"frequency\": 1, \"value\": 3467}, \"3468\": {\"frequency\": 1, \"value\": 3468}, \"3471\": {\"frequency\": 1, \"value\": 3471}, \"3476\": {\"frequency\": 1, \"value\": 3476}, \"3477\": {\"frequency\": 1, \"value\": 3477}, \"3478\": {\"frequency\": 1, \"value\": 3478}, \"3479\": {\"frequency\": 1, \"value\": 3479}, \"3480\": {\"frequency\": 1, \"value\": 3480}, \"3481\": {\"frequency\": 1, \"value\": 3481}, \"3484\": {\"frequency\": 1, \"value\": 3484}, \"3489\": {\"frequency\": 1, \"value\": 3489}, \"3491\": {\"frequency\": 1, \"value\": 3491}, \"3494\": {\"frequency\": 1, \"value\": 3494}, \"3497\": {\"frequency\": 1, \"value\": 3497}, \"3498\": {\"frequency\": 1, \"value\": 3498}, \"3499\": {\"frequency\": 1, \"value\": 3499}, \"3502\": {\"frequency\": 1, \"value\": 3502}, \"3503\": {\"frequency\": 1, \"value\": 3503}, \"3504\": {\"frequency\": 1, \"value\": 3504}, \"3505\": {\"frequency\": 1, \"value\": 3505}, \"3506\": {\"frequency\": 1, \"value\": 3506}, \"3507\": {\"frequency\": 1, \"value\": 3507}, \"3508\": {\"frequency\": 1, \"value\": 3508}, \"3509\": {\"frequency\": 1, \"value\": 3509}, \"3510\": {\"frequency\": 1, \"value\": 3510}, \"3511\": {\"frequency\": 1, \"value\": 3511}, \"3512\": {\"frequency\": 1, \"value\": 3512}, \"3513\": {\"frequency\": 1, \"value\": 3513}, \"3515\": {\"frequency\": 1, \"value\": 3515}, \"3519\": {\"frequency\": 1, \"value\": 3519}, \"3521\": {\"frequency\": 1, \"value\": 3521}, \"3524\": {\"frequency\": 1, \"value\": 3524}, \"3526\": {\"frequency\": 1, \"value\": 3526}, \"3527\": {\"frequency\": 1, \"value\": 3527}, \"3534\": {\"frequency\": 1, \"value\": 3534}, \"3535\": {\"frequency\": 1, \"value\": 3535}, \"3536\": {\"frequency\": 1, \"value\": 3536}, \"3537\": {\"frequency\": 1, \"value\": 3537}, \"3538\": {\"frequency\": 1, \"value\": 3538}, \"3543\": {\"frequency\": 1, \"value\": 3543}, \"3544\": {\"frequency\": 1, \"value\": 3544}, \"3545\": {\"frequency\": 1, \"value\": 3545}, \"3548\": {\"frequency\": 1, \"value\": 3548}, \"3549\": {\"frequency\": 1, \"value\": 3549}, \"3552\": {\"frequency\": 1, \"value\": 3552}, \"3553\": {\"frequency\": 1, \"value\": 3553}, \"3554\": {\"frequency\": 1, \"value\": 3554}, \"3555\": {\"frequency\": 1, \"value\": 3555}, \"3556\": {\"frequency\": 1, \"value\": 3556}, \"3557\": {\"frequency\": 1, \"value\": 3557}, \"3564\": {\"frequency\": 1, \"value\": 3564}, \"3565\": {\"frequency\": 1, \"value\": 3565}, \"3566\": {\"frequency\": 1, \"value\": 3566}, \"3567\": {\"frequency\": 1, \"value\": 3567}, \"3571\": {\"frequency\": 1, \"value\": 3571}, \"3576\": {\"frequency\": 1, \"value\": 3576}, \"3578\": {\"frequency\": 1, \"value\": 3578}, \"3580\": {\"frequency\": 1, \"value\": 3580}, \"3584\": {\"frequency\": 1, \"value\": 3584}, \"3591\": {\"frequency\": 1, \"value\": 3591}, \"3593\": {\"frequency\": 1, \"value\": 3593}, \"3594\": {\"frequency\": 1, \"value\": 3594}, \"3598\": {\"frequency\": 1, \"value\": 3598}, \"3599\": {\"frequency\": 1, \"value\": 3599}, \"3606\": {\"frequency\": 1, \"value\": 3606}, \"3608\": {\"frequency\": 1, \"value\": 3608}, \"3613\": {\"frequency\": 1, \"value\": 3613}, \"3614\": {\"frequency\": 1, \"value\": 3614}, \"3615\": {\"frequency\": 1, \"value\": 3615}, \"3616\": {\"frequency\": 1, \"value\": 3616}, \"3617\": {\"frequency\": 1, \"value\": 3617}, \"3618\": {\"frequency\": 1, \"value\": 3618}, \"3623\": {\"frequency\": 1, \"value\": 3623}, \"3624\": {\"frequency\": 1, \"value\": 3624}, \"3629\": {\"frequency\": 1, \"value\": 3629}, \"3632\": {\"frequency\": 1, \"value\": 3632}, \"3633\": {\"frequency\": 1, \"value\": 3633}, \"3634\": {\"frequency\": 1, \"value\": 3634}, \"3635\": {\"frequency\": 1, \"value\": 3635}, \"3638\": {\"frequency\": 1, \"value\": 3638}, \"3639\": {\"frequency\": 1, \"value\": 3639}, \"3640\": {\"frequency\": 1, \"value\": 3640}, \"3643\": {\"frequency\": 1, \"value\": 3643}, \"3645\": {\"frequency\": 1, \"value\": 3645}, \"3646\": {\"frequency\": 1, \"value\": 3646}, \"3649\": {\"frequency\": 1, \"value\": 3649}, \"3654\": {\"frequency\": 1, \"value\": 3654}, \"3655\": {\"frequency\": 1, \"value\": 3655}, \"3660\": {\"frequency\": 1, \"value\": 3660}, \"3661\": {\"frequency\": 1, \"value\": 3661}, \"3662\": {\"frequency\": 1, \"value\": 3662}, \"3664\": {\"frequency\": 1, \"value\": 3664}, \"3665\": {\"frequency\": 1, \"value\": 3665}, \"3668\": {\"frequency\": 1, \"value\": 3668}, \"3669\": {\"frequency\": 1, \"value\": 3669}, \"3671\": {\"frequency\": 1, \"value\": 3671}, \"3672\": {\"frequency\": 1, \"value\": 3672}, \"3673\": {\"frequency\": 1, \"value\": 3673}, \"3675\": {\"frequency\": 1, \"value\": 3675}, \"3676\": {\"frequency\": 1, \"value\": 3676}, \"3679\": {\"frequency\": 1, \"value\": 3679}, \"3680\": {\"frequency\": 1, \"value\": 3680}, \"3683\": {\"frequency\": 1, \"value\": 3683}, \"3684\": {\"frequency\": 1, \"value\": 3684}, \"3685\": {\"frequency\": 1, \"value\": 3685}, \"3686\": {\"frequency\": 1, \"value\": 3686}, \"3688\": {\"frequency\": 1, \"value\": 3688}, \"3689\": {\"frequency\": 1, \"value\": 3689}, \"3694\": {\"frequency\": 1, \"value\": 3694}, \"3695\": {\"frequency\": 1, \"value\": 3695}, \"3696\": {\"frequency\": 1, \"value\": 3696}, \"3697\": {\"frequency\": 1, \"value\": 3697}, \"3698\": {\"frequency\": 1, \"value\": 3698}, \"3699\": {\"frequency\": 1, \"value\": 3699}, \"3701\": {\"frequency\": 1, \"value\": 3701}, \"3702\": {\"frequency\": 1, \"value\": 3702}, \"3703\": {\"frequency\": 1, \"value\": 3703}, \"3704\": {\"frequency\": 1, \"value\": 3704}, \"3705\": {\"frequency\": 1, \"value\": 3705}, \"3706\": {\"frequency\": 1, \"value\": 3706}, \"3707\": {\"frequency\": 1, \"value\": 3707}, \"3708\": {\"frequency\": 1, \"value\": 3708}, \"3709\": {\"frequency\": 1, \"value\": 3709}, \"3712\": {\"frequency\": 1, \"value\": 3712}, \"3717\": {\"frequency\": 1, \"value\": 3717}, \"3720\": {\"frequency\": 1, \"value\": 3720}, \"3723\": {\"frequency\": 1, \"value\": 3723}, \"3724\": {\"frequency\": 1, \"value\": 3724}, \"3727\": {\"frequency\": 1, \"value\": 3727}, \"3728\": {\"frequency\": 1, \"value\": 3728}, \"3729\": {\"frequency\": 1, \"value\": 3729}, \"3730\": {\"frequency\": 1, \"value\": 3730}, \"3732\": {\"frequency\": 1, \"value\": 3732}, \"3733\": {\"frequency\": 1, \"value\": 3733}, \"3735\": {\"frequency\": 1, \"value\": 3735}, \"3738\": {\"frequency\": 1, \"value\": 3738}, \"3740\": {\"frequency\": 1, \"value\": 3740}, \"3742\": {\"frequency\": 1, \"value\": 3742}, \"3743\": {\"frequency\": 1, \"value\": 3743}, \"3744\": {\"frequency\": 1, \"value\": 3744}, \"3745\": {\"frequency\": 1, \"value\": 3745}, \"3746\": {\"frequency\": 1, \"value\": 3746}, \"3747\": {\"frequency\": 1, \"value\": 3747}, \"3751\": {\"frequency\": 1, \"value\": 3751}, \"3752\": {\"frequency\": 1, \"value\": 3752}, \"3753\": {\"frequency\": 1, \"value\": 3753}, \"3754\": {\"frequency\": 1, \"value\": 3754}, \"3755\": {\"frequency\": 1, \"value\": 3755}, \"3760\": {\"frequency\": 1, \"value\": 3760}, \"3763\": {\"frequency\": 1, \"value\": 3763}, \"3764\": {\"frequency\": 1, \"value\": 3764}, \"3765\": {\"frequency\": 1, \"value\": 3765}, \"3766\": {\"frequency\": 1, \"value\": 3766}, \"3767\": {\"frequency\": 1, \"value\": 3767}, \"3769\": {\"frequency\": 1, \"value\": 3769}, \"3770\": {\"frequency\": 1, \"value\": 3770}, \"3780\": {\"frequency\": 1, \"value\": 3780}, \"3783\": {\"frequency\": 1, \"value\": 3783}, \"3785\": {\"frequency\": 1, \"value\": 3785}, \"3789\": {\"frequency\": 1, \"value\": 3789}, \"3790\": {\"frequency\": 1, \"value\": 3790}, \"3791\": {\"frequency\": 1, \"value\": 3791}, \"3793\": {\"frequency\": 1, \"value\": 3793}, \"3794\": {\"frequency\": 1, \"value\": 3794}, \"3795\": {\"frequency\": 1, \"value\": 3795}, \"3798\": {\"frequency\": 1, \"value\": 3798}, \"3799\": {\"frequency\": 1, \"value\": 3799}, \"3801\": {\"frequency\": 1, \"value\": 3801}, \"3802\": {\"frequency\": 1, \"value\": 3802}, \"3804\": {\"frequency\": 1, \"value\": 3804}, \"3805\": {\"frequency\": 1, \"value\": 3805}, \"3806\": {\"frequency\": 1, \"value\": 3806}, \"3807\": {\"frequency\": 1, \"value\": 3807}, \"3809\": {\"frequency\": 1, \"value\": 3809}, \"3810\": {\"frequency\": 1, \"value\": 3810}, \"3811\": {\"frequency\": 1, \"value\": 3811}, \"3812\": {\"frequency\": 1, \"value\": 3812}, \"3819\": {\"frequency\": 1, \"value\": 3819}, \"3821\": {\"frequency\": 1, \"value\": 3821}, \"3824\": {\"frequency\": 1, \"value\": 3824}, \"3825\": {\"frequency\": 1, \"value\": 3825}, \"3826\": {\"frequency\": 1, \"value\": 3826}, \"3827\": {\"frequency\": 1, \"value\": 3827}, \"3830\": {\"frequency\": 1, \"value\": 3830}, \"3831\": {\"frequency\": 1, \"value\": 3831}, \"3832\": {\"frequency\": 1, \"value\": 3832}, \"3833\": {\"frequency\": 1, \"value\": 3833}, \"3834\": {\"frequency\": 1, \"value\": 3834}, \"3835\": {\"frequency\": 1, \"value\": 3835}, \"3838\": {\"frequency\": 1, \"value\": 3838}, \"3840\": {\"frequency\": 1, \"value\": 3840}, \"3841\": {\"frequency\": 1, \"value\": 3841}, \"3844\": {\"frequency\": 1, \"value\": 3844}, \"3846\": {\"frequency\": 1, \"value\": 3846}, \"3851\": {\"frequency\": 1, \"value\": 3851}, \"3852\": {\"frequency\": 1, \"value\": 3852}, \"3854\": {\"frequency\": 1, \"value\": 3854}, \"3857\": {\"frequency\": 1, \"value\": 3857}, \"3858\": {\"frequency\": 1, \"value\": 3858}, \"3859\": {\"frequency\": 1, \"value\": 3859}, \"3861\": {\"frequency\": 1, \"value\": 3861}, \"3863\": {\"frequency\": 1, \"value\": 3863}, \"3864\": {\"frequency\": 1, \"value\": 3864}, \"3865\": {\"frequency\": 1, \"value\": 3865}, \"3868\": {\"frequency\": 1, \"value\": 3868}, \"3869\": {\"frequency\": 1, \"value\": 3869}, \"3871\": {\"frequency\": 1, \"value\": 3871}, \"3877\": {\"frequency\": 1, \"value\": 3877}, \"3879\": {\"frequency\": 1, \"value\": 3879}, \"3880\": {\"frequency\": 1, \"value\": 3880}, \"3882\": {\"frequency\": 1, \"value\": 3882}, \"3884\": {\"frequency\": 1, \"value\": 3884}, \"3889\": {\"frequency\": 1, \"value\": 3889}, \"3893\": {\"frequency\": 1, \"value\": 3893}, \"3897\": {\"frequency\": 1, \"value\": 3897}, \"3900\": {\"frequency\": 1, \"value\": 3900}, \"3901\": {\"frequency\": 1, \"value\": 3901}, \"3902\": {\"frequency\": 1, \"value\": 3902}, \"3903\": {\"frequency\": 1, \"value\": 3903}, \"3911\": {\"frequency\": 1, \"value\": 3911}, \"3914\": {\"frequency\": 1, \"value\": 3914}, \"3915\": {\"frequency\": 1, \"value\": 3915}, \"3916\": {\"frequency\": 1, \"value\": 3916}, \"3917\": {\"frequency\": 1, \"value\": 3917}, \"3923\": {\"frequency\": 1, \"value\": 3923}, \"3926\": {\"frequency\": 1, \"value\": 3926}, \"3927\": {\"frequency\": 1, \"value\": 3927}, \"3930\": {\"frequency\": 1, \"value\": 3930}, \"3932\": {\"frequency\": 1, \"value\": 3932}, \"3937\": {\"frequency\": 1, \"value\": 3937}, \"3938\": {\"frequency\": 1, \"value\": 3938}, \"3939\": {\"frequency\": 1, \"value\": 3939}, \"3946\": {\"frequency\": 1, \"value\": 3946}, \"3948\": {\"frequency\": 1, \"value\": 3948}, \"3949\": {\"frequency\": 1, \"value\": 3949}, \"3952\": {\"frequency\": 1, \"value\": 3952}}, \"mean\": 1962.926105979582}, \"rmse\": {\"std\": 0.486312238120395, \"complete\": true, \"min\": 0.0016907845215166084, \"max\": 4.018364581017645, \"quantile\": [0.0016907845215166084, 0.040308783179836105, 0.09948976775162244, 0.13582912828018823, 0.17266521979646532, 0.22445665942250487, 0.252508176136073, 0.2858509531092354, 0.32013235902525866, 0.34808173146996907, 0.3784866638279252, 0.4048632377978268, 0.4224924804987877, 0.44406625890373513, 0.4650493548418373, 0.4839745517049061, 0.4994836117627934, 0.5231747667877209, 0.5407296812327513, 0.5595799114007205, 0.57307380882372, 0.5851534674232528, 0.5974488464266025, 0.6131042897596233, 0.6267063083083837, 0.6409665131176775, 0.652217026041684, 0.6724572446564188, 0.6851423807905518, 0.696457990118764, 0.7073771735395846, 0.7180328245204259, 0.7302387441133142, 0.7429256923362134, 0.7537747061296414, 0.7668386023196784, 0.7799045068923897, 0.7882996472083952, 0.7938532051232641, 0.8062864569654167, 0.8137848427662789, 0.821583281043814, 0.8309997967479112, 0.8412753211838617, 0.8538799489460636, 0.8622340344101518, 0.8736192711140418, 0.8837191396159959, 0.8946536337032076, 0.9032904145665048, 0.9132431619332431, 0.9230930837155835, 0.9362629888604486, 0.9477305480837017, 0.957671640841857, 0.9684292662433949, 0.9785062259752215, 0.9889137299808816, 0.9995516966078379, 1.011777608047832, 1.020446652007052, 1.02971264409455, 1.0404733304056542, 1.0561183976346933, 1.0698367774946844, 1.0785145373982274, 1.0852012743188162, 1.096043092556987, 1.115468119606673, 1.12512944505632, 1.1414493187512285, 1.150887102960191, 1.162168657841777, 1.1729535166636609, 1.1843453238679071, 1.2031603641493676, 1.222652686034023, 1.2431631087406259, 1.2535504776426345, 1.2709145444783607, 1.2903666464882886, 1.3098662725579524, 1.3327286174664854, 1.3562577366966404, 1.3787687393782635, 1.4032552447256808, 1.4354710617395412, 1.4635255286394608, 1.499478674003123, 1.5375925234651522, 1.5759523674817517, 1.6044465131705437, 1.641033853553595, 1.7008626803544469, 1.774544377978886, 1.835132432443047, 1.9007819318469048, 2.032892463230528, 2.167563907773593, 2.4319104213443627, 4.018364581017645], \"median\": 0.9132431619332431, \"numeric\": true, \"num_unique\": 2053, \"num_undefined\": 0, \"var\": 0.23649959294566777, \"progress\": 1.0, \"size\": 2057, \"frequent_items\": {\"0.6389698997131281\": {\"frequency\": 1, \"value\": 0.6389698997131281}, \"2.6949618694614217\": {\"frequency\": 1, \"value\": 2.6949618694614217}, \"1.3751573581416667\": {\"frequency\": 1, \"value\": 1.3751573581416667}, \"1.1475262773602084\": {\"frequency\": 1, \"value\": 1.1475262773602084}, \"1.6546621516509998\": {\"frequency\": 1, \"value\": 1.6546621516509998}, \"0.24207938000278933\": {\"frequency\": 1, \"value\": 0.24207938000278933}, \"1.4375944460734673\": {\"frequency\": 1, \"value\": 1.4375944460734673}, \"0.5801971787041611\": {\"frequency\": 1, \"value\": 0.5801971787041611}, \"0.6653328135025411\": {\"frequency\": 1, \"value\": 0.6653328135025411}, \"0.8529866579052605\": {\"frequency\": 1, \"value\": 0.8529866579052605}, \"0.49439383796370007\": {\"frequency\": 1, \"value\": 0.49439383796370007}, \"0.8379376190976314\": {\"frequency\": 1, \"value\": 0.8379376190976314}, \"1.6630344913265445\": {\"frequency\": 1, \"value\": 1.6630344913265445}, \"1.175868566675961\": {\"frequency\": 1, \"value\": 1.175868566675961}, \"0.6115122191439926\": {\"frequency\": 1, \"value\": 0.6115122191439926}, \"1.0378428268956728\": {\"frequency\": 1, \"value\": 1.0378428268956728}, \"0.34723951407879516\": {\"frequency\": 1, \"value\": 0.34723951407879516}, \"0.735080759716201\": {\"frequency\": 1, \"value\": 0.735080759716201}, \"1.69606312381883\": {\"frequency\": 1, \"value\": 1.69606312381883}, \"2.0940839520630243\": {\"frequency\": 1, \"value\": 2.0940839520630243}, \"1.7257653126856152\": {\"frequency\": 1, \"value\": 1.7257653126856152}, \"0.7829263662024025\": {\"frequency\": 1, \"value\": 0.7829263662024025}, \"2.4111301374156198\": {\"frequency\": 1, \"value\": 2.4111301374156198}, \"0.9041204922248753\": {\"frequency\": 1, \"value\": 0.9041204922248753}, \"1.052137475949647\": {\"frequency\": 1, \"value\": 1.052137475949647}, \"1.6044465131705437\": {\"frequency\": 1, \"value\": 1.6044465131705437}, \"1.7096758965368877\": {\"frequency\": 1, \"value\": 1.7096758965368877}, \"1.1222606790693492\": {\"frequency\": 1, \"value\": 1.1222606790693492}, \"0.3316215725395867\": {\"frequency\": 1, \"value\": 0.3316215725395867}, \"0.6916092059651945\": {\"frequency\": 1, \"value\": 0.6916092059651945}, \"0.5595799114007205\": {\"frequency\": 1, \"value\": 0.5595799114007205}, \"0.40387168897577025\": {\"frequency\": 1, \"value\": 0.40387168897577025}, \"0.4650534733787018\": {\"frequency\": 1, \"value\": 0.4650534733787018}, \"0.19122793097164426\": {\"frequency\": 1, \"value\": 0.19122793097164426}, \"1.262385994697562\": {\"frequency\": 1, \"value\": 1.262385994697562}, \"1.627316625795062\": {\"frequency\": 1, \"value\": 1.627316625795062}, \"0.4932909404079564\": {\"frequency\": 1, \"value\": 0.4932909404079564}, \"0.866721947378995\": {\"frequency\": 1, \"value\": 0.866721947378995}, \"0.5652533369935946\": {\"frequency\": 1, \"value\": 0.5652533369935946}, \"0.30832199283191963\": {\"frequency\": 1, \"value\": 0.30832199283191963}, \"1.292462988181691\": {\"frequency\": 1, \"value\": 1.292462988181691}, \"1.025009323932835\": {\"frequency\": 1, \"value\": 1.025009323932835}, \"0.6602013967976127\": {\"frequency\": 1, \"value\": 0.6602013967976127}, \"1.3731796084485084\": {\"frequency\": 1, \"value\": 1.3731796084485084}, \"0.6448148172730702\": {\"frequency\": 1, \"value\": 0.6448148172730702}, \"1.1040794227255302\": {\"frequency\": 1, \"value\": 1.1040794227255302}, \"1.0272466582731274\": {\"frequency\": 1, \"value\": 1.0272466582731274}, \"1.1572391452594686\": {\"frequency\": 1, \"value\": 1.1572391452594686}, \"0.13067057078053423\": {\"frequency\": 1, \"value\": 0.13067057078053423}, \"0.6470268754253855\": {\"frequency\": 1, \"value\": 0.6470268754253855}, \"0.9850722354053016\": {\"frequency\": 1, \"value\": 0.9850722354053016}, \"1.154402935377853\": {\"frequency\": 1, \"value\": 1.154402935377853}, \"0.6470559674171582\": {\"frequency\": 1, \"value\": 0.6470559674171582}, \"0.796591387126562\": {\"frequency\": 1, \"value\": 0.796591387126562}, \"1.4301826685907355\": {\"frequency\": 1, \"value\": 1.4301826685907355}, \"0.5904754296751474\": {\"frequency\": 1, \"value\": 0.5904754296751474}, \"0.701732029388133\": {\"frequency\": 1, \"value\": 0.701732029388133}, \"1.279404382776743\": {\"frequency\": 1, \"value\": 1.279404382776743}, \"1.085438948512477\": {\"frequency\": 1, \"value\": 1.085438948512477}, \"0.825144163710905\": {\"frequency\": 1, \"value\": 0.825144163710905}, \"0.5080567533803872\": {\"frequency\": 1, \"value\": 0.5080567533803872}, \"1.1787626638649202\": {\"frequency\": 1, \"value\": 1.1787626638649202}, \"0.22895082325726301\": {\"frequency\": 1, \"value\": 0.22895082325726301}, \"1.1640093369824633\": {\"frequency\": 1, \"value\": 1.1640093369824633}, \"1.1237886012197749\": {\"frequency\": 1, \"value\": 1.1237886012197749}, \"1.4177277169189595\": {\"frequency\": 1, \"value\": 1.4177277169189595}, \"0.2129211742251873\": {\"frequency\": 1, \"value\": 0.2129211742251873}, \"1.0579960504631827\": {\"frequency\": 1, \"value\": 1.0579960504631827}, \"1.3532188120614348\": {\"frequency\": 1, \"value\": 1.3532188120614348}, \"1.5050022861974752\": {\"frequency\": 1, \"value\": 1.5050022861974752}, \"0.8271755139988598\": {\"frequency\": 1, \"value\": 0.8271755139988598}, \"1.641033853553595\": {\"frequency\": 1, \"value\": 1.641033853553595}, \"1.1301939839929007\": {\"frequency\": 1, \"value\": 1.1301939839929007}, \"1.0758517224837867\": {\"frequency\": 1, \"value\": 1.0758517224837867}, \"1.8667595826902574\": {\"frequency\": 1, \"value\": 1.8667595826902574}, \"0.9058443534226093\": {\"frequency\": 1, \"value\": 0.9058443534226093}, \"1.003678130137519\": {\"frequency\": 1, \"value\": 1.003678130137519}, \"1.2441027686219392\": {\"frequency\": 1, \"value\": 1.2441027686219392}, \"1.8639476027014883\": {\"frequency\": 1, \"value\": 1.8639476027014883}, \"0.8139437830165878\": {\"frequency\": 1, \"value\": 0.8139437830165878}, \"0.7674791023019054\": {\"frequency\": 1, \"value\": 0.7674791023019054}, \"0.2519341331932905\": {\"frequency\": 1, \"value\": 0.2519341331932905}, \"0.4713536136732026\": {\"frequency\": 1, \"value\": 0.4713536136732026}, \"1.499478674003123\": {\"frequency\": 1, \"value\": 1.499478674003123}, \"1.015817023623867\": {\"frequency\": 1, \"value\": 1.015817023623867}, \"0.46128462387006675\": {\"frequency\": 1, \"value\": 0.46128462387006675}, \"0.8236564900656277\": {\"frequency\": 1, \"value\": 0.8236564900656277}, \"1.0209182372973205\": {\"frequency\": 1, \"value\": 1.0209182372973205}, \"0.2619486731542584\": {\"frequency\": 1, \"value\": 0.2619486731542584}, \"0.47944936012109673\": {\"frequency\": 1, \"value\": 0.47944936012109673}, \"1.0864084911632486\": {\"frequency\": 1, \"value\": 1.0864084911632486}, \"1.3322490496349477\": {\"frequency\": 1, \"value\": 1.3322490496349477}, \"0.8959977072981602\": {\"frequency\": 1, \"value\": 0.8959977072981602}, \"1.2119048961686696\": {\"frequency\": 1, \"value\": 1.2119048961686696}, \"0.6998719643835202\": {\"frequency\": 1, \"value\": 0.6998719643835202}, \"1.3779400780920585\": {\"frequency\": 1, \"value\": 1.3779400780920585}, \"0.9572782023507879\": {\"frequency\": 1, \"value\": 0.9572782023507879}, \"1.1640652676140693\": {\"frequency\": 1, \"value\": 1.1640652676140693}, \"0.7515577816546818\": {\"frequency\": 1, \"value\": 0.7515577816546818}, \"0.4260264419465529\": {\"frequency\": 1, \"value\": 0.4260264419465529}, \"1.315350924058135\": {\"frequency\": 1, \"value\": 1.315350924058135}, \"1.014969414843362\": {\"frequency\": 1, \"value\": 1.014969414843362}, \"1.0224408292599125\": {\"frequency\": 1, \"value\": 1.0224408292599125}, \"0.6476995552793623\": {\"frequency\": 1, \"value\": 0.6476995552793623}, \"0.6678301925946168\": {\"frequency\": 1, \"value\": 0.6678301925946168}, \"1.8181990874048852\": {\"frequency\": 1, \"value\": 1.8181990874048852}, \"0.5456354165938129\": {\"frequency\": 1, \"value\": 0.5456354165938129}, \"0.940472092743306\": {\"frequency\": 1, \"value\": 0.940472092743306}, \"1.0999621728320748\": {\"frequency\": 1, \"value\": 1.0999621728320748}, \"0.6086075019020645\": {\"frequency\": 1, \"value\": 0.6086075019020645}, \"1.218976886589841\": {\"frequency\": 1, \"value\": 1.218976886589841}, \"0.8671505243707318\": {\"frequency\": 1, \"value\": 0.8671505243707318}, \"1.0962700441260642\": {\"frequency\": 1, \"value\": 1.0962700441260642}, \"1.0785145373982274\": {\"frequency\": 1, \"value\": 1.0785145373982274}, \"0.40239154355566065\": {\"frequency\": 1, \"value\": 0.40239154355566065}, \"1.2025007856958498\": {\"frequency\": 1, \"value\": 1.2025007856958498}, \"0.8737366059034231\": {\"frequency\": 1, \"value\": 0.8737366059034231}, \"0.6218047048144649\": {\"frequency\": 1, \"value\": 0.6218047048144649}, \"0.8118331370563341\": {\"frequency\": 1, \"value\": 0.8118331370563341}, \"0.46381509108668373\": {\"frequency\": 1, \"value\": 0.46381509108668373}, \"1.1843453238679071\": {\"frequency\": 1, \"value\": 1.1843453238679071}, \"1.1848492582109973\": {\"frequency\": 1, \"value\": 1.1848492582109973}, \"1.1970467572299333\": {\"frequency\": 1, \"value\": 1.1970467572299333}, \"0.3109933140805685\": {\"frequency\": 1, \"value\": 0.3109933140805685}, \"1.4354710617395412\": {\"frequency\": 1, \"value\": 1.4354710617395412}, \"0.9536440407774691\": {\"frequency\": 1, \"value\": 0.9536440407774691}, \"1.181373127376148\": {\"frequency\": 1, \"value\": 1.181373127376148}, \"1.0054011479897267\": {\"frequency\": 1, \"value\": 1.0054011479897267}, \"0.7898855624536147\": {\"frequency\": 1, \"value\": 0.7898855624536147}, \"0.4663925380646905\": {\"frequency\": 1, \"value\": 0.4663925380646905}, \"2.714763709685587\": {\"frequency\": 1, \"value\": 2.714763709685587}, \"1.473528420783409\": {\"frequency\": 1, \"value\": 1.473528420783409}, \"0.9888091278835537\": {\"frequency\": 1, \"value\": 0.9888091278835537}, \"0.9989106864119919\": {\"frequency\": 1, \"value\": 0.9989106864119919}, \"0.11104157880220322\": {\"frequency\": 1, \"value\": 0.11104157880220322}, \"0.8615772995074784\": {\"frequency\": 1, \"value\": 0.8615772995074784}, \"0.5030491627633658\": {\"frequency\": 1, \"value\": 0.5030491627633658}, \"0.07473901267846017\": {\"frequency\": 1, \"value\": 0.07473901267846017}, \"0.36376871190278814\": {\"frequency\": 1, \"value\": 0.36376871190278814}, \"0.8672283039889368\": {\"frequency\": 1, \"value\": 0.8672283039889368}, \"0.7678182477941873\": {\"frequency\": 1, \"value\": 0.7678182477941873}, \"0.778488437527832\": {\"frequency\": 1, \"value\": 0.778488437527832}, \"1.9495731203424413\": {\"frequency\": 1, \"value\": 1.9495731203424413}, \"0.5699019103668187\": {\"frequency\": 1, \"value\": 0.5699019103668187}, \"0.6566546379658433\": {\"frequency\": 1, \"value\": 0.6566546379658433}, \"1.0409913910002766\": {\"frequency\": 1, \"value\": 1.0409913910002766}, \"0.11199954708627136\": {\"frequency\": 1, \"value\": 0.11199954708627136}, \"1.2419134127713072\": {\"frequency\": 1, \"value\": 1.2419134127713072}, \"0.5610661988318631\": {\"frequency\": 1, \"value\": 0.5610661988318631}, \"0.9451222905112519\": {\"frequency\": 1, \"value\": 0.9451222905112519}, \"0.7668386023196784\": {\"frequency\": 1, \"value\": 0.7668386023196784}, \"1.09776936636002\": {\"frequency\": 1, \"value\": 1.09776936636002}, \"1.1622506253596134\": {\"frequency\": 1, \"value\": 1.1622506253596134}, \"0.6440775944332167\": {\"frequency\": 1, \"value\": 0.6440775944332167}, \"0.588409718940591\": {\"frequency\": 1, \"value\": 0.588409718940591}, \"0.5914755477272108\": {\"frequency\": 1, \"value\": 0.5914755477272108}, \"1.2080861365999376\": {\"frequency\": 1, \"value\": 1.2080861365999376}, \"0.9942641874455352\": {\"frequency\": 1, \"value\": 0.9942641874455352}, \"1.3655492143111403\": {\"frequency\": 1, \"value\": 1.3655492143111403}, \"0.4310437763975914\": {\"frequency\": 1, \"value\": 0.4310437763975914}, \"1.0673738822689325\": {\"frequency\": 1, \"value\": 1.0673738822689325}, \"0.9290804576625954\": {\"frequency\": 1, \"value\": 0.9290804576625954}, \"1.2663942732762168\": {\"frequency\": 1, \"value\": 1.2663942732762168}, \"1.659942285946617\": {\"frequency\": 1, \"value\": 1.659942285946617}, \"1.8040782480803264\": {\"frequency\": 1, \"value\": 1.8040782480803264}, \"0.9455273900531309\": {\"frequency\": 1, \"value\": 0.9455273900531309}, \"0.4678362997621789\": {\"frequency\": 1, \"value\": 0.4678362997621789}, \"1.3432485252578872\": {\"frequency\": 1, \"value\": 1.3432485252578872}, \"1.4168893492658887\": {\"frequency\": 1, \"value\": 1.4168893492658887}, \"0.1951866946785854\": {\"frequency\": 1, \"value\": 0.1951866946785854}, \"0.9548722144951914\": {\"frequency\": 1, \"value\": 0.9548722144951914}, \"0.7594500125937205\": {\"frequency\": 1, \"value\": 0.7594500125937205}, \"1.083676509629546\": {\"frequency\": 1, \"value\": 1.083676509629546}, \"1.345641785696984\": {\"frequency\": 1, \"value\": 1.345641785696984}, \"0.641182509778618\": {\"frequency\": 1, \"value\": 0.641182509778618}, \"0.704227535423744\": {\"frequency\": 1, \"value\": 0.704227535423744}, \"1.163426099884303\": {\"frequency\": 1, \"value\": 1.163426099884303}, \"1.0576397854961397\": {\"frequency\": 1, \"value\": 1.0576397854961397}, \"0.03009403801150956\": {\"frequency\": 1, \"value\": 0.03009403801150956}, \"0.8205133472623868\": {\"frequency\": 1, \"value\": 0.8205133472623868}, \"0.48416059232637165\": {\"frequency\": 1, \"value\": 0.48416059232637165}, \"1.7008626803544469\": {\"frequency\": 1, \"value\": 1.7008626803544469}, \"0.8348899920267842\": {\"frequency\": 1, \"value\": 0.8348899920267842}, \"0.8175810419405869\": {\"frequency\": 1, \"value\": 0.8175810419405869}, \"1.4420606797416415\": {\"frequency\": 1, \"value\": 1.4420606797416415}, \"1.5273883057323632\": {\"frequency\": 1, \"value\": 1.5273883057323632}, \"1.5713016724828763\": {\"frequency\": 1, \"value\": 1.5713016724828763}, \"0.9132431619332431\": {\"frequency\": 1, \"value\": 0.9132431619332431}, \"1.0973198168669505\": {\"frequency\": 1, \"value\": 1.0973198168669505}, \"0.7073771735395846\": {\"frequency\": 1, \"value\": 0.7073771735395846}, \"0.96586738907386\": {\"frequency\": 1, \"value\": 0.96586738907386}, \"0.9252749070017203\": {\"frequency\": 1, \"value\": 0.9252749070017203}, \"1.2534735571771682\": {\"frequency\": 1, \"value\": 1.2534735571771682}, \"0.5097860006840462\": {\"frequency\": 1, \"value\": 0.5097860006840462}, \"1.1964266191662782\": {\"frequency\": 1, \"value\": 1.1964266191662782}, \"0.2397623952820176\": {\"frequency\": 1, \"value\": 0.2397623952820176}, \"0.828831135323201\": {\"frequency\": 1, \"value\": 0.828831135323201}, \"0.7331351078084298\": {\"frequency\": 1, \"value\": 0.7331351078084298}, \"0.7178360265973852\": {\"frequency\": 1, \"value\": 0.7178360265973852}, \"0.7243627359461722\": {\"frequency\": 1, \"value\": 0.7243627359461722}, \"0.5007139498365801\": {\"frequency\": 1, \"value\": 0.5007139498365801}, \"1.0848190902651307\": {\"frequency\": 1, \"value\": 1.0848190902651307}, \"0.5851401155348344\": {\"frequency\": 1, \"value\": 0.5851401155348344}, \"1.6184432645703897\": {\"frequency\": 1, \"value\": 1.6184432645703897}, \"1.1701696110284687\": {\"frequency\": 1, \"value\": 1.1701696110284687}, \"1.1957643228041124\": {\"frequency\": 1, \"value\": 1.1957643228041124}, \"2.059937999584392\": {\"frequency\": 1, \"value\": 2.059937999584392}, \"0.5328647019030722\": {\"frequency\": 1, \"value\": 0.5328647019030722}, \"0.9606171990137345\": {\"frequency\": 1, \"value\": 0.9606171990137345}, \"0.7896026559469798\": {\"frequency\": 1, \"value\": 0.7896026559469798}, \"1.1264918358279898\": {\"frequency\": 1, \"value\": 1.1264918358279898}, \"0.8526214627122632\": {\"frequency\": 1, \"value\": 0.8526214627122632}, \"1.717087571209369\": {\"frequency\": 1, \"value\": 1.717087571209369}, \"0.51241007798259\": {\"frequency\": 1, \"value\": 0.51241007798259}, \"0.46501012389586005\": {\"frequency\": 1, \"value\": 0.46501012389586005}, \"0.5479640121813205\": {\"frequency\": 1, \"value\": 0.5479640121813205}, \"1.0334976443829493\": {\"frequency\": 1, \"value\": 1.0334976443829493}, \"1.3822615897819805\": {\"frequency\": 1, \"value\": 1.3822615897819805}, \"1.5359348980990721\": {\"frequency\": 1, \"value\": 1.5359348980990721}, \"1.3367827742572065\": {\"frequency\": 1, \"value\": 1.3367827742572065}, \"0.9099027350610341\": {\"frequency\": 1, \"value\": 0.9099027350610341}, \"0.7073873555548555\": {\"frequency\": 1, \"value\": 0.7073873555548555}, \"1.4852312572316957\": {\"frequency\": 1, \"value\": 1.4852312572316957}, \"1.4456332735389419\": {\"frequency\": 1, \"value\": 1.4456332735389419}, \"1.2450679360092194\": {\"frequency\": 1, \"value\": 1.2450679360092194}, \"1.0808209049199382\": {\"frequency\": 1, \"value\": 1.0808209049199382}, \"1.0404733304056542\": {\"frequency\": 1, \"value\": 1.0404733304056542}, \"0.32825705243637493\": {\"frequency\": 1, \"value\": 0.32825705243637493}, \"0.6313564156605317\": {\"frequency\": 1, \"value\": 0.6313564156605317}, \"0.3898431947459553\": {\"frequency\": 1, \"value\": 0.3898431947459553}, \"0.7921606901037278\": {\"frequency\": 1, \"value\": 0.7921606901037278}, \"0.1307369843639644\": {\"frequency\": 1, \"value\": 0.1307369843639644}, \"1.116006259040258\": {\"frequency\": 1, \"value\": 1.116006259040258}, \"0.02645112398617\": {\"frequency\": 1, \"value\": 0.02645112398617}, \"0.7476348340758501\": {\"frequency\": 1, \"value\": 0.7476348340758501}, \"0.16048155885262005\": {\"frequency\": 1, \"value\": 0.16048155885262005}, \"0.5713116879382835\": {\"frequency\": 1, \"value\": 0.5713116879382835}, \"1.1502970623806248\": {\"frequency\": 1, \"value\": 1.1502970623806248}, \"1.254217528733265\": {\"frequency\": 1, \"value\": 1.254217528733265}, \"1.3353201406834196\": {\"frequency\": 1, \"value\": 1.3353201406834196}, \"1.069865619587392\": {\"frequency\": 1, \"value\": 1.069865619587392}, \"1.3554066787709482\": {\"frequency\": 1, \"value\": 1.3554066787709482}, \"1.6076444806269377\": {\"frequency\": 1, \"value\": 1.6076444806269377}, \"1.208677695633278\": {\"frequency\": 1, \"value\": 1.208677695633278}, \"0.809455359015717\": {\"frequency\": 1, \"value\": 0.809455359015717}, \"0.11359929602875043\": {\"frequency\": 1, \"value\": 0.11359929602875043}, \"0.7684082668754089\": {\"frequency\": 1, \"value\": 0.7684082668754089}, \"1.1401104409364768\": {\"frequency\": 1, \"value\": 1.1401104409364768}, \"1.3697823978394439\": {\"frequency\": 1, \"value\": 1.3697823978394439}, \"1.6804418070991476\": {\"frequency\": 1, \"value\": 1.6804418070991476}, \"1.0004620148391636\": {\"frequency\": 1, \"value\": 1.0004620148391636}, \"0.8131331853220153\": {\"frequency\": 1, \"value\": 0.8131331853220153}, \"0.4869931868336405\": {\"frequency\": 1, \"value\": 0.4869931868336405}, \"2.2173833410750894\": {\"frequency\": 1, \"value\": 2.2173833410750894}, \"1.613194921226247\": {\"frequency\": 1, \"value\": 1.613194921226247}, \"0.8409275911468637\": {\"frequency\": 1, \"value\": 0.8409275911468637}, \"0.8146252554084885\": {\"frequency\": 1, \"value\": 0.8146252554084885}, \"1.378008831021396\": {\"frequency\": 1, \"value\": 1.378008831021396}, \"1.6046752845363952\": {\"frequency\": 1, \"value\": 1.6046752845363952}, \"1.275404452225904\": {\"frequency\": 1, \"value\": 1.275404452225904}, \"0.7898410955254609\": {\"frequency\": 1, \"value\": 0.7898410955254609}, \"0.6148047451240131\": {\"frequency\": 1, \"value\": 0.6148047451240131}, \"0.9009864347663789\": {\"frequency\": 1, \"value\": 0.9009864347663789}, \"0.7292316014523149\": {\"frequency\": 1, \"value\": 0.7292316014523149}, \"1.3420868036562017\": {\"frequency\": 1, \"value\": 1.3420868036562017}, \"0.8008270368244335\": {\"frequency\": 1, \"value\": 0.8008270368244335}, \"1.2525215381356802\": {\"frequency\": 1, \"value\": 1.2525215381356802}, \"1.3700328132400734\": {\"frequency\": 1, \"value\": 1.3700328132400734}, \"1.0213729592292116\": {\"frequency\": 1, \"value\": 1.0213729592292116}, \"1.1827540729710477\": {\"frequency\": 1, \"value\": 1.1827540729710477}, \"1.1462970178628555\": {\"frequency\": 1, \"value\": 1.1462970178628555}, \"0.9738080720126504\": {\"frequency\": 1, \"value\": 0.9738080720126504}, \"0.49472631125249406\": {\"frequency\": 1, \"value\": 0.49472631125249406}, \"0.6248090498432436\": {\"frequency\": 1, \"value\": 0.6248090498432436}, \"1.8963690270019784\": {\"frequency\": 1, \"value\": 1.8963690270019784}, \"0.2951643586079902\": {\"frequency\": 1, \"value\": 0.2951643586079902}, \"0.729650528394383\": {\"frequency\": 1, \"value\": 0.729650528394383}, \"0.7150245029802593\": {\"frequency\": 1, \"value\": 0.7150245029802593}, \"1.28595836855202\": {\"frequency\": 1, \"value\": 1.28595836855202}, \"1.115468119606673\": {\"frequency\": 1, \"value\": 1.115468119606673}, \"0.9002357020731195\": {\"frequency\": 1, \"value\": 0.9002357020731195}, \"0.6489966410437634\": {\"frequency\": 1, \"value\": 0.6489966410437634}, \"0.4526194583545548\": {\"frequency\": 1, \"value\": 0.4526194583545548}, \"0.66846566663194\": {\"frequency\": 1, \"value\": 0.66846566663194}, \"1.5198289075539404\": {\"frequency\": 1, \"value\": 1.5198289075539404}, \"1.5979362659157645\": {\"frequency\": 1, \"value\": 1.5979362659157645}, \"2.032892463230528\": {\"frequency\": 1, \"value\": 2.032892463230528}, \"2.0153219772977167\": {\"frequency\": 1, \"value\": 2.0153219772977167}, \"0.7915197042925826\": {\"frequency\": 1, \"value\": 0.7915197042925826}, \"2.698664071403228\": {\"frequency\": 1, \"value\": 2.698664071403228}, \"1.2425652857562022\": {\"frequency\": 1, \"value\": 1.2425652857562022}, \"1.3766247186736862\": {\"frequency\": 1, \"value\": 1.3766247186736862}, \"0.12752850654633355\": {\"frequency\": 1, \"value\": 0.12752850654633355}, \"0.5941997297854535\": {\"frequency\": 1, \"value\": 0.5941997297854535}, \"0.7834215289133643\": {\"frequency\": 1, \"value\": 0.7834215289133643}, \"1.0617648753515692\": {\"frequency\": 1, \"value\": 1.0617648753515692}, \"0.2027339543769747\": {\"frequency\": 1, \"value\": 0.2027339543769747}, \"1.1740695694289176\": {\"frequency\": 1, \"value\": 1.1740695694289176}, \"0.736280534731911\": {\"frequency\": 1, \"value\": 0.736280534731911}, \"0.5972751056366815\": {\"frequency\": 1, \"value\": 0.5972751056366815}, \"1.306989369417037\": {\"frequency\": 1, \"value\": 1.306989369417037}, \"0.8405457467206185\": {\"frequency\": 1, \"value\": 0.8405457467206185}, \"0.6435614561949741\": {\"frequency\": 1, \"value\": 0.6435614561949741}, \"0.9858225331712956\": {\"frequency\": 1, \"value\": 0.9858225331712956}, \"0.8171063417383941\": {\"frequency\": 1, \"value\": 0.8171063417383941}, \"1.3091032022134583\": {\"frequency\": 1, \"value\": 1.3091032022134583}, \"1.1224476820746954\": {\"frequency\": 1, \"value\": 1.1224476820746954}, \"0.9530263909065742\": {\"frequency\": 1, \"value\": 0.9530263909065742}, \"0.8720170078815317\": {\"frequency\": 1, \"value\": 0.8720170078815317}, \"0.8882533146960758\": {\"frequency\": 1, \"value\": 0.8882533146960758}, \"1.640874117045156\": {\"frequency\": 1, \"value\": 1.640874117045156}, \"1.5242349803479471\": {\"frequency\": 1, \"value\": 1.5242349803479471}, \"0.9979953944239298\": {\"frequency\": 1, \"value\": 0.9979953944239298}, \"0.4745252674176721\": {\"frequency\": 1, \"value\": 0.4745252674176721}, \"1.09840224142661\": {\"frequency\": 1, \"value\": 1.09840224142661}, \"1.066786991184224\": {\"frequency\": 1, \"value\": 1.066786991184224}, \"1.6644012805115755\": {\"frequency\": 1, \"value\": 1.6644012805115755}, \"1.3327286174664854\": {\"frequency\": 1, \"value\": 1.3327286174664854}, \"0.7666208147795454\": {\"frequency\": 1, \"value\": 0.7666208147795454}, \"0.867158530666774\": {\"frequency\": 1, \"value\": 0.867158530666774}, \"1.2031023534647756\": {\"frequency\": 1, \"value\": 1.2031023534647756}, \"2.061615474976791\": {\"frequency\": 1, \"value\": 2.061615474976791}, \"0.9734603193942888\": {\"frequency\": 1, \"value\": 0.9734603193942888}, \"0.5667792588016958\": {\"frequency\": 1, \"value\": 0.5667792588016958}, \"0.6147440725634107\": {\"frequency\": 1, \"value\": 0.6147440725634107}, \"1.222652686034023\": {\"frequency\": 1, \"value\": 1.222652686034023}, \"0.7088924716536362\": {\"frequency\": 1, \"value\": 0.7088924716536362}, \"0.6026865066589184\": {\"frequency\": 1, \"value\": 0.6026865066589184}, \"0.4691165145904588\": {\"frequency\": 1, \"value\": 0.4691165145904588}, \"1.2868979330683028\": {\"frequency\": 1, \"value\": 1.2868979330683028}, \"0.5765100896480577\": {\"frequency\": 1, \"value\": 0.5765100896480577}, \"1.095193184496626\": {\"frequency\": 1, \"value\": 1.095193184496626}, \"0.8230616061886744\": {\"frequency\": 1, \"value\": 0.8230616061886744}, \"0.5558453636902065\": {\"frequency\": 1, \"value\": 0.5558453636902065}, \"0.4392523282355029\": {\"frequency\": 1, \"value\": 0.4392523282355029}, \"1.1851170563265416\": {\"frequency\": 1, \"value\": 1.1851170563265416}, \"0.24429980566534415\": {\"frequency\": 1, \"value\": 0.24429980566534415}, \"1.8935797793671187\": {\"frequency\": 1, \"value\": 1.8935797793671187}, \"1.1304901246342551\": {\"frequency\": 1, \"value\": 1.1304901246342551}, \"1.0848463223505938\": {\"frequency\": 1, \"value\": 1.0848463223505938}, \"0.7767576313517278\": {\"frequency\": 1, \"value\": 0.7767576313517278}, \"0.09948976775162244\": {\"frequency\": 1, \"value\": 0.09948976775162244}, \"1.0722506756957775\": {\"frequency\": 1, \"value\": 1.0722506756957775}, \"2.0423285026094513\": {\"frequency\": 1, \"value\": 2.0423285026094513}, \"0.35364659985490876\": {\"frequency\": 1, \"value\": 0.35364659985490876}, \"0.7082781079460473\": {\"frequency\": 1, \"value\": 0.7082781079460473}, \"1.6674312131318758\": {\"frequency\": 1, \"value\": 1.6674312131318758}, \"0.6997715725181561\": {\"frequency\": 1, \"value\": 0.6997715725181561}, \"0.46281846885847067\": {\"frequency\": 1, \"value\": 0.46281846885847067}, \"1.6699555964368455\": {\"frequency\": 1, \"value\": 1.6699555964368455}, \"1.090826385478843\": {\"frequency\": 1, \"value\": 1.090826385478843}, \"0.6858486703026492\": {\"frequency\": 1, \"value\": 0.6858486703026492}, \"0.1366645543719529\": {\"frequency\": 1, \"value\": 0.1366645543719529}, \"0.9014300726702705\": {\"frequency\": 1, \"value\": 0.9014300726702705}, \"0.878335661567998\": {\"frequency\": 1, \"value\": 0.878335661567998}, \"0.527237601310933\": {\"frequency\": 1, \"value\": 0.527237601310933}, \"0.601967525920637\": {\"frequency\": 1, \"value\": 0.601967525920637}, \"1.0561183976346933\": {\"frequency\": 1, \"value\": 1.0561183976346933}, \"0.21314828490834659\": {\"frequency\": 1, \"value\": 0.21314828490834659}, \"0.8008746695327348\": {\"frequency\": 1, \"value\": 0.8008746695327348}, \"0.8725126123321068\": {\"frequency\": 1, \"value\": 0.8725126123321068}, \"1.0216411817346072\": {\"frequency\": 1, \"value\": 1.0216411817346072}, \"0.795652264431194\": {\"frequency\": 1, \"value\": 0.795652264431194}, \"0.9450914543028903\": {\"frequency\": 1, \"value\": 0.9450914543028903}, \"0.5008608979431015\": {\"frequency\": 1, \"value\": 0.5008608979431015}, \"1.7115182262565123\": {\"frequency\": 1, \"value\": 1.7115182262565123}, \"1.3548969621103173\": {\"frequency\": 1, \"value\": 1.3548969621103173}, \"0.9281825723026168\": {\"frequency\": 1, \"value\": 0.9281825723026168}, \"1.0497688669974035\": {\"frequency\": 1, \"value\": 1.0497688669974035}, \"1.0013255516463049\": {\"frequency\": 1, \"value\": 1.0013255516463049}, \"0.9660513167137907\": {\"frequency\": 1, \"value\": 0.9660513167137907}, \"1.2593788642965609\": {\"frequency\": 1, \"value\": 1.2593788642965609}, \"0.7873649959868908\": {\"frequency\": 1, \"value\": 0.7873649959868908}, \"0.3945730817338806\": {\"frequency\": 1, \"value\": 0.3945730817338806}, \"0.5526664091533675\": {\"frequency\": 1, \"value\": 0.5526664091533675}, \"0.6782805777780663\": {\"frequency\": 1, \"value\": 0.6782805777780663}, \"1.8768224450591344\": {\"frequency\": 1, \"value\": 1.8768224450591344}, \"2.294098810726731\": {\"frequency\": 1, \"value\": 2.294098810726731}, \"1.1335210680844139\": {\"frequency\": 1, \"value\": 1.1335210680844139}, \"0.542773006521581\": {\"frequency\": 1, \"value\": 0.542773006521581}, \"0.23709207738378663\": {\"frequency\": 1, \"value\": 0.23709207738378663}, \"0.555117369047621\": {\"frequency\": 1, \"value\": 0.555117369047621}, \"1.421405323669144\": {\"frequency\": 1, \"value\": 1.421405323669144}, \"1.158840101510067\": {\"frequency\": 1, \"value\": 1.158840101510067}, \"0.8149042179245515\": {\"frequency\": 1, \"value\": 0.8149042179245515}, \"1.8458085360569831\": {\"frequency\": 1, \"value\": 1.8458085360569831}, \"1.1800894818642025\": {\"frequency\": 1, \"value\": 1.1800894818642025}, \"2.5000048477066192\": {\"frequency\": 1, \"value\": 2.5000048477066192}, \"1.468443447132612\": {\"frequency\": 1, \"value\": 1.468443447132612}, \"0.6597490592880869\": {\"frequency\": 1, \"value\": 0.6597490592880869}, \"2.5732241834466505\": {\"frequency\": 1, \"value\": 2.5732241834466505}, \"0.8148372487008073\": {\"frequency\": 1, \"value\": 0.8148372487008073}, \"1.150887102960191\": {\"frequency\": 1, \"value\": 1.150887102960191}, \"1.046611378248424\": {\"frequency\": 1, \"value\": 1.046611378248424}, \"1.002179078001146\": {\"frequency\": 1, \"value\": 1.002179078001146}, \"1.0831476016473007\": {\"frequency\": 1, \"value\": 1.0831476016473007}, \"1.0782690887465496\": {\"frequency\": 1, \"value\": 1.0782690887465496}, \"0.7731605011898491\": {\"frequency\": 1, \"value\": 0.7731605011898491}, \"0.48299064513826817\": {\"frequency\": 1, \"value\": 0.48299064513826817}, \"0.8509543409199491\": {\"frequency\": 1, \"value\": 0.8509543409199491}, \"1.4399376857367183\": {\"frequency\": 1, \"value\": 1.4399376857367183}, \"0.696457990118764\": {\"frequency\": 1, \"value\": 0.696457990118764}, \"0.790571022704261\": {\"frequency\": 1, \"value\": 0.790571022704261}, \"0.0426271441771604\": {\"frequency\": 1, \"value\": 0.0426271441771604}, \"1.0182057490075278\": {\"frequency\": 1, \"value\": 1.0182057490075278}, \"0.5584842059484649\": {\"frequency\": 1, \"value\": 0.5584842059484649}, \"0.9508236009634077\": {\"frequency\": 1, \"value\": 0.9508236009634077}, \"0.8613336653070163\": {\"frequency\": 1, \"value\": 0.8613336653070163}, \"0.8921356783396476\": {\"frequency\": 1, \"value\": 0.8921356783396476}, \"0.640499412777839\": {\"frequency\": 1, \"value\": 0.640499412777839}, \"1.4943925154919178\": {\"frequency\": 1, \"value\": 1.4943925154919178}, \"0.5702858469467621\": {\"frequency\": 1, \"value\": 0.5702858469467621}, \"0.6798270363902035\": {\"frequency\": 1, \"value\": 0.6798270363902035}, \"1.5187326743981475\": {\"frequency\": 1, \"value\": 1.5187326743981475}, \"1.1777559608071306\": {\"frequency\": 1, \"value\": 1.1777559608071306}, \"0.7373893933955298\": {\"frequency\": 1, \"value\": 0.7373893933955298}, \"1.0304466658201346\": {\"frequency\": 1, \"value\": 1.0304466658201346}, \"0.39191404482224923\": {\"frequency\": 1, \"value\": 0.39191404482224923}, \"0.1678827581822417\": {\"frequency\": 1, \"value\": 0.1678827581822417}, \"1.3877488689072208\": {\"frequency\": 1, \"value\": 1.3877488689072208}, \"0.7632606805476438\": {\"frequency\": 1, \"value\": 0.7632606805476438}, \"1.1473490380377593\": {\"frequency\": 1, \"value\": 1.1473490380377593}, \"1.0698367774946844\": {\"frequency\": 1, \"value\": 1.0698367774946844}, \"1.041698881056509\": {\"frequency\": 1, \"value\": 1.041698881056509}, \"0.05878453475746026\": {\"frequency\": 1, \"value\": 0.05878453475746026}, \"0.8390854256145825\": {\"frequency\": 1, \"value\": 0.8390854256145825}, \"0.9723719019968757\": {\"frequency\": 1, \"value\": 0.9723719019968757}, \"0.7821069620969335\": {\"frequency\": 1, \"value\": 0.7821069620969335}, \"2.213012090002545\": {\"frequency\": 1, \"value\": 2.213012090002545}, \"1.0939099194971371\": {\"frequency\": 1, \"value\": 1.0939099194971371}, \"0.24421902778285087\": {\"frequency\": 1, \"value\": 0.24421902778285087}, \"0.6327420204397688\": {\"frequency\": 1, \"value\": 0.6327420204397688}, \"0.36797659364015844\": {\"frequency\": 1, \"value\": 0.36797659364015844}, \"1.4529378733613554\": {\"frequency\": 1, \"value\": 1.4529378733613554}, \"1.290233804025745\": {\"frequency\": 1, \"value\": 1.290233804025745}, \"0.8166173472287175\": {\"frequency\": 1, \"value\": 0.8166173472287175}, \"1.0180346546288006\": {\"frequency\": 1, \"value\": 1.0180346546288006}, \"1.0624086541044988\": {\"frequency\": 1, \"value\": 1.0624086541044988}, \"0.5281904812886791\": {\"frequency\": 1, \"value\": 0.5281904812886791}, \"1.3368279708747988\": {\"frequency\": 1, \"value\": 1.3368279708747988}, \"1.9791266717652083\": {\"frequency\": 1, \"value\": 1.9791266717652083}, \"0.9834698343266401\": {\"frequency\": 1, \"value\": 0.9834698343266401}, \"1.8390643504404536\": {\"frequency\": 1, \"value\": 1.8390643504404536}, \"1.5275642788148798\": {\"frequency\": 1, \"value\": 1.5275642788148798}, \"1.275206207905073\": {\"frequency\": 1, \"value\": 1.275206207905073}, \"0.9314905392221774\": {\"frequency\": 1, \"value\": 0.9314905392221774}, \"1.8495667005061016\": {\"frequency\": 1, \"value\": 1.8495667005061016}, \"0.9635621374897262\": {\"frequency\": 1, \"value\": 0.9635621374897262}, \"1.1870013520306826\": {\"frequency\": 1, \"value\": 1.1870013520306826}, \"1.324510839875227\": {\"frequency\": 1, \"value\": 1.324510839875227}, \"1.1617291265422909\": {\"frequency\": 1, \"value\": 1.1617291265422909}, \"0.8530956674698486\": {\"frequency\": 1, \"value\": 0.8530956674698486}, \"1.0118711424707323\": {\"frequency\": 1, \"value\": 1.0118711424707323}, \"1.795926853192837\": {\"frequency\": 1, \"value\": 1.795926853192837}, \"0.1447250602025889\": {\"frequency\": 1, \"value\": 0.1447250602025889}, \"0.938369429366738\": {\"frequency\": 1, \"value\": 0.938369429366738}, \"1.3787687393782635\": {\"frequency\": 1, \"value\": 1.3787687393782635}, \"0.8104082634806665\": {\"frequency\": 1, \"value\": 0.8104082634806665}, \"0.2853655372639703\": {\"frequency\": 1, \"value\": 0.2853655372639703}, \"0.6779460023883987\": {\"frequency\": 1, \"value\": 0.6779460023883987}, \"0.9027325248751558\": {\"frequency\": 1, \"value\": 0.9027325248751558}, \"0.8568114396959179\": {\"frequency\": 1, \"value\": 0.8568114396959179}, \"0.5759505397322102\": {\"frequency\": 1, \"value\": 0.5759505397322102}, \"0.08066426686020378\": {\"frequency\": 1, \"value\": 0.08066426686020378}, \"1.243156275696422\": {\"frequency\": 1, \"value\": 1.243156275696422}, \"0.782128494629024\": {\"frequency\": 1, \"value\": 0.782128494629024}, \"0.9995516966078379\": {\"frequency\": 1, \"value\": 0.9995516966078379}, \"1.771905747331754\": {\"frequency\": 1, \"value\": 1.771905747331754}, \"0.6735507710910137\": {\"frequency\": 1, \"value\": 0.6735507710910137}, \"1.4938372129611608\": {\"frequency\": 1, \"value\": 1.4938372129611608}, \"0.32683380948070456\": {\"frequency\": 1, \"value\": 0.32683380948070456}, \"0.6063889784531984\": {\"frequency\": 1, \"value\": 0.6063889784531984}, \"1.1414493187512285\": {\"frequency\": 1, \"value\": 1.1414493187512285}, \"1.5314978238636767\": {\"frequency\": 1, \"value\": 1.5314978238636767}, \"1.1649554901980792\": {\"frequency\": 1, \"value\": 1.1649554901980792}, \"2.4772469963139683\": {\"frequency\": 1, \"value\": 2.4772469963139683}, \"0.5689601297973552\": {\"frequency\": 1, \"value\": 0.5689601297973552}, \"0.7485556018685189\": {\"frequency\": 1, \"value\": 0.7485556018685189}, \"0.7865714450938843\": {\"frequency\": 1, \"value\": 0.7865714450938843}, \"1.1562202591650974\": {\"frequency\": 1, \"value\": 1.1562202591650974}, \"0.6272988235045722\": {\"frequency\": 1, \"value\": 0.6272988235045722}, \"0.704102464448237\": {\"frequency\": 1, \"value\": 0.704102464448237}, \"1.8031395851839211\": {\"frequency\": 1, \"value\": 1.8031395851839211}, \"0.22802375516905338\": {\"frequency\": 1, \"value\": 0.22802375516905338}, \"0.9078754916192777\": {\"frequency\": 1, \"value\": 0.9078754916192777}, \"0.911757426749662\": {\"frequency\": 1, \"value\": 0.911757426749662}, \"1.0806678926175903\": {\"frequency\": 1, \"value\": 1.0806678926175903}, \"1.0408491315150352\": {\"frequency\": 1, \"value\": 1.0408491315150352}, \"0.32446334893889706\": {\"frequency\": 1, \"value\": 0.32446334893889706}, \"0.23545574283795334\": {\"frequency\": 1, \"value\": 0.23545574283795334}, \"0.6985671214304433\": {\"frequency\": 1, \"value\": 0.6985671214304433}, \"1.1995086065279077\": {\"frequency\": 1, \"value\": 1.1995086065279077}, \"0.02804103400948721\": {\"frequency\": 1, \"value\": 0.02804103400948721}, \"1.011158407709394\": {\"frequency\": 1, \"value\": 1.011158407709394}, \"0.9538483345189335\": {\"frequency\": 1, \"value\": 0.9538483345189335}, \"2.4173115615662604\": {\"frequency\": 1, \"value\": 2.4173115615662604}, \"0.8831270494496475\": {\"frequency\": 1, \"value\": 0.8831270494496475}, \"0.8262002224662034\": {\"frequency\": 1, \"value\": 0.8262002224662034}, \"0.19453262696765083\": {\"frequency\": 1, \"value\": 0.19453262696765083}, \"0.4893526927575924\": {\"frequency\": 1, \"value\": 0.4893526927575924}, \"2.025883597467263\": {\"frequency\": 1, \"value\": 2.025883597467263}, \"0.7034482765416579\": {\"frequency\": 1, \"value\": 0.7034482765416579}, \"0.5119151954762517\": {\"frequency\": 1, \"value\": 0.5119151954762517}, \"1.9560198594956326\": {\"frequency\": 1, \"value\": 1.9560198594956326}, \"0.606625549729765\": {\"frequency\": 1, \"value\": 0.606625549729765}, \"0.9118423410396361\": {\"frequency\": 1, \"value\": 0.9118423410396361}, \"0.4223294248726983\": {\"frequency\": 1, \"value\": 0.4223294248726983}, \"1.2903666464882886\": {\"frequency\": 1, \"value\": 1.2903666464882886}, \"0.4048632377978268\": {\"frequency\": 1, \"value\": 0.4048632377978268}, \"1.2431631087406259\": {\"frequency\": 1, \"value\": 1.2431631087406259}, \"0.8212242136526737\": {\"frequency\": 1, \"value\": 0.8212242136526737}, \"0.762750629873993\": {\"frequency\": 1, \"value\": 0.762750629873993}, \"0.8137848427662789\": {\"frequency\": 1, \"value\": 0.8137848427662789}, \"0.9477305480837017\": {\"frequency\": 1, \"value\": 0.9477305480837017}, \"2.057721166853827\": {\"frequency\": 1, \"value\": 2.057721166853827}, \"1.3004121973064486\": {\"frequency\": 1, \"value\": 1.3004121973064486}, \"0.9966991060786913\": {\"frequency\": 1, \"value\": 0.9966991060786913}, \"0.112988116045464\": {\"frequency\": 1, \"value\": 0.112988116045464}, \"0.3485922897474265\": {\"frequency\": 1, \"value\": 0.3485922897474265}, \"1.0370717397296694\": {\"frequency\": 1, \"value\": 1.0370717397296694}, \"1.5281982792373272\": {\"frequency\": 1, \"value\": 1.5281982792373272}, \"1.0764823346606234\": {\"frequency\": 1, \"value\": 1.0764823346606234}, \"1.1289964113505364\": {\"frequency\": 1, \"value\": 1.1289964113505364}, \"0.8538799489460636\": {\"frequency\": 1, \"value\": 0.8538799489460636}, \"0.5805740598165188\": {\"frequency\": 1, \"value\": 0.5805740598165188}, \"0.7049956575314462\": {\"frequency\": 1, \"value\": 0.7049956575314462}, \"0.0016907845215166084\": {\"frequency\": 1, \"value\": 0.0016907845215166084}, \"0.15679479325654277\": {\"frequency\": 1, \"value\": 0.15679479325654277}, \"0.38884545768223533\": {\"frequency\": 1, \"value\": 0.38884545768223533}, \"1.0312519656483978\": {\"frequency\": 1, \"value\": 1.0312519656483978}, \"1.7983894967078085\": {\"frequency\": 1, \"value\": 1.7983894967078085}, \"0.6716687999211525\": {\"frequency\": 1, \"value\": 0.6716687999211525}, \"1.1217685434697444\": {\"frequency\": 1, \"value\": 1.1217685434697444}, \"0.8743746638871567\": {\"frequency\": 1, \"value\": 0.8743746638871567}, \"0.8213510873556551\": {\"frequency\": 1, \"value\": 0.8213510873556551}, \"0.5949423677412872\": {\"frequency\": 1, \"value\": 0.5949423677412872}, \"1.2031603641493676\": {\"frequency\": 1, \"value\": 1.2031603641493676}, \"0.009873465341077914\": {\"frequency\": 1, \"value\": 0.009873465341077914}, \"1.4545231708159\": {\"frequency\": 1, \"value\": 1.4545231708159}, \"1.0375219291646978\": {\"frequency\": 1, \"value\": 1.0375219291646978}, \"0.29908001804395506\": {\"frequency\": 1, \"value\": 0.29908001804395506}, \"0.8702705379389092\": {\"frequency\": 1, \"value\": 0.8702705379389092}, \"1.3798857698980238\": {\"frequency\": 1, \"value\": 1.3798857698980238}, \"0.27047994178556756\": {\"frequency\": 1, \"value\": 0.27047994178556756}, \"1.259647227816233\": {\"frequency\": 1, \"value\": 1.259647227816233}, \"2.0843536758021206\": {\"frequency\": 1, \"value\": 2.0843536758021206}, \"0.6223636278636018\": {\"frequency\": 1, \"value\": 0.6223636278636018}, \"0.7537747061296414\": {\"frequency\": 1, \"value\": 0.7537747061296414}, \"0.021486194969388084\": {\"frequency\": 1, \"value\": 0.021486194969388084}, \"0.8316279132700419\": {\"frequency\": 1, \"value\": 0.8316279132700419}, \"1.4710671340789467\": {\"frequency\": 1, \"value\": 1.4710671340789467}, \"0.39677170404418105\": {\"frequency\": 1, \"value\": 0.39677170404418105}, \"0.35680631292242904\": {\"frequency\": 1, \"value\": 0.35680631292242904}, \"1.1884271111759501\": {\"frequency\": 1, \"value\": 1.1884271111759501}, \"1.3417235841878603\": {\"frequency\": 1, \"value\": 1.3417235841878603}, \"1.0257855892709333\": {\"frequency\": 1, \"value\": 1.0257855892709333}, \"0.603104186284334\": {\"frequency\": 1, \"value\": 0.603104186284334}, \"0.09156049216915285\": {\"frequency\": 1, \"value\": 0.09156049216915285}, \"1.0519329589914517\": {\"frequency\": 1, \"value\": 1.0519329589914517}, \"1.8973228059978644\": {\"frequency\": 1, \"value\": 1.8973228059978644}, \"1.162168657841777\": {\"frequency\": 1, \"value\": 1.162168657841777}, \"0.73935731465393\": {\"frequency\": 1, \"value\": 0.73935731465393}, \"1.6878272786743849\": {\"frequency\": 1, \"value\": 1.6878272786743849}, \"0.5402871021179227\": {\"frequency\": 1, \"value\": 0.5402871021179227}, \"1.4258171833947115\": {\"frequency\": 1, \"value\": 1.4258171833947115}, \"0.3540454340314123\": {\"frequency\": 1, \"value\": 0.3540454340314123}, \"1.4303962528441487\": {\"frequency\": 1, \"value\": 1.4303962528441487}, \"0.8698435778326042\": {\"frequency\": 1, \"value\": 0.8698435778326042}, \"1.325686637785274\": {\"frequency\": 1, \"value\": 1.325686637785274}, \"0.7429855798354749\": {\"frequency\": 1, \"value\": 0.7429855798354749}, \"0.8956802855796157\": {\"frequency\": 1, \"value\": 0.8956802855796157}, \"0.7850266527886771\": {\"frequency\": 1, \"value\": 0.7850266527886771}, \"1.0925781465367375\": {\"frequency\": 1, \"value\": 1.0925781465367375}, \"0.6448827869588707\": {\"frequency\": 1, \"value\": 0.6448827869588707}, \"0.5766597875914001\": {\"frequency\": 1, \"value\": 0.5766597875914001}, \"1.2311861356564195\": {\"frequency\": 1, \"value\": 1.2311861356564195}, \"0.6665197540592394\": {\"frequency\": 1, \"value\": 0.6665197540592394}, \"0.9161201651519819\": {\"frequency\": 1, \"value\": 0.9161201651519819}, \"0.9416302409753917\": {\"frequency\": 1, \"value\": 0.9416302409753917}, \"1.058234447949784\": {\"frequency\": 1, \"value\": 1.058234447949784}, \"0.7265962350757825\": {\"frequency\": 1, \"value\": 0.7265962350757825}, \"0.6369293940013404\": {\"frequency\": 1, \"value\": 0.6369293940013404}, \"2.3456206475498482\": {\"frequency\": 1, \"value\": 2.3456206475498482}, \"0.8452197392764536\": {\"frequency\": 1, \"value\": 0.8452197392764536}, \"0.6900998491349273\": {\"frequency\": 1, \"value\": 0.6900998491349273}, \"0.7176438746440383\": {\"frequency\": 1, \"value\": 0.7176438746440383}, \"0.9785062259752215\": {\"frequency\": 1, \"value\": 0.9785062259752215}, \"1.1236446330791947\": {\"frequency\": 1, \"value\": 1.1236446330791947}, \"0.6699186795333587\": {\"frequency\": 1, \"value\": 0.6699186795333587}, \"0.38187952040102363\": {\"frequency\": 1, \"value\": 0.38187952040102363}, \"0.8547486704971125\": {\"frequency\": 1, \"value\": 0.8547486704971125}, \"1.3562577366966404\": {\"frequency\": 1, \"value\": 1.3562577366966404}, \"0.7182404110837621\": {\"frequency\": 1, \"value\": 0.7182404110837621}, \"1.0436318553036918\": {\"frequency\": 1, \"value\": 1.0436318553036918}, \"0.040308783179836105\": {\"frequency\": 1, \"value\": 0.040308783179836105}, \"0.6724572446564188\": {\"frequency\": 1, \"value\": 0.6724572446564188}, \"0.6749626786329246\": {\"frequency\": 1, \"value\": 0.6749626786329246}, \"0.5407296812327513\": {\"frequency\": 1, \"value\": 0.5407296812327513}, \"1.0791486121360134\": {\"frequency\": 1, \"value\": 1.0791486121360134}, \"0.5084144291793686\": {\"frequency\": 1, \"value\": 0.5084144291793686}, \"0.815701170462255\": {\"frequency\": 1, \"value\": 0.815701170462255}, \"0.5963594195883872\": {\"frequency\": 1, \"value\": 0.5963594195883872}, \"0.9876679677405776\": {\"frequency\": 1, \"value\": 0.9876679677405776}, \"1.252600054940574\": {\"frequency\": 1, \"value\": 1.252600054940574}, \"1.1990274014436628\": {\"frequency\": 1, \"value\": 1.1990274014436628}, \"0.8458973692040395\": {\"frequency\": 1, \"value\": 0.8458973692040395}, \"1.1901095970027749\": {\"frequency\": 1, \"value\": 1.1901095970027749}, \"1.0630193216319683\": {\"frequency\": 1, \"value\": 1.0630193216319683}, \"0.7337371668813981\": {\"frequency\": 1, \"value\": 0.7337371668813981}, \"0.10671152885619417\": {\"frequency\": 1, \"value\": 0.10671152885619417}, \"1.0212768330614619\": {\"frequency\": 1, \"value\": 1.0212768330614619}, \"0.6267063083083837\": {\"frequency\": 1, \"value\": 0.6267063083083837}, \"0.9364273019644402\": {\"frequency\": 1, \"value\": 0.9364273019644402}, \"1.6614680930326047\": {\"frequency\": 1, \"value\": 1.6614680930326047}, \"0.9211830632254431\": {\"frequency\": 1, \"value\": 0.9211830632254431}, \"1.078503995983985\": {\"frequency\": 1, \"value\": 1.078503995983985}, \"0.11837163026343545\": {\"frequency\": 1, \"value\": 0.11837163026343545}, \"0.7572490743753608\": {\"frequency\": 1, \"value\": 0.7572490743753608}, \"0.630213936229711\": {\"frequency\": 1, \"value\": 0.630213936229711}, \"0.15370809093874035\": {\"frequency\": 1, \"value\": 0.15370809093874035}, \"1.7636350850498705\": {\"frequency\": 1, \"value\": 1.7636350850498705}, \"1.3098539623767107\": {\"frequency\": 1, \"value\": 1.3098539623767107}, \"0.567577567292942\": {\"frequency\": 1, \"value\": 0.567577567292942}, \"0.6433374554395379\": {\"frequency\": 1, \"value\": 0.6433374554395379}, \"0.7339636976344439\": {\"frequency\": 1, \"value\": 0.7339636976344439}, \"0.9409648208993312\": {\"frequency\": 1, \"value\": 0.9409648208993312}, \"0.7037222111374173\": {\"frequency\": 1, \"value\": 0.7037222111374173}, \"0.6995886523786363\": {\"frequency\": 1, \"value\": 0.6995886523786363}, \"1.547244502403522\": {\"frequency\": 1, \"value\": 1.547244502403522}, \"0.9638740798967396\": {\"frequency\": 1, \"value\": 0.9638740798967396}, \"0.5649921705006573\": {\"frequency\": 1, \"value\": 0.5649921705006573}, \"0.5245404614783324\": {\"frequency\": 1, \"value\": 0.5245404614783324}, \"2.0185326955697516\": {\"frequency\": 1, \"value\": 2.0185326955697516}, \"1.382804374865683\": {\"frequency\": 1, \"value\": 1.382804374865683}, \"1.248628121134392\": {\"frequency\": 1, \"value\": 1.248628121134392}, \"0.34729122802104734\": {\"frequency\": 1, \"value\": 0.34729122802104734}, \"0.23506766412056423\": {\"frequency\": 1, \"value\": 0.23506766412056423}, \"0.6879427377735969\": {\"frequency\": 1, \"value\": 0.6879427377735969}, \"0.13720452681260695\": {\"frequency\": 1, \"value\": 0.13720452681260695}, \"1.2525830279861472\": {\"frequency\": 1, \"value\": 1.2525830279861472}, \"0.5903038999168556\": {\"frequency\": 1, \"value\": 0.5903038999168556}, \"0.7305033235729259\": {\"frequency\": 1, \"value\": 0.7305033235729259}, \"0.21437293373404387\": {\"frequency\": 1, \"value\": 0.21437293373404387}, \"0.43669092865593795\": {\"frequency\": 1, \"value\": 0.43669092865593795}, \"0.827533013001978\": {\"frequency\": 1, \"value\": 0.827533013001978}, \"0.7624571393533741\": {\"frequency\": 1, \"value\": 0.7624571393533741}, \"0.921016941414488\": {\"frequency\": 1, \"value\": 0.921016941414488}, \"1.2544083866009164\": {\"frequency\": 1, \"value\": 1.2544083866009164}, \"0.8764736809857094\": {\"frequency\": 1, \"value\": 0.8764736809857094}, \"0.7918117236785076\": {\"frequency\": 1, \"value\": 0.7918117236785076}, \"1.549907254884825\": {\"frequency\": 1, \"value\": 1.549907254884825}, \"1.4149899994528417\": {\"frequency\": 1, \"value\": 1.4149899994528417}, \"1.2431607788691563\": {\"frequency\": 1, \"value\": 1.2431607788691563}, \"1.6326308842326225\": {\"frequency\": 1, \"value\": 1.6326308842326225}, \"0.453613177301157\": {\"frequency\": 1, \"value\": 0.453613177301157}, \"0.25161232163232317\": {\"frequency\": 1, \"value\": 0.25161232163232317}, \"0.36911071998776546\": {\"frequency\": 1, \"value\": 0.36911071998776546}, \"1.454075880284878\": {\"frequency\": 1, \"value\": 1.454075880284878}, \"0.7265723087553133\": {\"frequency\": 1, \"value\": 0.7265723087553133}, \"0.748683969363111\": {\"frequency\": 1, \"value\": 0.748683969363111}, \"0.7390125199028603\": {\"frequency\": 1, \"value\": 0.7390125199028603}, \"0.887831893570588\": {\"frequency\": 1, \"value\": 0.887831893570588}, \"1.4477029684835827\": {\"frequency\": 1, \"value\": 1.4477029684835827}, \"0.7884386038004185\": {\"frequency\": 1, \"value\": 0.7884386038004185}, \"0.3384644027413075\": {\"frequency\": 1, \"value\": 0.3384644027413075}, \"1.4109402659416568\": {\"frequency\": 1, \"value\": 1.4109402659416568}, \"0.9728110336469622\": {\"frequency\": 1, \"value\": 0.9728110336469622}, \"0.1575749651497742\": {\"frequency\": 1, \"value\": 0.1575749651497742}, \"1.087181677629471\": {\"frequency\": 1, \"value\": 1.087181677629471}, \"1.6982094048069976\": {\"frequency\": 1, \"value\": 1.6982094048069976}, \"0.33184129522111344\": {\"frequency\": 1, \"value\": 0.33184129522111344}, \"0.8562675148037043\": {\"frequency\": 1, \"value\": 0.8562675148037043}, \"1.2107678787405567\": {\"frequency\": 1, \"value\": 1.2107678787405567}, \"0.9623962126436875\": {\"frequency\": 1, \"value\": 0.9623962126436875}, \"0.7302387441133142\": {\"frequency\": 1, \"value\": 0.7302387441133142}, \"0.6613708233176981\": {\"frequency\": 1, \"value\": 0.6613708233176981}, \"0.8490448709124477\": {\"frequency\": 1, \"value\": 0.8490448709124477}, \"0.7131565340205157\": {\"frequency\": 1, \"value\": 0.7131565340205157}, \"0.8946536337032076\": {\"frequency\": 1, \"value\": 0.8946536337032076}, \"1.0923773453387513\": {\"frequency\": 1, \"value\": 1.0923773453387513}, \"0.7671304280278313\": {\"frequency\": 1, \"value\": 0.7671304280278313}, \"1.8615061482335555\": {\"frequency\": 1, \"value\": 1.8615061482335555}, \"0.6227951878383516\": {\"frequency\": 1, \"value\": 0.6227951878383516}, \"1.4992639304223545\": {\"frequency\": 1, \"value\": 1.4992639304223545}, \"0.6736606007496264\": {\"frequency\": 1, \"value\": 0.6736606007496264}, \"0.48399238035714814\": {\"frequency\": 1, \"value\": 0.48399238035714814}, \"0.9914861594996051\": {\"frequency\": 1, \"value\": 0.9914861594996051}, \"1.1286775467812984\": {\"frequency\": 1, \"value\": 1.1286775467812984}, \"0.5566113891029065\": {\"frequency\": 1, \"value\": 0.5566113891029065}, \"1.3515593474505918\": {\"frequency\": 1, \"value\": 1.3515593474505918}, \"1.0634624431682453\": {\"frequency\": 1, \"value\": 1.0634624431682453}, \"1.0355474432376932\": {\"frequency\": 1, \"value\": 1.0355474432376932}, \"1.081899357102531\": {\"frequency\": 1, \"value\": 1.081899357102531}, \"1.5884558753129925\": {\"frequency\": 1, \"value\": 1.5884558753129925}, \"1.609273325063803\": {\"frequency\": 1, \"value\": 1.609273325063803}, \"1.1653806893120005\": {\"frequency\": 1, \"value\": 1.1653806893120005}, \"0.708129273595806\": {\"frequency\": 1, \"value\": 0.708129273595806}, \"0.34951656410870324\": {\"frequency\": 1, \"value\": 0.34951656410870324}, \"1.0843784575611106\": {\"frequency\": 1, \"value\": 1.0843784575611106}, \"1.0611364729390333\": {\"frequency\": 1, \"value\": 1.0611364729390333}, \"0.36041933109804064\": {\"frequency\": 1, \"value\": 0.36041933109804064}, \"0.7488692977241977\": {\"frequency\": 1, \"value\": 0.7488692977241977}, \"1.3206078976869287\": {\"frequency\": 1, \"value\": 1.3206078976869287}, \"1.0247333028891408\": {\"frequency\": 1, \"value\": 1.0247333028891408}, \"1.5915768215269679\": {\"frequency\": 1, \"value\": 1.5915768215269679}, \"0.662860278294116\": {\"frequency\": 1, \"value\": 0.662860278294116}, \"2.0222277912531554\": {\"frequency\": 1, \"value\": 2.0222277912531554}, \"0.502547086757747\": {\"frequency\": 1, \"value\": 0.502547086757747}, \"1.4032552447256808\": {\"frequency\": 1, \"value\": 1.4032552447256808}, \"0.5819312462990186\": {\"frequency\": 1, \"value\": 0.5819312462990186}, \"1.0244572489122656\": {\"frequency\": 1, \"value\": 1.0244572489122656}, \"1.5950706342037515\": {\"frequency\": 1, \"value\": 1.5950706342037515}, \"0.7740472753151577\": {\"frequency\": 1, \"value\": 0.7740472753151577}, \"0.35186643444699683\": {\"frequency\": 1, \"value\": 0.35186643444699683}, \"1.4411671594342887\": {\"frequency\": 1, \"value\": 1.4411671594342887}, \"0.7799045068923897\": {\"frequency\": 1, \"value\": 0.7799045068923897}, \"1.1684177380423204\": {\"frequency\": 1, \"value\": 1.1684177380423204}, \"1.0720699379252068\": {\"frequency\": 1, \"value\": 1.0720699379252068}, \"0.6703022996416383\": {\"frequency\": 1, \"value\": 0.6703022996416383}, \"0.786453638193223\": {\"frequency\": 1, \"value\": 0.786453638193223}, \"1.0145810371395576\": {\"frequency\": 1, \"value\": 1.0145810371395576}, \"0.8622340344101518\": {\"frequency\": 1, \"value\": 0.8622340344101518}, \"1.1012042363644714\": {\"frequency\": 1, \"value\": 1.1012042363644714}, \"1.113611064209309\": {\"frequency\": 1, \"value\": 1.113611064209309}, \"1.8740623874972657\": {\"frequency\": 1, \"value\": 1.8740623874972657}, \"0.37909384859704076\": {\"frequency\": 1, \"value\": 0.37909384859704076}, \"1.2661765615483598\": {\"frequency\": 1, \"value\": 1.2661765615483598}, \"0.6906410995893281\": {\"frequency\": 1, \"value\": 0.6906410995893281}, \"1.083226553856245\": {\"frequency\": 1, \"value\": 1.083226553856245}, \"0.6836721298798786\": {\"frequency\": 1, \"value\": 0.6836721298798786}, \"0.2577584686605154\": {\"frequency\": 1, \"value\": 0.2577584686605154}, \"1.6452082423703467\": {\"frequency\": 1, \"value\": 1.6452082423703467}, \"1.6334704201872694\": {\"frequency\": 1, \"value\": 1.6334704201872694}, \"0.43805477149501604\": {\"frequency\": 1, \"value\": 0.43805477149501604}, \"1.0721868433367365\": {\"frequency\": 1, \"value\": 1.0721868433367365}, \"1.8381480254015679\": {\"frequency\": 1, \"value\": 1.8381480254015679}, \"1.1729535166636609\": {\"frequency\": 1, \"value\": 1.1729535166636609}, \"0.6763031045225701\": {\"frequency\": 1, \"value\": 0.6763031045225701}, \"0.3254639920896403\": {\"frequency\": 1, \"value\": 0.3254639920896403}, \"1.2282251500522252\": {\"frequency\": 1, \"value\": 1.2282251500522252}, \"0.6133885050135715\": {\"frequency\": 1, \"value\": 0.6133885050135715}, \"1.2961005665217757\": {\"frequency\": 1, \"value\": 1.2961005665217757}, \"0.08626144866943575\": {\"frequency\": 1, \"value\": 0.08626144866943575}, \"1.2185554136237537\": {\"frequency\": 1, \"value\": 1.2185554136237537}, \"0.8953878728902623\": {\"frequency\": 1, \"value\": 0.8953878728902623}, \"1.1393049513238873\": {\"frequency\": 1, \"value\": 1.1393049513238873}, \"0.6867897373799404\": {\"frequency\": 1, \"value\": 0.6867897373799404}, \"0.827837215975682\": {\"frequency\": 1, \"value\": 0.827837215975682}, \"0.46672665508410044\": {\"frequency\": 1, \"value\": 0.46672665508410044}, \"1.0449628660179364\": {\"frequency\": 1, \"value\": 1.0449628660179364}, \"0.6929428501423668\": {\"frequency\": 1, \"value\": 0.6929428501423668}, \"1.2471952331131035\": {\"frequency\": 1, \"value\": 1.2471952331131035}, \"0.984662528313665\": {\"frequency\": 1, \"value\": 0.984662528313665}, \"1.4974247613791236\": {\"frequency\": 1, \"value\": 1.4974247613791236}, \"0.4095826158798356\": {\"frequency\": 1, \"value\": 0.4095826158798356}, \"0.5231747667877209\": {\"frequency\": 1, \"value\": 0.5231747667877209}, \"1.0356578940977834\": {\"frequency\": 1, \"value\": 1.0356578940977834}, \"0.40805983937559676\": {\"frequency\": 1, \"value\": 0.40805983937559676}, \"0.2202118655976586\": {\"frequency\": 1, \"value\": 0.2202118655976586}, \"1.0123024160494825\": {\"frequency\": 1, \"value\": 1.0123024160494825}, \"2.0285196744949894\": {\"frequency\": 1, \"value\": 2.0285196744949894}, \"1.1698198637868442\": {\"frequency\": 1, \"value\": 1.1698198637868442}, \"0.526358150429306\": {\"frequency\": 1, \"value\": 0.526358150429306}, \"0.49698234773962335\": {\"frequency\": 1, \"value\": 0.49698234773962335}, \"0.6861138582255069\": {\"frequency\": 1, \"value\": 0.6861138582255069}, \"1.7912130862382707\": {\"frequency\": 1, \"value\": 1.7912130862382707}, \"0.6844325330541379\": {\"frequency\": 1, \"value\": 0.6844325330541379}, \"0.5974066533347667\": {\"frequency\": 1, \"value\": 0.5974066533347667}, \"0.9388921541844323\": {\"frequency\": 1, \"value\": 0.9388921541844323}, \"1.0519972425527726\": {\"frequency\": 1, \"value\": 1.0519972425527726}, \"0.28051926291802376\": {\"frequency\": 1, \"value\": 0.28051926291802376}, \"0.49678780263684397\": {\"frequency\": 1, \"value\": 0.49678780263684397}, \"1.0327301705651535\": {\"frequency\": 1, \"value\": 1.0327301705651535}, \"1.5713701991809215\": {\"frequency\": 1, \"value\": 1.5713701991809215}, \"0.2781886059203961\": {\"frequency\": 1, \"value\": 0.2781886059203961}, \"0.8490927286897145\": {\"frequency\": 1, \"value\": 0.8490927286897145}, \"0.9690921719052591\": {\"frequency\": 1, \"value\": 0.9690921719052591}, \"1.1213940128657867\": {\"frequency\": 1, \"value\": 1.1213940128657867}, \"0.21183527653108758\": {\"frequency\": 1, \"value\": 0.21183527653108758}, \"1.2783661842142968\": {\"frequency\": 1, \"value\": 1.2783661842142968}, \"1.3560906527341987\": {\"frequency\": 1, \"value\": 1.3560906527341987}, \"0.3290606387769996\": {\"frequency\": 1, \"value\": 0.3290606387769996}, \"0.8856421075794227\": {\"frequency\": 1, \"value\": 0.8856421075794227}, \"1.3251148414508156\": {\"frequency\": 1, \"value\": 1.3251148414508156}, \"0.8173759873552914\": {\"frequency\": 1, \"value\": 0.8173759873552914}, \"0.7460942850197445\": {\"frequency\": 1, \"value\": 0.7460942850197445}, \"0.8596461418860818\": {\"frequency\": 1, \"value\": 0.8596461418860818}, \"1.03617871012422\": {\"frequency\": 1, \"value\": 1.03617871012422}, \"0.3566797086602995\": {\"frequency\": 1, \"value\": 0.3566797086602995}, \"0.8792255555971961\": {\"frequency\": 1, \"value\": 0.8792255555971961}, \"0.6143012694122962\": {\"frequency\": 1, \"value\": 0.6143012694122962}, \"0.7313008964715082\": {\"frequency\": 1, \"value\": 0.7313008964715082}, \"0.25598028611130186\": {\"frequency\": 1, \"value\": 0.25598028611130186}, \"1.7538248439475839\": {\"frequency\": 1, \"value\": 1.7538248439475839}, \"0.729122709914892\": {\"frequency\": 1, \"value\": 0.729122709914892}, \"0.7579046015346589\": {\"frequency\": 1, \"value\": 0.7579046015346589}, \"0.6256147157640943\": {\"frequency\": 1, \"value\": 0.6256147157640943}, \"0.2676303765010397\": {\"frequency\": 1, \"value\": 0.2676303765010397}, \"0.12543578884507475\": {\"frequency\": 1, \"value\": 0.12543578884507475}, \"4.018364581017645\": {\"frequency\": 1, \"value\": 4.018364581017645}, \"0.13176288204404907\": {\"frequency\": 1, \"value\": 0.13176288204404907}, \"0.9548030705507822\": {\"frequency\": 1, \"value\": 0.9548030705507822}, \"1.081782503747501\": {\"frequency\": 1, \"value\": 1.081782503747501}, \"1.4952880643950976\": {\"frequency\": 1, \"value\": 1.4952880643950976}, \"2.2320588812464393\": {\"frequency\": 1, \"value\": 2.2320588812464393}, \"0.8796452000070806\": {\"frequency\": 1, \"value\": 0.8796452000070806}, \"0.09182996732374082\": {\"frequency\": 1, \"value\": 0.09182996732374082}, \"1.1601588270290828\": {\"frequency\": 1, \"value\": 1.1601588270290828}, \"1.1416108228751873\": {\"frequency\": 1, \"value\": 1.1416108228751873}, \"1.1245684964190397\": {\"frequency\": 1, \"value\": 1.1245684964190397}, \"0.22106870577383966\": {\"frequency\": 1, \"value\": 0.22106870577383966}, \"1.3765189453838407\": {\"frequency\": 1, \"value\": 1.3765189453838407}, \"1.0222189250115439\": {\"frequency\": 1, \"value\": 1.0222189250115439}, \"0.9234481980874438\": {\"frequency\": 1, \"value\": 0.9234481980874438}, \"1.2095329633217045\": {\"frequency\": 1, \"value\": 1.2095329633217045}, \"0.8237747542169\": {\"frequency\": 1, \"value\": 0.8237747542169}, \"0.652217026041684\": {\"frequency\": 1, \"value\": 0.652217026041684}, \"0.8107620462965972\": {\"frequency\": 1, \"value\": 0.8107620462965972}, \"0.5974488464266025\": {\"frequency\": 1, \"value\": 0.5974488464266025}, \"0.3947768833030466\": {\"frequency\": 1, \"value\": 0.3947768833030466}, \"1.0705855045737267\": {\"frequency\": 1, \"value\": 1.0705855045737267}, \"1.2482931792712617\": {\"frequency\": 1, \"value\": 1.2482931792712617}, \"0.9184585924738151\": {\"frequency\": 1, \"value\": 0.9184585924738151}, \"0.9885831896775268\": {\"frequency\": 1, \"value\": 0.9885831896775268}, \"1.2077877814896825\": {\"frequency\": 1, \"value\": 1.2077877814896825}, \"0.11226396457628503\": {\"frequency\": 1, \"value\": 0.11226396457628503}, \"1.1418588534050886\": {\"frequency\": 1, \"value\": 1.1418588534050886}, \"2.316276150050427\": {\"frequency\": 1, \"value\": 2.316276150050427}, \"0.17587164665917526\": {\"frequency\": 1, \"value\": 0.17587164665917526}, \"1.1324685131971517\": {\"frequency\": 1, \"value\": 1.1324685131971517}, \"1.5406306324291097\": {\"frequency\": 1, \"value\": 1.5406306324291097}, \"0.17879716300373305\": {\"frequency\": 1, \"value\": 0.17879716300373305}, \"0.8024464121957866\": {\"frequency\": 1, \"value\": 0.8024464121957866}, \"2.4263254481407355\": {\"frequency\": 1, \"value\": 2.4263254481407355}, \"0.020687033619550377\": {\"frequency\": 1, \"value\": 0.020687033619550377}, \"0.9161230988794787\": {\"frequency\": 1, \"value\": 0.9161230988794787}, \"1.4499829631663852\": {\"frequency\": 1, \"value\": 1.4499829631663852}, \"0.4770124763934711\": {\"frequency\": 1, \"value\": 0.4770124763934711}, \"0.7828886376115406\": {\"frequency\": 1, \"value\": 0.7828886376115406}, \"1.2620986402075283\": {\"frequency\": 1, \"value\": 1.2620986402075283}, \"0.49150654020499424\": {\"frequency\": 1, \"value\": 0.49150654020499424}, \"0.2884548545835237\": {\"frequency\": 1, \"value\": 0.2884548545835237}, \"1.882246829484432\": {\"frequency\": 1, \"value\": 1.882246829484432}, \"0.6938130163612959\": {\"frequency\": 1, \"value\": 0.6938130163612959}, \"0.7067324440469238\": {\"frequency\": 1, \"value\": 0.7067324440469238}, \"0.5260349403036901\": {\"frequency\": 1, \"value\": 0.5260349403036901}, \"0.6113199539528892\": {\"frequency\": 1, \"value\": 0.6113199539528892}, \"0.6342264965747755\": {\"frequency\": 1, \"value\": 0.6342264965747755}, \"0.6808401923006131\": {\"frequency\": 1, \"value\": 0.6808401923006131}, \"0.9684292662433949\": {\"frequency\": 1, \"value\": 0.9684292662433949}, \"1.282184959012198\": {\"frequency\": 1, \"value\": 1.282184959012198}, \"0.24220411493858673\": {\"frequency\": 1, \"value\": 0.24220411493858673}, \"1.0655392447066918\": {\"frequency\": 1, \"value\": 1.0655392447066918}, \"0.47643360656770195\": {\"frequency\": 1, \"value\": 0.47643360656770195}, \"0.4493826360565323\": {\"frequency\": 1, \"value\": 0.4493826360565323}, \"0.8901056712615684\": {\"frequency\": 1, \"value\": 0.8901056712615684}, \"0.40847382371677154\": {\"frequency\": 1, \"value\": 0.40847382371677154}, \"1.4188074060065414\": {\"frequency\": 1, \"value\": 1.4188074060065414}, \"0.8736192711140418\": {\"frequency\": 1, \"value\": 0.8736192711140418}, \"1.0625137369481252\": {\"frequency\": 1, \"value\": 1.0625137369481252}, \"0.33468041565534046\": {\"frequency\": 1, \"value\": 0.33468041565534046}, \"0.8985831292465556\": {\"frequency\": 1, \"value\": 0.8985831292465556}, \"0.7322978506120834\": {\"frequency\": 1, \"value\": 0.7322978506120834}, \"0.23622553547772718\": {\"frequency\": 1, \"value\": 0.23622553547772718}, \"1.68242508883323\": {\"frequency\": 1, \"value\": 1.68242508883323}, \"2.029983972181685\": {\"frequency\": 1, \"value\": 2.029983972181685}, \"0.1630228842345701\": {\"frequency\": 1, \"value\": 0.1630228842345701}, \"0.757116997272758\": {\"frequency\": 1, \"value\": 0.757116997272758}, \"0.3412481383016398\": {\"frequency\": 1, \"value\": 0.3412481383016398}, \"0.4159501631368776\": {\"frequency\": 1, \"value\": 0.4159501631368776}, \"2.058225514042992\": {\"frequency\": 1, \"value\": 2.058225514042992}, \"1.7717179724373324\": {\"frequency\": 1, \"value\": 1.7717179724373324}, \"1.106828640179203\": {\"frequency\": 1, \"value\": 1.106828640179203}, \"0.8873018984906117\": {\"frequency\": 1, \"value\": 0.8873018984906117}, \"1.0193357023697802\": {\"frequency\": 1, \"value\": 1.0193357023697802}, \"0.5788030420840803\": {\"frequency\": 1, \"value\": 0.5788030420840803}, \"0.8363230037039127\": {\"frequency\": 1, \"value\": 0.8363230037039127}, \"0.6864433098352841\": {\"frequency\": 1, \"value\": 0.6864433098352841}, \"1.402470076247258\": {\"frequency\": 1, \"value\": 1.402470076247258}, \"1.0072369252395528\": {\"frequency\": 1, \"value\": 1.0072369252395528}, \"0.5258335912538682\": {\"frequency\": 1, \"value\": 0.5258335912538682}, \"0.8151171070001542\": {\"frequency\": 1, \"value\": 0.8151171070001542}, \"1.1498980267721777\": {\"frequency\": 1, \"value\": 1.1498980267721777}, \"0.6408560159280172\": {\"frequency\": 1, \"value\": 0.6408560159280172}, \"0.03514419424109194\": {\"frequency\": 1, \"value\": 0.03514419424109194}, \"0.7719097034217074\": {\"frequency\": 1, \"value\": 0.7719097034217074}, \"0.14103263374674135\": {\"frequency\": 1, \"value\": 0.14103263374674135}, \"1.4000878196502282\": {\"frequency\": 1, \"value\": 1.4000878196502282}, \"1.3885712510959096\": {\"frequency\": 1, \"value\": 1.3885712510959096}, \"2.9924888395914855\": {\"frequency\": 1, \"value\": 2.9924888395914855}, \"1.7906737225170817\": {\"frequency\": 1, \"value\": 1.7906737225170817}, \"0.8687663078774462\": {\"frequency\": 1, \"value\": 0.8687663078774462}, \"1.0066370976056245\": {\"frequency\": 1, \"value\": 1.0066370976056245}, \"0.9450156705505148\": {\"frequency\": 1, \"value\": 0.9450156705505148}, \"1.1238031466978573\": {\"frequency\": 1, \"value\": 1.1238031466978573}, \"0.8497939156169779\": {\"frequency\": 1, \"value\": 0.8497939156169779}, \"0.17964214327410666\": {\"frequency\": 1, \"value\": 0.17964214327410666}, \"0.6354472760115288\": {\"frequency\": 1, \"value\": 0.6354472760115288}, \"0.3731254406514257\": {\"frequency\": 1, \"value\": 0.3731254406514257}, \"0.9448092128919032\": {\"frequency\": 1, \"value\": 0.9448092128919032}, \"0.7909674809024186\": {\"frequency\": 1, \"value\": 0.7909674809024186}, \"1.040238891834087\": {\"frequency\": 1, \"value\": 1.040238891834087}, \"0.6224816028244711\": {\"frequency\": 1, \"value\": 0.6224816028244711}, \"0.7980184924323075\": {\"frequency\": 1, \"value\": 0.7980184924323075}, \"1.7123451633561115\": {\"frequency\": 1, \"value\": 1.7123451633561115}, \"1.1601081323234892\": {\"frequency\": 1, \"value\": 1.1601081323234892}, \"1.4371867651951735\": {\"frequency\": 1, \"value\": 1.4371867651951735}, \"0.5528259523880131\": {\"frequency\": 1, \"value\": 0.5528259523880131}, \"1.4028544966496366\": {\"frequency\": 1, \"value\": 1.4028544966496366}, \"1.0610807037321661\": {\"frequency\": 1, \"value\": 1.0610807037321661}, \"0.7893667558745813\": {\"frequency\": 1, \"value\": 0.7893667558745813}, \"1.235266758125148\": {\"frequency\": 1, \"value\": 1.235266758125148}, \"0.4052168320942845\": {\"frequency\": 1, \"value\": 0.4052168320942845}, \"0.0830061186475568\": {\"frequency\": 1, \"value\": 0.0830061186475568}, \"1.0759769271751338\": {\"frequency\": 1, \"value\": 1.0759769271751338}, \"0.4172873431693729\": {\"frequency\": 1, \"value\": 0.4172873431693729}, \"1.8047681770090338\": {\"frequency\": 1, \"value\": 1.8047681770090338}, \"1.142659758844558\": {\"frequency\": 1, \"value\": 1.142659758844558}, \"0.7193136699122368\": {\"frequency\": 1, \"value\": 0.7193136699122368}, \"0.9871216306917149\": {\"frequency\": 1, \"value\": 0.9871216306917149}, \"0.6011231442417302\": {\"frequency\": 1, \"value\": 0.6011231442417302}, \"0.5832591555489347\": {\"frequency\": 1, \"value\": 0.5832591555489347}, \"1.8140116747397752\": {\"frequency\": 1, \"value\": 1.8140116747397752}, \"0.6195233428137217\": {\"frequency\": 1, \"value\": 0.6195233428137217}, \"0.6390550710663074\": {\"frequency\": 1, \"value\": 0.6390550710663074}, \"0.7346766575068056\": {\"frequency\": 1, \"value\": 0.7346766575068056}, \"1.2421323103400848\": {\"frequency\": 1, \"value\": 1.2421323103400848}, \"3.1561300996063815\": {\"frequency\": 1, \"value\": 3.1561300996063815}, \"1.7909094218173727\": {\"frequency\": 1, \"value\": 1.7909094218173727}, \"1.41969932513163\": {\"frequency\": 1, \"value\": 1.41969932513163}, \"0.3230058948722392\": {\"frequency\": 1, \"value\": 0.3230058948722392}, \"0.9041622391516362\": {\"frequency\": 1, \"value\": 0.9041622391516362}, \"1.0037580983673702\": {\"frequency\": 1, \"value\": 1.0037580983673702}, \"1.5906545199914823\": {\"frequency\": 1, \"value\": 1.5906545199914823}, \"0.9105652130397233\": {\"frequency\": 1, \"value\": 0.9105652130397233}, \"0.5844236188046926\": {\"frequency\": 1, \"value\": 0.5844236188046926}, \"1.2166277531859913\": {\"frequency\": 1, \"value\": 1.2166277531859913}, \"0.9753261411840565\": {\"frequency\": 1, \"value\": 0.9753261411840565}, \"0.6967905373438317\": {\"frequency\": 1, \"value\": 0.6967905373438317}, \"1.1647531314213635\": {\"frequency\": 1, \"value\": 1.1647531314213635}, \"0.5932337191562165\": {\"frequency\": 1, \"value\": 0.5932337191562165}, \"1.2578365181768068\": {\"frequency\": 1, \"value\": 1.2578365181768068}, \"0.8763595972603406\": {\"frequency\": 1, \"value\": 0.8763595972603406}, \"0.7133096168732262\": {\"frequency\": 1, \"value\": 0.7133096168732262}, \"1.0397664934254613\": {\"frequency\": 1, \"value\": 1.0397664934254613}, \"0.4615127919530614\": {\"frequency\": 1, \"value\": 0.4615127919530614}, \"1.0034687022967106\": {\"frequency\": 1, \"value\": 1.0034687022967106}, \"0.5221918578434863\": {\"frequency\": 1, \"value\": 0.5221918578434863}, \"0.4283885240568721\": {\"frequency\": 1, \"value\": 0.4283885240568721}, \"1.0436722763992892\": {\"frequency\": 1, \"value\": 1.0436722763992892}, \"0.68727812836526\": {\"frequency\": 1, \"value\": 0.68727812836526}, \"1.0900370667859218\": {\"frequency\": 1, \"value\": 1.0900370667859218}, \"0.06227337451187509\": {\"frequency\": 1, \"value\": 0.06227337451187509}, \"1.2826459052420187\": {\"frequency\": 1, \"value\": 1.2826459052420187}, \"0.7653771464680056\": {\"frequency\": 1, \"value\": 0.7653771464680056}, \"1.011777608047832\": {\"frequency\": 1, \"value\": 1.011777608047832}, \"0.9655388455164098\": {\"frequency\": 1, \"value\": 0.9655388455164098}, \"0.45219784312514083\": {\"frequency\": 1, \"value\": 0.45219784312514083}, \"0.7865933099571989\": {\"frequency\": 1, \"value\": 0.7865933099571989}, \"0.6360408000368846\": {\"frequency\": 1, \"value\": 0.6360408000368846}, \"0.8796538069246624\": {\"frequency\": 1, \"value\": 0.8796538069246624}, \"0.8180016244193475\": {\"frequency\": 1, \"value\": 0.8180016244193475}, \"1.343970057367271\": {\"frequency\": 1, \"value\": 1.343970057367271}, \"1.5945208053450253\": {\"frequency\": 1, \"value\": 1.5945208053450253}, \"1.5296494993835106\": {\"frequency\": 1, \"value\": 1.5296494993835106}, \"1.2528617442774865\": {\"frequency\": 1, \"value\": 1.2528617442774865}, \"0.6915561021214177\": {\"frequency\": 1, \"value\": 0.6915561021214177}, \"0.9325918033507572\": {\"frequency\": 1, \"value\": 0.9325918033507572}, \"1.1858966501949255\": {\"frequency\": 1, \"value\": 1.1858966501949255}, \"1.0870321012626505\": {\"frequency\": 1, \"value\": 1.0870321012626505}, \"1.765775945037453\": {\"frequency\": 1, \"value\": 1.765775945037453}, \"1.2813823535771012\": {\"frequency\": 1, \"value\": 1.2813823535771012}, \"0.9930081198769127\": {\"frequency\": 1, \"value\": 0.9930081198769127}, \"1.1750443377176227\": {\"frequency\": 1, \"value\": 1.1750443377176227}, \"0.8840216603119897\": {\"frequency\": 1, \"value\": 0.8840216603119897}, \"0.8801919440308968\": {\"frequency\": 1, \"value\": 0.8801919440308968}, \"1.4093478164391493\": {\"frequency\": 1, \"value\": 1.4093478164391493}, \"0.9768094128620883\": {\"frequency\": 1, \"value\": 0.9768094128620883}, \"0.238262631285302\": {\"frequency\": 1, \"value\": 0.238262631285302}, \"0.9105128406128529\": {\"frequency\": 1, \"value\": 0.9105128406128529}, \"1.5148099198707297\": {\"frequency\": 1, \"value\": 1.5148099198707297}, \"1.5942247673945795\": {\"frequency\": 1, \"value\": 1.5942247673945795}, \"1.7292756770803845\": {\"frequency\": 1, \"value\": 1.7292756770803845}, \"1.287967047590371\": {\"frequency\": 1, \"value\": 1.287967047590371}, \"1.3899649080256609\": {\"frequency\": 1, \"value\": 1.3899649080256609}, \"0.8525511479857327\": {\"frequency\": 1, \"value\": 0.8525511479857327}, \"0.8289250607756968\": {\"frequency\": 1, \"value\": 0.8289250607756968}, \"0.8777615307957191\": {\"frequency\": 1, \"value\": 0.8777615307957191}, \"0.4345378530119297\": {\"frequency\": 1, \"value\": 0.4345378530119297}, \"1.1220310767815591\": {\"frequency\": 1, \"value\": 1.1220310767815591}, \"0.5607928563393418\": {\"frequency\": 1, \"value\": 0.5607928563393418}, \"0.8837191396159959\": {\"frequency\": 1, \"value\": 0.8837191396159959}, \"0.08150457518130283\": {\"frequency\": 1, \"value\": 0.08150457518130283}, \"2.6451432515501763\": {\"frequency\": 1, \"value\": 2.6451432515501763}, \"1.3878334707210107\": {\"frequency\": 1, \"value\": 1.3878334707210107}, \"1.344347832365664\": {\"frequency\": 1, \"value\": 1.344347832365664}, \"2.28938365628964\": {\"frequency\": 1, \"value\": 2.28938365628964}, \"0.5610491668571097\": {\"frequency\": 1, \"value\": 0.5610491668571097}, \"0.4981841767550832\": {\"frequency\": 1, \"value\": 0.4981841767550832}, \"0.8086656981254798\": {\"frequency\": 1, \"value\": 0.8086656981254798}, \"2.5229891093637624\": {\"frequency\": 1, \"value\": 2.5229891093637624}, \"0.6247262568643746\": {\"frequency\": 1, \"value\": 0.6247262568643746}, \"0.9550475707011516\": {\"frequency\": 1, \"value\": 0.9550475707011516}, \"1.1233758213858933\": {\"frequency\": 1, \"value\": 1.1233758213858933}, \"0.22445665942250487\": {\"frequency\": 1, \"value\": 0.22445665942250487}, \"0.4115438296542111\": {\"frequency\": 1, \"value\": 0.4115438296542111}, \"0.995274273842203\": {\"frequency\": 1, \"value\": 0.995274273842203}, \"2.0036457923827737\": {\"frequency\": 1, \"value\": 2.0036457923827737}, \"0.8463544595228849\": {\"frequency\": 1, \"value\": 0.8463544595228849}, \"1.094834957989407\": {\"frequency\": 1, \"value\": 1.094834957989407}, \"0.2125210729399698\": {\"frequency\": 1, \"value\": 0.2125210729399698}, \"0.7512552620349052\": {\"frequency\": 1, \"value\": 0.7512552620349052}, \"0.9120454673619087\": {\"frequency\": 1, \"value\": 0.9120454673619087}, \"0.6119050893839124\": {\"frequency\": 1, \"value\": 0.6119050893839124}, \"1.5760974874631666\": {\"frequency\": 1, \"value\": 1.5760974874631666}, \"0.38471007329783247\": {\"frequency\": 1, \"value\": 0.38471007329783247}, \"0.9840941440891664\": {\"frequency\": 1, \"value\": 0.9840941440891664}, \"1.01310253243521\": {\"frequency\": 1, \"value\": 1.01310253243521}, \"0.7808170361599895\": {\"frequency\": 1, \"value\": 0.7808170361599895}, \"1.0852012743188162\": {\"frequency\": 1, \"value\": 1.0852012743188162}, \"1.1922826885141498\": {\"frequency\": 1, \"value\": 1.1922826885141498}, \"1.303345694754737\": {\"frequency\": 1, \"value\": 1.303345694754737}, \"0.6490495301752671\": {\"frequency\": 1, \"value\": 0.6490495301752671}, \"1.1471319398354347\": {\"frequency\": 1, \"value\": 1.1471319398354347}, \"0.726919423947109\": {\"frequency\": 1, \"value\": 0.726919423947109}, \"1.137174165935938\": {\"frequency\": 1, \"value\": 1.137174165935938}, \"0.7641773429259846\": {\"frequency\": 1, \"value\": 0.7641773429259846}, \"0.7467031690856429\": {\"frequency\": 1, \"value\": 0.7467031690856429}, \"0.5068967558574818\": {\"frequency\": 1, \"value\": 0.5068967558574818}, \"1.62286572248592\": {\"frequency\": 1, \"value\": 1.62286572248592}, \"0.252508176136073\": {\"frequency\": 1, \"value\": 0.252508176136073}, \"0.9109401984528969\": {\"frequency\": 1, \"value\": 0.9109401984528969}, \"1.3429074947390516\": {\"frequency\": 1, \"value\": 1.3429074947390516}, \"1.496218753220305\": {\"frequency\": 1, \"value\": 1.496218753220305}, \"0.14129734968236396\": {\"frequency\": 1, \"value\": 0.14129734968236396}, \"0.43675198071890237\": {\"frequency\": 1, \"value\": 0.43675198071890237}, \"0.8904635179285623\": {\"frequency\": 1, \"value\": 0.8904635179285623}, \"1.15113743891296\": {\"frequency\": 1, \"value\": 1.15113743891296}, \"1.1570063531962247\": {\"frequency\": 1, \"value\": 1.1570063531962247}, \"0.34808173146996907\": {\"frequency\": 1, \"value\": 0.34808173146996907}, \"0.07822585704511642\": {\"frequency\": 1, \"value\": 0.07822585704511642}, \"0.3095073954675107\": {\"frequency\": 1, \"value\": 0.3095073954675107}, \"0.03791892851280698\": {\"frequency\": 1, \"value\": 0.03791892851280698}, \"1.1135440932206289\": {\"frequency\": 1, \"value\": 1.1135440932206289}, \"0.601578050399321\": {\"frequency\": 1, \"value\": 0.601578050399321}, \"0.8945329741826616\": {\"frequency\": 1, \"value\": 0.8945329741826616}, \"1.1548176944000952\": {\"frequency\": 1, \"value\": 1.1548176944000952}, \"0.9141252617207379\": {\"frequency\": 1, \"value\": 0.9141252617207379}, \"0.7244275195484192\": {\"frequency\": 1, \"value\": 0.7244275195484192}, \"0.3784866638279252\": {\"frequency\": 1, \"value\": 0.3784866638279252}, \"0.4688635180167946\": {\"frequency\": 1, \"value\": 0.4688635180167946}, \"1.1369520487240654\": {\"frequency\": 1, \"value\": 1.1369520487240654}, \"0.2026562848235014\": {\"frequency\": 1, \"value\": 0.2026562848235014}, \"0.8014536559642989\": {\"frequency\": 1, \"value\": 0.8014536559642989}, \"0.9723869032347532\": {\"frequency\": 1, \"value\": 0.9723869032347532}, \"0.9541295242543576\": {\"frequency\": 1, \"value\": 0.9541295242543576}, \"1.3939401066490014\": {\"frequency\": 1, \"value\": 1.3939401066490014}, \"0.7818136941045046\": {\"frequency\": 1, \"value\": 0.7818136941045046}, \"1.0013872657473992\": {\"frequency\": 1, \"value\": 1.0013872657473992}, \"1.612658652051906\": {\"frequency\": 1, \"value\": 1.612658652051906}, \"0.6953028020166948\": {\"frequency\": 1, \"value\": 0.6953028020166948}, \"0.7942882362278205\": {\"frequency\": 1, \"value\": 0.7942882362278205}, \"0.6355710817277689\": {\"frequency\": 1, \"value\": 0.6355710817277689}, \"0.8064845423824395\": {\"frequency\": 1, \"value\": 0.8064845423824395}, \"1.5324508399085777\": {\"frequency\": 1, \"value\": 1.5324508399085777}, \"1.324273275466323\": {\"frequency\": 1, \"value\": 1.324273275466323}, \"1.035842117806459\": {\"frequency\": 1, \"value\": 1.035842117806459}, \"1.1341626054632263\": {\"frequency\": 1, \"value\": 1.1341626054632263}, \"0.1439509617361101\": {\"frequency\": 1, \"value\": 0.1439509617361101}, \"0.5757358986705668\": {\"frequency\": 1, \"value\": 0.5757358986705668}, \"1.5588738404607299\": {\"frequency\": 1, \"value\": 1.5588738404607299}, \"1.1536624010315346\": {\"frequency\": 1, \"value\": 1.1536624010315346}, \"0.2983700531928101\": {\"frequency\": 1, \"value\": 0.2983700531928101}, \"0.6098629074449449\": {\"frequency\": 1, \"value\": 0.6098629074449449}, \"2.145601693163921\": {\"frequency\": 1, \"value\": 2.145601693163921}, \"0.8412753211838617\": {\"frequency\": 1, \"value\": 0.8412753211838617}, \"1.6091844810724094\": {\"frequency\": 1, \"value\": 1.6091844810724094}, \"0.4407539912481737\": {\"frequency\": 1, \"value\": 0.4407539912481737}, \"0.27356164598866295\": {\"frequency\": 1, \"value\": 0.27356164598866295}, \"0.26861959311906203\": {\"frequency\": 1, \"value\": 0.26861959311906203}, \"0.4263473124354309\": {\"frequency\": 1, \"value\": 0.4263473124354309}, \"0.7244197080345569\": {\"frequency\": 1, \"value\": 0.7244197080345569}, \"0.7927228218154063\": {\"frequency\": 1, \"value\": 0.7927228218154063}, \"0.9996807777417923\": {\"frequency\": 1, \"value\": 0.9996807777417923}, \"1.0977839247330017\": {\"frequency\": 1, \"value\": 1.0977839247330017}, \"2.1010699530794796\": {\"frequency\": 1, \"value\": 2.1010699530794796}, \"0.13561490428687462\": {\"frequency\": 1, \"value\": 0.13561490428687462}, \"1.0750167599503049\": {\"frequency\": 1, \"value\": 1.0750167599503049}, \"0.8310262093887317\": {\"frequency\": 1, \"value\": 0.8310262093887317}, \"0.4334903454806651\": {\"frequency\": 1, \"value\": 0.4334903454806651}, \"0.08488966778503126\": {\"frequency\": 1, \"value\": 0.08488966778503126}, \"1.6008303592795965\": {\"frequency\": 1, \"value\": 1.6008303592795965}, \"1.170497222481917\": {\"frequency\": 1, \"value\": 1.170497222481917}, \"1.267119696090854\": {\"frequency\": 1, \"value\": 1.267119696090854}, \"0.5665256063624189\": {\"frequency\": 1, \"value\": 0.5665256063624189}, \"1.37159090959369\": {\"frequency\": 1, \"value\": 1.37159090959369}, \"0.4794693734558142\": {\"frequency\": 1, \"value\": 0.4794693734558142}, \"1.9007819318469048\": {\"frequency\": 1, \"value\": 1.9007819318469048}, \"0.13591054870737818\": {\"frequency\": 1, \"value\": 0.13591054870737818}, \"1.1207697110711499\": {\"frequency\": 1, \"value\": 1.1207697110711499}, \"0.8925682655825471\": {\"frequency\": 1, \"value\": 0.8925682655825471}, \"1.9364760631414155\": {\"frequency\": 1, \"value\": 1.9364760631414155}, \"0.6127635617272564\": {\"frequency\": 1, \"value\": 0.6127635617272564}, \"1.9894803357927962\": {\"frequency\": 1, \"value\": 1.9894803357927962}, \"1.1988581039976005\": {\"frequency\": 1, \"value\": 1.1988581039976005}, \"0.7669030299733005\": {\"frequency\": 1, \"value\": 0.7669030299733005}, \"2.135018040528955\": {\"frequency\": 1, \"value\": 2.135018040528955}, \"0.9262820923096773\": {\"frequency\": 1, \"value\": 0.9262820923096773}, \"0.690447732694707\": {\"frequency\": 1, \"value\": 0.690447732694707}, \"0.3109167445489215\": {\"frequency\": 1, \"value\": 0.3109167445489215}, \"1.5581935406421437\": {\"frequency\": 1, \"value\": 1.5581935406421437}, \"1.213684418892031\": {\"frequency\": 1, \"value\": 1.213684418892031}, \"1.1269420194142121\": {\"frequency\": 1, \"value\": 1.1269420194142121}, \"0.9314124075100456\": {\"frequency\": 1, \"value\": 0.9314124075100456}, \"0.41552592774224983\": {\"frequency\": 1, \"value\": 0.41552592774224983}, \"0.3680773659549006\": {\"frequency\": 1, \"value\": 0.3680773659549006}, \"1.0078233462823865\": {\"frequency\": 1, \"value\": 1.0078233462823865}, \"0.6905578973605201\": {\"frequency\": 1, \"value\": 0.6905578973605201}, \"0.2713995884243037\": {\"frequency\": 1, \"value\": 0.2713995884243037}, \"0.6096839335395955\": {\"frequency\": 1, \"value\": 0.6096839335395955}, \"1.5863454158998196\": {\"frequency\": 1, \"value\": 1.5863454158998196}, \"0.4857611382339247\": {\"frequency\": 1, \"value\": 0.4857611382339247}, \"0.44406625890373513\": {\"frequency\": 1, \"value\": 0.44406625890373513}, \"1.7875064747903107\": {\"frequency\": 1, \"value\": 1.7875064747903107}, \"1.0551427754360279\": {\"frequency\": 1, \"value\": 1.0551427754360279}, \"0.9421097793016036\": {\"frequency\": 1, \"value\": 0.9421097793016036}, \"0.29274568401882517\": {\"frequency\": 1, \"value\": 0.29274568401882517}, \"1.3652303059887214\": {\"frequency\": 1, \"value\": 1.3652303059887214}, \"0.4839745517049061\": {\"frequency\": 1, \"value\": 0.4839745517049061}, \"0.4224924804987877\": {\"frequency\": 1, \"value\": 0.4224924804987877}, \"1.17019978683004\": {\"frequency\": 1, \"value\": 1.17019978683004}, \"0.8312160615176034\": {\"frequency\": 1, \"value\": 0.8312160615176034}, \"1.2266949917959138\": {\"frequency\": 1, \"value\": 1.2266949917959138}, \"0.6370270595370221\": {\"frequency\": 1, \"value\": 0.6370270595370221}, \"0.7065300611232174\": {\"frequency\": 1, \"value\": 0.7065300611232174}, \"1.3703040487278886\": {\"frequency\": 1, \"value\": 1.3703040487278886}, \"0.3467045908849351\": {\"frequency\": 1, \"value\": 0.3467045908849351}, \"0.8922905698776481\": {\"frequency\": 1, \"value\": 0.8922905698776481}, \"0.7368922026912385\": {\"frequency\": 1, \"value\": 0.7368922026912385}, \"1.27788206916836\": {\"frequency\": 1, \"value\": 1.27788206916836}, \"1.1417489223272541\": {\"frequency\": 1, \"value\": 1.1417489223272541}, \"0.43791972926184775\": {\"frequency\": 1, \"value\": 0.43791972926184775}, \"0.6510198001388237\": {\"frequency\": 1, \"value\": 0.6510198001388237}, \"0.6747825075806861\": {\"frequency\": 1, \"value\": 0.6747825075806861}, \"2.492196559302627\": {\"frequency\": 1, \"value\": 2.492196559302627}, \"1.1216197205401373\": {\"frequency\": 1, \"value\": 1.1216197205401373}, \"2.2914162095060555\": {\"frequency\": 1, \"value\": 2.2914162095060555}, \"0.2857436000090058\": {\"frequency\": 1, \"value\": 0.2857436000090058}, \"0.462538845388762\": {\"frequency\": 1, \"value\": 0.462538845388762}, \"1.1313176539345466\": {\"frequency\": 1, \"value\": 1.1313176539345466}, \"1.9015553067479087\": {\"frequency\": 1, \"value\": 1.9015553067479087}, \"0.8624062767834423\": {\"frequency\": 1, \"value\": 0.8624062767834423}, \"1.0837808253557606\": {\"frequency\": 1, \"value\": 1.0837808253557606}, \"1.00897652141483\": {\"frequency\": 1, \"value\": 1.00897652141483}, \"0.4845173524239356\": {\"frequency\": 1, \"value\": 0.4845173524239356}, \"1.8304334359359942\": {\"frequency\": 1, \"value\": 1.8304334359359942}, \"0.9052461444498765\": {\"frequency\": 1, \"value\": 0.9052461444498765}, \"0.9951360571654579\": {\"frequency\": 1, \"value\": 0.9951360571654579}, \"1.0071168662229395\": {\"frequency\": 1, \"value\": 1.0071168662229395}, \"1.2917457344501844\": {\"frequency\": 1, \"value\": 1.2917457344501844}, \"0.9483700174771813\": {\"frequency\": 1, \"value\": 0.9483700174771813}, \"0.48413803150484896\": {\"frequency\": 1, \"value\": 0.48413803150484896}, \"0.6950171402403793\": {\"frequency\": 1, \"value\": 0.6950171402403793}, \"1.1016794096393854\": {\"frequency\": 1, \"value\": 1.1016794096393854}, \"1.2060705085422594\": {\"frequency\": 1, \"value\": 1.2060705085422594}, \"1.4249797504789095\": {\"frequency\": 1, \"value\": 1.4249797504789095}, \"1.0934806791623504\": {\"frequency\": 1, \"value\": 1.0934806791623504}, \"1.0800209969437768\": {\"frequency\": 1, \"value\": 1.0800209969437768}, \"1.2245808615166016\": {\"frequency\": 1, \"value\": 1.2245808615166016}, \"1.0628734703876206\": {\"frequency\": 1, \"value\": 1.0628734703876206}, \"0.1767388307674156\": {\"frequency\": 1, \"value\": 0.1767388307674156}, \"0.4115077557616065\": {\"frequency\": 1, \"value\": 0.4115077557616065}, \"1.4093838739329048\": {\"frequency\": 1, \"value\": 1.4093838739329048}, \"1.775724059172695\": {\"frequency\": 1, \"value\": 1.775724059172695}, \"0.7478590691976269\": {\"frequency\": 1, \"value\": 0.7478590691976269}, \"1.128319401758942\": {\"frequency\": 1, \"value\": 1.128319401758942}, \"1.774544377978886\": {\"frequency\": 1, \"value\": 1.774544377978886}, \"0.6275656931001556\": {\"frequency\": 1, \"value\": 0.6275656931001556}, \"0.9007836113211499\": {\"frequency\": 1, \"value\": 0.9007836113211499}, \"1.3648573446880832\": {\"frequency\": 1, \"value\": 1.3648573446880832}, \"0.8869057450441843\": {\"frequency\": 1, \"value\": 0.8869057450441843}, \"1.51036420901081\": {\"frequency\": 1, \"value\": 1.51036420901081}, \"1.5707866323181727\": {\"frequency\": 1, \"value\": 1.5707866323181727}, \"0.7708953754815813\": {\"frequency\": 1, \"value\": 0.7708953754815813}, \"1.2371050567159783\": {\"frequency\": 1, \"value\": 1.2371050567159783}, \"0.8040798610834423\": {\"frequency\": 1, \"value\": 0.8040798610834423}, \"0.7540725198670142\": {\"frequency\": 1, \"value\": 0.7540725198670142}, \"0.995881651054859\": {\"frequency\": 1, \"value\": 0.995881651054859}, \"0.5343807683986854\": {\"frequency\": 1, \"value\": 0.5343807683986854}, \"0.8355780607239321\": {\"frequency\": 1, \"value\": 0.8355780607239321}, \"1.0485136081415647\": {\"frequency\": 1, \"value\": 1.0485136081415647}, \"0.8403922126659428\": {\"frequency\": 1, \"value\": 0.8403922126659428}, \"0.24706038369167782\": {\"frequency\": 1, \"value\": 0.24706038369167782}, \"1.2261778953690339\": {\"frequency\": 1, \"value\": 1.2261778953690339}, \"1.0465252123034554\": {\"frequency\": 1, \"value\": 1.0465252123034554}, \"0.991276131761782\": {\"frequency\": 1, \"value\": 0.991276131761782}, \"0.0030708251946909293\": {\"frequency\": 1, \"value\": 0.0030708251946909293}, \"0.8908485056400597\": {\"frequency\": 1, \"value\": 0.8908485056400597}, \"1.7695519697556352\": {\"frequency\": 1, \"value\": 1.7695519697556352}, \"1.0167290997867613\": {\"frequency\": 1, \"value\": 1.0167290997867613}, \"1.485709890141076\": {\"frequency\": 1, \"value\": 1.485709890141076}, \"0.39721887974741454\": {\"frequency\": 1, \"value\": 0.39721887974741454}, \"1.0326421158574068\": {\"frequency\": 1, \"value\": 1.0326421158574068}, \"0.2645129540457264\": {\"frequency\": 1, \"value\": 0.2645129540457264}, \"0.43776947083634205\": {\"frequency\": 1, \"value\": 0.43776947083634205}, \"0.3189765809753595\": {\"frequency\": 1, \"value\": 0.3189765809753595}, \"0.8052512420818815\": {\"frequency\": 1, \"value\": 0.8052512420818815}, \"0.770977379694405\": {\"frequency\": 1, \"value\": 0.770977379694405}, \"1.752470258669056\": {\"frequency\": 1, \"value\": 1.752470258669056}, \"0.7279080187209066\": {\"frequency\": 1, \"value\": 0.7279080187209066}, \"1.2877566921664245\": {\"frequency\": 1, \"value\": 1.2877566921664245}, \"0.03826906606859187\": {\"frequency\": 1, \"value\": 0.03826906606859187}, \"0.037718199959484\": {\"frequency\": 1, \"value\": 0.037718199959484}, \"0.8406919374392552\": {\"frequency\": 1, \"value\": 0.8406919374392552}, \"0.3278192946076607\": {\"frequency\": 1, \"value\": 0.3278192946076607}, \"0.8865827489484865\": {\"frequency\": 1, \"value\": 0.8865827489484865}, \"1.2683758408463262\": {\"frequency\": 1, \"value\": 1.2683758408463262}, \"0.9362629888604486\": {\"frequency\": 1, \"value\": 0.9362629888604486}, \"0.7161048892430166\": {\"frequency\": 1, \"value\": 0.7161048892430166}, \"1.0225451483340235\": {\"frequency\": 1, \"value\": 1.0225451483340235}, \"0.653022434649761\": {\"frequency\": 1, \"value\": 0.653022434649761}, \"0.33904285571217363\": {\"frequency\": 1, \"value\": 0.33904285571217363}, \"0.5941254191349724\": {\"frequency\": 1, \"value\": 0.5941254191349724}, \"2.161007288110659\": {\"frequency\": 1, \"value\": 2.161007288110659}, \"1.1176050312918373\": {\"frequency\": 1, \"value\": 1.1176050312918373}, \"0.7982979471197127\": {\"frequency\": 1, \"value\": 0.7982979471197127}, \"0.9281889538239224\": {\"frequency\": 1, \"value\": 0.9281889538239224}, \"1.1738751635409217\": {\"frequency\": 1, \"value\": 1.1738751635409217}, \"1.835132432443047\": {\"frequency\": 1, \"value\": 1.835132432443047}, \"0.7938532051232641\": {\"frequency\": 1, \"value\": 0.7938532051232641}, \"1.783411824663955\": {\"frequency\": 1, \"value\": 1.783411824663955}, \"0.8566369255025161\": {\"frequency\": 1, \"value\": 0.8566369255025161}, \"0.14846287275972658\": {\"frequency\": 1, \"value\": 0.14846287275972658}, \"0.17266521979646532\": {\"frequency\": 1, \"value\": 0.17266521979646532}, \"1.1448801469542889\": {\"frequency\": 1, \"value\": 1.1448801469542889}, \"0.9029039642601862\": {\"frequency\": 1, \"value\": 0.9029039642601862}, \"1.2886742163378972\": {\"frequency\": 1, \"value\": 1.2886742163378972}, \"0.8994476124639125\": {\"frequency\": 1, \"value\": 0.8994476124639125}, \"0.6268102458602379\": {\"frequency\": 1, \"value\": 0.6268102458602379}, \"1.2102612172174299\": {\"frequency\": 1, \"value\": 1.2102612172174299}, \"1.467633597559782\": {\"frequency\": 1, \"value\": 1.467633597559782}, \"0.6098915920543412\": {\"frequency\": 1, \"value\": 0.6098915920543412}, \"1.4376698935200949\": {\"frequency\": 1, \"value\": 1.4376698935200949}, \"0.8263563521221955\": {\"frequency\": 1, \"value\": 0.8263563521221955}, \"1.1289109026318336\": {\"frequency\": 1, \"value\": 1.1289109026318336}, \"1.0000428016583136\": {\"frequency\": 1, \"value\": 1.0000428016583136}, \"1.088528521321109\": {\"frequency\": 1, \"value\": 1.088528521321109}, \"0.5358843246003633\": {\"frequency\": 1, \"value\": 0.5358843246003633}, \"1.2527903453098292\": {\"frequency\": 1, \"value\": 1.2527903453098292}, \"0.8690485473358662\": {\"frequency\": 1, \"value\": 0.8690485473358662}, \"0.7896744329864779\": {\"frequency\": 1, \"value\": 0.7896744329864779}, \"0.9302646664743938\": {\"frequency\": 1, \"value\": 0.9302646664743938}, \"1.1411017507120005\": {\"frequency\": 1, \"value\": 1.1411017507120005}, \"0.7905087054201365\": {\"frequency\": 1, \"value\": 0.7905087054201365}, \"0.7705740515840334\": {\"frequency\": 1, \"value\": 0.7705740515840334}, \"0.7532219486098359\": {\"frequency\": 1, \"value\": 0.7532219486098359}, \"1.1442259942639184\": {\"frequency\": 1, \"value\": 1.1442259942639184}, \"0.7989184467463913\": {\"frequency\": 1, \"value\": 0.7989184467463913}, \"1.0692185617041652\": {\"frequency\": 1, \"value\": 1.0692185617041652}, \"0.551289999090049\": {\"frequency\": 1, \"value\": 0.551289999090049}, \"0.07790928654581819\": {\"frequency\": 1, \"value\": 0.07790928654581819}, \"1.1696166323949329\": {\"frequency\": 1, \"value\": 1.1696166323949329}, \"2.527233938232106\": {\"frequency\": 1, \"value\": 2.527233938232106}, \"0.9744915677414925\": {\"frequency\": 1, \"value\": 0.9744915677414925}, \"1.2535504776426345\": {\"frequency\": 1, \"value\": 1.2535504776426345}, \"0.8308088523935934\": {\"frequency\": 1, \"value\": 0.8308088523935934}, \"0.18106233473311262\": {\"frequency\": 1, \"value\": 0.18106233473311262}, \"0.88046023939641\": {\"frequency\": 1, \"value\": 0.88046023939641}, \"0.9155773928654272\": {\"frequency\": 1, \"value\": 0.9155773928654272}, \"1.6324348232408643\": {\"frequency\": 1, \"value\": 1.6324348232408643}, \"0.8087687416501761\": {\"frequency\": 1, \"value\": 0.8087687416501761}, \"0.91403841313112\": {\"frequency\": 1, \"value\": 0.91403841313112}, \"0.563215966509281\": {\"frequency\": 1, \"value\": 0.563215966509281}, \"1.2562961518227218\": {\"frequency\": 1, \"value\": 1.2562961518227218}, \"1.5037288640765527\": {\"frequency\": 1, \"value\": 1.5037288640765527}, \"1.1614871063054124\": {\"frequency\": 1, \"value\": 1.1614871063054124}, \"0.2976963556769583\": {\"frequency\": 1, \"value\": 0.2976963556769583}, \"2.154542960115325\": {\"frequency\": 1, \"value\": 2.154542960115325}, \"0.8135981665081142\": {\"frequency\": 1, \"value\": 0.8135981665081142}, \"1.4214916478054138\": {\"frequency\": 1, \"value\": 1.4214916478054138}, \"1.041482951939082\": {\"frequency\": 1, \"value\": 1.041482951939082}, \"0.3912807773470062\": {\"frequency\": 1, \"value\": 0.3912807773470062}, \"0.5664193783864157\": {\"frequency\": 1, \"value\": 0.5664193783864157}, \"1.9950199538658437\": {\"frequency\": 1, \"value\": 1.9950199538658437}, \"1.1546507309498404\": {\"frequency\": 1, \"value\": 1.1546507309498404}, \"0.6087022044811672\": {\"frequency\": 1, \"value\": 0.6087022044811672}, \"0.9635410969359006\": {\"frequency\": 1, \"value\": 0.9635410969359006}, \"1.2962198876371556\": {\"frequency\": 1, \"value\": 1.2962198876371556}, \"1.999958577832228\": {\"frequency\": 1, \"value\": 1.999958577832228}, \"0.83873799680961\": {\"frequency\": 1, \"value\": 0.83873799680961}, \"1.212819057864191\": {\"frequency\": 1, \"value\": 1.212819057864191}, \"0.9101891910002173\": {\"frequency\": 1, \"value\": 0.9101891910002173}, \"0.4157431331994723\": {\"frequency\": 1, \"value\": 0.4157431331994723}, \"1.0324879541672174\": {\"frequency\": 1, \"value\": 1.0324879541672174}, \"0.7474229770099544\": {\"frequency\": 1, \"value\": 0.7474229770099544}, \"1.4491439808016808\": {\"frequency\": 1, \"value\": 1.4491439808016808}, \"2.5879032129212605\": {\"frequency\": 1, \"value\": 2.5879032129212605}, \"0.4601061590184883\": {\"frequency\": 1, \"value\": 0.4601061590184883}, \"1.3427234689263698\": {\"frequency\": 1, \"value\": 1.3427234689263698}, \"0.9994617009197735\": {\"frequency\": 1, \"value\": 0.9994617009197735}, \"0.9188085107051078\": {\"frequency\": 1, \"value\": 0.9188085107051078}, \"0.5844204949659654\": {\"frequency\": 1, \"value\": 0.5844204949659654}, \"1.1002169781225817\": {\"frequency\": 1, \"value\": 1.1002169781225817}, \"0.9253144847221666\": {\"frequency\": 1, \"value\": 0.9253144847221666}, \"0.909254848786352\": {\"frequency\": 1, \"value\": 0.909254848786352}, \"0.5220411452283548\": {\"frequency\": 1, \"value\": 0.5220411452283548}, \"1.2687074026863336\": {\"frequency\": 1, \"value\": 1.2687074026863336}, \"0.21064482402864249\": {\"frequency\": 1, \"value\": 0.21064482402864249}, \"0.5250993432920374\": {\"frequency\": 1, \"value\": 0.5250993432920374}, \"0.7074950408440782\": {\"frequency\": 1, \"value\": 0.7074950408440782}, \"0.7008627146654293\": {\"frequency\": 1, \"value\": 0.7008627146654293}, \"0.6527028787976414\": {\"frequency\": 1, \"value\": 0.6527028787976414}, \"0.9455409760273823\": {\"frequency\": 1, \"value\": 0.9455409760273823}, \"1.0242549453566117\": {\"frequency\": 1, \"value\": 1.0242549453566117}, \"1.413688330688571\": {\"frequency\": 1, \"value\": 1.413688330688571}, \"0.43760994883001736\": {\"frequency\": 1, \"value\": 0.43760994883001736}, \"1.633305229972063\": {\"frequency\": 1, \"value\": 1.633305229972063}, \"0.704024328375849\": {\"frequency\": 1, \"value\": 0.704024328375849}, \"0.9599901040059908\": {\"frequency\": 1, \"value\": 0.9599901040059908}, \"0.9489789830515756\": {\"frequency\": 1, \"value\": 0.9489789830515756}, \"1.0000840942728346\": {\"frequency\": 1, \"value\": 1.0000840942728346}, \"0.784555048954577\": {\"frequency\": 1, \"value\": 0.784555048954577}, \"1.3948324119021236\": {\"frequency\": 1, \"value\": 1.3948324119021236}, \"0.9436040878119476\": {\"frequency\": 1, \"value\": 0.9436040878119476}, \"2.3603900935747726\": {\"frequency\": 1, \"value\": 2.3603900935747726}, \"0.7235756888277678\": {\"frequency\": 1, \"value\": 0.7235756888277678}, \"1.078030303755135\": {\"frequency\": 1, \"value\": 1.078030303755135}, \"0.9354177518437075\": {\"frequency\": 1, \"value\": 0.9354177518437075}, \"0.8104339654979253\": {\"frequency\": 1, \"value\": 0.8104339654979253}, \"1.2245819120621841\": {\"frequency\": 1, \"value\": 1.2245819120621841}, \"0.8635038709468037\": {\"frequency\": 1, \"value\": 0.8635038709468037}, \"1.433005064202557\": {\"frequency\": 1, \"value\": 1.433005064202557}, \"0.8118878493008685\": {\"frequency\": 1, \"value\": 0.8118878493008685}, \"0.3078099182767727\": {\"frequency\": 1, \"value\": 0.3078099182767727}, \"0.8993214286438053\": {\"frequency\": 1, \"value\": 0.8993214286438053}, \"0.4807122314662431\": {\"frequency\": 1, \"value\": 0.4807122314662431}, \"0.5504356597519249\": {\"frequency\": 1, \"value\": 0.5504356597519249}, \"0.7139993707298375\": {\"frequency\": 1, \"value\": 0.7139993707298375}, \"0.9663934112890915\": {\"frequency\": 1, \"value\": 0.9663934112890915}, \"1.5733473448308675\": {\"frequency\": 1, \"value\": 1.5733473448308675}, \"0.8583763914381785\": {\"frequency\": 1, \"value\": 0.8583763914381785}, \"0.5242058119762079\": {\"frequency\": 1, \"value\": 0.5242058119762079}, \"1.0796740282962447\": {\"frequency\": 1, \"value\": 1.0796740282962447}, \"2.293863821209129\": {\"frequency\": 1, \"value\": 2.293863821209129}, \"0.6567802648481375\": {\"frequency\": 1, \"value\": 0.6567802648481375}, \"1.0697901528963851\": {\"frequency\": 1, \"value\": 1.0697901528963851}, \"0.7940379529158903\": {\"frequency\": 1, \"value\": 0.7940379529158903}, \"1.1757777065460648\": {\"frequency\": 1, \"value\": 1.1757777065460648}, \"1.136520188744426\": {\"frequency\": 1, \"value\": 1.136520188744426}, \"1.5655959077530528\": {\"frequency\": 1, \"value\": 1.5655959077530528}, \"0.2858509531092354\": {\"frequency\": 1, \"value\": 0.2858509531092354}, \"0.569169901578514\": {\"frequency\": 1, \"value\": 0.569169901578514}, \"0.9032904145665048\": {\"frequency\": 1, \"value\": 0.9032904145665048}, \"0.8438326362992115\": {\"frequency\": 1, \"value\": 0.8438326362992115}, \"0.7039133564286875\": {\"frequency\": 1, \"value\": 0.7039133564286875}, \"1.2993887006226827\": {\"frequency\": 1, \"value\": 1.2993887006226827}, \"1.1572201835464195\": {\"frequency\": 1, \"value\": 1.1572201835464195}, \"0.3244889527552317\": {\"frequency\": 1, \"value\": 0.3244889527552317}, \"1.7062285548255356\": {\"frequency\": 1, \"value\": 1.7062285548255356}, \"0.7347511373812062\": {\"frequency\": 1, \"value\": 0.7347511373812062}, \"0.935297641854131\": {\"frequency\": 1, \"value\": 0.935297641854131}, \"0.6131042897596233\": {\"frequency\": 1, \"value\": 0.6131042897596233}, \"0.9902950871024241\": {\"frequency\": 1, \"value\": 0.9902950871024241}, \"0.9594494455579929\": {\"frequency\": 1, \"value\": 0.9594494455579929}, \"1.0343302039858562\": {\"frequency\": 1, \"value\": 1.0343302039858562}, \"0.8693534521817587\": {\"frequency\": 1, \"value\": 0.8693534521817587}, \"1.43339190745337\": {\"frequency\": 1, \"value\": 1.43339190745337}, \"1.3356482751523024\": {\"frequency\": 1, \"value\": 1.3356482751523024}, \"0.8372496884637529\": {\"frequency\": 1, \"value\": 0.8372496884637529}, \"0.06779321226749646\": {\"frequency\": 1, \"value\": 0.06779321226749646}, \"0.9556340549459587\": {\"frequency\": 1, \"value\": 0.9556340549459587}, \"2.518513447644092\": {\"frequency\": 1, \"value\": 2.518513447644092}, \"1.5929392644433837\": {\"frequency\": 1, \"value\": 1.5929392644433837}, \"0.9758548208483869\": {\"frequency\": 1, \"value\": 0.9758548208483869}, \"0.9923774684031412\": {\"frequency\": 1, \"value\": 0.9923774684031412}, \"1.5982841433330939\": {\"frequency\": 1, \"value\": 1.5982841433330939}, \"1.2825383136825323\": {\"frequency\": 1, \"value\": 1.2825383136825323}, \"1.2511991504497022\": {\"frequency\": 1, \"value\": 1.2511991504497022}, \"0.40513568751536644\": {\"frequency\": 1, \"value\": 0.40513568751536644}, \"1.0935167396226477\": {\"frequency\": 1, \"value\": 1.0935167396226477}, \"0.9654991218367266\": {\"frequency\": 1, \"value\": 0.9654991218367266}, \"0.13830058757978803\": {\"frequency\": 1, \"value\": 0.13830058757978803}, \"0.8102142419400644\": {\"frequency\": 1, \"value\": 0.8102142419400644}, \"0.5314824234134767\": {\"frequency\": 1, \"value\": 0.5314824234134767}, \"1.3043608007538108\": {\"frequency\": 1, \"value\": 1.3043608007538108}, \"1.2239069317921354\": {\"frequency\": 1, \"value\": 1.2239069317921354}, \"1.3143114442691664\": {\"frequency\": 1, \"value\": 1.3143114442691664}, \"0.6344411079960834\": {\"frequency\": 1, \"value\": 0.6344411079960834}, \"0.5846628886352395\": {\"frequency\": 1, \"value\": 0.5846628886352395}, \"1.0202922343228449\": {\"frequency\": 1, \"value\": 1.0202922343228449}, \"0.8541135566722725\": {\"frequency\": 1, \"value\": 0.8541135566722725}, \"0.7565129958528337\": {\"frequency\": 1, \"value\": 0.7565129958528337}, \"0.4169419901701765\": {\"frequency\": 1, \"value\": 0.4169419901701765}, \"1.1351580219679507\": {\"frequency\": 1, \"value\": 1.1351580219679507}, \"0.8106698829593108\": {\"frequency\": 1, \"value\": 0.8106698829593108}, \"0.6745211934294044\": {\"frequency\": 1, \"value\": 0.6745211934294044}, \"0.877737031756267\": {\"frequency\": 1, \"value\": 0.877737031756267}, \"1.8116430970356383\": {\"frequency\": 1, \"value\": 1.8116430970356383}, \"0.5921978826200319\": {\"frequency\": 1, \"value\": 0.5921978826200319}, \"0.7940099121098796\": {\"frequency\": 1, \"value\": 0.7940099121098796}, \"0.7740721607521911\": {\"frequency\": 1, \"value\": 0.7740721607521911}, \"1.1906742870104794\": {\"frequency\": 1, \"value\": 1.1906742870104794}, \"1.2391362021122974\": {\"frequency\": 1, \"value\": 1.2391362021122974}, \"0.9807605675545353\": {\"frequency\": 1, \"value\": 0.9807605675545353}, \"0.3609937416137079\": {\"frequency\": 1, \"value\": 0.3609937416137079}, \"0.957671640841857\": {\"frequency\": 1, \"value\": 0.957671640841857}, \"0.3044465774956935\": {\"frequency\": 1, \"value\": 0.3044465774956935}, \"1.4065585160623195\": {\"frequency\": 1, \"value\": 1.4065585160623195}, \"0.8256704834318447\": {\"frequency\": 1, \"value\": 0.8256704834318447}, \"0.6114041839265005\": {\"frequency\": 1, \"value\": 0.6114041839265005}, \"0.9161768001325638\": {\"frequency\": 1, \"value\": 0.9161768001325638}, \"0.45891786038416754\": {\"frequency\": 1, \"value\": 0.45891786038416754}, \"0.7291071503419098\": {\"frequency\": 1, \"value\": 0.7291071503419098}, \"0.8482215502094261\": {\"frequency\": 1, \"value\": 0.8482215502094261}, \"1.1673608023476247\": {\"frequency\": 1, \"value\": 1.1673608023476247}, \"0.9685256583736814\": {\"frequency\": 1, \"value\": 0.9685256583736814}, \"1.1770172350689438\": {\"frequency\": 1, \"value\": 1.1770172350689438}, \"0.5359161018200238\": {\"frequency\": 1, \"value\": 0.5359161018200238}, \"0.5462052944538311\": {\"frequency\": 1, \"value\": 0.5462052944538311}, \"0.7357463976979858\": {\"frequency\": 1, \"value\": 0.7357463976979858}, \"0.8000568176300605\": {\"frequency\": 1, \"value\": 0.8000568176300605}, \"1.5093903857421362\": {\"frequency\": 1, \"value\": 1.5093903857421362}, \"0.7013185194631082\": {\"frequency\": 1, \"value\": 0.7013185194631082}, \"1.0357480398104326\": {\"frequency\": 1, \"value\": 1.0357480398104326}, \"1.0127487543617935\": {\"frequency\": 1, \"value\": 1.0127487543617935}, \"1.4533019447004687\": {\"frequency\": 1, \"value\": 1.4533019447004687}, \"1.10367534798908\": {\"frequency\": 1, \"value\": 1.10367534798908}, \"2.720696535750471\": {\"frequency\": 1, \"value\": 2.720696535750471}, \"1.9791989772107184\": {\"frequency\": 1, \"value\": 1.9791989772107184}, \"1.3615355949103272\": {\"frequency\": 1, \"value\": 1.3615355949103272}, \"1.4386086938237646\": {\"frequency\": 1, \"value\": 1.4386086938237646}, \"1.5440741069166848\": {\"frequency\": 1, \"value\": 1.5440741069166848}, \"1.081647450750939\": {\"frequency\": 1, \"value\": 1.081647450750939}, \"1.28778654123208\": {\"frequency\": 1, \"value\": 1.28778654123208}, \"1.5553374947669862\": {\"frequency\": 1, \"value\": 1.5553374947669862}, \"0.9467709399359847\": {\"frequency\": 1, \"value\": 0.9467709399359847}, \"0.9416892879501253\": {\"frequency\": 1, \"value\": 0.9416892879501253}, \"1.4291015591219436\": {\"frequency\": 1, \"value\": 1.4291015591219436}, \"1.5376191899950018\": {\"frequency\": 1, \"value\": 1.5376191899950018}, \"1.7240854086721646\": {\"frequency\": 1, \"value\": 1.7240854086721646}, \"0.2916654547288786\": {\"frequency\": 1, \"value\": 0.2916654547288786}, \"1.2536803158264551\": {\"frequency\": 1, \"value\": 1.2536803158264551}, \"0.9167757500976802\": {\"frequency\": 1, \"value\": 0.9167757500976802}, \"1.109952544189202\": {\"frequency\": 1, \"value\": 1.109952544189202}, \"0.7929904954033216\": {\"frequency\": 1, \"value\": 0.7929904954033216}, \"0.9493861680963863\": {\"frequency\": 1, \"value\": 0.9493861680963863}, \"0.9678972277157194\": {\"frequency\": 1, \"value\": 0.9678972277157194}, \"0.7502077148435746\": {\"frequency\": 1, \"value\": 0.7502077148435746}, \"0.4994836117627934\": {\"frequency\": 1, \"value\": 0.4994836117627934}, \"0.8621111449774234\": {\"frequency\": 1, \"value\": 0.8621111449774234}, \"0.571187074477172\": {\"frequency\": 1, \"value\": 0.571187074477172}, \"0.5465686881910035\": {\"frequency\": 1, \"value\": 0.5465686881910035}, \"2.1260893250426514\": {\"frequency\": 1, \"value\": 2.1260893250426514}, \"0.815733252120497\": {\"frequency\": 1, \"value\": 0.815733252120497}, \"0.835848866649119\": {\"frequency\": 1, \"value\": 0.835848866649119}, \"1.124975804956612\": {\"frequency\": 1, \"value\": 1.124975804956612}, \"0.8980799345042748\": {\"frequency\": 1, \"value\": 0.8980799345042748}, \"0.8165708226871483\": {\"frequency\": 1, \"value\": 0.8165708226871483}, \"1.0248710082166241\": {\"frequency\": 1, \"value\": 1.0248710082166241}, \"0.8115261292756841\": {\"frequency\": 1, \"value\": 0.8115261292756841}, \"2.2188323158581675\": {\"frequency\": 1, \"value\": 2.2188323158581675}, \"1.1227742759148727\": {\"frequency\": 1, \"value\": 1.1227742759148727}, \"1.1765538862797784\": {\"frequency\": 1, \"value\": 1.1765538862797784}, \"0.7879203169351963\": {\"frequency\": 1, \"value\": 0.7879203169351963}, \"1.155557319197671\": {\"frequency\": 1, \"value\": 1.155557319197671}, \"0.9788492550984196\": {\"frequency\": 1, \"value\": 0.9788492550984196}, \"0.8127485153223147\": {\"frequency\": 1, \"value\": 0.8127485153223147}, \"1.5949036376743013\": {\"frequency\": 1, \"value\": 1.5949036376743013}, \"1.592235038680825\": {\"frequency\": 1, \"value\": 1.592235038680825}, \"0.9601076538361863\": {\"frequency\": 1, \"value\": 0.9601076538361863}, \"1.8625599775558621\": {\"frequency\": 1, \"value\": 1.8625599775558621}, \"2.1792997268367538\": {\"frequency\": 1, \"value\": 2.1792997268367538}, \"0.397819685948425\": {\"frequency\": 1, \"value\": 0.397819685948425}, \"1.085093221352158\": {\"frequency\": 1, \"value\": 1.085093221352158}, \"0.6475294663415947\": {\"frequency\": 1, \"value\": 0.6475294663415947}, \"0.6847885685033814\": {\"frequency\": 1, \"value\": 0.6847885685033814}, \"0.7905388924487985\": {\"frequency\": 1, \"value\": 0.7905388924487985}, \"0.8639272320390183\": {\"frequency\": 1, \"value\": 0.8639272320390183}, \"0.7106054899816736\": {\"frequency\": 1, \"value\": 0.7106054899816736}, \"0.5273088136203155\": {\"frequency\": 1, \"value\": 0.5273088136203155}, \"1.557740911331317\": {\"frequency\": 1, \"value\": 1.557740911331317}, \"0.7625187575593273\": {\"frequency\": 1, \"value\": 0.7625187575593273}, \"0.5906735609031827\": {\"frequency\": 1, \"value\": 0.5906735609031827}, \"0.7234080989051617\": {\"frequency\": 1, \"value\": 0.7234080989051617}, \"1.3631751463067858\": {\"frequency\": 1, \"value\": 1.3631751463067858}, \"1.2177851184932826\": {\"frequency\": 1, \"value\": 1.2177851184932826}, \"0.019729819309866503\": {\"frequency\": 1, \"value\": 0.019729819309866503}, \"1.7995913450943233\": {\"frequency\": 1, \"value\": 1.7995913450943233}, \"0.5378884173486638\": {\"frequency\": 1, \"value\": 0.5378884173486638}, \"0.46315736099680194\": {\"frequency\": 1, \"value\": 0.46315736099680194}, \"0.6125372770352366\": {\"frequency\": 1, \"value\": 0.6125372770352366}, \"0.960990800453652\": {\"frequency\": 1, \"value\": 0.960990800453652}, \"1.091515812123726\": {\"frequency\": 1, \"value\": 1.091515812123726}, \"1.1654656278009938\": {\"frequency\": 1, \"value\": 1.1654656278009938}, \"1.3275254145245274\": {\"frequency\": 1, \"value\": 1.3275254145245274}, \"0.25947208400295557\": {\"frequency\": 1, \"value\": 0.25947208400295557}, \"1.3103969635817747\": {\"frequency\": 1, \"value\": 1.3103969635817747}, \"1.5119693820470839\": {\"frequency\": 1, \"value\": 1.5119693820470839}, \"1.1575706565792871\": {\"frequency\": 1, \"value\": 1.1575706565792871}, \"1.16765958028438\": {\"frequency\": 1, \"value\": 1.16765958028438}, \"1.6130674535618281\": {\"frequency\": 1, \"value\": 1.6130674535618281}, \"0.22847626455072012\": {\"frequency\": 1, \"value\": 0.22847626455072012}, \"1.814238378669145\": {\"frequency\": 1, \"value\": 1.814238378669145}, \"0.8726421962293088\": {\"frequency\": 1, \"value\": 0.8726421962293088}, \"1.466360881965485\": {\"frequency\": 1, \"value\": 1.466360881965485}, \"0.41389127514800306\": {\"frequency\": 1, \"value\": 0.41389127514800306}, \"0.5793637462970747\": {\"frequency\": 1, \"value\": 0.5793637462970747}, \"0.14275334435386267\": {\"frequency\": 1, \"value\": 0.14275334435386267}, \"1.1238192059448568\": {\"frequency\": 1, \"value\": 1.1238192059448568}, \"1.6858733648140143\": {\"frequency\": 1, \"value\": 1.6858733648140143}, \"0.859267641451966\": {\"frequency\": 1, \"value\": 0.859267641451966}, \"0.7825278572278118\": {\"frequency\": 1, \"value\": 0.7825278572278118}, \"0.9908489528573103\": {\"frequency\": 1, \"value\": 0.9908489528573103}, \"0.9256371810406607\": {\"frequency\": 1, \"value\": 0.9256371810406607}, \"0.3327958294819683\": {\"frequency\": 1, \"value\": 0.3327958294819683}, \"0.8952756631274067\": {\"frequency\": 1, \"value\": 0.8952756631274067}, \"1.4415091409430447\": {\"frequency\": 1, \"value\": 1.4415091409430447}, \"1.1530679635421344\": {\"frequency\": 1, \"value\": 1.1530679635421344}, \"0.4494261491747551\": {\"frequency\": 1, \"value\": 0.4494261491747551}, \"0.34031913312227546\": {\"frequency\": 1, \"value\": 0.34031913312227546}, \"1.2611388225674416\": {\"frequency\": 1, \"value\": 1.2611388225674416}, \"1.479331403569563\": {\"frequency\": 1, \"value\": 1.479331403569563}, \"1.0878780547047613\": {\"frequency\": 1, \"value\": 1.0878780547047613}, \"0.4681678976901161\": {\"frequency\": 1, \"value\": 0.4681678976901161}, \"1.304765623080625\": {\"frequency\": 1, \"value\": 1.304765623080625}, \"1.0643157133848438\": {\"frequency\": 1, \"value\": 1.0643157133848438}, \"0.4890127010682115\": {\"frequency\": 1, \"value\": 0.4890127010682115}, \"0.32013235902525866\": {\"frequency\": 1, \"value\": 0.32013235902525866}, \"0.6752635590304017\": {\"frequency\": 1, \"value\": 0.6752635590304017}, \"1.6705021315611812\": {\"frequency\": 1, \"value\": 1.6705021315611812}, \"0.8924871244803351\": {\"frequency\": 1, \"value\": 0.8924871244803351}, \"0.8257531861199174\": {\"frequency\": 1, \"value\": 0.8257531861199174}, \"1.4947251786362057\": {\"frequency\": 1, \"value\": 1.4947251786362057}, \"0.6069595575217334\": {\"frequency\": 1, \"value\": 0.6069595575217334}, \"2.4319104213443627\": {\"frequency\": 1, \"value\": 2.4319104213443627}, \"1.1485280638457414\": {\"frequency\": 1, \"value\": 1.1485280638457414}, \"0.6387042830012928\": {\"frequency\": 1, \"value\": 0.6387042830012928}, \"1.307693451304849\": {\"frequency\": 1, \"value\": 1.307693451304849}, \"0.5895082805156816\": {\"frequency\": 1, \"value\": 0.5895082805156816}, \"0.4167246752878082\": {\"frequency\": 1, \"value\": 0.4167246752878082}, \"2.2351417145907284\": {\"frequency\": 1, \"value\": 2.2351417145907284}, \"0.6557087811227966\": {\"frequency\": 1, \"value\": 0.6557087811227966}, \"1.1722049634616365\": {\"frequency\": 1, \"value\": 1.1722049634616365}, \"0.9015245406307288\": {\"frequency\": 1, \"value\": 0.9015245406307288}, \"1.0541386582451888\": {\"frequency\": 1, \"value\": 1.0541386582451888}, \"0.766946792306419\": {\"frequency\": 1, \"value\": 0.766946792306419}, \"0.964675904066604\": {\"frequency\": 1, \"value\": 0.964675904066604}, \"1.2117557545396114\": {\"frequency\": 1, \"value\": 1.2117557545396114}, \"0.9742312518440632\": {\"frequency\": 1, \"value\": 0.9742312518440632}, \"1.09224256281249\": {\"frequency\": 1, \"value\": 1.09224256281249}, \"1.2689223557366083\": {\"frequency\": 1, \"value\": 1.2689223557366083}, \"0.8480134154575334\": {\"frequency\": 1, \"value\": 0.8480134154575334}, \"0.6170907180415421\": {\"frequency\": 1, \"value\": 0.6170907180415421}, \"1.3859768242159767\": {\"frequency\": 1, \"value\": 1.3859768242159767}, \"1.1793904716514685\": {\"frequency\": 1, \"value\": 1.1793904716514685}, \"0.9899957416657307\": {\"frequency\": 1, \"value\": 0.9899957416657307}, \"0.450447333141177\": {\"frequency\": 1, \"value\": 0.450447333141177}, \"0.9201071513947973\": {\"frequency\": 1, \"value\": 0.9201071513947973}, \"0.6817527097265745\": {\"frequency\": 1, \"value\": 0.6817527097265745}, \"1.0256519956193362\": {\"frequency\": 1, \"value\": 1.0256519956193362}, \"0.9212801796877391\": {\"frequency\": 1, \"value\": 0.9212801796877391}, \"1.174824885237981\": {\"frequency\": 1, \"value\": 1.174824885237981}, \"1.0134354378153665\": {\"frequency\": 1, \"value\": 1.0134354378153665}, \"0.3926124048491822\": {\"frequency\": 1, \"value\": 0.3926124048491822}, \"0.17100025203216518\": {\"frequency\": 1, \"value\": 0.17100025203216518}, \"1.5509649153168634\": {\"frequency\": 1, \"value\": 1.5509649153168634}, \"0.5782769158843964\": {\"frequency\": 1, \"value\": 0.5782769158843964}, \"1.2691012316821966\": {\"frequency\": 1, \"value\": 1.2691012316821966}, \"0.9521856770835662\": {\"frequency\": 1, \"value\": 0.9521856770835662}, \"1.3186512943181317\": {\"frequency\": 1, \"value\": 1.3186512943181317}, \"2.0373270062048086\": {\"frequency\": 1, \"value\": 2.0373270062048086}, \"0.264595416709462\": {\"frequency\": 1, \"value\": 0.264595416709462}, \"0.9144193030610924\": {\"frequency\": 1, \"value\": 0.9144193030610924}, \"0.38703873545080203\": {\"frequency\": 1, \"value\": 0.38703873545080203}, \"1.2732178008735764\": {\"frequency\": 1, \"value\": 1.2732178008735764}, \"1.6243110992403091\": {\"frequency\": 1, \"value\": 1.6243110992403091}, \"0.6530364211275511\": {\"frequency\": 1, \"value\": 0.6530364211275511}, \"0.9650851997506624\": {\"frequency\": 1, \"value\": 0.9650851997506624}, \"2.0164893171236153\": {\"frequency\": 1, \"value\": 2.0164893171236153}, \"0.8587089315858971\": {\"frequency\": 1, \"value\": 0.8587089315858971}, \"0.9693864146264931\": {\"frequency\": 1, \"value\": 0.9693864146264931}, \"0.813068466293362\": {\"frequency\": 1, \"value\": 0.813068466293362}, \"0.7475698781641015\": {\"frequency\": 1, \"value\": 0.7475698781641015}, \"1.0507313416796802\": {\"frequency\": 1, \"value\": 1.0507313416796802}, \"0.8329103816262032\": {\"frequency\": 1, \"value\": 0.8329103816262032}, \"1.2802387941621423\": {\"frequency\": 1, \"value\": 1.2802387941621423}, \"0.858194206632203\": {\"frequency\": 1, \"value\": 0.858194206632203}, \"1.104917699449043\": {\"frequency\": 1, \"value\": 1.104917699449043}, \"0.7882996472083952\": {\"frequency\": 1, \"value\": 0.7882996472083952}, \"0.643021671138194\": {\"frequency\": 1, \"value\": 0.643021671138194}, \"0.5920535014869843\": {\"frequency\": 1, \"value\": 0.5920535014869843}, \"0.9088941507930735\": {\"frequency\": 1, \"value\": 0.9088941507930735}, \"0.723591421241877\": {\"frequency\": 1, \"value\": 0.723591421241877}, \"0.9878440839711817\": {\"frequency\": 1, \"value\": 0.9878440839711817}, \"0.15951421291110446\": {\"frequency\": 1, \"value\": 0.15951421291110446}, \"1.0074331336360043\": {\"frequency\": 1, \"value\": 1.0074331336360043}, \"0.9800957241119931\": {\"frequency\": 1, \"value\": 0.9800957241119931}, \"1.9390160653965796\": {\"frequency\": 1, \"value\": 1.9390160653965796}, \"1.5669867656119638\": {\"frequency\": 1, \"value\": 1.5669867656119638}, \"0.98387919318527\": {\"frequency\": 1, \"value\": 0.98387919318527}, \"0.6963020423612523\": {\"frequency\": 1, \"value\": 0.6963020423612523}, \"0.9955705293153406\": {\"frequency\": 1, \"value\": 0.9955705293153406}, \"0.401418028539669\": {\"frequency\": 1, \"value\": 0.401418028539669}, \"0.53183448029358\": {\"frequency\": 1, \"value\": 0.53183448029358}, \"2.167563907773593\": {\"frequency\": 1, \"value\": 2.167563907773593}, \"0.7584475287300153\": {\"frequency\": 1, \"value\": 0.7584475287300153}, \"1.0737664724080427\": {\"frequency\": 1, \"value\": 1.0737664724080427}, \"0.8954464221918401\": {\"frequency\": 1, \"value\": 0.8954464221918401}, \"0.969472349620771\": {\"frequency\": 1, \"value\": 0.969472349620771}, \"0.9403842725783628\": {\"frequency\": 1, \"value\": 0.9403842725783628}, \"0.7267133067549882\": {\"frequency\": 1, \"value\": 0.7267133067549882}, \"0.3417316148632574\": {\"frequency\": 1, \"value\": 0.3417316148632574}, \"2.42823463306528\": {\"frequency\": 1, \"value\": 2.42823463306528}, \"0.6559211167291146\": {\"frequency\": 1, \"value\": 0.6559211167291146}, \"0.6758231094919062\": {\"frequency\": 1, \"value\": 0.6758231094919062}, \"1.0532038577822407\": {\"frequency\": 1, \"value\": 1.0532038577822407}, \"0.351125309307629\": {\"frequency\": 1, \"value\": 0.351125309307629}, \"1.4629376328673005\": {\"frequency\": 1, \"value\": 1.4629376328673005}, \"0.723924776080477\": {\"frequency\": 1, \"value\": 0.723924776080477}, \"0.5616567368737208\": {\"frequency\": 1, \"value\": 0.5616567368737208}, \"1.475224786708385\": {\"frequency\": 1, \"value\": 1.475224786708385}, \"0.37691326448914236\": {\"frequency\": 1, \"value\": 0.37691326448914236}, \"1.3006379311104785\": {\"frequency\": 1, \"value\": 1.3006379311104785}, \"0.8757011025168442\": {\"frequency\": 1, \"value\": 0.8757011025168442}, \"1.58383590734113\": {\"frequency\": 1, \"value\": 1.58383590734113}, \"0.5158025378468065\": {\"frequency\": 1, \"value\": 0.5158025378468065}, \"0.9863883715304542\": {\"frequency\": 1, \"value\": 0.9863883715304542}, \"0.8495837912032913\": {\"frequency\": 1, \"value\": 0.8495837912032913}, \"0.4042545198067531\": {\"frequency\": 1, \"value\": 0.4042545198067531}, \"0.7785746356599008\": {\"frequency\": 1, \"value\": 0.7785746356599008}, \"0.717309167384367\": {\"frequency\": 1, \"value\": 0.717309167384367}, \"0.6463395873734625\": {\"frequency\": 1, \"value\": 0.6463395873734625}, \"0.13382325878185\": {\"frequency\": 1, \"value\": 0.13382325878185}, \"0.4650493548418373\": {\"frequency\": 1, \"value\": 0.4650493548418373}, \"0.5873021460927444\": {\"frequency\": 1, \"value\": 0.5873021460927444}, \"0.8167116045738712\": {\"frequency\": 1, \"value\": 0.8167116045738712}, \"1.1718162315050957\": {\"frequency\": 1, \"value\": 1.1718162315050957}, \"0.38405189168108755\": {\"frequency\": 1, \"value\": 0.38405189168108755}, \"1.2957619678079433\": {\"frequency\": 1, \"value\": 1.2957619678079433}, \"0.2568269714143949\": {\"frequency\": 1, \"value\": 0.2568269714143949}, \"2.4273517535332223\": {\"frequency\": 1, \"value\": 2.4273517535332223}, \"0.7493516912697831\": {\"frequency\": 1, \"value\": 0.7493516912697831}, \"0.9009632630150038\": {\"frequency\": 1, \"value\": 0.9009632630150038}, \"0.904742436317509\": {\"frequency\": 1, \"value\": 0.904742436317509}, \"1.9134630318949042\": {\"frequency\": 1, \"value\": 1.9134630318949042}, \"0.785890777162209\": {\"frequency\": 1, \"value\": 0.785890777162209}, \"1.0319265529184958\": {\"frequency\": 1, \"value\": 1.0319265529184958}, \"0.3173929264661264\": {\"frequency\": 1, \"value\": 0.3173929264661264}, \"1.0792145005560343\": {\"frequency\": 1, \"value\": 1.0792145005560343}, \"0.9823846480588144\": {\"frequency\": 1, \"value\": 0.9823846480588144}, \"1.2350820842351173\": {\"frequency\": 1, \"value\": 1.2350820842351173}, \"2.9637726462136413\": {\"frequency\": 1, \"value\": 2.9637726462136413}, \"0.5794012230839116\": {\"frequency\": 1, \"value\": 0.5794012230839116}, \"0.9331252270180255\": {\"frequency\": 1, \"value\": 0.9331252270180255}, \"0.7303569040243796\": {\"frequency\": 1, \"value\": 0.7303569040243796}, \"0.7068249906295756\": {\"frequency\": 1, \"value\": 0.7068249906295756}, \"0.5737969608962163\": {\"frequency\": 1, \"value\": 0.5737969608962163}, \"1.4813789806954514\": {\"frequency\": 1, \"value\": 1.4813789806954514}, \"1.2006058189232327\": {\"frequency\": 1, \"value\": 1.2006058189232327}, \"1.5557107057023802\": {\"frequency\": 1, \"value\": 1.5557107057023802}, \"0.862375003293901\": {\"frequency\": 1, \"value\": 0.862375003293901}, \"0.5565940114171081\": {\"frequency\": 1, \"value\": 0.5565940114171081}, \"2.051631866614031\": {\"frequency\": 1, \"value\": 2.051631866614031}, \"1.0061926589522163\": {\"frequency\": 1, \"value\": 1.0061926589522163}, \"0.4720407670156255\": {\"frequency\": 1, \"value\": 0.4720407670156255}, \"0.7670447746344522\": {\"frequency\": 1, \"value\": 0.7670447746344522}, \"0.8759528388360497\": {\"frequency\": 1, \"value\": 0.8759528388360497}, \"0.7930538594657692\": {\"frequency\": 1, \"value\": 0.7930538594657692}, \"1.977378358694153\": {\"frequency\": 1, \"value\": 1.977378358694153}, \"0.021104053890121044\": {\"frequency\": 1, \"value\": 0.021104053890121044}, \"0.11616459469935458\": {\"frequency\": 1, \"value\": 0.11616459469935458}, \"0.806649685403939\": {\"frequency\": 1, \"value\": 0.806649685403939}, \"0.8267767454135488\": {\"frequency\": 1, \"value\": 0.8267767454135488}, \"1.021880163671227\": {\"frequency\": 1, \"value\": 1.021880163671227}, \"1.3012013578879467\": {\"frequency\": 1, \"value\": 1.3012013578879467}, \"0.8177418802189157\": {\"frequency\": 1, \"value\": 0.8177418802189157}, \"1.0147099750027975\": {\"frequency\": 1, \"value\": 1.0147099750027975}, \"0.9337923657339515\": {\"frequency\": 1, \"value\": 0.9337923657339515}, \"0.959409251238056\": {\"frequency\": 1, \"value\": 0.959409251238056}, \"1.1484270395012117\": {\"frequency\": 1, \"value\": 1.1484270395012117}, \"1.70241761852965\": {\"frequency\": 1, \"value\": 1.70241761852965}, \"0.933874628719748\": {\"frequency\": 1, \"value\": 0.933874628719748}, \"1.0244250854700865\": {\"frequency\": 1, \"value\": 1.0244250854700865}, \"0.7123911683524358\": {\"frequency\": 1, \"value\": 0.7123911683524358}, \"2.1377345584203287\": {\"frequency\": 1, \"value\": 2.1377345584203287}, \"0.6152715348019707\": {\"frequency\": 1, \"value\": 0.6152715348019707}, \"1.3690510742639552\": {\"frequency\": 1, \"value\": 1.3690510742639552}, \"0.7429256923362134\": {\"frequency\": 1, \"value\": 0.7429256923362134}, \"1.1135989323111708\": {\"frequency\": 1, \"value\": 1.1135989323111708}, \"1.1520825553707186\": {\"frequency\": 1, \"value\": 1.1520825553707186}, \"0.7973681065775678\": {\"frequency\": 1, \"value\": 0.7973681065775678}, \"0.8323653319405921\": {\"frequency\": 1, \"value\": 0.8323653319405921}, \"0.4700149587302601\": {\"frequency\": 1, \"value\": 0.4700149587302601}, \"0.03181930267843702\": {\"frequency\": 1, \"value\": 0.03181930267843702}, \"0.6826155806387839\": {\"frequency\": 1, \"value\": 0.6826155806387839}, \"0.8723924665980934\": {\"frequency\": 1, \"value\": 0.8723924665980934}, \"0.1806791585669787\": {\"frequency\": 1, \"value\": 0.1806791585669787}, \"1.3098662725579524\": {\"frequency\": 1, \"value\": 1.3098662725579524}, \"0.8368550024853706\": {\"frequency\": 1, \"value\": 0.8368550024853706}, \"1.6782728608378372\": {\"frequency\": 1, \"value\": 1.6782728608378372}, \"1.4648629616312558\": {\"frequency\": 1, \"value\": 1.4648629616312558}, \"0.9591921081461112\": {\"frequency\": 1, \"value\": 0.9591921081461112}, \"0.2447068871910583\": {\"frequency\": 1, \"value\": 0.2447068871910583}, \"0.44687429760458564\": {\"frequency\": 1, \"value\": 0.44687429760458564}, \"1.1786014134085157\": {\"frequency\": 1, \"value\": 1.1786014134085157}, \"0.47821871487235645\": {\"frequency\": 1, \"value\": 0.47821871487235645}, \"1.2037424533654142\": {\"frequency\": 1, \"value\": 1.2037424533654142}, \"1.0069128796655056\": {\"frequency\": 1, \"value\": 1.0069128796655056}, \"1.38699882724238\": {\"frequency\": 1, \"value\": 1.38699882724238}, \"0.5026009979640893\": {\"frequency\": 1, \"value\": 0.5026009979640893}, \"1.5482494281030792\": {\"frequency\": 1, \"value\": 1.5482494281030792}, \"1.494303889960223\": {\"frequency\": 1, \"value\": 1.494303889960223}, \"1.0262352970420925\": {\"frequency\": 1, \"value\": 1.0262352970420925}, \"0.6409665131176775\": {\"frequency\": 1, \"value\": 0.6409665131176775}, \"0.8389593152624281\": {\"frequency\": 1, \"value\": 0.8389593152624281}, \"0.8930436164746883\": {\"frequency\": 1, \"value\": 0.8930436164746883}, \"0.5535734695053589\": {\"frequency\": 1, \"value\": 0.5535734695053589}, \"1.585371216801896\": {\"frequency\": 1, \"value\": 1.585371216801896}, \"0.03936167693881831\": {\"frequency\": 1, \"value\": 0.03936167693881831}, \"0.7957886289322886\": {\"frequency\": 1, \"value\": 0.7957886289322886}, \"0.9684494570485793\": {\"frequency\": 1, \"value\": 0.9684494570485793}, \"0.7034045321631509\": {\"frequency\": 1, \"value\": 0.7034045321631509}, \"0.8596478571221381\": {\"frequency\": 1, \"value\": 0.8596478571221381}, \"0.7831944109864166\": {\"frequency\": 1, \"value\": 0.7831944109864166}, \"0.7762348434988926\": {\"frequency\": 1, \"value\": 0.7762348434988926}, \"0.9268239641713807\": {\"frequency\": 1, \"value\": 0.9268239641713807}, \"0.48816090415982666\": {\"frequency\": 1, \"value\": 0.48816090415982666}, \"0.4938978523603891\": {\"frequency\": 1, \"value\": 0.4938978523603891}, \"0.9209655484690527\": {\"frequency\": 1, \"value\": 0.9209655484690527}, \"1.6344749897570805\": {\"frequency\": 1, \"value\": 1.6344749897570805}, \"0.4437238571896047\": {\"frequency\": 1, \"value\": 0.4437238571896047}, \"0.6524606956507245\": {\"frequency\": 1, \"value\": 0.6524606956507245}, \"0.038342200437740726\": {\"frequency\": 1, \"value\": 0.038342200437740726}, \"0.9410306257205688\": {\"frequency\": 1, \"value\": 0.9410306257205688}, \"1.2557728426802093\": {\"frequency\": 1, \"value\": 1.2557728426802093}, \"0.6413394285151944\": {\"frequency\": 1, \"value\": 0.6413394285151944}, \"0.6965681531436397\": {\"frequency\": 1, \"value\": 0.6965681531436397}, \"1.0162103430919633\": {\"frequency\": 1, \"value\": 1.0162103430919633}, \"1.0423567665214437\": {\"frequency\": 1, \"value\": 1.0423567665214437}, \"1.015064040632884\": {\"frequency\": 1, \"value\": 1.015064040632884}, \"1.8700759866068681\": {\"frequency\": 1, \"value\": 1.8700759866068681}, \"0.8740419385777436\": {\"frequency\": 1, \"value\": 0.8740419385777436}, \"0.7537774085711493\": {\"frequency\": 1, \"value\": 0.7537774085711493}, \"0.993213799089428\": {\"frequency\": 1, \"value\": 0.993213799089428}, \"1.4570468070592313\": {\"frequency\": 1, \"value\": 1.4570468070592313}, \"0.7726496779018379\": {\"frequency\": 1, \"value\": 0.7726496779018379}, \"0.7580176929980881\": {\"frequency\": 1, \"value\": 0.7580176929980881}, \"1.3004072394801756\": {\"frequency\": 1, \"value\": 1.3004072394801756}, \"0.6857476892614507\": {\"frequency\": 1, \"value\": 0.6857476892614507}, \"1.0290912001745405\": {\"frequency\": 1, \"value\": 1.0290912001745405}, \"0.889041649237363\": {\"frequency\": 1, \"value\": 0.889041649237363}, \"1.1431118397224214\": {\"frequency\": 1, \"value\": 1.1431118397224214}, \"1.01909240870661\": {\"frequency\": 1, \"value\": 1.01909240870661}, \"1.0975635940021142\": {\"frequency\": 1, \"value\": 1.0975635940021142}, \"1.5086959361073158\": {\"frequency\": 1, \"value\": 1.5086959361073158}, \"1.318702566471671\": {\"frequency\": 1, \"value\": 1.318702566471671}, \"0.527442391172741\": {\"frequency\": 1, \"value\": 0.527442391172741}, \"1.020446652007052\": {\"frequency\": 1, \"value\": 1.020446652007052}, \"0.7858929013610356\": {\"frequency\": 1, \"value\": 0.7858929013610356}, \"0.9835976949434582\": {\"frequency\": 1, \"value\": 0.9835976949434582}, \"0.849608839928452\": {\"frequency\": 1, \"value\": 0.849608839928452}, \"0.5469731726971985\": {\"frequency\": 1, \"value\": 0.5469731726971985}, \"0.908676569113053\": {\"frequency\": 1, \"value\": 0.908676569113053}, \"0.8515150036505835\": {\"frequency\": 1, \"value\": 0.8515150036505835}, \"1.5818146677689535\": {\"frequency\": 1, \"value\": 1.5818146677689535}, \"0.8166665554986221\": {\"frequency\": 1, \"value\": 0.8166665554986221}, \"1.1787013077092081\": {\"frequency\": 1, \"value\": 1.1787013077092081}, \"2.200708205774264\": {\"frequency\": 1, \"value\": 2.200708205774264}, \"0.42717239972840515\": {\"frequency\": 1, \"value\": 0.42717239972840515}, \"0.8787250070923214\": {\"frequency\": 1, \"value\": 0.8787250070923214}, \"1.4816621857810242\": {\"frequency\": 1, \"value\": 1.4816621857810242}, \"1.3559750692797987\": {\"frequency\": 1, \"value\": 1.3559750692797987}, \"1.025784187889096\": {\"frequency\": 1, \"value\": 1.025784187889096}, \"1.3688005626079176\": {\"frequency\": 1, \"value\": 1.3688005626079176}, \"0.8336510273193096\": {\"frequency\": 1, \"value\": 0.8336510273193096}, \"0.5652470210529557\": {\"frequency\": 1, \"value\": 0.5652470210529557}, \"2.1407345257868093\": {\"frequency\": 1, \"value\": 2.1407345257868093}, \"0.08254283227750214\": {\"frequency\": 1, \"value\": 0.08254283227750214}, \"1.841033868187608\": {\"frequency\": 1, \"value\": 1.841033868187608}, \"1.3325795466412558\": {\"frequency\": 1, \"value\": 1.3325795466412558}, \"1.0602425894879408\": {\"frequency\": 1, \"value\": 1.0602425894879408}, \"0.4936958526281252\": {\"frequency\": 1, \"value\": 0.4936958526281252}, \"0.1071184240657877\": {\"frequency\": 1, \"value\": 0.1071184240657877}, \"0.6087059681318121\": {\"frequency\": 1, \"value\": 0.6087059681318121}, \"0.7662052819887406\": {\"frequency\": 1, \"value\": 0.7662052819887406}, \"0.8549999931662842\": {\"frequency\": 1, \"value\": 0.8549999931662842}, \"0.7194919336556207\": {\"frequency\": 1, \"value\": 0.7194919336556207}, \"1.20710845352595\": {\"frequency\": 1, \"value\": 1.20710845352595}, \"0.5348505755130724\": {\"frequency\": 1, \"value\": 0.5348505755130724}, \"0.8784045965277272\": {\"frequency\": 1, \"value\": 0.8784045965277272}, \"3.4371165424206467\": {\"frequency\": 1, \"value\": 3.4371165424206467}, \"0.7152395057754168\": {\"frequency\": 1, \"value\": 0.7152395057754168}, \"0.4057423992650673\": {\"frequency\": 1, \"value\": 0.4057423992650673}, \"0.9198102809596771\": {\"frequency\": 1, \"value\": 0.9198102809596771}, \"1.0963239404070446\": {\"frequency\": 1, \"value\": 1.0963239404070446}, \"0.7180328245204259\": {\"frequency\": 1, \"value\": 0.7180328245204259}, \"1.5759523674817517\": {\"frequency\": 1, \"value\": 1.5759523674817517}, \"0.42218350887205613\": {\"frequency\": 1, \"value\": 0.42218350887205613}, \"1.096043092556987\": {\"frequency\": 1, \"value\": 1.096043092556987}, \"1.2709145444783607\": {\"frequency\": 1, \"value\": 1.2709145444783607}, \"0.10062396500733375\": {\"frequency\": 1, \"value\": 0.10062396500733375}, \"1.1683998247129863\": {\"frequency\": 1, \"value\": 1.1683998247129863}, \"1.1565303957636144\": {\"frequency\": 1, \"value\": 1.1565303957636144}, \"1.2007484615498014\": {\"frequency\": 1, \"value\": 1.2007484615498014}, \"0.821583281043814\": {\"frequency\": 1, \"value\": 0.821583281043814}, \"0.9148802869877892\": {\"frequency\": 1, \"value\": 0.9148802869877892}, \"0.9307646872425375\": {\"frequency\": 1, \"value\": 0.9307646872425375}, \"1.7746935182659351\": {\"frequency\": 1, \"value\": 1.7746935182659351}, \"0.794958196837068\": {\"frequency\": 1, \"value\": 0.794958196837068}, \"0.6479959655347749\": {\"frequency\": 1, \"value\": 0.6479959655347749}, \"0.9230930837155835\": {\"frequency\": 1, \"value\": 0.9230930837155835}, \"1.6239032818145172\": {\"frequency\": 1, \"value\": 1.6239032818145172}, \"0.9922156550048067\": {\"frequency\": 1, \"value\": 0.9922156550048067}, \"0.841989063495947\": {\"frequency\": 1, \"value\": 0.841989063495947}, \"0.4812554238597166\": {\"frequency\": 1, \"value\": 0.4812554238597166}, \"1.1468687619389453\": {\"frequency\": 1, \"value\": 1.1468687619389453}, \"1.0730658266472624\": {\"frequency\": 1, \"value\": 1.0730658266472624}, \"1.864325593610058\": {\"frequency\": 1, \"value\": 1.864325593610058}, \"0.5563495527842196\": {\"frequency\": 1, \"value\": 0.5563495527842196}, \"0.8988213927568123\": {\"frequency\": 1, \"value\": 0.8988213927568123}, \"1.0745230523295106\": {\"frequency\": 1, \"value\": 1.0745230523295106}, \"0.6328924131311452\": {\"frequency\": 1, \"value\": 0.6328924131311452}, \"1.8219481399218775\": {\"frequency\": 1, \"value\": 1.8219481399218775}, \"1.6501279788092422\": {\"frequency\": 1, \"value\": 1.6501279788092422}, \"0.9926784498829274\": {\"frequency\": 1, \"value\": 0.9926784498829274}, \"1.210329153183603\": {\"frequency\": 1, \"value\": 1.210329153183603}, \"0.37736775988009397\": {\"frequency\": 1, \"value\": 0.37736775988009397}, \"0.861922793064636\": {\"frequency\": 1, \"value\": 0.861922793064636}, \"0.9280829953730523\": {\"frequency\": 1, \"value\": 0.9280829953730523}, \"0.7852895799346856\": {\"frequency\": 1, \"value\": 0.7852895799346856}, \"1.189867128146775\": {\"frequency\": 1, \"value\": 1.189867128146775}, \"1.5799323283347206\": {\"frequency\": 1, \"value\": 1.5799323283347206}, \"1.8618141406733535\": {\"frequency\": 1, \"value\": 1.8618141406733535}, \"1.3074551837628978\": {\"frequency\": 1, \"value\": 1.3074551837628978}, \"1.3663083357940988\": {\"frequency\": 1, \"value\": 1.3663083357940988}, \"0.8577724125071349\": {\"frequency\": 1, \"value\": 0.8577724125071349}, \"1.3159772260099314\": {\"frequency\": 1, \"value\": 1.3159772260099314}, \"0.6412654579157948\": {\"frequency\": 1, \"value\": 0.6412654579157948}, \"0.7574122622519252\": {\"frequency\": 1, \"value\": 0.7574122622519252}, \"0.7226305719687158\": {\"frequency\": 1, \"value\": 0.7226305719687158}, \"1.0525485569141297\": {\"frequency\": 1, \"value\": 1.0525485569141297}, \"0.7216184906768567\": {\"frequency\": 1, \"value\": 0.7216184906768567}, \"0.2630603707655639\": {\"frequency\": 1, \"value\": 0.2630603707655639}, \"1.5272270836864272\": {\"frequency\": 1, \"value\": 1.5272270836864272}, \"0.8893371442652578\": {\"frequency\": 1, \"value\": 0.8893371442652578}, \"0.8605326953777395\": {\"frequency\": 1, \"value\": 0.8605326953777395}, \"1.0738708315133483\": {\"frequency\": 1, \"value\": 1.0738708315133483}, \"1.2564279401177862\": {\"frequency\": 1, \"value\": 1.2564279401177862}, \"0.9707516128940149\": {\"frequency\": 1, \"value\": 0.9707516128940149}, \"0.5500455805550479\": {\"frequency\": 1, \"value\": 0.5500455805550479}, \"1.0847827838486994\": {\"frequency\": 1, \"value\": 1.0847827838486994}, \"1.2437059336136573\": {\"frequency\": 1, \"value\": 1.2437059336136573}, \"0.6197305662175929\": {\"frequency\": 1, \"value\": 0.6197305662175929}, \"1.5153381329141187\": {\"frequency\": 1, \"value\": 1.5153381329141187}, \"1.018336338266352\": {\"frequency\": 1, \"value\": 1.018336338266352}, \"0.751153809128028\": {\"frequency\": 1, \"value\": 0.751153809128028}, \"0.6851423807905518\": {\"frequency\": 1, \"value\": 0.6851423807905518}, \"0.873450864373865\": {\"frequency\": 1, \"value\": 0.873450864373865}, \"0.9227481980623349\": {\"frequency\": 1, \"value\": 0.9227481980623349}, \"1.7954942990096359\": {\"frequency\": 1, \"value\": 1.7954942990096359}, \"0.9135163955463491\": {\"frequency\": 1, \"value\": 0.9135163955463491}, \"0.15852442276048295\": {\"frequency\": 1, \"value\": 0.15852442276048295}, \"1.8479874093644408\": {\"frequency\": 1, \"value\": 1.8479874093644408}, \"1.71060967080756\": {\"frequency\": 1, \"value\": 1.71060967080756}, \"0.5353811978519206\": {\"frequency\": 1, \"value\": 0.5353811978519206}, \"0.7887152434104986\": {\"frequency\": 1, \"value\": 0.7887152434104986}, \"0.24332901870490928\": {\"frequency\": 1, \"value\": 0.24332901870490928}, \"1.0297178042630215\": {\"frequency\": 1, \"value\": 1.0297178042630215}, \"0.045393444834795904\": {\"frequency\": 1, \"value\": 0.045393444834795904}, \"0.06162307441606352\": {\"frequency\": 1, \"value\": 0.06162307441606352}, \"1.3168551558427233\": {\"frequency\": 1, \"value\": 1.3168551558427233}, \"0.5846399162861077\": {\"frequency\": 1, \"value\": 0.5846399162861077}, \"1.6713593218363219\": {\"frequency\": 1, \"value\": 1.6713593218363219}, \"0.34783918236246514\": {\"frequency\": 1, \"value\": 0.34783918236246514}, \"0.3686226076120671\": {\"frequency\": 1, \"value\": 0.3686226076120671}, \"0.09150071611718014\": {\"frequency\": 1, \"value\": 0.09150071611718014}, \"0.8251613520837641\": {\"frequency\": 1, \"value\": 0.8251613520837641}, \"0.9515124861869749\": {\"frequency\": 1, \"value\": 0.9515124861869749}, \"0.40919286843314406\": {\"frequency\": 1, \"value\": 0.40919286843314406}, \"0.5785201971374813\": {\"frequency\": 1, \"value\": 0.5785201971374813}, \"0.5103947128798687\": {\"frequency\": 1, \"value\": 0.5103947128798687}, \"1.144219681412891\": {\"frequency\": 1, \"value\": 1.144219681412891}, \"0.8701259991826998\": {\"frequency\": 1, \"value\": 0.8701259991826998}, \"1.2433822641009489\": {\"frequency\": 1, \"value\": 1.2433822641009489}, \"0.6296526447081203\": {\"frequency\": 1, \"value\": 0.6296526447081203}, \"1.238246263160276\": {\"frequency\": 1, \"value\": 1.238246263160276}, \"1.304469410471837\": {\"frequency\": 1, \"value\": 1.304469410471837}, \"1.0914524253754403\": {\"frequency\": 1, \"value\": 1.0914524253754403}, \"0.4251370016244926\": {\"frequency\": 1, \"value\": 0.4251370016244926}, \"0.7519985812242069\": {\"frequency\": 1, \"value\": 0.7519985812242069}, \"1.3939803481580175\": {\"frequency\": 1, \"value\": 1.3939803481580175}, \"0.59634630112352\": {\"frequency\": 1, \"value\": 0.59634630112352}, \"0.4185350758647921\": {\"frequency\": 1, \"value\": 0.4185350758647921}, \"0.16736881076945398\": {\"frequency\": 1, \"value\": 0.16736881076945398}, \"0.7499106209322179\": {\"frequency\": 1, \"value\": 0.7499106209322179}, \"0.028464546033834637\": {\"frequency\": 1, \"value\": 0.028464546033834637}, \"1.1782744944602297\": {\"frequency\": 1, \"value\": 1.1782744944602297}, \"1.3753489097541738\": {\"frequency\": 1, \"value\": 1.3753489097541738}, \"1.24761520723162\": {\"frequency\": 1, \"value\": 1.24761520723162}, \"0.6003701052778245\": {\"frequency\": 1, \"value\": 0.6003701052778245}, \"1.3243316391545652\": {\"frequency\": 1, \"value\": 1.3243316391545652}, \"0.802177130315842\": {\"frequency\": 1, \"value\": 0.802177130315842}, \"0.8902680278989719\": {\"frequency\": 1, \"value\": 0.8902680278989719}, \"0.2953375284246542\": {\"frequency\": 1, \"value\": 0.2953375284246542}, \"0.5851534674232528\": {\"frequency\": 1, \"value\": 0.5851534674232528}, \"0.4304518414559341\": {\"frequency\": 1, \"value\": 0.4304518414559341}, \"0.91271490197995\": {\"frequency\": 1, \"value\": 0.91271490197995}, \"0.57307380882372\": {\"frequency\": 1, \"value\": 0.57307380882372}, \"0.9526962707127927\": {\"frequency\": 1, \"value\": 0.9526962707127927}, \"0.8287544680653087\": {\"frequency\": 1, \"value\": 0.8287544680653087}, \"0.8880714859984528\": {\"frequency\": 1, \"value\": 0.8880714859984528}, \"0.5714704517463811\": {\"frequency\": 1, \"value\": 0.5714704517463811}, \"1.223143018176334\": {\"frequency\": 1, \"value\": 1.223143018176334}, \"0.6373678381698245\": {\"frequency\": 1, \"value\": 0.6373678381698245}, \"1.0596184008326213\": {\"frequency\": 1, \"value\": 1.0596184008326213}, \"1.5816787959221839\": {\"frequency\": 1, \"value\": 1.5816787959221839}, \"0.711748804074706\": {\"frequency\": 1, \"value\": 0.711748804074706}, \"0.8054008147170285\": {\"frequency\": 1, \"value\": 0.8054008147170285}, \"0.49608789237031825\": {\"frequency\": 1, \"value\": 0.49608789237031825}, \"0.12736313788292408\": {\"frequency\": 1, \"value\": 0.12736313788292408}, \"1.5505117910132222\": {\"frequency\": 1, \"value\": 1.5505117910132222}, \"1.122919313851472\": {\"frequency\": 1, \"value\": 1.122919313851472}, \"1.3995689964088514\": {\"frequency\": 1, \"value\": 1.3995689964088514}, \"0.2904207622963229\": {\"frequency\": 1, \"value\": 0.2904207622963229}, \"0.49750315366414366\": {\"frequency\": 1, \"value\": 0.49750315366414366}, \"0.7928770845816229\": {\"frequency\": 1, \"value\": 0.7928770845816229}, \"1.5375925234651522\": {\"frequency\": 1, \"value\": 1.5375925234651522}, \"1.0871591433039491\": {\"frequency\": 1, \"value\": 1.0871591433039491}, \"0.7719421325531569\": {\"frequency\": 1, \"value\": 0.7719421325531569}, \"0.2387599338415023\": {\"frequency\": 1, \"value\": 0.2387599338415023}, \"0.2764281034292919\": {\"frequency\": 1, \"value\": 0.2764281034292919}, \"1.3504934335942844\": {\"frequency\": 1, \"value\": 1.3504934335942844}, \"1.3198614163498024\": {\"frequency\": 1, \"value\": 1.3198614163498024}, \"0.29321410292041045\": {\"frequency\": 1, \"value\": 0.29321410292041045}, \"0.009760316523221846\": {\"frequency\": 1, \"value\": 0.009760316523221846}, \"0.04962800470791162\": {\"frequency\": 1, \"value\": 0.04962800470791162}, \"0.8747327400288452\": {\"frequency\": 1, \"value\": 0.8747327400288452}, \"0.8469810561076033\": {\"frequency\": 1, \"value\": 0.8469810561076033}, \"1.3214460249528512\": {\"frequency\": 1, \"value\": 1.3214460249528512}, \"0.5641582147124908\": {\"frequency\": 1, \"value\": 0.5641582147124908}, \"0.8062864569654167\": {\"frequency\": 1, \"value\": 0.8062864569654167}, \"0.06925484735830745\": {\"frequency\": 1, \"value\": 0.06925484735830745}, \"0.5074947068155429\": {\"frequency\": 1, \"value\": 0.5074947068155429}, \"0.6771323885999929\": {\"frequency\": 1, \"value\": 0.6771323885999929}, \"1.2583184666716414\": {\"frequency\": 1, \"value\": 1.2583184666716414}, \"0.5206369767873423\": {\"frequency\": 1, \"value\": 0.5206369767873423}, \"0.9725327714619182\": {\"frequency\": 1, \"value\": 0.9725327714619182}, \"0.03784345242572362\": {\"frequency\": 1, \"value\": 0.03784345242572362}, \"0.5032210621015106\": {\"frequency\": 1, \"value\": 0.5032210621015106}, \"0.6641664794855865\": {\"frequency\": 1, \"value\": 0.6641664794855865}, \"1.0789170876841117\": {\"frequency\": 1, \"value\": 1.0789170876841117}, \"1.4426475201780748\": {\"frequency\": 1, \"value\": 1.4426475201780748}, \"2.083377965210713\": {\"frequency\": 1, \"value\": 2.083377965210713}, \"1.1531453802666536\": {\"frequency\": 1, \"value\": 1.1531453802666536}, \"0.96870196489659\": {\"frequency\": 1, \"value\": 0.96870196489659}, \"1.541462981358355\": {\"frequency\": 1, \"value\": 1.541462981358355}, \"1.7443343070143789\": {\"frequency\": 1, \"value\": 1.7443343070143789}, \"0.9069031440461225\": {\"frequency\": 1, \"value\": 0.9069031440461225}, \"0.7478416403901824\": {\"frequency\": 1, \"value\": 0.7478416403901824}, \"0.7792666425862629\": {\"frequency\": 1, \"value\": 0.7792666425862629}, \"0.6946058814016055\": {\"frequency\": 1, \"value\": 0.6946058814016055}, \"1.1760717598627646\": {\"frequency\": 1, \"value\": 1.1760717598627646}, \"1.2461844725514128\": {\"frequency\": 1, \"value\": 1.2461844725514128}, \"1.1396147115658954\": {\"frequency\": 1, \"value\": 1.1396147115658954}, \"1.388255380597065\": {\"frequency\": 1, \"value\": 1.388255380597065}, \"0.11103580284125503\": {\"frequency\": 1, \"value\": 0.11103580284125503}, \"0.43848303615873313\": {\"frequency\": 1, \"value\": 0.43848303615873313}, \"0.8289631154338584\": {\"frequency\": 1, \"value\": 0.8289631154338584}, \"1.2493421138355039\": {\"frequency\": 1, \"value\": 1.2493421138355039}, \"1.1460219987314224\": {\"frequency\": 1, \"value\": 1.1460219987314224}, \"0.5873394815098604\": {\"frequency\": 1, \"value\": 0.5873394815098604}, \"0.3824118790235014\": {\"frequency\": 1, \"value\": 0.3824118790235014}, \"0.7379065405326081\": {\"frequency\": 1, \"value\": 0.7379065405326081}, \"1.176193421621736\": {\"frequency\": 1, \"value\": 1.176193421621736}, \"0.28619878216234385\": {\"frequency\": 1, \"value\": 0.28619878216234385}, \"1.0706450485448058\": {\"frequency\": 1, \"value\": 1.0706450485448058}, \"0.5261255287758188\": {\"frequency\": 1, \"value\": 0.5261255287758188}, \"0.986179688633708\": {\"frequency\": 1, \"value\": 0.986179688633708}, \"0.904747828139921\": {\"frequency\": 1, \"value\": 0.904747828139921}, \"1.6336033047342984\": {\"frequency\": 1, \"value\": 1.6336033047342984}, \"1.6759230819203217\": {\"frequency\": 1, \"value\": 1.6759230819203217}, \"0.8192465878883248\": {\"frequency\": 1, \"value\": 0.8192465878883248}, \"1.2471325138528606\": {\"frequency\": 1, \"value\": 1.2471325138528606}, \"0.9563072801815742\": {\"frequency\": 1, \"value\": 0.9563072801815742}, \"0.9853685990752146\": {\"frequency\": 1, \"value\": 0.9853685990752146}, \"1.12512944505632\": {\"frequency\": 1, \"value\": 1.12512944505632}, \"0.818096989656238\": {\"frequency\": 1, \"value\": 0.818096989656238}, \"0.9075702393767615\": {\"frequency\": 1, \"value\": 0.9075702393767615}, \"1.4635255286394608\": {\"frequency\": 1, \"value\": 1.4635255286394608}, \"0.6244708287942243\": {\"frequency\": 1, \"value\": 0.6244708287942243}, \"1.1889736715080617\": {\"frequency\": 1, \"value\": 1.1889736715080617}, \"0.7522841727414086\": {\"frequency\": 1, \"value\": 0.7522841727414086}, \"0.45493120166833645\": {\"frequency\": 1, \"value\": 0.45493120166833645}, \"1.3996223247095059\": {\"frequency\": 1, \"value\": 1.3996223247095059}, \"0.5879076825286047\": {\"frequency\": 1, \"value\": 0.5879076825286047}, \"1.235181481892747\": {\"frequency\": 1, \"value\": 1.235181481892747}, \"0.9621182828180918\": {\"frequency\": 1, \"value\": 0.9621182828180918}, \"0.9558986594063776\": {\"frequency\": 1, \"value\": 0.9558986594063776}, \"2.9779096452479883\": {\"frequency\": 1, \"value\": 2.9779096452479883}, \"0.7110668631299736\": {\"frequency\": 1, \"value\": 0.7110668631299736}, \"0.8616112687666901\": {\"frequency\": 1, \"value\": 0.8616112687666901}, \"0.9489127637542015\": {\"frequency\": 1, \"value\": 0.9489127637542015}, \"1.4216230413457431\": {\"frequency\": 1, \"value\": 1.4216230413457431}, \"1.0823615140094691\": {\"frequency\": 1, \"value\": 1.0823615140094691}, \"1.2399099436810754\": {\"frequency\": 1, \"value\": 1.2399099436810754}, \"1.2823327170435166\": {\"frequency\": 1, \"value\": 1.2823327170435166}, \"0.7426520838387132\": {\"frequency\": 1, \"value\": 0.7426520838387132}, \"1.3877108809092247\": {\"frequency\": 1, \"value\": 1.3877108809092247}, \"0.7838639390331266\": {\"frequency\": 1, \"value\": 0.7838639390331266}, \"0.6880048917365749\": {\"frequency\": 1, \"value\": 0.6880048917365749}, \"1.2982233436337767\": {\"frequency\": 1, \"value\": 1.2982233436337767}, \"2.6096712927645638\": {\"frequency\": 1, \"value\": 2.6096712927645638}, \"0.25656364175630586\": {\"frequency\": 1, \"value\": 0.25656364175630586}, \"0.9730841391835995\": {\"frequency\": 1, \"value\": 0.9730841391835995}, \"0.9442595729872902\": {\"frequency\": 1, \"value\": 0.9442595729872902}, \"1.740145543461781\": {\"frequency\": 1, \"value\": 1.740145543461781}, \"1.3309496458588788\": {\"frequency\": 1, \"value\": 1.3309496458588788}, \"0.4386493308762278\": {\"frequency\": 1, \"value\": 0.4386493308762278}, \"0.6970350066312382\": {\"frequency\": 1, \"value\": 0.6970350066312382}, \"0.8413447663754683\": {\"frequency\": 1, \"value\": 0.8413447663754683}, \"0.6157044711830504\": {\"frequency\": 1, \"value\": 0.6157044711830504}, \"0.8665143797502982\": {\"frequency\": 1, \"value\": 0.8665143797502982}, \"0.7985901191749061\": {\"frequency\": 1, \"value\": 0.7985901191749061}, \"0.23764036507211372\": {\"frequency\": 1, \"value\": 0.23764036507211372}, \"0.13582912828018823\": {\"frequency\": 1, \"value\": 0.13582912828018823}, \"1.1470211715233725\": {\"frequency\": 1, \"value\": 1.1470211715233725}, \"0.7452644409995363\": {\"frequency\": 1, \"value\": 0.7452644409995363}, \"0.936954442381488\": {\"frequency\": 1, \"value\": 0.936954442381488}, \"1.2443698736314628\": {\"frequency\": 1, \"value\": 1.2443698736314628}, \"0.8309997967479112\": {\"frequency\": 1, \"value\": 0.8309997967479112}, \"0.6242181722995975\": {\"frequency\": 1, \"value\": 0.6242181722995975}, \"1.073842420105174\": {\"frequency\": 1, \"value\": 1.073842420105174}, \"0.9857892470572129\": {\"frequency\": 1, \"value\": 0.9857892470572129}, \"0.4623660811651602\": {\"frequency\": 1, \"value\": 0.4623660811651602}, \"0.9889137299808816\": {\"frequency\": 1, \"value\": 0.9889137299808816}, \"1.1249121804053974\": {\"frequency\": 1, \"value\": 1.1249121804053974}, \"2.3170889235981793\": {\"frequency\": 1, \"value\": 2.3170889235981793}, \"0.31221483235124703\": {\"frequency\": 1, \"value\": 0.31221483235124703}, \"0.6685018224397603\": {\"frequency\": 1, \"value\": 0.6685018224397603}, \"1.2183989860493796\": {\"frequency\": 1, \"value\": 1.2183989860493796}, \"0.8340913959505974\": {\"frequency\": 1, \"value\": 0.8340913959505974}, \"2.052372822803553\": {\"frequency\": 1, \"value\": 2.052372822803553}, \"1.065157838135749\": {\"frequency\": 1, \"value\": 1.065157838135749}, \"1.0777991537383396\": {\"frequency\": 1, \"value\": 1.0777991537383396}, \"0.4520269522313744\": {\"frequency\": 1, \"value\": 0.4520269522313744}, \"1.1649055072150691\": {\"frequency\": 1, \"value\": 1.1649055072150691}, \"0.47834181248334473\": {\"frequency\": 1, \"value\": 0.47834181248334473}, \"1.02971264409455\": {\"frequency\": 1, \"value\": 1.02971264409455}, \"1.6486882849682343\": {\"frequency\": 1, \"value\": 1.6486882849682343}, \"0.4890575334086993\": {\"frequency\": 1, \"value\": 0.4890575334086993}, \"1.5962028213495696\": {\"frequency\": 1, \"value\": 1.5962028213495696}, \"1.3773717600333062\": {\"frequency\": 1, \"value\": 1.3773717600333062}, \"1.0122976053499895\": {\"frequency\": 1, \"value\": 1.0122976053499895}, \"0.8085572610908641\": {\"frequency\": 1, \"value\": 0.8085572610908641}, \"0.5857477110824187\": {\"frequency\": 1, \"value\": 0.5857477110824187}, \"1.3138131983801702\": {\"frequency\": 1, \"value\": 1.3138131983801702}, \"1.0978221881549528\": {\"frequency\": 1, \"value\": 1.0978221881549528}}, \"mean\": 0.9568715297200324}}, \"selected_variable\": {\"name\": [\"<SFrame>\"], \"descriptives\": {\"rows\": 2057, \"columns\": 3}, \"view_component\": \"Summary\", \"view_file\": \"sframe\", \"view_params\": {\"y\": null, \"x\": null, \"columns\": [\"movie_id\", \"count\", \"rmse\"], \"view\": null}, \"view_components\": [\"Summary\", \"Table\", \"Bar Chart\", \"BoxWhisker Plot\", \"Line Chart\", \"Scatter Plot\", \"Heat Map\", \"Plots\"], \"type\": \"SFrame\", \"columns\": [{\"dtype\": \"int\", \"name\": \"movie_id\"}, {\"dtype\": \"int\", \"name\": \"count\"}, {\"dtype\": \"float\", \"name\": \"rmse\"}], \"column_identifiers\": [\"count\", \"movie_id\", \"rmse\"]}, \"columns\": [{\"dtype\": \"int\", \"name\": \"movie_id\"}, {\"dtype\": \"int\", \"name\": \"count\"}, {\"dtype\": \"float\", \"name\": \"rmse\"}]}, e);\n",
       "                });\n",
       "            })();\n",
       "        "
      ]
     },
     "metadata": {},
     "output_type": "display_data"
    }
   ],
   "source": [
    "results[0]['rmse_by_item'].show()"
   ]
  },
  {
   "cell_type": "code",
   "execution_count": 36,
   "metadata": {
    "collapsed": false
   },
   "outputs": [
    {
     "name": "stdout",
     "output_type": "stream",
     "text": [
      "compare_models: using 183 users to estimate model performance\n",
      "PROGRESS: Evaluate model M0\n",
      "\n",
      "Precision and recall summary statistics by cutoff\n",
      "+--------+----------------+-----------------+\n",
      "| cutoff | mean_precision |   mean_recall   |\n",
      "+--------+----------------+-----------------+\n",
      "|   1    | 0.158469945355 | 0.0235039678346 |\n",
      "|   2    | 0.155737704918 | 0.0367981705878 |\n",
      "|   3    | 0.136612021858 | 0.0436527349676 |\n",
      "|   4    | 0.137978142077 | 0.0577237401993 |\n",
      "|   5    | 0.136612021858 | 0.0723710331936 |\n",
      "|   6    | 0.125683060109 | 0.0842016591703 |\n",
      "|   7    | 0.124902419984 |  0.101563633319 |\n",
      "|   8    | 0.118852459016 |  0.109983711543 |\n",
      "|   9    | 0.114754098361 |  0.11908895883  |\n",
      "|   10   | 0.111475409836 |  0.128536481539 |\n",
      "+--------+----------------+-----------------+\n",
      "[10 rows x 3 columns]\n",
      "\n",
      "PROGRESS: Evaluate model M1\n",
      "\n",
      "Precision and recall summary statistics by cutoff\n",
      "+--------+----------------+-----------------+\n",
      "| cutoff | mean_precision |   mean_recall   |\n",
      "+--------+----------------+-----------------+\n",
      "|   1    | 0.245901639344 | 0.0538736282089 |\n",
      "|   2    | 0.234972677596 | 0.0758295229523 |\n",
      "|   3    | 0.23679417122  |  0.101520870674 |\n",
      "|   4    | 0.225409836066 |  0.12569838792  |\n",
      "|   5    | 0.209836065574 |  0.142998857028 |\n",
      "|   6    | 0.192167577413 |  0.155246605969 |\n",
      "|   7    | 0.183450429352 |  0.174214946795 |\n",
      "|   8    | 0.176229508197 |  0.190227369104 |\n",
      "|   9    | 0.165148755313 |  0.200596309693 |\n",
      "|   10   | 0.158469945355 |  0.210908575339 |\n",
      "+--------+----------------+-----------------+\n",
      "[10 rows x 3 columns]\n",
      "\n"
     ]
    },
    {
     "data": {
      "text/plain": [
       "[{'precision_recall_by_user': Columns:\n",
       "  \tuser_id\tint\n",
       "  \tcutoff\tint\n",
       "  \tprecision\tfloat\n",
       "  \trecall\tfloat\n",
       "  \tcount\tint\n",
       "  \n",
       "  Rows: 3294\n",
       "  \n",
       "  Data:\n",
       "  +---------+--------+-----------+--------+-------+\n",
       "  | user_id | cutoff | precision | recall | count |\n",
       "  +---------+--------+-----------+--------+-------+\n",
       "  |    3    |   1    |    0.0    |  0.0   |   2   |\n",
       "  |    3    |   2    |    0.0    |  0.0   |   2   |\n",
       "  |    3    |   3    |    0.0    |  0.0   |   2   |\n",
       "  |    3    |   4    |    0.0    |  0.0   |   2   |\n",
       "  |    3    |   5    |    0.0    |  0.0   |   2   |\n",
       "  |    3    |   6    |    0.0    |  0.0   |   2   |\n",
       "  |    3    |   7    |    0.0    |  0.0   |   2   |\n",
       "  |    3    |   8    |    0.0    |  0.0   |   2   |\n",
       "  |    3    |   9    |    0.0    |  0.0   |   2   |\n",
       "  |    3    |   10   |    0.0    |  0.0   |   2   |\n",
       "  +---------+--------+-----------+--------+-------+\n",
       "  [3294 rows x 5 columns]\n",
       "  Note: Only the head of the SFrame is printed.\n",
       "  You can use print_rows(num_rows=m, num_columns=n) to print more rows and columns.,\n",
       "  'precision_recall_overall': Columns:\n",
       "  \tcutoff\tint\n",
       "  \tprecision\tfloat\n",
       "  \trecall\tfloat\n",
       "  \n",
       "  Rows: 18\n",
       "  \n",
       "  Data:\n",
       "  +--------+----------------+-----------------+\n",
       "  | cutoff |   precision    |      recall     |\n",
       "  +--------+----------------+-----------------+\n",
       "  |   1    | 0.158469945355 | 0.0235039678346 |\n",
       "  |   2    | 0.155737704918 | 0.0367981705878 |\n",
       "  |   3    | 0.136612021858 | 0.0436527349676 |\n",
       "  |   4    | 0.137978142077 | 0.0577237401993 |\n",
       "  |   5    | 0.136612021858 | 0.0723710331936 |\n",
       "  |   6    | 0.125683060109 | 0.0842016591703 |\n",
       "  |   7    | 0.124902419984 |  0.101563633319 |\n",
       "  |   8    | 0.118852459016 |  0.109983711543 |\n",
       "  |   9    | 0.114754098361 |  0.11908895883  |\n",
       "  |   10   | 0.111475409836 |  0.128536481539 |\n",
       "  +--------+----------------+-----------------+\n",
       "  [18 rows x 3 columns]\n",
       "  Note: Only the head of the SFrame is printed.\n",
       "  You can use print_rows(num_rows=m, num_columns=n) to print more rows and columns.},\n",
       " {'precision_recall_by_user': Columns:\n",
       "  \tuser_id\tint\n",
       "  \tcutoff\tint\n",
       "  \tprecision\tfloat\n",
       "  \trecall\tfloat\n",
       "  \tcount\tint\n",
       "  \n",
       "  Rows: 3294\n",
       "  \n",
       "  Data:\n",
       "  +---------+--------+-----------+--------+-------+\n",
       "  | user_id | cutoff | precision | recall | count |\n",
       "  +---------+--------+-----------+--------+-------+\n",
       "  |    3    |   1    |    0.0    |  0.0   |   2   |\n",
       "  |    3    |   2    |    0.0    |  0.0   |   2   |\n",
       "  |    3    |   3    |    0.0    |  0.0   |   2   |\n",
       "  |    3    |   4    |    0.0    |  0.0   |   2   |\n",
       "  |    3    |   5    |    0.0    |  0.0   |   2   |\n",
       "  |    3    |   6    |    0.0    |  0.0   |   2   |\n",
       "  |    3    |   7    |    0.0    |  0.0   |   2   |\n",
       "  |    3    |   8    |    0.0    |  0.0   |   2   |\n",
       "  |    3    |   9    |    0.0    |  0.0   |   2   |\n",
       "  |    3    |   10   |    0.0    |  0.0   |   2   |\n",
       "  +---------+--------+-----------+--------+-------+\n",
       "  [3294 rows x 5 columns]\n",
       "  Note: Only the head of the SFrame is printed.\n",
       "  You can use print_rows(num_rows=m, num_columns=n) to print more rows and columns.,\n",
       "  'precision_recall_overall': Columns:\n",
       "  \tcutoff\tint\n",
       "  \tprecision\tfloat\n",
       "  \trecall\tfloat\n",
       "  \n",
       "  Rows: 18\n",
       "  \n",
       "  Data:\n",
       "  +--------+----------------+-----------------+\n",
       "  | cutoff |   precision    |      recall     |\n",
       "  +--------+----------------+-----------------+\n",
       "  |   1    | 0.245901639344 | 0.0538736282089 |\n",
       "  |   2    | 0.234972677596 | 0.0758295229523 |\n",
       "  |   3    | 0.23679417122  |  0.101520870674 |\n",
       "  |   4    | 0.225409836066 |  0.12569838792  |\n",
       "  |   5    | 0.209836065574 |  0.142998857028 |\n",
       "  |   6    | 0.192167577413 |  0.155246605969 |\n",
       "  |   7    | 0.183450429352 |  0.174214946795 |\n",
       "  |   8    | 0.176229508197 |  0.190227369104 |\n",
       "  |   9    | 0.165148755313 |  0.200596309693 |\n",
       "  |   10   | 0.158469945355 |  0.210908575339 |\n",
       "  +--------+----------------+-----------------+\n",
       "  [18 rows x 3 columns]\n",
       "  Note: Only the head of the SFrame is printed.\n",
       "  You can use print_rows(num_rows=m, num_columns=n) to print more rows and columns.}]"
      ]
     },
     "execution_count": 36,
     "metadata": {},
     "output_type": "execute_result"
    }
   ],
   "source": [
    "graphlab.recommender.util.compare_models(test[test['rating'] > 4], \n",
    "                                    [m_rank, m_both], \n",
    "                                    user_sample=0.2, \n",
    "                                    metric='precision_recall')"
   ]
  },
  {
   "cell_type": "markdown",
   "metadata": {},
   "source": [
    "### Factorization machines"
   ]
  },
  {
   "cell_type": "code",
   "execution_count": null,
   "metadata": {
    "collapsed": false
   },
   "outputs": [],
   "source": [
    "fm = graphlab.recommender.create(train.head(10000), 'user_id', 'movie_id', 'rating',\n",
    "                                 method='factorization_model',\n",
    "                                 item_data=item_sf, \n",
    "                                 sgd_step_size=0.09,\n",
    "                                 max_iterations=10)"
   ]
  },
  {
   "cell_type": "code",
   "execution_count": null,
   "metadata": {
    "collapsed": false
   },
   "outputs": [],
   "source": []
  }
 ],
 "metadata": {
  "kernelspec": {
   "display_name": "Python 2",
   "language": "python",
   "name": "python2"
  },
  "language_info": {
   "codemirror_mode": {
    "name": "ipython",
    "version": 2
   },
   "file_extension": ".py",
   "mimetype": "text/x-python",
   "name": "python",
   "nbconvert_exporter": "python",
   "pygments_lexer": "ipython2",
   "version": "2.7.11"
  }
 },
 "nbformat": 4,
 "nbformat_minor": 0
}
