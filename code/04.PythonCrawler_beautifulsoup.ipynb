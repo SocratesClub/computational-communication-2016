{
 "cells": [
  {
   "cell_type": "markdown",
   "metadata": {
    "slideshow": {
     "slide_type": "slide"
    }
   },
   "source": [
    "***\n",
    "# 数据抓取：\n",
    "\n",
    "> # Beautifulsoup简介\n",
    "***\n",
    "\n",
    "王成军\n",
    "\n",
    "wangchengjun@nju.edu.cn\n",
    "\n",
    "计算传播网 http://computational-communication.com"
   ]
  },
  {
   "cell_type": "markdown",
   "metadata": {
    "slideshow": {
     "slide_type": "slide"
    }
   },
   "source": [
    "# 需要解决的问题 \n",
    "\n",
    "- 页面解析\n",
    "- 获取Javascript隐藏源数据\n",
    "- 自动翻页\n",
    "- 自动登录\n",
    "- 连接API接口\n"
   ]
  },
  {
   "cell_type": "code",
   "execution_count": 2,
   "metadata": {
    "collapsed": true,
    "slideshow": {
     "slide_type": "slide"
    }
   },
   "outputs": [],
   "source": [
    "import urllib2\n",
    "from bs4 import BeautifulSoup"
   ]
  },
  {
   "cell_type": "markdown",
   "metadata": {
    "slideshow": {
     "slide_type": "fragment"
    }
   },
   "source": [
    "- 一般的数据抓取，使用urllib2和beautifulsoup配合就可以了。\n",
    "- 尤其是对于翻页时url出现规则变化的网页，只需要处理规则化的url就可以了。\n",
    "- 以简单的例子是抓取天涯论坛上关于某一个关键词的帖子。\n",
    "    - 在天涯论坛，关于雾霾的帖子的第一页是：\n",
    "http://bbs.tianya.cn/list.jsp?item=free&nextid=0&order=8&k=雾霾\n",
    "    - 第二页是：\n",
    "http://bbs.tianya.cn/list.jsp?item=free&nextid=1&order=8&k=雾霾\n"
   ]
  },
  {
   "cell_type": "markdown",
   "metadata": {
    "slideshow": {
     "slide_type": "slide"
    }
   },
   "source": [
    "# Beautiful Soup\n",
    "> Beautiful Soup is a Python library designed for quick turnaround projects like screen-scraping. Three features make it powerful:\n",
    "\n",
    "- Beautiful Soup provides a few simple methods. It doesn't take much code to write an application\n",
    "- Beautiful Soup automatically converts incoming documents to Unicode and outgoing documents to UTF-8. Then you just have to specify the original encoding.\n",
    "- Beautiful Soup sits on top of popular Python parsers like lxml and html5lib.\n"
   ]
  },
  {
   "cell_type": "markdown",
   "metadata": {
    "slideshow": {
     "slide_type": "subslide"
    }
   },
   "source": [
    "# Install beautifulsoup4\n",
    "\n",
    "### open your terminal/cmd\n",
    "\n",
    "> $ pip install beautifulsoup4"
   ]
  },
  {
   "cell_type": "markdown",
   "metadata": {
    "slideshow": {
     "slide_type": "slide"
    }
   },
   "source": [
    "# 第一个爬虫\n",
    "\n",
    "Beautifulsoup Quick Start \n",
    "\n",
    "http://www.crummy.com/software/BeautifulSoup/bs4/doc/\n",
    "\n",
    "![](./img/bs.jpg)\n"
   ]
  },
  {
   "cell_type": "code",
   "execution_count": 51,
   "metadata": {
    "collapsed": false,
    "slideshow": {
     "slide_type": "fragment"
    }
   },
   "outputs": [
    {
     "data": {
      "text/plain": [
       "<html><head><title>The Dormouse's story</title></head>\\n<body>\\n<p class=\"title\"><b>The Dormouse's story</b></p>\\n<p class=\"story\">Once upon a time there were three little sisters; and their names were\\n<a class=\"sister\" href=\"http://example.com/elsie\" id=\"link1\">Elsie</a>,\\n<a class=\"sister\" href=\"http://example.com/lacie\" id=\"link2\">Lacie</a> and\\n<a class=\"sister\" href=\"http://example.com/tillie\" id=\"link3\">Tillie</a>;\\nand they lived at the bottom of a well.</p>\\n<p class=\"story\">...</p></body></html>"
      ]
     },
     "execution_count": 51,
     "metadata": {},
     "output_type": "execute_result"
    }
   ],
   "source": [
    "url = 'file:///Users/chengjun/GitHub/cjc2016/data/test.html'\n",
    "# http://computational-class.github.io/cjc2016/data/test.html\n",
    "content = urllib2.urlopen(url).read() \n",
    "soup = BeautifulSoup(content, 'html.parser') \n",
    "soup"
   ]
  },
  {
   "cell_type": "markdown",
   "metadata": {
    "slideshow": {
     "slide_type": "subslide"
    }
   },
   "source": [
    "# html.parser\n",
    "Beautiful Soup supports the html.parser included in Python’s standard library\n",
    "\n",
    "# lxml\n",
    "but it also supports a number of third-party Python parsers. One is the lxml parser `lxml`. Depending on your setup, you might install lxml with one of these commands:\n",
    "\n",
    "> $ apt-get install python-lxml\n",
    "\n",
    "> $ easy_install lxml\n",
    "\n",
    "> $ pip install lxml"
   ]
  },
  {
   "cell_type": "markdown",
   "metadata": {
    "slideshow": {
     "slide_type": "subslide"
    }
   },
   "source": [
    "# html5lib\n",
    "Another alternative is the pure-Python html5lib parser `html5lib`, which parses HTML the way a web browser does. Depending on your setup, you might install html5lib with one of these commands:\n",
    "\n",
    "> $ apt-get install python-html5lib\n",
    "\n",
    "> $ easy_install html5lib\n",
    "\n",
    "> $ pip install html5lib"
   ]
  },
  {
   "cell_type": "code",
   "execution_count": 52,
   "metadata": {
    "collapsed": false,
    "slideshow": {
     "slide_type": "subslide"
    }
   },
   "outputs": [
    {
     "name": "stdout",
     "output_type": "stream",
     "text": [
      "<html>\n",
      " <head>\n",
      "  <title>\n",
      "   The Dormouse's story\n",
      "  </title>\n",
      " </head>\n",
      " <body>\n",
      "  <p class=\"title\">\n",
      "   <b>\n",
      "    The Dormouse's story\n",
      "   </b>\n",
      "  </p>\n",
      "  <p class=\"story\">\n",
      "   Once upon a time there were three little sisters; and their names were\n",
      "   <a class=\"sister\" href=\"http://example.com/elsie\" id=\"link1\">\n",
      "    Elsie\n",
      "   </a>\n",
      "   ,\n",
      "   <a class=\"sister\" href=\"http://example.com/lacie\" id=\"link2\">\n",
      "    Lacie\n",
      "   </a>\n",
      "   and\n",
      "   <a class=\"sister\" href=\"http://example.com/tillie\" id=\"link3\">\n",
      "    Tillie\n",
      "   </a>\n",
      "   ;\n",
      "and they lived at the bottom of a well.\n",
      "  </p>\n",
      "  <p class=\"story\">\n",
      "   ...\n",
      "  </p>\n",
      " </body>\n",
      "</html>\n"
     ]
    }
   ],
   "source": [
    "print(soup.prettify())"
   ]
  },
  {
   "cell_type": "markdown",
   "metadata": {
    "slideshow": {
     "slide_type": "subslide"
    }
   },
   "source": [
    "- html\n",
    "    - head\n",
    "        - title\n",
    "    - body\n",
    "        - p (class = 'title', 'story' )\n",
    "            - a (class = 'sister')\n",
    "                - href/id"
   ]
  },
  {
   "cell_type": "markdown",
   "metadata": {},
   "source": [
    "# Select 方法"
   ]
  },
  {
   "cell_type": "code",
   "execution_count": 69,
   "metadata": {
    "collapsed": false
   },
   "outputs": [
    {
     "data": {
      "text/plain": [
       "[<a class=\"sister\" href=\"http://example.com/elsie\" id=\"link1\">Elsie</a>,\n",
       " <a class=\"sister\" href=\"http://example.com/lacie\" id=\"link2\">Lacie</a>,\n",
       " <a class=\"sister\" href=\"http://example.com/tillie\" id=\"link3\">Tillie</a>]"
      ]
     },
     "execution_count": 69,
     "metadata": {},
     "output_type": "execute_result"
    }
   ],
   "source": [
    "soup.select('.sister')"
   ]
  },
  {
   "cell_type": "code",
   "execution_count": 68,
   "metadata": {
    "collapsed": false
   },
   "outputs": [
    {
     "data": {
      "text/plain": [
       "[<p class=\"story\">Once upon a time there were three little sisters; and their names were\\n<a class=\"sister\" href=\"http://example.com/elsie\" id=\"link1\">Elsie</a>,\\n<a class=\"sister\" href=\"http://example.com/lacie\" id=\"link2\">Lacie</a> and\\n<a class=\"sister\" href=\"http://example.com/tillie\" id=\"link3\">Tillie</a>;\\nand they lived at the bottom of a well.</p>,\n",
       " <p class=\"story\">...</p>]"
      ]
     },
     "execution_count": 68,
     "metadata": {},
     "output_type": "execute_result"
    }
   ],
   "source": [
    "soup.select('.story')"
   ]
  },
  {
   "cell_type": "code",
   "execution_count": 57,
   "metadata": {
    "collapsed": false
   },
   "outputs": [
    {
     "data": {
      "text/plain": [
       "[<a class=\"sister\" href=\"http://example.com/lacie\" id=\"link2\">Lacie</a>]"
      ]
     },
     "execution_count": 57,
     "metadata": {},
     "output_type": "execute_result"
    }
   ],
   "source": [
    "soup.select('#link2')"
   ]
  },
  {
   "cell_type": "code",
   "execution_count": 67,
   "metadata": {
    "collapsed": false
   },
   "outputs": [
    {
     "data": {
      "text/plain": [
       "u'http://example.com/lacie'"
      ]
     },
     "execution_count": 67,
     "metadata": {},
     "output_type": "execute_result"
    }
   ],
   "source": [
    "soup.select('#link2')[0]['href']"
   ]
  },
  {
   "cell_type": "markdown",
   "metadata": {},
   "source": [
    "# find_all方法"
   ]
  },
  {
   "cell_type": "code",
   "execution_count": 4,
   "metadata": {
    "collapsed": false
   },
   "outputs": [
    {
     "data": {
      "text/plain": [
       "[<p class=\"title\"><b>The Dormouse's story</b></p>,\n",
       " <p class=\"story\">Once upon a time there were three little sisters; and their names were\\n<a class=\"sister\" href=\"http://example.com/elsie\" id=\"link1\">Elsie</a>,\\n<a class=\"sister\" href=\"http://example.com/lacie\" id=\"link2\">Lacie</a> and\\n<a class=\"sister\" href=\"http://example.com/tillie\" id=\"link3\">Tillie</a>;\\nand they lived at the bottom of a well.</p>,\n",
       " <p class=\"story\">...</p>]"
      ]
     },
     "execution_count": 4,
     "metadata": {},
     "output_type": "execute_result"
    }
   ],
   "source": [
    "soup('p')"
   ]
  },
  {
   "cell_type": "code",
   "execution_count": 5,
   "metadata": {
    "collapsed": false
   },
   "outputs": [
    {
     "data": {
      "text/plain": [
       "[<p class=\"title\"><b>The Dormouse's story</b></p>,\n",
       " <p class=\"story\">Once upon a time there were three little sisters; and their names were\\n<a class=\"sister\" href=\"http://example.com/elsie\" id=\"link1\">Elsie</a>,\\n<a class=\"sister\" href=\"http://example.com/lacie\" id=\"link2\">Lacie</a> and\\n<a class=\"sister\" href=\"http://example.com/tillie\" id=\"link3\">Tillie</a>;\\nand they lived at the bottom of a well.</p>,\n",
       " <p class=\"story\">...</p>]"
      ]
     },
     "execution_count": 5,
     "metadata": {},
     "output_type": "execute_result"
    }
   ],
   "source": [
    "soup.find_all('p')"
   ]
  },
  {
   "cell_type": "code",
   "execution_count": 10,
   "metadata": {
    "collapsed": false
   },
   "outputs": [
    {
     "data": {
      "text/plain": [
       "[u\"The Dormouse's story\",\n",
       " u'Once upon a time there were three little sisters; and their names were\\nElsie,\\nLacie and\\nTillie;\\nand they lived at the bottom of a well.',\n",
       " u'...']"
      ]
     },
     "execution_count": 10,
     "metadata": {},
     "output_type": "execute_result"
    }
   ],
   "source": [
    "[i.text for i in soup('p')]"
   ]
  },
  {
   "cell_type": "code",
   "execution_count": 11,
   "metadata": {
    "collapsed": false
   },
   "outputs": [
    {
     "name": "stdout",
     "output_type": "stream",
     "text": [
      "The Dormouse's story\n",
      "Once upon a time there were three little sisters; and their names were\n",
      "Elsie,\n",
      "Lacie and\n",
      "Tillie;\n",
      "and they lived at the bottom of a well.\n",
      "...\n"
     ]
    }
   ],
   "source": [
    "for i in soup('p'):\n",
    "    print i.text"
   ]
  },
  {
   "cell_type": "code",
   "execution_count": 72,
   "metadata": {
    "collapsed": false,
    "slideshow": {
     "slide_type": "subslide"
    }
   },
   "outputs": [
    {
     "name": "stdout",
     "output_type": "stream",
     "text": [
      "html\n",
      "head\n",
      "title\n",
      "body\n",
      "p\n",
      "b\n",
      "p\n",
      "a\n",
      "a\n",
      "a\n",
      "p\n"
     ]
    }
   ],
   "source": [
    "for tag in soup.find_all(True):\n",
    "    print(tag.name)"
   ]
  },
  {
   "cell_type": "code",
   "execution_count": 58,
   "metadata": {
    "collapsed": false,
    "slideshow": {
     "slide_type": "subslide"
    }
   },
   "outputs": [
    {
     "data": {
      "text/plain": [
       "[<head><title>The Dormouse's story</title></head>]"
      ]
     },
     "execution_count": 58,
     "metadata": {},
     "output_type": "execute_result"
    }
   ],
   "source": [
    "soup('head') # or soup.head"
   ]
  },
  {
   "cell_type": "code",
   "execution_count": 59,
   "metadata": {
    "collapsed": false,
    "slideshow": {
     "slide_type": "fragment"
    }
   },
   "outputs": [
    {
     "data": {
      "text/plain": [
       "[<body>\\n<p class=\"title\"><b>The Dormouse's story</b></p>\\n<p class=\"story\">Once upon a time there were three little sisters; and their names were\\n<a class=\"sister\" href=\"http://example.com/elsie\" id=\"link1\">Elsie</a>,\\n<a class=\"sister\" href=\"http://example.com/lacie\" id=\"link2\">Lacie</a> and\\n<a class=\"sister\" href=\"http://example.com/tillie\" id=\"link3\">Tillie</a>;\\nand they lived at the bottom of a well.</p>\\n<p class=\"story\">...</p></body>]"
      ]
     },
     "execution_count": 59,
     "metadata": {},
     "output_type": "execute_result"
    }
   ],
   "source": [
    "soup('body') # or soup.body"
   ]
  },
  {
   "cell_type": "code",
   "execution_count": 29,
   "metadata": {
    "collapsed": false,
    "slideshow": {
     "slide_type": "fragment"
    }
   },
   "outputs": [
    {
     "data": {
      "text/plain": [
       "[<title>The Dormouse's story</title>]"
      ]
     },
     "execution_count": 29,
     "metadata": {},
     "output_type": "execute_result"
    }
   ],
   "source": [
    "soup('title')  # or  soup.title"
   ]
  },
  {
   "cell_type": "code",
   "execution_count": 60,
   "metadata": {
    "collapsed": false,
    "slideshow": {
     "slide_type": "fragment"
    }
   },
   "outputs": [
    {
     "data": {
      "text/plain": [
       "[<p class=\"title\"><b>The Dormouse's story</b></p>,\n",
       " <p class=\"story\">Once upon a time there were three little sisters; and their names were\\n<a class=\"sister\" href=\"http://example.com/elsie\" id=\"link1\">Elsie</a>,\\n<a class=\"sister\" href=\"http://example.com/lacie\" id=\"link2\">Lacie</a> and\\n<a class=\"sister\" href=\"http://example.com/tillie\" id=\"link3\">Tillie</a>;\\nand they lived at the bottom of a well.</p>,\n",
       " <p class=\"story\">...</p>]"
      ]
     },
     "execution_count": 60,
     "metadata": {},
     "output_type": "execute_result"
    }
   ],
   "source": [
    "soup('p')"
   ]
  },
  {
   "cell_type": "code",
   "execution_count": 62,
   "metadata": {
    "collapsed": false,
    "slideshow": {
     "slide_type": "fragment"
    }
   },
   "outputs": [
    {
     "data": {
      "text/plain": [
       "<p class=\"title\"><b>The Dormouse's story</b></p>"
      ]
     },
     "execution_count": 62,
     "metadata": {},
     "output_type": "execute_result"
    }
   ],
   "source": [
    "soup.p"
   ]
  },
  {
   "cell_type": "code",
   "execution_count": 30,
   "metadata": {
    "collapsed": false,
    "slideshow": {
     "slide_type": "subslide"
    }
   },
   "outputs": [
    {
     "data": {
      "text/plain": [
       "u'title'"
      ]
     },
     "execution_count": 30,
     "metadata": {},
     "output_type": "execute_result"
    }
   ],
   "source": [
    "soup.title.name"
   ]
  },
  {
   "cell_type": "code",
   "execution_count": 31,
   "metadata": {
    "collapsed": false,
    "slideshow": {
     "slide_type": "fragment"
    }
   },
   "outputs": [
    {
     "data": {
      "text/plain": [
       "u\"The Dormouse's story\""
      ]
     },
     "execution_count": 31,
     "metadata": {},
     "output_type": "execute_result"
    }
   ],
   "source": [
    "soup.title.string"
   ]
  },
  {
   "cell_type": "code",
   "execution_count": 48,
   "metadata": {
    "collapsed": false,
    "slideshow": {
     "slide_type": "fragment"
    }
   },
   "outputs": [
    {
     "data": {
      "text/plain": [
       "u\"The Dormouse's story\""
      ]
     },
     "execution_count": 48,
     "metadata": {},
     "output_type": "execute_result"
    }
   ],
   "source": [
    "soup.title.text\n",
    "# 推荐使用text方法"
   ]
  },
  {
   "cell_type": "code",
   "execution_count": 32,
   "metadata": {
    "collapsed": false,
    "slideshow": {
     "slide_type": "fragment"
    }
   },
   "outputs": [
    {
     "data": {
      "text/plain": [
       "u'head'"
      ]
     },
     "execution_count": 32,
     "metadata": {},
     "output_type": "execute_result"
    }
   ],
   "source": [
    "soup.title.parent.name"
   ]
  },
  {
   "cell_type": "code",
   "execution_count": 33,
   "metadata": {
    "collapsed": false,
    "slideshow": {
     "slide_type": "subslide"
    }
   },
   "outputs": [
    {
     "data": {
      "text/plain": [
       "<p class=\"title\"><b>The Dormouse's story</b></p>"
      ]
     },
     "execution_count": 33,
     "metadata": {},
     "output_type": "execute_result"
    }
   ],
   "source": [
    "soup.p"
   ]
  },
  {
   "cell_type": "code",
   "execution_count": 34,
   "metadata": {
    "collapsed": false,
    "slideshow": {
     "slide_type": "fragment"
    }
   },
   "outputs": [
    {
     "data": {
      "text/plain": [
       "[u'title']"
      ]
     },
     "execution_count": 34,
     "metadata": {},
     "output_type": "execute_result"
    }
   ],
   "source": [
    "soup.p['class']"
   ]
  },
  {
   "cell_type": "code",
   "execution_count": 50,
   "metadata": {
    "collapsed": false,
    "slideshow": {
     "slide_type": "fragment"
    }
   },
   "outputs": [
    {
     "data": {
      "text/plain": [
       "[<p class=\"title\"><b>The Dormouse's story</b></p>]"
      ]
     },
     "execution_count": 50,
     "metadata": {},
     "output_type": "execute_result"
    }
   ],
   "source": [
    "soup.find_all('p', {'class', 'title'})"
   ]
  },
  {
   "cell_type": "code",
   "execution_count": 78,
   "metadata": {
    "collapsed": false,
    "slideshow": {
     "slide_type": "fragment"
    }
   },
   "outputs": [
    {
     "data": {
      "text/plain": [
       "[<p class=\"title\"><b>The Dormouse's story</b></p>]"
      ]
     },
     "execution_count": 78,
     "metadata": {},
     "output_type": "execute_result"
    }
   ],
   "source": [
    "soup.find_all('p', class_= 'title')"
   ]
  },
  {
   "cell_type": "code",
   "execution_count": 49,
   "metadata": {
    "collapsed": false,
    "slideshow": {
     "slide_type": "fragment"
    }
   },
   "outputs": [
    {
     "data": {
      "text/plain": [
       "[<p class=\"story\">Once upon a time there were three little sisters; and their names were\\n<a class=\"sister\" href=\"http://example.com/elsie\" id=\"link1\">Elsie</a>,\\n<a class=\"sister\" href=\"http://example.com/lacie\" id=\"link2\">Lacie</a> and\\n<a class=\"sister\" href=\"http://example.com/tillie\" id=\"link3\">Tillie</a>;\\nand they lived at the bottom of a well.</p>,\n",
       " <p class=\"story\">...</p>]"
      ]
     },
     "execution_count": 49,
     "metadata": {},
     "output_type": "execute_result"
    }
   ],
   "source": [
    "soup.find_all('p', {'class', 'story'})"
   ]
  },
  {
   "cell_type": "code",
   "execution_count": 57,
   "metadata": {
    "collapsed": false,
    "slideshow": {
     "slide_type": "fragment"
    }
   },
   "outputs": [
    {
     "data": {
      "text/plain": [
       "[<a class=\"sister\" href=\"http://example.com/elsie\" id=\"link1\">Elsie</a>,\n",
       " <a class=\"sister\" href=\"http://example.com/lacie\" id=\"link2\">Lacie</a>,\n",
       " <a class=\"sister\" href=\"http://example.com/tillie\" id=\"link3\">Tillie</a>]"
      ]
     },
     "execution_count": 57,
     "metadata": {},
     "output_type": "execute_result"
    }
   ],
   "source": [
    "soup.find_all('p', {'class', 'story'})[0].find_all('a')"
   ]
  },
  {
   "cell_type": "code",
   "execution_count": 35,
   "metadata": {
    "collapsed": false,
    "slideshow": {
     "slide_type": "subslide"
    }
   },
   "outputs": [
    {
     "data": {
      "text/plain": [
       "<a class=\"sister\" href=\"http://example.com/elsie\" id=\"link1\">Elsie</a>"
      ]
     },
     "execution_count": 35,
     "metadata": {},
     "output_type": "execute_result"
    }
   ],
   "source": [
    "soup.a"
   ]
  },
  {
   "cell_type": "code",
   "execution_count": 79,
   "metadata": {
    "collapsed": false,
    "slideshow": {
     "slide_type": "fragment"
    }
   },
   "outputs": [
    {
     "data": {
      "text/plain": [
       "[<a class=\"sister\" href=\"http://example.com/elsie\" id=\"link1\">Elsie</a>,\n",
       " <a class=\"sister\" href=\"http://example.com/lacie\" id=\"link2\">Lacie</a>,\n",
       " <a class=\"sister\" href=\"http://example.com/tillie\" id=\"link3\">Tillie</a>]"
      ]
     },
     "execution_count": 79,
     "metadata": {},
     "output_type": "execute_result"
    }
   ],
   "source": [
    "soup('a')"
   ]
  },
  {
   "cell_type": "code",
   "execution_count": 37,
   "metadata": {
    "collapsed": false,
    "slideshow": {
     "slide_type": "fragment"
    }
   },
   "outputs": [
    {
     "data": {
      "text/plain": [
       "<a class=\"sister\" href=\"http://example.com/tillie\" id=\"link3\">Tillie</a>"
      ]
     },
     "execution_count": 37,
     "metadata": {},
     "output_type": "execute_result"
    }
   ],
   "source": [
    "soup.find(id=\"link3\")"
   ]
  },
  {
   "cell_type": "code",
   "execution_count": 36,
   "metadata": {
    "collapsed": false,
    "slideshow": {
     "slide_type": "fragment"
    }
   },
   "outputs": [
    {
     "data": {
      "text/plain": [
       "[<a class=\"sister\" href=\"http://example.com/elsie\" id=\"link1\">Elsie</a>,\n",
       " <a class=\"sister\" href=\"http://example.com/lacie\" id=\"link2\">Lacie</a>,\n",
       " <a class=\"sister\" href=\"http://example.com/tillie\" id=\"link3\">Tillie</a>]"
      ]
     },
     "execution_count": 36,
     "metadata": {},
     "output_type": "execute_result"
    }
   ],
   "source": [
    "soup.find_all('a')"
   ]
  },
  {
   "cell_type": "code",
   "execution_count": 80,
   "metadata": {
    "collapsed": false,
    "slideshow": {
     "slide_type": "fragment"
    }
   },
   "outputs": [
    {
     "data": {
      "text/plain": [
       "[<a class=\"sister\" href=\"http://example.com/elsie\" id=\"link1\">Elsie</a>,\n",
       " <a class=\"sister\" href=\"http://example.com/lacie\" id=\"link2\">Lacie</a>,\n",
       " <a class=\"sister\" href=\"http://example.com/tillie\" id=\"link3\">Tillie</a>]"
      ]
     },
     "execution_count": 80,
     "metadata": {},
     "output_type": "execute_result"
    }
   ],
   "source": [
    "soup.find_all('a', {'class', 'sister'}) # compare with soup.find_all('a')"
   ]
  },
  {
   "cell_type": "code",
   "execution_count": 81,
   "metadata": {
    "collapsed": false,
    "slideshow": {
     "slide_type": "subslide"
    }
   },
   "outputs": [
    {
     "data": {
      "text/plain": [
       "<a class=\"sister\" href=\"http://example.com/elsie\" id=\"link1\">Elsie</a>"
      ]
     },
     "execution_count": 81,
     "metadata": {},
     "output_type": "execute_result"
    }
   ],
   "source": [
    "soup.find_all('a', {'class', 'sister'})[0]"
   ]
  },
  {
   "cell_type": "code",
   "execution_count": 44,
   "metadata": {
    "collapsed": false,
    "slideshow": {
     "slide_type": "fragment"
    }
   },
   "outputs": [
    {
     "data": {
      "text/plain": [
       "u'Elsie'"
      ]
     },
     "execution_count": 44,
     "metadata": {},
     "output_type": "execute_result"
    }
   ],
   "source": [
    "soup.find_all('a', {'class', 'sister'})[0].text"
   ]
  },
  {
   "cell_type": "code",
   "execution_count": 46,
   "metadata": {
    "collapsed": false,
    "slideshow": {
     "slide_type": "fragment"
    }
   },
   "outputs": [
    {
     "data": {
      "text/plain": [
       "u'http://example.com/elsie'"
      ]
     },
     "execution_count": 46,
     "metadata": {},
     "output_type": "execute_result"
    }
   ],
   "source": [
    "soup.find_all('a', {'class', 'sister'})[0]['href']"
   ]
  },
  {
   "cell_type": "code",
   "execution_count": 47,
   "metadata": {
    "collapsed": false,
    "slideshow": {
     "slide_type": "fragment"
    }
   },
   "outputs": [
    {
     "data": {
      "text/plain": [
       "u'link1'"
      ]
     },
     "execution_count": 47,
     "metadata": {},
     "output_type": "execute_result"
    }
   ],
   "source": [
    "soup.find_all('a', {'class', 'sister'})[0]['id']"
   ]
  },
  {
   "cell_type": "code",
   "execution_count": 71,
   "metadata": {
    "collapsed": false,
    "slideshow": {
     "slide_type": "subslide"
    }
   },
   "outputs": [
    {
     "data": {
      "text/plain": [
       "[<b>The Dormouse's story</b>,\n",
       " <a class=\"sister\" href=\"http://example.com/elsie\" id=\"link1\">Elsie</a>,\n",
       " <a class=\"sister\" href=\"http://example.com/lacie\" id=\"link2\">Lacie</a>,\n",
       " <a class=\"sister\" href=\"http://example.com/tillie\" id=\"link3\">Tillie</a>]"
      ]
     },
     "execution_count": 71,
     "metadata": {},
     "output_type": "execute_result"
    }
   ],
   "source": [
    "soup.find_all([\"a\", \"b\"])"
   ]
  },
  {
   "cell_type": "code",
   "execution_count": 38,
   "metadata": {
    "collapsed": false,
    "slideshow": {
     "slide_type": "subslide"
    }
   },
   "outputs": [
    {
     "name": "stdout",
     "output_type": "stream",
     "text": [
      "The Dormouse's story\n",
      "\n",
      "The Dormouse's story\n",
      "Once upon a time there were three little sisters; and their names were\n",
      "Elsie,\n",
      "Lacie and\n",
      "Tillie;\n",
      "and they lived at the bottom of a well.\n",
      "...\n"
     ]
    }
   ],
   "source": [
    "print(soup.get_text())"
   ]
  },
  {
   "cell_type": "markdown",
   "metadata": {
    "slideshow": {
     "slide_type": "slide"
    }
   },
   "source": [
    "***\n",
    "***\n",
    "# 数据抓取：\n",
    "   > # 根据URL抓取微信公众号文章内容\n",
    "***\n",
    "***\n",
    "\n",
    "王成军\n",
    "\n",
    "wangchengjun@nju.edu.cn\n",
    "\n",
    "计算传播网 http://computational-communication.com\n"
   ]
  },
  {
   "cell_type": "code",
   "execution_count": 11,
   "metadata": {
    "collapsed": false,
    "slideshow": {
     "slide_type": "slide"
    }
   },
   "outputs": [
    {
     "data": {
      "text/html": [
       "<iframe src=http://mp.weixin.qq.com/s?__biz=MzA3MjQ5MTE3OA==&mid=206241627&idx=1&sn=471e59c6cf7c8dae452245dbea22c8f3&3rd=MzA3MDU4NTYzMw==&scene=6#rdwidth=500 height=500></iframe>"
      ],
      "text/plain": [
       "<IPython.core.display.HTML object>"
      ]
     },
     "execution_count": 11,
     "metadata": {},
     "output_type": "execute_result"
    }
   ],
   "source": [
    "from IPython.display import display_html, HTML\n",
    "HTML('<iframe src=http://mp.weixin.qq.com/s?__biz=MzA3MjQ5MTE3OA==&\\\n",
    "mid=206241627&idx=1&sn=471e59c6cf7c8dae452245dbea22c8f3&3rd=MzA3MDU4NTYzMw==&scene=6#rd\\\n",
    "width=500 height=500></iframe>')\n",
    "# the webpage we would like to crawl"
   ]
  },
  {
   "cell_type": "markdown",
   "metadata": {
    "slideshow": {
     "slide_type": "slide"
    }
   },
   "source": [
    "# 查看源代码\n",
    "\n",
    "# Inspect"
   ]
  },
  {
   "cell_type": "code",
   "execution_count": 38,
   "metadata": {
    "collapsed": true,
    "slideshow": {
     "slide_type": "subslide"
    }
   },
   "outputs": [],
   "source": [
    "url = \"http://mp.weixin.qq.com/s?__biz=MzA3MjQ5MTE3OA==&\\\n",
    "mid=206241627&idx=1&sn=471e59c6cf7c8dae452245dbea22c8f3&3rd=MzA3MDU4NTYzMw==&scene=6#rd\"\n",
    "content = urllib2.urlopen(url).read() #获取网页的html文本\n",
    "soup = BeautifulSoup(content, 'html.parser') "
   ]
  },
  {
   "cell_type": "code",
   "execution_count": 46,
   "metadata": {
    "collapsed": false,
    "slideshow": {
     "slide_type": "subslide"
    }
   },
   "outputs": [
    {
     "name": "stdout",
     "output_type": "stream",
     "text": [
      "点击上方“微议题排行榜”可以订阅哦！\n",
      "点击上方“微议题排行榜”可以订阅哦！\n",
      "\n",
      "点击上方“微议题排行榜”可以订阅哦！\n",
      "点击上方“微议题排行榜”可以订阅哦！\n",
      "点击上方“微议题排行榜”可以订阅哦！\n",
      "“微议题排行榜”\n",
      "导读2015年4月25日，尼泊尔发生8.1级地震，造成至少7000多人死亡，中国西藏、印度、孟加拉国、不丹等地均出现人员伤亡。尼泊尔地震后，祖国派出救援机接国人回家，这一“先撤”行为被大量报道，上演了一出霸道总裁不由分说爱国民的新闻。我们对“地震”中人的关注，远远小于国民尊严的保护。通过“撤离”速度来证明中国的影响力也显得有失妥当，灾难应急管理、救援和灾后重建能力才应是“地震”关注焦点。\n",
      "导读2015年4月25日，尼泊尔发生8.1级地震，造成至少7000多人死亡，中国西藏、印度、孟加拉国、不丹等地均出现人员伤亡。尼泊尔地震后，祖国派出救援机接国人回家，这一“先撤”行为被大量报道，上演了一出霸道总裁不由分说爱国民的新闻。我们对“地震”中人的关注，远远小于国民尊严的保护。通过“撤离”速度来证明中国的影响力也显得有失妥当，灾难应急管理、救援和灾后重建能力才应是“地震”关注焦点。\n",
      "导读\n",
      "导读\n",
      "2015年4月25日，尼泊尔发生8.1级地震，造成至少7000多人死亡，中国西藏、印度、孟加拉国、不丹等地均出现人员伤亡。尼泊尔地震后，祖国派出救援机接国人回家，这一“先撤”行为被大量报道，上演了一出霸道总裁不由分说爱国民的新闻。我们对“地震”中人的关注，远远小于国民尊严的保护。通过“撤离”速度来证明中国的影响力也显得有失妥当，灾难应急管理、救援和灾后重建能力才应是“地震”关注焦点。\n",
      "2015年4月25日，尼泊尔发生8.1级地震，造成至少7000多人死亡，中国西藏、印度、孟加拉国、不丹等地均出现人员伤亡。尼泊尔地震后，祖国派出救援机接国人回家，这一“先撤”行为被大量报道，上演了一出霸道总裁不由分说爱国民的新闻。我们对“地震”中人的关注，远远小于国民尊严的保护。通过“撤离”速度来证明中国的影响力也显得有失妥当，灾难应急管理、救援和灾后重建能力才应是“地震”关注焦点。\n",
      "2015年4月25日，尼泊尔发生8.1级地震，造成至少7000多人死亡，中国西藏、印度、孟加拉国、不丹等地均出现人员伤亡。尼泊尔地震后，祖国派出救援机接国人回家，这一“先撤”行为被大量报道，上演了一出霸道总裁不由分说爱国民的新闻。\n",
      "\n",
      "\n",
      "我们对“地震”中人的关注，远远小于国民尊严的保护。通过“撤离”速度来证明中国的影响力也显得有失妥当，灾难应急管理、救援和灾后重建能力才应是“地震”关注焦点。\n",
      "\n",
      "\n",
      "  热词图现 \n",
      "  \n",
      "\n",
      "\n",
      "\n",
      "\n",
      "\n",
      "\n",
      "热词图现\n",
      "热词图现\n",
      " \n",
      "\n",
      "\n",
      "\n",
      "\n",
      "\n",
      "\n",
      "本文以“地震”为关键词，选取了2015年4月10日至4月30日期间微议题TOP100阅读排行进行分析。根据微议题TOP100标题的词频统计，我们可以看出有关“地震”的话题最热词汇的有“尼泊尔”、“油价”、“发改委”。4月25日尼泊尔发生了8级地震，深受人们的关注。面对国外灾难性事件，微媒体的重心却转向“油价”、“发改委”、“祖国先撤”，致力于将世界重大事件与中国政府关联起来。\n",
      "\n",
      "\n",
      "本文以“地震”为关键词，选取了2015年4月10日至4月30日期间微议题TOP100阅读排行进行分析。根据微议题TOP100标题的词频统计，我们可以看出有关“地震”的话题最热词汇的有“尼泊尔”、“油价”、“发改委”。4月25日尼泊尔发生了8级地震，深受人们的关注。面对国外灾难性事件，微媒体的重心却转向“油价”、“发改委”、“祖国先撤”，致力于将世界重大事件与中国政府关联起来。\n",
      "\n",
      "\n",
      "  微议题演化趋势 \n",
      "  \n",
      "\n",
      "\n",
      "\n",
      "\n",
      "\n",
      "\n",
      "微议题演化趋势\n",
      "微议题演化趋势\n",
      " \n",
      "\n",
      "\n",
      "\n",
      "\n",
      "总文章数\n",
      "总文章数\n",
      "\n",
      "\n",
      "总阅读数\n",
      "总阅读数\n",
      "\n",
      "\n",
      "从4月10日到4月30日，有关“地震”议题出现三个峰值，分别是在4月15日内蒙古地震，20日台湾地震和25日尼泊尔地震。其中对台湾地震与内蒙古地震报道文章较少，而对尼泊尔地震却给予了极大的关注，无论是在文章量还是阅读量上都空前增多。内蒙古、台湾地震由于级数较小，关注少，议程时间也比较短，一般3天后就会淡出公共视野。而尼泊尔地震虽然接近性较差，但规模大，且衍生话题性较强，其讨论热度持续了一周以上。\n",
      "从4月10日到4月30日，有关“地震”议题出现三个峰值，分别是在4月15日内蒙古地震，20日台湾地震和25日尼泊尔地震。其中对台湾地震与内蒙古地震报道文章较少，而对尼泊尔地震却给予了极大的关注，无论是在文章量还是阅读量上都空前增多。内蒙古、台湾地震由于级数较小，关注少，议程时间也比较短，一般3天后就会淡出公共视野。而尼泊尔地震虽然接近性较差，但规模大，且衍生话题性较强，其讨论热度持续了一周以上。\n",
      "\n",
      "\n",
      "  议题分类 \n",
      "  \n",
      "\n",
      "\n",
      "\n",
      "\n",
      "\n",
      "\n",
      "议题分类\n",
      "议题分类\n",
      " \n",
      "\n",
      "\n",
      "\n",
      "\n",
      "\n",
      "\n",
      "如图，我们将此议题分为6大类。\n",
      "\n",
      "\n",
      "如图，我们将此议题分为6大类。\n",
      "\n",
      "\n",
      "1尼泊尔地震\n",
      "1尼泊尔地震\n",
      "1\n",
      "1\n",
      "尼泊尔地震\n",
      "尼泊尔地震\n",
      "尼泊尔地震\n",
      "这类文章是对4月25日尼泊尔地震的新闻报道，包括现场视频，地震强度、规模，损失程度、遇难人员介绍等。更进一步的，有对尼泊尔地震原因探析，认为其处在板块交界处，灾难是必然的。因尼泊尔是佛教圣地，也有从佛学角度解释地震的启示。\n",
      "这类文章是对4月25日尼泊尔地震的新闻报道，包括现场视频，地震强度、规模，损失程度、遇难人员介绍等。更进一步的，有对尼泊尔地震原因探析，认为其处在板块交界处，灾难是必然的。因尼泊尔是佛教圣地，也有从佛学角度解释地震的启示。\n",
      "\n",
      "\n",
      "2国内地震报道\n",
      "2国内地震报道\n",
      "2\n",
      "2\n",
      "国内地震报道\n",
      "国内地震报道\n",
      "国内地震报道\n",
      "主要是对10日内蒙古、甘肃、山西等地的地震，以及20日台湾地震的报道。偏重于对硬新闻的呈现，介绍地震范围、级数、伤亡情况，少数几篇是对甘肃地震的辟谣，称其只是微震。\n",
      "主要是对10日内蒙古、甘肃、山西等地的地震，以及20日台湾地震的报道。偏重于对硬新闻的呈现，介绍地震范围、级数、伤亡情况，少数几篇是对甘肃地震的辟谣，称其只是微震。\n",
      "\n",
      "\n",
      "3中国救援回应\n",
      "3中国救援回应\n",
      "3\n",
      "3\n",
      "中国救援回应\n",
      "中国救援回应\n",
      "中国救援回应\n",
      "地震救援的报道大多是与尼泊尔地震相关，并且80%的文章是中国政府做出迅速反应派出救援机接国人回家。以“中国人又先撤了”，来为祖国点赞。少数几篇是滴滴快的、腾讯基金、万达等为尼泊尔捐款的消息。\n",
      "地震救援的报道大多是与尼泊尔地震相关，并且80%的文章是中国政府做出迅速反应派出救援机接国人回家。以“中国人又先撤了”，来为祖国点赞。少数几篇是滴滴快的、腾讯基金、万达等为尼泊尔捐款的消息。\n",
      "\n",
      "\n",
      "4发改委与地震\n",
      "4发改委与地震\n",
      "4\n",
      "4\n",
      "发改委与地震\n",
      "发改委与地震\n",
      "发改委与地震\n",
      "这类文章内容相似，纯粹是对发改委的调侃。称其“预测”地震非常准确，只要一上调油价，便会发生地震。\n",
      "这类文章内容相似，纯粹是对发改委的调侃。称其“预测”地震非常准确，只要一上调油价，便会发生地震。\n",
      "\n",
      "\n",
      "5地震常识介绍\n",
      "5地震常识介绍\n",
      "5\n",
      "5\n",
      "地震常识介绍\n",
      "地震常识介绍\n",
      "地震常识介绍\n",
      "该类文章介绍全国地震带、地震频发地，地震逃生注意事项，“专家传受活命三角”，如何用手机自救等小常识。\n",
      "该类文章介绍全国地震带、地震频发地，地震逃生注意事项，“专家传受活命三角”，如何用手机自救等小常识。\n",
      "\n",
      "\n",
      "6地震中的故事\n",
      "6地震中的故事\n",
      "6\n",
      "6\n",
      "地震中的故事\n",
      "地震中的故事\n",
      "地震中的故事\n",
      "讲述地震中的感人瞬间，回忆汶川地震中的故事，传递“：地震无情，人间有情”的正能量。\n",
      "讲述地震中的感人瞬间，回忆汶川地震中的故事，传递“：地震无情，人间有情”的正能量。\n",
      "\n",
      "\n",
      "\n",
      "\n",
      "\n",
      "\n",
      "\n",
      " 国内外地震关注差异大\n",
      " 国内外地震关注差异大\n",
      " \n",
      " \n",
      "国内外地震关注差异大\n",
      "国内外地震关注差异大\n",
      "关于“地震”本身的报道仍旧是媒体关注的重点，尼泊尔地震与国内地震报道占一半的比例。而关于尼泊尔话题的占了45%，国内地震相关的只有22%。微媒体对国内外地震关注有明显的偏差，而且在衍生话题方面也相差甚大。尼泊尔地震中，除了硬新闻报道外，还有对其原因分析、中国救援情况等，而国内地震只是集中于硬新闻。地震常识介绍只占9%，地震知识普及还比较欠缺。\n",
      "关于“地震”本身的报道仍旧是媒体关注的重点，尼泊尔地震与国内地震报道占一半的比例。而关于尼泊尔话题的占了45%，国内地震相关的只有22%。微媒体对国内外地震关注有明显的偏差，而且在衍生话题方面也相差甚大。尼泊尔地震中，除了硬新闻报道外，还有对其原因分析、中国救援情况等，而国内地震只是集中于硬新闻。地震常识介绍只占9%，地震知识普及还比较欠缺。\n",
      "\n",
      "\n",
      "  阅读与点赞分析 \n",
      "  \n",
      "\n",
      "\n",
      "\n",
      "\n",
      "\n",
      "\n",
      "阅读与点赞分析\n",
      "阅读与点赞分析\n",
      " \n",
      "\n",
      "\n",
      "\n",
      "\n",
      "\n",
      "\n",
      "\n",
      "\n",
      "\n",
      "\n",
      "\n",
      "\n",
      "\n",
      "\n",
      " 爱国新闻容易激起点赞狂潮\n",
      " 爱国新闻容易激起点赞狂潮\n",
      " \n",
      " \n",
      "爱国新闻容易激起点赞狂潮\n",
      "爱国新闻容易激起点赞狂潮\n",
      "整体上来说，网民对地震议题关注度较高，自然灾害类话题一旦爆发，很容易引起人们情感共鸣，掀起热潮。但从点赞数来看，“中国救援回应”类的总点赞与平均点赞都是最高的，网民对地震的关注点并非地震本身，而是与之相关的“政府行动”。尼泊尔地震后，祖国派出救援机接国人回家，这一“先撤”行为被大量报道，上演了一出霸道总裁不由分说爱国民的新闻。而爱国新闻则往往是最容易煽动民族情绪，产生民族优越感，激起点赞狂潮。\n",
      "整体上来说，网民对地震议题关注度较高，自然灾害类话题一旦爆发，很容易引起人们情感共鸣，掀起热潮。但从点赞数来看，“中国救援回应”类的总点赞与平均点赞都是最高的，网民对地震的关注点并非地震本身，而是与之相关的“政府行动”。尼泊尔地震后，祖国派出救援机接国人回家，这一“先撤”行为被大量报道，上演了一出霸道总裁不由分说爱国民的新闻。而爱国新闻则往往是最容易煽动民族情绪，产生民族优越感，激起点赞狂潮。\n",
      "\n",
      "\n",
      " 人的关注小于国民尊严的保护\n",
      " 人的关注小于国民尊严的保护\n",
      " \n",
      " \n",
      "人的关注小于国民尊严的保护\n",
      "人的关注小于国民尊严的保护\n",
      "另一方面，国内地震的关注度却很少，不仅体现在政府救援的报道量小，网民的兴趣点与评价也较低。我们对“地震”中人的关注，远远小于国民尊严的保护。通过“撤离”速度来证明中国的影响力也显得有失妥当，灾难应急管理、救援和灾后重建能力才应是“地震”关注焦点。“发改委与地震”的点赞量也相对较高，网民对发改委和地震的调侃，反映出的是对油价上涨的不满，这种“怨气”也容易产生共鸣。一面是民族优越感，一面是对政策不满，两种情绪虽矛盾，但同时体现了网民心理趋同。\n",
      "另一方面，国内地震的关注度却很少，不仅体现在政府救援的报道量小，网民的兴趣点与评价也较低。我们对“地震”中人的关注，远远小于国民尊严的保护。通过“撤离”速度来证明中国的影响力也显得有失妥当，灾难应急管理、救援和灾后重建能力才应是“地震”关注焦点。“发改委与地震”的点赞量也相对较高，网民对发改委和地震的调侃，反映出的是对油价上涨的不满，这种“怨气”也容易产生共鸣。一面是民族优越感，一面是对政策不满，两种情绪虽矛盾，但同时体现了网民心理趋同。\n",
      "\n",
      "\n",
      "  数据附表 \n",
      "  \n",
      "\n",
      "\n",
      "\n",
      "\n",
      "\n",
      "\n",
      "数据附表\n",
      "数据附表\n",
      " \n",
      "\n",
      "\n",
      "\n",
      "\n",
      "微文章排行TOP50：\n",
      "微文章排行TOP50：\n",
      "\n",
      "\n",
      "公众号排行TOP20：\n",
      "公众号排行TOP20：\n",
      "\n",
      "\n",
      "\n",
      "\n",
      "\n",
      "作者：晏雪菲\n",
      "作者：晏雪菲\n",
      "作者：晏雪菲\n",
      "\n",
      "\n",
      "\n",
      "出品单位：南京大学计算传播学实验中心技术支持：南京大学谷尼舆情监测分析实验室题图鸣谢：谷尼舆情新微榜、图悦词云\n",
      "出品单位：南京大学计算传播学实验中心技术支持：南京大学谷尼舆情监测分析实验室题图鸣谢：谷尼舆情新微榜、图悦词云\n",
      "\n",
      "\n",
      "\n",
      "\n",
      "出品单位：南京大学计算传播学实验中心技术支持：南京大学谷尼舆情监测分析实验室题图鸣谢：谷尼舆情新微榜、图悦词云\n",
      "出品单位：南京大学计算传播学实验中心\n",
      "\n",
      "技术支持：南京大学谷尼舆情监测分析实验室\n",
      "\n",
      "题图鸣谢：谷尼舆情新微榜、图悦词云\n",
      "\n",
      "\n",
      "\n"
     ]
    }
   ],
   "source": [
    "title = soup.select(\"div .title #id1 img \")\n",
    "for i in title:\n",
    "    print i.text"
   ]
  },
  {
   "cell_type": "code",
   "execution_count": 17,
   "metadata": {
    "collapsed": false,
    "slideshow": {
     "slide_type": "subslide"
    }
   },
   "outputs": [
    {
     "name": "stdout",
     "output_type": "stream",
     "text": [
      "南大新传 | 微议题：地震中民族自豪—“中国人先撤”\n"
     ]
    }
   ],
   "source": [
    "print soup.find('h2', {'class', 'rich_media_title'}).text"
   ]
  },
  {
   "cell_type": "code",
   "execution_count": 20,
   "metadata": {
    "collapsed": false,
    "slideshow": {
     "slide_type": "subslide"
    }
   },
   "outputs": [
    {
     "name": "stdout",
     "output_type": "stream",
     "text": [
      "<div class=\"rich_media_meta_list\">\n",
      "<em class=\"rich_media_meta rich_media_meta_text\" id=\"post-date\">2015-05-04</em>\n",
      "<em class=\"rich_media_meta rich_media_meta_text\">南大新传院</em>\n",
      "<a class=\"rich_media_meta rich_media_meta_link rich_media_meta_nickname\" href=\"javascript:void(0);\" id=\"post-user\">微议题排行榜</a>\n",
      "<span class=\"rich_media_meta rich_media_meta_text rich_media_meta_nickname\">微议题排行榜</span>\n",
      "<div class=\"profile_container\" id=\"js_profile_qrcode\" style=\"display:none;\">\n",
      "<div class=\"profile_inner\">\n",
      "<strong class=\"profile_nickname\">微议题排行榜</strong>\n",
      "<img alt=\"\" class=\"profile_avatar\" id=\"js_profile_qrcode_img\" src=\"\">\n",
      "<p class=\"profile_meta\">\n",
      "<label class=\"profile_meta_label\">微信号</label>\n",
      "<span class=\"profile_meta_value\">IssuesRank</span>\n",
      "</p>\n",
      "<p class=\"profile_meta\">\n",
      "<label class=\"profile_meta_label\">功能介绍</label>\n",
      "<span class=\"profile_meta_value\">感谢关注《微议题排行榜》。我们是南京大学新闻传播学院，计算传播学实验中心，致力于研究社会化媒体时代的公共议程，发布新媒体平台的议题排行榜。</span>\n",
      "</p>\n",
      "</img></div>\n",
      "<span class=\"profile_arrow_wrp\" id=\"js_profile_arrow_wrp\">\n",
      "<i class=\"profile_arrow arrow_out\"></i>\n",
      "<i class=\"profile_arrow arrow_in\"></i>\n",
      "</span>\n",
      "</div>\n",
      "</div>\n"
     ]
    }
   ],
   "source": [
    "print soup.find('div', {'class', 'rich_media_meta_list'})\n"
   ]
  },
  {
   "cell_type": "code",
   "execution_count": 23,
   "metadata": {
    "collapsed": false,
    "slideshow": {
     "slide_type": "subslide"
    }
   },
   "outputs": [
    {
     "name": "stdout",
     "output_type": "stream",
     "text": [
      "2015-05-04\n"
     ]
    }
   ],
   "source": [
    "print soup.find('em').text\n"
   ]
  },
  {
   "cell_type": "code",
   "execution_count": 29,
   "metadata": {
    "collapsed": false,
    "slideshow": {
     "slide_type": "subslide"
    }
   },
   "outputs": [
    {
     "name": "stdout",
     "output_type": "stream",
     "text": [
      "\n",
      "点击上方“微议题排行榜”可以订阅哦！导读2015年4月25日，尼泊尔发生8.1级地震，造成至少7000多人死亡，中国西藏、印度、孟加拉国、不丹等地均出现人员伤亡。尼泊尔地震后，祖国派出救援机接国人回家，这一“先撤”行为被大量报道，上演了一出霸道总裁不由分说爱国民的新闻。我们对“地震”中人的关注，远远小于国民尊严的保护。通过“撤离”速度来证明中国的影响力也显得有失妥当，灾难应急管理、救援和灾后重建能力才应是“地震”关注焦点。  热词图现 本文以“地震”为关键词，选取了2015年4月10日至4月30日期间微议题TOP100阅读排行进行分析。根据微议题TOP100标题的词频统计，我们可以看出有关“地震”的话题最热词汇的有“尼泊尔”、“油价”、“发改委”。4月25日尼泊尔发生了8级地震，深受人们的关注。面对国外灾难性事件，微媒体的重心却转向“油价”、“发改委”、“祖国先撤”，致力于将世界重大事件与中国政府关联起来。  微议题演化趋势 总文章数总阅读数从4月10日到4月30日，有关“地震”议题出现三个峰值，分别是在4月15日内蒙古地震，20日台湾地震和25日尼泊尔地震。其中对台湾地震与内蒙古地震报道文章较少，而对尼泊尔地震却给予了极大的关注，无论是在文章量还是阅读量上都空前增多。内蒙古、台湾地震由于级数较小，关注少，议程时间也比较短，一般3天后就会淡出公共视野。而尼泊尔地震虽然接近性较差，但规模大，且衍生话题性较强，其讨论热度持续了一周以上。  议题分类 如图，我们将此议题分为6大类。1尼泊尔地震这类文章是对4月25日尼泊尔地震的新闻报道，包括现场视频，地震强度、规模，损失程度、遇难人员介绍等。更进一步的，有对尼泊尔地震原因探析，认为其处在板块交界处，灾难是必然的。因尼泊尔是佛教圣地，也有从佛学角度解释地震的启示。2国内地震报道主要是对10日内蒙古、甘肃、山西等地的地震，以及20日台湾地震的报道。偏重于对硬新闻的呈现，介绍地震范围、级数、伤亡情况，少数几篇是对甘肃地震的辟谣，称其只是微震。3中国救援回应地震救援的报道大多是与尼泊尔地震相关，并且80%的文章是中国政府做出迅速反应派出救援机接国人回家。以“中国人又先撤了”，来为祖国点赞。少数几篇是滴滴快的、腾讯基金、万达等为尼泊尔捐款的消息。4发改委与地震这类文章内容相似，纯粹是对发改委的调侃。称其“预测”地震非常准确，只要一上调油价，便会发生地震。5地震常识介绍该类文章介绍全国地震带、地震频发地，地震逃生注意事项，“专家传受活命三角”，如何用手机自救等小常识。6地震中的故事讲述地震中的感人瞬间，回忆汶川地震中的故事，传递“：地震无情，人间有情”的正能量。 国内外地震关注差异大关于“地震”本身的报道仍旧是媒体关注的重点，尼泊尔地震与国内地震报道占一半的比例。而关于尼泊尔话题的占了45%，国内地震相关的只有22%。微媒体对国内外地震关注有明显的偏差，而且在衍生话题方面也相差甚大。尼泊尔地震中，除了硬新闻报道外，还有对其原因分析、中国救援情况等，而国内地震只是集中于硬新闻。地震常识介绍只占9%，地震知识普及还比较欠缺。  阅读与点赞分析  爱国新闻容易激起点赞狂潮整体上来说，网民对地震议题关注度较高，自然灾害类话题一旦爆发，很容易引起人们情感共鸣，掀起热潮。但从点赞数来看，“中国救援回应”类的总点赞与平均点赞都是最高的，网民对地震的关注点并非地震本身，而是与之相关的“政府行动”。尼泊尔地震后，祖国派出救援机接国人回家，这一“先撤”行为被大量报道，上演了一出霸道总裁不由分说爱国民的新闻。而爱国新闻则往往是最容易煽动民族情绪，产生民族优越感，激起点赞狂潮。 人的关注小于国民尊严的保护另一方面，国内地震的关注度却很少，不仅体现在政府救援的报道量小，网民的兴趣点与评价也较低。我们对“地震”中人的关注，远远小于国民尊严的保护。通过“撤离”速度来证明中国的影响力也显得有失妥当，灾难应急管理、救援和灾后重建能力才应是“地震”关注焦点。“发改委与地震”的点赞量也相对较高，网民对发改委和地震的调侃，反映出的是对油价上涨的不满，这种“怨气”也容易产生共鸣。一面是民族优越感，一面是对政策不满，两种情绪虽矛盾，但同时体现了网民心理趋同。  数据附表 微文章排行TOP50：公众号排行TOP20：作者：晏雪菲出品单位：南京大学计算传播学实验中心技术支持：南京大学谷尼舆情监测分析实验室题图鸣谢：谷尼舆情新微榜、图悦词云\n",
      "\n"
     ]
    }
   ],
   "source": [
    "article = soup.find('div', {'class' , 'rich_media_content'}).text\n",
    "print article"
   ]
  },
  {
   "cell_type": "code",
   "execution_count": 15,
   "metadata": {
    "collapsed": false,
    "slideshow": {
     "slide_type": "slide"
    }
   },
   "outputs": [
    {
     "name": "stdout",
     "output_type": "stream",
     "text": [
      "南大新传 | 微议题：地震中民族自豪—“中国人先撤”\n",
      "2015-05-04\n",
      "\n",
      "点击上方“微议题排行榜”可以订阅哦！导读2015年4月25日，尼泊尔发生8.1级地震，造成至少7000多人死亡，中国西藏、印度、孟加拉国、不丹等地均出现人员伤亡。尼泊尔地震后，祖国派出救援机接国人回家，这一“先撤”行为被大量报道，上演了一出霸道总裁不由分说爱国民的新闻。我们对“地震”中人的关注，远远小于国民尊严的保护。通过“撤离”速度来证明中国的影响力也显得有失妥当，灾难应急管理、救援和灾后重建能力才应是“地震”关注焦点。  热词图现 本文以“地震”为关键词，选取了2015年4月10日至4月30日期间微议题TOP100阅读排行进行分析。根据微议题TOP100标题的词频统计，我们可以看出有关“地震”的话题最热词汇的有“尼泊尔”、“油价”、“发改委”。4月25日尼泊尔发生了8级地震，深受人们的关注。面对国外灾难性事件，微媒体的重心却转向“油价”、“发改委”、“祖国先撤”，致力于将世界重大事件与中国政府关联起来。  微议题演化趋势 总文章数总阅读数从4月10日到4月30日，有关“地震”议题出现三个峰值，分别是在4月15日内蒙古地震，20日台湾地震和25日尼泊尔地震。其中对台湾地震与内蒙古地震报道文章较少，而对尼泊尔地震却给予了极大的关注，无论是在文章量还是阅读量上都空前增多。内蒙古、台湾地震由于级数较小，关注少，议程时间也比较短，一般3天后就会淡出公共视野。而尼泊尔地震虽然接近性较差，但规模大，且衍生话题性较强，其讨论热度持续了一周以上。  议题分类 如图，我们将此议题分为6大类。1尼泊尔地震这类文章是对4月25日尼泊尔地震的新闻报道，包括现场视频，地震强度、规模，损失程度、遇难人员介绍等。更进一步的，有对尼泊尔地震原因探析，认为其处在板块交界处，灾难是必然的。因尼泊尔是佛教圣地，也有从佛学角度解释地震的启示。2国内地震报道主要是对10日内蒙古、甘肃、山西等地的地震，以及20日台湾地震的报道。偏重于对硬新闻的呈现，介绍地震范围、级数、伤亡情况，少数几篇是对甘肃地震的辟谣，称其只是微震。3中国救援回应地震救援的报道大多是与尼泊尔地震相关，并且80%的文章是中国政府做出迅速反应派出救援机接国人回家。以“中国人又先撤了”，来为祖国点赞。少数几篇是滴滴快的、腾讯基金、万达等为尼泊尔捐款的消息。4发改委与地震这类文章内容相似，纯粹是对发改委的调侃。称其“预测”地震非常准确，只要一上调油价，便会发生地震。5地震常识介绍该类文章介绍全国地震带、地震频发地，地震逃生注意事项，“专家传受活命三角”，如何用手机自救等小常识。6地震中的故事讲述地震中的感人瞬间，回忆汶川地震中的故事，传递“：地震无情，人间有情”的正能量。 国内外地震关注差异大关于“地震”本身的报道仍旧是媒体关注的重点，尼泊尔地震与国内地震报道占一半的比例。而关于尼泊尔话题的占了45%，国内地震相关的只有22%。微媒体对国内外地震关注有明显的偏差，而且在衍生话题方面也相差甚大。尼泊尔地震中，除了硬新闻报道外，还有对其原因分析、中国救援情况等，而国内地震只是集中于硬新闻。地震常识介绍只占9%，地震知识普及还比较欠缺。  阅读与点赞分析  爱国新闻容易激起点赞狂潮整体上来说，网民对地震议题关注度较高，自然灾害类话题一旦爆发，很容易引起人们情感共鸣，掀起热潮。但从点赞数来看，“中国救援回应”类的总点赞与平均点赞都是最高的，网民对地震的关注点并非地震本身，而是与之相关的“政府行动”。尼泊尔地震后，祖国派出救援机接国人回家，这一“先撤”行为被大量报道，上演了一出霸道总裁不由分说爱国民的新闻。而爱国新闻则往往是最容易煽动民族情绪，产生民族优越感，激起点赞狂潮。 人的关注小于国民尊严的保护另一方面，国内地震的关注度却很少，不仅体现在政府救援的报道量小，网民的兴趣点与评价也较低。我们对“地震”中人的关注，远远小于国民尊严的保护。通过“撤离”速度来证明中国的影响力也显得有失妥当，灾难应急管理、救援和灾后重建能力才应是“地震”关注焦点。“发改委与地震”的点赞量也相对较高，网民对发改委和地震的调侃，反映出的是对油价上涨的不满，这种“怨气”也容易产生共鸣。一面是民族优越感，一面是对政策不满，两种情绪虽矛盾，但同时体现了网民心理趋同。  数据附表 微文章排行TOP50：公众号排行TOP20：作者：晏雪菲出品单位：南京大学计算传播学实验中心技术支持：南京大学谷尼舆情监测分析实验室题图鸣谢：谷尼舆情新微榜、图悦词云\n",
      "\n"
     ]
    }
   ],
   "source": [
    "rmml = soup.find('div', {'class', 'rich_media_meta_list'})\n",
    "date = rmml.find(id = 'post-date').text\n",
    "rmc = soup.find('div', {'class', 'rich_media_content'})\n",
    "content = rmc.get_text()\n",
    "print title\n",
    "print date\n",
    "print content"
   ]
  },
  {
   "cell_type": "markdown",
   "metadata": {},
   "source": [
    "# 尝试抓取阅读数和点赞数"
   ]
  },
  {
   "cell_type": "code",
   "execution_count": 47,
   "metadata": {
    "collapsed": true
   },
   "outputs": [],
   "source": [
    "url = 'http://mp.weixin.qq.com/s?src=3&timestamp=1463191394&ver=1&signature=cV3qMIBeBTS6i8cJJOPu98j-H9veEPx0Y0BekUE7F6*sal9nkYG*w*FwDiaySIfR4XZL-XFbo2TFzrMxEniDETDYIMRuKmisV8xjfOcCjEWmPkYfK57G*cffYv4JxuM*RUtN8LUIg*n6Kd0AKB8--w=='"
   ]
  },
  {
   "cell_type": "code",
   "execution_count": 48,
   "metadata": {
    "collapsed": true
   },
   "outputs": [],
   "source": [
    "content = urllib2.urlopen(url).read() #获取网页的html文本\n",
    "soup = BeautifulSoup(content, 'html.parser') "
   ]
  },
  {
   "cell_type": "code",
   "execution_count": 49,
   "metadata": {
    "collapsed": false
   },
   "outputs": [
    {
     "name": "stdout",
     "output_type": "stream",
     "text": [
      "<!DOCTYPE html>\n",
      "\n",
      "<html>\n",
      "<head>\n",
      "<meta content=\"text/html; charset=utf-8\" http-equiv=\"Content-Type\">\n",
      "<meta content=\"IE=edge\" http-equiv=\"X-UA-Compatible\">\n",
      "<meta content=\"width=device-width,initial-scale=1.0,maximum-scale=1.0,user-scalable=0\" name=\"viewport\"/>\n",
      "<meta content=\"yes\" name=\"apple-mobile-web-app-capable\">\n",
      "<meta content=\"black\" name=\"apple-mobile-web-app-status-bar-style\">\n",
      "<meta content=\"telephone=no\" name=\"format-detection\">\n",
      "<script type=\"text/javascript\">\r\n",
      "            window.logs = {\r\n",
      "                pagetime: {}\r\n",
      "            };\r\n",
      "            window.logs.pagetime['html_begin'] = (+new Date());\r\n",
      "        </script>\n",
      "<script type=\"text/javascript\"> \r\n",
      "\r\n",
      "    var page_begintime = (+new Date());\r\n",
      "\r\n",
      "    var biz = \"\"||\"MjM5NzE0ODM2MA==\";\r\n",
      "    var sn = \"\" || \"\"|| \"be39ae0b1519b7f9ae644d4f0a0f449b\";\r\n",
      "    var mid = \"\" || \"\"|| \"400316403\";\r\n",
      "    var idx = \"\" || \"\" || \"2\";\r\n",
      "\r\n",
      "    \n",
      "    var is_rumor = \"\"*1;\r\n",
      "    var norumor = \"\"*1;\r\n",
      "    if (!!is_rumor&&!norumor){\r\n",
      "      if (!document.referrer || document.referrer.indexOf(\"mp.weixin.qq.com/mp/rumor\") == -1){\r\n",
      "        location.href = \"http://mp.weixin.qq.com/mp/rumor?action=info&__biz=\" + biz + \"&mid=\" + mid + \"&idx=\" + idx + \"&sn=\" + sn + \"#wechat_redirect\";\r\n",
      "      }\r\n",
      "    }\r\n",
      "\r\n",
      "    \n",
      "    \r\n",
      "</script>\n",
      "<script type=\"text/javascript\">\r\n",
      "var MutationObserver = window.WebKitMutationObserver||window.MutationObserver||window.MozMutationObserver;\r\n",
      "var isDangerSrc = function(src) {\r\n",
      "    if(src) {\r\n",
      "        var host = src.match(/http(?:s)?:\\/\\/([^\\/]+?)(\\/|$)/);\r\n",
      "        if(host && !/qq\\.com$/.test(host[1])) {\r\n",
      "            return true;\r\n",
      "        }\r\n",
      "    }\r\n",
      "    return false;\r\n",
      "}\r\n",
      "var ishttp = location.href.indexOf(\"http://\")==0;\r\n",
      "if (ishttp && typeof MutationObserver === 'function') {\r\n",
      "    window.__observer_data = {count:0, exec_time: 0, list:[]};\r\n",
      "    window.__observer = new MutationObserver(function(mutations) {\r\n",
      "        \n",
      "        window.__observer_data.count++;\r\n",
      "        var begin = new Date(), deleteNodes = [];\r\n",
      "        mutations.forEach(function(mutation) {\r\n",
      "            var nodes = mutation.addedNodes;\r\n",
      "            for (var i = 0; i < nodes.length; i++) {\r\n",
      "                var node = nodes[i];\r\n",
      "\r\n",
      "                if (node.tagName === 'SCRIPT') {\r\n",
      "                    var scriptSrc = node.src;\r\n",
      "                    if(isDangerSrc(scriptSrc)) {\r\n",
      "                        window.__observer_data.list.push(scriptSrc);\r\n",
      "                        deleteNodes.push(node);\r\n",
      "                    }\r\n",
      "                \r\n",
      "                }\r\n",
      "            }\r\n",
      "        });\r\n",
      "        for(var i=0; i<deleteNodes.length; i++) {\r\n",
      "            var node = deleteNodes[i];\r\n",
      "            node.parentNode.removeChild(node);\r\n",
      "        }\r\n",
      "        window.__observer_data.exec_time += (new Date() - begin);\r\n",
      "    });\r\n",
      "    window.__observer.observe(document, {subtree: true, childList: true});\r\n",
      "}\r\n",
      "(function() {\r\n",
      "    if (Math.random()<0.01 && ishttp && HTMLScriptElement.prototype.__lookupSetter__ && typeof Object.defineProperty !== \"undefined\") {\r\n",
      "        window.__danger_src = {xmlhttprequest:[], script_src: [], script_setAttribute: []};\r\n",
      "        var t = \"$\"+Math.random();\r\n",
      "        \r\n",
      "        \n",
      "        HTMLScriptElement.prototype.__old_method_script_src = HTMLScriptElement.prototype.__lookupSetter__ ('src');\r\n",
      "        HTMLScriptElement.prototype.__defineSetter__ ('src', function(url) {\r\n",
      "            if (url && isDangerSrc(url)) {\r\n",
      "                \n",
      "                window.__danger_src.script_src.push(url);\r\n",
      "            }\r\n",
      "            this.__old_method_script_src(url);\r\n",
      "        });\r\n",
      "        var element_setAttribute_method = \"element_setAttribute\"+t;\r\n",
      "        Object.defineProperty(Element.prototype, element_setAttribute_method, {\r\n",
      "            value: Element.prototype.setAttribute,\r\n",
      "            enumerable: false\r\n",
      "        });\r\n",
      "        Element.prototype.setAttribute = function(name, url) {\r\n",
      "            if (this.tagName == 'SCRIPT' && name == 'src' && isDangerSrc(url)) {\r\n",
      "                \n",
      "                window.__danger_src.script_setAttribute.push(url);\r\n",
      "            }\r\n",
      "            this[element_setAttribute_method](name, url);\r\n",
      "        };\r\n",
      "    }\r\n",
      "})();\r\n",
      "</script>\n",
      "<link href=\"//res.wx.qq.com\" rel=\"dns-prefetch\">\n",
      "<link href=\"//mmbiz.qpic.cn\" rel=\"dns-prefetch\">\n",
      "<link href=\"http://res.wx.qq.com/mmbizwap/zh_CN/htmledition/images/icon/common/favicon22c41b.ico\" rel=\"shortcut icon\" type=\"image/x-icon\">\n",
      "<script type=\"text/javascript\">\r\n",
      "    String.prototype.html = function(encode) {\r\n",
      "        var replace =[\"&#39;\", \"'\", \"&quot;\", '\"', \"&nbsp;\", \" \", \"&gt;\", \">\", \"&lt;\", \"<\", \"&amp;\", \"&\", \"&yen;\", \"¥\"];\r\n",
      "        if (encode) {\r\n",
      "            replace.reverse();\r\n",
      "        }\r\n",
      "        for (var i=0,str=this;i< replace.length;i+= 2) {\r\n",
      "             str=str.replace(new RegExp(replace[i],'g'),replace[i+1]);\r\n",
      "        }\r\n",
      "        return str;\r\n",
      "    };\r\n",
      "\r\n",
      "    window.isInWeixinApp = function() {\r\n",
      "        return /MicroMessenger/.test(navigator.userAgent);\r\n",
      "    };\r\n",
      "\r\n",
      "    window.getQueryFromURL = function(url) {\r\n",
      "        url = url || 'http://qq.com/s?a=b#rd'; \n",
      "        var query = url.split('?')[1].split('#')[0].split('&'),\r\n",
      "            params = {};\r\n",
      "        for (var i=0; i<query.length; i++) {\r\n",
      "            var arg = query[i].split('=');\r\n",
      "            params[arg[0]] = arg[1];\r\n",
      "        }\r\n",
      "        if (params['pass_ticket']) {\r\n",
      "        \tparams['pass_ticket'] = encodeURIComponent(params['pass_ticket'].html(false).html(false).replace(/\\s/g,\"+\"));\r\n",
      "        }\r\n",
      "        return params;\r\n",
      "    };\r\n",
      "\r\n",
      "    (function() {\r\n",
      "\t    var params = getQueryFromURL(location.href);\r\n",
      "        window.uin = params['uin'] || '';\r\n",
      "        window.key = params['key'] || '';\r\n",
      "        window.wxtoken = params['wxtoken'] || '';\r\n",
      "        window.pass_ticket = params['pass_ticket'] || '';\r\n",
      "    })();\r\n",
      "\r\n",
      "</script>\n",
      "<title>维密还没开始，海尔就先来了一场生活大秀</title>\n",
      "<link href=\"http://res.wx.qq.com/mmbizwap/zh_CN/htmledition/style/page/appmsg/page_mp_article_improve2d1390.css\" rel=\"stylesheet\" type=\"text/css\">\n",
      "<style>\n",
      "</style>\n",
      "<!--[if lt IE 9]>\r\n",
      "<link rel=\"stylesheet\" type=\"text/css\" href=\"http://res.wx.qq.com/mmbizwap/zh_CN/htmledition/style/page/appmsg/page_mp_article_improve_pc2c9cd6.css\">\r\n",
      "<![endif]-->\n",
      "<script type=\"text/javascript\">\r\n",
      "    document.domain = \"qq.com\";\r\n",
      "</script>\n",
      "</link></link></link></link></meta></meta></meta></meta></meta></head>\n",
      "<body class=\"zh_CN sougou_body\" id=\"activity-detail\" ontouchstart=\"\">\n",
      "<script type=\"text/javascript\">\r\n",
      "        var write_sceen_time = (+new Date());\r\n",
      "    </script>\n",
      "<div class=\"discuss_container editing access\" id=\"js_cmt_mine\" style=\"display:none;\">\n",
      "<div class=\"discuss_container_inner\">\n",
      "<h2 class=\"rich_media_title\">维密还没开始，海尔就先来了一场生活大秀</h2>\n",
      "<span id=\"log\"></span>\n",
      "<div class=\"frm_textarea_box_wrp\">\n",
      "<span class=\"frm_textarea_box\">\n",
      "<textarea class=\"frm_textarea\" id=\"js_cmt_input\" placeholder=\"留言将由公众号筛选后显示，对所有人可见。\"></textarea>\n",
      "<div class=\"emotion_tool\">\n",
      "<span class=\"emotion_switch\" style=\"display:none;\"></span>\n",
      "<span class=\"pic_emotion_switch_wrp\" id=\"js_emotion_switch\">\n",
      "<img alt=\"\" class=\"pic_default\" src=\"http://res.wx.qq.com/mmbizwap/zh_CN/htmledition/images/icon/appmsg/emotion/icon_emotion_switch.2x278965.png\">\n",
      "<img alt=\"\" class=\"pic_active\" src=\"http://res.wx.qq.com/mmbizwap/zh_CN/htmledition/images/icon/appmsg/emotion/icon_emotion_switch_active.2x278965.png\">\n",
      "</img></img></span>\n",
      "<div class=\"emotion_panel\" id=\"js_emotion_panel\">\n",
      "<span class=\"emotion_panel_arrow_wrp\" id=\"js_emotion_panel_arrow_wrp\">\n",
      "<i class=\"emotion_panel_arrow arrow_out\"></i>\n",
      "<i class=\"emotion_panel_arrow arrow_in\"></i>\n",
      "</span>\n",
      "<div class=\"emotion_list_wrp\" id=\"js_slide_wrapper\">\n",
      "</div>\n",
      "<ul class=\"emotion_navs\" id=\"js_navbar\">\n",
      "</ul>\n",
      "</div>\n",
      "</div>\n",
      "</span>\n",
      "</div>\n",
      "<div class=\"discuss_btn_wrp\"><a class=\"btn btn_primary btn_discuss btn_disabled\" href=\"javascript:;\" id=\"js_cmt_submit\">提交</a></div>\n",
      "<div class=\"discuss_list_wrp\" style=\"display:none\">\n",
      "<div class=\"rich_tips with_line title_tips discuss_title_line\">\n",
      "<span class=\"tips\">我的留言</span>\n",
      "</div>\n",
      "<ul class=\"discuss_list\" id=\"js_cmt_mylist\"></ul>\n",
      "</div>\n",
      "<div class=\"rich_tips tips_global loading_tips\" id=\"js_mycmt_loading\">\n",
      "<img alt=\"\" class=\"rich_icon icon_loading_white\" src=\"http://res.wx.qq.com/mmbizwap/zh_CN/htmledition/images/icon/common/icon_loading_white2805ea.gif\">\n",
      "<span class=\"tips\">加载中</span>\n",
      "</img></div>\n",
      "<div class=\"wx_poptips\" id=\"js_cmt_toast\" style=\"display:none;\">\n",
      "<img alt=\"\" class=\"icon_toast\" src=\"data:image/png;base64,iVBORw0KGgoAAAANSUhEUgAAAGoAAABqCAYAAABUIcSXAAAAGXRFWHRTb2Z0d2FyZQBBZG9iZSBJbWFnZVJlYWR5ccllPAAAA3NpVFh0WE1MOmNvbS5hZG9iZS54bXAAAAAAADw/eHBhY2tldCBiZWdpbj0i77u/IiBpZD0iVzVNME1wQ2VoaUh6cmVTek5UY3prYzlkIj8+IDx4OnhtcG1ldGEgeG1sbnM6eD0iYWRvYmU6bnM6bWV0YS8iIHg6eG1wdGs9IkFkb2JlIFhNUCBDb3JlIDUuNS1jMDE0IDc5LjE1MTQ4MSwgMjAxMy8wMy8xMy0xMjowOToxNSAgICAgICAgIj4gPHJkZjpSREYgeG1sbnM6cmRmPSJodHRwOi8vd3d3LnczLm9yZy8xOTk5LzAyLzIyLXJkZi1zeW50YXgtbnMjIj4gPHJkZjpEZXNjcmlwdGlvbiByZGY6YWJvdXQ9IiIgeG1sbnM6eG1wTU09Imh0dHA6Ly9ucy5hZG9iZS5jb20veGFwLzEuMC9tbS8iIHhtbG5zOnN0UmVmPSJodHRwOi8vbnMuYWRvYmUuY29tL3hhcC8xLjAvc1R5cGUvUmVzb3VyY2VSZWYjIiB4bWxuczp4bXA9Imh0dHA6Ly9ucy5hZG9iZS5jb20veGFwLzEuMC8iIHhtcE1NOk9yaWdpbmFsRG9jdW1lbnRJRD0ieG1wLmRpZDoyMTUxMzkxZS1jYWVhLTRmZTMtYTY2NS0xNTRkNDJiOGQyMWIiIHhtcE1NOkRvY3VtZW50SUQ9InhtcC5kaWQ6MTA3QzM2RTg3N0UwMTFFNEIzQURGMTQzNzQzMDAxQTUiIHhtcE1NOkluc3RhbmNlSUQ9InhtcC5paWQ6MTA3QzM2RTc3N0UwMTFFNEIzQURGMTQzNzQzMDAxQTUiIHhtcDpDcmVhdG9yVG9vbD0iQWRvYmUgUGhvdG9zaG9wIENDIChNYWNpbnRvc2gpIj4gPHhtcE1NOkRlcml2ZWRGcm9tIHN0UmVmOmluc3RhbmNlSUQ9InhtcC5paWQ6NWMyOGVjZTMtNzllZS00ODlhLWIxZTYtYzNmM2RjNzg2YjI2IiBzdFJlZjpkb2N1bWVudElEPSJ4bXAuZGlkOjIxNTEzOTFlLWNhZWEtNGZlMy1hNjY1LTE1NGQ0MmI4ZDIxYiIvPiA8L3JkZjpEZXNjcmlwdGlvbj4gPC9yZGY6UkRGPiA8L3g6eG1wbWV0YT4gPD94cGFja2V0IGVuZD0iciI/Pmvxj1gAAAVrSURBVHja7J15rF1TFMbXk74q1ZKHGlMkJVIhIgg1FH+YEpEQJCKmGBpThRoSs5jVVNrSQUvEEENIhGiiNf9BiERICCFIRbUiDa2qvudbOetF3Tzv7XWGffa55/uS7593977n3vO7e5+199p7v56BgQGh0tcmvAUERREUQVEERREUQVEERREUQVEERREUQVEERREUQVEERREUQVEERVAUQVEERVAUQbVYk+HdvZVG8b5F0xj4RvhouB+eCy8KrdzDJc1RtAX8ILxvx98V1GyCSkN98Cx4z/95/Wn4fj6j6tUEeN4wkFSnw1MJqj5NhBfAuwaUHREUg4lqNMmePVsHll/HFhVfe1t3FwpJI8DXCCquDrCWNN4B6Tb4M3Z98aTPmTvh0YHl18PXw29yZiKejoPvcUD6E74yFBJbVDk6Bb7K8aP/Hb4c/tRzEYIqprPhSxzlf4Uvhb/0Xoig8qnHAJ3lqPMzfDH8XZ4LEpRf2sVdA5/sqPO9Qfop70UJyn+/boaPddT5yrq7VUUvTIVJI7q74MMddXR8NB1eXcYvhBpZm0s2w72/o86HFoKvLau/pYaXzjLMdUJ6y0LwtWV9CIIaXtvA8+G9HHV03u5q+K+yH47U0NoRngPv7KjzHDwTLj0bS1BDazfJJlcnOOostC6ysnCT+q80G/sIvFVgeW09D8FPVT0uoP7VfvAD8NjA8pqmuAN+OcYAjso0RbIZ8DGB5TVNcRO8JMaHY9SXSdfa3eeANJimWBLrA7JFiZwIXye+NMUV8CcxP2SRFjXefok7NRjSGZJlWUPvw2/wtNiQirSoXWyMsR28wR7AzzYM0oXw+Y7yK+CLJGeaoqjyrJSdZJD6Ov4+z5y6NJc0Az7NUecHydIUy+v60KNyQHoM3nKI1y7YCFiq0i7uBvgER52vDdKqWn9djhY1Dn4G3n6Ecqm2rF74dvgoR53S0hQxW9RJAZAGW5bSn58QJA27dQ7uIEedjywEX5NKVxCqsY6y+qA+LxFI4+yZ6oH0trWkNan80jygtIUsc5SflgAsDXgehfdx1KkkTRE76tN+Xue2jnTU0Ru1oIbvpt30bBtKhOp5yaaRkts0lic8V1i6dPcIRx2d/l8Y8XtNNEg7OOo8bl1kmmOKnDsO88CaYzejau0hWZqiL7C83oCH4SeTHvwV2BqqsHRVztSEYOmWF80NeXZT6Hd4KflResE9vCnBOlCyGfDNAstHTVPUDWoQ1t3iW+9WNizvlhfd4aerXd+ThqiMfNR6+9LvOOro5OY5JX2H4+F7HZD+kGzlamMgldWiirQsjcwWFbjmqZJteekJLK9pisvgL6RhKvuciZiwzrWWGapfrPy30kBVcSBIrw0aD3PU0XB6cehntq7rTMf7/2iQlktDVdXJLXlg6VjmiYBn6rWSTRCH6hvJ0hQrpcGq8oidsmHpTP8t8DGO9/vcWt9qabiqPgup1yKyQwvC2tSefZ73SSpNkUJ4PlLorlHZ+446nc8f3fIyywlJhwrTuwVSjBa1ccvSxN0hjjoK5xVrYZMd9V6XbFfgBukixTwGLg8sDam3dZR/wZ6L/dJlin1en8LS+bgpFbz3Ygvzu1J1HKxYNqxGpCmaCEo12rrBorD6LRp8UbpcdR5VWhTW35KlKd6QFqjuM2XzwlpnMxTvSkuUwuG/Xlg6NtPjbT6WFimF/VG6LEvXgn8QGDjMbBukVECFwhpoS+CQatfX2Q1q6H7wENHdrfCr0lKleEB9JyxNneus+VJpsVL9TwI6W65LovWIGl3KtVJaLv7LBwYTFEERFEVQFEERFEVQFEERFEVQFEERFEVQFEERFEVQFEERFFWq/hFgADUMN4RzT6/OAAAAAElFTkSuQmCC\">\n",
      "<p class=\"toast_content\">已留言</p>\n",
      "</img></div>\n",
      "</div>\n",
      "</div>\n",
      "<div class=\"rich_media\" id=\"js_article\">\n",
      "<div class=\"top_banner\" id=\"js_top_ad_area\">\n",
      "</div>\n",
      "<div class=\"rich_media_inner\">\n",
      "<div id=\"page-content\">\n",
      "<div class=\"rich_media_area_primary\" id=\"img-content\">\n",
      "<h2 class=\"rich_media_title\" id=\"activity-name\">\r\n",
      "                        维密还没开始，海尔就先来了一场生活大秀 \r\n",
      "                    </h2>\n",
      "<div class=\"rich_media_meta_list\">\n",
      "<em class=\"rich_media_meta rich_media_meta_text\" id=\"post-date\">2015-11-10</em>\n",
      "<a class=\"rich_media_meta rich_media_meta_link rich_media_meta_nickname\" href=\"javascript:void(0);\" id=\"post-user\">海尔北京</a>\n",
      "<span class=\"rich_media_meta rich_media_meta_text rich_media_meta_nickname\">海尔北京</span>\n",
      "<div class=\"profile_container\" id=\"js_profile_qrcode\" style=\"display:none;\">\n",
      "<div class=\"profile_inner\">\n",
      "<strong class=\"profile_nickname\">海尔北京</strong>\n",
      "<img alt=\"\" class=\"profile_avatar\" id=\"js_profile_qrcode_img\" src=\"\">\n",
      "<p class=\"profile_meta\">\n",
      "<label class=\"profile_meta_label\">微信号</label>\n",
      "<span class=\"profile_meta_value\">haier_bj</span>\n",
      "</p>\n",
      "<p class=\"profile_meta\">\n",
      "<label class=\"profile_meta_label\">功能介绍</label>\n",
      "<span class=\"profile_meta_value\">海尔网络生活智慧，为千家万户打造不拘一格的智能家居体验</span>\n",
      "</p>\n",
      "</img></div>\n",
      "<span class=\"profile_arrow_wrp\" id=\"js_profile_arrow_wrp\">\n",
      "<i class=\"profile_arrow arrow_out\"></i>\n",
      "<i class=\"profile_arrow arrow_in\"></i>\n",
      "</span>\n",
      "</div>\n",
      "</div>\n",
      "<div class=\"rich_media_content \" id=\"js_content\">\n",
      "<p style=\"text-align: center;\"><strong><span style=\"font-family: 微软雅黑, sans-serif\">今年，维密大秀还没开始</span></strong></p><p style=\"text-align: center;\"><strong><span style=\"font-family: 微软雅黑, sans-serif\">海尔就在双11发酵的时候</span></strong></p><p style=\"text-align: center;\"><strong><span style=\"font-family: 微软雅黑, sans-serif\">来了一场生活大秀</span></strong></p><p style=\"text-align: center;\"><strong><span style=\"font-family: 微软雅黑, sans-serif\">属于海尔双11的“天使翅膀”可见轮廓</span></strong></p><p style=\"text-align: center;\"><img data-ratio=\"0.6370558375634517\" data-s=\"300,640\" data-src=\"http://mmbiz.qpic.cn/mmbiz/miaIWQgrbRJY6mBve39n8EKwPoock3edAdv3kzH9XcTibnibvxDFSQHIUhO4fKM8UsPeenAJgUKHo2KF0114pzf6A/0?wx_fmt=png\" data-type=\"png\" data-w=\"394\"/><br/></p><p style=\"text-align: center;\"><strong><span style=\"font-size: 16px;font-family: 微软雅黑, sans-serif\">今年双11，海尔玩不同，超级学校吹响大咖集结号！</span></strong></p><p style=\"text-align: center;\"><span style=\"font-family:微软雅黑,sans-serif\">又是一年双11</span></p><p style=\"text-align: center;\"><span style=\"font-family:微软雅黑,sans-serif\">唱主角的不是嗖嗖的小北风和单身汪</span></p><p style=\"text-align: center;\"><span style=\"font-family:微软雅黑,sans-serif\">占据各大头条的是那群</span></p><p style=\"text-align: center;\"><span style=\"font-family:微软雅黑,sans-serif\">在战火中厮杀的Buy家娘们和各大品牌</span></p><p style=\"text-align: center;\"><span style=\"font-family:微软雅黑,sans-serif\">去年家电销售量第一的品牌大佬海尔，今年又有大动作——</span></p><p style=\"text-align: center;\"><span style=\"font-family:微软雅黑,sans-serif\">竟办起学校传授“享乐主义”！还是O2O授课模式！</span></p><p style=\"margin-left: 28px; text-align: center;\"><span style=\"font-family:微软雅黑,sans-serif\"><img data-ratio=\"1.3702928870292888\" data-s=\"300,640\" data-src=\"http://mmbiz.qpic.cn/mmbiz/miaIWQgrbRJY6mBve39n8EKwPoock3edA2l93yqoy8FUYwkx1I0Hub3F1Gib63iandAUoeLVDVJeibdbka1n3yp44A/0?wx_fmt=jpeg\" data-type=\"jpeg\" data-w=\"478\"/><br/></span></p><p style=\"margin-left: 28px; text-align: center;\"><span style=\"font-family:微软雅黑,sans-serif\">海尔、统帅、青啤、罗莱、茵曼、阿芙、芝华仕、酒仙网</span></p><p style=\"text-align: center;\"><span style=\"font-family:微软雅黑,sans-serif\">媒体、网红、达人、粉丝……</span></p><p style=\"text-align: center;\"><span style=\"font-family:微软雅黑,sans-serif\">各路大咖云集星光闪耀的场面</span></p><p style=\"text-align: center;\"><span style=\"font-family:微软雅黑,sans-serif\">八成是在发布会、奥斯卡，或黄教主大婚</span></p><p style=\"text-align: center;\"><span style=\"font-family:微软雅黑,sans-serif\">万万没想到竟是场开学式？！</span></p><p style=\"text-align: center;\"><span style=\"font-family:微软雅黑,sans-serif\"><img data-ratio=\"1.3715415019762847\" data-s=\"300,640\" data-src=\"http://mmbiz.qpic.cn/mmbiz/miaIWQgrbRJY6mBve39n8EKwPoock3edAGsoSG2C7BicsgAbUGrVs4sb8f14b6pAWdjTJLjluhJiaIicdIxe7l434A/0?wx_fmt=jpeg\" data-type=\"jpeg\" data-w=\"\"/><br/></span></p><p style=\"text-align: center;\"><span style=\"font-family:微软雅黑,sans-serif\">这样大手笔？闹哪样 ?</span></p><p style=\"text-align: center;\"><span style=\"font-family:微软雅黑,sans-serif\">海尔11.11生活+联盟开学式也能如此高调奢华？</span></p><p style=\"text-align: center;\"><span style=\"font-family:微软雅黑,sans-serif\">八大TOP品牌负责人、当红KOL，各路大咖悉数亮相</span></p><p style=\"text-align: center;\"><span style=\"font-family:微软雅黑,sans-serif\">还有重量级葩神——雷洋担任主持，耳熟吗？</span></p><p style=\"text-align: center;\"><span style=\"font-family:微软雅黑,sans-serif\">百度一下就知道有多大牌！</span></p><p style=\"text-align: center;\"><span style=\"font-family:微软雅黑,sans-serif\"><img data-ratio=\"0.66600790513834\" data-s=\"300,640\" data-src=\"http://mmbiz.qpic.cn/mmbiz/miaIWQgrbRJY6mBve39n8EKwPoock3edAQwGEBRcX9xRTykFClHHRJDjvWoBSn6nm9Q3BoqpRm065wQniaaVrAPg/0?wx_fmt=jpeg\" data-type=\"jpeg\" data-w=\"\"/><br/></span></p><p style=\"text-align: center;\"><span style=\"font-family:微软雅黑,sans-serif\">辣么，被称为“互联网+时代的霍格沃茨魔法学校”</span></p><p style=\"text-align: center;\"><span style=\"font-family:微软雅黑,sans-serif\">海尔生活+学院到底能教给我们哪些技能？</span></p><p style=\"text-align: center;\"><strong><span style=\"font-family:微软雅黑,sans-serif;color:red\">咱接着看！</span></strong></p><p style=\"text-align: center;\"><strong><span style=\"font-size: 16px;font-family: 微软雅黑, sans-serif\">剧透2：海尔11.11“生活+”学院，不只吃喝玩乐，主要教你玩转生活！</span></strong></p><p style=\"text-align: center;\"><strong><span style=\"font-size: 16px;font-family: 微软雅黑, sans-serif\"><img data-ratio=\"1.3621730382293762\" data-s=\"300,640\" data-src=\"http://mmbiz.qpic.cn/mmbiz/miaIWQgrbRJY6mBve39n8EKwPoock3edAEjQhjSrCMfW52Glq2HIwgzJPW0ib20xUo1zg6iak7aJUnDVlLyVrPegA/0?wx_fmt=jpeg\" data-type=\"jpeg\" data-w=\"497\"/><br/></span></strong></p><p style=\"text-align: center;\"><span style=\"font-family:微软雅黑,sans-serif\">体验各种神秘家居、与模特亲密互动，完成任务就赢走肾6s！</span></p><p style=\"text-align: center;\"><span style=\"font-family:微软雅黑,sans-serif\">抵制不住诱惑的诸位生活达人、粉丝和媒体人 “宽衣解带”卸下高冷~</span></p><p style=\"text-align: center;\"><span style=\"font-family:微软雅黑,sans-serif\">现场实战把生活玩出高潮~享受起来一个比一个生猛！</span></p><p style=\"text-align: center;\"><span style=\"font-family:微软雅黑,sans-serif\">现场打破常规 生活场景真实再现</span></p><p style=\"text-align: center;\"><span style=\"font-family:微软雅黑,sans-serif\">开学式现场直接真实搭建一个畅享生活的jia！</span></p><p style=\"text-align: center;\"><span style=\"font-family:微软雅黑,sans-serif\"><img data-ratio=\"1\" data-s=\"300,640\" data-src=\"http://mmbiz.qpic.cn/mmbiz/miaIWQgrbRJY6mBve39n8EKwPoock3edAqdWD0b0hQhkTxd5e9C1fHib6ID1bQ6HhF9iaRNjmuiaxO7GKsKQqZY8eQ/0?wx_fmt=jpeg\" data-type=\"jpeg\" data-w=\"497\"/><br/></span></p><p style=\"text-align: center;\"><strong><span style=\"font-family:微软雅黑,sans-serif\">睡了哆啦A喝了白啤醉</span></strong></p><p style=\"text-align: center;\"><strong><span style=\"font-family:微软雅黑,sans-serif\">躺了芝华仕喝了红酒美</span></strong></p><p style=\"text-align: center;\"><strong><span style=\"font-family:微软雅黑,sans-serif\">水果榨出人生滋味，把生活调戏出大白风味</span></strong></p><p style=\"text-align: center;\"><strong><span style=\"font-family:微软雅黑,sans-serif\">衣服穿上范玮琪同款，馨厨冰箱活出健康智能生活惠</span></strong></p><p style=\"text-align: center;\"><strong><span style=\"font-family:微软雅黑,sans-serif\">空调和苹果最搭有范儿，配！</span></strong></p><p style=\"text-align: center;\"><strong><span style=\"font-family:微软雅黑,sans-serif\">生活+起来，领跑生活嘿！</span></strong></p><p style=\"text-align: center;\"><strong><span style=\"font-family:微软雅黑,sans-serif\">生活玩得美，老师要找对！</span></strong></p><p style=\"text-align: center;\"><strong><span style=\"font-family:微软雅黑,sans-serif\"><img data-ratio=\"1.1118568232662192\" data-s=\"300,640\" data-src=\"http://mmbiz.qpic.cn/mmbiz/miaIWQgrbRJY6mBve39n8EKwPoock3edAPWsib2EoQU86xUGa5qFHXv760GnzCxmk1VTWYQSmradXkj5mXG1YgAQ/0?wx_fmt=jpeg\" data-type=\"jpeg\" data-w=\"447\"/><br/></span></strong></p><p style=\"text-align: center;\"><strong><span style=\"font-size: 16px;font-family: 微软雅黑, sans-serif\">剧透3：八大品牌师资担当，海尔生活+带你玩转双11</span></strong></p><p style=\"text-align: center;\"><span style=\"font-family:微软雅黑,sans-serif\">海尔、统帅、青啤、罗莱、茵曼、阿芙、芝华仕、酒仙网等</span></p><p style=\"text-align: center;\"><span style=\"font-family:微软雅黑,sans-serif\">八大品牌代表正式宣布今年双11“生活+学院”正式成立</span></p><p style=\"text-align: center;\"><span style=\"font-family:微软雅黑,sans-serif\">不教任何书本冷知识，就让你怎么玩转生活</span></p><p style=\"text-align: center;\"><span style=\"font-family:微软雅黑,sans-serif\">畅享今年双11</span></p><p style=\"text-align: center;\"><span style=\"font-family:微软雅黑,sans-serif\"><img data-ratio=\"0.66600790513834\" data-s=\"300,640\" data-src=\"http://mmbiz.qpic.cn/mmbiz/miaIWQgrbRJY6mBve39n8EKwPoock3edAgBoZ3t7cd0T8TPnvctaCOrVdEoW22vvwO1f5SYOQbiaz6KLlmljRicpQ/0?wx_fmt=jpeg\" data-type=\"jpeg\" data-w=\"\"/><br/><span style=\"color:red\"><img data-ratio=\"0.66600790513834\" data-s=\"300,640\" data-src=\"http://mmbiz.qpic.cn/mmbiz/miaIWQgrbRJY6mBve39n8EKwPoock3edACicQWibfWX6NibyMicdVoMV4gQzsLl6HiapM0PrTGGYI0HNBzicZKnPwnxjA/0?wx_fmt=jpeg\" data-type=\"jpeg\" data-w=\"\"/><br/></span></span></p><p style=\"text-align: center;\"><strong><span style=\"font-size: 16px;font-family: 微软雅黑, sans-serif\">剧透4：海尔11.11提前登场没收住，海尔这次玩大了！</span></strong></p><p style=\"text-align: center;\"><span style=\"font-family:微软雅黑,sans-serif\">开学玩太嗨，开学式当天海尔11.11多样玩法现场剧透，</span></p><p style=\"text-align: center;\"><span style=\"font-family:微软雅黑,sans-serif\">看样子，今年双11，海尔真的玩大了！</span></p><p style=\"text-align: center;\"><strong><span style=\"font-family:微软雅黑,sans-serif\">玩大了1：11.11当天海尔天猫旗舰店，豪洒一千五百万重金</span></strong></p><p style=\"text-align: center;\"><span style=\"font-family:微软雅黑,sans-serif\">只要你来玩，海尔就给你送Money！</span></p><p style=\"text-align: center;\"><span style=\"font-family:微软雅黑,sans-serif\">赶紧抢，手一抖，就被别人抢走了！</span></p><p style=\"text-align: center;\"><strong><span style=\"font-family:微软雅黑,sans-serif\">玩大了2：十大可叠加优惠政策，惠及新老客户</span></strong></p><p style=\"text-align: center;\"><span style=\"font-family:微软雅黑,sans-serif\">没错，“可叠加使用”效果超乎想象，越早买奖品越丰厚！</span></p><p style=\"text-align: center;\"><span style=\"font-family:微软雅黑,sans-serif\">定好闹表11.11零点开抢</span></p><p style=\"text-align: center;\"><span style=\"font-family:微软雅黑,sans-serif\">十大优惠可累加，24小时惊喜不间断</span></p><p style=\"text-align: center;\"><span style=\"font-family:微软雅黑,sans-serif\">侵袭淫类的“剁手病毒”可真是无药可救了~</span></p><p style=\"text-align: center;\"><strong><span style=\"font-family:微软雅黑,sans-serif\">玩大了3：8大TOP商家，送吃喝玩乐大礼包</span></strong></p><p style=\"text-align: center;\"><span style=\"font-family:微软雅黑,sans-serif\">你负责享受，海尔负责埋单；优惠只是手段，玩嗨才是目的！</span></p><p style=\"text-align: center;\"><span style=\"font-family:微软雅黑,sans-serif\">“异业联盟”借势双11掀起新生活主义浪潮</span></p><p style=\"text-align: center;\"><span style=\"font-family:微软雅黑,sans-serif\">据说，生活+联盟会一直玩下去</span></p><p style=\"text-align: center;\"><span style=\"font-family:微软雅黑,sans-serif\">让购物有趣方便，消费者更受益</span></p><p style=\"text-align: center;\"><span style=\"font-family:微软雅黑,sans-serif\">八大品牌积分互通、会员权益共享的八大品牌联合政策</span></p><p style=\"text-align: center;\"><span style=\"font-family:微软雅黑,sans-serif\">双11能出现吗？</span></p><p style=\"text-align: center;\"><span style=\"font-family:微软雅黑,sans-serif\">答案……</span></p><p style=\"text-align: center;\"><span style=\"font-family:微软雅黑,sans-serif\"><img data-ratio=\"0.7509881422924901\" data-s=\"300,640\" data-src=\"http://mmbiz.qpic.cn/mmbiz/miaIWQgrbRJY6mBve39n8EKwPoock3edAOia0QT2KR8ic7icdXKF4zgOSEsSpRRe0MLrYgsE79MUNNWibZlg4bWRMiag/0?wx_fmt=jpeg\" data-type=\"jpeg\" data-w=\"\"/><br/></span></p><p style=\"text-align: center;\"><span style=\"font-family:微软雅黑,sans-serif\">对不起，只能剧透到这里！</span></p><p style=\"text-align: center;\"><span style=\"font-family:微软雅黑,sans-serif\">BOSS</span><span style=\"font-family:微软雅黑,sans-serif\">说，再泄密就不发工资了！</span></p><p style=\"text-align: center;\"><span style=\"font-family:微软雅黑,sans-serif\">那就11月11日约起~</span></p><p style=\"text-align: center;\"><span style=\"font-family:微软雅黑,sans-serif\">海尔商城、海尔天猫旗舰店，答案给你，所有福利都给你！</span></p><p style=\"text-align: center;\"><span style=\"font-family:微软雅黑,sans-serif\"> </span></p><p style=\"text-align: center;\"><img data-ratio=\"0.5316205533596838\" data-s=\"300,640\" data-src=\"http://mmbiz.qpic.cn/mmbiz/uXyUiafode1ZWhb9gibiabicq2gEoYbcuibIHLaPNlNxNkPH04MypmOMb2icicPPxfe5U1L5YBRNHj6biawnBzexbkFMAA/0?wx_fmt=jpeg\" data-type=\"jpeg\" data-w=\"\"/><br/><img data-ratio=\"0.44861660079051385\" data-s=\"300,640\" data-src=\"http://mmbiz.qpic.cn/mmbiz/uXyUiafode1b0Kr8NuUPts6Zc86zChAIG20cvj4jKOq21Gc9wQPwiaq6JZfXuiaGrTdkvEuKPqhTohfa5PuZW2QLQ/0\" data-type=\"jpeg\" data-w=\"\"/><br/></p>\n",
      "</div>\n",
      "<script type=\"text/javascript\">\r\n",
      "                        var first_sceen__time = (+new Date());\r\n",
      "\r\n",
      "                        if (\"\" == 1 && document.getElementById('js_content'))\r\n",
      "                            document.getElementById('js_content').addEventListener(\"selectstart\",function(e){ e.preventDefault(); });\r\n",
      "\r\n",
      "                                        (function(){\r\n",
      "                            if (navigator.userAgent.indexOf(\"WindowsWechat\") != -1){\r\n",
      "                                var link = document.createElement('link');\r\n",
      "                                var head = document.getElementsByTagName('head')[0];\r\n",
      "                                link.rel = 'stylesheet';\r\n",
      "                                link.type = 'text/css';\r\n",
      "                                link.href = \"http://res.wx.qq.com/mmbizwap/zh_CN/htmledition/style/page/appmsg/page_mp_article_improve_winwx2c9cd6.css\";\r\n",
      "                                head.appendChild(link);\r\n",
      "                            }\r\n",
      "                        })();\r\n",
      "                    </script>\n",
      "<link href=\"http://res.wx.qq.com/mmbizwap/zh_CN/htmledition/style/page/appmsg/page_mp_article_improve_combo2d1390.css\" rel=\"stylesheet\" type=\"text/css\">\n",
      "<div class=\"rich_media_tool\" id=\"js_toobar3\">\n",
      "<div class=\"media_tool_meta tips_global meta_primary\" id=\"js_read_area3\" style=\"display:none;\">阅读 <span id=\"readNum3\"></span></div>\n",
      "<span class=\"media_tool_meta meta_primary tips_global meta_praise\" id=\"like3\" style=\"display:none;\">\n",
      "<i class=\"icon_praise_gray\"></i><span class=\"praise_num\" id=\"likeNum3\"></span>\n",
      "</span>\n",
      "<a class=\"media_tool_meta tips_global meta_extra\" href=\"javascript:void(0);\" id=\"js_report_article3\" style=\"display:none;\">投诉</a>\n",
      "</div>\n",
      "<div class=\"rich_media_tool\" id=\"js_sg_bar\">\n",
      "<a class=\"media_tool_meta meta_primary\" href=\"\" target=\"_blank\">阅读原文</a>\n",
      "<div class=\"media_tool_meta tips_global meta_primary\">阅读 <span><span id=\"sg_readNum3\"></span></span></div>\n",
      "<span class=\"media_tool_meta meta_primary tips_global meta_praise\">\n",
      "<i class=\"icon_praise_gray\"></i><span class=\"praise_num\"><span class=\"praise_num\" id=\"sg_likeNum3\"></span>\n",
      "</span>\n",
      "</span></div>\n",
      "</link></div>\n",
      "<div class=\"rich_media_area_primary sougou\" id=\"sg_tj\" style=\"display:none\">\n",
      "</div>\n",
      "<div class=\"rich_media_area_extra\">\n",
      "<div class=\"mpda_bottom_container\" id=\"js_bottom_ad_area\">\n",
      "</div>\n",
      "<div id=\"js_iframetest\" style=\"display:none;\"></div>\n",
      "<div class=\"rich_media_extra\" id=\"sg_cmt_area\">\n",
      "<div class=\"discuss_container\" id=\"sg_cmt_main\" style=\"display:none\">\n",
      "<div class=\"rich_tips with_line title_tips discuss_title_line\">\n",
      "<span class=\"tips\">精选留言</span>\n",
      "</div>\n",
      "<ul class=\"discuss_list\" id=\"sg_cmt_list\"></ul>\n",
      "</div>\n",
      "<div class=\"rich_tips tips_global loading_tips\" id=\"sg_cmt_loading\">\n",
      "<img alt=\"\" class=\"rich_icon icon_loading_white\" src=\"http://res.wx.qq.com/mmbizwap/zh_CN/htmledition/images/icon/common/icon_loading_white2805ea.gif\">\n",
      "<span class=\"tips\">加载中</span>\n",
      "</img></div>\n",
      "<div class=\"rich_tips with_line tips_global\" id=\"sg_cmt_statement\" style=\"display:none\">\n",
      "<span class=\"tips\">以上留言由公众号筛选后显示</span>\n",
      "</div>\n",
      "<p class=\"rich_split_tips tc\" id=\"sg_cmt_qa\" style=\"display:none;\">\n",
      "<a href=\"http://kf.qq.com/touch/sappfaq/150211YfyMVj150313qmMbyi.html?scene_id=kf264\">\r\n",
      "                                了解留言功能详情\r\n",
      "                            </a>\n",
      "</p>\n",
      "</div>\n",
      "</div>\n",
      "</div>\n",
      "<div class=\"qr_code_pc_outer\" id=\"js_pc_qr_code\" style=\"display:none;\">\n",
      "<div class=\"qr_code_pc_inner\">\n",
      "<div class=\"qr_code_pc\">\n",
      "<img class=\"qr_code_pc_img\" id=\"js_pc_qr_code_img\">\n",
      "<p>微信扫一扫<br>关注该公众号</br></p>\n",
      "</img></div>\n",
      "</div>\n",
      "</div>\n",
      "</div>\n",
      "</div>\n",
      "<script>\r\n",
      "    var __DEBUGINFO = {\r\n",
      "        debug_js : \"http://res.wx.qq.com/mmbizwap/zh_CN/htmledition/js/biz_wap/debug/console2ca724.js\",\r\n",
      "        safe_js : \"http://res.wx.qq.com/mmbizwap/zh_CN/htmledition/js/biz_wap/safe/moonsafe2d5cb8.js\",\r\n",
      "        res_list: []\r\n",
      "    };\r\n",
      "</script>\n",
      "<script>window.moon_map = {\"appmsg/emotion/caret.js\":\"http://res.wx.qq.com/mmbizwap/zh_CN/htmledition/js/appmsg/emotion/caret278965.js\",\"biz_wap/jsapi/cardticket.js\":\"http://res.wx.qq.com/mmbizwap/zh_CN/htmledition/js/biz_wap/jsapi/cardticket275627.js\",\"appmsg/emotion/map.js\":\"http://res.wx.qq.com/mmbizwap/zh_CN/htmledition/js/appmsg/emotion/map278965.js\",\"appmsg/emotion/textarea.js\":\"http://res.wx.qq.com/mmbizwap/zh_CN/htmledition/js/appmsg/emotion/textarea27cdc5.js\",\"appmsg/emotion/nav.js\":\"http://res.wx.qq.com/mmbizwap/zh_CN/htmledition/js/appmsg/emotion/nav278965.js\",\"appmsg/emotion/common.js\":\"http://res.wx.qq.com/mmbizwap/zh_CN/htmledition/js/appmsg/emotion/common278965.js\",\"appmsg/emotion/slide.js\":\"http://res.wx.qq.com/mmbizwap/zh_CN/htmledition/js/appmsg/emotion/slide2a9cd9.js\",\"pages/report.js\":\"http://res.wx.qq.com/mmbizwap/zh_CN/htmledition/js/pages/report2c9cd6.js\",\"pages/music_player.js\":\"http://res.wx.qq.com/mmbizwap/zh_CN/htmledition/js/pages/music_player2b674b.js\",\"pages/loadscript.js\":\"http://res.wx.qq.com/mmbizwap/zh_CN/htmledition/js/pages/loadscript2c9cd6.js\",\"appmsg/emotion/dom.js\":\"http://res.wx.qq.com/mmbizwap/zh_CN/htmledition/js/appmsg/emotion/dom278965.js\",\"biz_wap/utils/hashrouter.js\":\"http://res.wx.qq.com/mmbizwap/zh_CN/htmledition/js/biz_wap/utils/hashrouter2805ea.js\",\"a/gotoappdetail.js\":\"http://res.wx.qq.com/mmbizwap/zh_CN/htmledition/js/a/gotoappdetail2a2c13.js\",\"a/ios.js\":\"http://res.wx.qq.com/mmbizwap/zh_CN/htmledition/js/a/ios275627.js\",\"a/android.js\":\"http://res.wx.qq.com/mmbizwap/zh_CN/htmledition/js/a/android2c5484.js\",\"a/profile.js\":\"http://res.wx.qq.com/mmbizwap/zh_CN/htmledition/js/a/profile29b1f8.js\",\"a/mpshop.js\":\"http://res.wx.qq.com/mmbizwap/zh_CN/htmledition/js/a/mpshop2da3e2.js\",\"a/card.js\":\"http://res.wx.qq.com/mmbizwap/zh_CN/htmledition/js/a/card2d1390.js\",\"biz_wap/utils/position.js\":\"http://res.wx.qq.com/mmbizwap/zh_CN/htmledition/js/biz_wap/utils/position29b1f8.js\",\"appmsg/a_report.js\":\"http://res.wx.qq.com/mmbizwap/zh_CN/htmledition/js/appmsg/a_report2d87eb.js\",\"biz_common/utils/respTypes.js\":\"http://res.wx.qq.com/mmbizwap/zh_CN/htmledition/js/biz_common/utils/respTypes2c57d0.js\",\"appmsg/cmt_tpl.html.js\":\"http://res.wx.qq.com/mmbizwap/zh_CN/htmledition/js/appmsg/cmt_tpl.html2a2c13.js\",\"sougou/a_tpl.html.js\":\"http://res.wx.qq.com/mmbizwap/zh_CN/htmledition/js/sougou/a_tpl.html2c6e7c.js\",\"appmsg/emotion/emotion.js\":\"http://res.wx.qq.com/mmbizwap/zh_CN/htmledition/js/appmsg/emotion/emotion2a9cd9.js\",\"biz_common/utils/report.js\":\"http://res.wx.qq.com/mmbizwap/zh_CN/htmledition/js/biz_common/utils/report275627.js\",\"biz_common/utils/huatuo.js\":\"http://res.wx.qq.com/mmbizwap/zh_CN/htmledition/js/biz_common/utils/huatuo293afc.js\",\"biz_common/utils/cookie.js\":\"http://res.wx.qq.com/mmbizwap/zh_CN/htmledition/js/biz_common/utils/cookie275627.js\",\"pages/voice_component.js\":\"http://res.wx.qq.com/mmbizwap/zh_CN/htmledition/js/pages/voice_component2c5484.js\",\"new_video/ctl.js\":\"http://res.wx.qq.com/mmbizwap/zh_CN/htmledition/js/new_video/ctl2d441f.js\",\"biz_common/utils/monitor.js\":\"http://res.wx.qq.com/mmbizwap/zh_CN/htmledition/js/biz_common/utils/monitor2a30ee.js\",\"biz_common/utils/spin.js\":\"http://res.wx.qq.com/mmbizwap/zh_CN/htmledition/js/biz_common/utils/spin275627.js\",\"biz_wap/jsapi/pay.js\":\"http://res.wx.qq.com/mmbizwap/zh_CN/htmledition/js/biz_wap/jsapi/pay275627.js\",\"appmsg/reward_entry.js\":\"http://res.wx.qq.com/mmbizwap/zh_CN/htmledition/js/appmsg/reward_entry2db716.js\",\"appmsg/comment.js\":\"http://res.wx.qq.com/mmbizwap/zh_CN/htmledition/js/appmsg/comment2d39f3.js\",\"appmsg/like.js\":\"http://res.wx.qq.com/mmbizwap/zh_CN/htmledition/js/appmsg/like2b5583.js\",\"appmsg/a.js\":\"http://res.wx.qq.com/mmbizwap/zh_CN/htmledition/js/appmsg/a2da3e2.js\",\"pages/version4video.js\":\"http://res.wx.qq.com/mmbizwap/zh_CN/htmledition/js/pages/version4video2c7543.js\",\"rt/appmsg/getappmsgext.rt.js\":\"http://res.wx.qq.com/mmbizwap/zh_CN/htmledition/js/rt/appmsg/getappmsgext.rt2c21f6.js\",\"biz_wap/utils/storage.js\":\"http://res.wx.qq.com/mmbizwap/zh_CN/htmledition/js/biz_wap/utils/storage2a74ac.js\",\"biz_common/tmpl.js\":\"http://res.wx.qq.com/mmbizwap/zh_CN/htmledition/js/biz_common/tmpl2b3578.js\",\"appmsg/img_copyright_tpl.html.js\":\"http://res.wx.qq.com/mmbizwap/zh_CN/htmledition/js/appmsg/img_copyright_tpl.html2a2c13.js\",\"appmsg/a_tpl.html.js\":\"http://res.wx.qq.com/mmbizwap/zh_CN/htmledition/js/appmsg/a_tpl.html2d1390.js\",\"biz_common/ui/imgonepx.js\":\"http://res.wx.qq.com/mmbizwap/zh_CN/htmledition/js/biz_common/ui/imgonepx275627.js\",\"biz_common/dom/attr.js\":\"http://res.wx.qq.com/mmbizwap/zh_CN/htmledition/js/biz_common/dom/attr275627.js\",\"biz_wap/utils/ajax.js\":\"http://res.wx.qq.com/mmbizwap/zh_CN/htmledition/js/biz_wap/utils/ajax2c7a90.js\",\"biz_common/utils/string/html.js\":\"http://res.wx.qq.com/mmbizwap/zh_CN/htmledition/js/biz_common/utils/string/html29f4e9.js\",\"sougou/index.js\":\"http://res.wx.qq.com/mmbizwap/zh_CN/htmledition/js/sougou/index2c7543.js\",\"biz_wap/safe/mutation_observer_report.js\":\"http://res.wx.qq.com/mmbizwap/zh_CN/htmledition/js/biz_wap/safe/mutation_observer_report2d5cb8.js\",\"appmsg/report.js\":\"http://res.wx.qq.com/mmbizwap/zh_CN/htmledition/js/appmsg/report2cf2a3.js\",\"biz_common/dom/class.js\":\"http://res.wx.qq.com/mmbizwap/zh_CN/htmledition/js/biz_common/dom/class275627.js\",\"appmsg/report_and_source.js\":\"http://res.wx.qq.com/mmbizwap/zh_CN/htmledition/js/appmsg/report_and_source2c0ff9.js\",\"appmsg/page_pos.js\":\"http://res.wx.qq.com/mmbizwap/zh_CN/htmledition/js/appmsg/page_pos2d38d6.js\",\"appmsg/cdn_speed_report.js\":\"http://res.wx.qq.com/mmbizwap/zh_CN/htmledition/js/appmsg/cdn_speed_report2c57d0.js\",\"appmsg/voice.js\":\"http://res.wx.qq.com/mmbizwap/zh_CN/htmledition/js/appmsg/voice2ab8bd.js\",\"appmsg/qqmusic.js\":\"http://res.wx.qq.com/mmbizwap/zh_CN/htmledition/js/appmsg/qqmusic2ab8bd.js\",\"appmsg/iframe.js\":\"http://res.wx.qq.com/mmbizwap/zh_CN/htmledition/js/appmsg/iframe2cc9e4.js\",\"appmsg/review_image.js\":\"http://res.wx.qq.com/mmbizwap/zh_CN/htmledition/js/appmsg/review_image2d0cfe.js\",\"appmsg/outer_link.js\":\"http://res.wx.qq.com/mmbizwap/zh_CN/htmledition/js/appmsg/outer_link275627.js\",\"biz_wap/jsapi/core.js\":\"http://res.wx.qq.com/mmbizwap/zh_CN/htmledition/js/biz_wap/jsapi/core2c30c1.js\",\"biz_common/dom/event.js\":\"http://res.wx.qq.com/mmbizwap/zh_CN/htmledition/js/biz_common/dom/event275627.js\",\"appmsg/copyright_report.js\":\"http://res.wx.qq.com/mmbizwap/zh_CN/htmledition/js/appmsg/copyright_report2c57d0.js\",\"appmsg/cache.js\":\"http://res.wx.qq.com/mmbizwap/zh_CN/htmledition/js/appmsg/cache2a74ac.js\",\"appmsg/pay_for_reading.js\":\"http://res.wx.qq.com/mmbizwap/zh_CN/htmledition/js/appmsg/pay_for_reading2c5484.js\",\"appmsg/async.js\":\"http://res.wx.qq.com/mmbizwap/zh_CN/htmledition/js/appmsg/async2da3e2.js\",\"biz_wap/ui/lazyload_img.js\":\"http://res.wx.qq.com/mmbizwap/zh_CN/htmledition/js/biz_wap/ui/lazyload_img2b18f6.js\",\"biz_common/log/jserr.js\":\"http://res.wx.qq.com/mmbizwap/zh_CN/htmledition/js/biz_common/log/jserr2805ea.js\",\"appmsg/share.js\":\"http://res.wx.qq.com/mmbizwap/zh_CN/htmledition/js/appmsg/share2daac1.js\",\"biz_wap/utils/mmversion.js\":\"http://res.wx.qq.com/mmbizwap/zh_CN/htmledition/js/biz_wap/utils/mmversion275627.js\",\"appmsg/cdn_img_lib.js\":\"http://res.wx.qq.com/mmbizwap/zh_CN/htmledition/js/appmsg/cdn_img_lib275627.js\",\"biz_common/utils/url/parse.js\":\"http://res.wx.qq.com/mmbizwap/zh_CN/htmledition/js/biz_common/utils/url/parse2d1e61.js\",\"biz_wap/utils/device.js\":\"http://res.wx.qq.com/mmbizwap/zh_CN/htmledition/js/biz_wap/utils/device2b3aae.js\",\"biz_wap/jsapi/a8key.js\":\"http://res.wx.qq.com/mmbizwap/zh_CN/htmledition/js/biz_wap/jsapi/a8key2a30ee.js\",\"appmsg/index.js\":\"http://res.wx.qq.com/mmbizwap/zh_CN/htmledition/js/appmsg/index2d625d.js\"};</script><script src=\"http://res.wx.qq.com/mmbizwap/zh_CN/htmledition/js/biz_wap/moon2c7b0a.js\" type=\"text/javascript\"></script>\n",
      "<script id=\"voice_tpl\" type=\"text/html\">        \r\n",
      "        <span id=\"voice_main_<#=voiceid#>_<#=posIndex#>\" class=\"db audio_area <#if(!musicSupport){#> unsupport<#}#>\">\r\n",
      "            <span class=\"tc tips_global unsupport_tips\" <#if(show_not_support!==true){#>style=\"display:none;\"<#}#>>\r\n",
      "            当前浏览器不支持播放音乐或语音，请在微信或其他浏览器中播放            </span>\r\n",
      "            <span class=\"audio_wrp db\">\r\n",
      "                <span id=\"voice_play_<#=voiceid#>_<#=posIndex#>\" class=\"audio_play_area\">\r\n",
      "                    <i class=\"icon_audio_default\"></i>\r\n",
      "                    <i class=\"icon_audio_playing\"></i>\r\n",
      "                    <img src=\"http://res.wx.qq.com/mmbizwap/zh_CN/htmledition/images/icon/appmsg/audio/icon_audio_unread26f1f1.png\" alt=\"\" class=\"pic_audio_default\">\r\n",
      "                </span>\r\n",
      "                <span class=\"audio_length tips_global\"><#=duration_str#></span>\r\n",
      "                <span class=\"db audio_info_area\">\r\n",
      "                    <strong class=\"db audio_title\"><#=title#></strong>\r\n",
      "                    <span class=\"audio_source tips_global\"><#if(window.nickname){#>来自<#=window.nickname#><#}#></span>\r\n",
      "                </span>\r\n",
      "                <span id=\"voice_progress_<#=voiceid#>_<#=posIndex#>\" class=\"progress_bar\" style=\"width:0px;\"></span>\r\n",
      "            </span>\r\n",
      "        </span>\r\n",
      "    </script>\n",
      "<script id=\"qqmusic_tpl\" type=\"text/html\">        \r\n",
      "        <span id=\"qqmusic_main_<#=comment_id#>_<#=posIndex#>\" class=\"db qqmusic_area <#if(!musicSupport){#> unsupport<#}#>\">\r\n",
      "            <span class=\"tc tips_global unsupport_tips\" <#if(show_not_support!==true){#>style=\"display:none;\"<#}#>>\r\n",
      "            当前浏览器不支持播放音乐或语音，请在微信或其他浏览器中播放            </span>\r\n",
      "            <span class=\"db qqmusic_wrp\">\r\n",
      "                <span class=\"db qqmusic_bd\">\r\n",
      "                    <span id=\"qqmusic_play_<#=musicid#>_<#=posIndex#>\" class=\"play_area\">\r\n",
      "                        <i class=\"icon_qqmusic_switch\"></i>\r\n",
      "                        <img src=\"http://res.wx.qq.com/mmbizwap/zh_CN/htmledition/images/icon/appmsg/qqmusic/icon_qqmusic_default.2x26f1f1.png\" alt=\"\" class=\"pic_qqmusic_default\">\r\n",
      "                        <img src=\"<#=music_img#>\" data-autourl=\"<#=audiourl#>\" data-musicid=\"<#=musicid#>\" class=\"qqmusic_thumb\" alt=\"\">\r\n",
      "                    </span>\r\n",
      "                                        <a id=\"qqmusic_home_<#=musicid#>_<#=posIndex#>\" href=\"javascript:void(0);\" class=\"access_area\">\r\n",
      "                        <span class=\"qqmusic_songname\"><#=music_name#></span>\r\n",
      "                        <span class=\"qqmusic_singername\"><#=singer#></span>\r\n",
      "                        <span class=\"qqmusic_source\"><img src=\"http://res.wx.qq.com/mmbizwap/zh_CN/htmledition/images/icon/appmsg/qqmusic/icon_qqmusic_source263724.png\" alt=\"\"></span>\r\n",
      "                    </a>\r\n",
      "                </span>\r\n",
      "            </span>       \r\n",
      "        </span>\r\n",
      "    </script>\n",
      "<script type=\"text/javascript\">\r\n",
      "      var not_in_mm_css = \"http://res.wx.qq.com/mmbizwap/zh_CN/htmledition/style/page/appmsg/not_in_mm2c9cd6.css\";\r\n",
      "      var windowwx_css = \"http://res.wx.qq.com/mmbizwap/zh_CN/htmledition/style/page/appmsg/page_mp_article_improve_winwx2c9cd6.css\";\r\n",
      "      var tid = \"\";\r\n",
      "      var aid = \"\";\r\n",
      "      var clientversion = \"0\";\r\n",
      "      var appuin = \"\"||\"MjM5NzE0ODM2MA==\";\r\n",
      "\r\n",
      "      var source = \"\";\r\n",
      "      var scene = 75;\r\n",
      "      \r\n",
      "      var itemidx = \"\";\r\n",
      "\r\n",
      "      var _copyright_stat = \"0\";\r\n",
      "      var _ori_article_type = \"\";\r\n",
      "\r\n",
      "      var nickname = \"海尔北京\";\r\n",
      "      var appmsg_type = \"9\";\r\n",
      "      var ct = \"1447147910\";\r\n",
      "      var publish_time = \"2015-11-10\" || \"\";\r\n",
      "      var user_name = \"gh_63d8d14efccb\";\r\n",
      "      var user_name_new = \"\";\r\n",
      "      var fakeid   = \"\";\r\n",
      "      var version   = \"\";\r\n",
      "      var is_limit_user   = \"0\";\r\n",
      "      var round_head_img = \"http://mmsns.qpic.cn/mmsns/uXyUiafode1btBWqEK4F7RF94J5pJ2Yeu31p2PmzfBX6XqaUyEOw0Nw/0\";\r\n",
      "      var msg_title = \"维密还没开始，海尔就先来了一场生活大秀\";\r\n",
      "      var msg_desc = \"今年，维密大秀还没开始海尔就在双11发酵的时候来了一场生活大秀属于海尔双11的“天使翅膀”可见轮廓今年双11\";\r\n",
      "      var msg_cdn_url = \"http://mmbiz.qpic.cn/mmbiz/uXyUiafode1ZfQAZeRM6GiaIb8mpqaurspG4Pu9XPw5QEiblfbqVW0MlhwQN4X5SicvOXZ2Yh9obx7b2kBefHXiauRw/0?wx_fmt=jpeg\";\r\n",
      "      var msg_link = \"http://mp.weixin.qq.com/s?__biz=MjM5NzE0ODM2MA==&amp;mid=400316403&amp;idx=2&amp;sn=be39ae0b1519b7f9ae644d4f0a0f449b#rd\";\r\n",
      "      var user_uin = \"0\"*1;\r\n",
      "      var msg_source_url = '';\r\n",
      "      var img_format = 'jpeg';\r\n",
      "      var srcid = '';\r\n",
      "      var networkType;\r\n",
      "      var appmsgid = '' || ''|| \"400316403\";\r\n",
      "      var comment_id = \"0\" * 1;\r\n",
      "      var comment_enabled = \"\" * 1;\r\n",
      "      var is_need_reward = \"0\" * 1;\r\n",
      "      var is_https_res = (\"\" * 1) && (location.protocol == \"https:\");\r\n",
      "\r\n",
      "      var devicetype = \"\";\r\n",
      "      var source_username = \"\";  \r\n",
      "      var profile_ext_signature = \"\" || \"\";\r\n",
      "      var reprint_ticket = \"\";\r\n",
      "      var source_mid = \"\";\r\n",
      "      var source_idx = \"\";\r\n",
      "\r\n",
      "      var show_comment = \"\";\r\n",
      "      var __appmsgCgiData = {\r\n",
      "            can_use_page : \"0\"*1,\r\n",
      "            is_wxg_stuff_uin : \"0\"*1,\r\n",
      "            card_pos : \"\",\r\n",
      "            copyright_stat : \"0\",\r\n",
      "            source_biz : \"\",\r\n",
      "            hd_head_img : \"http://wx.qlogo.cn/mmhead/Q3auHgzwzM5pUsCtUC0NYmbCicrj226uYQvic4duuMu480fMCPqtzM3g/0\"||(window.location.protocol+\"//\"+window.location.host + \"http://res.wx.qq.com/mmbizwap/zh_CN/htmledition/images/pic/appmsg/pic_rumor_link.2x264e76.jpg\")\r\n",
      "      };\r\n",
      "      var _empty_v = \"http://res.wx.qq.com/mmbizwap/zh_CN/htmledition/images/pic/pages/voice/empty26f1f1.mp3\";\r\n",
      "\r\n",
      "      var copyright_stat = \"0\" * 1;\r\n",
      "\r\n",
      "      var pay_fee = \"\" * 1;\r\n",
      "      var pay_timestamp = \"\";\r\n",
      "      var need_pay = \"\" * 1;\r\n",
      "\r\n",
      "      var need_report_cost = \"0\" * 1;\r\n",
      "      var use_tx_video_player = \"0\" * 1;\r\n",
      "\r\n",
      "      var friend_read_source = \"\" || \"\";\r\n",
      "      var friend_read_version = \"\" || \"\";\r\n",
      "      var friend_read_class_id = \"\" || \"\";\r\n",
      "\r\n",
      "      var is_only_read = \"1\" * 1;\r\n",
      "\r\n",
      "      \r\n",
      "            window.wxtoken = \"\";\r\n",
      "          if(!!window.__initCatch){\r\n",
      "        window.__initCatch({\r\n",
      "            idkey : 27613,\r\n",
      "            startKey : 0,\r\n",
      "            limit : 128,\r\n",
      "            reportOpt : {\r\n",
      "                uin : uin,\r\n",
      "                biz : biz,\r\n",
      "                mid : mid,\r\n",
      "                idx : idx,\r\n",
      "                sn  : sn\r\n",
      "            },\r\n",
      "            extInfo : {\r\n",
      "                network_rate : 0.01    \n",
      "            }\r\n",
      "        });\r\n",
      "    }\r\n",
      "  </script>\n",
      "<script type=\"text/javascript\">\r\n",
      "            window.isSg=true;\r\n",
      "        window.sg_qr_code=\"/rr?timestamp=1463194316&src=3&ver=1&signature=OPPQA7aOWPCbC-c788NOa1wcSscBZ-Y0haA7lCXE2X0w-59MIasW5FOzhGXXu5o6FXKhTYfRSYV46UwC3DVHRZhW-D2WRPYjWI8EVt4hc5U=\";\r\n",
      "        window.sg_data={\r\n",
      "            src:\"3\",\r\n",
      "            ver:\"1\",\r\n",
      "            timestamp:\"1463191394\",\r\n",
      "            signature:\"cV3qMIBeBTS6i8cJJOPu98j-H9veEPx0Y0BekUE7F6*sal9nkYG*w*FwDiaySIfR4XZL-XFbo2TFzrMxEniDETDYIMRuKmisV8xjfOcCjEWmPkYfK57G*cffYv4JxuM*RUtN8LUIg*n6Kd0AKB8--w==\"\r\n",
      "        }\r\n",
      "          seajs.use('appmsg/index.js');\r\n",
      "  </script>\n",
      "</body>\n",
      "</html>\n",
      "\n"
     ]
    }
   ],
   "source": [
    "print soup"
   ]
  },
  {
   "cell_type": "code",
   "execution_count": 37,
   "metadata": {
    "collapsed": false
   },
   "outputs": [
    {
     "data": {
      "text/plain": [
       "<span class=\"praise_num\" id=\"sg_likeNum3\"></span>"
      ]
     },
     "execution_count": 37,
     "metadata": {},
     "output_type": "execute_result"
    }
   ],
   "source": [
    "soup.find(id='sg_likeNum3')"
   ]
  },
  {
   "cell_type": "markdown",
   "metadata": {},
   "source": [
    "# 作业：\n",
    "\n",
    "- 抓取复旦新媒体微信公众号最新一期的内容\n"
   ]
  }
 ],
 "metadata": {
  "celltoolbar": "Slideshow",
  "kernelspec": {
   "display_name": "Python 2",
   "language": "python",
   "name": "python2"
  },
  "language_info": {
   "codemirror_mode": {
    "name": "ipython",
    "version": 2
   },
   "file_extension": ".py",
   "mimetype": "text/x-python",
   "name": "python",
   "nbconvert_exporter": "python",
   "pygments_lexer": "ipython2",
   "version": "2.7.11"
  }
 },
 "nbformat": 4,
 "nbformat_minor": 0
}
