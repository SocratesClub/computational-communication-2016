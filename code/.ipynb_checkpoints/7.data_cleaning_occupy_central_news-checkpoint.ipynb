{
 "cells": [
  {
   "cell_type": "markdown",
   "metadata": {
    "slideshow": {
     "slide_type": "slide"
    }
   },
   "source": [
    "***\n",
    "# 数据清洗：\n",
    "> # 对占中新闻进行数据清洗\n",
    "***\n",
    "***\n",
    "\n",
    "王成军\n",
    "\n",
    "wangchengjun@nju.edu.cn\n",
    "\n",
    "计算传播网 http://computational-communication.com"
   ]
  },
  {
   "cell_type": "code",
   "execution_count": 171,
   "metadata": {
    "collapsed": false,
    "slideshow": {
     "slide_type": "slide"
    }
   },
   "outputs": [],
   "source": [
    "with open(\"/Users/chengjun/github/cjc2016/data/ocuppy/central/zz-hk-2014-9.rtf\") as f:\n",
    "   news = f.readlines()"
   ]
  },
  {
   "cell_type": "code",
   "execution_count": 172,
   "metadata": {
    "collapsed": false,
    "slideshow": {
     "slide_type": "fragment"
    }
   },
   "outputs": [
    {
     "data": {
      "text/plain": [
       "9480"
      ]
     },
     "execution_count": 172,
     "metadata": {},
     "output_type": "execute_result"
    }
   ],
   "source": [
    "len(news)"
   ]
  },
  {
   "cell_type": "code",
   "execution_count": 173,
   "metadata": {
    "collapsed": false,
    "slideshow": {
     "slide_type": "fragment"
    }
   },
   "outputs": [
    {
     "name": "stdout",
     "output_type": "stream",
     "text": [
      "\\par\\par 【本报讯】「\\loch\\af0\\hich\\af0\\dbch\\f15 \\b\\cf6 占领中环\\loch\\af0\\hich\\af0\\dbch\\f15 \\b0\\cf0 」在网上热烈讨论，部分网民支持\\loch\\af0\\hich\\af0\\dbch\\f15 \\b\\cf6 占中\\loch\\af0\\hich\\af0\\dbch\\f15 \\b0\\cf0 ，赞叹香港人的素质，对和平\\loch\\af0\\hich\\af0\\dbch\\f15 \\b\\cf6 占中\\loch\\af0\\hich\\af0\\dbch\\f15 \\b0\\cf0 感到骄傲。一则「在场人士的经历」贴子，转述朋友经历，指虽然金钟港铁站人山人海，却秩序井然，市民高呼自己香港自己救，她认为市民的美丽、齐心及纯良无法形容。\\par\\par 港铁车长：金钟需要你\\par\\par 亦有网民深受香港人的团结精神所动容，有市民在乘港铁前往支援\\loch\\af0\\hich\\af0\\dbch\\f15 \\b\\cf6 占中\\loch\\af0\\hich\\af0\\dbch\\f15 \\b0\\cf0 ，到达金钟站时，听到车长说的一句话，「金钟落车嘅乘客，请加油\n"
     ]
    }
   ],
   "source": [
    "print news[17].decode('gb18030')[:500]"
   ]
  },
  {
   "cell_type": "code",
   "execution_count": 174,
   "metadata": {
    "collapsed": true,
    "slideshow": {
     "slide_type": "slide"
    }
   },
   "outputs": [],
   "source": [
    "\n",
    "def stringclean(s):\n",
    "    s = s.decode('gb18030').encode('utf8')\n",
    "    s = s.replace(r'\\loch\\af0\\hich\\af0\\dbch\\f15 \\b\\cf6 ', '')\n",
    "    s = s.replace(r'\\loch\\af0\\hich\\af0\\dbch\\f15 \\b0\\cf0 ', '')\n",
    "    s = s.replace('\\par', '').replace('\\n', '')\n",
    "    return s"
   ]
  },
  {
   "cell_type": "code",
   "execution_count": 175,
   "metadata": {
    "collapsed": false,
    "slideshow": {
     "slide_type": "fragment"
    }
   },
   "outputs": [
    {
     "name": "stdout",
     "output_type": "stream",
     "text": [
      " 【本报讯】「占领中环」在网上热烈讨论，部分网民支持占中，赞叹香港人的素质，对和平占中感到骄傲。一则「在场人士的经历」贴子，转述朋友经历，指虽然金钟港铁站人山人海，却秩序井然，市民高呼自己香港自己救，她认为市民的美丽、齐心及纯良无法形容。 港铁车长：金钟需要你 亦有网民深受香港人的团结精神所动容，有市民在乘港铁前往支援占中，到达金钟站时，听到车长说的一句话，「金钟落车嘅乘客，请加油，金钟需要你哋！」亦有网民被在旺角示威、齐心演唱本地乐队Beyond《光辉岁月》的市民所感动，「今天只有残留的躯壳，迎接光辉岁月，风雨中抱紧自由！」更认为这是香港人的歌。 然而亦有不少网民反对占中，担心运动带来负面影响。一位自称「师奶」的网民表示，占中行动令香港陷入混乱，应和平地寻求共识。有网民指行动已变质，太过煽情失去理性。亦有网民分析，认为目前政改框架非完美，但亦应「一人让一步」，而且部分人太偏激，会拖垮经济，比没有普选「死得更快」。更有人指自己支持争取民主，但占中以威胁方式难以达到目的，应有耐性一步一步去做，同时保障经济及民主发展。 \n"
     ]
    }
   ],
   "source": [
    "print stringclean(news[17])"
   ]
  },
  {
   "cell_type": "code",
   "execution_count": 176,
   "metadata": {
    "collapsed": false,
    "slideshow": {
     "slide_type": "subslide"
    }
   },
   "outputs": [
    {
     "data": {
      "text/plain": [
       "9480"
      ]
     },
     "execution_count": 176,
     "metadata": {},
     "output_type": "execute_result"
    }
   ],
   "source": [
    "news_clean = [stringclean(n) for n in news]\n",
    "len(news_clean)"
   ]
  },
  {
   "cell_type": "code",
   "execution_count": 177,
   "metadata": {
    "collapsed": false,
    "slideshow": {
     "slide_type": "fragment"
    }
   },
   "outputs": [
    {
     "name": "stdout",
     "output_type": "stream",
     "text": [
      " 【本报讯】「占领中环」在网上热烈讨论，部分网民支持占中，赞叹香港人\n"
     ]
    }
   ],
   "source": [
    "print news_clean[17][:100]"
   ]
  },
  {
   "cell_type": "code",
   "execution_count": 181,
   "metadata": {
    "collapsed": true,
    "slideshow": {
     "slide_type": "slide"
    }
   },
   "outputs": [],
   "source": [
    "from collections import defaultdict\n",
    "\n",
    "def deletetab(s):\n",
    "    return s.replace('\\t', '')\n",
    "\n",
    "\n",
    "import sys\n",
    "def flushPrint(s):\n",
    "    sys.stdout.write('\\r')\n",
    "    sys.stdout.write('%s' % s)\n",
    "    sys.stdout.flush()\n",
    "    "
   ]
  },
  {
   "cell_type": "code",
   "execution_count": 183,
   "metadata": {
    "collapsed": false,
    "slideshow": {
     "slide_type": "slide"
    }
   },
   "outputs": [],
   "source": [
    "def readblocks(data):\n",
    "    copy = False\n",
    "    n = 0\n",
    "    block = []\n",
    "    chunk = defaultdict(lambda:[])\n",
    "    for i in data:\n",
    "        try:\n",
    "            if \"~~~~~~~~~~~~~~~~~~~~~~~~~~  #\" in i:\n",
    "                copy = True\n",
    "            elif \"文章编号:\" in i:\n",
    "                id = i.replace('文章编号: ', '')\n",
    "                source = block[0].split('|')[0]\n",
    "                info = block[1]\n",
    "                title = deletetab(block[3])\n",
    "                body = [j for j in block[6:] if j != '\\n']\n",
    "                body = ' '.join(body)\n",
    "                body = deletetab(body)\n",
    "                body = '\"' + body  + '\"'\n",
    "                line = '\\t'.join([id, source, info, title, body])\n",
    "                chunk[id] = line\n",
    "                block = []\n",
    "                n += 1\n",
    "                if n%10 == 0:\n",
    "                    flushPrint(n)\n",
    "                copy = False\n",
    "            elif copy:\n",
    "                block.append(i)\n",
    "        except Exception, e:\n",
    "            print i, e\n",
    "            pass\n",
    "    return chunk"
   ]
  },
  {
   "cell_type": "code",
   "execution_count": 186,
   "metadata": {
    "collapsed": false,
    "slideshow": {
     "slide_type": "slide"
    }
   },
   "outputs": [
    {
     "name": "stdout",
     "output_type": "stream",
     "text": [
      "410"
     ]
    }
   ],
   "source": [
    "news_result = readblocks(news_clean)"
   ]
  },
  {
   "cell_type": "code",
   "execution_count": 187,
   "metadata": {
    "collapsed": false,
    "slideshow": {
     "slide_type": "fragment"
    }
   },
   "outputs": [
    {
     "data": {
      "text/plain": [
       "412"
      ]
     },
     "execution_count": 187,
     "metadata": {},
     "output_type": "execute_result"
    }
   ],
   "source": [
    "len(news_result)"
   ]
  },
  {
   "cell_type": "code",
   "execution_count": 190,
   "metadata": {
    "collapsed": false,
    "slideshow": {
     "slide_type": "fragment"
    }
   },
   "outputs": [
    {
     "data": {
      "text/plain": [
       "['201409015325665 ',\n",
       " '201409055305251 ',\n",
       " '201409165304250 ',\n",
       " '201409300050105 ',\n",
       " '201409290320076 ']"
      ]
     },
     "execution_count": 190,
     "metadata": {},
     "output_type": "execute_result"
    }
   ],
   "source": [
    "news_result.keys()[:5]"
   ]
  },
  {
   "cell_type": "code",
   "execution_count": 192,
   "metadata": {
    "collapsed": false,
    "slideshow": {
     "slide_type": "fragment"
    }
   },
   "outputs": [],
   "source": [
    "with open('/Users/chengjun/github/cjc2016/data/zz-hk-2014-9-clean.txt','a') as p:\n",
    "     for record in news_result.values():\n",
    "         p.write(record+\"\\n\")"
   ]
  },
  {
   "cell_type": "code",
   "execution_count": 194,
   "metadata": {
    "collapsed": false,
    "slideshow": {
     "slide_type": "slide"
    }
   },
   "outputs": [
    {
     "data": {
      "text/html": [
       "<div>\n",
       "<table border=\"1\" class=\"dataframe\">\n",
       "  <thead>\n",
       "    <tr style=\"text-align: right;\">\n",
       "      <th></th>\n",
       "      <th>0</th>\n",
       "      <th>1</th>\n",
       "      <th>2</th>\n",
       "      <th>3</th>\n",
       "      <th>4</th>\n",
       "    </tr>\n",
       "  </thead>\n",
       "  <tbody>\n",
       "    <tr>\n",
       "      <th>0</th>\n",
       "      <td>201409015325665</td>\n",
       "      <td>南华早报</td>\n",
       "      <td>EDT13| EDT</td>\n",
       "      <td>Pain of stasis</td>\n",
       "      <td>没有文字档。</td>\n",
       "    </tr>\n",
       "    <tr>\n",
       "      <th>1</th>\n",
       "      <td>201409055305251</td>\n",
       "      <td>大公报</td>\n",
       "      <td>A20| 专版</td>\n",
       "      <td>坚决支持和拥护 全国人大常委会对香港政改的决定</td>\n",
       "      <td>一、本会坚决支持全国人大常委会关于香港特别行政区行政长官普选问题和201...</td>\n",
       "    </tr>\n",
       "    <tr>\n",
       "      <th>2</th>\n",
       "      <td>201409165304250</td>\n",
       "      <td>大公报</td>\n",
       "      <td>B02| 经济．航运</td>\n",
       "      <td>粤投1.8亿入股中超</td>\n",
       "      <td>【大公报记者毛丽娟深圳十五日电】中国水业（01129）与粤海投资（002...</td>\n",
       "    </tr>\n",
       "    <tr>\n",
       "      <th>3</th>\n",
       "      <td>201409300050105</td>\n",
       "      <td>文汇报</td>\n",
       "      <td>B04| 地产新闻</td>\n",
       "      <td>提早开标 信置高价夺粉岭地 中标价7.3亿 呎价区内新高</td>\n",
       "      <td>香港文汇报讯 (记者 颜伦乐) 地政总署昨日突然提早开标，较平日三个工作...</td>\n",
       "    </tr>\n",
       "    <tr>\n",
       "      <th>4</th>\n",
       "      <td>201409290320076</td>\n",
       "      <td>东方日报</td>\n",
       "      <td>B12| 产经</td>\n",
       "      <td>星湾御累收逾2200票</td>\n",
       "      <td>多家发展商表示，新盘部署暂未受到「占中」影响，恒地（00012）马鞍山迎...</td>\n",
       "    </tr>\n",
       "    <tr>\n",
       "      <th>5</th>\n",
       "      <td>201409300010113</td>\n",
       "      <td>香港商报</td>\n",
       "      <td>A10| 投资分析| 股海追踪| By 蔺常念</td>\n",
       "      <td>炒壳股秘诀</td>\n",
       "      <td>九月份环球利率上升，内地经济数据转弱，加上9月28日开始占中，令港股寻底...</td>\n",
       "    </tr>\n",
       "    <tr>\n",
       "      <th>6</th>\n",
       "      <td>201409160040016</td>\n",
       "      <td>明报</td>\n",
       "      <td>A22| 教育| By 刘锦辉</td>\n",
       "      <td>时事通识教材</td>\n",
       "      <td>文：通识科教师刘锦辉漫画创作：梁浩铨 时事焦点：黑布游行涉及单元：今日香...</td>\n",
       "    </tr>\n",
       "    <tr>\n",
       "      <th>7</th>\n",
       "      <td>201409305305767</td>\n",
       "      <td>am730</td>\n",
       "      <td>A62| 娱乐</td>\n",
       "      <td>王敏德担心香港会暴乱</td>\n",
       "      <td>王敏德(Michael)与女儿王曼喜，昨日坐直升机现身东莞出席高尔夫球赛...</td>\n",
       "    </tr>\n",
       "    <tr>\n",
       "      <th>8</th>\n",
       "      <td>201409264480062</td>\n",
       "      <td>英文虎报</td>\n",
       "      <td>P08| Top News| By Imogene Wong</td>\n",
       "      <td>Occupy fears trim benchmark</td>\n",
       "      <td>Hong Kong shares skidded to  their l...</td>\n",
       "    </tr>\n",
       "    <tr>\n",
       "      <th>9</th>\n",
       "      <td>201409135304499</td>\n",
       "      <td>大公报</td>\n",
       "      <td>A08| 要闻</td>\n",
       "      <td>谭耀宗鼓励港人发声撑普选</td>\n",
       "      <td>【大公报讯】记者张媞报道：全国政协委员、民建联主席谭耀宗昨日在「闽港合作...</td>\n",
       "    </tr>\n",
       "  </tbody>\n",
       "</table>\n",
       "</div>"
      ],
      "text/plain": [
       "                 0       1                                 2  \\\n",
       "0  201409015325665   南华早报                       EDT13| EDT     \n",
       "1  201409055305251    大公报                          A20| 专版     \n",
       "2  201409165304250    大公报                       B02| 经济．航运     \n",
       "3  201409300050105    文汇报                        B04| 地产新闻     \n",
       "4  201409290320076   东方日报                          B12| 产经     \n",
       "5  201409300010113   香港商报          A10| 投资分析| 股海追踪| By 蔺常念     \n",
       "6  201409160040016     明报                  A22| 教育| By 刘锦辉     \n",
       "7  201409305305767  am730                          A62| 娱乐     \n",
       "8  201409264480062   英文虎报   P08| Top News| By Imogene Wong     \n",
       "9  201409135304499    大公报                          A08| 要闻     \n",
       "\n",
       "                               3  \\\n",
       "0                Pain of stasis    \n",
       "1       坚决支持和拥护 全国人大常委会对香港政改的决定    \n",
       "2                    粤投1.8亿入股中超    \n",
       "3  提早开标 信置高价夺粉岭地 中标价7.3亿 呎价区内新高    \n",
       "4                   星湾御累收逾2200票    \n",
       "5                         炒壳股秘诀    \n",
       "6                        时事通识教材    \n",
       "7                    王敏德担心香港会暴乱    \n",
       "8   Occupy fears trim benchmark    \n",
       "9                  谭耀宗鼓励港人发声撑普选    \n",
       "\n",
       "                                                   4  \n",
       "0                                         没有文字档。      \n",
       "1            一、本会坚决支持全国人大常委会关于香港特别行政区行政长官普选问题和201...  \n",
       "2            【大公报记者毛丽娟深圳十五日电】中国水业（01129）与粤海投资（002...  \n",
       "3            香港文汇报讯 (记者 颜伦乐) 地政总署昨日突然提早开标，较平日三个工作...  \n",
       "4            多家发展商表示，新盘部署暂未受到「占中」影响，恒地（00012）马鞍山迎...  \n",
       "5            九月份环球利率上升，内地经济数据转弱，加上9月28日开始占中，令港股寻底...  \n",
       "6            文：通识科教师刘锦辉漫画创作：梁浩铨 时事焦点：黑布游行涉及单元：今日香...  \n",
       "7            王敏德(Michael)与女儿王曼喜，昨日坐直升机现身东莞出席高尔夫球赛...  \n",
       "8            Hong Kong shares skidded to  their l...  \n",
       "9            【大公报讯】记者张媞报道：全国政协委员、民建联主席谭耀宗昨日在「闽港合作...  "
      ]
     },
     "execution_count": 194,
     "metadata": {},
     "output_type": "execute_result"
    }
   ],
   "source": [
    "import pandas as pd\n",
    "\n",
    "df = pd.read_csv('/Users/chengjun/github/cjc2016/data/zz-hk-2014-9-clean.txt', sep = \"\\t\", header=None)\n",
    "df[:10]"
   ]
  },
  {
   "cell_type": "code",
   "execution_count": 197,
   "metadata": {
    "collapsed": false,
    "slideshow": {
     "slide_type": "slide"
    }
   },
   "outputs": [
    {
     "data": {
      "text/plain": [
       "['zz-hk-2014-10.rtf', 'zz-hk-2014-9.rtf']"
      ]
     },
     "execution_count": 197,
     "metadata": {},
     "output_type": "execute_result"
    }
   ],
   "source": [
    "import os\n",
    "os.chdir('/Users/chengjun/github/cjc2016/data/occupycentral/')\n",
    "import glob\n",
    "filenames = glob.glob('*.rtf')\n",
    "filenames"
   ]
  },
  {
   "cell_type": "code",
   "execution_count": 198,
   "metadata": {
    "collapsed": false,
    "slideshow": {
     "slide_type": "fragment"
    }
   },
   "outputs": [
    {
     "name": "stdout",
     "output_type": "stream",
     "text": [
      "zz-hk-2014-10.rtf\n",
      "710zz-hk-2014-9.rtf\n",
      "410"
     ]
    }
   ],
   "source": [
    "for i in filenames:\n",
    "    print i\n",
    "    with open(i) as f:\n",
    "        news = f.readlines()\n",
    "        news = [stringclean(n) for n in news]\n",
    "        news_result = readblocks(news)\n",
    "        with open('/Users/chengjun/github/cjc2016/data/zz-hk-all-clean.txt','a') as p:\n",
    "            for record in news_result.values():\n",
    "                p.write(record+\"\\n\")"
   ]
  },
  {
   "cell_type": "markdown",
   "metadata": {
    "slideshow": {
     "slide_type": "slide"
    }
   },
   "source": [
    "# This is the End.\n",
    "> Thank you for your attention."
   ]
  }
 ],
 "metadata": {
  "celltoolbar": "Slideshow",
  "kernelspec": {
   "display_name": "Python 2",
   "language": "python",
   "name": "python2"
  },
  "language_info": {
   "codemirror_mode": {
    "name": "ipython",
    "version": 2
   },
   "file_extension": ".py",
   "mimetype": "text/x-python",
   "name": "python",
   "nbconvert_exporter": "python",
   "pygments_lexer": "ipython2",
   "version": "2.7.11"
  }
 },
 "nbformat": 4,
 "nbformat_minor": 0
}
