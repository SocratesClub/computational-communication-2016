{
 "cells": [
  {
   "cell_type": "markdown",
   "metadata": {
    "slideshow": {
     "slide_type": "slide"
    }
   },
   "source": [
    "\n",
    "***\n",
    "***\n",
    "# Graphlab 安装与使用\n",
    "***\n",
    "***\n",
    "\n",
    "王成军\n",
    "\n",
    "wangchengjun@nju.edu.cn\n",
    "\n",
    "计算传播网 http://computational-communication.com"
   ]
  },
  {
   "cell_type": "markdown",
   "metadata": {
    "slideshow": {
     "slide_type": "slide"
    }
   },
   "source": [
    "\n",
    "# Anaconda中的安装方法\n",
    "- 打开Anaconda的Terminal，有两种方法，任选一种：\n",
    "    - 打开Anaconda内置的Spyder，在tools中打开open a terminal\n",
    "    - 打开Dato Launcher,选择并打开 'Terminal'\n",
    "- 输入：\n",
    "\n",
    "> pip install -U graphlab-create"
   ]
  },
  {
   "cell_type": "markdown",
   "metadata": {
    "slideshow": {
     "slide_type": "subslide"
    }
   },
   "source": [
    "# windows用户安装graphlab-create出错：unistall tornado, permission denied： tornado/speedup.pdy, 解决方法：\n",
    "- 首先，卸载tornado：\n",
    "> conda remove tornado\n",
    "- 然后，重新运行：\n",
    "> pip install -U graphlab-create"
   ]
  },
  {
   "cell_type": "markdown",
   "metadata": {
    "slideshow": {
     "slide_type": "slide"
    }
   },
   "source": [
    "# set product key using GraphLab Create API"
   ]
  },
  {
   "cell_type": "code",
   "execution_count": 2,
   "metadata": {
    "collapsed": true,
    "slideshow": {
     "slide_type": "fragment"
    }
   },
   "outputs": [],
   "source": [
    "# set product key using GraphLab Create API\n",
    "import graphlab\n",
    "graphlab.product_key.set_product_key('4972-65DF-8E02-816C') # 替换为你的序列号"
   ]
  },
  {
   "cell_type": "markdown",
   "metadata": {
    "slideshow": {
     "slide_type": "slide"
    }
   },
   "source": [
    "\n",
    "# 使用方法\n",
    "\n",
    "https://dato.com/learn/userguide/\n",
    "\n",
    "GraphLab Create is a Python package that allows programmers to perform end-to-end large-scale data analysis and data product development.\n",
    "\n",
    "- Data ingestion and cleaning with SFrames. SFrame is an efficient disk-based tabular data structure that is not limited by RAM. This lets you scale your analysis and data processing to handle terabytes of data, even on your laptop.\n",
    "\n",
    "- Data exploration and visualization with GraphLab Canvas. GraphLab Canvas is a browser-based interactive GUI that allows you to explore tabular data, summary plots and statistics.\n",
    "\n",
    "- Network analysis with SGraph. SGraph is a disk-based graph data structure that stores vertices and edges in SFrames.\n",
    "\n",
    "- Predictive model development with machine learning toolkits. GraphLab Create includes several toolkits for quick prototyping with fast, scalable algorithms.\n",
    "\n",
    "- Production automation with data pipelines. Data pipelines allow you to assemble reusable code tasks into jobs and automatically run them on common execution environments (e.g. Amazon Web Services, Hadoop)."
   ]
  },
  {
   "cell_type": "markdown",
   "metadata": {
    "slideshow": {
     "slide_type": "slide"
    }
   },
   "source": [
    "# Upgrade\n",
    "\n",
    "You can use pip to upgrade the graphlab-create package. For more information see \n",
    "\n",
    "https://dato.com/products/create/upgrade.\n",
    "\n",
    "# upgrade to latest version on pypi.python.org\n",
    "> # pip install --upgrade graphlab-create"
   ]
  },
  {
   "cell_type": "markdown",
   "metadata": {
    "slideshow": {
     "slide_type": "slide"
    }
   },
   "source": [
    "# 阅读材料\n",
    "- https://dato.com/learn/userguide/\n",
    "\n",
    "- http://computational-communication.com/2015/11/graphlab%E7%9A%84%E5%AE%89%E8%A3%85%E5%92%8C%E4%BD%BF%E7%94%A8/"
   ]
  },
  {
   "cell_type": "code",
   "execution_count": null,
   "metadata": {
    "collapsed": true,
    "slideshow": {
     "slide_type": "skip"
    }
   },
   "outputs": [],
   "source": []
  }
 ],
 "metadata": {
  "celltoolbar": "Slideshow",
  "kernelspec": {
   "display_name": "Python 2",
   "language": "python",
   "name": "python2"
  },
  "language_info": {
   "codemirror_mode": {
    "name": "ipython",
    "version": 2
   },
   "file_extension": ".py",
   "mimetype": "text/x-python",
   "name": "python",
   "nbconvert_exporter": "python",
   "pygments_lexer": "ipython2",
   "version": "2.7.11"
  }
 },
 "nbformat": 4,
 "nbformat_minor": 0
}
