{
 "cells": [
  {
   "cell_type": "markdown",
   "metadata": {
    "slideshow": {
     "slide_type": "slide"
    }
   },
   "source": [
    "\n",
    "### 复旦大学新闻学院新媒体硕士课程\n",
    "***\n",
    "***\n",
    "# 《计算新闻传播学》课程简介\n",
    "***\n",
    "***\n",
    "\n",
    "王成军 \n",
    "\n",
    "wangchengjun@nju.edu.cn\n",
    "\n",
    "计算传播网 http://computational-communication.com\n"
   ]
  },
  {
   "cell_type": "markdown",
   "metadata": {
    "slideshow": {
     "slide_type": "slide"
    }
   },
   "source": [
    "<img src = './img/webavatar.png'>\n",
    "http://computational-communication.com"
   ]
  },
  {
   "cell_type": "markdown",
   "metadata": {
    "slideshow": {
     "slide_type": "slide"
    }
   },
   "source": [
    "# 内容\n",
    "- 时间安排\n",
    "- 课程资料\n",
    "- 授课计划\n",
    "- 课前准备"
   ]
  },
  {
   "cell_type": "markdown",
   "metadata": {
    "slideshow": {
     "slide_type": "slide"
    }
   },
   "source": [
    "# 时间安排\n",
    "\n",
    "- 36学时，两学分\n",
    "\n",
    "\n",
    "| 时间          |  上午         |    下午   |晚上        | 课时数量   |\n",
    "| -------------|:-------------:|:-------------:|:-------------:|-----:|\n",
    "| 2016-05-13 周五| 9:00-12:00 | 15:30-17:30 | 作业&答疑 | 5学时\n",
    "| 2016-05-14 周六 | 9:00-12:00 | 14:00-17:00 | 18:00-21:00 | 9学时|\n",
    "| 2016-05-15 周天 | 9:00-12:00 | 14:00-17:00 | 作业&答疑 | 6学时|\n",
    "| 2016-05-19 周四 |  |  | 18:00-21:00 | 3学时|\n",
    "| 2016-05-20 周五 | 9:00-12:00 | 14:00-17:00 | 作业&答疑 | 6学时|\n",
    "| 2016-05-21 周六 | 9:00-12:00| 14:00-17:00 | 18:00-21:00| 9学时|\n",
    "| 2016-05-22 周天 | 9:00-12:00 | 作业&答疑 | | 3学时|\n",
    "\n"
   ]
  },
  {
   "cell_type": "code",
   "execution_count": 1,
   "metadata": {
    "collapsed": false,
    "slideshow": {
     "slide_type": "fragment"
    }
   },
   "outputs": [
    {
     "data": {
      "text/plain": [
       "41"
      ]
     },
     "execution_count": 1,
     "metadata": {},
     "output_type": "execute_result"
    }
   ],
   "source": [
    "5+9+6+3+6+9+3"
   ]
  },
  {
   "cell_type": "markdown",
   "metadata": {
    "slideshow": {
     "slide_type": "slide"
    }
   },
   "source": [
    "# 课程资料\n",
    "- (包括数据、PPT、可视化、图片、代码) http://github.com/computational-class/cjc2016/\n"
   ]
  },
  {
   "cell_type": "markdown",
   "metadata": {
    "slideshow": {
     "slide_type": "slide"
    }
   },
   "source": [
    "# 授课计划\n",
    "\n",
    "- 一、计算新闻传播学简介\n",
    "- 二、数据科学的编程工具：大数据(1h)\n",
    "- 三、数据科学的编程工具：Python使用简介（3h）\n",
    "- 四、数据抓取：抓取两会报告\n",
    "- 五、数据抓取：抓取天涯论坛帖子\n",
    "- 六、数据清洗：清洗推特数据\n",
    "- 七、数据清洗：清洗占中新闻、清洗天涯论坛帖子\n",
    "- 八、计算传播与统计初步: 分析天涯论坛的帖子\n",
    "- 九、计算传播与机器学习: 分析天涯论坛的帖子"
   ]
  },
  {
   "cell_type": "markdown",
   "metadata": {
    "slideshow": {
     "slide_type": "subslide"
    }
   },
   "source": [
    "- 十、文本挖掘简介\n",
    "\n",
    "\n",
    "- 十一、基于机器学习的情感分析\n",
    "- 十二、主题模型\n",
    "- 十三、计算传播应用：推荐系统简介\n",
    "\n",
    "\n",
    "- 十四、计算传播应用：推荐系统实践\n",
    "- 十五、网络科学理论简介\n",
    "- 十六、网络科学模型\n",
    "\n",
    "\n",
    "- 十七、网络科学实践：使用networkx分析网络结构\n",
    "- 十八、课程总结与学生研究项目展示"
   ]
  },
  {
   "cell_type": "markdown",
   "metadata": {
    "slideshow": {
     "slide_type": "slide"
    }
   },
   "source": [
    "# 课前准备\n",
    "\n",
    "- 下载&安装anaconda python https://www.continuum.io/downloads\n",
    "\n",
    "<img src='https://www.continuum.io/sites/all/themes/continuum_foundation/images/logos/logo-anaconda.svg' width = 700px>"
   ]
  },
  {
   "cell_type": "markdown",
   "metadata": {
    "slideshow": {
     "slide_type": "slide"
    }
   },
   "source": [
    "# 课前准备\n",
    "- 申请dato graphlab的学术版本，获得序列号即可 https://dato.com/download/academic.html\n",
    "\n",
    "![](https://dato.com/images/learn/learngalleryheader.jpg)\n"
   ]
  },
  {
   "cell_type": "markdown",
   "metadata": {
    "slideshow": {
     "slide_type": "slide"
    }
   },
   "source": [
    "# 课前准备\n",
    "\n",
    "- Python入门 http://www.imooc.com/view/177\n",
    "- [Beginning Python 《Python基础教程》](http://book.douban.com/subject/5948760/)\n",
    "- 用Python玩转数据 http://www.icourse163.org/course/nju-1001571005#/info"
   ]
  },
  {
   "cell_type": "markdown",
   "metadata": {
    "slideshow": {
     "slide_type": "slide"
    }
   },
   "source": [
    "# 课前准备\n",
    "- 注册github账户 http://github.com\n",
    "- watch and fork 本课程repo: https://github.com/computational-class/cjc2016/\n",
    "- 下载并安装github desktop客户端 （建议：非必须内容）： https://desktop.github.com/"
   ]
  },
  {
   "cell_type": "markdown",
   "metadata": {
    "slideshow": {
     "slide_type": "slide"
    }
   },
   "source": [
    "# Python's Role in Big Data Analytics\n"
   ]
  },
  {
   "cell_type": "markdown",
   "metadata": {
    "slideshow": {
     "slide_type": "slide"
    }
   },
   "source": [
    "# This is the End.\n",
    "> Thank you for your attention!"
   ]
  }
 ],
 "metadata": {
  "celltoolbar": "Slideshow",
  "kernelspec": {
   "display_name": "Python 2",
   "language": "python",
   "name": "python2"
  },
  "language_info": {
   "codemirror_mode": {
    "name": "ipython",
    "version": 2
   },
   "file_extension": ".py",
   "mimetype": "text/x-python",
   "name": "python",
   "nbconvert_exporter": "python",
   "pygments_lexer": "ipython2",
   "version": "2.7.11"
  }
 },
 "nbformat": 4,
 "nbformat_minor": 0
}
