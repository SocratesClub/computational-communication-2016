{
 "cells": [
  {
   "cell_type": "markdown",
   "metadata": {
    "slideshow": {
     "slide_type": "slide"
    }
   },
   "source": [
    "\n",
    "***\n",
    "***\n",
    "# 计算传播学简介\n",
    "***\n",
    "***\n",
    "\n",
    "王成军 \n",
    "\n",
    "wangchengjun@nju.edu.cn\n",
    "\n",
    "计算传播网 http://computational-communication.com\n"
   ]
  },
  {
   "cell_type": "markdown",
   "metadata": {
    "slideshow": {
     "slide_type": "subslide"
    }
   },
   "source": [
    "<img src = './img/webavatar.png'>"
   ]
  },
  {
   "cell_type": "markdown",
   "metadata": {
    "collapsed": true,
    "slideshow": {
     "slide_type": "slide"
    }
   },
   "source": [
    "# 内容简介\n",
    "\n",
    "- 一、引言：大数据时代\n",
    "- 二、如何认识世界\n",
    "- 三、科学的四重境界\n",
    "- 四、可计算性\n",
    "- 五、定义计算传播\n",
    "- 六、通往计算传播学之路\n",
    "    - 方法\\工具\\案例\n",
    "\n"
   ]
  },
  {
   "cell_type": "markdown",
   "metadata": {
    "collapsed": true,
    "slideshow": {
     "slide_type": "slide"
    }
   },
   "source": [
    "# 一、引言：社会科学\n",
    "Feynman on social sciences\n",
    "\n",
    "- Pseudo-science\n",
    "- Forms\n",
    "- Laws\n"
   ]
  },
  {
   "cell_type": "markdown",
   "metadata": {
    "collapsed": true,
    "slideshow": {
     "slide_type": "subslide"
    }
   },
   "source": [
    "# 计算社会科学\n",
    "- Lazer et al (2009) Compuational social science. Science. V323. 6 Feb 2009\n",
    "    - 计算社会科学正在涌现\n",
    "    - 大规模的数据收集和数据分析\n",
    "    - 网络科学视角\n",
    "    - 揭示个体和群体行为的模式\n",
    "- D. Watts, A twenty-first century science. Nature 445, 489 (2007).\n",
    "    - 互联网大数据\n",
    "    - 网络科学视角\n"
   ]
  },
  {
   "cell_type": "markdown",
   "metadata": {
    "collapsed": true,
    "slideshow": {
     "slide_type": "subslide"
    }
   },
   "source": [
    "# 产生背景\n",
    "- 网络科学（network science）\n",
    "- 计算语言学 （computational linguistics）\n",
    "- 数据科学（data science）\n",
    "\n",
    "- 社会计算 （social computing）\n",
    "- 普适计算（ubiquitous computing）\n",
    "\n",
    "- 可视化 （visualization）\n",
    "\n",
    "- 数据新闻学 (data journalism)\n",
    "- 计算广告学 (computational advising)\n"
   ]
  },
  {
   "cell_type": "markdown",
   "metadata": {
    "collapsed": true,
    "slideshow": {
     "slide_type": "slide"
    }
   },
   "source": [
    "# 如何认识计算社会科学？\n"
   ]
  },
  {
   "cell_type": "markdown",
   "metadata": {
    "collapsed": true,
    "slideshow": {
     "slide_type": "subslide"
    }
   },
   "source": [
    "## 计算社会科学社区的发展\n",
    "\n",
    "<img src = './img/cc_rise.png' width = 500px>\n",
    "\n",
    "王成军（2015）计算传播学:作为计算社会科学的传播学.《中国网络传播研究》8.193-208"
   ]
  },
  {
   "cell_type": "markdown",
   "metadata": {
    "collapsed": true,
    "slideshow": {
     "slide_type": "subslide"
    }
   },
   "source": [
    "# 跨学科视野\n",
    "\n",
    "被引用数量前十名的期刊\n",
    "\n",
    "\n",
    "<img src = './img/cc_journal.png' width = 500px>\n",
    "\n",
    "王成军（2015）计算传播学:作为计算社会科学的传播学.《中国网络传播研究》8.193-208"
   ]
  },
  {
   "cell_type": "markdown",
   "metadata": {
    "collapsed": true,
    "slideshow": {
     "slide_type": "subslide"
    }
   },
   "source": [
    "# 研究脉络\n",
    "被引用数量前十名的文献\n",
    "\n",
    "<img src = './img/cc_pers.png' width = 500px>\n",
    "\n",
    "王成军（2015）计算传播学:作为计算社会科学的传播学.《中国网络传播研究》8.193-208"
   ]
  },
  {
   "cell_type": "markdown",
   "metadata": {
    "collapsed": true,
    "slideshow": {
     "slide_type": "subslide"
    }
   },
   "source": [
    "# 计算社会科学是科学吗？\n",
    "## Geology is not a real science\n",
    "> Sheldon from the big bang theory\n",
    "\n",
    "http://www.youtube.com/watch?v=sYMFHON8LFw\n"
   ]
  },
  {
   "cell_type": "markdown",
   "metadata": {
    "collapsed": true,
    "slideshow": {
     "slide_type": "slide"
    }
   },
   "source": [
    "# 二、如何认识世界？\n",
    "- 洞穴之喻\n",
    "- 开放思维\n",
    "- 康德：“我们所有的知识起源于感知，然后发展为理解，终结为理性。没有比理性更高的东西。”\n",
    "    - Immanuel Kant: All our knowledge begins with the senses, proceeds then to the understanding, and ends with reason. There is nothing higher than reason. \n",
    "- Paul Erdos: My brain is open. \n",
    "- Follow your logic\n"
   ]
  },
  {
   "cell_type": "markdown",
   "metadata": {
    "collapsed": true,
    "slideshow": {
     "slide_type": "subslide"
    }
   },
   "source": [
    "# 常识? \n",
    "- Everything is obvious: Once your know the answer\n",
    "    > Duncan J. Watts: \n",
    "\n",
    "- 当我们谈到社会科学时候，我们总觉得任何事情都是明显的，似乎采用常识（common sense）就可以回答绝大多数问题。\n",
    "- 硬科学与软科学\n",
    "\n"
   ]
  },
  {
   "cell_type": "markdown",
   "metadata": {
    "slideshow": {
     "slide_type": "subslide"
    }
   },
   "source": [
    "Lazarsfeld, Paul F. 1949. “The American Soldier—An Expository Review.”Public Opinion Quarterly 13 (3):377—404.\n",
    "\n",
    "美国士兵研究起源于二战，美国陆军部对参战的60万士兵进行了调查，毫无疑问这一定花费了很多纳税人的钱。拉杂斯菲尔德“声称”他们发现来自农村的士兵更快乐。这是为什么呢？\n"
   ]
  },
  {
   "cell_type": "markdown",
   "metadata": {
    "slideshow": {
     "slide_type": "fragment"
    }
   },
   "source": [
    "事实上，拉杂斯菲尔德告诉读者，他们的发现恰好与之相反：来自城市的士兵更快乐！\n",
    "这又是为什么呢？"
   ]
  },
  {
   "cell_type": "markdown",
   "metadata": {
    "slideshow": {
     "slide_type": "fragment"
    }
   },
   "source": [
    "所以这个发现也是显而易见的！于是问题就来了：当每个答案以及与它们的对立的答案从常识的角度都看上去如此明显，那么我们对于“显而易见”（obviousness)的理解肯定出了问题。\n"
   ]
  },
  {
   "cell_type": "markdown",
   "metadata": {
    "slideshow": {
     "slide_type": "subslide"
    }
   },
   "source": [
    "# 理论的三个比喻\n",
    "- 理论即逻辑的组合。\n",
    "    - 网络、望远镜、地图"
   ]
  },
  {
   "cell_type": "markdown",
   "metadata": {
    "slideshow": {
     "slide_type": "subslide"
    }
   },
   "source": [
    "# 理论的沙漏模型\n",
    "\n",
    "学术论文的结构: 以小见大\\问题驱动\\理论驱动\\兴趣驱动\\研究设计\n",
    "\n",
    "<img src = './img/sandglass.png' width = 500px>"
   ]
  },
  {
   "cell_type": "markdown",
   "metadata": {
    "slideshow": {
     "slide_type": "subslide"
    }
   },
   "source": [
    "# 理论是一棵树\n",
    "\n",
    "<img src='./img/theorytree.jpg' width = 500px>"
   ]
  },
  {
   "cell_type": "markdown",
   "metadata": {
    "slideshow": {
     "slide_type": "slide"
    }
   },
   "source": [
    "# 三、科学的四重境界\n",
    "科学的金字塔\n",
    "\n",
    "- 数据\n",
    "- 模式、定律\n",
    "- 机制\n",
    "- 原则\n"
   ]
  },
  {
   "cell_type": "markdown",
   "metadata": {
    "slideshow": {
     "slide_type": "subslide"
    }
   },
   "source": [
    "## 引力研究为例\n",
    "托勒密：地球处于宇宙中心\n",
    "\n",
    "- 引力第一重境界\n",
    "    - 哥白尼、弟谷\n",
    "- 引力第二重境界\n",
    "    - 开普勒\n",
    "- 引力第三重境界\n",
    "    - 牛顿\n",
    "- 引力的第四重境界\n",
    "    - 爱因斯坦\n",
    "\n",
    "Richard Feynman, which is titled The Character of Physical Law – Part 1 The Law of Gravitation http://v.youku.com/v_show/id_XNzc4Mjk1NjA=.html\n",
    "\n"
   ]
  },
  {
   "cell_type": "markdown",
   "metadata": {
    "slideshow": {
     "slide_type": "subslide"
    }
   },
   "source": [
    "# 开普勒定律\n",
    "\n",
    "- ①椭圆定律所有行星绕太阳的轨道都是椭圆，太阳在椭圆的一个焦点上。\n",
    "- ②面积定律行星和太阳的连线在相等的时间间隔内扫过相等的面积。\n",
    "- ③调和定律所有行星绕太阳一周的恒星时间T的平方与它们轨道长半轴A的立方成比例\n",
    "\n"
   ]
  },
  {
   "cell_type": "markdown",
   "metadata": {
    "slideshow": {
     "slide_type": "subslide"
    }
   },
   "source": [
    "# 牛顿运动定律\n",
    "由艾萨克·牛顿在1687年于《自然哲学的数学原理》一书中总结提出。\n",
    "- 第一定律说明了力的含义：力是改变物体运动状态的原因；\n",
    "- 第二定律指出了力的作用效果：力使物体获得加速度；\n",
    "- 第三定律揭示出力的本质：力是物体间的相互作用。[2] \n",
    "\n"
   ]
  },
  {
   "cell_type": "markdown",
   "metadata": {
    "slideshow": {
     "slide_type": "subslide"
    }
   },
   "source": [
    "# 伽利略的相对性原理\n",
    "- 一切彼此做匀速直线运动的惯性系，对于描写机械运动的力学规律来说是完全等价的。并不存在一个比其它惯性系更为优越的惯性系。\n",
    "- 在一个惯性系内部所作的任何力学实验都不能够确定这一惯性系本身是在静止状态，还是在作匀速直线运动。\n"
   ]
  },
  {
   "cell_type": "markdown",
   "metadata": {
    "slideshow": {
     "slide_type": "subslide"
    }
   },
   "source": [
    "# 等待牛顿\n",
    "\n",
    "- 太阳系行星的椭圆轨道\n",
    "- 彗星的抛物线轨道\n",
    "- 地球上的抛物线运动"
   ]
  },
  {
   "cell_type": "markdown",
   "metadata": {
    "slideshow": {
     "slide_type": "subslide"
    }
   },
   "source": [
    "# 传播学在哪里？\n",
    "\n",
    "- Claude Shannon \n",
    "\n",
    "- Paul Felix Lazarsfeld \n",
    "- Kurt Zadek Lewin \n",
    "- Harold Dwight Lasswell \n",
    "- Carl Iver Hovland \n",
    "\n",
    "  \n",
    "- Everett Rogers  \n",
    "\n",
    "- Maxwell McCombs\n",
    "- Elihu Katz\n",
    "\n",
    "- Elisabeth Noelle-Neumann \n",
    "- Jürgen Habermas \n",
    "\n",
    "- George Gerbner\n",
    "- Wilbur Lang Schramm \n",
    "- Walter Lippmann\n",
    "- Herbert Marshall McLuhan\n",
    "- Theodor W. Adorno\u000b",
    "\n"
   ]
  },
  {
   "cell_type": "markdown",
   "metadata": {
    "slideshow": {
     "slide_type": "slide"
    }
   },
   "source": [
    "# 四、可计算性\n",
    "\n",
    "- 关注事物本身可以被计算的程度\n",
    "> Computability is the ability to solve a problem in an effective manner。\n",
    "The computability of a problem is closely linked to the existence of an algorithm to solve the problem.\n",
    "- 算法的可计算函数\n",
    "    - 图灵停机：你能用编程语言写出来并运行的都是可计算函数\n"
   ]
  },
  {
   "cell_type": "markdown",
   "metadata": {
    "slideshow": {
     "slide_type": "subslide"
    }
   },
   "source": [
    "# 可计算化(Computational)\n",
    "- 关注事物本身可以被计算的方式\n",
    "- 可计算化思维（computational thinking）\n",
    "    - 任务的分解与自动化实现。\n",
    "        - Analyzing and logically organizing data\n",
    "        - Data modeling, data abstractions, and simulations\n",
    "        - Formulating problems such that computers may assist\n",
    "        - Identifying, testing, and implementing possible solutions\n",
    "        - Automating solutions via algorithmic thinking\n",
    "        - Generalizing and applying this process to other problems\n",
    "\n"
   ]
  },
  {
   "cell_type": "markdown",
   "metadata": {
    "slideshow": {
     "slide_type": "subslide"
    }
   },
   "source": [
    "# 传播学可计算化的基础存在吗？是什么？\n"
   ]
  },
  {
   "cell_type": "markdown",
   "metadata": {
    "slideshow": {
     "slide_type": "subslide"
    }
   },
   "source": [
    "# 可计算性与科学研究\n",
    "\n",
    "<img src = './img/comcom.png' width = 500px >"
   ]
  },
  {
   "cell_type": "markdown",
   "metadata": {
    "slideshow": {
     "slide_type": "subslide"
    }
   },
   "source": [
    "# 他山之石：网络科学\n",
    "\n",
    "- We live life in the network\n",
    "> Lazer et al (2009) Compuational social science. Science. V323. 6 Feb 2009\n",
    "\n",
    "- Complex networks have been studied extensively owing to their relevance to many real systems such as the world-wide web, the Internet, energy landscapes and biological and social networks. Song et al (2005)\n",
    "\n",
    "- Network science supplies a mathematical structure of the social phenomenon. "
   ]
  },
  {
   "cell_type": "markdown",
   "metadata": {
    "slideshow": {
     "slide_type": "slide"
    }
   },
   "source": [
    "# 五、定义计算传播学\n",
    "\n",
    "计算传播学（computational communication research）是可计算社会科学（computational social science）的重要分支。\n",
    "- 主要关注人类传播行为的可计算性基础。\n",
    "- 以传播网络分析、传播文本挖掘、数学建模等为主要分析工具\n",
    "- （以非介入地方式）大规模地收集并分析人类传播行为数据\n",
    "- 挖掘人类传播行为背后的模式和法则\n",
    "- 分析模式背后的生成机制与基本原理\n",
    "- 可以被广泛地应用于数据新闻和计算广告等场景\n",
    "- 注重编程训练、数学建模、可计算思维\n"
   ]
  },
  {
   "cell_type": "markdown",
   "metadata": {
    "slideshow": {
     "slide_type": "subslide"
    }
   },
   "source": [
    "# 计算传播社区\n",
    "\n",
    "- 计算传播网\n",
    "http://computational-communication.com/\n",
    "- 计算传播学豆瓣小站\n",
    "http://site.douban.com/146782/\n",
    "- 计算传播学邮件组\n",
    "https://groups.google.com/group/computational-communication\n",
    "- 计算传播学实验中心 http://cc.nju.eud.cn\n",
    "\n"
   ]
  },
  {
   "cell_type": "markdown",
   "metadata": {
    "slideshow": {
     "slide_type": "subslide"
    }
   },
   "source": [
    "# Meme背后的社区\n",
    "- Meme为什么能持续流行？\n",
    "    - 社区驱动 + 解决问题\n",
    "- Big data和machine learning：互联网公司\n",
    "    - 特征工程\n",
    "- Open science： 学术期刊、学会和大学\n",
    "    - 出版流程\n",
    "- Data journalism：媒体、新闻从业者、程序员\n",
    "    - 可视化需求\n",
    "- Network science：网络研究者、社交网站\n",
    "    - 复杂网络研究\n"
   ]
  },
  {
   "cell_type": "markdown",
   "metadata": {
    "slideshow": {
     "slide_type": "subslide"
    }
   },
   "source": [
    "# 我们的愿景：\n",
    "- 寻找人类传播行为可计算化的基因。\n",
    "- 基因是生物学飞跃的原因，货币是经济学发展的关键。人类传播行为所隐藏的计算化“基因”是什么？\n",
    "- 计算传播学致力于寻找传播学可计算化的基因、学习和传播可计算化思维/方法（电子化数据收集能力、编程能力、数学建模能力、网络分析、文本挖掘）、了解和训练计算传播学的社会化应用方法（数据新闻、计算广告、可视化等）。\n"
   ]
  },
  {
   "cell_type": "markdown",
   "metadata": {
    "slideshow": {
     "slide_type": "slide"
    }
   },
   "source": [
    "# 六、通往计算传播学之路\n",
    "- 方法：从数据到模型\n",
    "    - 开放数据 (open data)\n",
    "        - 实证数据\n",
    "        - 工具\n",
    "            - 开源（open source）\n",
    "            - R和Python\n",
    "    - 开放科学（open science）\n",
    "        - 数值模拟\n",
    "        - 多主体建模\n",
    "        - 分析模型\n",
    "        - 计算模型\n"
   ]
  },
  {
   "cell_type": "markdown",
   "metadata": {
    "slideshow": {
     "slide_type": "subslide"
    }
   },
   "source": [
    "# 书籍\n",
    "- Big Data\n",
    "- Doing data science\n",
    "- Beginning Python\n",
    "- Networks, crowds, and Markets"
   ]
  },
  {
   "cell_type": "markdown",
   "metadata": {
    "slideshow": {
     "slide_type": "subslide"
    }
   },
   "source": [
    "# 大数据：数字化“指纹”\n",
    "- Behavioral Data\n",
    "- Relational Data\n",
    "- Longitudinal \n",
    "- Big Data\n",
    "- Digital Data"
   ]
  },
  {
   "cell_type": "markdown",
   "metadata": {
    "slideshow": {
     "slide_type": "subslide"
    }
   },
   "source": [
    "D. Watts, A twenty-first century science. Nature 445, 489 (2007).\n",
    "> If handled appropriately, data about Internet-based communication and interactivity could revolutionize our understanding of collective human behaviour.\n",
    "\n",
    "很少有人会认为社会科学会成为21世纪科学的中心\n",
    "- 因为社会现象是最难解决的科学问题之一\n",
    "- 社会现象当中卷入了海量的异质性的个体之间的互动\n",
    "\n",
    "网站记录（Website Logs）与基于互联网的实验（Web-based experiments）\n",
    "    - 互联网公司与研究者的合作\n"
   ]
  },
  {
   "cell_type": "markdown",
   "metadata": {
    "slideshow": {
     "slide_type": "subslide"
    }
   },
   "source": [
    "# 学科基础\n",
    "- 物理学\n",
    "- 数学\n",
    "- 计算机科学\n",
    "- 数据科学\n",
    "- 计算语言学\n",
    "- 网络科学"
   ]
  },
  {
   "cell_type": "markdown",
   "metadata": {
    "slideshow": {
     "slide_type": "subslide"
    }
   },
   "source": [
    "# 模式或法则：异速增长定律\n",
    "\n",
    "<img src = './img/allowmetric.png' width = 500px>\n",
    "\n",
    "http://www.nature.com/scitable/knowledge/library/allometry-the-study-of-biological-scaling-13228439\n"
   ]
  },
  {
   "cell_type": "markdown",
   "metadata": {
    "slideshow": {
     "slide_type": "subslide"
    }
   },
   "source": [
    "<img src = './img/allowmetric2.png' width = 500px >"
   ]
  },
  {
   "cell_type": "markdown",
   "metadata": {
    "slideshow": {
     "slide_type": "subslide"
    }
   },
   "source": [
    "<img src = './img/allowmetric3.png' widht = 500px>\n",
    "\n",
    "Wu & Zhang (2011) Accelerating growth and size-dependent distribution of human online activities. PhysRevE.84.026113\n"
   ]
  },
  {
   "cell_type": "markdown",
   "metadata": {
    "slideshow": {
     "slide_type": "subslide"
    }
   },
   "source": [
    "# 在线社交网络\n",
    "\n",
    "选举行为可以通过社交网络传染\n",
    "\n",
    "<img src = './img/sns.png' width = 500px>\n",
    "\n",
    "Robert M. Bond et al. A 61-million-person experiment in social influence and political mobilization. Nature. 2012\n"
   ]
  },
  {
   "cell_type": "markdown",
   "metadata": {
    "slideshow": {
     "slide_type": "subslide"
    }
   },
   "source": [
    "# 手机通话网络\n",
    "传播的多样性制约社会经济的发展?\n",
    "\n",
    "<img src = './img/macy.png' width = 500px>\n",
    "\n",
    "Nathan Eagle, Michael Macy and Rob Claxton: Network Diversity and Economic Development, Science 328, 1029–1031, 2010.\n"
   ]
  },
  {
   "cell_type": "markdown",
   "metadata": {
    "slideshow": {
     "slide_type": "subslide"
    }
   },
   "source": [
    "# 情感分析\n",
    "\n",
    "<img src = './img/miller.png' width = 500px>\n",
    "\n",
    "Miller (2011) Social scientists wade into the tweet stream. Science\n"
   ]
  },
  {
   "cell_type": "markdown",
   "metadata": {
    "slideshow": {
     "slide_type": "subslide"
    }
   },
   "source": [
    "# 预测股票市场？\n",
    "Emotion: Calm\\Alert\\Sure\\Vital\\Kind\\Happy\n",
    "\n",
    "<img src = './img/bollen.png' width = 300px>\n",
    "\n",
    "Bollen (2011) Twitter mood predicts the stock market. JOCS\n"
   ]
  },
  {
   "cell_type": "markdown",
   "metadata": {
    "slideshow": {
     "slide_type": "subslide"
    }
   },
   "source": [
    "# The Twitter Political Index\n",
    "\n",
    "<img src = './img/twitter.png' width  = 500px>\n",
    "\n",
    "Figures source: election.twitter.com"
   ]
  },
  {
   "cell_type": "markdown",
   "metadata": {
    "slideshow": {
     "slide_type": "subslide"
    }
   },
   "source": [
    "# Google Flu Trends\n",
    "使用搜索引擎预测流感\n",
    "\n",
    "<img src = './img/googleflu.png' width = 500px>\n",
    "\n",
    "Ginsberg et al. Detecting influenza epidemics using search engine query data. Nature 457, 1012-1014 (19 February 2009)\n",
    "\n",
    "\n",
    "http://www.google.com/trends/correlate/comic\n"
   ]
  },
  {
   "cell_type": "markdown",
   "metadata": {
    "slideshow": {
     "slide_type": "subslide"
    }
   },
   "source": [
    "<img src = './img/cdc.png' width = 500px>\n",
    "\n",
    "“Nature reported that Google flu trends (GFT) was predicting more than double the proportion of doctor visits for influenza-like illness (ILI) than the Centers for Disease Control and Prevention (CDC), which bases its estimates on surveillance reports from laboratories across the United States (1, 2).”\n",
    "\n",
    "Lazer et al. (2014) The parable of Google Flu Traps in big data analysis. Science\n",
    "\n"
   ]
  },
  {
   "cell_type": "markdown",
   "metadata": {
    "slideshow": {
     "slide_type": "subslide"
    }
   },
   "source": [
    "# 理论的最高标准\n",
    "\n",
    "> Per Bak:“It puzzles me that geophysicists show little interest in underlying principles of their science. Perhaps they take it for granted that the earth is so complicated and messy that no general principles apply”. \n",
    "\n",
    "- How Nature Works? \n"
   ]
  },
  {
   "cell_type": "markdown",
   "metadata": {
    "slideshow": {
     "slide_type": "subslide"
    }
   },
   "source": [
    "# Hack定律\n",
    "\n",
    "Hack定律指出，在河流网络中，支流的长度（stream length）L和相对应的蓄水盆地面积（basin area）A之间存在如下标度关系：$L = A^h$\n",
    "\n",
    "其中h的数值在大多数水系的实证数据中都被测为0.6左右。\n",
    "\n"
   ]
  },
  {
   "cell_type": "markdown",
   "metadata": {
    "slideshow": {
     "slide_type": "subslide"
    }
   },
   "source": [
    "> # Before God we are all equally wise and equally foolish. Do not worry about your difficulties in Mathematics. I can assure you mine are still greater.\n",
    "——Albert Einstein \n"
   ]
  },
  {
   "cell_type": "markdown",
   "metadata": {
    "collapsed": true,
    "slideshow": {
     "slide_type": "subslide"
    }
   },
   "source": [
    "# 不管时代的潮流和社会的风尚怎样，人总可以凭着自己高尚的品质，超脱时代和社会，走自己正确的道路。现在，大家都为了电冰箱、汽车、房子而奔波、追逐、竞争。这就是我们这个时代的特征了。但是也还有不少人，他们不追求这些物质的东西，他们追求理想和真理，得到了内心的自由和安宁。\n",
    "> ## — 爱因斯坦"
   ]
  },
  {
   "cell_type": "markdown",
   "metadata": {
    "slideshow": {
     "slide_type": "slide"
    }
   },
   "source": [
    "# 阅读文献\n",
    "- Adam Mann (2016) Core Concepts: Computational social science. 113: 468–470, doi: 10.1073/pnas.1524881113 http://www.pnas.org/content/113/3/468.full\n",
    "- Watts, D. J. (2007). A twenty-first century science. Nature, 445(7127), 489-489. ↩\n",
    "- Lazer, D., Pentland, A. S., Adamic, L., Aral, S., Barabasi, A. L., Brewer, D., ... & Van Alstyne, M. (2009). Computational social science. Science (New York, NY), 323(5915), 721. ↩\n",
    "- Cioffi‐Revilla, C. (2010). Computational social science. Wiley Interdisciplinary Reviews: Computational Statistics, 2(3), 259-271. ↩\n",
    "- Strohmaier, M., & Wagner, C. (2014). Computational Social Science for the World Wide Web. IEEE Intelligent Systems, (5), 84-88. ↩\n",
    "- Conte, Rosaria, Nigel Gilbert, Guilia Bonelli, Claudio Cioffi-Revilla, Guillaume Deffuant, Janos Kertesz, Vittorio Loreto et al. \"Manifesto of computational social science.\" The European Physical Journal Special Topics 214, no. 1 (2012): 325-346.\n",
    "- Watts, D. J. (2007). A twenty-first century science. Nature, 445(7127), 489-489.\n",
    "- Duncan J. Watts 2011 Everything Is Obvious：Once You Know the Answer. Crown Business. 2011-3-29\n",
    "- 祝建华， 彭泰权， 梁海， 王成军， 秦洁， 陈鹤鑫 (2014) 计算社会科学在新闻传播研究中的应用 科研信息化技术与应用 5 (2), 3-13"
   ]
  },
  {
   "cell_type": "markdown",
   "metadata": {
    "slideshow": {
     "slide_type": "slide"
    }
   },
   "source": [
    "# This is the End.\n",
    "> Thank you for your attention!"
   ]
  }
 ],
 "metadata": {
  "celltoolbar": "Slideshow",
  "kernelspec": {
   "display_name": "Python 2",
   "language": "python",
   "name": "python2"
  },
  "language_info": {
   "codemirror_mode": {
    "name": "ipython",
    "version": 2
   },
   "file_extension": ".py",
   "mimetype": "text/x-python",
   "name": "python",
   "nbconvert_exporter": "python",
   "pygments_lexer": "ipython2",
   "version": "2.7.11"
  }
 },
 "nbformat": 4,
 "nbformat_minor": 0
}
