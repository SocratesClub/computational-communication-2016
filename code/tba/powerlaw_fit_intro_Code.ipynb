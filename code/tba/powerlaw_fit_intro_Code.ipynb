{
 "metadata": {
  "name": "",
  "signature": "sha256:7d28a26cdf8dcc7dff4df2bbf55b997dd5a7f551e135c7144a649ca564393e89"
 },
 "nbformat": 3,
 "nbformat_minor": 0,
 "worksheets": [
  {
   "cells": [
    {
     "cell_type": "code",
     "collapsed": false,
     "input": [
      "import powerlaw\n",
      "print(powerlaw.__version__)"
     ],
     "language": "python",
     "metadata": {},
     "outputs": [
      {
       "output_type": "stream",
       "stream": "stdout",
       "text": [
        "1.3.1\n"
       ]
      }
     ],
     "prompt_number": 2
    },
    {
     "cell_type": "code",
     "collapsed": false,
     "input": [
      "%pylab inline"
     ],
     "language": "python",
     "metadata": {},
     "outputs": [
      {
       "output_type": "stream",
       "stream": "stdout",
       "text": [
        "Populating the interactive namespace from numpy and matplotlib\n"
       ]
      }
     ],
     "prompt_number": 3
    },
    {
     "cell_type": "markdown",
     "metadata": {
      "variables": {}
     },
     "source": [
      "# Set up "
     ]
    },
    {
     "cell_type": "code",
     "collapsed": false,
     "input": [
      "import pylab\n",
      "pylab.rcParams['xtick.major.pad']='8'\n",
      "pylab.rcParams['ytick.major.pad']='8'\n",
      "#pylab.rcParams['font.sans-serif']='Arial'\n",
      "\n",
      "from matplotlib import rc\n",
      "rc('font', family='sans-serif')\n",
      "rc('font', size=10.0)\n",
      "rc('text', usetex=False)\n",
      "\n",
      "\n",
      "from matplotlib.font_manager import FontProperties\n",
      "\n",
      "panel_label_font = FontProperties().copy()\n",
      "panel_label_font.set_weight(\"bold\")\n",
      "panel_label_font.set_size(12.0)\n",
      "panel_label_font.set_family(\"sans-serif\")"
     ],
     "language": "python",
     "metadata": {},
     "outputs": [],
     "prompt_number": 4
    },
    {
     "cell_type": "code",
     "collapsed": false,
     "input": [
      "from os import listdir\n",
      "files = listdir('.')\n",
      "if 'blackouts.txt' not in files:\n",
      "    import urllib\n",
      "    urllib.urlretrieve('https://raw.github.com/jeffalstott/powerlaw/master/manuscript/blackouts.txt', 'blackouts.txt')\n",
      "if 'words.txt' not in files:\n",
      "    import urllib\n",
      "    urllib.urlretrieve('https://raw.github.com/jeffalstott/powerlaw/master/manuscript/words.txt', 'words.txt')\n",
      "if 'worm.txt' not in files:\n",
      "    import urllib\n",
      "    urllib.urlretrieve('https://raw.github.com/jeffalstott/powerlaw/master/manuscript/worm.txt', 'worm.txt')"
     ],
     "language": "python",
     "metadata": {},
     "outputs": [],
     "prompt_number": 5
    },
    {
     "cell_type": "code",
     "collapsed": false,
     "input": [
      "from numpy import genfromtxt\n",
      "blackouts = genfromtxt('blackouts.txt')#/10**3\n",
      "words = genfromtxt('words.txt')\n",
      "worm = genfromtxt('worm.txt')\n",
      "worm = worm[worm>0]"
     ],
     "language": "python",
     "metadata": {},
     "outputs": [],
     "prompt_number": 6
    },
    {
     "cell_type": "markdown",
     "metadata": {
      "variables": {}
     },
     "source": [
      "### Figure 1"
     ]
    },
    {
     "cell_type": "code",
     "collapsed": false,
     "input": [
      "def plot_basics(data, data_inst, fig, units):\n",
      "    from powerlaw import plot_pdf, Fit, pdf\n",
      "    annotate_coord = (-.4, .95)\n",
      "    ax1 = fig.add_subplot(n_graphs,n_data,data_inst)\n",
      "    x, y = pdf(data, linear_bins=True)\n",
      "    ind = y>0\n",
      "    y = y[ind]\n",
      "    x = x[:-1]\n",
      "    x = x[ind]\n",
      "    ax1.scatter(x, y, color='r', s=.5)\n",
      "    plot_pdf(data[data>0], ax=ax1, color='b', linewidth=2)\n",
      "    from pylab import setp\n",
      "    setp( ax1.get_xticklabels(), visible=False)\n",
      "\n",
      "    if data_inst==1:\n",
      "        ax1.annotate(\"A\", annotate_coord, xycoords=\"axes fraction\", fontproperties=panel_label_font)\n",
      "\n",
      "    \n",
      "    from mpl_toolkits.axes_grid.inset_locator import inset_axes\n",
      "    ax1in = inset_axes(ax1, width = \"30%\", height = \"30%\", loc=3)\n",
      "    ax1in.hist(data, normed=True, color='b')\n",
      "    ax1in.set_xticks([])\n",
      "    ax1in.set_yticks([])\n",
      "\n",
      "    \n",
      "    ax2 = fig.add_subplot(n_graphs,n_data,n_data+data_inst, sharex=ax1)\n",
      "    plot_pdf(data, ax=ax2, color='b', linewidth=2)\n",
      "    fit = Fit(data, xmin=1, discrete=True)\n",
      "    fit.power_law.plot_pdf(ax=ax2, linestyle=':', color='g')\n",
      "    p = fit.power_law.pdf()\n",
      "\n",
      "    ax2.set_xlim(ax1.get_xlim())\n",
      "    \n",
      "    fit = Fit(data, discrete=True)\n",
      "    fit.power_law.plot_pdf(ax=ax2, linestyle='--', color='g')\n",
      "    from pylab import setp\n",
      "    setp( ax2.get_xticklabels(), visible=False)\n",
      "\n",
      "    if data_inst==1:\n",
      "       ax2.annotate(\"B\", annotate_coord, xycoords=\"axes fraction\", fontproperties=panel_label_font)        \n",
      "       ax2.set_ylabel(u\"p(X)\")# (10^n)\")\n",
      "        \n",
      "    ax3 = fig.add_subplot(n_graphs,n_data,n_data*2+data_inst)#, sharex=ax1)#, sharey=ax2)\n",
      "    fit.power_law.plot_pdf(ax=ax3, linestyle='--', color='g')\n",
      "    fit.exponential.plot_pdf(ax=ax3, linestyle='--', color='r')\n",
      "    fit.plot_pdf(ax=ax3, color='b', linewidth=2)\n",
      "    \n",
      "    ax3.set_ylim(ax2.get_ylim())\n",
      "    ax3.set_xlim(ax1.get_xlim())\n",
      "    \n",
      "    if data_inst==1:\n",
      "        ax3.annotate(\"C\", annotate_coord, xycoords=\"axes fraction\", fontproperties=panel_label_font)\n",
      "\n",
      "    ax3.set_xlabel(units)"
     ],
     "language": "python",
     "metadata": {},
     "outputs": [],
     "prompt_number": 7
    },
    {
     "cell_type": "code",
     "collapsed": false,
     "input": [
      "n_data = 3\n",
      "n_graphs = 4\n",
      "f = figure(figsize=(8,11))\n",
      "\n",
      "data = words\n",
      "data_inst = 1\n",
      "units = 'Word Frequency'\n",
      "plot_basics(data, data_inst, f, units)\n",
      "\n",
      "data_inst = 2\n",
      "#data = city\n",
      "#units = 'City Population'\n",
      "data = worm\n",
      "units = 'Neuron Connections'\n",
      "plot_basics(data, data_inst, f, units)\n",
      "\n",
      "data = blackouts\n",
      "data_inst = 3\n",
      "units = 'Population Affected\\nby Blackouts'\n",
      "plot_basics(data, data_inst, f, units)\n",
      "\n",
      "f.subplots_adjust(left=None, bottom=None, right=None, top=None, wspace=.3, hspace=.2)\n",
      "figname = 'FigWorkflow'\n",
      "f.savefig(figname+'.eps', bbox_inches='tight')\n",
      "#f.savefig(figname+'.tiff', bbox_inches='tight', dpi=300)"
     ],
     "language": "python",
     "metadata": {},
     "outputs": [
      {
       "output_type": "stream",
       "stream": "stderr",
       "text": [
        "/Users/jeff/Desktop/powerlaw/powerlaw.py:687: RuntimeWarning: invalid value encountered in true_divide\n",
        "  )[1:]\n",
        "/Users/jeff/Desktop/powerlaw/powerlaw.py:687: RuntimeWarning: divide by zero encountered in true_divide\n",
        "  )[1:]\n"
       ]
      },
      {
       "output_type": "stream",
       "stream": "stdout",
       "text": [
        "Calculating best minimal value for power law fit\n",
        "Calculating best minimal value for power law fit"
       ]
      },
      {
       "output_type": "stream",
       "stream": "stdout",
       "text": [
        "\n",
        "Calculating best minimal value for power law fit"
       ]
      },
      {
       "output_type": "stream",
       "stream": "stdout",
       "text": [
        "\n"
       ]
      },
      {
       "output_type": "stream",
       "stream": "stderr",
       "text": [
        "/Users/jeff/anaconda3/lib/python3.4/site-packages/matplotlib/scale.py:100: RuntimeWarning: invalid value encountered in less_equal\n",
        "  a[a <= 0.0] = 1e-300\n"
       ]
      },
      {
       "metadata": {},
       "output_type": "display_data",
       "png": "[encoded data removed]",
       "text": [
        "<matplotlib.figure.Figure at 0x10664b240>"
       ]
      }
     ],
     "prompt_number": 8
    },
    {
     "cell_type": "code",
     "collapsed": false,
     "input": [
      "blackouts = blackouts/10**3"
     ],
     "language": "python",
     "metadata": {},
     "outputs": [],
     "prompt_number": 9
    },
    {
     "cell_type": "markdown",
     "metadata": {
      "variables": {}
     },
     "source": [
      "# Introduction"
     ]
    },
    {
     "cell_type": "code",
     "collapsed": false,
     "input": [
      "data = blackouts\n",
      "####\n",
      "import powerlaw\n",
      "fit = powerlaw.Fit(data)\n",
      "fit.power_law.alpha\n",
      "fit.power_law.sigma\n",
      "fit.distribution_compare('power_law', 'exponential')"
     ],
     "language": "python",
     "metadata": {},
     "outputs": [
      {
       "output_type": "stream",
       "stream": "stdout",
       "text": [
        "Calculating best minimal value for power law fit\n"
       ]
      },
      {
       "metadata": {},
       "output_type": "pyout",
       "prompt_number": 10,
       "text": [
        "(12.754562675882063, 0.1522925560442657)"
       ]
      }
     ],
     "prompt_number": 10
    },
    {
     "cell_type": "markdown",
     "metadata": {
      "variables": {}
     },
     "source": [
      "# Basic Methods"
     ]
    },
    {
     "cell_type": "markdown",
     "metadata": {
      "variables": {}
     },
     "source": [
      "## Visualization"
     ]
    },
    {
     "cell_type": "markdown",
     "metadata": {
      "variables": {}
     },
     "source": [
      "### PDF Linear vs Logarithmic Bins"
     ]
    },
    {
     "cell_type": "code",
     "collapsed": false,
     "input": [
      "data = words\n",
      "####\n",
      "figPDF = powerlaw.plot_pdf(data, color='b')\n",
      "powerlaw.plot_pdf(data, linear_bins=True, color='r', ax=figPDF)\n",
      "####\n",
      "figPDF.set_ylabel(\"p(X)\")\n",
      "figPDF.set_xlabel(r\"Word Frequency\")\n",
      "figname = 'FigPDF'\n",
      "savefig(figname+'.eps', bbox_inches='tight')\n",
      "#savefig(figname+'.tiff', bbox_inches='tight', dpi=300)"
     ],
     "language": "python",
     "metadata": {},
     "outputs": [
      {
       "metadata": {},
       "output_type": "display_data",
       "png": "[encoded data removed]",
       "text": [
        "<matplotlib.figure.Figure at 0x11c96a080>"
       ]
      }
     ],
     "prompt_number": 11
    },
    {
     "cell_type": "markdown",
     "metadata": {
      "variables": {}
     },
     "source": [
      "### Figure 2"
     ]
    },
    {
     "cell_type": "code",
     "collapsed": false,
     "input": [
      "data = words\n",
      "fit = powerlaw.Fit(data, discrete=True)\n",
      "####\n",
      "figCCDF = fit.plot_pdf(color='b', linewidth=2)\n",
      "fit.power_law.plot_pdf(color='b', linestyle='--', ax=figCCDF)\n",
      "fit.plot_ccdf(color='r', linewidth=2, ax=figCCDF)\n",
      "fit.power_law.plot_ccdf(color='r', linestyle='--', ax=figCCDF)\n",
      "####\n",
      "figCCDF.set_ylabel(u\"p(X),  p(X\u2265x)\")\n",
      "figCCDF.set_xlabel(r\"Word Frequency\")\n",
      "\n",
      "figname = 'FigCCDF'\n",
      "savefig(figname+'.eps', bbox_inches='tight')\n",
      "#savefig(figname+'.tiff', bbox_inches='tight', dpi=300)"
     ],
     "language": "python",
     "metadata": {},
     "outputs": [
      {
       "output_type": "stream",
       "stream": "stdout",
       "text": [
        "Calculating best minimal value for power law fit\n"
       ]
      },
      {
       "metadata": {},
       "output_type": "display_data",
       "png": "[encoded data removed]",
       "text": [
        "<matplotlib.figure.Figure at 0x11d2595f8>"
       ]
      }
     ],
     "prompt_number": 12
    },
    {
     "cell_type": "code",
     "collapsed": false,
     "input": [
      "data = blackouts\n",
      "fit = powerlaw.Fit(data)\n",
      "###\n",
      "x, y = fit.cdf()\n",
      "bin_edges, probability = fit.pdf()\n",
      "y = fit.lognormal.cdf(data=[300,350])\n",
      "y = fit.lognormal.pdf()"
     ],
     "language": "python",
     "metadata": {},
     "outputs": [
      {
       "output_type": "stream",
       "stream": "stdout",
       "text": [
        "Calculating best minimal value for power law fit\n"
       ]
      }
     ],
     "prompt_number": 13
    },
    {
     "cell_type": "markdown",
     "metadata": {
      "variables": {}
     },
     "source": [
      "## Identifying the Scaling Range"
     ]
    },
    {
     "cell_type": "code",
     "collapsed": false,
     "input": [
      "data = blackouts\n",
      "####\n",
      "import powerlaw\n",
      "fit = powerlaw.Fit(data)\n",
      "fit.xmin\n",
      "fit.fixed_xmin\n",
      "fit.alpha\n",
      "fit.D\n",
      "fit = powerlaw.Fit(data, xmin=1.0)\n",
      "fit.xmin\n",
      "fit.fixed_xmin\n",
      "fit.alpha\n",
      "fit.D"
     ],
     "language": "python",
     "metadata": {},
     "outputs": [
      {
       "output_type": "stream",
       "stream": "stdout",
       "text": [
        "Calculating best minimal value for power law fit\n"
       ]
      },
      {
       "metadata": {},
       "output_type": "pyout",
       "prompt_number": 14,
       "text": [
        "0.37601504850371725"
       ]
      }
     ],
     "prompt_number": 14
    },
    {
     "cell_type": "code",
     "collapsed": false,
     "input": [
      "data = blackouts\n",
      "####\n",
      "fit = powerlaw.Fit(data, xmin=(250.0, 300.0))\n",
      "fit.fixed_xmin\n",
      "fit.given_xmin\n",
      "fit.xmin"
     ],
     "language": "python",
     "metadata": {},
     "outputs": [
      {
       "output_type": "stream",
       "stream": "stdout",
       "text": [
        "Calculating best minimal value for power law fit\n"
       ]
      },
      {
       "metadata": {},
       "output_type": "pyout",
       "prompt_number": 15,
       "text": [
        "272.0"
       ]
      }
     ],
     "prompt_number": 15
    },
    {
     "cell_type": "code",
     "collapsed": false,
     "input": [
      "data = blackouts\n",
      "fit = powerlaw.Fit(data)\n",
      "####\n",
      "fit = powerlaw.Fit(data, xmax=10000.0)\n",
      "fit.xmax\n",
      "fit.fixed_xmax"
     ],
     "language": "python",
     "metadata": {},
     "outputs": [
      {
       "output_type": "stream",
       "stream": "stdout",
       "text": [
        "Calculating best minimal value for power law fit\n",
        "Calculating best minimal value for power law fit"
       ]
      },
      {
       "output_type": "stream",
       "stream": "stdout",
       "text": [
        "\n"
       ]
      },
      {
       "metadata": {},
       "output_type": "pyout",
       "prompt_number": 16,
       "text": [
        "True"
       ]
      }
     ],
     "prompt_number": 16
    },
    {
     "cell_type": "markdown",
     "metadata": {
      "variables": {}
     },
     "source": [
      "### Figure 3"
     ]
    },
    {
     "cell_type": "code",
     "collapsed": false,
     "input": [
      "data = words\n",
      "#FigCCDFmax = powerlaw.plot_ccdf(data, linewidth=3)\n",
      "fit = powerlaw.Fit(data, discrete=True, xmax=None)\n",
      "FigCCDFmax = fit.plot_ccdf(color='b', label=r\"Empirical, no $x_{max}$\")\n",
      "fit.power_law.plot_ccdf(color='b', linestyle='--', ax=FigCCDFmax, label=r\"Fit, no $x_{max}$\")\n",
      "fit = powerlaw.Fit(data, discrete=True, xmax=1000)\n",
      "fit.plot_ccdf(color='r', label=r\"Empirical, $x_{max}=1000$\")\n",
      "fit.power_law.plot_ccdf(color='r', linestyle='--', ax=FigCCDFmax, label=r\"Fit, $x_{max}=1000$\")\n",
      "#x, y = powerlaw.ccdf(data, xmax=max(data))\n",
      "#fig1.plot(x,y)\n",
      "####\n",
      "#FigCCDFmax.set_ylabel(r\"$p(X\\geq x)$\")\n",
      "FigCCDFmax.set_ylabel(u\"p(X\u2265x)\")\n",
      "FigCCDFmax.set_xlabel(r\"Word Frequency\")\n",
      "handles, labels = FigCCDFmax.get_legend_handles_labels()\n",
      "leg = FigCCDFmax.legend(handles, labels, loc=3)\n",
      "leg.draw_frame(False)\n",
      "\n",
      "figname = 'FigCCDFmax'\n",
      "savefig(figname+'.eps', bbox_inches='tight')\n",
      "#savefig(figname+'.tiff', bbox_inches='tight', dpi=300)"
     ],
     "language": "python",
     "metadata": {},
     "outputs": [
      {
       "output_type": "stream",
       "stream": "stdout",
       "text": [
        "Calculating best minimal value for power law fit\n",
        "Calculating best minimal value for power law fit"
       ]
      },
      {
       "output_type": "stream",
       "stream": "stderr",
       "text": [
        "/Users/jeff/Desktop/powerlaw/powerlaw.py:1165: RuntimeWarning: divide by zero encountered in double_scalars\n",
        "  C = 1.0/C\n",
        "/Users/jeff/anaconda3/lib/python3.4/site-packages/scipy/optimize/optimize.py:461: RuntimeWarning: invalid value encountered in subtract\n",
        "  numpy.max(numpy.abs(fsim[0] - fsim[1:])) <= ftol):\n",
        "/Users/jeff/anaconda3/lib/python3.4/site-packages/scipy/optimize/optimize.py:461: RuntimeWarning: invalid value encountered in absolute\n",
        "  numpy.max(numpy.abs(fsim[0] - fsim[1:])) <= ftol):\n",
        "/Users/jeff/Desktop/powerlaw/powerlaw.py:808: RuntimeWarning: invalid value encountered in multiply\n",
        "  likelihoods = f*C\n"
       ]
      },
      {
       "output_type": "stream",
       "stream": "stdout",
       "text": [
        "\n"
       ]
      },
      {
       "metadata": {},
       "output_type": "display_data",
       "png": "[encoded data removed]",
       "text": [
        "<matplotlib.figure.Figure at 0x11d8f10f0>"
       ]
      }
     ],
     "prompt_number": 17
    },
    {
     "cell_type": "markdown",
     "metadata": {
      "variables": {}
     },
     "source": [
      "## Continuous vs. Discrete Data"
     ]
    },
    {
     "cell_type": "code",
     "collapsed": false,
     "input": [
      "data = blackouts\n",
      "fit = powerlaw.Fit(data)\n",
      "####\n",
      "fit = powerlaw.Fit(data, xmin=230.0)\n",
      "fit.discrete\n",
      "fit = powerlaw.Fit(data, xmin=230.0, discrete=True)\n",
      "fit.discrete "
     ],
     "language": "python",
     "metadata": {},
     "outputs": [
      {
       "output_type": "stream",
       "stream": "stdout",
       "text": [
        "Calculating best minimal value for power law fit\n"
       ]
      },
      {
       "metadata": {},
       "output_type": "pyout",
       "prompt_number": 18,
       "text": [
        "True"
       ]
      }
     ],
     "prompt_number": 18
    },
    {
     "cell_type": "markdown",
     "metadata": {
      "variables": {}
     },
     "source": [
      "# Comparing Candidate Distributions"
     ]
    },
    {
     "cell_type": "code",
     "collapsed": false,
     "input": [
      "data = blackouts\n",
      "fit = powerlaw.Fit(data)\n",
      "####\n",
      "fit.power_law\n",
      "fit.power_law.alpha\n",
      "fit.power_law.parameter1\n",
      "fit.power_law.parameter1_name\n",
      "fit.lognormal.mu\n",
      "fit.lognormal.parameter1_name\n",
      "fit.lognormal.parameter2_name\n",
      "fit.lognormal.parameter3_name == None"
     ],
     "language": "python",
     "metadata": {},
     "outputs": [
      {
       "output_type": "stream",
       "stream": "stdout",
       "text": [
        "Calculating best minimal value for power law fit\n"
       ]
      },
      {
       "metadata": {},
       "output_type": "pyout",
       "prompt_number": 19,
       "text": [
        "True"
       ]
      }
     ],
     "prompt_number": 19
    },
    {
     "cell_type": "code",
     "collapsed": false,
     "input": [
      "data = blackouts\n",
      "####\n",
      "fit = powerlaw.Fit(data)\n",
      "R, p = fit.distribution_compare('power_law', 'exponential', normalized_ratio=True)\n",
      "print(R, p)"
     ],
     "language": "python",
     "metadata": {},
     "outputs": [
      {
       "output_type": "stream",
       "stream": "stdout",
       "text": [
        "Calculating best minimal value for power law fit\n",
        "1.43148048496"
       ]
      },
      {
       "output_type": "stream",
       "stream": "stdout",
       "text": [
        " 0.152292556044\n"
       ]
      }
     ],
     "prompt_number": 20
    },
    {
     "cell_type": "markdown",
     "metadata": {
      "variables": {}
     },
     "source": [
      "## Generative Mechanisms"
     ]
    },
    {
     "cell_type": "code",
     "collapsed": false,
     "input": [
      "data = worm\n",
      "fit = powerlaw.Fit(data, discrete=True)\n",
      "####\n",
      "fit.distribution_compare('power_law', 'exponential')\n",
      "fit.distribution_compare('power_law', 'truncated_power_law')"
     ],
     "language": "python",
     "metadata": {},
     "outputs": [
      {
       "output_type": "stream",
       "stream": "stdout",
       "text": [
        "Calculating best minimal value for power law fit\n",
        "Assuming nested distributions\n"
       ]
      },
      {
       "metadata": {},
       "output_type": "pyout",
       "prompt_number": 21,
       "text": [
        "(-0.070651754953475088, 0.70698857057674624)"
       ]
      }
     ],
     "prompt_number": 21
    },
    {
     "cell_type": "code",
     "collapsed": false,
     "input": [
      "data = worm\n",
      "fit = powerlaw.Fit(data, discrete=True)\n",
      "####\n",
      "fit.distribution_compare('power_law', 'exponential')\n",
      "fit.distribution_compare('power_law', 'truncated_power_law')"
     ],
     "language": "python",
     "metadata": {},
     "outputs": [
      {
       "output_type": "stream",
       "stream": "stdout",
       "text": [
        "Calculating best minimal value for power law fit\n",
        "Assuming nested distributions\n"
       ]
      },
      {
       "metadata": {},
       "output_type": "pyout",
       "prompt_number": 22,
       "text": [
        "(-0.070651754953475088, 0.70698857057674624)"
       ]
      }
     ],
     "prompt_number": 22
    },
    {
     "cell_type": "code",
     "collapsed": false,
     "input": [
      "data = words\n",
      "fit = powerlaw.Fit(data, discrete=True)\n",
      "####\n",
      "print(fit.distribution_compare('power_law', 'exponential', normalized_ratio=True))\n",
      "print(fit.distribution_compare('power_law', 'truncated_power_law'))"
     ],
     "language": "python",
     "metadata": {},
     "outputs": [
      {
       "output_type": "stream",
       "stream": "stdout",
       "text": [
        "Calculating best minimal value for power law fit\n",
        "(9.1359147187769985, 6.485614241379581e-20)"
       ]
      },
      {
       "output_type": "stream",
       "stream": "stdout",
       "text": [
        "\n",
        "Assuming nested distributions\n",
        "(-0.91712308337398118, 0.17562683168695525)"
       ]
      },
      {
       "output_type": "stream",
       "stream": "stdout",
       "text": [
        "\n"
       ]
      }
     ],
     "prompt_number": 23
    },
    {
     "cell_type": "code",
     "collapsed": false,
     "input": [
      "print(fit.distribution_compare('power_law', 'truncated_power_law'))"
     ],
     "language": "python",
     "metadata": {},
     "outputs": [
      {
       "output_type": "stream",
       "stream": "stdout",
       "text": [
        "Assuming nested distributions\n",
        "(-0.91712308337398118, 0.17562683168695525)"
       ]
      },
      {
       "output_type": "stream",
       "stream": "stdout",
       "text": [
        "\n"
       ]
      }
     ],
     "prompt_number": 24
    },
    {
     "cell_type": "markdown",
     "metadata": {
      "variables": {}
     },
     "source": [
      "### Figure 4"
     ]
    },
    {
     "cell_type": "code",
     "collapsed": false,
     "input": [
      "data = words\n",
      "fit = powerlaw.Fit(data, discrete=True)\n",
      "####\n",
      "fit.distribution_compare('power_law', 'lognormal')\n",
      "fig = fit.plot_ccdf(linewidth=3, label='Empirical Data')\n",
      "fit.power_law.plot_ccdf(ax=fig, color='r', linestyle='--', label='Power law fit')\n",
      "fit.lognormal.plot_ccdf(ax=fig, color='g', linestyle='--', label='Lognormal fit')\n",
      "####\n",
      "fig.set_ylabel(u\"p(X\u2265x)\")\n",
      "fig.set_xlabel(\"Word Frequency\")\n",
      "handles, labels = fig.get_legend_handles_labels()\n",
      "fig.legend(handles, labels, loc=3)\n",
      "\n",
      "figname = 'FigLognormal'\n",
      "savefig(figname+'.eps', bbox_inches='tight')\n",
      "#savefig(figname+'.tiff', bbox_inches='tight', dpi=300)"
     ],
     "language": "python",
     "metadata": {},
     "outputs": [
      {
       "output_type": "stream",
       "stream": "stdout",
       "text": [
        "Calculating best minimal value for power law fit\n"
       ]
      },
      {
       "metadata": {},
       "output_type": "display_data",
       "png": "[encoded data removed]",
       "text": [
        "<matplotlib.figure.Figure at 0x11e59f0b8>"
       ]
      }
     ],
     "prompt_number": 25
    },
    {
     "cell_type": "markdown",
     "metadata": {
      "variables": {}
     },
     "source": [
      "# Creating Simulated Data"
     ]
    },
    {
     "cell_type": "code",
     "collapsed": false,
     "input": [
      "empirical_data = blackouts\n",
      "####\n",
      "fit = powerlaw.Fit(empirical_data)\n",
      "simulated_data = fit.power_law.generate_random(10000)\n",
      "\n",
      "theoretical_distribution = powerlaw.Power_Law(xmin=5.0, parameters=[2.5])\n",
      "simulated_data = theoretical_distribution.generate_random(10000)"
     ],
     "language": "python",
     "metadata": {},
     "outputs": [
      {
       "output_type": "stream",
       "stream": "stdout",
       "text": [
        "Calculating best minimal value for power law fit\n"
       ]
      }
     ],
     "prompt_number": 26
    },
    {
     "cell_type": "code",
     "collapsed": false,
     "input": [
      "theoretical_distribution = powerlaw.Power_Law(xmin=5.0, parameters=[2.5])\n",
      "simulated_data = theoretical_distribution.generate_random(10000)\n",
      "####\n",
      "fit = powerlaw.Fit(simulated_data)\n",
      "fit.power_law.xmin, fit.power_law.alpha"
     ],
     "language": "python",
     "metadata": {},
     "outputs": [
      {
       "output_type": "stream",
       "stream": "stdout",
       "text": [
        "Calculating best minimal value for power law fit\n"
       ]
      },
      {
       "metadata": {},
       "output_type": "pyout",
       "prompt_number": 27,
       "text": [
        "(5.0643668837801314, 2.5102907771973468)"
       ]
      }
     ],
     "prompt_number": 27
    },
    {
     "cell_type": "code",
     "collapsed": false,
     "input": [
      "powerlaw.plot_pdf(simulated_data,linewidth=3)\n",
      "fit.power_law.plot_pdf(simulated_data,linestyle='--',color='r')"
     ],
     "language": "python",
     "metadata": {},
     "outputs": [
      {
       "metadata": {},
       "output_type": "pyout",
       "prompt_number": 28,
       "text": [
        "<matplotlib.axes._subplots.AxesSubplot at 0x11e70bb70>"
       ]
      },
      {
       "metadata": {},
       "output_type": "display_data",
       "png": "[encoded data removed]",
       "text": [
        "<matplotlib.figure.Figure at 0x11e6b5048>"
       ]
      }
     ],
     "prompt_number": 28
    },
    {
     "cell_type": "markdown",
     "metadata": {
      "variables": {}
     },
     "source": [
      "#Advanced Considerations"
     ]
    },
    {
     "cell_type": "markdown",
     "metadata": {
      "variables": {}
     },
     "source": [
      "## Discrete Distribution Calculation and Estimation"
     ]
    },
    {
     "cell_type": "code",
     "collapsed": false,
     "input": [
      "data = blackouts\n",
      "####\n",
      "fit = powerlaw.Fit(data, discrete=True, estimate_discrete=True)\n",
      "fit.power_law.alpha\n",
      "fit.power_law.estimate_discrete\n",
      "fit = powerlaw.Fit(data, discrete=True, estimate_discrete=False)\n",
      "fit.power_law.alpha\n",
      "fit.power_law.estimate_discrete"
     ],
     "language": "python",
     "metadata": {},
     "outputs": [
      {
       "output_type": "stream",
       "stream": "stdout",
       "text": [
        "Calculating best minimal value for power law fit\n",
        "Calculating best minimal value for power law fit"
       ]
      },
      {
       "output_type": "stream",
       "stream": "stdout",
       "text": [
        "\n"
       ]
      },
      {
       "metadata": {},
       "output_type": "pyout",
       "prompt_number": 29,
       "text": [
        "False"
       ]
      }
     ],
     "prompt_number": 29
    },
    {
     "cell_type": "code",
     "collapsed": false,
     "input": [
      "data = blackouts\n",
      "####\n",
      "fit = powerlaw.Fit(data, discrete=True, xmin=230.0, xmax=9000, discrete_approximation='xmax')\n",
      "fit.lognormal.mu\n",
      "fit = powerlaw.Fit(data, discrete_approximation=100000, xmin=230.0, discrete=True)\n",
      "fit.lognormal.mu\n",
      "fit = powerlaw.Fit(data, discrete_approximation='round', xmin=230.0, discrete=True)\n",
      "fit.lognormal.mu"
     ],
     "language": "python",
     "metadata": {},
     "outputs": [
      {
       "metadata": {},
       "output_type": "pyout",
       "prompt_number": 30,
       "text": [
        "0.39905257607692346"
       ]
      }
     ],
     "prompt_number": 30
    },
    {
     "cell_type": "code",
     "collapsed": false,
     "input": [
      "theoretical_distribution = powerlaw.Power_Law(xmin=5.0, parameters=[2.5], discrete=True)\n",
      "simulated_data = theoretical_distribution.generate_random(10000, estimate_discrete=True)"
     ],
     "language": "python",
     "metadata": {},
     "outputs": [],
     "prompt_number": 31
    },
    {
     "cell_type": "code",
     "collapsed": false,
     "input": [
      "empirical_data = blackouts\n",
      "####\n",
      "theoretical_distributionibution = powerlaw.Power_Law(xmin=5.0, parameters=[2.5], discrete=True, estimate_discrete=False)\n",
      "simulated_data = theoretical_distribution.generate_random(10000)\n",
      "\n",
      "fit = powerlaw.Fit(empirical_data, discrete=True, estimate_discrete=True)\n",
      "simulated_data = fit.power_law.generate_random(10000)"
     ],
     "language": "python",
     "metadata": {},
     "outputs": [
      {
       "output_type": "stream",
       "stream": "stdout",
       "text": [
        "Calculating best minimal value for power law fit\n"
       ]
      }
     ],
     "prompt_number": 32
    },
    {
     "cell_type": "markdown",
     "metadata": {
      "variables": {}
     },
     "source": [
      "## Nested Distributions"
     ]
    },
    {
     "cell_type": "code",
     "collapsed": false,
     "input": [
      "data = blackouts\n",
      "fit = powerlaw.Fit(data)\n",
      "####\n",
      "fit.distribution_compare('power_law', 'truncated_power_law')\n",
      "fit.distribution_compare('exponential', 'stretched_exponential')"
     ],
     "language": "python",
     "metadata": {},
     "outputs": [
      {
       "output_type": "stream",
       "stream": "stdout",
       "text": [
        "Calculating best minimal value for power law fit\n",
        "Assuming nested distributions"
       ]
      },
      {
       "output_type": "stream",
       "stream": "stdout",
       "text": [
        "\n",
        "Assuming nested distributions"
       ]
      },
      {
       "output_type": "stream",
       "stream": "stdout",
       "text": [
        "\n"
       ]
      },
      {
       "metadata": {},
       "output_type": "pyout",
       "prompt_number": 33,
       "text": [
        "(-13.018342321459192, 3.3499122220614908e-07)"
       ]
      }
     ],
     "prompt_number": 33
    },
    {
     "cell_type": "markdown",
     "metadata": {
      "variables": {}
     },
     "source": [
      "## Restricted Parameter Range"
     ]
    },
    {
     "cell_type": "code",
     "collapsed": false,
     "input": [
      "data = blackouts\n",
      "####\n",
      "fit = powerlaw.Fit(data)\n",
      "fit.power_law.alpha, fit.power_law.sigma, fit.xmin\n",
      "\n",
      "fit = powerlaw.Fit(data, sigma_threshold=.1)\n",
      "fit.power_law.alpha, fit.power_law.sigma, fit.xmin"
     ],
     "language": "python",
     "metadata": {},
     "outputs": [
      {
       "output_type": "stream",
       "stream": "stdout",
       "text": [
        "Calculating best minimal value for power law fit\n",
        "Calculating best minimal value for power law fit"
       ]
      },
      {
       "output_type": "stream",
       "stream": "stdout",
       "text": [
        "\n"
       ]
      },
      {
       "metadata": {},
       "output_type": "pyout",
       "prompt_number": 34,
       "text": [
        "(1.7831398653341153, 0.063521030949327095, 50.0)"
       ]
      }
     ],
     "prompt_number": 34
    },
    {
     "cell_type": "code",
     "collapsed": false,
     "input": [
      "parameter_range = {'alpha': [2.3, None], 'sigma': [None, .2]}\n",
      "fit = powerlaw.Fit(data, parameter_range=parameter_range)\n",
      "fit.power_law.alpha, fit.power_law.sigma, fit.xmin"
     ],
     "language": "python",
     "metadata": {},
     "outputs": [
      {
       "output_type": "stream",
       "stream": "stdout",
       "text": [
        "Calculating best minimal value for power law fit\n"
       ]
      },
      {
       "output_type": "stream",
       "stream": "stderr",
       "text": [
        "/Users/jeff/Desktop/powerlaw/powerlaw.py:687: RuntimeWarning: overflow encountered in double_scalars\n",
        "  )[1:]\n"
       ]
      },
      {
       "metadata": {},
       "output_type": "pyout",
       "prompt_number": 35,
       "text": [
        "(2.3000107113942141, 0.17069976919260452, 234.0)"
       ]
      }
     ],
     "prompt_number": 35
    },
    {
     "cell_type": "code",
     "collapsed": false,
     "input": [
      "parameter_range = lambda self: self.sigma/self.alpha < .05\n",
      "fit = powerlaw.Fit(data, parameter_range=parameter_range)\n",
      "fit.power_law.alpha, fit.power_law.sigma, fit.xmin"
     ],
     "language": "python",
     "metadata": {},
     "outputs": [
      {
       "output_type": "stream",
       "stream": "stdout",
       "text": [
        "Calculating best minimal value for power law fit\n"
       ]
      },
      {
       "metadata": {},
       "output_type": "pyout",
       "prompt_number": 36,
       "text": [
        "(1.8833765811180314, 0.094168259953067143, 124.0)"
       ]
      }
     ],
     "prompt_number": 36
    },
    {
     "cell_type": "markdown",
     "metadata": {
      "variables": {}
     },
     "source": [
      "## Multiple Possible Fits"
     ]
    },
    {
     "cell_type": "markdown",
     "metadata": {
      "variables": {}
     },
     "source": [
      "### Figure 5"
     ]
    },
    {
     "cell_type": "code",
     "collapsed": false,
     "input": [
      "data = blackouts\n",
      "fit = powerlaw.Fit(data, sigma_threshold=.1)\n",
      "print(fit.xmin, fit.D, fit.alpha)\n",
      "fit = powerlaw.Fit(data)\n",
      "print(fit.xmin, fit.D, fit.alpha)\n",
      "####\n",
      "from matplotlib.pylab import plot\n",
      "plot(fit.xmins, fit.Ds, label=r'$D$')\n",
      "plot(fit.xmins, fit.sigmas, label=r'$\\sigma$', linestyle='--')\n",
      "plot(fit.xmins, fit.sigmas/fit.alphas, label=r'$\\sigma /\\alpha$', linestyle='--')\n",
      "####\n",
      "ylim(0, .4)\n",
      "legend(loc=4)\n",
      "xlabel(r'$x_{min}$')\n",
      "ylabel(r'$D,\\sigma,\\alpha$')\n",
      "\n",
      "figname = 'FigD'\n",
      "savefig(figname+'.eps', bbox_inches='tight')\n",
      "#savefig(figname+'.tiff', bbox_inches='tight', dpi=300)"
     ],
     "language": "python",
     "metadata": {},
     "outputs": [
      {
       "output_type": "stream",
       "stream": "stdout",
       "text": [
        "Calculating best minimal value for power law fit\n",
        "50.0"
       ]
      },
      {
       "output_type": "stream",
       "stream": "stdout",
       "text": [
        " 0.0998297854528 1.78313986533\n",
        "Calculating best minimal value for power law fit\n",
        "230.0"
       ]
      },
      {
       "output_type": "stream",
       "stream": "stdout",
       "text": [
        " 0.0606737962944 2.27263721983\n"
       ]
      },
      {
       "metadata": {},
       "output_type": "display_data",
       "png": "[encoded data removed]",
       "text": [
        "<matplotlib.figure.Figure at 0x11cf64ac8>"
       ]
      }
     ],
     "prompt_number": 37
    },
    {
     "cell_type": "markdown",
     "metadata": {
      "variables": {}
     },
     "source": [
      "## No Possible Fits"
     ]
    },
    {
     "cell_type": "code",
     "collapsed": false,
     "input": [
      "data = blackouts\n",
      "####\n",
      "fit = powerlaw.Fit(data, sigma_threshold=.001)\n",
      "fit.power_law.alpha, fit.power_law.sigma, fit.xmin, fit.noise_flag"
     ],
     "language": "python",
     "metadata": {},
     "outputs": [
      {
       "output_type": "stream",
       "stream": "stdout",
       "text": [
        "Calculating best minimal value for power law fit\n",
        "No valid fits found."
       ]
      },
      {
       "output_type": "stream",
       "stream": "stdout",
       "text": [
        "\n"
       ]
      },
      {
       "metadata": {},
       "output_type": "pyout",
       "prompt_number": 38,
       "text": [
        "(2.2726372198302882, 0.16568325372336856, 230.0, True)"
       ]
      }
     ],
     "prompt_number": 38
    },
    {
     "cell_type": "code",
     "collapsed": false,
     "input": [
      "fit.lognormal.mu, fit.lognormal.sigma\n",
      "range_dict = {'mu': [10.5, None]}\n",
      "fit.lognormal.parameter_range(range_dict)\n",
      "fit.lognormal.mu, fit.lognormal.sigma, fit.lognormal.noise_flag\n",
      "\n",
      "initial_parameters = (12, .7)\n",
      "fit.lognormal.parameter_range(range_dict, initial_parameters)\n",
      "fit.lognormal.mu, fit.lognormal.sigma, fit.lognormal.noise_flag"
     ],
     "language": "python",
     "metadata": {},
     "outputs": [
      {
       "output_type": "stream",
       "stream": "stdout",
       "text": [
        "No valid fits found.\n"
       ]
      },
      {
       "metadata": {},
       "output_type": "pyout",
       "prompt_number": 39,
       "text": [
        "(10.500000000422041, 5.1423189016918585, False)"
       ]
      }
     ],
     "prompt_number": 39
    },
    {
     "cell_type": "markdown",
     "metadata": {
      "variables": {}
     },
     "source": [
      "## Selecting x<sub>min</sub> with Other Distance Metrics"
     ]
    },
    {
     "cell_type": "code",
     "collapsed": false,
     "input": [
      "data = blackouts\n",
      "####\n",
      "fit = powerlaw.Fit(data, xmin_distance='D')\n",
      "print(fit.xmin, fit.power_law.alpha, fit.D)\n",
      "fit = powerlaw.Fit(data, xmin_distance='V')\n",
      "print(fit.xmin, fit.power_law.alpha, fit.V)\n",
      "fit = powerlaw.Fit(data, xmin_distance='Asquare')\n",
      "print(fit.xmin, fit.power_law.alpha, fit.Asquare)"
     ],
     "language": "python",
     "metadata": {},
     "outputs": [
      {
       "output_type": "stream",
       "stream": "stdout",
       "text": [
        "Calculating best minimal value for power law fit\n",
        "230.0"
       ]
      },
      {
       "output_type": "stream",
       "stream": "stdout",
       "text": [
        " 2.27263721983 0.0606737962944\n",
        "Calculating best minimal value for power law fit\n",
        "219.0"
       ]
      },
      {
       "output_type": "stream",
       "stream": "stdout",
       "text": [
        " 2.21822784881 0.0921084614746\n",
        "Calculating best minimal value for power law fit\n",
        "230.0"
       ]
      },
      {
       "output_type": "stream",
       "stream": "stdout",
       "text": [
        " 2.27263721983 0.265613512591\n"
       ]
      }
     ],
     "prompt_number": 40
    },
    {
     "cell_type": "markdown",
     "metadata": {
      "variables": {}
     },
     "source": [
      "# Supporting Information"
     ]
    },
    {
     "cell_type": "code",
     "collapsed": false,
     "input": [
      "from numpy import logspace\n",
      "from scipy.stats import variation\n",
      "import pandas as pd\n",
      "\n",
      "def validate(xmin, alpha, discrete='continuous', n_data=10000, n_trials=1):\n",
      "    \n",
      "    if n_trials>1:\n",
      "        return array([validate(xmin, alpha, discrete=discrete, n_data=n_data, n_trials=1) for trial in arange(n_trials)]).T\n",
      "        \n",
      "    if discrete=='continuous':\n",
      "        discrete = False\n",
      "        estimate_discrete = False\n",
      "    elif discrete == 'discrete':\n",
      "        discrete = True\n",
      "        estimate_discrete = False\n",
      "    elif discrete == 'discrete_estimate':\n",
      "        discrete = True\n",
      "        estimate_discrete = True\n",
      "\n",
      "    theoretical_distribution = powerlaw.Power_Law(xmin=xmin, parameters=[alpha], discrete=discrete)\n",
      "    simulated_data = theoretical_distribution.generate_random(n_data, estimate_discrete=estimate_discrete)\n",
      "    fit = powerlaw.Fit(simulated_data, discrete=discrete, estimate_discrete=estimate_discrete)\n",
      "    return fit.xmin, fit.alpha"
     ],
     "language": "python",
     "metadata": {},
     "outputs": [],
     "prompt_number": 41
    },
    {
     "cell_type": "code",
     "collapsed": false,
     "input": [
      "n_trials = 10\n",
      "n_data = 10000\n",
      "theoretical_xmins = unique(floor(logspace(0.0,2.0,num=20)))\n",
      "theoretical_alphas = array([1.5,2.0,2.5,3.0,3.5])\n",
      "distribution_types = ['continuous','discrete']\n",
      "\n",
      "filename = 'powerlaw_validation_%itrials_%idata.csv'%(int(n_trials),int(n_data))\n",
      "\n",
      "from os import listdir\n",
      "files = listdir('.')\n",
      "if filename in files:\n",
      "    print(\"Reading previously calculated data from file %s\"%filename)\n",
      "    df = pd.read_csv(filename)\n",
      "    df.set_index(['type', 'alpha', 'xmin'], inplace=True)\n",
      "else:\n",
      "\n",
      "    ind = [(d,a,x) for d in distribution_types for a in theoretical_alphas for x in theoretical_xmins]\n",
      "    \n",
      "    print(\"Calculating validation fits on %i parameter conditions, with %i trials for each conditions, with %i data points each. \"\n",
      "      \"Could take a long time.\"%(len(ind), n_trials, n_data))\n",
      "\n",
      "    ind = pd.MultiIndex.from_tuples(ind, names=['type', 'alpha','xmin'])\n",
      "    df = pd.DataFrame(columns=['alpha_mean', 'alpha_sd', 'xmin_mean', 'xmin_sd'], index=ind)\n",
      "    \n",
      "    i = 0\n",
      "    for dt, alpha, xmin in ind:\n",
      "        i += 1\n",
      "        print(\"Parameter condition number %i\"%i)\n",
      "        data = validate(xmin, alpha, discrete=dt, n_data=n_data, n_trials=n_trials)\n",
      "        df.ix[dt,alpha,xmin] = (mean(data[1]), std(data[1]), mean(data[0]), std(data[0]))\n",
      "\n",
      "    df.to_csv(filename)"
     ],
     "language": "python",
     "metadata": {},
     "outputs": [
      {
       "output_type": "stream",
       "stream": "stdout",
       "text": [
        "Reading previously calculated data from file powerlaw_validation_10trials_10000data.csv\n"
       ]
      }
     ],
     "prompt_number": 44
    },
    {
     "cell_type": "code",
     "collapsed": false,
     "input": [
      "subplot(2,2,1)\n",
      "for a in theoretical_alphas:\n",
      "    y_vals = df.ix['continuous', a]['alpha_mean'].astype('float')\n",
      "    error = df.ix['continuous', a]['alpha_sd'].astype('float')\n",
      "\n",
      "    plot(theoretical_xmins, y_vals, label=a)\n",
      "    fill_between(theoretical_xmins, y_vals-error, y_vals+error, alpha=.1)\n",
      "\n",
      "xscale('log')\n",
      "#xlabel(r\"$x_{min}$\")\n",
      "ylabel(r\"Fitted $\\alpha$\")\n",
      "yticks(theoretical_alphas)\n",
      "setp(gca().get_xticklabels(), visible=False)\n",
      "title(\"Continuous\")\n",
      "\n",
      "#########\n",
      "subplot(2,2,2)\n",
      "for a in theoretical_alphas:\n",
      "    y_vals = df.ix['discrete', a]['alpha_mean'].astype('float')\n",
      "    error = df.ix['discrete', a]['alpha_sd'].astype('float')\n",
      "\n",
      "    plot(theoretical_xmins, y_vals, label=a)\n",
      "    fill_between(theoretical_xmins, y_vals-error, y_vals+error, alpha=.1)\n",
      "\n",
      "xscale('log')\n",
      "#xlabel(r\"$x_{min}$\")\n",
      "#ylabel(r\"Fitted $\\alpha$\")\n",
      "setp(gca().get_xticklabels(), visible=False)\n",
      "setp(gca().get_yticklabels(), visible=False)\n",
      "title(\"Discrete\")\n",
      "\n",
      "########\n",
      "subplot(2,2,3)\n",
      "for a in theoretical_alphas:\n",
      "    y_vals = df.ix['continuous', a]['xmin_mean'].astype('float').values\n",
      "    error = df.ix['continuous', a]['xmin_sd'].astype('float').values\n",
      "    up = y_vals+error\n",
      "    down = y_vals-error\n",
      "    ind = down<theoretical_xmins\n",
      "    down[ind] = theoretical_xmins[ind]\n",
      "    \n",
      "    plot(theoretical_xmins, y_vals, label=a)\n",
      "    fill_between(theoretical_xmins, down, up, alpha=.1)\n",
      "\n",
      "xlim(xmin=1)\n",
      "ylim(ymin=1)\n",
      "plot(xlim(),xlim(),linestyle='--', color='k')\n",
      "xscale('log')\n",
      "yscale('log')\n",
      "xlabel(r\"$x_{min}$ of Data\")\n",
      "ylabel(r\"Fitted $x_{min}$\")\n",
      "\n",
      "\n",
      "########\n",
      "legend_refs = []\n",
      "########\n",
      "subplot(2,2,4,sharey=gca())\n",
      "for a in theoretical_alphas:\n",
      "    y_vals = df.ix['discrete', a]['xmin_mean'].astype('float').values\n",
      "    error = df.ix['discrete', a]['xmin_sd'].astype('float').values\n",
      "    up = y_vals+error\n",
      "    down = y_vals-error\n",
      "    ind = down<theoretical_xmins\n",
      "    down[ind] = theoretical_xmins[ind]\n",
      "\n",
      "    line = plot(theoretical_xmins, y_vals, label=a)\n",
      "    legend_refs += line\n",
      "    fill_between(theoretical_xmins, down, up, alpha=.1)\n",
      "\n",
      "xlim(xmin=1)\n",
      "ylim(ymin=1)\n",
      "plot(xlim(),xlim(),linestyle='--', color='k')\n",
      "xscale('log')\n",
      "yscale('log')\n",
      "xlabel(r\"$x_{min}$ of Data\")\n",
      "#ylabel(r\"Fitted $x_{min}$\")\n",
      "setp(gca().get_yticklabels(), visible=False)\n",
      "\n",
      "\n",
      "#######\n",
      "#figlegend(legend_refs[::-1], theoretical_alphas[::-1],'center right', title=r'$\\alpha$ of Data')\n",
      "subplots_adjust(wspace=.15, hspace=.1)\n",
      "legend( legend_refs[::-1], theoretical_alphas[::-1], loc = 'center right', bbox_to_anchor = (.1,0,1,1),\n",
      "            bbox_transform = plt.gcf().transFigure, title=r'$\\alpha$ of Data' )\n",
      "savefig('Fig_powerlaw_validation_%itrials_%idata.pdf'%(int(n_trials),int(n_data)), bbox_inches='tight')\n",
      "savefig('Fig_powerlaw_validation_%itrials_%idata.tiff'%(int(n_trials),int(n_data)), bbox_inches='tight', dpi=300)"
     ],
     "language": "python",
     "metadata": {},
     "outputs": [
      {
       "metadata": {},
       "output_type": "display_data",
       "png": "[encoded data removed]",
       "text": [
        "<matplotlib.figure.Figure at 0x108384a58>"
       ]
      }
     ],
     "prompt_number": 45
    }
   ],
   "metadata": {}
  }
 ]
}