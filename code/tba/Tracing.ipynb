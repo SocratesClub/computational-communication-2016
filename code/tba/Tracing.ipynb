{
 "cells": [
  {
   "cell_type": "markdown",
   "metadata": {
    "slideshow": {
     "slide_type": "slide"
    }
   },
   "source": [
    "# Tracing the Attention of Moving Citizens \n",
    "\n",
    "Cheng-Jun Wang 1, Lingfei Wu 2\n",
    "\n",
    "1 Computational Communication Collaboratory, School of Journalism and Communication, Nanjing University, Nanjing 210093, P.R. China\n",
    "\n",
    "2 Knowledge Lab, Computation Institute, University of Chicago, Chicago, IL., 60607, United States 2016 Apr 22\n"
   ]
  },
  {
   "cell_type": "markdown",
   "metadata": {
    "slideshow": {
     "slide_type": "slide"
    }
   },
   "source": [
    "# Introduction\n",
    "> ## Physical Space and Virtual World \n",
    "\n",
    "- Mobile computing devices \n",
    "- Using the anonymous smartphone  data of 100000 users in 30 days\n",
    "    - we constructed the mobility network and the attention network \n",
    "        - to  study the correlations between online and offline human behaviors. "
   ]
  },
  {
   "cell_type": "markdown",
   "metadata": {
    "collapsed": true,
    "slideshow": {
     "slide_type": "slide"
    }
   },
   "source": [
    "# Small-world vs. Fractal\n",
    "\n",
    "- Most complex networks are found to be small-world \n",
    "- Many complex networks are featured by fractal patterns \n"
   ]
  },
  {
   "cell_type": "markdown",
   "metadata": {
    "slideshow": {
     "slide_type": "fragment"
    }
   },
   "source": [
    "The investigated network properties include the size of box $l_B$ and the number of boxes $N(l_B)$. \n",
    "\n",
    "- Small-world property, $N (l_B ) =e^{−l_B}$ , \n",
    "- Self-similar property $N(l_B) = l^{−\\gamma}$. "
   ]
  },
  {
   "cell_type": "markdown",
   "metadata": {
    "collapsed": true,
    "slideshow": {
     "slide_type": "slide"
    }
   },
   "source": [
    "# Mobility network and Attention Network\n",
    "\n",
    "- Mobility network\n",
    "    - nodes are physical locations \n",
    "    - edges represent the movements between locations \n",
    "- Attention network\n",
    "    - nodes are websites\n",
    "    - edges represent the switch of users between websites \n"
   ]
  },
  {
   "cell_type": "markdown",
   "metadata": {
    "slideshow": {
     "slide_type": "subslide"
    }
   },
   "source": [
    "# Mobility Network \n",
    "\n",
    "- There are 9899 nodes and 39,083 edges \n",
    "    - Density = 7.9×10−4\n",
    "    - The diameter of the mobility network is 15,\n",
    "    \n",
    "# Attention Network\n",
    "- and there are 16,476 nodes and 144,909 edges\n",
    "    - Density = 10.6 × 10−4\n",
    "    - The diameter of the attention network is only 10. \n"
   ]
  },
  {
   "cell_type": "markdown",
   "metadata": {
    "slideshow": {
     "slide_type": "subslide"
    }
   },
   "source": [
    "<img src = './arxiv/Figure6.png'>"
   ]
  },
  {
   "cell_type": "markdown",
   "metadata": {
    "slideshow": {
     "slide_type": "subslide"
    }
   },
   "source": [
    "<img src = './arxiv/Figure7.png'>"
   ]
  },
  {
   "cell_type": "markdown",
   "metadata": {
    "slideshow": {
     "slide_type": "subslide"
    }
   },
   "source": [
    "<img src = './arxiv/Figure8.png' width = 500>"
   ]
  },
  {
   "cell_type": "markdown",
   "metadata": {
    "collapsed": true,
    "slideshow": {
     "slide_type": "slide"
    }
   },
   "source": [
    "# Network Renormalization Method \n",
    "- Box-covering method \n",
    "    - Box-counting method in calculating the fractal dimension \n",
    "    \n",
    "we cover the network with boxes of size $l_B$, and the number of boxes needed is denoted as $N_B$. \n",
    "\n",
    "Thus the fractal dimension or box dimension $d_B$ can be given from  $N_B = l_B^{−d_B}$.\n",
    "\n"
   ]
  },
  {
   "cell_type": "markdown",
   "metadata": {
    "slideshow": {
     "slide_type": "subslide"
    }
   },
   "source": [
    "# Renormalizations of the mobility network and attention network. \n",
    "\n",
    "A. The renormalization process of the mobility network. Fixing the length of boxes $l_B$ to be 1, it takes 15 steps to tile the mobility network into one single node. \n",
    "\n",
    "B. The renormalization process of the attention network. Fixing the length of boxes $l_B$ to be 1, it takes 10 steps to collapse the attention network into one node.\n"
   ]
  },
  {
   "cell_type": "markdown",
   "metadata": {
    "slideshow": {
     "slide_type": "subslide"
    }
   },
   "source": [
    "<img src = './arxiv/Figure1.png' width = 800 height = 500>\n"
   ]
  },
  {
   "cell_type": "markdown",
   "metadata": {
    "slideshow": {
     "slide_type": "slide"
    }
   },
   "source": [
    "# Two Universal Classes of Behaviors \n"
   ]
  },
  {
   "cell_type": "markdown",
   "metadata": {
    "slideshow": {
     "slide_type": "fragment"
    }
   },
   "source": [
    "<img src = './arxiv/Figure2.png' width = 500>"
   ]
  },
  {
   "cell_type": "markdown",
   "metadata": {
    "slideshow": {
     "slide_type": "slide"
    }
   },
   "source": [
    "# Location-Based Human Behaviors "
   ]
  },
  {
   "cell_type": "markdown",
   "metadata": {
    "slideshow": {
     "slide_type": "fragment"
    }
   },
   "source": [
    "<img src = './arxiv/Figure3.png' width = 500>"
   ]
  },
  {
   "cell_type": "markdown",
   "metadata": {
    "slideshow": {
     "slide_type": "slide"
    }
   },
   "source": [
    "### Geographical distribution of three kinds of mobile Internet use behaviors\n",
    "- A. Shopping (red), B. Dating (blue), and  C. Taxi-calling (orange). Please check the [interactive map online](http://computational-class.github.io/cjc2016/vis/beijing_mobile_with_line.html).\n"
   ]
  },
  {
   "cell_type": "markdown",
   "metadata": {
    "slideshow": {
     "slide_type": "fragment"
    }
   },
   "source": [
    "<img src= './arxiv/Figure4.png' width = 700>"
   ]
  },
  {
   "cell_type": "markdown",
   "metadata": {
    "slideshow": {
     "slide_type": "slide"
    }
   },
   "source": [
    "# Geometric Network Models "
   ]
  },
  {
   "cell_type": "markdown",
   "metadata": {
    "slideshow": {
     "slide_type": "fragment"
    }
   },
   "source": [
    "- Node location and edge-generating mechanisms are spatial-constrained. \n",
    "- Spatial-constrained attachment (SCA) mechanism \n"
   ]
  },
  {
   "cell_type": "markdown",
   "metadata": {
    "slideshow": {
     "slide_type": "fragment"
    }
   },
   "source": [
    "Jiang Zhang, Xintong Li, Xinran Wang, Wen-Xu Wang, and Lingfei Wu. Scaling behaviours in the growth of networked systems and their geometric origins. Scientific Reports, 5:9767 04 2015.\n"
   ]
  },
  {
   "cell_type": "markdown",
   "metadata": {
    "slideshow": {
     "slide_type": "subslide"
    }
   },
   "source": [
    "Initially, there is only one node as the seed of the growing graph located in the center of the space. \n",
    "- At each time t a new node P is generated, and \n",
    "    - P will be added to the graph if only it is within the radius r of at least an existing node Q,\n",
    "    - or else P will not be added to the graph. \n",
    "    \n",
    "If P are within the radius of more than one node $Q_s$, \n",
    "- an edge will be established between P and each node of $Q_s$. \n",
    "\n",
    "Since the new node P will be connected with all the nodes within a given radius, this original model could be named as Model all. \n",
    "\n",
    "Based on Model all, more practical extensions can be implemented. \n"
   ]
  },
  {
   "cell_type": "markdown",
   "metadata": {
    "slideshow": {
     "slide_type": "subslide"
    }
   },
   "source": [
    "<img src= './arxiv/Figure5.png' width = 700>"
   ]
  },
  {
   "cell_type": "markdown",
   "metadata": {
    "slideshow": {
     "slide_type": "slide"
    }
   },
   "source": [
    "# Conclusion\n",
    "\n",
    "The investigated network properties include the size of box $l_B$ and the number of boxes $N(l_B)$. \n",
    "\n",
    "We find two universal classes of behaviours: \n",
    "- the mobility network is featured by a small-world property, $N (l_B ) =e^{−l_B}$ , \n",
    "- whereas the attention network is characterised by a self-similar property $N(l_B) = l^{−\\gamma}$. "
   ]
  },
  {
   "cell_type": "markdown",
   "metadata": {
    "slideshow": {
     "slide_type": "subslide"
    }
   },
   "source": [
    "In particular, with the increasing of the length of box $l_B$, the degree correlation of the network changes from positive to negative which indicates that there are two layers of structure in the mobility network. \n",
    "\n",
    "- We use the results of network renormalisation to detect the community and map the structure of the mobility network. \n",
    "\n",
    "- Further, we located the most relevant websites visited in these communities, and identified three typical location-based behaviours, including the shopping, dating, and taxi-calling. \n",
    "\n",
    "Finally, we offered a revised geometric network model to explain our findings in the perspective of spatial-constrained attachment."
   ]
  },
  {
   "cell_type": "markdown",
   "metadata": {
    "slideshow": {
     "slide_type": "slide"
    }
   },
   "source": [
    "# This is the end. \n",
    "> Thank you for your attention. \n",
    "\n",
    "wangchengjun@nju.edu.cn"
   ]
  },
  {
   "cell_type": "code",
   "execution_count": null,
   "metadata": {
    "collapsed": true,
    "slideshow": {
     "slide_type": "skip"
    }
   },
   "outputs": [],
   "source": []
  }
 ],
 "metadata": {
  "celltoolbar": "Slideshow",
  "kernelspec": {
   "display_name": "Python 2",
   "language": "python",
   "name": "python2"
  },
  "language_info": {
   "codemirror_mode": {
    "name": "ipython",
    "version": 2
   },
   "file_extension": ".py",
   "mimetype": "text/x-python",
   "name": "python",
   "nbconvert_exporter": "python",
   "pygments_lexer": "ipython2",
   "version": "2.7.11"
  }
 },
 "nbformat": 4,
 "nbformat_minor": 0
}
