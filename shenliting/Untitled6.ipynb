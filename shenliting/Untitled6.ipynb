{
 "cells": [
  {
   "cell_type": "code",
   "execution_count": 3,
   "metadata": {
    "collapsed": false
   },
   "outputs": [
    {
     "name": "stdout",
     "output_type": "stream",
     "text": [
      "南京大学中医学社春季采药活动开始啦~\n",
      "2016-04-13\n",
      "\n",
      "“春三月，此谓发陈，天地俱生，万物以荣”。在这清新明媚的大好春光中，厌倦了三点一线的枯燥生活的你，是不是也想出去走走，看看这蓬勃草木，灿烂春花？什么，你说你想要更多，不只是散步？你想要见识中医药药材，却苦于无人讲解；想要了解一花一草神奇的功效，却无人与伴。年轻人，是的，我其实早已看穿了你内心那个寻药采药的梦想。在你心中，它可能是这样也可能是这样还可能是这样当然，也一定会有这样甚至还会有这样（错误）的打开方式= =没问题，赶快报名南京大学中医学社的春季采药活动，跟着国医堂的药师张医生一起走进梅花山，这些经历，我们通通都给你~下面注意啦，这是本次采药活动的具体信息：活动时间：2016年4月17日上午活动地点：梅花山（乘坐地铁2号线，前往梅花山）集合信息：早上7：40；仙林校区南大门集合。鼓楼的同学也可以自行前往，然后在 梅花山和大部队汇合。（到达梅花山的时间约为9点）报名方式：编辑短信“姓名+院系+手机号”至 15105197909报名截止时间：星期五（4月15号）晚上24点--------------------------------------------------------------------------------------------------------最后是细（luo）心（suo）的微信君墙纸的温馨提醒时间1. 别忘了做好防晒工作。听说采药时，防晒霜、遮阳帽和阳光更配哦~2. 千万千万不要忘记自行携带塑料袋等工具，以方便对沿路心仪的药材施展“顺手牵 羊”技能。3. 记得携带好地铁卡或零钱（当然，如果你们能捕捉到野生的墙纸君，也可以用撒娇、卖萌等方式对ta进行攻击，有机会掉落地铁票一枚哦~）。4. 活动范围无需进入梅花山收费地区，所以无需缴纳门票费用。5.欢迎带上单身的室友，说不定可以在春意流连的梅花山下邂逅一段奇妙的缘分呢 （毕竟我们中医学社颜值太高，嘘~）\n",
      "\n"
     ]
    }
   ],
   "source": [
    "import urllib2\n",
    "from bs4 import BeautifulSoup\n",
    "\n",
    "url = \"https://mp.weixin.qq.com/s?__biz=MzA4NzIyNzkyMw==&mid=2650296803&idx=1&sn=77272b30af7dea9d8aa8e15e46ea09d8&scene=0#rd\"\n",
    "content = urllib2.urlopen(url).read() #获取网页的html文本\n",
    "soup = BeautifulSoup(content, 'html.parser') \n",
    "print soup.title.text\n",
    "print soup.find('div', {'class', 'rich_media_meta_list'}).find(id = 'post-date').text\n",
    "print soup.find('div', {'class', 'rich_media_content'}).get_text()"
   ]
  },
  {
   "cell_type": "code",
   "execution_count": null,
   "metadata": {
    "collapsed": true
   },
   "outputs": [],
   "source": []
  }
 ],
 "metadata": {
  "kernelspec": {
   "display_name": "Python 2",
   "language": "python",
   "name": "python2"
  },
  "language_info": {
   "codemirror_mode": {
    "name": "ipython",
    "version": 2
   },
   "file_extension": ".py",
   "mimetype": "text/x-python",
   "name": "python",
   "nbconvert_exporter": "python",
   "pygments_lexer": "ipython2",
   "version": "2.7.11"
  }
 },
 "nbformat": 4,
 "nbformat_minor": 0
}
