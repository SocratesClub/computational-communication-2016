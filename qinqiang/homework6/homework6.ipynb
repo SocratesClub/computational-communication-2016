{
 "cells": [
  {
   "cell_type": "code",
   "execution_count": 12,
   "metadata": {
    "collapsed": false
   },
   "outputs": [],
   "source": [
    "\n",
    "from collections import defaultdict\n",
    "import csv\n",
    "import re\n",
    "import sys   \n",
    "from collections import defaultdict\n",
    "import csv\n",
    "\n",
    "line_num=0\n",
    "\n",
    "data_dict=defaultdict(list)\n",
    "\n",
    "with open(\"D:/Data/ows/ows-raw.txt\", 'rb') as f:\n",
    "    chunk = f.readlines(1000000)\n",
    "lines=csv.reader((line.replace(\"\\x00\",\"\") for line in chunk),delimiter=\",\",quotechar='\"')\n",
    "for i in lines:\n",
    "    line_num+=1\n",
    "    try:\n",
    "        rt_patterns = re.compile(r\"(RT|via)((?:\\b\\W*@\\w+)+)\", re.IGNORECASE)\n",
    "        rt_users = rt_patterns.findall(i[1])\n",
    "        user=i[8]\n",
    "        for rt_user in rt_users:\n",
    "            data_dict[user].append(rt_user)\n",
    "    except Exception, e:\n",
    "        print e\n",
    "        error_num+=1\n",
    "        pass"
   ]
  },
  {
   "cell_type": "code",
   "execution_count": 15,
   "metadata": {
    "collapsed": false
   },
   "outputs": [
    {
     "data": {
      "text/plain": [
       "[('Irenehammer', [' @kelly_carlin']),\n",
       " ('OccupyHsv', [' @OccupySF', ' @OccupySF', ' @OccupySF', ' @OccupySF']),\n",
       " ('asperkimberly', [' @ForseenUnNamed']),\n",
       " ('superbranch', [' @diceylee808']),\n",
       " ('DemsatSFSU', [' @JoshuaHol', ' @PyreBorn']),\n",
       " ('BKronick', [' @Badgitator']),\n",
       " ('jodicanary0501', [' @CharlesBivona']),\n",
       " ('tourtored1221', [' @PsychoNotLiz']),\n",
       " ('Canarycall', [' @diceylee808', ' @TorianBrown']),\n",
       " ('BakaKale', [' @RichardKimNYC'])]"
      ]
     },
     "execution_count": 15,
     "metadata": {},
     "output_type": "execute_result"
    }
   ],
   "source": [
    "data_dict.items()[:10]"
   ]
  },
  {
   "cell_type": "code",
   "execution_count": 43,
   "metadata": {
    "collapsed": false
   },
   "outputs": [],
   "source": [
    "import pandas as pd\n",
    "data=[[d,data_dict[d]] for d in data_dict]\n",
    "dat = pd.DataFrame(data, columns = [\"user\",\"rt_user\"])\n",
    "#df=pd.DataFrame(data_dict.items(),columns = [\"user\",\"rt_user\"])\n",
    "dat.to_csv(\"D:/Data/ows/homework6.csv\")"
   ]
  },
  {
   "cell_type": "code",
   "execution_count": 40,
   "metadata": {
    "collapsed": false
   },
   "outputs": [
    {
     "ename": "TypeError",
     "evalue": "save() got an unexpected keyword argument 'format'",
     "output_type": "error",
     "traceback": [
      "\u001b[1;31m---------------------------------------------------------------------------\u001b[0m",
      "\u001b[1;31mTypeError\u001b[0m                                 Traceback (most recent call last)",
      "\u001b[1;32m<ipython-input-40-a988edadaac1>\u001b[0m in \u001b[0;36m<module>\u001b[1;34m()\u001b[0m\n\u001b[1;32m----> 1\u001b[1;33m \u001b[0mdat\u001b[0m\u001b[1;33m.\u001b[0m\u001b[0msave\u001b[0m\u001b[1;33m(\u001b[0m\u001b[1;34m\"D:/Data/ows/homework6.csv\"\u001b[0m\u001b[1;33m,\u001b[0m \u001b[0mformat\u001b[0m\u001b[1;33m=\u001b[0m\u001b[1;34m\"csv\"\u001b[0m\u001b[1;33m)\u001b[0m\u001b[1;33m\u001b[0m\u001b[0m\n\u001b[0m",
      "\u001b[1;31mTypeError\u001b[0m: save() got an unexpected keyword argument 'format'"
     ]
    }
   ],
   "source": [
    "dat.save(\"D:/Data/ows/homework6.csv\", format=\"csv\")"
   ]
  }
 ],
 "metadata": {
  "kernelspec": {
   "display_name": "Python 2",
   "language": "python",
   "name": "python2"
  },
  "language_info": {
   "codemirror_mode": {
    "name": "ipython",
    "version": 2
   },
   "file_extension": ".py",
   "mimetype": "text/x-python",
   "name": "python",
   "nbconvert_exporter": "python",
   "pygments_lexer": "ipython2",
   "version": "2.7.10"
  }
 },
 "nbformat": 4,
 "nbformat_minor": 0
}
