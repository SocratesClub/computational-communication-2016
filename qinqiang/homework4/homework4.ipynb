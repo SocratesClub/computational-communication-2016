{
 "cells": [
  {
   "cell_type": "code",
   "execution_count": 5,
   "metadata": {
    "collapsed": false
   },
   "outputs": [
    {
     "data": {
      "text/html": [
       "<iframe src=http://bbs.tianya.cn/list.jsp?item=free&grade=0&order=1&su=0&k=%E6%B3%84%E9%A2%98 width=1000 height=500></iframe>"
      ],
      "text/plain": [
       "<IPython.core.display.HTML object>"
      ]
     },
     "execution_count": 5,
     "metadata": {},
     "output_type": "execute_result"
    }
   ],
   "source": [
    "from IPython.display import display_html, HTML\n",
    "HTML('<iframe src=http://bbs.tianya.cn/list.jsp?item=free&grade=0&order=1&su=0&k=%E6%B3%84%E9%A2%98 width=1000 height=500></iframe>')"
   ]
  },
  {
   "cell_type": "code",
   "execution_count": 150,
   "metadata": {
    "collapsed": false
   },
   "outputs": [],
   "source": [
    "import urllib2\n",
    "from bs4 import BeautifulSoup\n",
    "\n",
    "url = \"http://bbs.tianya.cn/list.jsp?item=free&grade=0&order=1&su=0&k=%E6%B3%84%E9%A2%98\"\n",
    "content = urllib2.urlopen(url).read() #获取网页的html文本\n",
    "soup = BeautifulSoup(content, 'html.parser')\n",
    "articles = soup.find_all('tr')"
   ]
  },
  {
   "cell_type": "code",
   "execution_count": 37,
   "metadata": {
    "collapsed": false
   },
   "outputs": [
    {
     "name": "stdout",
     "output_type": "stream",
     "text": [
      "<tr>\n",
      "<th scope=\"col\"> 标题</th>\n",
      "<th scope=\"col\">作者</th>\n",
      "<th scope=\"col\">点击</th>\n",
      "<th scope=\"col\">回复</th>\n",
      "<th scope=\"col\">发表时间</th>\n",
      "</tr>\n"
     ]
    }
   ],
   "source": [
    "print articles[0]"
   ]
  },
  {
   "cell_type": "code",
   "execution_count": 76,
   "metadata": {
    "collapsed": false
   },
   "outputs": [
    {
     "name": "stdout",
     "output_type": "stream",
     "text": [
      "<tr class=\"bg\">\n",
      "<td class=\"td-title \">\n",
      "<span class=\"face\" title=\"\">\n",
      "</span>\n",
      "<a href=\"/post-free-5447904-1.shtml\" target=\"_blank\">\r\n",
      "\t\t\t\t\t\t\t关于423泄题大揭秘!!!<span class=\"art-ico art-ico-3\" title=\"内有0张图片\"></span>\n",
      "</a>\n",
      "</td>\n",
      "<td><a class=\"author\" href=\"http://www.tianya.cn/109727900\" target=\"_blank\">清醒如梦</a></td>\n",
      "<td>103</td>\n",
      "<td>2</td>\n",
      "<td title=\"2016-04-26 22:30\">04-26 22:30</td>\n",
      "</tr>\n"
     ]
    }
   ],
   "source": [
    "print articles[1]"
   ]
  },
  {
   "cell_type": "markdown",
   "metadata": {},
   "source": [
    "##帖子标题、作者、时间、点击、回复都在td下"
   ]
  },
  {
   "cell_type": "code",
   "execution_count": 49,
   "metadata": {
    "collapsed": false
   },
   "outputs": [
    {
     "name": "stdout",
     "output_type": "stream",
     "text": [
      "<td class=\"td-title \">\n",
      "<span class=\"face\" title=\"\">\n",
      "</span>\n",
      "<a href=\"/post-free-5447904-1.shtml\" target=\"_blank\">\r\n",
      "\t\t\t\t\t\t\t关于423泄题大揭秘!!!<span class=\"art-ico art-ico-3\" title=\"内有0张图片\"></span>\n",
      "</a>\n",
      "</td>\n",
      "<td><a class=\"author\" href=\"http://www.tianya.cn/109727900\" target=\"_blank\">清醒如梦</a></td>\n",
      "<td>103</td>\n",
      "<td>2</td>\n",
      "<td title=\"2016-04-26 22:30\">04-26 22:30</td>\n"
     ]
    }
   ],
   "source": [
    "for t in articles[1].find_all('td'): print t"
   ]
  },
  {
   "cell_type": "code",
   "execution_count": 50,
   "metadata": {
    "collapsed": true
   },
   "outputs": [],
   "source": [
    "td = articles[1].find_all('td')"
   ]
  },
  {
   "cell_type": "code",
   "execution_count": 63,
   "metadata": {
    "collapsed": false
   },
   "outputs": [
    {
     "name": "stdout",
     "output_type": "stream",
     "text": [
      "<td class=\"td-title \">\n",
      "<span class=\"face\" title=\"\">\n",
      "</span>\n",
      "<a href=\"/post-free-5447904-1.shtml\" target=\"_blank\">\r\n",
      "\t\t\t\t\t\t\t关于423泄题大揭秘!!!<span class=\"art-ico art-ico-3\" title=\"内有0张图片\"></span>\n",
      "</a>\n",
      "</td>\n"
     ]
    }
   ],
   "source": [
    "print td[0]"
   ]
  },
  {
   "cell_type": "code",
   "execution_count": 52,
   "metadata": {
    "collapsed": false
   },
   "outputs": [
    {
     "name": "stdout",
     "output_type": "stream",
     "text": [
      "\n",
      "\n",
      "\n",
      "\r\n",
      "\t\t\t\t\t\t\t关于423泄题大揭秘!!!\n",
      "\n",
      "\n"
     ]
    }
   ],
   "source": [
    "print td[0].text"
   ]
  },
  {
   "cell_type": "code",
   "execution_count": 145,
   "metadata": {
    "collapsed": false
   },
   "outputs": [
    {
     "ename": "TypeError",
     "evalue": "not enough arguments for format string",
     "output_type": "error",
     "traceback": [
      "\u001b[1;31m---------------------------------------------------------------------------\u001b[0m",
      "\u001b[1;31mTypeError\u001b[0m                                 Traceback (most recent call last)",
      "\u001b[1;32m<ipython-input-145-6b4fa1a9a7b3>\u001b[0m in \u001b[0;36m<module>\u001b[1;34m()\u001b[0m\n\u001b[0;32m      1\u001b[0m \u001b[1;33m\u001b[0m\u001b[0m\n\u001b[1;32m----> 2\u001b[1;33m \u001b[0murl\u001b[0m \u001b[1;33m=\u001b[0m \u001b[1;34m\"http://bbs.tianya.cn/list.jsp?item=free&grade=0&order=1&su=0&k=%E6%B3%84%E9%A2%98\"\u001b[0m \u001b[1;33m%\u001b[0m \u001b[0mpage_num\u001b[0m\u001b[1;33m\u001b[0m\u001b[0m\n\u001b[0m\u001b[0;32m      3\u001b[0m \u001b[0mcontent\u001b[0m \u001b[1;33m=\u001b[0m \u001b[0murllib2\u001b[0m\u001b[1;33m.\u001b[0m\u001b[0murlopen\u001b[0m\u001b[1;33m(\u001b[0m\u001b[0murl\u001b[0m\u001b[1;33m)\u001b[0m\u001b[1;33m.\u001b[0m\u001b[0mread\u001b[0m\u001b[1;33m(\u001b[0m\u001b[1;33m)\u001b[0m \u001b[1;31m#获取网页的html文本\u001b[0m\u001b[1;33m\u001b[0m\u001b[0m\n\u001b[0;32m      4\u001b[0m \u001b[0msoup\u001b[0m \u001b[1;33m=\u001b[0m \u001b[0mBeautifulSoup\u001b[0m\u001b[1;33m(\u001b[0m\u001b[0mcontent\u001b[0m\u001b[1;33m,\u001b[0m \u001b[1;34m\"html.parser\"\u001b[0m\u001b[1;33m)\u001b[0m\u001b[1;33m\u001b[0m\u001b[0m\n\u001b[0;32m      5\u001b[0m \u001b[0marticles\u001b[0m \u001b[1;33m=\u001b[0m \u001b[0msoup\u001b[0m\u001b[1;33m.\u001b[0m\u001b[0mfind_all\u001b[0m\u001b[1;33m(\u001b[0m\u001b[1;34m'tr'\u001b[0m\u001b[1;33m)\u001b[0m\u001b[1;33m\u001b[0m\u001b[0m\n",
      "\u001b[1;31mTypeError\u001b[0m: not enough arguments for format string"
     ]
    }
   ],
   "source": [
    "\n",
    "url = \"http://bbs.tianya.cn/list.jsp?item=free&grade=0&order=1&su=0&k=%E6%B3%84%E9%A2%98\" % page_num\n",
    "content = urllib2.urlopen(url).read() #获取网页的html文本\n",
    "soup = BeautifulSoup(content, \"html.parser\") \n",
    "articles = soup.find_all('tr')"
   ]
  },
  {
   "cell_type": "code",
   "execution_count": 64,
   "metadata": {
    "collapsed": false
   },
   "outputs": [
    {
     "name": "stdout",
     "output_type": "stream",
     "text": [
      "关于423泄题大揭秘!!!\n"
     ]
    }
   ],
   "source": [
    "print td[0].text.strip()"
   ]
  },
  {
   "cell_type": "code",
   "execution_count": 65,
   "metadata": {
    "collapsed": false
   },
   "outputs": [
    {
     "name": "stdout",
     "output_type": "stream",
     "text": [
      "/post-free-5447904-1.shtml\n"
     ]
    }
   ],
   "source": [
    "print td[0].a['href']"
   ]
  },
  {
   "cell_type": "code",
   "execution_count": 73,
   "metadata": {
    "collapsed": false
   },
   "outputs": [
    {
     "name": "stdout",
     "output_type": "stream",
     "text": [
      "清醒如梦\n"
     ]
    }
   ],
   "source": [
    "print td[1].text#author"
   ]
  },
  {
   "cell_type": "code",
   "execution_count": 72,
   "metadata": {
    "collapsed": false
   },
   "outputs": [
    {
     "name": "stdout",
     "output_type": "stream",
     "text": [
      "103\n"
     ]
    }
   ],
   "source": [
    "print td[2].text#点击量"
   ]
  },
  {
   "cell_type": "code",
   "execution_count": 71,
   "metadata": {
    "collapsed": false
   },
   "outputs": [
    {
     "name": "stdout",
     "output_type": "stream",
     "text": [
      "2\n"
     ]
    }
   ],
   "source": [
    "print td[3].text#回复数量"
   ]
  },
  {
   "cell_type": "code",
   "execution_count": 70,
   "metadata": {
    "collapsed": false
   },
   "outputs": [
    {
     "name": "stdout",
     "output_type": "stream",
     "text": [
      "04-26 22:30\n"
     ]
    }
   ],
   "source": [
    "print td[4].text#回复时间"
   ]
  },
  {
   "cell_type": "code",
   "execution_count": 115,
   "metadata": {
    "collapsed": true
   },
   "outputs": [],
   "source": [
    "records = []\n",
    "for i in articles[1:]:\n",
    "    td = i.find_all('td')\n",
    "    title = td[0].text.strip()\n",
    "    title_url = td[0].a['href']\n",
    "    author = td[1].text\n",
    "    author_url = td[1].a['href']\n",
    "    views = td[2].text\n",
    "    replies = td[3].text\n",
    "    date = td[4]['title']\n",
    "    record = title + '\\t' + title_url+ '\\t' + author + '\\t'+ author_url + '\\t' + views+ '\\t'  + replies+ '\\t'+ date\n",
    "    records.append(record)"
   ]
  },
  {
   "cell_type": "code",
   "execution_count": 80,
   "metadata": {
    "collapsed": false
   },
   "outputs": [
    {
     "name": "stdout",
     "output_type": "stream",
     "text": [
      "关于423泄题大揭秘!!!\t/post-free-5447904-1.shtml\t清醒如梦\thttp://www.tianya.cn/109727900\t103\t2\t2016-04-26 22:30\n",
      "靠什么回应\"泄题\"危机\t/post-free-5447336-1.shtml\t宝安传奇\thttp://www.tianya.cn/111109175\t10\t0\t2016-04-26 11:59\n"
     ]
    }
   ],
   "source": [
    "print records[0]\n",
    "print records[1]"
   ]
  },
  {
   "cell_type": "code",
   "execution_count": 151,
   "metadata": {
    "collapsed": true
   },
   "outputs": [],
   "source": [
    "def crawler(page_num,file_name):\n",
    "    try:\n",
    "        # open the browser\n",
    "        url = \"http://bbs.tianya.cn/list.jsp?item=free&grade=0&order=1&su=0&k=%E6%B3%84%E9%A2%98\"\n",
    "        content = urllib2.urlopen(url).read() #获取网页的html文本\n",
    "        soup = BeautifulSoup(content, 'html.parser')\n",
    "        articles = soup.find_all('tr')\n",
    "        # write down info\n",
    "        for i in articles[1:]:\n",
    "            td = i.find_all('td')\n",
    "            title = td[0].text.strip()\n",
    "            title_url = td[0].a['href']\n",
    "            author = td[1].text\n",
    "            author_url = td[1].a['href']\n",
    "            views = td[2].text\n",
    "            replies = td[3].text\n",
    "            date = td[4]['title']\n",
    "            record = title + '\\t' + title_url+ '\\t' + author + '\\t'+ \\\n",
    "                        author_url + '\\t' + views+ '\\t'  + replies+ '\\t'+ date\n",
    "            with open(file_name,'a') as p: # '''Note'''：Ａppend mode, run only once!\n",
    "                        p.write(record.encode('utf-8')+\"\\n\") ##!!encode here to utf-8 to avoid encoding\n",
    "\n",
    "    except Exception, e:\n",
    "        print e\n",
    "        pass"
   ]
  },
  {
   "cell_type": "code",
   "execution_count": 153,
   "metadata": {
    "collapsed": false
   },
   "outputs": [
    {
     "name": "stdout",
     "output_type": "stream",
     "text": [
      "0\n",
      "1\n",
      "2\n",
      "3\n",
      "4\n",
      "5\n",
      "6\n",
      "7\n",
      "8\n",
      "9\n"
     ]
    }
   ],
   "source": [
    "for page_num in range(10):\n",
    "    print (page_num)\n",
    "    crawler(page_num, \"D:/Data/homework/tianya_bbs_crawler.txt\") "
   ]
  },
  {
   "cell_type": "code",
   "execution_count": 161,
   "metadata": {
    "collapsed": false,
    "scrolled": true
   },
   "outputs": [
    {
     "data": {
      "text/html": [
       "<div>\n",
       "<table border=\"1\" class=\"dataframe\">\n",
       "  <thead>\n",
       "    <tr style=\"text-align: right;\">\n",
       "      <th></th>\n",
       "      <th>0</th>\n",
       "      <th>1</th>\n",
       "      <th>2</th>\n",
       "      <th>3</th>\n",
       "      <th>4</th>\n",
       "      <th>5</th>\n",
       "      <th>6</th>\n",
       "    </tr>\n",
       "  </thead>\n",
       "  <tbody>\n",
       "    <tr>\n",
       "      <th>0</th>\n",
       "      <td>关于423泄题大揭秘!!!</td>\n",
       "      <td>/post-free-5447904-1.shtml</td>\n",
       "      <td>清醒如梦</td>\n",
       "      <td>http://www.tianya.cn/109727900</td>\n",
       "      <td>128</td>\n",
       "      <td>2</td>\n",
       "      <td>2016-04-26 22:30</td>\n",
       "    </tr>\n",
       "    <tr>\n",
       "      <th>1</th>\n",
       "      <td>靠什么回应\"泄题\"危机</td>\n",
       "      <td>/post-free-5447336-1.shtml</td>\n",
       "      <td>宝安传奇</td>\n",
       "      <td>http://www.tianya.cn/111109175</td>\n",
       "      <td>10</td>\n",
       "      <td>0</td>\n",
       "      <td>2016-04-26 11:59</td>\n",
       "    </tr>\n",
       "    <tr>\n",
       "      <th>2</th>\n",
       "      <td>年前考研泄题了,年后考公务员又泄题了,我等蚁民还能追求公平...</td>\n",
       "      <td>/post-free-5447038-1.shtml</td>\n",
       "      <td>穆穆有点木123</td>\n",
       "      <td>http://www.tianya.cn/105699775</td>\n",
       "      <td>95</td>\n",
       "      <td>3</td>\n",
       "      <td>2016-04-26 09:30</td>\n",
       "    </tr>\n",
       "  </tbody>\n",
       "</table>\n",
       "</div>"
      ],
      "text/plain": [
       "                                  0                           1         2  \\\n",
       "0                     关于423泄题大揭秘!!!  /post-free-5447904-1.shtml      清醒如梦   \n",
       "1                       靠什么回应\"泄题\"危机  /post-free-5447336-1.shtml      宝安传奇   \n",
       "2  年前考研泄题了,年后考公务员又泄题了,我等蚁民还能追求公平...  /post-free-5447038-1.shtml  穆穆有点木123   \n",
       "\n",
       "                                3    4  5                 6  \n",
       "0  http://www.tianya.cn/109727900  128  2  2016-04-26 22:30  \n",
       "1  http://www.tianya.cn/111109175   10  0  2016-04-26 11:59  \n",
       "2  http://www.tianya.cn/105699775   95  3  2016-04-26 09:30  "
      ]
     },
     "execution_count": 161,
     "metadata": {},
     "output_type": "execute_result"
    }
   ],
   "source": [
    "### import pandas as pd\n",
    "\n",
    "df = pd.read_csv('D:/Data/homework/tianya_bbs_crawler.txt', sep = \"\\t\", header=None)\n",
    "df[:3]"
   ]
  },
  {
   "cell_type": "code",
   "execution_count": 156,
   "metadata": {
    "collapsed": false
   },
   "outputs": [
    {
     "data": {
      "text/plain": [
       "500"
      ]
     },
     "execution_count": 156,
     "metadata": {},
     "output_type": "execute_result"
    }
   ],
   "source": [
    "len(df)"
   ]
  },
  {
   "cell_type": "code",
   "execution_count": 162,
   "metadata": {
    "collapsed": false
   },
   "outputs": [
    {
     "data": {
      "text/html": [
       "<div>\n",
       "<table border=\"1\" class=\"dataframe\">\n",
       "  <thead>\n",
       "    <tr style=\"text-align: right;\">\n",
       "      <th></th>\n",
       "      <th>title</th>\n",
       "      <th>link</th>\n",
       "      <th>author</th>\n",
       "      <th>author_page</th>\n",
       "      <th>click</th>\n",
       "      <th>reply</th>\n",
       "      <th>time</th>\n",
       "    </tr>\n",
       "  </thead>\n",
       "  <tbody>\n",
       "    <tr>\n",
       "      <th>0</th>\n",
       "      <td>关于423泄题大揭秘!!!</td>\n",
       "      <td>/post-free-5447904-1.shtml</td>\n",
       "      <td>清醒如梦</td>\n",
       "      <td>http://www.tianya.cn/109727900</td>\n",
       "      <td>128</td>\n",
       "      <td>2</td>\n",
       "      <td>2016-04-26 22:30</td>\n",
       "    </tr>\n",
       "    <tr>\n",
       "      <th>1</th>\n",
       "      <td>靠什么回应\"泄题\"危机</td>\n",
       "      <td>/post-free-5447336-1.shtml</td>\n",
       "      <td>宝安传奇</td>\n",
       "      <td>http://www.tianya.cn/111109175</td>\n",
       "      <td>10</td>\n",
       "      <td>0</td>\n",
       "      <td>2016-04-26 11:59</td>\n",
       "    </tr>\n",
       "    <tr>\n",
       "      <th>2</th>\n",
       "      <td>年前考研泄题了,年后考公务员又泄题了,我等蚁民还能追求公平...</td>\n",
       "      <td>/post-free-5447038-1.shtml</td>\n",
       "      <td>穆穆有点木123</td>\n",
       "      <td>http://www.tianya.cn/105699775</td>\n",
       "      <td>95</td>\n",
       "      <td>3</td>\n",
       "      <td>2016-04-26 09:30</td>\n",
       "    </tr>\n",
       "  </tbody>\n",
       "</table>\n",
       "</div>"
      ],
      "text/plain": [
       "                              title                        link    author  \\\n",
       "0                     关于423泄题大揭秘!!!  /post-free-5447904-1.shtml      清醒如梦   \n",
       "1                       靠什么回应\"泄题\"危机  /post-free-5447336-1.shtml      宝安传奇   \n",
       "2  年前考研泄题了,年后考公务员又泄题了,我等蚁民还能追求公平...  /post-free-5447038-1.shtml  穆穆有点木123   \n",
       "\n",
       "                      author_page  click  reply              time  \n",
       "0  http://www.tianya.cn/109727900    128      2  2016-04-26 22:30  \n",
       "1  http://www.tianya.cn/111109175     10      0  2016-04-26 11:59  \n",
       "2  http://www.tianya.cn/105699775     95      3  2016-04-26 09:30  "
      ]
     },
     "execution_count": 162,
     "metadata": {},
     "output_type": "execute_result"
    }
   ],
   "source": [
    "df=df.rename(columns = {0:'title', 1:'link', 2:'author',3:'author_page', 4:'click', 5:'reply', 6:'time'})\n",
    "df[:3]"
   ]
  },
  {
   "cell_type": "markdown",
   "metadata": {},
   "source": [
    "##抓取作者信息"
   ]
  },
  {
   "cell_type": "code",
   "execution_count": 163,
   "metadata": {
    "collapsed": false
   },
   "outputs": [
    {
     "data": {
      "text/plain": [
       "0    http://www.tianya.cn/109727900\n",
       "1    http://www.tianya.cn/111109175\n",
       "2    http://www.tianya.cn/105699775\n",
       "3     http://www.tianya.cn/63818311\n",
       "4     http://www.tianya.cn/82604691\n",
       "Name: author_page, dtype: object"
      ]
     },
     "execution_count": 163,
     "metadata": {},
     "output_type": "execute_result"
    }
   ],
   "source": [
    "df.author_page[:5]"
   ]
  },
  {
   "cell_type": "code",
   "execution_count": 195,
   "metadata": {
    "collapsed": false
   },
   "outputs": [
    {
     "data": {
      "text/plain": [
       "[<p><a href=\"/109727900/follow\">0</a></p>,\n",
       " <p>关注</p>,\n",
       " <p><a href=\"/109727900/fans\">2</a></p>,\n",
       " <p>粉丝</p>]"
      ]
     },
     "execution_count": 195,
     "metadata": {},
     "output_type": "execute_result"
    }
   ],
   "source": [
    "content = urllib2.urlopen( \"http://www.tianya.cn/109727900\").read() #获取网页的html文本\n",
    "soup = BeautifulSoup(content, \"lxml\")\n",
    "user_info = soup.find('div',  {'class', 'relate-link'})(\"p\")\n",
    "user_info"
   ]
  },
  {
   "cell_type": "code",
   "execution_count": 188,
   "metadata": {
    "collapsed": true
   },
   "outputs": [],
   "source": [
    "def author_crawler(url, file_name):\n",
    "    try:\n",
    "        content = urllib2.urlopen(url).read() #获取网页的html文本\n",
    "        soup = BeautifulSoup(content, \"lxml\")\n",
    "        link_info = soup.find_all('div', {'class', 'link-box'})\n",
    "        followed_num, fans_num = [i.a.text for i in link_info]\n",
    "        try:\n",
    "            activity = soup.find_all('span', {'class', 'subtitle'})\n",
    "            post_num, reply_num = [j.text[2:] for i in activity[:1] for j in i('a')]\n",
    "        except:\n",
    "            post_num, reply_num = 1, 0\n",
    "        record =  '\\t'.join([url, followed_num, fans_num, post_num, reply_num])\n",
    "        with open(file_name,'a') as p: # '''Note'''：Ａppend mode, run only once!\n",
    "                    p.write(record.encode('utf-8')+\"\\n\") ##!!encode here to utf-8 to avoid encoding\n",
    "\n",
    "    except Exception, e:\n",
    "        print e, url\n",
    "        record =  '\\t'.join([url, 'na', 'na', 'na', 'na'])\n",
    "        with open(file_name,'a') as p: # '''Note'''：Ａppend mode, run only once!\n",
    "                    p.write(record.encode('utf-8')+\"\\n\") ##!!encode here to utf-8 to avoid encoding\n",
    "        pass"
   ]
  },
  {
   "cell_type": "code",
   "execution_count": 189,
   "metadata": {
    "collapsed": false
   },
   "outputs": [
    {
     "name": "stdout",
     "output_type": "stream",
     "text": [
      "0\n",
      "10\n",
      "20\n",
      "30\n",
      "40\n",
      "need more than 0 values to unpack http://www.tianya.cn/46636367\n",
      "50\n",
      "60\n",
      "70\n",
      "80\n",
      "90\n",
      "need more than 0 values to unpack http://www.tianya.cn/46636367\n",
      "100\n",
      "110\n",
      "120\n",
      "130\n",
      "140\n",
      "need more than 0 values to unpack http://www.tianya.cn/46636367\n",
      "150\n",
      "160\n",
      "170\n",
      "180\n",
      "190\n",
      "need more than 0 values to unpack http://www.tianya.cn/46636367\n",
      "200\n",
      "210\n",
      "220\n",
      "230\n",
      "240\n",
      "need more than 0 values to unpack http://www.tianya.cn/46636367\n",
      "250\n",
      "260\n",
      "270\n",
      "280\n",
      "290\n",
      "need more than 0 values to unpack http://www.tianya.cn/46636367\n",
      "300\n",
      "310\n",
      "320\n",
      "330\n",
      "340\n",
      "need more than 0 values to unpack http://www.tianya.cn/46636367\n",
      "350\n",
      "360\n",
      "370\n",
      "380\n",
      "390\n",
      "need more than 0 values to unpack http://www.tianya.cn/46636367\n",
      "400\n",
      "410\n",
      "420\n",
      "430\n",
      "440\n",
      "need more than 0 values to unpack http://www.tianya.cn/46636367\n",
      "450\n",
      "460\n",
      "470\n",
      "480\n",
      "490\n",
      "need more than 0 values to unpack http://www.tianya.cn/46636367\n"
     ]
    }
   ],
   "source": [
    "for k, url in enumerate(df.author_page):\n",
    "    if k % 10==0:\n",
    "        print k\n",
    "    author_crawler(url, 'D:/Data/homework/tianya_bbs_author_info.txt')"
   ]
  },
  {
   "cell_type": "code",
   "execution_count": 196,
   "metadata": {
    "collapsed": false
   },
   "outputs": [
    {
     "name": "stdout",
     "output_type": "stream",
     "text": [
      "贵州安顺市 267 42 2016-04-27 08:23:11 2016-03-03 21:28:47\n"
     ]
    }
   ],
   "source": [
    "user_info = soup.find('div',  {'class', 'userinfo'})('p')\n",
    "area, nid, freq_use, last_login_time, reg_time = [i.get_text()[4:] for i in user_info]\n",
    "print area, nid, freq_use, last_login_time, reg_time "
   ]
  },
  {
   "cell_type": "code",
   "execution_count": 197,
   "metadata": {
    "collapsed": false
   },
   "outputs": [
    {
     "name": "stdout",
     "output_type": "stream",
     "text": [
      "0 2\n"
     ]
    }
   ],
   "source": [
    "link_info = soup.find_all('div', {'class', 'link-box'})\n",
    "followed_num, fans_num = [i.a.text for i in link_info]\n",
    "print followed_num, fans_num"
   ]
  },
  {
   "cell_type": "markdown",
   "metadata": {},
   "source": [
    "##回帖"
   ]
  },
  {
   "cell_type": "code",
   "execution_count": 203,
   "metadata": {
    "collapsed": false
   },
   "outputs": [
    {
     "data": {
      "text/html": [
       "<div>\n",
       "<table border=\"1\" class=\"dataframe\">\n",
       "  <thead>\n",
       "    <tr style=\"text-align: right;\">\n",
       "      <th></th>\n",
       "      <th>title</th>\n",
       "      <th>link</th>\n",
       "      <th>author</th>\n",
       "      <th>author_page</th>\n",
       "      <th>click</th>\n",
       "      <th>reply</th>\n",
       "      <th>time</th>\n",
       "    </tr>\n",
       "  </thead>\n",
       "  <tbody>\n",
       "    <tr>\n",
       "      <th>0</th>\n",
       "      <td>关于423泄题大揭秘!!!</td>\n",
       "      <td>/post-free-5447904-1.shtml</td>\n",
       "      <td>清醒如梦</td>\n",
       "      <td>http://www.tianya.cn/109727900</td>\n",
       "      <td>128</td>\n",
       "      <td>2</td>\n",
       "      <td>2016-04-26 22:30</td>\n",
       "    </tr>\n",
       "    <tr>\n",
       "      <th>1</th>\n",
       "      <td>靠什么回应\"泄题\"危机</td>\n",
       "      <td>/post-free-5447336-1.shtml</td>\n",
       "      <td>宝安传奇</td>\n",
       "      <td>http://www.tianya.cn/111109175</td>\n",
       "      <td>10</td>\n",
       "      <td>0</td>\n",
       "      <td>2016-04-26 11:59</td>\n",
       "    </tr>\n",
       "    <tr>\n",
       "      <th>2</th>\n",
       "      <td>年前考研泄题了,年后考公务员又泄题了,我等蚁民还能追求公平...</td>\n",
       "      <td>/post-free-5447038-1.shtml</td>\n",
       "      <td>穆穆有点木123</td>\n",
       "      <td>http://www.tianya.cn/105699775</td>\n",
       "      <td>95</td>\n",
       "      <td>3</td>\n",
       "      <td>2016-04-26 09:30</td>\n",
       "    </tr>\n",
       "    <tr>\n",
       "      <th>3</th>\n",
       "      <td>【舆情观察】公考疑泄题,究竟是\"公\"考还是\"不公\"?</td>\n",
       "      <td>/post-free-5446499-1.shtml</td>\n",
       "      <td>天涯舆情</td>\n",
       "      <td>http://www.tianya.cn/63818311</td>\n",
       "      <td>2387</td>\n",
       "      <td>11</td>\n",
       "      <td>2016-04-25 16:33</td>\n",
       "    </tr>\n",
       "    <tr>\n",
       "      <th>4</th>\n",
       "      <td>公务员考试泄题谁是祸首?</td>\n",
       "      <td>/post-free-5446281-1.shtml</td>\n",
       "      <td>李吉明123</td>\n",
       "      <td>http://www.tianya.cn/82604691</td>\n",
       "      <td>106</td>\n",
       "      <td>1</td>\n",
       "      <td>2016-04-25 14:32</td>\n",
       "    </tr>\n",
       "    <tr>\n",
       "      <th>5</th>\n",
       "      <td>公务员考试咋又泄题了</td>\n",
       "      <td>/post-free-5446149-1.shtml</td>\n",
       "      <td>雪峰山下1987</td>\n",
       "      <td>http://www.tianya.cn/52130688</td>\n",
       "      <td>88</td>\n",
       "      <td>0</td>\n",
       "      <td>2016-04-25 10:48</td>\n",
       "    </tr>\n",
       "    <tr>\n",
       "      <th>6</th>\n",
       "      <td>关于此次公务员联考泄题之事,如果最后属实,悲愤之余,我想说说...</td>\n",
       "      <td>/post-free-5445639-1.shtml</td>\n",
       "      <td>三拳打死镇关东</td>\n",
       "      <td>http://www.tianya.cn/86108315</td>\n",
       "      <td>12169</td>\n",
       "      <td>76</td>\n",
       "      <td>2016-04-24 18:12</td>\n",
       "    </tr>\n",
       "    <tr>\n",
       "      <th>7</th>\n",
       "      <td>2016年省联考可能泄题</td>\n",
       "      <td>/post-free-5445587-1.shtml</td>\n",
       "      <td>钱富贵2016</td>\n",
       "      <td>http://www.tianya.cn/111589583</td>\n",
       "      <td>606</td>\n",
       "      <td>4</td>\n",
       "      <td>2016-04-24 16:53</td>\n",
       "    </tr>\n",
       "    <tr>\n",
       "      <th>8</th>\n",
       "      <td>从2016年423公务员省考联考泄题看公务员考试</td>\n",
       "      <td>/post-free-5445445-1.shtml</td>\n",
       "      <td>brirec</td>\n",
       "      <td>http://www.tianya.cn/111585809</td>\n",
       "      <td>7383</td>\n",
       "      <td>5</td>\n",
       "      <td>2016-04-24 14:43</td>\n",
       "    </tr>\n",
       "    <tr>\n",
       "      <th>9</th>\n",
       "      <td>关于四川4.23公务员省考泄题的事件</td>\n",
       "      <td>/post-free-5445359-1.shtml</td>\n",
       "      <td>u_111581533</td>\n",
       "      <td>http://www.tianya.cn/111581533</td>\n",
       "      <td>1049</td>\n",
       "      <td>3</td>\n",
       "      <td>2016-04-24 12:01</td>\n",
       "    </tr>\n",
       "    <tr>\n",
       "      <th>10</th>\n",
       "      <td>江西公务员\"省考\"疑似泄题 谁动了上帝的奶酪?</td>\n",
       "      <td>/post-free-5445260-1.shtml</td>\n",
       "      <td>真正的英雄是群众</td>\n",
       "      <td>http://www.tianya.cn/110539405</td>\n",
       "      <td>40654</td>\n",
       "      <td>468</td>\n",
       "      <td>2016-04-24 08:08</td>\n",
       "    </tr>\n",
       "    <tr>\n",
       "      <th>11</th>\n",
       "      <td>网报多省联考公务员泄题</td>\n",
       "      <td>/post-free-5445194-1.shtml</td>\n",
       "      <td>清醒如梦</td>\n",
       "      <td>http://www.tianya.cn/109727900</td>\n",
       "      <td>2324</td>\n",
       "      <td>15</td>\n",
       "      <td>2016-04-24 00:34</td>\n",
       "    </tr>\n",
       "    <tr>\n",
       "      <th>12</th>\n",
       "      <td>2015年的考研泄题事件,就这么销声匿迹了吗?</td>\n",
       "      <td>/post-free-5392166-1.shtml</td>\n",
       "      <td>冷拉热轧</td>\n",
       "      <td>http://www.tianya.cn/109460754</td>\n",
       "      <td>234</td>\n",
       "      <td>4</td>\n",
       "      <td>2016-02-25 13:47</td>\n",
       "    </tr>\n",
       "    <tr>\n",
       "      <th>13</th>\n",
       "      <td>考研泄题,考生泄气,押题=泄题?</td>\n",
       "      <td>/post-free-5354141-1.shtml</td>\n",
       "      <td>姗姗红叶</td>\n",
       "      <td>http://www.tianya.cn/105221040</td>\n",
       "      <td>27</td>\n",
       "      <td>0</td>\n",
       "      <td>2016-01-05 16:34</td>\n",
       "    </tr>\n",
       "    <tr>\n",
       "      <th>14</th>\n",
       "      <td>考研泄题折射出的社会公平问题</td>\n",
       "      <td>/post-free-5351265-1.shtml</td>\n",
       "      <td>紫芳林韵</td>\n",
       "      <td>http://www.tianya.cn/107941752</td>\n",
       "      <td>579</td>\n",
       "      <td>0</td>\n",
       "      <td>2016-01-01 22:09</td>\n",
       "    </tr>\n",
       "    <tr>\n",
       "      <th>15</th>\n",
       "      <td>如何根除考研泄题背后的\"市场利益\"</td>\n",
       "      <td>/post-free-5350606-1.shtml</td>\n",
       "      <td>淡淡1230</td>\n",
       "      <td>http://www.tianya.cn/107918988</td>\n",
       "      <td>46</td>\n",
       "      <td>0</td>\n",
       "      <td>2015-12-31 16:34</td>\n",
       "    </tr>\n",
       "    <tr>\n",
       "      <th>16</th>\n",
       "      <td>考研泄题怪相:解铃还须系铃人</td>\n",
       "      <td>/post-free-5350210-1.shtml</td>\n",
       "      <td>大音稀声945</td>\n",
       "      <td>http://www.tianya.cn/100329698</td>\n",
       "      <td>43</td>\n",
       "      <td>0</td>\n",
       "      <td>2015-12-31 11:11</td>\n",
       "    </tr>\n",
       "    <tr>\n",
       "      <th>17</th>\n",
       "      <td>试金石 2016考研泄题重考</td>\n",
       "      <td>/post-free-5350150-1.shtml</td>\n",
       "      <td>大帝是大地</td>\n",
       "      <td>http://www.tianya.cn/107862374</td>\n",
       "      <td>730</td>\n",
       "      <td>2</td>\n",
       "      <td>2015-12-31 10:19</td>\n",
       "    </tr>\n",
       "    <tr>\n",
       "      <th>18</th>\n",
       "      <td>关于最近的考研泄题事件</td>\n",
       "      <td>/post-free-5349447-1.shtml</td>\n",
       "      <td>front1n</td>\n",
       "      <td>http://www.tianya.cn/107686215</td>\n",
       "      <td>76</td>\n",
       "      <td>0</td>\n",
       "      <td>2015-12-30 14:32</td>\n",
       "    </tr>\n",
       "    <tr>\n",
       "      <th>19</th>\n",
       "      <td>2016考研泄题 重考还是和谐</td>\n",
       "      <td>/post-free-5348910-1.shtml</td>\n",
       "      <td>大帝是大地</td>\n",
       "      <td>http://www.tianya.cn/107862374</td>\n",
       "      <td>3182</td>\n",
       "      <td>2</td>\n",
       "      <td>2015-12-29 18:22</td>\n",
       "    </tr>\n",
       "    <tr>\n",
       "      <th>20</th>\n",
       "      <td>泛市场化之殇:史上最严考研又泄题</td>\n",
       "      <td>/post-free-5347874-1.shtml</td>\n",
       "      <td>痴山</td>\n",
       "      <td>http://www.tianya.cn/13397113</td>\n",
       "      <td>113</td>\n",
       "      <td>0</td>\n",
       "      <td>2015-12-29 07:21</td>\n",
       "    </tr>\n",
       "    <tr>\n",
       "      <th>21</th>\n",
       "      <td>【舆情观察】考研又泄题,七年有期咋还敢顶风作案?</td>\n",
       "      <td>/post-free-5347552-1.shtml</td>\n",
       "      <td>天涯舆情</td>\n",
       "      <td>http://www.tianya.cn/63818311</td>\n",
       "      <td>559</td>\n",
       "      <td>1</td>\n",
       "      <td>2015-12-28 17:35</td>\n",
       "    </tr>\n",
       "    <tr>\n",
       "      <th>22</th>\n",
       "      <td>2015年一级建造师泄题,白金版录音中的26条准确押中案例所有问...</td>\n",
       "      <td>/post-free-5288214-1.shtml</td>\n",
       "      <td>guojian83194</td>\n",
       "      <td>http://www.tianya.cn/106835867</td>\n",
       "      <td>386</td>\n",
       "      <td>1</td>\n",
       "      <td>2015-10-21 17:47</td>\n",
       "    </tr>\n",
       "    <tr>\n",
       "      <th>23</th>\n",
       "      <td>2015年一级建造师市政专业严重泄题</td>\n",
       "      <td>/post-free-5260684-1.shtml</td>\n",
       "      <td>u_106025178</td>\n",
       "      <td>http://www.tianya.cn/106025178</td>\n",
       "      <td>3763</td>\n",
       "      <td>3</td>\n",
       "      <td>2015-09-23 22:15</td>\n",
       "    </tr>\n",
       "    <tr>\n",
       "      <th>24</th>\n",
       "      <td>2015年一级建造师泄题事件!公信力何在?</td>\n",
       "      <td>/post-free-5260598-1.shtml</td>\n",
       "      <td>augusttiger</td>\n",
       "      <td>http://www.tianya.cn/97424895</td>\n",
       "      <td>12323</td>\n",
       "      <td>15</td>\n",
       "      <td>2015-09-23 21:00</td>\n",
       "    </tr>\n",
       "    <tr>\n",
       "      <th>25</th>\n",
       "      <td>一建泄题  在9月19日晚上就出现了泄题</td>\n",
       "      <td>/post-free-5257535-1.shtml</td>\n",
       "      <td>u_105960873</td>\n",
       "      <td>http://www.tianya.cn/105960873</td>\n",
       "      <td>805</td>\n",
       "      <td>3</td>\n",
       "      <td>2015-09-21 16:09</td>\n",
       "    </tr>\n",
       "    <tr>\n",
       "      <th>26</th>\n",
       "      <td>一建司法泄题门再现!(转载)</td>\n",
       "      <td>/post-free-5256628-1.shtml</td>\n",
       "      <td>泰州媒体人</td>\n",
       "      <td>http://www.tianya.cn/105932043</td>\n",
       "      <td>844</td>\n",
       "      <td>1</td>\n",
       "      <td>2015-09-20 18:56</td>\n",
       "    </tr>\n",
       "    <tr>\n",
       "      <th>27</th>\n",
       "      <td>全国注安考试,泄题了,被传疯了!</td>\n",
       "      <td>/post-free-5253780-1.shtml</td>\n",
       "      <td>今日很无奈</td>\n",
       "      <td>http://www.tianya.cn/105819697</td>\n",
       "      <td>309</td>\n",
       "      <td>1</td>\n",
       "      <td>2015-09-17 22:31</td>\n",
       "    </tr>\n",
       "    <tr>\n",
       "      <th>28</th>\n",
       "      <td>2015年广西公务员考试泄题了!希望国家严惩犯罪分子!(有图有真...</td>\n",
       "      <td>/post-free-5068734-1.shtml</td>\n",
       "      <td>生活要多留心眼</td>\n",
       "      <td>http://www.tianya.cn/101101720</td>\n",
       "      <td>11709</td>\n",
       "      <td>3</td>\n",
       "      <td>2015-04-23 23:14</td>\n",
       "    </tr>\n",
       "    <tr>\n",
       "      <th>29</th>\n",
       "      <td>2015广西公务员考试没有泄题?</td>\n",
       "      <td>/post-free-5051355-1.shtml</td>\n",
       "      <td>2005那时花开</td>\n",
       "      <td>http://www.tianya.cn/100742274</td>\n",
       "      <td>2162</td>\n",
       "      <td>4</td>\n",
       "      <td>2015-04-12 23:43</td>\n",
       "    </tr>\n",
       "    <tr>\n",
       "      <th>...</th>\n",
       "      <td>...</td>\n",
       "      <td>...</td>\n",
       "      <td>...</td>\n",
       "      <td>...</td>\n",
       "      <td>...</td>\n",
       "      <td>...</td>\n",
       "      <td>...</td>\n",
       "    </tr>\n",
       "    <tr>\n",
       "      <th>470</th>\n",
       "      <td>泛市场化之殇:史上最严考研又泄题</td>\n",
       "      <td>/post-free-5347874-1.shtml</td>\n",
       "      <td>痴山</td>\n",
       "      <td>http://www.tianya.cn/13397113</td>\n",
       "      <td>113</td>\n",
       "      <td>0</td>\n",
       "      <td>2015-12-29 07:21</td>\n",
       "    </tr>\n",
       "    <tr>\n",
       "      <th>471</th>\n",
       "      <td>【舆情观察】考研又泄题,七年有期咋还敢顶风作案?</td>\n",
       "      <td>/post-free-5347552-1.shtml</td>\n",
       "      <td>天涯舆情</td>\n",
       "      <td>http://www.tianya.cn/63818311</td>\n",
       "      <td>559</td>\n",
       "      <td>1</td>\n",
       "      <td>2015-12-28 17:35</td>\n",
       "    </tr>\n",
       "    <tr>\n",
       "      <th>472</th>\n",
       "      <td>2015年一级建造师泄题,白金版录音中的26条准确押中案例所有问...</td>\n",
       "      <td>/post-free-5288214-1.shtml</td>\n",
       "      <td>guojian83194</td>\n",
       "      <td>http://www.tianya.cn/106835867</td>\n",
       "      <td>386</td>\n",
       "      <td>1</td>\n",
       "      <td>2015-10-21 17:47</td>\n",
       "    </tr>\n",
       "    <tr>\n",
       "      <th>473</th>\n",
       "      <td>2015年一级建造师市政专业严重泄题</td>\n",
       "      <td>/post-free-5260684-1.shtml</td>\n",
       "      <td>u_106025178</td>\n",
       "      <td>http://www.tianya.cn/106025178</td>\n",
       "      <td>3763</td>\n",
       "      <td>3</td>\n",
       "      <td>2015-09-23 22:15</td>\n",
       "    </tr>\n",
       "    <tr>\n",
       "      <th>474</th>\n",
       "      <td>2015年一级建造师泄题事件!公信力何在?</td>\n",
       "      <td>/post-free-5260598-1.shtml</td>\n",
       "      <td>augusttiger</td>\n",
       "      <td>http://www.tianya.cn/97424895</td>\n",
       "      <td>12323</td>\n",
       "      <td>15</td>\n",
       "      <td>2015-09-23 21:00</td>\n",
       "    </tr>\n",
       "    <tr>\n",
       "      <th>475</th>\n",
       "      <td>一建泄题  在9月19日晚上就出现了泄题</td>\n",
       "      <td>/post-free-5257535-1.shtml</td>\n",
       "      <td>u_105960873</td>\n",
       "      <td>http://www.tianya.cn/105960873</td>\n",
       "      <td>805</td>\n",
       "      <td>3</td>\n",
       "      <td>2015-09-21 16:09</td>\n",
       "    </tr>\n",
       "    <tr>\n",
       "      <th>476</th>\n",
       "      <td>一建司法泄题门再现!(转载)</td>\n",
       "      <td>/post-free-5256628-1.shtml</td>\n",
       "      <td>泰州媒体人</td>\n",
       "      <td>http://www.tianya.cn/105932043</td>\n",
       "      <td>844</td>\n",
       "      <td>1</td>\n",
       "      <td>2015-09-20 18:56</td>\n",
       "    </tr>\n",
       "    <tr>\n",
       "      <th>477</th>\n",
       "      <td>全国注安考试,泄题了,被传疯了!</td>\n",
       "      <td>/post-free-5253780-1.shtml</td>\n",
       "      <td>今日很无奈</td>\n",
       "      <td>http://www.tianya.cn/105819697</td>\n",
       "      <td>309</td>\n",
       "      <td>1</td>\n",
       "      <td>2015-09-17 22:31</td>\n",
       "    </tr>\n",
       "    <tr>\n",
       "      <th>478</th>\n",
       "      <td>2015年广西公务员考试泄题了!希望国家严惩犯罪分子!(有图有真...</td>\n",
       "      <td>/post-free-5068734-1.shtml</td>\n",
       "      <td>生活要多留心眼</td>\n",
       "      <td>http://www.tianya.cn/101101720</td>\n",
       "      <td>11709</td>\n",
       "      <td>3</td>\n",
       "      <td>2015-04-23 23:14</td>\n",
       "    </tr>\n",
       "    <tr>\n",
       "      <th>479</th>\n",
       "      <td>2015广西公务员考试没有泄题?</td>\n",
       "      <td>/post-free-5051355-1.shtml</td>\n",
       "      <td>2005那时花开</td>\n",
       "      <td>http://www.tianya.cn/100742274</td>\n",
       "      <td>2162</td>\n",
       "      <td>4</td>\n",
       "      <td>2015-04-12 23:43</td>\n",
       "    </tr>\n",
       "    <tr>\n",
       "      <th>480</th>\n",
       "      <td>2015年中石油职称英语又泄题了!!!</td>\n",
       "      <td>/post-free-5049529-1.shtml</td>\n",
       "      <td>八点芷天</td>\n",
       "      <td>http://www.tianya.cn/99895353</td>\n",
       "      <td>960</td>\n",
       "      <td>1</td>\n",
       "      <td>2015-04-11 16:54</td>\n",
       "    </tr>\n",
       "    <tr>\n",
       "      <th>481</th>\n",
       "      <td>2014年执业医师考试泄题-医恒教育Q61537044为什么没人管呢</td>\n",
       "      <td>/post-free-5040992-1.shtml</td>\n",
       "      <td>冉天晴</td>\n",
       "      <td>http://www.tianya.cn/99893799</td>\n",
       "      <td>225</td>\n",
       "      <td>2</td>\n",
       "      <td>2015-04-06 14:16</td>\n",
       "    </tr>\n",
       "    <tr>\n",
       "      <th>482</th>\n",
       "      <td>初十补考,传闻联考泄题(转载)</td>\n",
       "      <td>/post-free-4973858-1.shtml</td>\n",
       "      <td>觞法</td>\n",
       "      <td>http://www.tianya.cn/99339171</td>\n",
       "      <td>61</td>\n",
       "      <td>1</td>\n",
       "      <td>2015-02-27 21:28</td>\n",
       "    </tr>\n",
       "    <tr>\n",
       "      <th>483</th>\n",
       "      <td>2015年浏阳招聘60名事业单位人才-笔试内部人员泄题或专业骗子...</td>\n",
       "      <td>/post-free-4960881-1.shtml</td>\n",
       "      <td>秒ongoing</td>\n",
       "      <td>http://www.tianya.cn/99087533</td>\n",
       "      <td>140</td>\n",
       "      <td>1</td>\n",
       "      <td>2015-02-13 23:46</td>\n",
       "    </tr>\n",
       "    <tr>\n",
       "      <th>484</th>\n",
       "      <td>2014年一建机电实务考试严重泄题,请还自学者一个公道!</td>\n",
       "      <td>/post-free-4849577-1.shtml</td>\n",
       "      <td>山水相依0531</td>\n",
       "      <td>http://www.tianya.cn/55010286</td>\n",
       "      <td>930</td>\n",
       "      <td>1</td>\n",
       "      <td>2014-12-20 08:21</td>\n",
       "    </tr>\n",
       "    <tr>\n",
       "      <th>485</th>\n",
       "      <td>2011注会泄题,2014财管疑似乱评分,中注协内部管理混乱(转载)</td>\n",
       "      <td>/post-free-4835513-1.shtml</td>\n",
       "      <td>番茄炒蛋99</td>\n",
       "      <td>http://www.tianya.cn/97272702</td>\n",
       "      <td>151584</td>\n",
       "      <td>161</td>\n",
       "      <td>2014-12-13 14:13</td>\n",
       "    </tr>\n",
       "    <tr>\n",
       "      <th>486</th>\n",
       "      <td>关于2014年大庆油田招工考试数学泄题的事!</td>\n",
       "      <td>/post-free-4642852-1.shtml</td>\n",
       "      <td>linandope</td>\n",
       "      <td>http://www.tianya.cn/62550406</td>\n",
       "      <td>3508</td>\n",
       "      <td>5</td>\n",
       "      <td>2014-09-18 01:52</td>\n",
       "    </tr>\n",
       "    <tr>\n",
       "      <th>487</th>\n",
       "      <td>广州中考作文题又\"泄题\"?</td>\n",
       "      <td>/post-free-4418906-1.shtml</td>\n",
       "      <td>longwendg</td>\n",
       "      <td>http://www.tianya.cn/87229605</td>\n",
       "      <td>60</td>\n",
       "      <td>0</td>\n",
       "      <td>2014-06-18 16:26</td>\n",
       "    </tr>\n",
       "    <tr>\n",
       "      <th>488</th>\n",
       "      <td>同等学力考试泄题了吗?</td>\n",
       "      <td>/post-free-4343465-1.shtml</td>\n",
       "      <td>ronny168</td>\n",
       "      <td>http://www.tianya.cn/67505600</td>\n",
       "      <td>383</td>\n",
       "      <td>2</td>\n",
       "      <td>2014-05-19 18:25</td>\n",
       "    </tr>\n",
       "    <tr>\n",
       "      <th>489</th>\n",
       "      <td>中高考提分利器——《提分考典》深陷\"泄题门\"(转载)</td>\n",
       "      <td>/post-free-4154563-1.shtml</td>\n",
       "      <td>zhandoujiA18</td>\n",
       "      <td>http://www.tianya.cn/87733953</td>\n",
       "      <td>162</td>\n",
       "      <td>0</td>\n",
       "      <td>2014-02-27 11:22</td>\n",
       "    </tr>\n",
       "    <tr>\n",
       "      <th>490</th>\n",
       "      <td>2014年武汉市初中元月调考严重泄题</td>\n",
       "      <td>/post-free-4088693-1.shtml</td>\n",
       "      <td>调考泄题</td>\n",
       "      <td>http://www.tianya.cn/86740270</td>\n",
       "      <td>6502</td>\n",
       "      <td>2</td>\n",
       "      <td>2014-01-19 23:56</td>\n",
       "    </tr>\n",
       "    <tr>\n",
       "      <th>491</th>\n",
       "      <td>白河县事业单位招聘考试泄题 公开招考成拼爹(转载)</td>\n",
       "      <td>/post-free-3838283-1.shtml</td>\n",
       "      <td>wxy武小艳</td>\n",
       "      <td>http://www.tianya.cn/84495564</td>\n",
       "      <td>322</td>\n",
       "      <td>0</td>\n",
       "      <td>2013-11-26 10:46</td>\n",
       "    </tr>\n",
       "    <tr>\n",
       "      <th>492</th>\n",
       "      <td>泄题又改分!开封农信社招聘考试黑的发紫!(转载)</td>\n",
       "      <td>/post-free-3825557-1.shtml</td>\n",
       "      <td>铁剑叔叔</td>\n",
       "      <td>http://www.tianya.cn/85239591</td>\n",
       "      <td>2875</td>\n",
       "      <td>16</td>\n",
       "      <td>2013-11-21 10:59</td>\n",
       "    </tr>\n",
       "    <tr>\n",
       "      <th>493</th>\n",
       "      <td>开封农信社考试严重泄题,六十多个成绩一模一样.</td>\n",
       "      <td>/post-free-3822959-1.shtml</td>\n",
       "      <td>铁剑叔叔</td>\n",
       "      <td>http://www.tianya.cn/85239591</td>\n",
       "      <td>1950</td>\n",
       "      <td>11</td>\n",
       "      <td>2013-11-20 11:34</td>\n",
       "    </tr>\n",
       "    <tr>\n",
       "      <th>494</th>\n",
       "      <td>今年一级建造师建筑实务考试泄题了!大家来围观</td>\n",
       "      <td>/post-free-3674731-1.shtml</td>\n",
       "      <td>贸易ABC</td>\n",
       "      <td>http://www.tianya.cn/53607720</td>\n",
       "      <td>1102</td>\n",
       "      <td>5</td>\n",
       "      <td>2013-09-22 09:40</td>\n",
       "    </tr>\n",
       "    <tr>\n",
       "      <th>495</th>\n",
       "      <td>为教考分离,举报本校本专业考试泄题几百次,被出卖,官僚的表现...</td>\n",
       "      <td>/post-free-3626124-1.shtml</td>\n",
       "      <td>火爆废时</td>\n",
       "      <td>http://www.tianya.cn/74910180</td>\n",
       "      <td>465</td>\n",
       "      <td>21</td>\n",
       "      <td>2013-09-02 12:25</td>\n",
       "    </tr>\n",
       "    <tr>\n",
       "      <th>496</th>\n",
       "      <td>硚口区教研室统考存在严重泄题</td>\n",
       "      <td>/post-free-3401342-1.shtml</td>\n",
       "      <td>捂汗晚报ABC</td>\n",
       "      <td>http://www.tianya.cn/81384570</td>\n",
       "      <td>279</td>\n",
       "      <td>1</td>\n",
       "      <td>2013-06-18 00:40</td>\n",
       "    </tr>\n",
       "    <tr>\n",
       "      <th>497</th>\n",
       "      <td>网曝瑞安代课教师转正考试泄题 教育局称将重考(转载)</td>\n",
       "      <td>/post-free-3380778-1.shtml</td>\n",
       "      <td>karmasky</td>\n",
       "      <td>http://www.tianya.cn/46636367</td>\n",
       "      <td>59</td>\n",
       "      <td>0</td>\n",
       "      <td>2013-06-09 14:41</td>\n",
       "    </tr>\n",
       "    <tr>\n",
       "      <th>498</th>\n",
       "      <td>某玩家游戏中泄高考题 自称后台很硬(转载)</td>\n",
       "      <td>/post-free-3367086-1.shtml</td>\n",
       "      <td>真是欠抽</td>\n",
       "      <td>http://www.tianya.cn/80073066</td>\n",
       "      <td>208</td>\n",
       "      <td>0</td>\n",
       "      <td>2013-06-05 09:56</td>\n",
       "    </tr>\n",
       "    <tr>\n",
       "      <th>499</th>\n",
       "      <td>★★★英语四六级又陷泄题门 游戏贴吧考前公布答案★★★★</td>\n",
       "      <td>/post-free-3360970-1.shtml</td>\n",
       "      <td>华涩青春</td>\n",
       "      <td>http://www.tianya.cn/61136767</td>\n",
       "      <td>671</td>\n",
       "      <td>15</td>\n",
       "      <td>2013-06-03 10:20</td>\n",
       "    </tr>\n",
       "  </tbody>\n",
       "</table>\n",
       "<p>500 rows × 7 columns</p>\n",
       "</div>"
      ],
      "text/plain": [
       "                                   title                        link  \\\n",
       "0                          关于423泄题大揭秘!!!  /post-free-5447904-1.shtml   \n",
       "1                            靠什么回应\"泄题\"危机  /post-free-5447336-1.shtml   \n",
       "2       年前考研泄题了,年后考公务员又泄题了,我等蚁民还能追求公平...  /post-free-5447038-1.shtml   \n",
       "3             【舆情观察】公考疑泄题,究竟是\"公\"考还是\"不公\"?  /post-free-5446499-1.shtml   \n",
       "4                           公务员考试泄题谁是祸首?  /post-free-5446281-1.shtml   \n",
       "5                             公务员考试咋又泄题了  /post-free-5446149-1.shtml   \n",
       "6      关于此次公务员联考泄题之事,如果最后属实,悲愤之余,我想说说...  /post-free-5445639-1.shtml   \n",
       "7                           2016年省联考可能泄题  /post-free-5445587-1.shtml   \n",
       "8               从2016年423公务员省考联考泄题看公务员考试  /post-free-5445445-1.shtml   \n",
       "9                     关于四川4.23公务员省考泄题的事件  /post-free-5445359-1.shtml   \n",
       "10               江西公务员\"省考\"疑似泄题 谁动了上帝的奶酪?  /post-free-5445260-1.shtml   \n",
       "11                           网报多省联考公务员泄题  /post-free-5445194-1.shtml   \n",
       "12               2015年的考研泄题事件,就这么销声匿迹了吗?  /post-free-5392166-1.shtml   \n",
       "13                      考研泄题,考生泄气,押题=泄题?  /post-free-5354141-1.shtml   \n",
       "14                        考研泄题折射出的社会公平问题  /post-free-5351265-1.shtml   \n",
       "15                     如何根除考研泄题背后的\"市场利益\"  /post-free-5350606-1.shtml   \n",
       "16                        考研泄题怪相:解铃还须系铃人  /post-free-5350210-1.shtml   \n",
       "17                        试金石 2016考研泄题重考  /post-free-5350150-1.shtml   \n",
       "18                           关于最近的考研泄题事件  /post-free-5349447-1.shtml   \n",
       "19                       2016考研泄题 重考还是和谐  /post-free-5348910-1.shtml   \n",
       "20                      泛市场化之殇:史上最严考研又泄题  /post-free-5347874-1.shtml   \n",
       "21              【舆情观察】考研又泄题,七年有期咋还敢顶风作案?  /post-free-5347552-1.shtml   \n",
       "22   2015年一级建造师泄题,白金版录音中的26条准确押中案例所有问...  /post-free-5288214-1.shtml   \n",
       "23                    2015年一级建造师市政专业严重泄题  /post-free-5260684-1.shtml   \n",
       "24                 2015年一级建造师泄题事件!公信力何在?  /post-free-5260598-1.shtml   \n",
       "25                  一建泄题  在9月19日晚上就出现了泄题  /post-free-5257535-1.shtml   \n",
       "26                        一建司法泄题门再现!(转载)  /post-free-5256628-1.shtml   \n",
       "27                      全国注安考试,泄题了,被传疯了!  /post-free-5253780-1.shtml   \n",
       "28   2015年广西公务员考试泄题了!希望国家严惩犯罪分子!(有图有真...  /post-free-5068734-1.shtml   \n",
       "29                      2015广西公务员考试没有泄题?  /post-free-5051355-1.shtml   \n",
       "..                                   ...                         ...   \n",
       "470                     泛市场化之殇:史上最严考研又泄题  /post-free-5347874-1.shtml   \n",
       "471             【舆情观察】考研又泄题,七年有期咋还敢顶风作案?  /post-free-5347552-1.shtml   \n",
       "472  2015年一级建造师泄题,白金版录音中的26条准确押中案例所有问...  /post-free-5288214-1.shtml   \n",
       "473                   2015年一级建造师市政专业严重泄题  /post-free-5260684-1.shtml   \n",
       "474                2015年一级建造师泄题事件!公信力何在?  /post-free-5260598-1.shtml   \n",
       "475                 一建泄题  在9月19日晚上就出现了泄题  /post-free-5257535-1.shtml   \n",
       "476                       一建司法泄题门再现!(转载)  /post-free-5256628-1.shtml   \n",
       "477                     全国注安考试,泄题了,被传疯了!  /post-free-5253780-1.shtml   \n",
       "478  2015年广西公务员考试泄题了!希望国家严惩犯罪分子!(有图有真...  /post-free-5068734-1.shtml   \n",
       "479                     2015广西公务员考试没有泄题?  /post-free-5051355-1.shtml   \n",
       "480                  2015年中石油职称英语又泄题了!!!  /post-free-5049529-1.shtml   \n",
       "481   2014年执业医师考试泄题-医恒教育Q61537044为什么没人管呢  /post-free-5040992-1.shtml   \n",
       "482                      初十补考,传闻联考泄题(转载)  /post-free-4973858-1.shtml   \n",
       "483  2015年浏阳招聘60名事业单位人才-笔试内部人员泄题或专业骗子...  /post-free-4960881-1.shtml   \n",
       "484         2014年一建机电实务考试严重泄题,请还自学者一个公道!  /post-free-4849577-1.shtml   \n",
       "485   2011注会泄题,2014财管疑似乱评分,中注协内部管理混乱(转载)  /post-free-4835513-1.shtml   \n",
       "486               关于2014年大庆油田招工考试数学泄题的事!  /post-free-4642852-1.shtml   \n",
       "487                        广州中考作文题又\"泄题\"?  /post-free-4418906-1.shtml   \n",
       "488                          同等学力考试泄题了吗?  /post-free-4343465-1.shtml   \n",
       "489           中高考提分利器——《提分考典》深陷\"泄题门\"(转载)  /post-free-4154563-1.shtml   \n",
       "490                   2014年武汉市初中元月调考严重泄题  /post-free-4088693-1.shtml   \n",
       "491            白河县事业单位招聘考试泄题 公开招考成拼爹(转载)  /post-free-3838283-1.shtml   \n",
       "492             泄题又改分!开封农信社招聘考试黑的发紫!(转载)  /post-free-3825557-1.shtml   \n",
       "493              开封农信社考试严重泄题,六十多个成绩一模一样.  /post-free-3822959-1.shtml   \n",
       "494               今年一级建造师建筑实务考试泄题了!大家来围观  /post-free-3674731-1.shtml   \n",
       "495    为教考分离,举报本校本专业考试泄题几百次,被出卖,官僚的表现...  /post-free-3626124-1.shtml   \n",
       "496                       硚口区教研室统考存在严重泄题  /post-free-3401342-1.shtml   \n",
       "497           网曝瑞安代课教师转正考试泄题 教育局称将重考(转载)  /post-free-3380778-1.shtml   \n",
       "498                某玩家游戏中泄高考题 自称后台很硬(转载)  /post-free-3367086-1.shtml   \n",
       "499         ★★★英语四六级又陷泄题门 游戏贴吧考前公布答案★★★★  /post-free-3360970-1.shtml   \n",
       "\n",
       "           author                     author_page   click  reply  \\\n",
       "0            清醒如梦  http://www.tianya.cn/109727900     128      2   \n",
       "1            宝安传奇  http://www.tianya.cn/111109175      10      0   \n",
       "2        穆穆有点木123  http://www.tianya.cn/105699775      95      3   \n",
       "3            天涯舆情   http://www.tianya.cn/63818311    2387     11   \n",
       "4          李吉明123   http://www.tianya.cn/82604691     106      1   \n",
       "5        雪峰山下1987   http://www.tianya.cn/52130688      88      0   \n",
       "6         三拳打死镇关东   http://www.tianya.cn/86108315   12169     76   \n",
       "7         钱富贵2016  http://www.tianya.cn/111589583     606      4   \n",
       "8          brirec  http://www.tianya.cn/111585809    7383      5   \n",
       "9     u_111581533  http://www.tianya.cn/111581533    1049      3   \n",
       "10       真正的英雄是群众  http://www.tianya.cn/110539405   40654    468   \n",
       "11           清醒如梦  http://www.tianya.cn/109727900    2324     15   \n",
       "12           冷拉热轧  http://www.tianya.cn/109460754     234      4   \n",
       "13           姗姗红叶  http://www.tianya.cn/105221040      27      0   \n",
       "14           紫芳林韵  http://www.tianya.cn/107941752     579      0   \n",
       "15         淡淡1230  http://www.tianya.cn/107918988      46      0   \n",
       "16        大音稀声945  http://www.tianya.cn/100329698      43      0   \n",
       "17          大帝是大地  http://www.tianya.cn/107862374     730      2   \n",
       "18        front1n  http://www.tianya.cn/107686215      76      0   \n",
       "19          大帝是大地  http://www.tianya.cn/107862374    3182      2   \n",
       "20             痴山   http://www.tianya.cn/13397113     113      0   \n",
       "21           天涯舆情   http://www.tianya.cn/63818311     559      1   \n",
       "22   guojian83194  http://www.tianya.cn/106835867     386      1   \n",
       "23    u_106025178  http://www.tianya.cn/106025178    3763      3   \n",
       "24    augusttiger   http://www.tianya.cn/97424895   12323     15   \n",
       "25    u_105960873  http://www.tianya.cn/105960873     805      3   \n",
       "26          泰州媒体人  http://www.tianya.cn/105932043     844      1   \n",
       "27          今日很无奈  http://www.tianya.cn/105819697     309      1   \n",
       "28        生活要多留心眼  http://www.tianya.cn/101101720   11709      3   \n",
       "29       2005那时花开  http://www.tianya.cn/100742274    2162      4   \n",
       "..            ...                             ...     ...    ...   \n",
       "470            痴山   http://www.tianya.cn/13397113     113      0   \n",
       "471          天涯舆情   http://www.tianya.cn/63818311     559      1   \n",
       "472  guojian83194  http://www.tianya.cn/106835867     386      1   \n",
       "473   u_106025178  http://www.tianya.cn/106025178    3763      3   \n",
       "474   augusttiger   http://www.tianya.cn/97424895   12323     15   \n",
       "475   u_105960873  http://www.tianya.cn/105960873     805      3   \n",
       "476         泰州媒体人  http://www.tianya.cn/105932043     844      1   \n",
       "477         今日很无奈  http://www.tianya.cn/105819697     309      1   \n",
       "478       生活要多留心眼  http://www.tianya.cn/101101720   11709      3   \n",
       "479      2005那时花开  http://www.tianya.cn/100742274    2162      4   \n",
       "480          八点芷天   http://www.tianya.cn/99895353     960      1   \n",
       "481           冉天晴   http://www.tianya.cn/99893799     225      2   \n",
       "482            觞法   http://www.tianya.cn/99339171      61      1   \n",
       "483      秒ongoing   http://www.tianya.cn/99087533     140      1   \n",
       "484      山水相依0531   http://www.tianya.cn/55010286     930      1   \n",
       "485        番茄炒蛋99   http://www.tianya.cn/97272702  151584    161   \n",
       "486     linandope   http://www.tianya.cn/62550406    3508      5   \n",
       "487     longwendg   http://www.tianya.cn/87229605      60      0   \n",
       "488      ronny168   http://www.tianya.cn/67505600     383      2   \n",
       "489  zhandoujiA18   http://www.tianya.cn/87733953     162      0   \n",
       "490          调考泄题   http://www.tianya.cn/86740270    6502      2   \n",
       "491        wxy武小艳   http://www.tianya.cn/84495564     322      0   \n",
       "492          铁剑叔叔   http://www.tianya.cn/85239591    2875     16   \n",
       "493          铁剑叔叔   http://www.tianya.cn/85239591    1950     11   \n",
       "494         贸易ABC   http://www.tianya.cn/53607720    1102      5   \n",
       "495          火爆废时   http://www.tianya.cn/74910180     465     21   \n",
       "496       捂汗晚报ABC   http://www.tianya.cn/81384570     279      1   \n",
       "497      karmasky   http://www.tianya.cn/46636367      59      0   \n",
       "498          真是欠抽   http://www.tianya.cn/80073066     208      0   \n",
       "499          华涩青春   http://www.tianya.cn/61136767     671     15   \n",
       "\n",
       "                 time  \n",
       "0    2016-04-26 22:30  \n",
       "1    2016-04-26 11:59  \n",
       "2    2016-04-26 09:30  \n",
       "3    2016-04-25 16:33  \n",
       "4    2016-04-25 14:32  \n",
       "5    2016-04-25 10:48  \n",
       "6    2016-04-24 18:12  \n",
       "7    2016-04-24 16:53  \n",
       "8    2016-04-24 14:43  \n",
       "9    2016-04-24 12:01  \n",
       "10   2016-04-24 08:08  \n",
       "11   2016-04-24 00:34  \n",
       "12   2016-02-25 13:47  \n",
       "13   2016-01-05 16:34  \n",
       "14   2016-01-01 22:09  \n",
       "15   2015-12-31 16:34  \n",
       "16   2015-12-31 11:11  \n",
       "17   2015-12-31 10:19  \n",
       "18   2015-12-30 14:32  \n",
       "19   2015-12-29 18:22  \n",
       "20   2015-12-29 07:21  \n",
       "21   2015-12-28 17:35  \n",
       "22   2015-10-21 17:47  \n",
       "23   2015-09-23 22:15  \n",
       "24   2015-09-23 21:00  \n",
       "25   2015-09-21 16:09  \n",
       "26   2015-09-20 18:56  \n",
       "27   2015-09-17 22:31  \n",
       "28   2015-04-23 23:14  \n",
       "29   2015-04-12 23:43  \n",
       "..                ...  \n",
       "470  2015-12-29 07:21  \n",
       "471  2015-12-28 17:35  \n",
       "472  2015-10-21 17:47  \n",
       "473  2015-09-23 22:15  \n",
       "474  2015-09-23 21:00  \n",
       "475  2015-09-21 16:09  \n",
       "476  2015-09-20 18:56  \n",
       "477  2015-09-17 22:31  \n",
       "478  2015-04-23 23:14  \n",
       "479  2015-04-12 23:43  \n",
       "480  2015-04-11 16:54  \n",
       "481  2015-04-06 14:16  \n",
       "482  2015-02-27 21:28  \n",
       "483  2015-02-13 23:46  \n",
       "484  2014-12-20 08:21  \n",
       "485  2014-12-13 14:13  \n",
       "486  2014-09-18 01:52  \n",
       "487  2014-06-18 16:26  \n",
       "488  2014-05-19 18:25  \n",
       "489  2014-02-27 11:22  \n",
       "490  2014-01-19 23:56  \n",
       "491  2013-11-26 10:46  \n",
       "492  2013-11-21 10:59  \n",
       "493  2013-11-20 11:34  \n",
       "494  2013-09-22 09:40  \n",
       "495  2013-09-02 12:25  \n",
       "496  2013-06-18 00:40  \n",
       "497  2013-06-09 14:41  \n",
       "498  2013-06-05 09:56  \n",
       "499  2013-06-03 10:20  \n",
       "\n",
       "[500 rows x 7 columns]"
      ]
     },
     "execution_count": 203,
     "metadata": {},
     "output_type": "execute_result"
    }
   ],
   "source": [
    "df"
   ]
  },
  {
   "cell_type": "code",
   "execution_count": 204,
   "metadata": {
    "collapsed": false
   },
   "outputs": [
    {
     "data": {
      "text/plain": [
       "'/post-free-5445260-1.shtml'"
      ]
     },
     "execution_count": 204,
     "metadata": {},
     "output_type": "execute_result"
    }
   ],
   "source": [
    "df.link[10]"
   ]
  },
  {
   "cell_type": "code",
   "execution_count": 206,
   "metadata": {
    "collapsed": false
   },
   "outputs": [
    {
     "data": {
      "text/plain": [
       "'http://bbs.tianya.cn/post-free-5445260-1.shtml'"
      ]
     },
     "execution_count": 206,
     "metadata": {},
     "output_type": "execute_result"
    }
   ],
   "source": [
    "url = 'http://bbs.tianya.cn' + df.link[10]\n",
    "url"
   ]
  },
  {
   "cell_type": "code",
   "execution_count": 207,
   "metadata": {
    "collapsed": false
   },
   "outputs": [
    {
     "data": {
      "text/html": [
       "<iframe src=http://bbs.tianya.cn/post-free-5445260-1.shtml width=1000 height=500></iframe>"
      ],
      "text/plain": [
       "<IPython.core.display.HTML object>"
      ]
     },
     "execution_count": 207,
     "metadata": {},
     "output_type": "execute_result"
    }
   ],
   "source": [
    "from IPython.display import display_html, HTML\n",
    "HTML('<iframe src=http://bbs.tianya.cn/post-free-5445260-1.shtml width=1000 height=500></iframe>')"
   ]
  },
  {
   "cell_type": "code",
   "execution_count": 208,
   "metadata": {
    "collapsed": true
   },
   "outputs": [],
   "source": [
    "post = urllib2.urlopen(url).read() #获取网页的html文本\n",
    "post_soup = BeautifulSoup(post, \"lxml\") "
   ]
  },
  {
   "cell_type": "code",
   "execution_count": 209,
   "metadata": {
    "collapsed": false
   },
   "outputs": [
    {
     "name": "stdout",
     "output_type": "stream",
     "text": [
      "<!DOCTYPE HTML>\n",
      "<html>\n",
      " <head>\n",
      "  <meta charset=\"utf-8\"/>\n",
      "  <title>\n",
      "   江西公务员“省考”疑似泄题 谁动了上帝的奶酪？_天涯杂谈_天涯论坛\n",
      "  </title>\n",
      "  <meta content=\"江西公务员“省考”疑似泄题 谁动了上帝的奶酪？　　刚看到网上一则《江西公务员“省考”疑被泄题 省人社厅已介入核实》消息，来自中国江西网 。江西省人社厅官方微博发布消息表示将核查，这么看难道　　消息属实，真的出现了公考笔试泄题情况？　　公务员考试是国家和各级地方政府招录、选拔人才的重要方...\" name=\"description\"/>\n",
      "  <meta content=\"IE=EmulateIE9\" http-equiv=\"X-UA-Compatible\"/>\n",
      "  <meta content=\"真正的英雄是群众\" name=\"author\"/>\n",
      "  <meta content=\"format=xhtml; url=http://bbs.tianya.cn/m/post-free-5445260-1.shtml\" http-equiv=\"mobile-agent\"/>\n",
      "  <link href=\"http://static.tianyaui.com/global/ty/TY.css\" rel=\"stylesheet\" type=\"text/css\"/>\n",
      "  <link href=\"http://static.tianyaui.com/global/bbs/web/static/css/bbs_article_c55fffc.css\" rel=\"stylesheet\" type=\"text/css\"/>\n",
      "  <link href=\"http://static.tianyaui.com/favicon.ico\" rel=\"shortcut icon\" type=\"image/vnd.microsoft.icon\"/>\n",
      "  <link href=\"http://bbs.tianya.cn/post-free-5445260-2.shtml\" rel=\"next\"/>\n",
      "  <script type=\"text/javascript\">\n",
      "   var bbsGlobal = {\r\n",
      "\tisEhomeItem : false\n"
     ]
    }
   ],
   "source": [
    "print (post_soup.prettify())[:1000]"
   ]
  },
  {
   "cell_type": "code",
   "execution_count": 210,
   "metadata": {
    "collapsed": false
   },
   "outputs": [
    {
     "data": {
      "text/plain": [
       "92"
      ]
     },
     "execution_count": 210,
     "metadata": {},
     "output_type": "execute_result"
    }
   ],
   "source": [
    "pa = post_soup.find_all('div', {'class', 'atl-item'})\n",
    "len(pa)"
   ]
  },
  {
   "cell_type": "code",
   "execution_count": 211,
   "metadata": {
    "collapsed": false
   },
   "outputs": [
    {
     "name": "stdout",
     "output_type": "stream",
     "text": [
      "<div _host=\"%E7%9C%9F%E6%AD%A3%E7%9A%84%E8%8B%B1%E9%9B%84%E6%98%AF%E7%BE%A4%E4%BC%97\" class=\"atl-item host-item\">\n",
      "<div class=\"atl-content\">\n",
      "<div class=\"atl-con-hd clearfix\">\n",
      "<div class=\"atl-con-hd-l\"></div>\n",
      "<div class=\"atl-con-hd-r\"></div>\n",
      "</div>\n",
      "<div class=\"atl-con-bd clearfix\">\n",
      "<div class=\"bbs-content clearfix\">\r\n",
      "\t\t\t\t\t\t\t　　刚看到网上一则《江西公务员“省考”疑被泄题 省人社厅已介入核实》消息，来自中国江西网 。江西省人社厅官方微博发布消息表示将核查，这么看难道<br/>　　消息属实，真的出现了公考笔试泄题情况？<br/>　　公务员考试是国家和各级地方政府招录、选拔人才的重要方式，其重要性和严肃性不容质疑。现行公务员进入必须经过“公考”这一关，这也是社会公平竞争的重要表现！作为公务员进入的门槛，社会公平竞争的重要手段，屡次爆料出现露题、泄题情况，国家也将公考等考试入刑，作弊、泄题、舞弊等行为将受到刑法的严惩！而在这种情况下，依然有大胆不怕者敢伸手动这块上帝的奶酪？<br/>　　可能有些人立即将矛头指向权贵阶层，认为是这些高官厚禄者，为了让自己的子女进入系统而采取特别手段。其实不然，当权者如果要运用手段让自己的子女进入，自有方法，不必如此铤而走险搞出如此大的动静，这是得不偿失啊！<br/>　　其实利益使然！近几年来，随着就业形势进一步严峻，而公务员稳定、旱涝保收的保障，对广大面临就业的毕业生来说，依然有着无与伦比的诱惑！对着这么庞大的考试群体，在很多人眼里就是块巨大金钱蛋糕！可能是出题者为牟利泄题，也可能是运送、监管等环节小喽啰泄题……都只是为了利益而不惜铤而走险。<br/>　　诸如高考、公考……这类还最能体现出社会公平竞争的方式，去破坏它的，最有可能还是天天喊着不公平不公正，却做着不公平不公正事的这类人，这才是社会真正的悲哀吧！<br/>\n",
      "</div>\n",
      "<div class=\"clearfix\" id=\"alt_action\"></div>\n",
      "<div class=\"clearfix\">\n",
      "<div class=\"host-data\">\n",
      "<span>楼主发言：64次</span> <span>发图：<a href=\"pic-free-5445260.shtml\">4张</a></span>\n",
      "</div>\n",
      "<div class=\"atl-reply\" id=\"alt_reply\">\r\n",
      "\t\t\t\t\t\t\t来自 <a _stat=\"/stat/bbs/post/来自\" class=\"a-link\" href=\"http://www.tianya.cn/mobile/\" rel=\"nofollow\" target=\"_blank\">天涯社区（微论）客户端</a> |\r\n",
      "\t\t\t\t\t\t\t<a author=\"真正的英雄是群众\" authorid=\"110539405\" class=\"reportme a-link\" href=\"javascript:void(0);\" replyid=\"0\" replytime=\"2016-04-24 08:08:00\"> 举报</a> | \r\n",
      "\t\t\t\t\t\t\t<a class=\"a-link acl-share\" href=\"javascript:void(0);\">分享</a> |  \r\n",
      "\t\t\t               \t<a class=\"a-link acl-more\" href=\"javascript:void(0);\">更多</a> |\r\n",
      "\t\t\t\t\t\t\t<span><a class=\"a-link\" name=\"0\">楼主</a></span>\n",
      "<a _name=\"真正的英雄是群众\" _time=\"2016-04-24 08:08:00\" class=\"a-link2 replytop\" href=\"#fabu_anchor\">回复</a>\n",
      "</div>\n",
      "</div>\n",
      "<div id=\"ds-quick-box\" style=\"display:none;\"></div>\n",
      "</div>\n",
      "<div class=\"atl-con-ft clearfix\">\n",
      "<div class=\"atl-con-ft-l\"></div>\n",
      "<div class=\"atl-con-ft-r\"></div>\n",
      "<div id=\"niuren_ifm\"></div>\n",
      "</div>\n",
      "</div>\n",
      "</div>\n"
     ]
    }
   ],
   "source": [
    "print pa[0]"
   ]
  },
  {
   "cell_type": "code",
   "execution_count": 212,
   "metadata": {
    "collapsed": false
   },
   "outputs": [
    {
     "name": "stdout",
     "output_type": "stream",
     "text": [
      "<div _host=\"%E7%9C%9F%E6%AD%A3%E7%9A%84%E8%8B%B1%E9%9B%84%E6%98%AF%E7%BE%A4%E4%BC%97\" class=\"atl-item\" id=\"1\" js_restime=\"2016-04-24 09:08:27\" js_username=\"%E7%9C%9F%E6%AD%A3%E7%9A%84%E8%8B%B1%E9%9B%84%E6%98%AF%E7%BE%A4%E4%BC%97\" replyid=\"132519747\">\n",
      "<div class=\"atl-head\" id=\"5c5daf56de5a1f4485d200e28777f9a2\">\n",
      "<div class=\"atl-head-reply\"></div>\n",
      "<div class=\"atl-info\">\n",
      "<span><strong class=\"host\">楼主</strong>：<a class=\"js-vip-check\" href=\"http://www.tianya.cn/110539405\" target=\"_blank\" uid=\"110539405\" uname=\"真正的英雄是群众\">真正的英雄是群众</a> </span>\n",
      "<span>时间：2016-04-24 09:08:27</span>\n",
      "</div>\n",
      "</div>\n",
      "<div class=\"atl-content\">\n",
      "<div class=\"atl-con-hd clearfix\">\n",
      "<div class=\"atl-con-hd-l\"></div>\n",
      "<div class=\"atl-con-hd-r\"></div>\n",
      "</div>\n",
      "<div class=\"atl-con-bd clearfix\">\n",
      "<div class=\"bbs-content\">\r\n",
      "\t\t\t\t\t\t\t　　发布了图片<br/>　　<img original=\"http://img3.laibafile.cn/p/m/247404956.jpg\" src=\"http://static.tianyaui.com/img/static/2011/imgloading.gif\" title=\"点击图片查看幻灯模式\"/><br/><br/>　　\r\n",
      "\t\t\t\t\t\t\t\r\n",
      "\t\t\t\t\t\t</div>\n",
      "<div class=\"atl-reply\">\r\n",
      "\t\t\t\t\t\t\t来自 <a _stat=\"/stat/bbs/post/来自\" class=\"a-link\" href=\"http://www.tianya.cn/mobile/\" rel=\"nofollow\" target=\"_blank\">天涯社区（微论）客户端</a> |\r\n",
      "\t\t\t\t\t\t\t<a author=\"真正的英雄是群众\" authorid=\"110539405\" class=\"reportme a-link\" href=\"javascript:void(0);\" replyid=\"132519747\" replytime=\"2016-04-24 09:08:27\">举报</a> |\r\n",
      "\t\t\t\t\t\t\t\t\t\t\t\t\t\t\r\n",
      "\t\t\t\t\t\t\t<span>1楼</span> |\r\n",
      "\t\t\t\t\t\t\t<a class=\"a-link-2 ir-shang\" floor=\"1\" href=\"javascript:void(0);\" title=\"打赏层主\">\r\n",
      "\t\t\t\t\t\t\t\t打赏\r\n",
      "\t\t\t\t\t\t\t</a> |\r\n",
      "\t\t\t\t\t\t\t<a class=\"a-link-2 reply\" href=\"#fabu_anchor\" title=\"引用回复\">回复</a> |\r\n",
      "\t\t\t\t\t\t\t<a _stat=\"/stat/bbs/post/评论\" class=\"a-link-2 ir-remark\" floor=\"1\" href=\"javascript:void(0);\" title=\"插入评论\">\r\n",
      "\t\t\t\t\t\t\t\t评论(7)\r\n",
      "\t\t\t\t\t\t\t</a>\n",
      "</div>\n",
      "<div class=\"item-reply-view\">\n",
      "<div class=\"ir-arrow\"></div>\n",
      "<div class=\"ir-list\">\n",
      "<ul>\n",
      "<li _replytime=\"2016-04-26 15:14:28\" _rid=\"318708\" _userid=\"110889856\" _username=\"u_110889856\" id=\"itemreply-318708\"> <!-- style=\"display:none\"-->\n",
      "<p>\n",
      "<a class=\"ir-user\" href=\"http://www.tianya.cn/110889856\" target=\"_blank\">\r\n",
      "\t                                        \tu_110889856：\r\n",
      "\t                                        </a>\n",
      "<span class=\"ir-power\">\n",
      "<a class=\"a-link ir-report\" href=\"javascript:void(0);\">举报</a> \r\n",
      "                                            </span>\n",
      "<span>2016-04-26 15:14:28</span> \r\n",
      "                                            <a class=\"a-link2 ir-reply\" href=\"javascript:void(0);\">评论</a>\n",
      "</p>\n",
      "<span class=\"ir-content\">我提个建议…希望楼主推广…这次考试行测凡是上了75的可以统计起来…然后让他们重考一次……如果他可以上60分…说运气好考到75也可能…如果在50分一下，我认为公安机关可以全部抓起来…必然可以调查出泄题的元凶……</span>\n",
      "</li>\n",
      "<li _replytime=\"2016-04-26 17:49:32\" _rid=\"319164\" _userid=\"72406868\" _username=\"不战而翔2012\" id=\"itemreply-319164\"> <!-- style=\"display:none\"-->\n",
      "<p>\n",
      "<a class=\"ir-user\" href=\"http://www.tianya.cn/72406868\" target=\"_blank\">\r\n",
      "\t                                        \t不战而翔2012：\r\n",
      "\t                                        </a>\n",
      "<span class=\"ir-power\">\n",
      "<a class=\"a-link ir-report\" href=\"javascript:void(0);\">举报</a> \r\n",
      "                                            </span>\n",
      "<span>2016-04-26 17:49:32</span> \r\n",
      "                                            <a class=\"a-link2 ir-reply\" href=\"javascript:void(0);\">评论</a>\n",
      "</p>\n",
      "<span class=\"ir-content\">评论 u_110889856：幼稚的建议。</span>\n",
      "</li>\n",
      "<li _replytime=\"2016-04-26 20:47:55\" _rid=\"319634\" _userid=\"108717183\" _username=\"归于田园\" id=\"itemreply-319634\" style=\"display:none\"> <!-- style=\"display:none\"-->\n",
      "<p>\n",
      "<a class=\"ir-user\" href=\"http://www.tianya.cn/108717183\" target=\"_blank\">\r\n",
      "\t                                        \t归于田园：\r\n",
      "\t                                        </a>\n",
      "<span class=\"ir-power\">\n",
      "<a class=\"a-link ir-report\" href=\"javascript:void(0);\">举报</a> \r\n",
      "                                            </span>\n",
      "<span>2016-04-26 20:47:55</span> \r\n",
      "                                            <a class=\"a-link2 ir-reply\" href=\"javascript:void(0);\">评论</a>\n",
      "</p>\n",
      "<span class=\"ir-content\">评论 <a href=\"http://www.tianya.cn/n/不战而翔2012\">不战而翔2012</a>：会有东西来抓你</span>\n",
      "</li>\n",
      "<li _replytime=\"2016-04-26 22:25:15\" _rid=\"319942\" _userid=\"88279555\" _username=\"公元前约书亚\" id=\"itemreply-319942\" style=\"display:none\"> <!-- style=\"display:none\"-->\n",
      "<p>\n",
      "<a class=\"ir-user\" href=\"http://www.tianya.cn/88279555\" target=\"_blank\">\r\n",
      "\t                                        \t公元前约书亚：\r\n",
      "\t                                        </a>\n",
      "<span class=\"ir-power\">\n",
      "<a class=\"a-link ir-report\" href=\"javascript:void(0);\">举报</a> \r\n",
      "                                            </span>\n",
      "<span>2016-04-26 22:25:15</span> \r\n",
      "                                            <a class=\"a-link2 ir-reply\" href=\"javascript:void(0);\">评论</a>\n",
      "</p>\n",
      "<span class=\"ir-content\">这不可能，25省联考几百万考生，太劳命伤财了，更加不公平！</span>\n",
      "</li>\n",
      "<li _replytime=\"2016-04-27 10:20:38\" _rid=\"320855\" _userid=\"111518205\" _username=\"arrowmanAK\" id=\"itemreply-320855\" style=\"display:none\"> <!-- style=\"display:none\"-->\n",
      "<p>\n",
      "<a class=\"ir-user\" href=\"http://www.tianya.cn/111518205\" target=\"_blank\">\r\n",
      "\t                                        \tarrowmanAK：\r\n",
      "\t                                        </a>\n",
      "<span class=\"ir-power\">\n",
      "<a class=\"a-link ir-report\" href=\"javascript:void(0);\">举报</a> \r\n",
      "                                            </span>\n",
      "<span>2016-04-27 10:20:38</span> \r\n",
      "                                            <a class=\"a-link2 ir-reply\" href=\"javascript:void(0);\">评论</a>\n",
      "</p>\n",
      "<span class=\"ir-content\">为什么他们都在看http://tieba.baidu.com/f?kw=%C5%BE%C5%BE%CF%F3&amp;fr=index</span>\n",
      "</li>\n",
      "</ul>\n",
      "</div>\n",
      "<div class=\"ir-action\">\n",
      "<div _index=\"1\" _pagecount=\"1\" class=\"ir-page\">\n",
      "<!-- 评论只有大于一页才显示首页、上下一页等 -->\n",
      "</div>\n",
      "<div class=\"ir-action-btn\">\n",
      "<span class=\"a-link ir-remain\">剩余<span _count=\"3\" class=\"ir-count\">\r\n",
      "                                \t\t3\r\n",
      "                                \t</span>条评论</span> \r\n",
      "                                \t<a _show=\"0\" class=\"a-link2 ir-showreply\" href=\"javascript:void(0);\">点击查看</a> \r\n",
      "                                \t\r\n",
      "                                    <span class=\"ir-action-add\">我要评论</span>\n",
      "</div>\n",
      "</div>\n",
      "</div>\n",
      "</div>\n",
      "<div class=\"atl-con-ft clearfix\">\n",
      "<div class=\"atl-con-ft-l\"></div>\n",
      "<div class=\"atl-con-ft-r\"></div>\n",
      "</div>\n",
      "</div>\n",
      "</div>\n"
     ]
    }
   ],
   "source": [
    "print pa[1]"
   ]
  },
  {
   "cell_type": "code",
   "execution_count": 213,
   "metadata": {
    "collapsed": false
   },
   "outputs": [
    {
     "name": "stdout",
     "output_type": "stream",
     "text": [
      "刚看到网上一则《江西公务员“省考”疑被泄题 省人社厅已介入核实》消息，来自中国江西网 。江西省人社厅官方微博发布消息表示将核查，这么看难道　　消息属实，真的出现了公考笔试泄题情况？　　公务员考试是国家和各级地方政府招录、选拔人才的重要方式，其重要性和严肃性不容质疑。现行公务员进入必须经过“公考”这一关，这也是社会公平竞争的重要表现！作为公务员进入的门槛，社会公平竞争的重要手段，屡次爆料出现露题、泄题情况，国家也将公考等考试入刑，作弊、泄题、舞弊等行为将受到刑法的严惩！而在这种情况下，依然有大胆不怕者敢伸手动这块上帝的奶酪？　　可能有些人立即将矛头指向权贵阶层，认为是这些高官厚禄者，为了让自己的子女进入系统而采取特别手段。其实不然，当权者如果要运用手段让自己的子女进入，自有方法，不必如此铤而走险搞出如此大的动静，这是得不偿失啊！　　其实利益使然！近几年来，随着就业形势进一步严峻，而公务员稳定、旱涝保收的保障，对广大面临就业的毕业生来说，依然有着无与伦比的诱惑！对着这么庞大的考试群体，在很多人眼里就是块巨大金钱蛋糕！可能是出题者为牟利泄题，也可能是运送、监管等环节小喽啰泄题……都只是为了利益而不惜铤而走险。　　诸如高考、公考……这类还最能体现出社会公平竞争的方式，去破坏它的，最有可能还是天天喊着不公平不公正，却做着不公平不公正事的这类人，这才是社会真正的悲哀吧！\n"
     ]
    }
   ],
   "source": [
    "print pa[0].find('div', {'class', 'bbs-content'}).text.strip()"
   ]
  },
  {
   "cell_type": "code",
   "execution_count": 217,
   "metadata": {
    "collapsed": false
   },
   "outputs": [
    {
     "name": "stdout",
     "output_type": "stream",
     "text": [
      "什么都出问题\n"
     ]
    }
   ],
   "source": [
    "print pa[5].find('div', {'class', 'bbs-content'}).text.strip()"
   ]
  },
  {
   "cell_type": "code",
   "execution_count": 218,
   "metadata": {
    "collapsed": false
   },
   "outputs": [
    {
     "data": {
      "text/plain": [
       "<a class=\"js-vip-check\" href=\"http://www.tianya.cn/110539405\" target=\"_blank\" uid=\"110539405\" uname=\"真正的英雄是群众\">真正的英雄是群众</a>"
      ]
     },
     "execution_count": 218,
     "metadata": {},
     "output_type": "execute_result"
    }
   ],
   "source": [
    "pa[1].a"
   ]
  },
  {
   "cell_type": "code",
   "execution_count": 219,
   "metadata": {
    "collapsed": false
   },
   "outputs": [
    {
     "name": "stdout",
     "output_type": "stream",
     "text": [
      "<a author=\"真正的英雄是群众\" authorid=\"110539405\" class=\"reportme a-link\" href=\"javascript:void(0);\" replyid=\"0\" replytime=\"2016-04-24 08:08:00\"> 举报</a>\n"
     ]
    }
   ],
   "source": [
    "print pa[0].find('a', class_ = 'reportme a-link')"
   ]
  },
  {
   "cell_type": "code",
   "execution_count": 220,
   "metadata": {
    "collapsed": false
   },
   "outputs": [
    {
     "name": "stdout",
     "output_type": "stream",
     "text": [
      "2016-04-24 08:08:00\n"
     ]
    }
   ],
   "source": [
    "print pa[0].find('a', class_ = 'reportme a-link')['replytime']"
   ]
  },
  {
   "cell_type": "code",
   "execution_count": 221,
   "metadata": {
    "collapsed": false
   },
   "outputs": [
    {
     "name": "stdout",
     "output_type": "stream",
     "text": [
      "真正的英雄是群众\n"
     ]
    }
   ],
   "source": [
    "print pa[0].find('a', class_ = 'reportme a-link')['author']"
   ]
  },
  {
   "cell_type": "code",
   "execution_count": 222,
   "metadata": {
    "collapsed": false
   },
   "outputs": [
    {
     "name": "stdout",
     "output_type": "stream",
     "text": [
      "2016-04-24 08:08:00 ---> 110539405 ---> 真正的英雄是群众 ---> 刚看到网上一则《江西公务员“省考”疑被泄题 省人社厅已介入核实》消息，来自中国江西网 。江西省人社厅官方微博发布消息表示将核查，这么看难道　　消息属实，真的出现了公考笔试泄题情况？　　公务员考试是国家和各级地方政府招录、选拔人才的重要方式，其重要性和严肃性不容质疑。现行公务员进入必须经过“公考”这一关，这也是社会公平竞争的重要表现！作为公务员进入的门槛，社会公平竞争的重要手段，屡次爆料出现露题、泄题情况，国家也将公考等考试入刑，作弊、泄题、舞弊等行为将受到刑法的严惩！而在这种情况下，依然有大胆不怕者敢伸手动这块上帝的奶酪？　　可能有些人立即将矛头指向权贵阶层，认为是这些高官厚禄者，为了让自己的子女进入系统而采取特别手段。其实不然，当权者如果要运用手段让自己的子女进入，自有方法，不必如此铤而走险搞出如此大的动静，这是得不偿失啊！　　其实利益使然！近几年来，随着就业形势进一步严峻，而公务员稳定、旱涝保收的保障，对广大面临就业的毕业生来说，依然有着无与伦比的诱惑！对着这么庞大的考试群体，在很多人眼里就是块巨大金钱蛋糕！可能是出题者为牟利泄题，也可能是运送、监管等环节小喽啰泄题……都只是为了利益而不惜铤而走险。　　诸如高考、公考……这类还最能体现出社会公平竞争的方式，去破坏它的，最有可能还是天天喊着不公平不公正，却做着不公平不公正事的这类人，这才是社会真正的悲哀吧！ \n",
      "\n",
      "2016-04-24 09:08:27 ---> 110539405 ---> 真正的英雄是群众 ---> 发布了图片 \n",
      "\n",
      "2016-04-24 09:20:51 ---> 110539405 ---> 真正的英雄是群众 ---> 据江西省人力资源和社会保障厅官方微博消息，称有网友和考生反映2016年江西公务员“省考”笔试考试出现泄题情况。江西省人社厅高度重视，正在对有关情况进行核实。　　据媒体报道，23日是江西省公务员考试时间，但考试结束没多久，就陆续有考生及网友反映出现泄题情况，晚上21时25分，江西省人社厅通过官方微博发布消息表示，正在核实有关情况。 \n",
      "\n",
      "2016-04-24 09:21:46 ---> 110539405 ---> 真正的英雄是群众 ---> 【网曝2016公务员省考笔试泄题】今天，有多位网友反映，2016年多省公务员省考笔试泄题，其中包括江西省考在内。申论一考完，就有人在考点外散发行测答案。@江西省人社厅 表示对此事高度重视，正在对有关情况进行核实。　　中国江西网讯报道：23日晚9时26分，江西省人社厅官方微博@发布消息，称接到网友和考生反映，今年江西省公务员考试出现泄题，目前人社厅已介入核查。　　23日是江西省公务员考试时间，但考试结束没多久，就陆续有考生及网友反映出现泄题情况，晚上9时26分，江西省人社厅在综合收集考生及网友网友反映的情况后，通过官方微博发布消息表示，网友和考生反映今年江西公务员“省考”笔试考试出现泄题情况。江西省人社厅高度重视，正在对有关情况进行核实。　　根据一公务员培训机构统计，昨日全国共有26个省（市、自治区）举行公务员笔试，总报名人数达到409.5万，堪称最大规模公务员考试。 \n",
      "\n",
      "2016-04-24 09:22:47 ---> 110539405 ---> 真正的英雄是群众 --->  \n",
      "\n",
      "2016-04-24 10:00:44 ---> 110539405 ---> 真正的英雄是群众 ---> 什么都出问题 \n",
      "\n",
      "2016-04-24 10:26:50 ---> 105139244 ---> 三公九卿的卿 ---> 刚还在想为什么没人说这个事，不要天天关心明星那些个什么事了 \n",
      "\n",
      "2016-04-24 10:42:05 ---> 110539405 ---> 真正的英雄是群众 ---> 悲 \n",
      "\n",
      "2016-04-24 11:15:43 ---> 110539405 ---> 真正的英雄是群众 ---> 哎 \n",
      "\n",
      "2016-04-24 12:00:43 ---> 109225087 ---> u_109225087 ---> 对于那些备考一年多的人，全指着这条路翻身的人无疑是巨大的打击。 \n",
      "\n"
     ]
    }
   ],
   "source": [
    "for i in pa[:10]:\n",
    "    p_info = i.find('a', class_ = 'reportme a-link')\n",
    "    p_time = p_info['replytime']\n",
    "    p_author_id = p_info['authorid']\n",
    "    p_author_name = p_info['author']\n",
    "    p_content = i.find('div', {'class', 'bbs-content'}).text.strip()\n",
    "    p_content = p_content.replace('\\t', '')\n",
    "    print p_time, '--->', p_author_id, '--->', p_author_name,'--->', p_content, '\\n'"
   ]
  },
  {
   "cell_type": "markdown",
   "metadata": {},
   "source": [
    "##翻页"
   ]
  },
  {
   "cell_type": "code",
   "execution_count": 223,
   "metadata": {
    "collapsed": false
   },
   "outputs": [
    {
     "data": {
      "text/plain": [
       "<div class=\"atl-pages\"><form action=\"\" method=\"get\" onsubmit=\"return goPage(this,'free',5445260,4);\">\n",
       "<span>上页</span>\n",
       "<strong>1</strong>\n",
       "<a href=\"/post-free-5445260-2.shtml\">2</a>\n",
       "<a href=\"/post-free-5445260-3.shtml\">3</a>\n",
       "<a href=\"/post-free-5445260-4.shtml\">4</a>\n",
       "<a class=\"js-keyboard-next\" href=\"/post-free-5445260-2.shtml\">下页</a>\n",
       " 到<input class=\"pagetxt\" name=\"page\" type=\"text\"/>页 <input class=\"pagebtn\" maxlength=\"6\" name=\"gopage\" type=\"submit\" value=\"确定\"/></form></div>"
      ]
     },
     "execution_count": 223,
     "metadata": {},
     "output_type": "execute_result"
    }
   ],
   "source": [
    "post_soup.find('div', {'class', 'atl-pages'})#['onsubmit']"
   ]
  },
  {
   "cell_type": "code",
   "execution_count": 224,
   "metadata": {
    "collapsed": false
   },
   "outputs": [
    {
     "data": {
      "text/plain": [
       "'4'"
      ]
     },
     "execution_count": 224,
     "metadata": {},
     "output_type": "execute_result"
    }
   ],
   "source": [
    "post_pages = post_soup.find('div', {'class', 'atl-pages'})\n",
    "post_pages = post_pages.form['onsubmit'].split(',')[-1].split(')')[0]\n",
    "post_pages"
   ]
  },
  {
   "cell_type": "code",
   "execution_count": 225,
   "metadata": {
    "collapsed": false
   },
   "outputs": [
    {
     "data": {
      "text/plain": [
       "'http://bbs.tianya.cn/postfree5447038-%d.shtml'"
      ]
     },
     "execution_count": 225,
     "metadata": {},
     "output_type": "execute_result"
    }
   ],
   "source": [
    "url = 'http://bbs.tianya.cn' + df.link[2]\n",
    "url_base = ''.join(url.split('-')[:-1]) + '-%d.shtml'\n",
    "url_base"
   ]
  },
  {
   "cell_type": "code",
   "execution_count": 226,
   "metadata": {
    "collapsed": true
   },
   "outputs": [],
   "source": [
    "def parsePage(pa):\n",
    "    records = []\n",
    "    for i in pa:\n",
    "        p_info = i.find('a', class_ = 'reportme a-link')\n",
    "        p_time = p_info['replytime']\n",
    "        p_author_id = p_info['authorid']\n",
    "        p_author_name = p_info['author']\n",
    "        p_content = i.find('div', {'class', 'bbs-content'}).text.strip()\n",
    "        p_content = p_content.replace('\\t', '').replace('\\n', '')#.replace(' ', '')\n",
    "        record = p_time + '\\t' + p_author_id+ '\\t' + p_author_name + '\\t'+ p_content\n",
    "        records.append(record)\n",
    "    return records\n",
    "\n",
    "import sys\n",
    "def flushPrint(s):\n",
    "    sys.stdout.write('\\r')\n",
    "    sys.stdout.write('%s' % s)\n",
    "    sys.stdout.flush()"
   ]
  },
  {
   "cell_type": "code",
   "execution_count": 227,
   "metadata": {
    "collapsed": false
   },
   "outputs": [
    {
     "data": {
      "text/plain": [
       "<div class=\"atl-pages\"><form action=\"\" method=\"get\" onsubmit=\"return goPage(this,'free',5445260,4);\">\n",
       "<span>上页</span>\n",
       "<strong>1</strong>\n",
       "<a href=\"/post-free-5445260-2.shtml\">2</a>\n",
       "<a href=\"/post-free-5445260-3.shtml\">3</a>\n",
       "<a href=\"/post-free-5445260-4.shtml\">4</a>\n",
       "<a class=\"js-keyboard-next\" href=\"/post-free-5445260-2.shtml\">下页</a>\n",
       " 到<input class=\"pagetxt\" name=\"page\" type=\"text\"/>页 <input class=\"pagebtn\" maxlength=\"6\" name=\"gopage\" type=\"submit\" value=\"确定\"/></form></div>"
      ]
     },
     "execution_count": 227,
     "metadata": {},
     "output_type": "execute_result"
    }
   ],
   "source": [
    "url_1 = 'http://bbs.tianya.cn' + df.link[10]\n",
    "content = urllib2.urlopen(url_1).read() #获取网页的html文本\n",
    "post_soup = BeautifulSoup(content, \"lxml\") \n",
    "pa = post_soup.find_all('div', {'class', 'atl-item'})\n",
    "b = post_soup.find('div', class_= 'atl-pages')\n",
    "b"
   ]
  },
  {
   "cell_type": "code",
   "execution_count": 228,
   "metadata": {
    "collapsed": false
   },
   "outputs": [
    {
     "data": {
      "text/plain": [
       "<div class=\"atl-pages host-pages\"></div>"
      ]
     },
     "execution_count": 228,
     "metadata": {},
     "output_type": "execute_result"
    }
   ],
   "source": [
    "url_1 = 'http://bbs.tianya.cn' + df.link[0]\n",
    "content = urllib2.urlopen(url_1).read() #获取网页的html文本\n",
    "post_soup = BeautifulSoup(content, \"lxml\") \n",
    "pa = post_soup.find_all('div', {'class', 'atl-item'})\n",
    "a = post_soup.find('div', {'class', 'atl-pages'})\n",
    "a"
   ]
  },
  {
   "cell_type": "code",
   "execution_count": 230,
   "metadata": {
    "collapsed": true
   },
   "outputs": [],
   "source": [
    "a.form"
   ]
  },
  {
   "cell_type": "code",
   "execution_count": 231,
   "metadata": {
    "collapsed": false
   },
   "outputs": [
    {
     "name": "stdout",
     "output_type": "stream",
     "text": [
      "true\n"
     ]
    }
   ],
   "source": [
    "if b.form:\n",
    "    print 'true'\n",
    "else:\n",
    "    print 'false'"
   ]
  },
  {
   "cell_type": "code",
   "execution_count": 232,
   "metadata": {
    "collapsed": true
   },
   "outputs": [],
   "source": [
    "import random\n",
    "import time\n",
    "\n",
    "def crawler(url, file_name):\n",
    "    try:\n",
    "        # open the browser\n",
    "        url_1 = 'http://bbs.tianya.cn' + url\n",
    "        content = urllib2.urlopen(url_1).read() #获取网页的html文本\n",
    "        post_soup = BeautifulSoup(content, \"lxml\") \n",
    "        # how many pages in a post\n",
    "        post_form = post_soup.find('div', {'class', 'atl-pages'})\n",
    "        if post_form.form:\n",
    "            post_pages = post_form.form['onsubmit'].split(',')[-1].split(')')[0]\n",
    "            post_pages = int(post_pages)\n",
    "            url_base = '-'.join(url_1.split('-')[:-1]) + '-%d.shtml'\n",
    "        else:\n",
    "            post_pages = 1\n",
    "        # for the first page\n",
    "        pa = post_soup.find_all('div', {'class', 'atl-item'})\n",
    "        records = parsePage(pa)\n",
    "        with open(file_name,'a') as p: # '''Note'''：Ａppend mode, run only once!\n",
    "            for record in records:    \n",
    "                p.write('1'+ '\\t' + url + '\\t' + record.encode('utf-8')+\"\\n\") \n",
    "        # for the 2nd+ pages\n",
    "        if post_pages > 1:\n",
    "            for page_num in range(2, post_pages+1):\n",
    "                time.sleep(random.random())\n",
    "                flushPrint(page_num)\n",
    "                url2 =url_base  % page_num\n",
    "                content = urllib2.urlopen(url2).read() #获取网页的html文本\n",
    "                post_soup = BeautifulSoup(content, \"lxml\") \n",
    "                pa = post_soup.find_all('div', {'class', 'atl-item'})\n",
    "                records = parsePage(pa)\n",
    "                with open(file_name,'a') as p: # '''Note'''：Ａppend mode, run only once!\n",
    "                    for record in records:    \n",
    "                        p.write(str(page_num) + '\\t' +url + '\\t' + record.encode('utf-8')+\"\\n\") \n",
    "        else:\n",
    "            pass\n",
    "    except Exception, e:\n",
    "        print e\n",
    "        pass"
   ]
  },
  {
   "cell_type": "code",
   "execution_count": 233,
   "metadata": {
    "collapsed": false
   },
   "outputs": [
    {
     "name": "stdout",
     "output_type": "stream",
     "text": [
      "/post-free-5447904-1.shtmlThis it the post of : 0\n",
      "/post-free-5445260-1.shtmlThis it the post of : 10\n",
      "/post-free-5347874-1.shtmlThis it the post of : 20\n",
      "/post-free-5049529-1.shtmlThis it the post of : 30\n",
      "/post-free-4088693-1.shtmlThis it the post of : 40\n",
      "/post-free-5447904-1.shtmlThis it the post of : 50\n",
      "/post-free-5445260-1.shtmlThis it the post of : 60\n",
      "/post-free-5347874-1.shtmlThis it the post of : 70\n",
      "/post-free-5049529-1.shtmlThis it the post of : 80\n",
      "/post-free-4088693-1.shtmlThis it the post of : 90\n",
      "/post-free-5447904-1.shtmlThis it the post of : 100\n",
      "/post-free-5445260-1.shtmlThis it the post of : 110\n",
      "/post-free-5347874-1.shtmlThis it the post of : 120\n",
      "/post-free-5049529-1.shtmlThis it the post of : 130\n",
      "/post-free-4088693-1.shtmlThis it the post of : 140\n",
      "/post-free-5447904-1.shtmlThis it the post of : 150\n",
      "/post-free-5445260-1.shtmlThis it the post of : 160\n",
      "/post-free-5347874-1.shtmlThis it the post of : 170\n",
      "/post-free-5049529-1.shtmlThis it the post of : 180\n",
      "/post-free-4088693-1.shtmlThis it the post of : 190\n",
      "/post-free-5447904-1.shtmlThis it the post of : 200\n",
      "/post-free-5445260-1.shtmlThis it the post of : 210\n",
      "/post-free-5347874-1.shtmlThis it the post of : 220\n",
      "/post-free-5049529-1.shtmlThis it the post of : 230\n",
      "/post-free-4088693-1.shtmlThis it the post of : 240\n",
      "/post-free-5447904-1.shtmlThis it the post of : 250\n",
      "/post-free-5445260-1.shtmlThis it the post of : 260\n",
      "/post-free-5347874-1.shtmlThis it the post of : 270\n",
      "/post-free-5049529-1.shtmlThis it the post of : 280\n",
      "/post-free-4088693-1.shtmlThis it the post of : 290\n",
      "/post-free-5447904-1.shtmlThis it the post of : 300\n",
      "/post-free-5445260-1.shtmlThis it the post of : 310\n",
      "/post-free-5347874-1.shtmlThis it the post of : 320\n",
      "/post-free-5049529-1.shtmlThis it the post of : 330\n",
      "/post-free-4088693-1.shtmlThis it the post of : 340\n",
      "/post-free-5447904-1.shtmlThis it the post of : 350\n",
      "/post-free-5445260-1.shtmlThis it the post of : 360\n",
      "/post-free-5347874-1.shtmlThis it the post of : 370\n",
      "/post-free-5049529-1.shtmlThis it the post of : 380\n",
      "/post-free-4088693-1.shtmlThis it the post of : 390\n",
      "/post-free-5447904-1.shtmlThis it the post of : 400\n",
      "/post-free-5445260-1.shtmlThis it the post of : 410\n",
      "/post-free-5347874-1.shtmlThis it the post of : 420\n",
      "/post-free-5049529-1.shtmlThis it the post of : 430\n",
      "/post-free-4088693-1.shtmlThis it the post of : 440\n",
      "/post-free-5447904-1.shtmlThis it the post of : 450\n",
      "/post-free-5445260-1.shtmlThis it the post of : 460\n",
      "/post-free-5347874-1.shtmlThis it the post of : 470\n",
      "/post-free-5049529-1.shtmlThis it the post of : 480\n",
      "/post-free-4088693-1.shtmlThis it the post of : 490\n",
      "/post-free-3360970-1.shtml"
     ]
    }
   ],
   "source": [
    "for k, link in enumerate(df.link):\n",
    "    flushPrint(link)\n",
    "    if k % 10== 0:\n",
    "        print 'This it the post of : ' + str(k)\n",
    "    file_name = 'D:/Data/homework/tianya_bbs_huitie.txt'\n",
    "    crawler(link, file_name)"
   ]
  },
  {
   "cell_type": "code",
   "execution_count": 234,
   "metadata": {
    "collapsed": false
   },
   "outputs": [
    {
     "data": {
      "text/plain": [
       "7590"
      ]
     },
     "execution_count": 234,
     "metadata": {},
     "output_type": "execute_result"
    }
   ],
   "source": [
    "dtt = []\n",
    "with open('D:/Data/homework/tianya_bbs_huitie.txt', 'r') as f:\n",
    "    for line in f:\n",
    "        pnum, link, time, author_id, author, content = line.replace('\\n', '').split('\\t')\n",
    "        dtt.append([pnum, link, time, author_id, author, content])\n",
    "len(dtt)"
   ]
  },
  {
   "cell_type": "code",
   "execution_count": 239,
   "metadata": {
    "collapsed": false
   },
   "outputs": [
    {
     "data": {
      "text/html": [
       "<div>\n",
       "<table border=\"1\" class=\"dataframe\">\n",
       "  <thead>\n",
       "    <tr style=\"text-align: right;\">\n",
       "      <th></th>\n",
       "      <th>0</th>\n",
       "      <th>1</th>\n",
       "      <th>2</th>\n",
       "      <th>3</th>\n",
       "      <th>4</th>\n",
       "      <th>5</th>\n",
       "    </tr>\n",
       "  </thead>\n",
       "  <tbody>\n",
       "    <tr>\n",
       "      <th>0</th>\n",
       "      <td>1</td>\n",
       "      <td>/post-free-5447904-1.shtml</td>\n",
       "      <td>2016-04-26 22:30:00</td>\n",
       "      <td>109727900</td>\n",
       "      <td>清醒如梦</td>\n",
       "      <td>423联考，26个省份统一联考。410万人报考。　　当天晚上即有微博发文称泄题，于是在网上掀...</td>\n",
       "    </tr>\n",
       "    <tr>\n",
       "      <th>1</th>\n",
       "      <td>1</td>\n",
       "      <td>/post-free-5447904-1.shtml</td>\n",
       "      <td>2016-04-26 22:32:29</td>\n",
       "      <td>109727900</td>\n",
       "      <td>清醒如梦</td>\n",
       "      <td>一只鸵鸟，两只鸵鸟，一大群鸵鸟。　　@华图教育，老师请解答下上面的推断题。</td>\n",
       "    </tr>\n",
       "    <tr>\n",
       "      <th>2</th>\n",
       "      <td>1</td>\n",
       "      <td>/post-free-5447904-1.shtml</td>\n",
       "      <td>2016-04-27 08:25:16</td>\n",
       "      <td>109727900</td>\n",
       "      <td>清醒如梦</td>\n",
       "      <td>大天涯竟然没人关注，大家都认为鸵鸟是应该的么。。。</td>\n",
       "    </tr>\n",
       "    <tr>\n",
       "      <th>3</th>\n",
       "      <td>1</td>\n",
       "      <td>/post-free-5447336-1.shtml</td>\n",
       "      <td>2016-04-26 11:59:00</td>\n",
       "      <td>111109175</td>\n",
       "      <td>宝安传奇</td>\n",
       "      <td>古人云“大道之行，天下为公，选贤与能，讲信修睦”。公平和公正，是历代王朝选拔人才的金科玉律，...</td>\n",
       "    </tr>\n",
       "    <tr>\n",
       "      <th>4</th>\n",
       "      <td>1</td>\n",
       "      <td>/post-free-5447038-1.shtml</td>\n",
       "      <td>2016-04-26 09:30:00</td>\n",
       "      <td>105699775</td>\n",
       "      <td>穆穆有点木123</td>\n",
       "      <td>年龄也很大了，想要安慰读书或者有个稳定的工作，看来真的很的很难。　　4月23日，全国26个省...</td>\n",
       "    </tr>\n",
       "  </tbody>\n",
       "</table>\n",
       "</div>"
      ],
      "text/plain": [
       "   0                           1                    2          3         4  \\\n",
       "0  1  /post-free-5447904-1.shtml  2016-04-26 22:30:00  109727900      清醒如梦   \n",
       "1  1  /post-free-5447904-1.shtml  2016-04-26 22:32:29  109727900      清醒如梦   \n",
       "2  1  /post-free-5447904-1.shtml  2016-04-27 08:25:16  109727900      清醒如梦   \n",
       "3  1  /post-free-5447336-1.shtml  2016-04-26 11:59:00  111109175      宝安传奇   \n",
       "4  1  /post-free-5447038-1.shtml  2016-04-26 09:30:00  105699775  穆穆有点木123   \n",
       "\n",
       "                                                   5  \n",
       "0  423联考，26个省份统一联考。410万人报考。　　当天晚上即有微博发文称泄题，于是在网上掀...  \n",
       "1              一只鸵鸟，两只鸵鸟，一大群鸵鸟。　　@华图教育，老师请解答下上面的推断题。  \n",
       "2                          大天涯竟然没人关注，大家都认为鸵鸟是应该的么。。。  \n",
       "3  古人云“大道之行，天下为公，选贤与能，讲信修睦”。公平和公正，是历代王朝选拔人才的金科玉律，...  \n",
       "4  年龄也很大了，想要安慰读书或者有个稳定的工作，看来真的很的很难。　　4月23日，全国26个省...  "
      ]
     },
     "execution_count": 239,
     "metadata": {},
     "output_type": "execute_result"
    }
   ],
   "source": [
    "dt = pd.DataFrame(dtt)\n",
    "dt[:5]"
   ]
  },
  {
   "cell_type": "code",
   "execution_count": 236,
   "metadata": {
    "collapsed": false
   },
   "outputs": [
    {
     "data": {
      "text/html": [
       "<div>\n",
       "<table border=\"1\" class=\"dataframe\">\n",
       "  <thead>\n",
       "    <tr style=\"text-align: right;\">\n",
       "      <th></th>\n",
       "      <th>page_num</th>\n",
       "      <th>link</th>\n",
       "      <th>time</th>\n",
       "      <th>author</th>\n",
       "      <th>author_name</th>\n",
       "      <th>reply</th>\n",
       "    </tr>\n",
       "  </thead>\n",
       "  <tbody>\n",
       "    <tr>\n",
       "      <th>0</th>\n",
       "      <td>1</td>\n",
       "      <td>/post-free-5447904-1.shtml</td>\n",
       "      <td>2016-04-26 22:30:00</td>\n",
       "      <td>109727900</td>\n",
       "      <td>清醒如梦</td>\n",
       "      <td>423联考，26个省份统一联考。410万人报考。　　当天晚上即有微博发文称泄题，于是在网上掀...</td>\n",
       "    </tr>\n",
       "    <tr>\n",
       "      <th>1</th>\n",
       "      <td>1</td>\n",
       "      <td>/post-free-5447904-1.shtml</td>\n",
       "      <td>2016-04-26 22:32:29</td>\n",
       "      <td>109727900</td>\n",
       "      <td>清醒如梦</td>\n",
       "      <td>一只鸵鸟，两只鸵鸟，一大群鸵鸟。　　@华图教育，老师请解答下上面的推断题。</td>\n",
       "    </tr>\n",
       "    <tr>\n",
       "      <th>2</th>\n",
       "      <td>1</td>\n",
       "      <td>/post-free-5447904-1.shtml</td>\n",
       "      <td>2016-04-27 08:25:16</td>\n",
       "      <td>109727900</td>\n",
       "      <td>清醒如梦</td>\n",
       "      <td>大天涯竟然没人关注，大家都认为鸵鸟是应该的么。。。</td>\n",
       "    </tr>\n",
       "    <tr>\n",
       "      <th>3</th>\n",
       "      <td>1</td>\n",
       "      <td>/post-free-5447336-1.shtml</td>\n",
       "      <td>2016-04-26 11:59:00</td>\n",
       "      <td>111109175</td>\n",
       "      <td>宝安传奇</td>\n",
       "      <td>古人云“大道之行，天下为公，选贤与能，讲信修睦”。公平和公正，是历代王朝选拔人才的金科玉律，...</td>\n",
       "    </tr>\n",
       "    <tr>\n",
       "      <th>4</th>\n",
       "      <td>1</td>\n",
       "      <td>/post-free-5447038-1.shtml</td>\n",
       "      <td>2016-04-26 09:30:00</td>\n",
       "      <td>105699775</td>\n",
       "      <td>穆穆有点木123</td>\n",
       "      <td>年龄也很大了，想要安慰读书或者有个稳定的工作，看来真的很的很难。　　4月23日，全国26个省...</td>\n",
       "    </tr>\n",
       "  </tbody>\n",
       "</table>\n",
       "</div>"
      ],
      "text/plain": [
       "  page_num                        link                 time     author  \\\n",
       "0        1  /post-free-5447904-1.shtml  2016-04-26 22:30:00  109727900   \n",
       "1        1  /post-free-5447904-1.shtml  2016-04-26 22:32:29  109727900   \n",
       "2        1  /post-free-5447904-1.shtml  2016-04-27 08:25:16  109727900   \n",
       "3        1  /post-free-5447336-1.shtml  2016-04-26 11:59:00  111109175   \n",
       "4        1  /post-free-5447038-1.shtml  2016-04-26 09:30:00  105699775   \n",
       "\n",
       "  author_name                                              reply  \n",
       "0        清醒如梦  423联考，26个省份统一联考。410万人报考。　　当天晚上即有微博发文称泄题，于是在网上掀...  \n",
       "1        清醒如梦              一只鸵鸟，两只鸵鸟，一大群鸵鸟。　　@华图教育，老师请解答下上面的推断题。  \n",
       "2        清醒如梦                          大天涯竟然没人关注，大家都认为鸵鸟是应该的么。。。  \n",
       "3        宝安传奇  古人云“大道之行，天下为公，选贤与能，讲信修睦”。公平和公正，是历代王朝选拔人才的金科玉律，...  \n",
       "4    穆穆有点木123  年龄也很大了，想要安慰读书或者有个稳定的工作，看来真的很的很难。　　4月23日，全国26个省...  "
      ]
     },
     "execution_count": 236,
     "metadata": {},
     "output_type": "execute_result"
    }
   ],
   "source": [
    "dt=dt.rename(columns = {0:'page_num', 1:'link', 2:'time', 3:'author',4:'author_name', 5:'reply'})\n",
    "dt[:5]"
   ]
  }
 ],
 "metadata": {
  "kernelspec": {
   "display_name": "Python 2",
   "language": "python",
   "name": "python2"
  },
  "language_info": {
   "codemirror_mode": {
    "name": "ipython",
    "version": 2
   },
   "file_extension": ".py",
   "mimetype": "text/x-python",
   "name": "python",
   "nbconvert_exporter": "python",
   "pygments_lexer": "ipython2",
   "version": "2.7.10"
  }
 },
 "nbformat": 4,
 "nbformat_minor": 0
}
